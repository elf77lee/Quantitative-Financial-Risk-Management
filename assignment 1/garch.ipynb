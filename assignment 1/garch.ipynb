{
 "cells": [
  {
   "cell_type": "code",
   "metadata": {
    "tags": [],
    "cell_id": "00000-c8faa59a-d1ed-42e9-8605-5d9050de2643",
    "deepnote_to_be_reexecuted": false,
    "source_hash": "72f40e24",
    "execution_start": 1618906345718,
    "execution_millis": 9269,
    "deepnote_cell_type": "code"
   },
   "source": "!pip install arch==4.19",
   "execution_count": null,
   "outputs": [
    {
     "name": "stdout",
     "text": "Collecting arch==4.19\n  Downloading arch-4.19-cp37-cp37m-manylinux1_x86_64.whl (807 kB)\n\u001b[K     |████████████████████████████████| 807 kB 16.8 MB/s \n\u001b[?25hCollecting property-cached>=1.6.4\n  Downloading property_cached-1.6.4-py2.py3-none-any.whl (7.8 kB)\nRequirement already satisfied: numpy>=1.14 in /shared-libs/python3.7/py/lib/python3.7/site-packages (from arch==4.19) (1.19.5)\nRequirement already satisfied: scipy>=1.2.3 in /shared-libs/python3.7/py/lib/python3.7/site-packages (from arch==4.19) (1.6.2)\nCollecting cython>=0.29.14\n  Downloading Cython-0.29.23-cp37-cp37m-manylinux1_x86_64.whl (2.0 MB)\n\u001b[K     |████████████████████████████████| 2.0 MB 75.6 MB/s \n\u001b[?25hCollecting statsmodels>=0.10\n  Downloading statsmodels-0.12.2-cp37-cp37m-manylinux1_x86_64.whl (9.5 MB)\n\u001b[K     |████████████████████████████████| 9.5 MB 51.6 MB/s \n\u001b[?25hRequirement already satisfied: pandas>=0.23 in /shared-libs/python3.7/py/lib/python3.7/site-packages (from arch==4.19) (1.2.4)\nRequirement already satisfied: python-dateutil>=2.7.3 in /shared-libs/python3.7/py-core/lib/python3.7/site-packages (from pandas>=0.23->arch==4.19) (2.8.1)\nRequirement already satisfied: pytz>=2017.3 in /shared-libs/python3.7/py/lib/python3.7/site-packages (from pandas>=0.23->arch==4.19) (2021.1)\nRequirement already satisfied: six>=1.5 in /shared-libs/python3.7/py-core/lib/python3.7/site-packages (from python-dateutil>=2.7.3->pandas>=0.23->arch==4.19) (1.15.0)\nCollecting patsy>=0.5\n  Downloading patsy-0.5.1-py2.py3-none-any.whl (231 kB)\n\u001b[K     |████████████████████████████████| 231 kB 75.7 MB/s \n\u001b[?25hInstalling collected packages: patsy, statsmodels, property-cached, cython, arch\nSuccessfully installed arch-4.19 cython-0.29.23 patsy-0.5.1 property-cached-1.6.4 statsmodels-0.12.2\n",
     "output_type": "stream"
    }
   ]
  },
  {
   "cell_type": "code",
   "metadata": {
    "tags": [],
    "cell_id": "00001-1cd70b93-3085-4467-9239-89e32872aede",
    "deepnote_to_be_reexecuted": false,
    "source_hash": "b6a963f",
    "execution_start": 1618906361621,
    "execution_millis": 5715,
    "deepnote_cell_type": "code"
   },
   "source": "!pip install investpy==1.0.6",
   "execution_count": null,
   "outputs": [
    {
     "name": "stdout",
     "text": "Collecting investpy==1.0.6\n  Downloading investpy-1.0.6.tar.gz (4.4 MB)\n\u001b[K     |████████████████████████████████| 4.4 MB 19.7 MB/s \n\u001b[?25hCollecting Unidecode>=1.1.1\n  Downloading Unidecode-1.2.0-py2.py3-none-any.whl (241 kB)\n\u001b[K     |████████████████████████████████| 241 kB 69.3 MB/s \n\u001b[?25hRequirement already satisfied: setuptools>=41.2.0 in /root/venv/lib/python3.7/site-packages (from investpy==1.0.6) (54.1.2)\nRequirement already satisfied: numpy>=1.17.2 in /shared-libs/python3.7/py/lib/python3.7/site-packages (from investpy==1.0.6) (1.19.5)\nRequirement already satisfied: pandas>=0.25.1 in /shared-libs/python3.7/py/lib/python3.7/site-packages (from investpy==1.0.6) (1.2.4)\nRequirement already satisfied: lxml>=4.4.1 in /shared-libs/python3.7/py/lib/python3.7/site-packages (from investpy==1.0.6) (4.6.3)\nRequirement already satisfied: requests>=2.22.0 in /shared-libs/python3.7/py/lib/python3.7/site-packages (from investpy==1.0.6) (2.25.1)\nRequirement already satisfied: pytz>=2019.3 in /shared-libs/python3.7/py/lib/python3.7/site-packages (from investpy==1.0.6) (2021.1)\nRequirement already satisfied: python-dateutil>=2.7.3 in /shared-libs/python3.7/py-core/lib/python3.7/site-packages (from pandas>=0.25.1->investpy==1.0.6) (2.8.1)\nRequirement already satisfied: six>=1.5 in /shared-libs/python3.7/py-core/lib/python3.7/site-packages (from python-dateutil>=2.7.3->pandas>=0.25.1->investpy==1.0.6) (1.15.0)\nRequirement already satisfied: certifi>=2017.4.17 in /shared-libs/python3.7/py/lib/python3.7/site-packages (from requests>=2.22.0->investpy==1.0.6) (2020.12.5)\nRequirement already satisfied: chardet<5,>=3.0.2 in /shared-libs/python3.7/py/lib/python3.7/site-packages (from requests>=2.22.0->investpy==1.0.6) (3.0.4)\nRequirement already satisfied: idna<3,>=2.5 in /shared-libs/python3.7/py/lib/python3.7/site-packages (from requests>=2.22.0->investpy==1.0.6) (2.10)\nRequirement already satisfied: urllib3<1.27,>=1.21.1 in /shared-libs/python3.7/py/lib/python3.7/site-packages (from requests>=2.22.0->investpy==1.0.6) (1.26.4)\nBuilding wheels for collected packages: investpy\n  Building wheel for investpy (setup.py) ... \u001b[?25ldone\n\u001b[?25h  Created wheel for investpy: filename=investpy-1.0.6-py3-none-any.whl size=4485152 sha256=ae70af1a42dfce6bf374cfbae9ad5360faccc7e96dead333b08fc6f87167b6f1\n  Stored in directory: /root/.cache/pip/wheels/bc/a3/1b/8d71d8907ca0e79cb0a82139f3661cb577ced0fd8bbb7b6c7f\nSuccessfully built investpy\nInstalling collected packages: Unidecode, investpy\nSuccessfully installed Unidecode-1.2.0 investpy-1.0.6\n",
     "output_type": "stream"
    }
   ]
  },
  {
   "cell_type": "code",
   "metadata": {
    "tags": [],
    "cell_id": "00000-c5af78c6-1774-4c8d-9438-a78b063b3da8",
    "deepnote_to_be_reexecuted": false,
    "source_hash": "70a2cf77",
    "execution_millis": 142,
    "execution_start": 1618906368706,
    "deepnote_cell_type": "code"
   },
   "source": "# Start writing code here...\nimport numpy as np\nimport pandas as pd\nfrom arch import arch_model\nimport investpy\nimport matplotlib.pyplot as plt",
   "execution_count": null,
   "outputs": []
  },
  {
   "cell_type": "code",
   "metadata": {
    "tags": [],
    "cell_id": "00001-23137d8c-ddf0-42ee-ba38-4292a11d8a92",
    "deepnote_to_be_reexecuted": false,
    "source_hash": "9385f390",
    "execution_millis": 5727,
    "execution_start": 1618906372468,
    "deepnote_cell_type": "code"
   },
   "source": "    TSLA = investpy.get_stock_historical_data(stock='TSLA',\n                                        country='United States',\n                                        from_date='01/04/2011',\n                                        to_date='01/04/2021')\n    ING = investpy.get_stock_historical_data(stock='INGA',\n                                        country='Netherlands',\n                                        from_date='01/04/2011',\n                                        to_date='01/04/2021')\n    Pfizer= investpy.get_stock_historical_data(stock='PFE',\n                                        country='United States',\n                                        from_date='01/04/2011',\n                                        to_date='01/04/2021')\n    SP500=investpy.get_index_historical_data(index='s&p 500',\n                                    country='United States',\n                                    from_date='01/04/2011',\n                                    to_date='01/04/2021')\n    euro_usd = investpy.get_currency_cross_historical_data(currency_cross='EUR/USD',\n                                                    from_date='01/04/2011',\n                                                    to_date='01/04/2021')\n    bond=investpy.get_bond_historical_data('Netherlands 10Y',\n                                    from_date='01/04/2011',\n                                    to_date='01/04/2021')\n    \n    data=pd.DataFrame({'TSLA':TSLA.Close,'ING':ING.Close,'Pfizer':Pfizer.Close,'SP500':SP500.Close,'FX':euro_usd.Close,'bond':bond.Close})\n    data=data.dropna() # synchronize\n    data['ING']=data['ING']*data['FX'] # change currency\n    data['bond']=data['bond']*data['FX'] # change currency\n    # everything in USD",
   "execution_count": null,
   "outputs": []
  },
  {
   "cell_type": "code",
   "metadata": {
    "tags": [],
    "cell_id": "00002-ea1b365c-8fe4-4b2a-9461-60ccfc3af791",
    "deepnote_to_be_reexecuted": false,
    "source_hash": "fcfb7ddc",
    "execution_millis": 232,
    "execution_start": 1618906379851,
    "deepnote_cell_type": "code"
   },
   "source": "# Log return\nL=pd.DataFrame(columns=['TSLA','ING','Pfizer','SP500','bond'])\nL['TSLA']=np.log(data['TSLA']).diff() # log return\nL['ING']=np.log(data['ING']).diff()\nL['Pfizer']=np.log(data['Pfizer']).diff()\nL['SP500']=np.log(data['SP500']).diff()\nL['bond']=data['bond'].diff() \nL['bond']=L['bond']/100 #change yield\nL['y']=data['bond']\nL=L.dropna() # remove first row\n# compute everyday portfolio loss, last column\nL['loss']=L.apply(lambda r: 0.15*(1-np.exp(r.TSLA))+\\\n                            0.15*(1-np.exp(r.ING))+\\\n                            0.15*(1-np.exp(r.Pfizer))+\\\n                            0.15*(1-np.exp(r.SP500))\\\n                           -0.4*(1-np.exp(-r.bond))+\\\n                            0.4*r.y / 25000,\n                            axis=1) # without time to maturity\nL",
   "execution_count": null,
   "outputs": [
    {
     "output_type": "execute_result",
     "execution_count": 7,
     "data": {
      "application/vnd.deepnote.dataframe.v2+json": {
       "row_count": 2492,
       "column_count": 7,
       "columns": [
        {
         "name": "TSLA",
         "dtype": "float64",
         "stats": {
          "unique_count": 2448,
          "nan_count": 0,
          "min": "-0.23651787417646553",
          "max": "0.21811299812549345",
          "histogram": [
           {
            "bin_start": -0.23651787417646553,
            "bin_end": -0.19105478694626962,
            "count": 3
           },
           {
            "bin_start": -0.19105478694626962,
            "bin_end": -0.14559169971607372,
            "count": 7
           },
           {
            "bin_start": -0.14559169971607372,
            "bin_end": -0.10012861248587784,
            "count": 9
           },
           {
            "bin_start": -0.10012861248587784,
            "bin_end": -0.05466552525568194,
            "count": 75
           },
           {
            "bin_start": -0.05466552525568194,
            "bin_end": -0.009202438025486037,
            "count": 697
           },
           {
            "bin_start": -0.009202438025486037,
            "bin_end": 0.03626064920470984,
            "count": 1440
           },
           {
            "bin_start": 0.03626064920470984,
            "bin_end": 0.08172373643490577,
            "count": 208
           },
           {
            "bin_start": 0.08172373643490577,
            "bin_end": 0.12718682366510164,
            "count": 35
           },
           {
            "bin_start": 0.12718682366510164,
            "bin_end": 0.17264991089529752,
            "count": 14
           },
           {
            "bin_start": 0.17264991089529752,
            "bin_end": 0.21811299812549345,
            "count": 4
           }
          ]
         }
        },
        {
         "name": "ING",
         "dtype": "float64",
         "stats": {
          "unique_count": 2492,
          "nan_count": 0,
          "min": "-0.2228434089002742",
          "max": "0.19223840896505506",
          "histogram": [
           {
            "bin_start": -0.2228434089002742,
            "bin_end": -0.18133522711374128,
            "count": 2
           },
           {
            "bin_start": -0.18133522711374128,
            "bin_end": -0.13982704532720835,
            "count": 2
           },
           {
            "bin_start": -0.13982704532720835,
            "bin_end": -0.09831886354067543,
            "count": 7
           },
           {
            "bin_start": -0.09831886354067543,
            "bin_end": -0.0568106817541425,
            "count": 40
           },
           {
            "bin_start": -0.0568106817541425,
            "bin_end": -0.015302499967609573,
            "count": 431
           },
           {
            "bin_start": -0.015302499967609573,
            "bin_end": 0.026205681818923354,
            "count": 1757
           },
           {
            "bin_start": 0.026205681818923354,
            "bin_end": 0.06771386360545628,
            "count": 227
           },
           {
            "bin_start": 0.06771386360545628,
            "bin_end": 0.10922204539198921,
            "count": 22
           },
           {
            "bin_start": 0.10922204539198921,
            "bin_end": 0.15073022717852214,
            "count": 2
           },
           {
            "bin_start": 0.15073022717852214,
            "bin_end": 0.19223840896505506,
            "count": 2
           }
          ]
         }
        },
        {
         "name": "Pfizer",
         "dtype": "float64",
         "stats": {
          "unique_count": 2439,
          "nan_count": 0,
          "min": "-0.08050138821058983",
          "max": "0.08581701534497688",
          "histogram": [
           {
            "bin_start": -0.08050138821058983,
            "bin_end": -0.06386954785503315,
            "count": 6
           },
           {
            "bin_start": -0.06386954785503315,
            "bin_end": -0.04723770749947649,
            "count": 8
           },
           {
            "bin_start": -0.04723770749947649,
            "bin_end": -0.030605867143919822,
            "count": 23
           },
           {
            "bin_start": -0.030605867143919822,
            "bin_end": -0.013974026788363153,
            "count": 200
           },
           {
            "bin_start": -0.013974026788363153,
            "bin_end": 0.0026578135671935232,
            "count": 1278
           },
           {
            "bin_start": 0.0026578135671935232,
            "bin_end": 0.019289653922750186,
            "count": 845
           },
           {
            "bin_start": 0.019289653922750186,
            "bin_end": 0.03592149427830685,
            "count": 108
           },
           {
            "bin_start": 0.03592149427830685,
            "bin_end": 0.052553334633863524,
            "count": 15
           },
           {
            "bin_start": 0.052553334633863524,
            "bin_end": 0.0691851749894202,
            "count": 7
           },
           {
            "bin_start": 0.0691851749894202,
            "bin_end": 0.08581701534497688,
            "count": 2
           }
          ]
         }
        },
        {
         "name": "SP500",
         "dtype": "float64",
         "stats": {
          "unique_count": 2492,
          "nan_count": 0,
          "min": "-0.1276521411564726",
          "max": "0.08968315694821616",
          "histogram": [
           {
            "bin_start": -0.1276521411564726,
            "bin_end": -0.10591861134600374,
            "count": 1
           },
           {
            "bin_start": -0.10591861134600374,
            "bin_end": -0.08418508153553486,
            "count": 1
           },
           {
            "bin_start": -0.08418508153553486,
            "bin_end": -0.062451551725065974,
            "count": 2
           },
           {
            "bin_start": -0.062451551725065974,
            "bin_end": -0.0407180219145971,
            "count": 10
           },
           {
            "bin_start": -0.0407180219145971,
            "bin_end": -0.018984492104128226,
            "count": 80
           },
           {
            "bin_start": -0.018984492104128226,
            "bin_end": 0.0027490377063406624,
            "count": 1463
           },
           {
            "bin_start": 0.0027490377063406624,
            "bin_end": 0.024482567516809522,
            "count": 904
           },
           {
            "bin_start": 0.024482567516809522,
            "bin_end": 0.04621609732727841,
            "count": 23
           },
           {
            "bin_start": 0.04621609732727841,
            "bin_end": 0.0679496271377473,
            "count": 5
           },
           {
            "bin_start": 0.0679496271377473,
            "bin_end": 0.08968315694821616,
            "count": 3
           }
          ]
         }
        },
        {
         "name": "bond",
         "dtype": "float64",
         "stats": {
          "unique_count": 2492,
          "nan_count": 0,
          "min": "-0.004023084999999997",
          "max": "0.002675067999999996",
          "histogram": [
           {
            "bin_start": -0.004023084999999997,
            "bin_end": -0.003353269699999998,
            "count": 1
           },
           {
            "bin_start": -0.003353269699999998,
            "bin_end": -0.002683454399999999,
            "count": 1
           },
           {
            "bin_start": -0.002683454399999999,
            "bin_end": -0.0020136391,
            "count": 8
           },
           {
            "bin_start": -0.0020136391,
            "bin_end": -0.0013438238000000003,
            "count": 24
           },
           {
            "bin_start": -0.0013438238000000003,
            "bin_end": -0.0006740085000000008,
            "count": 151
           },
           {
            "bin_start": -0.0006740085000000008,
            "bin_end": -0.0000041932000000022285,
            "count": 1156
           },
           {
            "bin_start": -0.0000041932000000022285,
            "bin_end": 0.0006656220999999973,
            "count": 959
           },
           {
            "bin_start": 0.0006656220999999973,
            "bin_end": 0.0013354373999999967,
            "count": 156
           },
           {
            "bin_start": 0.0013354373999999967,
            "bin_end": 0.0020052526999999962,
            "count": 32
           },
           {
            "bin_start": 0.0020052526999999962,
            "bin_end": 0.002675067999999996,
            "count": 4
           }
          ]
         }
        },
        {
         "name": "y",
         "dtype": "float64",
         "stats": {
          "unique_count": 2491,
          "nan_count": 0,
          "min": "-0.7270115",
          "max": "5.462204",
          "histogram": [
           {
            "bin_start": -0.7270115,
            "bin_end": -0.1080899500000001,
            "count": 432
           },
           {
            "bin_start": -0.1080899500000001,
            "bin_end": 0.5108315999999998,
            "count": 501
           },
           {
            "bin_start": 0.5108315999999998,
            "bin_end": 1.1297531499999995,
            "count": 624
           },
           {
            "bin_start": 1.1297531499999995,
            "bin_end": 1.7486746999999996,
            "count": 104
           },
           {
            "bin_start": 1.7486746999999996,
            "bin_end": 2.3675962499999996,
            "count": 255
           },
           {
            "bin_start": 2.3675962499999996,
            "bin_end": 2.9865177999999992,
            "count": 312
           },
           {
            "bin_start": 2.9865177999999992,
            "bin_end": 3.6054393499999997,
            "count": 155
           },
           {
            "bin_start": 3.6054393499999997,
            "bin_end": 4.2243609,
            "count": 28
           },
           {
            "bin_start": 4.2243609,
            "bin_end": 4.843282449999999,
            "count": 50
           },
           {
            "bin_start": 4.843282449999999,
            "bin_end": 5.462204,
            "count": 31
           }
          ]
         }
        },
        {
         "name": "loss",
         "dtype": "float64",
         "stats": {
          "unique_count": 2492,
          "nan_count": 0,
          "min": "-0.07679796550335051",
          "max": "0.07149713216614165",
          "histogram": [
           {
            "bin_start": -0.07679796550335051,
            "bin_end": -0.06196845573640129,
            "count": 1
           },
           {
            "bin_start": -0.06196845573640129,
            "bin_end": -0.047138945969452076,
            "count": 0
           },
           {
            "bin_start": -0.047138945969452076,
            "bin_end": -0.03230943620250286,
            "count": 7
           },
           {
            "bin_start": -0.03230943620250286,
            "bin_end": -0.01747992643555364,
            "count": 70
           },
           {
            "bin_start": -0.01747992643555364,
            "bin_end": -0.0026504166686044245,
            "count": 860
           },
           {
            "bin_start": -0.0026504166686044245,
            "bin_end": 0.012179093098344793,
            "count": 1398
           },
           {
            "bin_start": 0.012179093098344793,
            "bin_end": 0.02700860286529401,
            "count": 139
           },
           {
            "bin_start": 0.02700860286529401,
            "bin_end": 0.04183811263224323,
            "count": 13
           },
           {
            "bin_start": 0.04183811263224323,
            "bin_end": 0.056667622399192444,
            "count": 1
           },
           {
            "bin_start": 0.056667622399192444,
            "bin_end": 0.07149713216614165,
            "count": 3
           }
          ]
         }
        },
        {
         "name": "_deepnote_index_column",
         "dtype": "datetime64[ns]"
        }
       ],
       "rows_top": [
        {
         "TSLA": -0.030478549657415366,
         "ING": -0.011585634259393629,
         "Pfizer": 0.007820176705833681,
         "SP500": 0.00034517949676349247,
         "bond": -0.00021786200000001088,
         "y": 5.192452199999999,
         "loss": 0.005171453688267967,
         "_deepnote_index_column": "2011-04-04T00:00:00.000000"
        },
        {
         "TSLA": 0.03235296445176572,
         "ING": -0.008779304150217992,
         "Pfizer": -0.004391322011601417,
         "SP500": -0.00018007878495396312,
         "bond": 0.000060543000000006234,
         "y": 5.1985065,
         "loss": -0.002877946790960977,
         "_deepnote_index_column": "2011-04-05T00:00:00.000000"
        },
        {
         "TSLA": -0.007518832414027399,
         "ING": 0.024233500304198685,
         "Pfizer": -0.007854728651087495,
         "SP500": 0.0021812711737263513,
         "bond": 0.0009323710000000052,
         "y": 5.2917436,
         "loss": -0.0019978925246417244,
         "_deepnote_index_column": "2011-04-06T00:00:00.000000"
        },
        {
         "TSLA": 0.027908788117076755,
         "ING": -0.006406520525483739,
         "Pfizer": 0.0019694738025317626,
         "SP500": -0.0015211407740052252,
         "bond": -0.00020719600000000505,
         "y": 5.271024,
         "loss": -0.0031878677787909424,
         "_deepnote_index_column": "2011-04-07T00:00:00.000000"
        },
        {
         "TSLA": -0.027908788117076755,
         "ING": 0.024300553211943132,
         "Pfizer": 0.006374132883225414,
         "SP500": -0.004012508764839495,
         "bond": 0.001550066999999995,
         "y": 5.426030699999999,
         "loss": -0.00045252555785414754,
         "_deepnote_index_column": "2011-04-08T00:00:00.000000"
        },
        {
         "TSLA": -0.04831857727080768,
         "ING": -0.00644073343247431,
         "Pfizer": 0.010211613170196365,
         "SP500": -0.0027972257111361643,
         "bond": 0.0003617330000000063,
         "y": 5.462204,
         "loss": 0.0068606135095025935,
         "_deepnote_index_column": "2011-04-11T00:00:00.000000"
        },
        {
         "TSLA": -0.024049255232669653,
         "ING": -0.01023830218354238,
         "Pfizer": -0.010211613170196365,
         "SP500": -0.007807150947648722,
         "bond": -0.0010426629999999992,
         "y": 5.3579377,
         "loss": 0.008285737415824147,
         "_deepnote_index_column": "2011-04-12T00:00:00.000000"
        },
        {
         "TSLA": 0.0120969217088287,
         "ING": 0.00738411453151544,
         "Pfizer": 0,
         "SP500": 0.00019021749525727216,
         "bond": 0.0001555839999999975,
         "y": 5.3734961,
         "loss": -0.002942062618758725,
         "_deepnote_index_column": "2011-04-13T00:00:00.000000"
        },
        {
         "TSLA": 0.00798407434822046,
         "ING": -0.035640381043793745,
         "Pfizer": 0.0014652017273277806,
         "SP500": 0.00008368423660165547,
         "bond": -0.00021259499999999322,
         "y": 5.3522366,
         "loss": 0.003987694685866753,
         "_deepnote_index_column": "2011-04-14T00:00:00.000000"
        },
        {
         "TSLA": 0.01773445493976844,
         "ING": -0.01650619180586732,
         "Pfizer": 0.0019502687800341256,
         "SP500": 0.003917702983683213,
         "bond": -0.0007589739999999967,
         "y": 5.276339200000001,
         "loss": -0.000721797545856971,
         "_deepnote_index_column": "2011-04-15T00:00:00.000000"
        },
        {
         "TSLA": -0.02171852395464291,
         "ING": -0.052483635602342815,
         "Pfizer": -0.006352330180671828,
         "SP500": -0.011078968252260069,
         "bond": -0.0020618840000000116,
         "y": 5.0701507999999995,
         "loss": 0.014401408721916238,
         "_deepnote_index_column": "2011-04-18T00:00:00.000000"
        },
        {
         "TSLA": 0.0039840690148744695,
         "ING": 0.009596775364782761,
         "Pfizer": 0.006352330180671828,
         "SP500": 0.0057148251616441215,
         "bond": 0.0007683220000000013,
         "y": 5.146983,
         "loss": -0.0040856674868610734,
         "_deepnote_index_column": "2011-04-19T00:00:00.000000"
        },
        {
         "TSLA": 0.023576730563996895,
         "ING": 0.0511243680402913,
         "Pfizer": -0.006842646444478628,
         "SP500": 0.013424442423332295,
         "bond": 0.0005917179999999966,
         "y": 5.206154799999999,
         "loss": -0.01260426394833036,
         "_deepnote_index_column": "2011-04-20T00:00:00.000000"
        },
        {
         "TSLA": 0.03809984623227036,
         "ING": 0.003485314283794949,
         "Pfizer": -0.029867824971889334,
         "SP500": 0.005262893837744365,
         "bond": -0.0002418759999999942,
         "y": 5.1819672,
         "loss": -0.002546865081961334,
         "_deepnote_index_column": "2011-04-21T00:00:00.000000"
        },
        {
         "TSLA": 0.007448824012990629,
         "ING": 0.013151595887743284,
         "Pfizer": 0.02001067271027157,
         "SP500": 0.007345579139741432,
         "bond": 0.0005326279999999972,
         "y": 5.23523,
         "loss": -0.0073742227664548785,
         "_deepnote_index_column": "2011-04-26T00:00:00.000000"
        },
        {
         "TSLA": 0.005550430530649075,
         "ING": 0.007902918613446719,
         "Pfizer": 0.021558894758414215,
         "SP500": 0.006230365338632637,
         "bond": 0.0011699940000000008,
         "y": 5.3522294,
         "loss": -0.006613519218333882,
         "_deepnote_index_column": "2011-04-27T00:00:00.000000"
        },
        {
         "TSLA": 0.02009200008268852,
         "ING": 0.009986040064088542,
         "Pfizer": 0.009647928189720378,
         "SP500": 0.0035491580401618705,
         "bond": -0.0012083979999999972,
         "y": 5.2313896,
         "loss": -0.005969849375266347,
         "_deepnote_index_column": "2011-04-28T00:00:00.000000"
        },
        {
         "TSLA": -0.0018099552452395251,
         "ING": 0.005279217880758136,
         "Pfizer": 0.006698589640947716,
         "SP500": 0.002298016128269076,
         "bond": -0.00037367800000000174,
         "y": 5.1940218,
         "loss": -0.0016433855014356905,
         "_deepnote_index_column": "2011-04-29T00:00:00.000000"
        },
        {
         "TSLA": -0.005449604767564509,
         "ING": 0.01286083685873951,
         "Pfizer": 0.0023815205349766444,
         "SP500": -0.0017542383289272934,
         "bond": 0.0005473619999999979,
         "y": 5.248758,
         "loss": -0.0013560200434051869,
         "_deepnote_index_column": "2011-05-02T00:00:00.000000"
        },
        {
         "TSLA": -0.022100347000665987,
         "ING": -0.0055036027968586865,
         "Pfizer": -0.02798060011330117,
         "SP500": -0.0033850442943172965,
         "bond": 0.00015181999999999362,
         "y": 5.263939999999999,
         "loss": 0.008771274574689953,
         "_deepnote_index_column": "2011-05-03T00:00:00.000000"
        },
        {
         "TSLA": -0.005602255548669888,
         "ING": -0.019446920945165758,
         "Pfizer": 0.009737175277858334,
         "SP500": -0.006878877987061216,
         "bond": 0.00014886400000000855,
         "y": 5.2788264,
         "loss": 0.0033123468172416726,
         "_deepnote_index_column": "2011-05-04T00:00:00.000000"
        },
        {
         "TSLA": -0.00940740710189547,
         "ING": -0.0023352562103275964,
         "Pfizer": -0.012186356026998357,
         "SP500": -0.009111238759397011,
         "bond": -0.0018220590000000048,
         "y": 5.096620499999999,
         "loss": 0.005742747081215689,
         "_deepnote_index_column": "2011-05-05T00:00:00.000000"
        },
        {
         "TSLA": 0.02427756958134686,
         "ING": -0.010430164537288622,
         "Pfizer": 0.007816356355879961,
         "SP500": 0.0038126611430211454,
         "bond": -0.001539464999999991,
         "y": 4.942674,
         "loss": -0.003184501870933043,
         "_deepnote_index_column": "2011-05-06T00:00:00.000000"
        },
        {
         "TSLA": 0.029092960941664803,
         "ING": -0.040634663522467473,
         "Pfizer": 0.0024301348532915767,
         "SP500": 0.004533804653547691,
         "bond": -0.000459864000000012,
         "y": 4.896687599999999,
         "loss": 0.0007607342440675746,
         "_deepnote_index_column": "2011-05-09T00:00:00.000000"
        },
        {
         "TSLA": 0.016000341346441127,
         "ING": 0.0451606142061749,
         "Pfizer": 0.012542373777090887,
         "SP500": 0.008041619839870506,
         "bond": -0.00002629699999999069,
         "y": 4.8940579,
         "loss": -0.012364222984588578,
         "_deepnote_index_column": "2011-05-10T00:00:00.000000"
        },
        {
         "TSLA": -0.04694002488127058,
         "ING": -0.015800219597974507,
         "Pfizer": -0.012057054670258527,
         "SP500": -0.011173631758987668,
         "bond": -0.00042943000000000175,
         "y": 4.8511149,
         "loss": 0.01294355598107707,
         "_deepnote_index_column": "2011-05-11T00:00:00.000000"
        },
        {
         "TSLA": 0.021938722675853173,
         "ING": -0.01594224136872624,
         "Pfizer": 0.013494180666106637,
         "SP500": 0.004883442825390993,
         "bond": -0.0005264820000000014,
         "y": 4.7984667,
         "loss": -0.00343952636775582,
         "_deepnote_index_column": "2011-05-12T00:00:00.000000"
        },
        {
         "TSLA": -0.003623192369420325,
         "ING": -0.025834409417023085,
         "Pfizer": 0.0014350636282478568,
         "SP500": -0.00810004354268834,
         "bond": -0.0002133240000000036,
         "y": 4.777134299999999,
         "loss": 0.005524486691748434,
         "_deepnote_index_column": "2011-05-13T00:00:00.000000"
        },
        {
         "TSLA": -0.035091319811269894,
         "ING": -0.009320925025270377,
         "Pfizer": 0.0028639637714289456,
         "SP500": -0.006223682001731845,
         "bond": 0.00025317900000000116,
         "y": 4.802452199999999,
         "loss": 0.007040080151820688,
         "_deepnote_index_column": "2011-05-16T00:00:00.000000"
        },
        {
         "TSLA": -0.02473960617575588,
         "ING": -0.013018299974115521,
         "Pfizer": 0.007597377473940625,
         "SP500": -0.0003686358634160669,
         "bond": -0.00018484199999999618,
         "y": 4.783968,
         "loss": 0.004667328492861585,
         "_deepnote_index_column": "2011-05-17T00:00:00.000000"
        },
        {
         "TSLA": 0.015296665375473584,
         "ING": 0.004139540222364957,
         "Pfizer": 0.0018903597311688003,
         "SP500": 0.008765217224823374,
         "bond": 0.0002690619999999999,
         "y": 4.8108742,
         "loss": -0.00456937682845412,
         "_deepnote_index_column": "2011-05-18T00:00:00.000000"
        },
        {
         "TSLA": 0.06785370295669657,
         "ING": 0.005951681895832284,
         "Pfizer": -0.007107350458652295,
         "SP500": 0.0021756308222586895,
         "bond": 0.0007306260000000009,
         "y": 4.8839368,
         "loss": -0.010905101161323745,
         "_deepnote_index_column": "2011-05-19T00:00:00.000000"
        },
        {
         "TSLA": -0.008904778342959663,
         "ING": -0.023132025870042927,
         "Pfizer": -0.01629949795715646,
         "SP500": -0.0077180074323806025,
         "bond": -0.0014908929999999999,
         "y": 4.7348475,
         "loss": 0.00901067851677969,
         "_deepnote_index_column": "2011-05-20T00:00:00.000000"
        },
        {
         "TSLA": -0.042015312084296985,
         "ING": -0.029273036247297046,
         "Pfizer": -0.004844970717753583,
         "SP500": -0.011997246485369928,
         "bond": -0.0007834610000000008,
         "y": 4.6565014,
         "loss": 0.013400879029787862,
         "_deepnote_index_column": "2011-05-23T00:00:00.000000"
        },
        {
         "TSLA": -0.0037383221106073172,
         "ING": 0.0025341080852330222,
         "Pfizer": -0.003405500737129419,
         "SP500": -0.000827748609143697,
         "bond": 0.000782114000000007,
         "y": 4.7347128000000005,
         "loss": 0.0005762025656776762,
         "_deepnote_index_column": "2011-05-24T00:00:00.000000"
        },
        {
         "TSLA": 0.08263226458027018,
         "ING": 0.01830675540618243,
         "Pfizer": 0.012590965368512563,
         "SP500": 0.003178157600698839,
         "bond": -0.0004937660000000044,
         "y": 4.6853362,
         "loss": -0.017798197250852427,
         "_deepnote_index_column": "2011-05-25T00:00:00.000000"
        },
        {
         "TSLA": 0.017094433359300165,
         "ING": -0.0011580741442545062,
         "Pfizer": 0.005758173299683644,
         "SP500": 0.003945344779679338,
         "bond": -0.00032191300000000033,
         "y": 4.6531449,
         "loss": -0.0036685482765792853,
         "_deepnote_index_column": "2011-05-26T00:00:00.000000"
        },
        {
         "TSLA": 0.0016934805063331115,
         "ING": 0.026260710467866488,
         "Pfizer": 0.001434377487143479,
         "SP500": 0.004072589461351583,
         "bond": 0.00022208699999999305,
         "y": 4.675353599999999,
         "loss": -0.0050869858078403905,
         "_deepnote_index_column": "2011-05-27T00:00:00.000000"
        },
        {
         "TSLA": 0.020101179321087237,
         "ING": 0.008600313711826235,
         "Pfizer": 0.024541108916117604,
         "SP500": 0.010537032813141778,
         "bond": 0.001084372000000009,
         "y": 4.7837908,
         "loss": -0.010013888238878338,
         "_deepnote_index_column": "2011-05-31T00:00:00.000000"
        },
        {
         "TSLA": -0.056280835898589565,
         "ING": -0.028646327529392668,
         "Pfizer": -0.018824085245635835,
         "SP500": -0.023048299143046513,
         "bond": -0.0011170120000000062,
         "y": 4.6720896,
         "loss": 0.019181660021512004,
         "_deepnote_index_column": "2011-06-01T00:00:00.000000"
        },
        {
         "TSLA": 0.008733679968754515,
         "ING": 0.003705944055989896,
         "Pfizer": -0.0023781224049672645,
         "SP500": -0.0012255043417859213,
         "bond": 0.0003603630000000102,
         "y": 4.708125900000001,
         "loss": -0.0014014940292050347,
         "_deepnote_index_column": "2011-06-02T00:00:00.000000"
        },
        {
         "TSLA": 0.04754715592983505,
         "ING": 0.018608546129414538,
         "Pfizer": -0.00764822083825667,
         "SP500": -0.00978156358192006,
         "bond": 0.001250114999999994,
         "y": 4.8331374,
         "loss": -0.007941226718117238,
         "_deepnote_index_column": "2011-06-03T00:00:00.000000"
        },
        {
         "TSLA": -0.04928780040761915,
         "ING": -0.017629650741908254,
         "Pfizer": -0.00481001408378523,
         "SP500": -0.010818523892467624,
         "bond": -0.0005042369999999962,
         "y": 4.7827137,
         "loss": 0.012447274869998555,
         "_deepnote_index_column": "2011-06-06T00:00:00.000000"
        },
        {
         "TSLA": -0.012270092591814219,
         "ING": 0.01518842477785931,
         "Pfizer": 0,
         "SP500": -0.000956785274712324,
         "bond": 0.0013877130000000016,
         "y": 4.9214850000000006,
         "loss": -0.0007988922843144836,
         "_deepnote_index_column": "2011-06-07T00:00:00.000000"
        },
        {
         "TSLA": -0.04509330228810593,
         "ING": -0.01766674079232633,
         "Pfizer": -0.002897153161152577,
         "SP500": -0.004195755814094149,
         "bond": -0.0007463249999999987,
         "y": 4.846852500000001,
         "loss": 0.010678676473555759,
         "_deepnote_index_column": "2011-06-08T00:00:00.000000"
        },
        {
         "TSLA": 0.018282044837448996,
         "ING": 0.002671874983829703,
         "Pfizer": 0.0033791970364789314,
         "SP500": 0.007350455121098776,
         "bond": -0.0007517130000000005,
         "y": 4.771681200000001,
         "loss": -0.00440606702482008,
         "_deepnote_index_column": "2011-06-09T00:00:00.000000"
        },
        {
         "TSLA": 0.009017193650188826,
         "ING": -0.034766780277449616,
         "Pfizer": -0.031329042892146663,
         "SP500": -0.014078467514766935,
         "bond": -0.0013010320000000064,
         "y": 4.641578,
         "loss": 0.01108520539031545,
         "_deepnote_index_column": "2011-06-10T00:00:00.000000"
        },
        {
         "TSLA": 0.02131519419904704,
         "ING": 0.0022722522925362476,
         "Pfizer": 0.017254556738919735,
         "SP500": 0.000668551745242496,
         "bond": 0.0002520490000000031,
         "y": 4.6667829,
         "loss": -0.006309919349931038,
         "_deepnote_index_column": "2011-06-13T00:00:00.000000"
        },
        {
         "TSLA": 0.005258557253466689,
         "ING": 0.03400444440701067,
         "Pfizer": 0.0058479698824229764,
         "SP500": 0.012532882723673033,
         "bond": 0.0008141789999999904,
         "y": 4.748200799999999,
         "loss": -0.009000337393345301,
         "_deepnote_index_column": "2011-06-14T00:00:00.000000"
        },
        {
         "TSLA": -0.04652001563489283,
         "ING": -0.03512530834493255,
         "Pfizer": -0.01913229808115746,
         "SP500": -0.017585608026490895,
         "bond": -0.0011809839999999917,
         "y": 4.6301024,
         "loss": 0.01799962044340081,
         "_deepnote_index_column": "2011-06-15T00:00:00.000000"
        },
        {
         "TSLA": -0.029741969198737506,
         "ING": -0.005573452112408894,
         "Pfizer": 0.002473412094518679,
         "SP500": 0.0017528211478534672,
         "bond": -0.00033618200000000263,
         "y": 4.5964842,
         "loss": 0.00480271117468471,
         "_deepnote_index_column": "2011-06-16T00:00:00.000000"
        },
        {
         "TSLA": 0,
         "ING": 0.03410083863471858,
         "Pfizer": 0.0009876544012725752,
         "SP500": 0.003040401847475671,
         "bond": 0.001061104000000004,
         "y": 4.7025946,
         "loss": -0.006157291318250845,
         "_deepnote_index_column": "2011-06-17T00:00:00.000000"
        },
        {
         "TSLA": -0.019048194970694432,
         "ING": -0.013661787736114928,
         "Pfizer": 0.0004934616433711625,
         "SP500": 0.00538070054893236,
         "bond": 0.00036546200000000086,
         "y": 4.7391408,
         "loss": 0.0039118723088329985,
         "_deepnote_index_column": "2011-06-20T00:00:00.000000"
        },
        {
         "TSLA": 0.057905997577441415,
         "ING": 0.03127658551890233,
         "Pfizer": 0.007862448365622221,
         "SP500": 0.01333415252669834,
         "bond": 0.00007965699999999742,
         "y": 4.7471065,
         "loss": -0.01686137421987339,
         "_deepnote_index_column": "2011-06-21T00:00:00.000000"
        },
        {
         "TSLA": -0.012785562296971698,
         "ING": 0.0023349372101271193,
         "Pfizer": -0.007369230106548219,
         "SP500": -0.0064894561490245195,
         "bond": -0.0004904229999999998,
         "y": 4.6980642,
         "loss": 0.003897951028845319,
         "_deepnote_index_column": "2011-06-22T00:00:00.000000"
        },
        {
         "TSLA": 0.018215439891341,
         "ING": -0.04331929092797937,
         "Pfizer": 0.018080140684059387,
         "SP500": -0.0028319814775850105,
         "bond": -0.0012948059999999995,
         "y": 4.5685836,
         "loss": 0.0018806741643272145,
         "_deepnote_index_column": "2011-06-23T00:00:00.000000"
        },
        {
         "TSLA": -0.005429877594369303,
         "ING": -0.027310397147214616,
         "Pfizer": -0.027991024583513546,
         "SP500": -0.011795038682533843,
         "bond": -0.000353393999999998,
         "y": 4.5332442,
         "loss": 0.010966613198055877,
         "_deepnote_index_column": "2011-06-24T00:00:00.000000"
        },
        {
         "TSLA": -0.003636367643383709,
         "ING": 0.0063911444150814845,
         "Pfizer": 0.004472057142592245,
         "SP500": 0.009142517233402536,
         "bond": 0.0011762619999999924,
         "y": 4.6508704,
         "loss": -0.002863067769369101,
         "_deepnote_index_column": "2011-06-27T00:00:00.000000"
        },
        {
         "TSLA": 0.02340340838416033,
         "ING": 0.021104039522674256,
         "Pfizer": 0.01866458897612322,
         "SP500": 0.012861239773101829,
         "bond": 0.0003342359999999989,
         "y": 4.6842939999999995,
         "loss": -0.011577505977942515,
         "_deepnote_index_column": "2011-06-28T00:00:00.000000"
        },
        {
         "TSLA": 0.007092228309491855,
         "ING": 0.03796782965272927,
         "Pfizer": 0.0058224327514331264,
         "SP500": 0.00824864128276026,
         "bond": 0.0008680400000000077,
         "y": 4.771098,
         "loss": -0.009261341663333783,
         "_deepnote_index_column": "2011-06-29T00:00:00.000000"
        },
        {
         "TSLA": 0.029593108147309533,
         "ING": 0.03472592656255413,
         "Pfizer": -0.0033922978981415497,
         "SP500": 0.010068386646291394,
         "bond": 0.0007970839999999946,
         "y": 4.8508064,
         "loss": -0.011056684716896052,
         "_deepnote_index_column": "2011-06-30T00:00:00.000000"
        },
        {
         "TSLA": -0.0051590828100274155,
         "ING": 0.02228873626594874,
         "Pfizer": 0.007255170881172113,
         "SP500": 0.014306847394918165,
         "bond": 0.00004901099999999659,
         "y": 4.855707499999999,
         "loss": -0.005804575883661622,
         "_deepnote_index_column": "2011-07-01T00:00:00.000000"
        },
        {
         "TSLA": 0.0051590828100274155,
         "ING": -0.016317202932888186,
         "Pfizer": 0.0014447389943739175,
         "SP500": -0.0013370433916550795,
         "bond": -0.00012464099999999866,
         "y": 4.8432433999999995,
         "loss": 0.001762764131649946,
         "_deepnote_index_column": "2011-07-05T00:00:00.000000"
        },
        {
         "TSLA": -0.00688470877749725,
         "ING": -0.021374894959580892,
         "Pfizer": 0,
         "SP500": 0.001001083345342657,
         "bond": -0.0014693939999999995,
         "y": 4.696304,
         "loss": 0.004714462961653525,
         "_deepnote_index_column": "2011-07-06T00:00:00.000000"
        },
        {
         "TSLA": 0.027258927972634517,
         "ING": 0.008884544281749562,
         "Pfizer": -0.026824334491427404,
         "SP500": 0.010399582665769458,
         "bond": 0.001117587999999996,
         "y": 4.808062799999999,
         "loss": -0.0034514668776677937,
         "_deepnote_index_column": "2011-07-07T00:00:00.000000"
        },
        {
         "TSLA": -0.0324537448497384,
         "ING": -0.02173258795184596,
         "Pfizer": -0.003466207976486224,
         "SP500": -0.006985516092543165,
         "bond": -0.0018886379999999913,
         "y": 4.619199,
         "loss": 0.010407919957185024,
         "_deepnote_index_column": "2011-07-08T00:00:00.000000"
        },
        {
         "TSLA": -0.015748356968139143,
         "ING": -0.09201815605659114,
         "Pfizer": -0.0059701669865037665,
         "SP500": -0.01825612319965675,
         "bond": -0.002624246000000001,
         "y": 4.3567744,
         "loss": 0.020257677501305298,
         "_deepnote_index_column": "2011-07-11T00:00:00.000000"
        },
        {
         "TSLA": -0.0070796755880617734,
         "ING": -0.030112392767997154,
         "Pfizer": -0.0019980026626731373,
         "SP500": -0.004443388381925928,
         "bond": 0.00035427399999999666,
         "y": 4.3922018,
         "loss": 0.006400752361513934,
         "_deepnote_index_column": "2011-07-12T00:00:00.000000"
        },
        {
         "TSLA": 0.017606088575049306,
         "ING": 0.050831772069750425,
         "Pfizer": -0.0005001250416820646,
         "SP500": 0.0031010604931553942,
         "bond": 0.0007150300000000076,
         "y": 4.4637048,
         "loss": -0.011091551669330102,
         "_deepnote_index_column": "2011-07-13T00:00:00.000000"
        },
        {
         "TSLA": -0.037337670437644466,
         "ING": -0.011699110576834482,
         "Pfizer": -0.004010030436203849,
         "SP500": -0.006738800871783468,
         "bond": -0.00012273300000000375,
         "y": 4.4514315,
         "loss": 0.008970064688190576,
         "_deepnote_index_column": "2011-07-14T00:00:00.000000"
        },
        {
         "TSLA": 0,
         "ING": -0.02281227701089117,
         "Pfizer": -0.008068626728974237,
         "SP500": 0.005539040679879648,
         "bond": -0.0006117090000000048,
         "y": 4.3902605999999995,
         "loss": 0.00407037225872008,
         "_deepnote_index_column": "2011-07-15T00:00:00.000000"
        }
       ],
       "rows_bottom": [
        {
         "TSLA": 0.057903507265102405,
         "ING": -0.00974121502016878,
         "Pfizer": -0.009245872232006125,
         "SP500": -0.003517278505022148,
         "bond": 0.00002991099999999913,
         "y": -0.5992695,
         "loss": -0.005602221842787816,
         "_deepnote_index_column": "2020-12-18T00:00:00.000000"
        },
        {
         "TSLA": -0.06715489048909085,
         "ING": -0.06255881911299,
         "Pfizer": -0.007993647680745397,
         "SP500": -0.003913931036978013,
         "bond": -0.00014054699999999976,
         "y": -0.6133242,
         "loss": 0.02066539401224915,
         "_deepnote_index_column": "2020-12-21T00:00:00.000000"
        },
        {
         "TSLA": -0.014757669785306682,
         "ING": 0.017362599669527246,
         "Pfizer": -0.01726972224043699,
         "SP500": -0.002075268484142967,
         "bond": -0.00014183399999999956,
         "y": -0.6275075999999999,
         "loss": 0.0024961487897000893,
         "_deepnote_index_column": "2020-12-22T00:00:00.000000"
        },
        {
         "TSLA": 0.008769258260622692,
         "ING": 0.03565351746508538,
         "Pfizer": 0.01887357182241134,
         "SP500": 0.0007455332737915654,
         "bond": 0.000572495999999999,
         "y": -0.570258,
         "loss": -0.00997353116199395,
         "_deepnote_index_column": "2020-12-23T00:00:00.000000"
        },
        {
         "TSLA": 0.024149519993333257,
         "ING": 0.008959738781150861,
         "Pfizer": -0.004550938118224046,
         "SP500": 0.0035303368029282467,
         "bond": 0.000023904000000000146,
         "y": -0.5678676,
         "loss": -0.004884565782280818,
         "_deepnote_index_column": "2020-12-24T00:00:00.000000"
        },
        {
         "TSLA": 0.0028971094456542446,
         "ING": -0.005309516410578752,
         "Pfizer": -0.012147537686235221,
         "SP500": 0.00868469460336918,
         "bond": -0.00019625800000000026,
         "y": -0.5874934,
         "loss": 0.0009309621012846077,
         "_deepnote_index_column": "2020-12-28T00:00:00.000000"
        },
        {
         "TSLA": 0.0034594824226426013,
         "ING": -0.008818267823352155,
         "Pfizer": 0.006227175937163931,
         "SP500": -0.0022298465500121267,
         "bond": -0.00018733099999999837,
         "y": -0.6062264999999999,
         "loss": 0.00025945751205988884,
         "_deepnote_index_column": "2020-12-29T00:00:00.000000"
        },
        {
         "TSLA": 0.04232059327805349,
         "ING": -0.003840310175312389,
         "Pfizer": -0.008402271955116003,
         "SP500": 0.0013406481091209344,
         "bond": 0.00008689499999999905,
         "y": -0.597537,
         "loss": -0.004899878184460003,
         "_deepnote_index_column": "2020-12-30T00:00:00.000000"
        },
        {
         "TSLA": 0.015552457430462852,
         "ING": -0.015730425264021797,
         "Pfizer": 0.0019034676039502152,
         "SP500": 0.006418196978792423,
         "bond": 0.00010043599999999931,
         "y": -0.5874934,
         "loss": -0.001311191688779642,
         "_deepnote_index_column": "2020-12-31T00:00:00.000000"
        },
        {
         "TSLA": 0.03358170988361664,
         "ING": -0.001154607750394998,
         "Pfizer": 0,
         "SP500": -0.014864718123371645,
         "bond": -0.0005307700000000004,
         "y": -0.6405704000000001,
         "loss": -0.002534367123752404,
         "_deepnote_index_column": "2021-01-04T00:00:00.000000"
        },
        {
         "TSLA": 0.00729073187408158,
         "ING": 0.008991156094285468,
         "Pfizer": 0.010270360546048796,
         "SP500": 0.007057576170721447,
         "bond": 0.00033246800000000134,
         "y": -0.6073236,
         "loss": -0.005205916251725597,
         "_deepnote_index_column": "2021-01-05T00:00:00.000000"
        },
        {
         "TSLA": 0.027994772924276212,
         "ING": 0.0719468878756988,
         "Pfizer": -0.008641695690925655,
         "SP500": 0.005693660866217698,
         "bond": 0.000181886,
         "y": -0.589135,
         "loss": -0.01509627608573601,
         "_deepnote_index_column": "2021-01-06T00:00:00.000000"
        },
        {
         "TSLA": 0.07644845256739075,
         "ING": 0.016047269025242894,
         "Pfizer": 0.005140008611160596,
         "SP500": 0.014738221178340893,
         "bond": 0.000026289999999999926,
         "y": -0.586506,
         "loss": -0.017363480393095432,
         "_deepnote_index_column": "2021-01-07T00:00:00.000000"
        },
        {
         "TSLA": 0.07548126111618991,
         "ING": -0.013850899849425335,
         "Pfizer": 0.001887047331774916,
         "SP500": 0.005476865536104825,
         "bond": 0.00007372799999999958,
         "y": -0.5791332,
         "loss": -0.010843004526804508,
         "_deepnote_index_column": "2021-01-08T00:00:00.000000"
        },
        {
         "TSLA": -0.08144232914195637,
         "ING": -0.035041290071701425,
         "Pfizer": 0.017089868535376862,
         "SP500": -0.0065763737616642,
         "bond": 0.0004093249999999993,
         "y": -0.5382007000000001,
         "loss": 0.015122689085802235,
         "_deepnote_index_column": "2021-01-11T00:00:00.000000"
        },
        {
         "TSLA": 0.04607500349059901,
         "ING": 0.003519687575459951,
         "Pfizer": -0.015744154431067692,
         "SP500": 0.00041574571696578744,
         "bond": 0.0002672740000000018,
         "y": -0.5114732999999999,
         "loss": -0.005436149804921012,
         "_deepnote_index_column": "2021-01-12T00:00:00.000000"
        },
        {
         "TSLA": 0.0058338634219268215,
         "ING": -0.02293737044709765,
         "Pfizer": -0.008644030051620621,
         "SP500": 0.002273017902771457,
         "bond": -0.0005747430000000009,
         "y": -0.5689476,
         "loss": 0.003694345605824283,
         "_deepnote_index_column": "2021-01-13T00:00:00.000000"
        },
        {
         "TSLA": -0.01107454490011417,
         "ING": -0.0038917889357779067,
         "Pfizer": -0.002988726582831447,
         "SP500": -0.003760500291052793,
         "bond": -0.0003277439999999998,
         "y": -0.601722,
         "loss": 0.0033667980635401795,
         "_deepnote_index_column": "2021-01-14T00:00:00.000000"
        },
        {
         "TSLA": -0.02254816799402537,
         "ING": -0.007710333815635462,
         "Pfizer": -0.001361470598320924,
         "SP500": -0.007215990506594494,
         "bond": 0.0002077019999999996,
         "y": -0.5809518,
         "loss": 0.005686698409220358,
         "_deepnote_index_column": "2021-01-15T00:00:00.000000"
        },
        {
         "TSLA": 0.022015481763205003,
         "ING": -0.0073999845848828905,
         "Pfizer": 0.0008171047710510138,
         "SP500": 0.008103480771509908,
         "bond": 0.00019425399999999926,
         "y": -0.5615264000000001,
         "loss": -0.0036627954984144576,
         "_deepnote_index_column": "2021-01-19T00:00:00.000000"
        },
        {
         "TSLA": 0.006961680033747086,
         "ING": 0.006999323393622969,
         "Pfizer": -0.006281599243129765,
         "SP500": 0.013839368887685666,
         "bond": 0.0000111120000000009,
         "y": -0.5604152,
         "loss": -0.0032659378855323853,
         "_deepnote_index_column": "2021-01-20T00:00:00.000000"
        },
        {
         "TSLA": -0.006440828192479486,
         "ING": 0.004780360211863233,
         "Pfizer": -0.0005480953823155943,
         "SP500": 0.00031668077285651464,
         "bond": 0.0003501680000000007,
         "y": -0.5253983999999999,
         "loss": 0.00013048201240090608,
         "_deepnote_index_column": "2021-01-21T00:00:00.000000"
        },
        {
         "TSLA": 0.001950781817847691,
         "ING": -0.015033290320079828,
         "Pfizer": 0.001917020989656848,
         "SP500": -0.0030151272949279218,
         "bond": -0.00011166300000000074,
         "y": -0.5365647,
         "loss": 0.0021450669726275668,
         "_deepnote_index_column": "2021-01-22T00:00:00.000000"
        },
        {
         "TSLA": 0.03955501062300115,
         "ING": -0.04892698551554053,
         "Pfizer": 0.01977580362160314,
         "SP500": 0.0036092820235467116,
         "bond": -0.000520798,
         "y": -0.5886445,
         "loss": -0.002229068798860913,
         "_deepnote_index_column": "2021-01-25T00:00:00.000000"
        },
        {
         "TSLA": 0.0025965352562771216,
         "ING": 0.02870449586445334,
         "Pfizer": 0.0008043974156759504,
         "SP500": -0.001489945739473697,
         "bond": 0.00023204499999999963,
         "y": -0.56544,
         "loss": -0.004757289382957879,
         "_deepnote_index_column": "2021-01-26T00:00:00.000000"
        },
        {
         "TSLA": -0.02166918382016636,
         "ING": -0.03928232741564486,
         "Pfizer": -0.02909790605828766,
         "SP500": -0.026013289892048874,
         "bond": -0.00014533200000000024,
         "y": -0.5799732000000001,
         "loss": 0.0171958633108753,
         "_deepnote_index_column": "2021-01-27T00:00:00.000000"
        },
        {
         "TSLA": -0.033811374485421375,
         "ING": 0.021412778566025192,
         "Pfizer": -0.010541012997792087,
         "SP500": 0.009713334927598183,
         "bond": 0.00010286200000000135,
         "y": -0.5696869999999999,
         "loss": 0.0017988627687074248,
         "_deepnote_index_column": "2021-01-28T00:00:00.000000"
        },
        {
         "TSLA": -0.051455215924004705,
         "ING": -0.008203637221230853,
         "Pfizer": 0.0011148273172465473,
         "SP500": -0.01950040596712732,
         "bond": 0.00023566999999999894,
         "y": -0.54612,
         "loss": 0.011374997116442688,
         "_deepnote_index_column": "2021-01-29T00:00:00.000000"
        },
        {
         "TSLA": 0.056684329341090134,
         "ING": 0.00038724719251126416,
         "Pfizer": -0.0027894020875787184,
         "SP500": 0.01592426914071865,
         "bond": 0.00011906300000000036,
         "y": -0.5342137,
         "loss": -0.0108524527005014,
         "_deepnote_index_column": "2021-02-01T00:00:00.000000"
        },
        {
         "TSLA": 0.038519301298427955,
         "ING": 0.03428374005077073,
         "Pfizer": -0.022885587027057674,
         "SP500": 0.01380254196564934,
         "bond": 0.00036879100000000053,
         "y": -0.49733459999999996,
         "loss": -0.009968675665854845,
         "_deepnote_index_column": "2021-02-02T00:00:00.000000"
        },
        {
         "TSLA": -0.020956146982846313,
         "ING": -0.0006645622440957233,
         "Pfizer": -0.004296154395294405,
         "SP500": 0.0010082963259936406,
         "bond": 0.0001597459999999995,
         "y": -0.48136,
         "loss": 0.003630490226325334,
         "_deepnote_index_column": "2021-02-03T00:00:00.000000"
        },
        {
         "TSLA": -0.005514245382551408,
         "ING": -0.003406982998748642,
         "Pfizer": 0.0014341032143803112,
         "SP500": 0.01079482976893864,
         "bond": 0.00012449600000000006,
         "y": -0.4689104,
         "loss": -0.0005655249473360462,
         "_deepnote_index_column": "2021-02-04T00:00:00.000000"
        },
        {
         "TSLA": 0.002631858740914872,
         "ING": 0.013121380762762591,
         "Pfizer": 0.0008594757727187208,
         "SP500": 0.0038898969855534204,
         "bond": 0.00008906000000000025,
         "y": -0.4600044,
         "loss": -0.0031330554802104144,
         "_deepnote_index_column": "2021-02-05T00:00:00.000000"
        },
        {
         "TSLA": 0.013044803637322744,
         "ING": 0.009466801998041952,
         "Pfizer": -0.002867796631358388,
         "SP500": 0.007372105129887174,
         "bond": -0.00007458000000000075,
         "y": -0.46746240000000006,
         "loss": -0.004054296746321933,
         "_deepnote_index_column": "2021-02-08T00:00:00.000000"
        },
        {
         "TSLA": -0.016300393605614083,
         "ING": -0.0019717419801685843,
         "Pfizer": 0.004298616735241456,
         "SP500": -0.0011141179817588664,
         "bond": -0.00001465499999999953,
         "y": -0.4689279,
         "loss": 0.0022399125491182155,
         "_deepnote_index_column": "2021-02-09T00:00:00.000000"
        },
        {
         "TSLA": -0.05398220355056971,
         "ING": 0.006323639728016861,
         "Pfizer": -0.006598790262325682,
         "SP500": -0.0003452195438775618,
         "bond": 0.0000730829999999999,
         "y": -0.4616196,
         "loss": 0.00793281929807746,
         "_deepnote_index_column": "2021-02-10T00:00:00.000000"
        },
        {
         "TSLA": 0.008462883331159077,
         "ING": -0.00028801971046688024,
         "Pfizer": -0.008963483462526511,
         "SP500": 0.001661074764843562,
         "bond": -0.0001622360000000006,
         "y": -0.4778432000000001,
         "loss": -0.00008522189210306783,
         "_deepnote_index_column": "2021-02-11T00:00:00.000000"
        },
        {
         "TSLA": 0.005479869713060026,
         "ING": 0.06475210592832559,
         "Pfizer": 0.008387612441717263,
         "SP500": 0.004699921149025954,
         "bond": 0.0003432440000000009,
         "y": -0.4435188,
         "loss": -0.012972864823674189,
         "_deepnote_index_column": "2021-02-12T00:00:00.000000"
        },
        {
         "TSLA": -0.024685873408061276,
         "ING": 0.06375672858321124,
         "Pfizer": -0.0008644288104910913,
         "SP500": -0.0005694370099789126,
         "bond": 0.0008887160000000005,
         "y": -0.35464719999999994,
         "loss": -0.0063634150213930235,
         "_deepnote_index_column": "2021-02-16T00:00:00.000000"
        },
        {
         "TSLA": 0.0024210201430010514,
         "ING": -0.0033916643125659895,
         "Pfizer": 0.005748794217024233,
         "SP500": -0.0003204508720298094,
         "bond": -0.0001245080000000004,
         "y": -0.367098,
         "loss": -0.0006285149835840464,
         "_deepnote_index_column": "2021-02-17T00:00:00.000000"
        },
        {
         "TSLA": -0.013585571574237676,
         "ING": -0.027546007741980016,
         "Pfizer": -0.009503311262827552,
         "SP500": -0.00442558686962613,
         "bond": 0.00040721999999999926,
         "y": -0.32637600000000005,
         "loss": 0.008012606085957462,
         "_deepnote_index_column": "2021-02-18T00:00:00.000000"
        },
        {
         "TSLA": -0.007751779133551295,
         "ING": 0.0364904116219229,
         "Pfizer": -0.0034782643763251464,
         "SP500": -0.0018566165820494973,
         "bond": 0.0003799140000000006,
         "y": -0.2883846,
         "loss": -0.0037738655869138304,
         "_deepnote_index_column": "2021-02-19T00:00:00.000000"
        },
        {
         "TSLA": -0.08937620163277682,
         "ING": 0.004165603163853504,
         "Pfizer": -0.005240186663556301,
         "SP500": -0.007762902892533674,
         "bond": -0.0004828120000000002,
         "y": -0.3366658,
         "loss": 0.014330319820448922,
         "_deepnote_index_column": "2021-02-22T00:00:00.000000"
        },
        {
         "TSLA": -0.022161179763678263,
         "ING": 0.015092714695406517,
         "Pfizer": -0.010268536758426539,
         "SP500": 0.0012554994192246482,
         "bond": 0.00037800400000000014,
         "y": -0.2988654,
         "loss": 0.0021945372278692012,
         "_deepnote_index_column": "2021-02-23T00:00:00.000000"
        },
        {
         "TSLA": 0.0599543793757773,
         "ING": 0.014334531988211108,
         "Pfizer": -0.004729538819008283,
         "SP500": 0.011287715277781274,
         "bond": 0.00023959000000000008,
         "y": -0.2749064,
         "loss": -0.01252909699550354,
         "_deepnote_index_column": "2021-02-24T00:00:00.000000"
        },
        {
         "TSLA": -0.08402401051134767,
         "ING": 0.002070042250470472,
         "Pfizer": 0.0020719261518955534,
         "SP500": -0.024783434790563774,
         "bond": 0.000825256,
         "y": -0.1923808,
         "loss": 0.014805466611737024,
         "_deepnote_index_column": "2021-02-25T00:00:00.000000"
        },
        {
         "TSLA": -0.00989902907041973,
         "ING": -0.029212294855771592,
         "Pfizer": -0.009805456664321088,
         "SP500": -0.004761483718072057,
         "bond": -0.00038232600000000005,
         "y": -0.2306134,
         "loss": 0.008121415982454732,
         "_deepnote_index_column": "2021-02-26T00:00:00.000000"
        },
        {
         "TSLA": 0.06161511818131249,
         "ING": 0.017477149074899057,
         "Pfizer": 0.005954170612348264,
         "SP500": 0.02351213008199693,
         "bond": -0.0010670260000000006,
         "y": -0.33731600000000006,
         "loss": -0.016220310330708285,
         "_deepnote_index_column": "2021-03-01T00:00:00.000000"
        },
        {
         "TSLA": -0.04554945404746391,
         "ING": 0.02281493364259468,
         "Pfizer": -0.005357155669242442,
         "SP500": -0.008113671312553805,
         "bond": -0.00019309499999999925,
         "y": -0.3566255,
         "loss": 0.005302660710300455,
         "_deepnote_index_column": "2021-03-02T00:00:00.000000"
        },
        {
         "TSLA": -0.04963546043779221,
         "ING": 0.039436763209508285,
         "Pfizer": 0.025921922694955857,
         "SP500": -0.013152318131986362,
         "bond": 0.0007316850000000003,
         "y": -0.28345699999999996,
         "loss": -0.0010464389847295772,
         "_deepnote_index_column": "2021-03-03T00:00:00.000000"
        },
        {
         "TSLA": -0.04984399543340423,
         "ING": -0.00697083216020955,
         "Pfizer": -0.005540180375615211,
         "SP500": -0.01350803796008293,
         "bond": -0.00020479400000000093,
         "y": -0.30393640000000005,
         "loss": 0.011253688370510646,
         "_deepnote_index_column": "2021-03-04T00:00:00.000000"
        },
        {
         "TSLA": -0.0385322272480888,
         "ING": 0.011071455160064136,
         "Pfizer": 0.005540180375615211,
         "SP500": 0.01930836381558443,
         "bond": 0.00021503500000000065,
         "y": -0.2824329,
         "loss": 0.00015169676085147145,
         "_deepnote_index_column": "2021-03-05T00:00:00.000000"
        },
        {
         "TSLA": -0.060227510275126406,
         "ING": 0.03988022104686273,
         "Pfizer": -0.001163805775816762,
         "SP500": -0.00537368403054117,
         "bond": 0.00012412499999999994,
         "y": -0.2700204,
         "loss": 0.0035889311279067347,
         "_deepnote_index_column": "2021-03-08T00:00:00.000000"
        },
        {
         "TSLA": 0.17932714313623244,
         "ING": -0.001135903744888811,
         "Pfizer": 0.0029069787913096334,
         "SP500": 0.014055441418612702,
         "bond": -0.0002267039999999998,
         "y": -0.2926908,
         "loss": -0.03176539782427421,
         "_deepnote_index_column": "2021-03-09T00:00:00.000000"
        },
        {
         "TSLA": -0.008228781413603059,
         "ING": 0.0003362154786330507,
         "Pfizer": 0.013837061359072589,
         "SP500": 0.006012173623114236,
         "bond": 0.000005282999999999815,
         "y": -0.2921625,
         "loss": -0.0018225038833732516,
         "_deepnote_index_column": "2021-03-10T00:00:00.000000"
        },
        {
         "TSLA": 0.046130753282127124,
         "ING": -0.03247054573717234,
         "Pfizer": -0.006318228945045412,
         "SP500": 0.010341818218279286,
         "bond": -0.0003260390000000002,
         "y": -0.3247664,
         "loss": -0.0027786783550290263,
         "_deepnote_index_column": "2021-03-11T00:00:00.000000"
        },
        {
         "TSLA": -0.008425907328190263,
         "ING": 0.010281041489064613,
         "Pfizer": 0.006604474832215601,
         "SP500": 0.001014883350162421,
         "bond": 0.0003194239999999998,
         "y": -0.29282400000000003,
         "loss": -0.001570228645630753,
         "_deepnote_index_column": "2021-03-12T00:00:00.000000"
        },
        {
         "TSLA": 0.020276508523625836,
         "ING": -0.006972840270153213,
         "Pfizer": 0.013361961417901469,
         "SP500": 0.006470976590856381,
         "bond": -0.0003758160000000005,
         "y": -0.3304056000000001,
         "loss": -0.004876703378636644,
         "_deepnote_index_column": "2021-03-15T00:00:00.000000"
        },
        {
         "TSLA": -0.044865339723637376,
         "ING": 0.002612611997175218,
         "Pfizer": 0.011791265193050293,
         "SP500": -0.0015709218841468697,
         "bond": 0.000031556000000000916,
         "y": -0.32725,
         "loss": 0.004627098679915001,
         "_deepnote_index_column": "2021-03-16T00:00:00.000000"
        },
        {
         "TSLA": 0.03616870750516288,
         "ING": 0.019322389841108567,
         "Pfizer": -0.0011170065389278783,
         "SP500": 0.002875205304977868,
         "bond": 0.00048162599999999997,
         "y": -0.2790874,
         "loss": -0.008912667615541171,
         "_deepnote_index_column": "2021-03-17T00:00:00.000000"
        },
        {
         "TSLA": -0.07184058988729891,
         "ING": 0.031198849370791315,
         "Pfizer": -0.0005589715070080103,
         "SP500": -0.01487052060181071,
         "bond": 0.000324469,
         "y": -0.24664049999999998,
         "loss": 0.00780870283901562,
         "_deepnote_index_column": "2021-03-18T00:00:00.000000"
        },
        {
         "TSLA": 0.0026146204202719403,
         "ING": -0.027752310859307183,
         "Pfizer": -0.006732143237990762,
         "SP500": -0.0006029206064699366,
         "bond": -0.00033079999999999996,
         "y": -0.2797205,
         "loss": 0.004937613933560273,
         "_deepnote_index_column": "2021-03-19T00:00:00.000000"
        },
        {
         "TSLA": 0.022840969730630434,
         "ING": -0.027122095449782613,
         "Pfizer": 0.013141528423174176,
         "SP500": 0.007000559550654373,
         "bond": -0.00013782100000000018,
         "y": -0.2935026,
         "loss": -0.002439504816261418,
         "_deepnote_index_column": "2021-03-22T00:00:00.000000"
        },
        {
         "TSLA": -0.011770493807871318,
         "ING": -0.011894090709531735,
         "Pfizer": -0.017937700686667224,
         "SP500": -0.007660100809948389,
         "bond": -0.00033529800000000053,
         "y": -0.32703240000000006,
         "loss": 0.007468970610674053,
         "_deepnote_index_column": "2021-03-23T00:00:00.000000"
        },
        {
         "TSLA": -0.049358919573494475,
         "ING": 0.015731607784169377,
         "Pfizer": 0.007045259520243707,
         "SP500": -0.005482303984823744,
         "bond": -0.00015515599999999907,
         "y": -0.34254799999999996,
         "loss": 0.0046618462897180125,
         "_deepnote_index_column": "2021-03-24T00:00:00.000000"
        },
        {
         "TSLA": 0.01592906675652017,
         "ING": -0.005055711100060645,
         "Pfizer": 0.0016835020811138968,
         "SP500": 0.0052265508159266005,
         "bond": -0.000374292,
         "y": -0.37997719999999996,
         "loss": -0.0025471564900210668,
         "_deepnote_index_column": "2021-03-25T00:00:00.000000"
        },
        {
         "TSLA": -0.03444070043158476,
         "ING": 0.0017317335987416804,
         "Pfizer": 0.016129381929883557,
         "SP500": 0.016494413826352528,
         "bond": 0.00039072799999999964,
         "y": -0.3409044,
         "loss": -0.0002772487730158688,
         "_deepnote_index_column": "2021-03-26T00:00:00.000000"
        },
        {
         "TSLA": -0.012065187007779699,
         "ING": -0.009806937759839318,
         "Pfizer": 0.01015515794568067,
         "SP500": -0.0008684019308251578,
         "bond": 0.00036268599999999987,
         "y": -0.3046358,
         "loss": 0.0017120021518885265,
         "_deepnote_index_column": "2021-03-29T00:00:00.000000"
        },
        {
         "TSLA": 0.03902942217773031,
         "ING": 0.034826127879500124,
         "Pfizer": -0.014024703956998064,
         "SP500": -0.003162819611880252,
         "bond": 0.0004107080000000002,
         "y": -0.263565,
         "loss": -0.008891880961770123,
         "_deepnote_index_column": "2021-03-30T00:00:00.000000"
        },
        {
         "TSLA": 0.04958247712805264,
         "ING": -0.0035879724035101646,
         "Pfizer": 0.0033176696176191456,
         "SP500": 0.0036159929659937973,
         "bond": -0.000132158,
         "y": -0.2767808,
         "loss": -0.008081026700913454,
         "_deepnote_index_column": "2021-03-31T00:00:00.000000"
        },
        {
         "TSLA": -0.009295536519373648,
         "ING": 0.00399949475818584,
         "Pfizer": 0.0019302363638193931,
         "SP500": 0.011755774236888783,
         "bond": -0.0004232170000000002,
         "y": -0.3191025,
         "loss": -0.0011126253459781826,
         "_deepnote_index_column": "2021-04-01T00:00:00.000000"
        }
       ]
      },
      "text/plain": "                TSLA       ING    Pfizer     SP500      bond         y  \\\nDate                                                                     \n2011-04-04 -0.030479 -0.011586  0.007820  0.000345 -0.000218  5.192452   \n2011-04-05  0.032353 -0.008779 -0.004391 -0.000180  0.000061  5.198506   \n2011-04-06 -0.007519  0.024234 -0.007855  0.002181  0.000932  5.291744   \n2011-04-07  0.027909 -0.006407  0.001969 -0.001521 -0.000207  5.271024   \n2011-04-08 -0.027909  0.024301  0.006374 -0.004013  0.001550  5.426031   \n...              ...       ...       ...       ...       ...       ...   \n2021-03-26 -0.034441  0.001732  0.016129  0.016494  0.000391 -0.340904   \n2021-03-29 -0.012065 -0.009807  0.010155 -0.000868  0.000363 -0.304636   \n2021-03-30  0.039029  0.034826 -0.014025 -0.003163  0.000411 -0.263565   \n2021-03-31  0.049582 -0.003588  0.003318  0.003616 -0.000132 -0.276781   \n2021-04-01 -0.009296  0.003999  0.001930  0.011756 -0.000423 -0.319103   \n\n                loss  \nDate                  \n2011-04-04  0.005171  \n2011-04-05 -0.002878  \n2011-04-06 -0.001998  \n2011-04-07 -0.003188  \n2011-04-08 -0.000453  \n...              ...  \n2021-03-26 -0.000277  \n2021-03-29  0.001712  \n2021-03-30 -0.008892  \n2021-03-31 -0.008081  \n2021-04-01 -0.001113  \n\n[2492 rows x 7 columns]",
      "text/html": "<div>\n<style scoped>\n    .dataframe tbody tr th:only-of-type {\n        vertical-align: middle;\n    }\n\n    .dataframe tbody tr th {\n        vertical-align: top;\n    }\n\n    .dataframe thead th {\n        text-align: right;\n    }\n</style>\n<table border=\"1\" class=\"dataframe\">\n  <thead>\n    <tr style=\"text-align: right;\">\n      <th></th>\n      <th>TSLA</th>\n      <th>ING</th>\n      <th>Pfizer</th>\n      <th>SP500</th>\n      <th>bond</th>\n      <th>y</th>\n      <th>loss</th>\n    </tr>\n    <tr>\n      <th>Date</th>\n      <th></th>\n      <th></th>\n      <th></th>\n      <th></th>\n      <th></th>\n      <th></th>\n      <th></th>\n    </tr>\n  </thead>\n  <tbody>\n    <tr>\n      <th>2011-04-04</th>\n      <td>-0.030479</td>\n      <td>-0.011586</td>\n      <td>0.007820</td>\n      <td>0.000345</td>\n      <td>-0.000218</td>\n      <td>5.192452</td>\n      <td>0.005171</td>\n    </tr>\n    <tr>\n      <th>2011-04-05</th>\n      <td>0.032353</td>\n      <td>-0.008779</td>\n      <td>-0.004391</td>\n      <td>-0.000180</td>\n      <td>0.000061</td>\n      <td>5.198506</td>\n      <td>-0.002878</td>\n    </tr>\n    <tr>\n      <th>2011-04-06</th>\n      <td>-0.007519</td>\n      <td>0.024234</td>\n      <td>-0.007855</td>\n      <td>0.002181</td>\n      <td>0.000932</td>\n      <td>5.291744</td>\n      <td>-0.001998</td>\n    </tr>\n    <tr>\n      <th>2011-04-07</th>\n      <td>0.027909</td>\n      <td>-0.006407</td>\n      <td>0.001969</td>\n      <td>-0.001521</td>\n      <td>-0.000207</td>\n      <td>5.271024</td>\n      <td>-0.003188</td>\n    </tr>\n    <tr>\n      <th>2011-04-08</th>\n      <td>-0.027909</td>\n      <td>0.024301</td>\n      <td>0.006374</td>\n      <td>-0.004013</td>\n      <td>0.001550</td>\n      <td>5.426031</td>\n      <td>-0.000453</td>\n    </tr>\n    <tr>\n      <th>...</th>\n      <td>...</td>\n      <td>...</td>\n      <td>...</td>\n      <td>...</td>\n      <td>...</td>\n      <td>...</td>\n      <td>...</td>\n    </tr>\n    <tr>\n      <th>2021-03-26</th>\n      <td>-0.034441</td>\n      <td>0.001732</td>\n      <td>0.016129</td>\n      <td>0.016494</td>\n      <td>0.000391</td>\n      <td>-0.340904</td>\n      <td>-0.000277</td>\n    </tr>\n    <tr>\n      <th>2021-03-29</th>\n      <td>-0.012065</td>\n      <td>-0.009807</td>\n      <td>0.010155</td>\n      <td>-0.000868</td>\n      <td>0.000363</td>\n      <td>-0.304636</td>\n      <td>0.001712</td>\n    </tr>\n    <tr>\n      <th>2021-03-30</th>\n      <td>0.039029</td>\n      <td>0.034826</td>\n      <td>-0.014025</td>\n      <td>-0.003163</td>\n      <td>0.000411</td>\n      <td>-0.263565</td>\n      <td>-0.008892</td>\n    </tr>\n    <tr>\n      <th>2021-03-31</th>\n      <td>0.049582</td>\n      <td>-0.003588</td>\n      <td>0.003318</td>\n      <td>0.003616</td>\n      <td>-0.000132</td>\n      <td>-0.276781</td>\n      <td>-0.008081</td>\n    </tr>\n    <tr>\n      <th>2021-04-01</th>\n      <td>-0.009296</td>\n      <td>0.003999</td>\n      <td>0.001930</td>\n      <td>0.011756</td>\n      <td>-0.000423</td>\n      <td>-0.319103</td>\n      <td>-0.001113</td>\n    </tr>\n  </tbody>\n</table>\n<p>2492 rows × 7 columns</p>\n</div>"
     },
     "metadata": {}
    }
   ]
  },
  {
   "cell_type": "code",
   "metadata": {
    "tags": [],
    "cell_id": "00003-1ac95699-84eb-4b69-9a79-a457efb2b4fe",
    "deepnote_to_be_reexecuted": false,
    "source_hash": "4308dc9d",
    "execution_start": 1618858065017,
    "execution_millis": 180,
    "deepnote_cell_type": "code"
   },
   "source": "",
   "execution_count": null,
   "outputs": []
  },
  {
   "cell_type": "code",
   "metadata": {
    "tags": [],
    "cell_id": "00003-b043bb9c-b01d-4e4a-bf07-e7b2d191d426",
    "deepnote_to_be_reexecuted": false,
    "source_hash": "7c42b9c3",
    "execution_millis": 0,
    "execution_start": 1618868064808,
    "deepnote_cell_type": "code"
   },
   "source": "start_loc = 0\nwindow_size=250\nstep=2242",
   "execution_count": null,
   "outputs": []
  },
  {
   "cell_type": "code",
   "metadata": {
    "tags": [],
    "cell_id": "00003-7b4b26b2-534a-415d-8482-7e0b7db227a5",
    "deepnote_to_be_reexecuted": false,
    "source_hash": "9bf78db1",
    "execution_millis": 195047,
    "execution_start": 1618869453495,
    "deepnote_cell_type": "code"
   },
   "source": "pred_vars=pd.DataFrame(index=L.index)\nfor asset in L.columns[:5]:\n    am = arch_model(L[asset], vol=\"Garch\", p=1, o=0, q=1, dist=\"Normal\")\n    forecasts = {}\n    for i in range(step):\n        res = am.fit(first_obs=i, last_obs=i + window_size, disp=\"off\")\n        temp = res.forecast(horizon=1, reindex=False).variance\n        #print(i,'temp',temp.shape)\n        fcast = temp.iloc[0]\n        #print(i,'fcast',fcast)\n        forecasts[fcast.name] = fcast\n    var=pd.DataFrame(forecasts).T\n    pred_vars[asset]=var\npred_vars=pred_vars.dropna()",
   "execution_count": null,
   "outputs": [
    {
     "name": "stderr",
     "text": "/root/venv/lib/python3.7/site-packages/arch/univariate/base.py:752: ConvergenceWarning: The optimizer returned code 4. The message is:\nInequality constraints incompatible\nSee scipy.optimize.fmin_slsqp for code meaning.\n\n  ConvergenceWarning,\n/root/venv/lib/python3.7/site-packages/arch/univariate/base.py:317: DataScaleWarning: y is poorly scaled, which may affect convergence of the optimizer when\nestimating the model parameters. The scale of y is 1.813e-07. Parameter\nestimation work better when this value is between 1 and 1000. The recommended\nrescaling is 1000 * y.\n\nThis warning can be disabled by either rescaling y before initializing the\nmodel or by setting rescale=False.\n\n  data_scale_warning.format(orig_scale, rescale), DataScaleWarning\n/root/venv/lib/python3.7/site-packages/arch/univariate/base.py:752: ConvergenceWarning: The optimizer returned code 4. The message is:\nInequality constraints incompatible\nSee scipy.optimize.fmin_slsqp for code meaning.\n\n  ConvergenceWarning,\n/root/venv/lib/python3.7/site-packages/arch/univariate/base.py:317: DataScaleWarning: y is poorly scaled, which may affect convergence of the optimizer when\nestimating the model parameters. The scale of y is 1.804e-07. Parameter\nestimation work better when this value is between 1 and 1000. The recommended\nrescaling is 1000 * y.\n\nThis warning can be disabled by either rescaling y before initializing the\nmodel or by setting rescale=False.\n\n  data_scale_warning.format(orig_scale, rescale), DataScaleWarning\n/root/venv/lib/python3.7/site-packages/arch/univariate/base.py:752: ConvergenceWarning: The optimizer returned code 4. The message is:\nInequality constraints incompatible\nSee scipy.optimize.fmin_slsqp for code meaning.\n\n  ConvergenceWarning,\n/root/venv/lib/python3.7/site-packages/arch/univariate/base.py:317: DataScaleWarning: y is poorly scaled, which may affect convergence of the optimizer when\nestimating the model parameters. The scale of y is 1.803e-07. Parameter\nestimation work better when this value is between 1 and 1000. The recommended\nrescaling is 1000 * y.\n\nThis warning can be disabled by either rescaling y before initializing the\nmodel or by setting rescale=False.\n\n  data_scale_warning.format(orig_scale, rescale), DataScaleWarning\n/root/venv/lib/python3.7/site-packages/arch/univariate/base.py:752: ConvergenceWarning: The optimizer returned code 4. The message is:\nInequality constraints incompatible\nSee scipy.optimize.fmin_slsqp for code meaning.\n\n  ConvergenceWarning,\n/root/venv/lib/python3.7/site-packages/arch/univariate/base.py:317: DataScaleWarning: y is poorly scaled, which may affect convergence of the optimizer when\nestimating the model parameters. The scale of y is 1.803e-07. Parameter\nestimation work better when this value is between 1 and 1000. The recommended\nrescaling is 1000 * y.\n\nThis warning can be disabled by either rescaling y before initializing the\nmodel or by setting rescale=False.\n\n  data_scale_warning.format(orig_scale, rescale), DataScaleWarning\n/root/venv/lib/python3.7/site-packages/arch/univariate/base.py:752: ConvergenceWarning: The optimizer returned code 4. The message is:\nInequality constraints incompatible\nSee scipy.optimize.fmin_slsqp for code meaning.\n\n  ConvergenceWarning,\n/root/venv/lib/python3.7/site-packages/arch/univariate/base.py:317: DataScaleWarning: y is poorly scaled, which may affect convergence of the optimizer when\nestimating the model parameters. The scale of y is 1.817e-07. Parameter\nestimation work better when this value is between 1 and 1000. The recommended\nrescaling is 1000 * y.\n\nThis warning can be disabled by either rescaling y before initializing the\nmodel or by setting rescale=False.\n\n  data_scale_warning.format(orig_scale, rescale), DataScaleWarning\n/root/venv/lib/python3.7/site-packages/arch/univariate/base.py:752: ConvergenceWarning: The optimizer returned code 4. The message is:\nInequality constraints incompatible\nSee scipy.optimize.fmin_slsqp for code meaning.\n\n  ConvergenceWarning,\n/root/venv/lib/python3.7/site-packages/arch/univariate/base.py:317: DataScaleWarning: y is poorly scaled, which may affect convergence of the optimizer when\nestimating the model parameters. The scale of y is 1.817e-07. Parameter\nestimation work better when this value is between 1 and 1000. The recommended\nrescaling is 1000 * y.\n\nThis warning can be disabled by either rescaling y before initializing the\nmodel or by setting rescale=False.\n\n  data_scale_warning.format(orig_scale, rescale), DataScaleWarning\n/root/venv/lib/python3.7/site-packages/arch/univariate/base.py:752: ConvergenceWarning: The optimizer returned code 4. The message is:\nInequality constraints incompatible\nSee scipy.optimize.fmin_slsqp for code meaning.\n\n  ConvergenceWarning,\n/root/venv/lib/python3.7/site-packages/arch/univariate/base.py:317: DataScaleWarning: y is poorly scaled, which may affect convergence of the optimizer when\nestimating the model parameters. The scale of y is 1.818e-07. Parameter\nestimation work better when this value is between 1 and 1000. The recommended\nrescaling is 1000 * y.\n\nThis warning can be disabled by either rescaling y before initializing the\nmodel or by setting rescale=False.\n\n  data_scale_warning.format(orig_scale, rescale), DataScaleWarning\n/root/venv/lib/python3.7/site-packages/arch/univariate/base.py:752: ConvergenceWarning: The optimizer returned code 4. The message is:\nInequality constraints incompatible\nSee scipy.optimize.fmin_slsqp for code meaning.\n\n  ConvergenceWarning,\n/root/venv/lib/python3.7/site-packages/arch/univariate/base.py:317: DataScaleWarning: y is poorly scaled, which may affect convergence of the optimizer when\nestimating the model parameters. The scale of y is 1.8e-07. Parameter\nestimation work better when this value is between 1 and 1000. The recommended\nrescaling is 1000 * y.\n\nThis warning can be disabled by either rescaling y before initializing the\nmodel or by setting rescale=False.\n\n  data_scale_warning.format(orig_scale, rescale), DataScaleWarning\n/root/venv/lib/python3.7/site-packages/arch/univariate/base.py:752: ConvergenceWarning: The optimizer returned code 4. The message is:\nInequality constraints incompatible\nSee scipy.optimize.fmin_slsqp for code meaning.\n\n  ConvergenceWarning,\n/root/venv/lib/python3.7/site-packages/arch/univariate/base.py:317: DataScaleWarning: y is poorly scaled, which may affect convergence of the optimizer when\nestimating the model parameters. The scale of y is 1.8e-07. Parameter\nestimation work better when this value is between 1 and 1000. The recommended\nrescaling is 1000 * y.\n\nThis warning can be disabled by either rescaling y before initializing the\nmodel or by setting rescale=False.\n\n  data_scale_warning.format(orig_scale, rescale), DataScaleWarning\n/root/venv/lib/python3.7/site-packages/arch/univariate/base.py:752: ConvergenceWarning: The optimizer returned code 4. The message is:\nInequality constraints incompatible\nSee scipy.optimize.fmin_slsqp for code meaning.\n\n  ConvergenceWarning,\n/root/venv/lib/python3.7/site-packages/arch/univariate/base.py:317: DataScaleWarning: y is poorly scaled, which may affect convergence of the optimizer when\nestimating the model parameters. The scale of y is 1.794e-07. Parameter\nestimation work better when this value is between 1 and 1000. The recommended\nrescaling is 1000 * y.\n\nThis warning can be disabled by either rescaling y before initializing the\nmodel or by setting rescale=False.\n\n  data_scale_warning.format(orig_scale, rescale), DataScaleWarning\n/root/venv/lib/python3.7/site-packages/arch/univariate/base.py:752: ConvergenceWarning: The optimizer returned code 4. The message is:\nInequality constraints incompatible\nSee scipy.optimize.fmin_slsqp for code meaning.\n\n  ConvergenceWarning,\n/root/venv/lib/python3.7/site-packages/arch/univariate/base.py:317: DataScaleWarning: y is poorly scaled, which may affect convergence of the optimizer when\nestimating the model parameters. The scale of y is 1.787e-07. Parameter\nestimation work better when this value is between 1 and 1000. The recommended\nrescaling is 1000 * y.\n\nThis warning can be disabled by either rescaling y before initializing the\nmodel or by setting rescale=False.\n\n  data_scale_warning.format(orig_scale, rescale), DataScaleWarning\n/root/venv/lib/python3.7/site-packages/arch/univariate/base.py:752: ConvergenceWarning: The optimizer returned code 4. The message is:\nInequality constraints incompatible\nSee scipy.optimize.fmin_slsqp for code meaning.\n\n  ConvergenceWarning,\n/root/venv/lib/python3.7/site-packages/arch/univariate/base.py:317: DataScaleWarning: y is poorly scaled, which may affect convergence of the optimizer when\nestimating the model parameters. The scale of y is 1.792e-07. Parameter\nestimation work better when this value is between 1 and 1000. The recommended\nrescaling is 1000 * y.\n\nThis warning can be disabled by either rescaling y before initializing the\nmodel or by setting rescale=False.\n\n  data_scale_warning.format(orig_scale, rescale), DataScaleWarning\n/root/venv/lib/python3.7/site-packages/arch/univariate/base.py:752: ConvergenceWarning: The optimizer returned code 4. The message is:\nInequality constraints incompatible\nSee scipy.optimize.fmin_slsqp for code meaning.\n\n  ConvergenceWarning,\n/root/venv/lib/python3.7/site-packages/arch/univariate/base.py:317: DataScaleWarning: y is poorly scaled, which may affect convergence of the optimizer when\nestimating the model parameters. The scale of y is 1.793e-07. Parameter\nestimation work better when this value is between 1 and 1000. The recommended\nrescaling is 1000 * y.\n\nThis warning can be disabled by either rescaling y before initializing the\nmodel or by setting rescale=False.\n\n  data_scale_warning.format(orig_scale, rescale), DataScaleWarning\n/root/venv/lib/python3.7/site-packages/arch/univariate/base.py:752: ConvergenceWarning: The optimizer returned code 4. The message is:\nInequality constraints incompatible\nSee scipy.optimize.fmin_slsqp for code meaning.\n\n  ConvergenceWarning,\n/root/venv/lib/python3.7/site-packages/arch/univariate/base.py:317: DataScaleWarning: y is poorly scaled, which may affect convergence of the optimizer when\nestimating the model parameters. The scale of y is 1.788e-07. Parameter\nestimation work better when this value is between 1 and 1000. The recommended\nrescaling is 1000 * y.\n\nThis warning can be disabled by either rescaling y before initializing the\nmodel or by setting rescale=False.\n\n  data_scale_warning.format(orig_scale, rescale), DataScaleWarning\n/root/venv/lib/python3.7/site-packages/arch/univariate/base.py:752: ConvergenceWarning: The optimizer returned code 4. The message is:\nInequality constraints incompatible\nSee scipy.optimize.fmin_slsqp for code meaning.\n\n  ConvergenceWarning,\n/root/venv/lib/python3.7/site-packages/arch/univariate/base.py:317: DataScaleWarning: y is poorly scaled, which may affect convergence of the optimizer when\nestimating the model parameters. The scale of y is 1.785e-07. Parameter\nestimation work better when this value is between 1 and 1000. The recommended\nrescaling is 1000 * y.\n\nThis warning can be disabled by either rescaling y before initializing the\nmodel or by setting rescale=False.\n\n  data_scale_warning.format(orig_scale, rescale), DataScaleWarning\n/root/venv/lib/python3.7/site-packages/arch/univariate/base.py:752: ConvergenceWarning: The optimizer returned code 4. The message is:\nInequality constraints incompatible\nSee scipy.optimize.fmin_slsqp for code meaning.\n\n  ConvergenceWarning,\n/root/venv/lib/python3.7/site-packages/arch/univariate/base.py:317: DataScaleWarning: y is poorly scaled, which may affect convergence of the optimizer when\nestimating the model parameters. The scale of y is 1.791e-07. Parameter\nestimation work better when this value is between 1 and 1000. The recommended\nrescaling is 1000 * y.\n\nThis warning can be disabled by either rescaling y before initializing the\nmodel or by setting rescale=False.\n\n  data_scale_warning.format(orig_scale, rescale), DataScaleWarning\n/root/venv/lib/python3.7/site-packages/arch/univariate/base.py:752: ConvergenceWarning: The optimizer returned code 4. The message is:\nInequality constraints incompatible\nSee scipy.optimize.fmin_slsqp for code meaning.\n\n  ConvergenceWarning,\n/root/venv/lib/python3.7/site-packages/arch/univariate/base.py:317: DataScaleWarning: y is poorly scaled, which may affect convergence of the optimizer when\nestimating the model parameters. The scale of y is 1.784e-07. Parameter\nestimation work better when this value is between 1 and 1000. The recommended\nrescaling is 1000 * y.\n\nThis warning can be disabled by either rescaling y before initializing the\nmodel or by setting rescale=False.\n\n  data_scale_warning.format(orig_scale, rescale), DataScaleWarning\n/root/venv/lib/python3.7/site-packages/arch/univariate/base.py:752: ConvergenceWarning: The optimizer returned code 4. The message is:\nInequality constraints incompatible\nSee scipy.optimize.fmin_slsqp for code meaning.\n\n  ConvergenceWarning,\n/root/venv/lib/python3.7/site-packages/arch/univariate/base.py:317: DataScaleWarning: y is poorly scaled, which may affect convergence of the optimizer when\nestimating the model parameters. The scale of y is 1.795e-07. Parameter\nestimation work better when this value is between 1 and 1000. The recommended\nrescaling is 1000 * y.\n\nThis warning can be disabled by either rescaling y before initializing the\nmodel or by setting rescale=False.\n\n  data_scale_warning.format(orig_scale, rescale), DataScaleWarning\n/root/venv/lib/python3.7/site-packages/arch/univariate/base.py:752: ConvergenceWarning: The optimizer returned code 4. The message is:\nInequality constraints incompatible\nSee scipy.optimize.fmin_slsqp for code meaning.\n\n  ConvergenceWarning,\n/root/venv/lib/python3.7/site-packages/arch/univariate/base.py:317: DataScaleWarning: y is poorly scaled, which may affect convergence of the optimizer when\nestimating the model parameters. The scale of y is 1.795e-07. Parameter\nestimation work better when this value is between 1 and 1000. The recommended\nrescaling is 1000 * y.\n\nThis warning can be disabled by either rescaling y before initializing the\nmodel or by setting rescale=False.\n\n  data_scale_warning.format(orig_scale, rescale), DataScaleWarning\n/root/venv/lib/python3.7/site-packages/arch/univariate/base.py:752: ConvergenceWarning: The optimizer returned code 4. The message is:\nInequality constraints incompatible\nSee scipy.optimize.fmin_slsqp for code meaning.\n\n  ConvergenceWarning,\n/root/venv/lib/python3.7/site-packages/arch/univariate/base.py:317: DataScaleWarning: y is poorly scaled, which may affect convergence of the optimizer when\nestimating the model parameters. The scale of y is 1.797e-07. Parameter\nestimation work better when this value is between 1 and 1000. The recommended\nrescaling is 1000 * y.\n\nThis warning can be disabled by either rescaling y before initializing the\nmodel or by setting rescale=False.\n\n  data_scale_warning.format(orig_scale, rescale), DataScaleWarning\n/root/venv/lib/python3.7/site-packages/arch/univariate/base.py:752: ConvergenceWarning: The optimizer returned code 4. The message is:\nInequality constraints incompatible\nSee scipy.optimize.fmin_slsqp for code meaning.\n\n  ConvergenceWarning,\n/root/venv/lib/python3.7/site-packages/arch/univariate/base.py:317: DataScaleWarning: y is poorly scaled, which may affect convergence of the optimizer when\nestimating the model parameters. The scale of y is 1.799e-07. Parameter\nestimation work better when this value is between 1 and 1000. The recommended\nrescaling is 1000 * y.\n\nThis warning can be disabled by either rescaling y before initializing the\nmodel or by setting rescale=False.\n\n  data_scale_warning.format(orig_scale, rescale), DataScaleWarning\n/root/venv/lib/python3.7/site-packages/arch/univariate/base.py:752: ConvergenceWarning: The optimizer returned code 4. The message is:\nInequality constraints incompatible\nSee scipy.optimize.fmin_slsqp for code meaning.\n\n  ConvergenceWarning,\n/root/venv/lib/python3.7/site-packages/arch/univariate/base.py:317: DataScaleWarning: y is poorly scaled, which may affect convergence of the optimizer when\nestimating the model parameters. The scale of y is 1.794e-07. Parameter\nestimation work better when this value is between 1 and 1000. The recommended\nrescaling is 1000 * y.\n\nThis warning can be disabled by either rescaling y before initializing the\nmodel or by setting rescale=False.\n\n  data_scale_warning.format(orig_scale, rescale), DataScaleWarning\n/root/venv/lib/python3.7/site-packages/arch/univariate/base.py:752: ConvergenceWarning: The optimizer returned code 4. The message is:\nInequality constraints incompatible\nSee scipy.optimize.fmin_slsqp for code meaning.\n\n  ConvergenceWarning,\n/root/venv/lib/python3.7/site-packages/arch/univariate/base.py:317: DataScaleWarning: y is poorly scaled, which may affect convergence of the optimizer when\nestimating the model parameters. The scale of y is 1.799e-07. Parameter\nestimation work better when this value is between 1 and 1000. The recommended\nrescaling is 1000 * y.\n\nThis warning can be disabled by either rescaling y before initializing the\nmodel or by setting rescale=False.\n\n  data_scale_warning.format(orig_scale, rescale), DataScaleWarning\n/root/venv/lib/python3.7/site-packages/arch/univariate/base.py:752: ConvergenceWarning: The optimizer returned code 4. The message is:\nInequality constraints incompatible\nSee scipy.optimize.fmin_slsqp for code meaning.\n\n  ConvergenceWarning,\n/root/venv/lib/python3.7/site-packages/arch/univariate/base.py:317: DataScaleWarning: y is poorly scaled, which may affect convergence of the optimizer when\nestimating the model parameters. The scale of y is 1.789e-07. Parameter\nestimation work better when this value is between 1 and 1000. The recommended\nrescaling is 1000 * y.\n\nThis warning can be disabled by either rescaling y before initializing the\nmodel or by setting rescale=False.\n\n  data_scale_warning.format(orig_scale, rescale), DataScaleWarning\n/root/venv/lib/python3.7/site-packages/arch/univariate/base.py:752: ConvergenceWarning: The optimizer returned code 4. The message is:\nInequality constraints incompatible\nSee scipy.optimize.fmin_slsqp for code meaning.\n\n  ConvergenceWarning,\n/root/venv/lib/python3.7/site-packages/arch/univariate/base.py:317: DataScaleWarning: y is poorly scaled, which may affect convergence of the optimizer when\nestimating the model parameters. The scale of y is 1.797e-07. Parameter\nestimation work better when this value is between 1 and 1000. The recommended\nrescaling is 1000 * y.\n\nThis warning can be disabled by either rescaling y before initializing the\nmodel or by setting rescale=False.\n\n  data_scale_warning.format(orig_scale, rescale), DataScaleWarning\n/root/venv/lib/python3.7/site-packages/arch/univariate/base.py:752: ConvergenceWarning: The optimizer returned code 4. The message is:\nInequality constraints incompatible\nSee scipy.optimize.fmin_slsqp for code meaning.\n\n  ConvergenceWarning,\n/root/venv/lib/python3.7/site-packages/arch/univariate/base.py:317: DataScaleWarning: y is poorly scaled, which may affect convergence of the optimizer when\nestimating the model parameters. The scale of y is 1.79e-07. Parameter\nestimation work better when this value is between 1 and 1000. The recommended\nrescaling is 1000 * y.\n\nThis warning can be disabled by either rescaling y before initializing the\nmodel or by setting rescale=False.\n\n  data_scale_warning.format(orig_scale, rescale), DataScaleWarning\n/root/venv/lib/python3.7/site-packages/arch/univariate/base.py:752: ConvergenceWarning: The optimizer returned code 4. The message is:\nInequality constraints incompatible\nSee scipy.optimize.fmin_slsqp for code meaning.\n\n  ConvergenceWarning,\n/root/venv/lib/python3.7/site-packages/arch/univariate/base.py:317: DataScaleWarning: y is poorly scaled, which may affect convergence of the optimizer when\nestimating the model parameters. The scale of y is 1.784e-07. Parameter\nestimation work better when this value is between 1 and 1000. The recommended\nrescaling is 1000 * y.\n\nThis warning can be disabled by either rescaling y before initializing the\nmodel or by setting rescale=False.\n\n  data_scale_warning.format(orig_scale, rescale), DataScaleWarning\n/root/venv/lib/python3.7/site-packages/arch/univariate/base.py:752: ConvergenceWarning: The optimizer returned code 4. The message is:\nInequality constraints incompatible\nSee scipy.optimize.fmin_slsqp for code meaning.\n\n  ConvergenceWarning,\n/root/venv/lib/python3.7/site-packages/arch/univariate/base.py:317: DataScaleWarning: y is poorly scaled, which may affect convergence of the optimizer when\nestimating the model parameters. The scale of y is 1.78e-07. Parameter\nestimation work better when this value is between 1 and 1000. The recommended\nrescaling is 1000 * y.\n\nThis warning can be disabled by either rescaling y before initializing the\nmodel or by setting rescale=False.\n\n  data_scale_warning.format(orig_scale, rescale), DataScaleWarning\n/root/venv/lib/python3.7/site-packages/arch/univariate/base.py:752: ConvergenceWarning: The optimizer returned code 4. The message is:\nInequality constraints incompatible\nSee scipy.optimize.fmin_slsqp for code meaning.\n\n  ConvergenceWarning,\n/root/venv/lib/python3.7/site-packages/arch/univariate/base.py:317: DataScaleWarning: y is poorly scaled, which may affect convergence of the optimizer when\nestimating the model parameters. The scale of y is 1.778e-07. Parameter\nestimation work better when this value is between 1 and 1000. The recommended\nrescaling is 1000 * y.\n\nThis warning can be disabled by either rescaling y before initializing the\nmodel or by setting rescale=False.\n\n  data_scale_warning.format(orig_scale, rescale), DataScaleWarning\n/root/venv/lib/python3.7/site-packages/arch/univariate/base.py:752: ConvergenceWarning: The optimizer returned code 4. The message is:\nInequality constraints incompatible\nSee scipy.optimize.fmin_slsqp for code meaning.\n\n  ConvergenceWarning,\n/root/venv/lib/python3.7/site-packages/arch/univariate/base.py:317: DataScaleWarning: y is poorly scaled, which may affect convergence of the optimizer when\nestimating the model parameters. The scale of y is 1.773e-07. Parameter\nestimation work better when this value is between 1 and 1000. The recommended\nrescaling is 1000 * y.\n\nThis warning can be disabled by either rescaling y before initializing the\nmodel or by setting rescale=False.\n\n  data_scale_warning.format(orig_scale, rescale), DataScaleWarning\n/root/venv/lib/python3.7/site-packages/arch/univariate/base.py:752: ConvergenceWarning: The optimizer returned code 4. The message is:\nInequality constraints incompatible\nSee scipy.optimize.fmin_slsqp for code meaning.\n\n  ConvergenceWarning,\n/root/venv/lib/python3.7/site-packages/arch/univariate/base.py:317: DataScaleWarning: y is poorly scaled, which may affect convergence of the optimizer when\nestimating the model parameters. The scale of y is 1.779e-07. Parameter\nestimation work better when this value is between 1 and 1000. The recommended\nrescaling is 1000 * y.\n\nThis warning can be disabled by either rescaling y before initializing the\nmodel or by setting rescale=False.\n\n  data_scale_warning.format(orig_scale, rescale), DataScaleWarning\n/root/venv/lib/python3.7/site-packages/arch/univariate/base.py:752: ConvergenceWarning: The optimizer returned code 4. The message is:\nInequality constraints incompatible\nSee scipy.optimize.fmin_slsqp for code meaning.\n\n  ConvergenceWarning,\n/root/venv/lib/python3.7/site-packages/arch/univariate/base.py:317: DataScaleWarning: y is poorly scaled, which may affect convergence of the optimizer when\nestimating the model parameters. The scale of y is 1.77e-07. Parameter\nestimation work better when this value is between 1 and 1000. The recommended\nrescaling is 1000 * y.\n\nThis warning can be disabled by either rescaling y before initializing the\nmodel or by setting rescale=False.\n\n  data_scale_warning.format(orig_scale, rescale), DataScaleWarning\n/root/venv/lib/python3.7/site-packages/arch/univariate/base.py:752: ConvergenceWarning: The optimizer returned code 4. The message is:\nInequality constraints incompatible\nSee scipy.optimize.fmin_slsqp for code meaning.\n\n  ConvergenceWarning,\n/root/venv/lib/python3.7/site-packages/arch/univariate/base.py:317: DataScaleWarning: y is poorly scaled, which may affect convergence of the optimizer when\nestimating the model parameters. The scale of y is 1.764e-07. Parameter\nestimation work better when this value is between 1 and 1000. The recommended\nrescaling is 1000 * y.\n\nThis warning can be disabled by either rescaling y before initializing the\nmodel or by setting rescale=False.\n\n  data_scale_warning.format(orig_scale, rescale), DataScaleWarning\n/root/venv/lib/python3.7/site-packages/arch/univariate/base.py:752: ConvergenceWarning: The optimizer returned code 4. The message is:\nInequality constraints incompatible\nSee scipy.optimize.fmin_slsqp for code meaning.\n\n  ConvergenceWarning,\n/root/venv/lib/python3.7/site-packages/arch/univariate/base.py:317: DataScaleWarning: y is poorly scaled, which may affect convergence of the optimizer when\nestimating the model parameters. The scale of y is 1.765e-07. Parameter\nestimation work better when this value is between 1 and 1000. The recommended\nrescaling is 1000 * y.\n\nThis warning can be disabled by either rescaling y before initializing the\nmodel or by setting rescale=False.\n\n  data_scale_warning.format(orig_scale, rescale), DataScaleWarning\n/root/venv/lib/python3.7/site-packages/arch/univariate/base.py:752: ConvergenceWarning: The optimizer returned code 4. The message is:\nInequality constraints incompatible\nSee scipy.optimize.fmin_slsqp for code meaning.\n\n  ConvergenceWarning,\n/root/venv/lib/python3.7/site-packages/arch/univariate/base.py:317: DataScaleWarning: y is poorly scaled, which may affect convergence of the optimizer when\nestimating the model parameters. The scale of y is 1.764e-07. Parameter\nestimation work better when this value is between 1 and 1000. The recommended\nrescaling is 1000 * y.\n\nThis warning can be disabled by either rescaling y before initializing the\nmodel or by setting rescale=False.\n\n  data_scale_warning.format(orig_scale, rescale), DataScaleWarning\n/root/venv/lib/python3.7/site-packages/arch/univariate/base.py:752: ConvergenceWarning: The optimizer returned code 4. The message is:\nInequality constraints incompatible\nSee scipy.optimize.fmin_slsqp for code meaning.\n\n  ConvergenceWarning,\n/root/venv/lib/python3.7/site-packages/arch/univariate/base.py:317: DataScaleWarning: y is poorly scaled, which may affect convergence of the optimizer when\nestimating the model parameters. The scale of y is 1.761e-07. Parameter\nestimation work better when this value is between 1 and 1000. The recommended\nrescaling is 1000 * y.\n\nThis warning can be disabled by either rescaling y before initializing the\nmodel or by setting rescale=False.\n\n  data_scale_warning.format(orig_scale, rescale), DataScaleWarning\n/root/venv/lib/python3.7/site-packages/arch/univariate/base.py:752: ConvergenceWarning: The optimizer returned code 4. The message is:\nInequality constraints incompatible\nSee scipy.optimize.fmin_slsqp for code meaning.\n\n  ConvergenceWarning,\n/root/venv/lib/python3.7/site-packages/arch/univariate/base.py:317: DataScaleWarning: y is poorly scaled, which may affect convergence of the optimizer when\nestimating the model parameters. The scale of y is 1.76e-07. Parameter\nestimation work better when this value is between 1 and 1000. The recommended\nrescaling is 1000 * y.\n\nThis warning can be disabled by either rescaling y before initializing the\nmodel or by setting rescale=False.\n\n  data_scale_warning.format(orig_scale, rescale), DataScaleWarning\n/root/venv/lib/python3.7/site-packages/arch/univariate/base.py:752: ConvergenceWarning: The optimizer returned code 4. The message is:\nInequality constraints incompatible\nSee scipy.optimize.fmin_slsqp for code meaning.\n\n  ConvergenceWarning,\n/root/venv/lib/python3.7/site-packages/arch/univariate/base.py:317: DataScaleWarning: y is poorly scaled, which may affect convergence of the optimizer when\nestimating the model parameters. The scale of y is 1.76e-07. Parameter\nestimation work better when this value is between 1 and 1000. The recommended\nrescaling is 1000 * y.\n\nThis warning can be disabled by either rescaling y before initializing the\nmodel or by setting rescale=False.\n\n  data_scale_warning.format(orig_scale, rescale), DataScaleWarning\n/root/venv/lib/python3.7/site-packages/arch/univariate/base.py:752: ConvergenceWarning: The optimizer returned code 4. The message is:\nInequality constraints incompatible\nSee scipy.optimize.fmin_slsqp for code meaning.\n\n  ConvergenceWarning,\n/root/venv/lib/python3.7/site-packages/arch/univariate/base.py:317: DataScaleWarning: y is poorly scaled, which may affect convergence of the optimizer when\nestimating the model parameters. The scale of y is 1.764e-07. Parameter\nestimation work better when this value is between 1 and 1000. The recommended\nrescaling is 1000 * y.\n\nThis warning can be disabled by either rescaling y before initializing the\nmodel or by setting rescale=False.\n\n  data_scale_warning.format(orig_scale, rescale), DataScaleWarning\n/root/venv/lib/python3.7/site-packages/arch/univariate/base.py:752: ConvergenceWarning: The optimizer returned code 4. The message is:\nInequality constraints incompatible\nSee scipy.optimize.fmin_slsqp for code meaning.\n\n  ConvergenceWarning,\n/root/venv/lib/python3.7/site-packages/arch/univariate/base.py:317: DataScaleWarning: y is poorly scaled, which may affect convergence of the optimizer when\nestimating the model parameters. The scale of y is 1.795e-07. Parameter\nestimation work better when this value is between 1 and 1000. The recommended\nrescaling is 1000 * y.\n\nThis warning can be disabled by either rescaling y before initializing the\nmodel or by setting rescale=False.\n\n  data_scale_warning.format(orig_scale, rescale), DataScaleWarning\n/root/venv/lib/python3.7/site-packages/arch/univariate/base.py:752: ConvergenceWarning: The optimizer returned code 4. The message is:\nInequality constraints incompatible\nSee scipy.optimize.fmin_slsqp for code meaning.\n\n  ConvergenceWarning,\n/root/venv/lib/python3.7/site-packages/arch/univariate/base.py:317: DataScaleWarning: y is poorly scaled, which may affect convergence of the optimizer when\nestimating the model parameters. The scale of y is 1.795e-07. Parameter\nestimation work better when this value is between 1 and 1000. The recommended\nrescaling is 1000 * y.\n\nThis warning can be disabled by either rescaling y before initializing the\nmodel or by setting rescale=False.\n\n  data_scale_warning.format(orig_scale, rescale), DataScaleWarning\n/root/venv/lib/python3.7/site-packages/arch/univariate/base.py:752: ConvergenceWarning: The optimizer returned code 4. The message is:\nInequality constraints incompatible\nSee scipy.optimize.fmin_slsqp for code meaning.\n\n  ConvergenceWarning,\n/root/venv/lib/python3.7/site-packages/arch/univariate/base.py:317: DataScaleWarning: y is poorly scaled, which may affect convergence of the optimizer when\nestimating the model parameters. The scale of y is 1.801e-07. Parameter\nestimation work better when this value is between 1 and 1000. The recommended\nrescaling is 1000 * y.\n\nThis warning can be disabled by either rescaling y before initializing the\nmodel or by setting rescale=False.\n\n  data_scale_warning.format(orig_scale, rescale), DataScaleWarning\n/root/venv/lib/python3.7/site-packages/arch/univariate/base.py:752: ConvergenceWarning: The optimizer returned code 4. The message is:\nInequality constraints incompatible\nSee scipy.optimize.fmin_slsqp for code meaning.\n\n  ConvergenceWarning,\n/root/venv/lib/python3.7/site-packages/arch/univariate/base.py:317: DataScaleWarning: y is poorly scaled, which may affect convergence of the optimizer when\nestimating the model parameters. The scale of y is 1.805e-07. Parameter\nestimation work better when this value is between 1 and 1000. The recommended\nrescaling is 1000 * y.\n\nThis warning can be disabled by either rescaling y before initializing the\nmodel or by setting rescale=False.\n\n  data_scale_warning.format(orig_scale, rescale), DataScaleWarning\n/root/venv/lib/python3.7/site-packages/arch/univariate/base.py:752: ConvergenceWarning: The optimizer returned code 4. The message is:\nInequality constraints incompatible\nSee scipy.optimize.fmin_slsqp for code meaning.\n\n  ConvergenceWarning,\n/root/venv/lib/python3.7/site-packages/arch/univariate/base.py:317: DataScaleWarning: y is poorly scaled, which may affect convergence of the optimizer when\nestimating the model parameters. The scale of y is 1.814e-07. Parameter\nestimation work better when this value is between 1 and 1000. The recommended\nrescaling is 1000 * y.\n\nThis warning can be disabled by either rescaling y before initializing the\nmodel or by setting rescale=False.\n\n  data_scale_warning.format(orig_scale, rescale), DataScaleWarning\n/root/venv/lib/python3.7/site-packages/arch/univariate/base.py:752: ConvergenceWarning: The optimizer returned code 4. The message is:\nInequality constraints incompatible\nSee scipy.optimize.fmin_slsqp for code meaning.\n\n  ConvergenceWarning,\n/root/venv/lib/python3.7/site-packages/arch/univariate/base.py:317: DataScaleWarning: y is poorly scaled, which may affect convergence of the optimizer when\nestimating the model parameters. The scale of y is 1.813e-07. Parameter\nestimation work better when this value is between 1 and 1000. The recommended\nrescaling is 1000 * y.\n\nThis warning can be disabled by either rescaling y before initializing the\nmodel or by setting rescale=False.\n\n  data_scale_warning.format(orig_scale, rescale), DataScaleWarning\n/root/venv/lib/python3.7/site-packages/arch/univariate/base.py:752: ConvergenceWarning: The optimizer returned code 4. The message is:\nInequality constraints incompatible\nSee scipy.optimize.fmin_slsqp for code meaning.\n\n  ConvergenceWarning,\n/root/venv/lib/python3.7/site-packages/arch/univariate/base.py:317: DataScaleWarning: y is poorly scaled, which may affect convergence of the optimizer when\nestimating the model parameters. The scale of y is 1.812e-07. Parameter\nestimation work better when this value is between 1 and 1000. The recommended\nrescaling is 1000 * y.\n\nThis warning can be disabled by either rescaling y before initializing the\nmodel or by setting rescale=False.\n\n  data_scale_warning.format(orig_scale, rescale), DataScaleWarning\n/root/venv/lib/python3.7/site-packages/arch/univariate/base.py:752: ConvergenceWarning: The optimizer returned code 4. The message is:\nInequality constraints incompatible\nSee scipy.optimize.fmin_slsqp for code meaning.\n\n  ConvergenceWarning,\n/root/venv/lib/python3.7/site-packages/arch/univariate/base.py:317: DataScaleWarning: y is poorly scaled, which may affect convergence of the optimizer when\nestimating the model parameters. The scale of y is 1.838e-07. Parameter\nestimation work better when this value is between 1 and 1000. The recommended\nrescaling is 1000 * y.\n\nThis warning can be disabled by either rescaling y before initializing the\nmodel or by setting rescale=False.\n\n  data_scale_warning.format(orig_scale, rescale), DataScaleWarning\n/root/venv/lib/python3.7/site-packages/arch/univariate/base.py:752: ConvergenceWarning: The optimizer returned code 4. The message is:\nInequality constraints incompatible\nSee scipy.optimize.fmin_slsqp for code meaning.\n\n  ConvergenceWarning,\n/root/venv/lib/python3.7/site-packages/arch/univariate/base.py:317: DataScaleWarning: y is poorly scaled, which may affect convergence of the optimizer when\nestimating the model parameters. The scale of y is 1.835e-07. Parameter\nestimation work better when this value is between 1 and 1000. The recommended\nrescaling is 1000 * y.\n\nThis warning can be disabled by either rescaling y before initializing the\nmodel or by setting rescale=False.\n\n  data_scale_warning.format(orig_scale, rescale), DataScaleWarning\n/root/venv/lib/python3.7/site-packages/arch/univariate/base.py:752: ConvergenceWarning: The optimizer returned code 4. The message is:\nInequality constraints incompatible\nSee scipy.optimize.fmin_slsqp for code meaning.\n\n  ConvergenceWarning,\n/root/venv/lib/python3.7/site-packages/arch/univariate/base.py:317: DataScaleWarning: y is poorly scaled, which may affect convergence of the optimizer when\nestimating the model parameters. The scale of y is 1.873e-07. Parameter\nestimation work better when this value is between 1 and 1000. The recommended\nrescaling is 1000 * y.\n\nThis warning can be disabled by either rescaling y before initializing the\nmodel or by setting rescale=False.\n\n  data_scale_warning.format(orig_scale, rescale), DataScaleWarning\n/root/venv/lib/python3.7/site-packages/arch/univariate/base.py:752: ConvergenceWarning: The optimizer returned code 4. The message is:\nInequality constraints incompatible\nSee scipy.optimize.fmin_slsqp for code meaning.\n\n  ConvergenceWarning,\n/root/venv/lib/python3.7/site-packages/arch/univariate/base.py:317: DataScaleWarning: y is poorly scaled, which may affect convergence of the optimizer when\nestimating the model parameters. The scale of y is 1.873e-07. Parameter\nestimation work better when this value is between 1 and 1000. The recommended\nrescaling is 1000 * y.\n\nThis warning can be disabled by either rescaling y before initializing the\nmodel or by setting rescale=False.\n\n  data_scale_warning.format(orig_scale, rescale), DataScaleWarning\n/root/venv/lib/python3.7/site-packages/arch/univariate/base.py:752: ConvergenceWarning: The optimizer returned code 4. The message is:\nInequality constraints incompatible\nSee scipy.optimize.fmin_slsqp for code meaning.\n\n  ConvergenceWarning,\n/root/venv/lib/python3.7/site-packages/arch/univariate/base.py:317: DataScaleWarning: y is poorly scaled, which may affect convergence of the optimizer when\nestimating the model parameters. The scale of y is 1.891e-07. Parameter\nestimation work better when this value is between 1 and 1000. The recommended\nrescaling is 1000 * y.\n\nThis warning can be disabled by either rescaling y before initializing the\nmodel or by setting rescale=False.\n\n  data_scale_warning.format(orig_scale, rescale), DataScaleWarning\n/root/venv/lib/python3.7/site-packages/arch/univariate/base.py:752: ConvergenceWarning: The optimizer returned code 4. The message is:\nInequality constraints incompatible\nSee scipy.optimize.fmin_slsqp for code meaning.\n\n  ConvergenceWarning,\n/root/venv/lib/python3.7/site-packages/arch/univariate/base.py:317: DataScaleWarning: y is poorly scaled, which may affect convergence of the optimizer when\nestimating the model parameters. The scale of y is 1.893e-07. Parameter\nestimation work better when this value is between 1 and 1000. The recommended\nrescaling is 1000 * y.\n\nThis warning can be disabled by either rescaling y before initializing the\nmodel or by setting rescale=False.\n\n  data_scale_warning.format(orig_scale, rescale), DataScaleWarning\n/root/venv/lib/python3.7/site-packages/arch/univariate/base.py:752: ConvergenceWarning: The optimizer returned code 4. The message is:\nInequality constraints incompatible\nSee scipy.optimize.fmin_slsqp for code meaning.\n\n  ConvergenceWarning,\n/root/venv/lib/python3.7/site-packages/arch/univariate/base.py:317: DataScaleWarning: y is poorly scaled, which may affect convergence of the optimizer when\nestimating the model parameters. The scale of y is 1.888e-07. Parameter\nestimation work better when this value is between 1 and 1000. The recommended\nrescaling is 1000 * y.\n\nThis warning can be disabled by either rescaling y before initializing the\nmodel or by setting rescale=False.\n\n  data_scale_warning.format(orig_scale, rescale), DataScaleWarning\n/root/venv/lib/python3.7/site-packages/arch/univariate/base.py:752: ConvergenceWarning: The optimizer returned code 4. The message is:\nInequality constraints incompatible\nSee scipy.optimize.fmin_slsqp for code meaning.\n\n  ConvergenceWarning,\n/root/venv/lib/python3.7/site-packages/arch/univariate/base.py:317: DataScaleWarning: y is poorly scaled, which may affect convergence of the optimizer when\nestimating the model parameters. The scale of y is 1.887e-07. Parameter\nestimation work better when this value is between 1 and 1000. The recommended\nrescaling is 1000 * y.\n\nThis warning can be disabled by either rescaling y before initializing the\nmodel or by setting rescale=False.\n\n  data_scale_warning.format(orig_scale, rescale), DataScaleWarning\n/root/venv/lib/python3.7/site-packages/arch/univariate/base.py:752: ConvergenceWarning: The optimizer returned code 4. The message is:\nInequality constraints incompatible\nSee scipy.optimize.fmin_slsqp for code meaning.\n\n  ConvergenceWarning,\n/root/venv/lib/python3.7/site-packages/arch/univariate/base.py:317: DataScaleWarning: y is poorly scaled, which may affect convergence of the optimizer when\nestimating the model parameters. The scale of y is 1.85e-07. Parameter\nestimation work better when this value is between 1 and 1000. The recommended\nrescaling is 1000 * y.\n\nThis warning can be disabled by either rescaling y before initializing the\nmodel or by setting rescale=False.\n\n  data_scale_warning.format(orig_scale, rescale), DataScaleWarning\n/root/venv/lib/python3.7/site-packages/arch/univariate/base.py:752: ConvergenceWarning: The optimizer returned code 4. The message is:\nInequality constraints incompatible\nSee scipy.optimize.fmin_slsqp for code meaning.\n\n  ConvergenceWarning,\n/root/venv/lib/python3.7/site-packages/arch/univariate/base.py:317: DataScaleWarning: y is poorly scaled, which may affect convergence of the optimizer when\nestimating the model parameters. The scale of y is 1.823e-07. Parameter\nestimation work better when this value is between 1 and 1000. The recommended\nrescaling is 1000 * y.\n\nThis warning can be disabled by either rescaling y before initializing the\nmodel or by setting rescale=False.\n\n  data_scale_warning.format(orig_scale, rescale), DataScaleWarning\n/root/venv/lib/python3.7/site-packages/arch/univariate/base.py:752: ConvergenceWarning: The optimizer returned code 4. The message is:\nInequality constraints incompatible\nSee scipy.optimize.fmin_slsqp for code meaning.\n\n  ConvergenceWarning,\n/root/venv/lib/python3.7/site-packages/arch/univariate/base.py:317: DataScaleWarning: y is poorly scaled, which may affect convergence of the optimizer when\nestimating the model parameters. The scale of y is 1.826e-07. Parameter\nestimation work better when this value is between 1 and 1000. The recommended\nrescaling is 1000 * y.\n\nThis warning can be disabled by either rescaling y before initializing the\nmodel or by setting rescale=False.\n\n  data_scale_warning.format(orig_scale, rescale), DataScaleWarning\n/root/venv/lib/python3.7/site-packages/arch/univariate/base.py:752: ConvergenceWarning: The optimizer returned code 4. The message is:\nInequality constraints incompatible\nSee scipy.optimize.fmin_slsqp for code meaning.\n\n  ConvergenceWarning,\n/root/venv/lib/python3.7/site-packages/arch/univariate/base.py:317: DataScaleWarning: y is poorly scaled, which may affect convergence of the optimizer when\nestimating the model parameters. The scale of y is 1.822e-07. Parameter\nestimation work better when this value is between 1 and 1000. The recommended\nrescaling is 1000 * y.\n\nThis warning can be disabled by either rescaling y before initializing the\nmodel or by setting rescale=False.\n\n  data_scale_warning.format(orig_scale, rescale), DataScaleWarning\n/root/venv/lib/python3.7/site-packages/arch/univariate/base.py:752: ConvergenceWarning: The optimizer returned code 4. The message is:\nInequality constraints incompatible\nSee scipy.optimize.fmin_slsqp for code meaning.\n\n  ConvergenceWarning,\n/root/venv/lib/python3.7/site-packages/arch/univariate/base.py:317: DataScaleWarning: y is poorly scaled, which may affect convergence of the optimizer when\nestimating the model parameters. The scale of y is 1.673e-07. Parameter\nestimation work better when this value is between 1 and 1000. The recommended\nrescaling is 1000 * y.\n\nThis warning can be disabled by either rescaling y before initializing the\nmodel or by setting rescale=False.\n\n  data_scale_warning.format(orig_scale, rescale), DataScaleWarning\n/root/venv/lib/python3.7/site-packages/arch/univariate/base.py:752: ConvergenceWarning: The optimizer returned code 4. The message is:\nInequality constraints incompatible\nSee scipy.optimize.fmin_slsqp for code meaning.\n\n  ConvergenceWarning,\n/root/venv/lib/python3.7/site-packages/arch/univariate/base.py:317: DataScaleWarning: y is poorly scaled, which may affect convergence of the optimizer when\nestimating the model parameters. The scale of y is 1.567e-07. Parameter\nestimation work better when this value is between 1 and 1000. The recommended\nrescaling is 1000 * y.\n\nThis warning can be disabled by either rescaling y before initializing the\nmodel or by setting rescale=False.\n\n  data_scale_warning.format(orig_scale, rescale), DataScaleWarning\n/root/venv/lib/python3.7/site-packages/arch/univariate/base.py:752: ConvergenceWarning: The optimizer returned code 4. The message is:\nInequality constraints incompatible\nSee scipy.optimize.fmin_slsqp for code meaning.\n\n  ConvergenceWarning,\n/root/venv/lib/python3.7/site-packages/arch/univariate/base.py:317: DataScaleWarning: y is poorly scaled, which may affect convergence of the optimizer when\nestimating the model parameters. The scale of y is 1.521e-07. Parameter\nestimation work better when this value is between 1 and 1000. The recommended\nrescaling is 1000 * y.\n\nThis warning can be disabled by either rescaling y before initializing the\nmodel or by setting rescale=False.\n\n  data_scale_warning.format(orig_scale, rescale), DataScaleWarning\n/root/venv/lib/python3.7/site-packages/arch/univariate/base.py:752: ConvergenceWarning: The optimizer returned code 4. The message is:\nInequality constraints incompatible\nSee scipy.optimize.fmin_slsqp for code meaning.\n\n  ConvergenceWarning,\n/root/venv/lib/python3.7/site-packages/arch/univariate/base.py:317: DataScaleWarning: y is poorly scaled, which may affect convergence of the optimizer when\nestimating the model parameters. The scale of y is 1.385e-07. Parameter\nestimation work better when this value is between 1 and 1000. The recommended\nrescaling is 1000 * y.\n\nThis warning can be disabled by either rescaling y before initializing the\nmodel or by setting rescale=False.\n\n  data_scale_warning.format(orig_scale, rescale), DataScaleWarning\n/root/venv/lib/python3.7/site-packages/arch/univariate/base.py:752: ConvergenceWarning: The optimizer returned code 4. The message is:\nInequality constraints incompatible\nSee scipy.optimize.fmin_slsqp for code meaning.\n\n  ConvergenceWarning,\n/root/venv/lib/python3.7/site-packages/arch/univariate/base.py:317: DataScaleWarning: y is poorly scaled, which may affect convergence of the optimizer when\nestimating the model parameters. The scale of y is 1.389e-07. Parameter\nestimation work better when this value is between 1 and 1000. The recommended\nrescaling is 1000 * y.\n\nThis warning can be disabled by either rescaling y before initializing the\nmodel or by setting rescale=False.\n\n  data_scale_warning.format(orig_scale, rescale), DataScaleWarning\n/root/venv/lib/python3.7/site-packages/arch/univariate/base.py:752: ConvergenceWarning: The optimizer returned code 4. The message is:\nInequality constraints incompatible\nSee scipy.optimize.fmin_slsqp for code meaning.\n\n  ConvergenceWarning,\n/root/venv/lib/python3.7/site-packages/arch/univariate/base.py:317: DataScaleWarning: y is poorly scaled, which may affect convergence of the optimizer when\nestimating the model parameters. The scale of y is 1.274e-07. Parameter\nestimation work better when this value is between 1 and 1000. The recommended\nrescaling is 1000 * y.\n\nThis warning can be disabled by either rescaling y before initializing the\nmodel or by setting rescale=False.\n\n  data_scale_warning.format(orig_scale, rescale), DataScaleWarning\n/root/venv/lib/python3.7/site-packages/arch/univariate/base.py:752: ConvergenceWarning: The optimizer returned code 4. The message is:\nInequality constraints incompatible\nSee scipy.optimize.fmin_slsqp for code meaning.\n\n  ConvergenceWarning,\n/root/venv/lib/python3.7/site-packages/arch/univariate/base.py:317: DataScaleWarning: y is poorly scaled, which may affect convergence of the optimizer when\nestimating the model parameters. The scale of y is 1.27e-07. Parameter\nestimation work better when this value is between 1 and 1000. The recommended\nrescaling is 1000 * y.\n\nThis warning can be disabled by either rescaling y before initializing the\nmodel or by setting rescale=False.\n\n  data_scale_warning.format(orig_scale, rescale), DataScaleWarning\n/root/venv/lib/python3.7/site-packages/arch/univariate/base.py:752: ConvergenceWarning: The optimizer returned code 4. The message is:\nInequality constraints incompatible\nSee scipy.optimize.fmin_slsqp for code meaning.\n\n  ConvergenceWarning,\n/root/venv/lib/python3.7/site-packages/arch/univariate/base.py:317: DataScaleWarning: y is poorly scaled, which may affect convergence of the optimizer when\nestimating the model parameters. The scale of y is 1.266e-07. Parameter\nestimation work better when this value is between 1 and 1000. The recommended\nrescaling is 1000 * y.\n\nThis warning can be disabled by either rescaling y before initializing the\nmodel or by setting rescale=False.\n\n  data_scale_warning.format(orig_scale, rescale), DataScaleWarning\n/root/venv/lib/python3.7/site-packages/arch/univariate/base.py:752: ConvergenceWarning: The optimizer returned code 4. The message is:\nInequality constraints incompatible\nSee scipy.optimize.fmin_slsqp for code meaning.\n\n  ConvergenceWarning,\n/root/venv/lib/python3.7/site-packages/arch/univariate/base.py:317: DataScaleWarning: y is poorly scaled, which may affect convergence of the optimizer when\nestimating the model parameters. The scale of y is 1.218e-07. Parameter\nestimation work better when this value is between 1 and 1000. The recommended\nrescaling is 1000 * y.\n\nThis warning can be disabled by either rescaling y before initializing the\nmodel or by setting rescale=False.\n\n  data_scale_warning.format(orig_scale, rescale), DataScaleWarning\n/root/venv/lib/python3.7/site-packages/arch/univariate/base.py:752: ConvergenceWarning: The optimizer returned code 4. The message is:\nInequality constraints incompatible\nSee scipy.optimize.fmin_slsqp for code meaning.\n\n  ConvergenceWarning,\n/root/venv/lib/python3.7/site-packages/arch/univariate/base.py:317: DataScaleWarning: y is poorly scaled, which may affect convergence of the optimizer when\nestimating the model parameters. The scale of y is 1.156e-07. Parameter\nestimation work better when this value is between 1 and 1000. The recommended\nrescaling is 1000 * y.\n\nThis warning can be disabled by either rescaling y before initializing the\nmodel or by setting rescale=False.\n\n  data_scale_warning.format(orig_scale, rescale), DataScaleWarning\n/root/venv/lib/python3.7/site-packages/arch/univariate/base.py:752: ConvergenceWarning: The optimizer returned code 4. The message is:\nInequality constraints incompatible\nSee scipy.optimize.fmin_slsqp for code meaning.\n\n  ConvergenceWarning,\n/root/venv/lib/python3.7/site-packages/arch/univariate/base.py:317: DataScaleWarning: y is poorly scaled, which may affect convergence of the optimizer when\nestimating the model parameters. The scale of y is 1.092e-07. Parameter\nestimation work better when this value is between 1 and 1000. The recommended\nrescaling is 1000 * y.\n\nThis warning can be disabled by either rescaling y before initializing the\nmodel or by setting rescale=False.\n\n  data_scale_warning.format(orig_scale, rescale), DataScaleWarning\n/root/venv/lib/python3.7/site-packages/arch/univariate/base.py:752: ConvergenceWarning: The optimizer returned code 4. The message is:\nInequality constraints incompatible\nSee scipy.optimize.fmin_slsqp for code meaning.\n\n  ConvergenceWarning,\n/root/venv/lib/python3.7/site-packages/arch/univariate/base.py:317: DataScaleWarning: y is poorly scaled, which may affect convergence of the optimizer when\nestimating the model parameters. The scale of y is 1.098e-07. Parameter\nestimation work better when this value is between 1 and 1000. The recommended\nrescaling is 1000 * y.\n\nThis warning can be disabled by either rescaling y before initializing the\nmodel or by setting rescale=False.\n\n  data_scale_warning.format(orig_scale, rescale), DataScaleWarning\n/root/venv/lib/python3.7/site-packages/arch/univariate/base.py:752: ConvergenceWarning: The optimizer returned code 4. The message is:\nInequality constraints incompatible\nSee scipy.optimize.fmin_slsqp for code meaning.\n\n  ConvergenceWarning,\n/root/venv/lib/python3.7/site-packages/arch/univariate/base.py:317: DataScaleWarning: y is poorly scaled, which may affect convergence of the optimizer when\nestimating the model parameters. The scale of y is 1.094e-07. Parameter\nestimation work better when this value is between 1 and 1000. The recommended\nrescaling is 1000 * y.\n\nThis warning can be disabled by either rescaling y before initializing the\nmodel or by setting rescale=False.\n\n  data_scale_warning.format(orig_scale, rescale), DataScaleWarning\n/root/venv/lib/python3.7/site-packages/arch/univariate/base.py:752: ConvergenceWarning: The optimizer returned code 4. The message is:\nInequality constraints incompatible\nSee scipy.optimize.fmin_slsqp for code meaning.\n\n  ConvergenceWarning,\n",
     "output_type": "stream"
    }
   ]
  },
  {
   "cell_type": "code",
   "metadata": {
    "tags": [],
    "cell_id": "00006-f33bd4a9-7169-4220-895f-1b48cab95f2f",
    "deepnote_to_be_reexecuted": false,
    "source_hash": "8a9df0f8",
    "execution_millis": 58,
    "execution_start": 1618869648544,
    "deepnote_cell_type": "code"
   },
   "source": "sigma=np.sqrt(pred_vars) \nsigma",
   "execution_count": null,
   "outputs": [
    {
     "output_type": "execute_result",
     "execution_count": 87,
     "data": {
      "application/vnd.deepnote.dataframe.v2+json": {
       "row_count": 2242,
       "column_count": 5,
       "columns": [
        {
         "name": "TSLA",
         "dtype": "float64",
         "stats": {
          "unique_count": 2242,
          "nan_count": 0,
          "min": "0.018083856333800115",
          "max": "0.12994929868776145",
          "histogram": [
           {
            "bin_start": 0.018083856333800115,
            "bin_end": 0.029270400569196248,
            "count": 937
           },
           {
            "bin_start": 0.029270400569196248,
            "bin_end": 0.04045694480459239,
            "count": 915
           },
           {
            "bin_start": 0.04045694480459239,
            "bin_end": 0.05164348903998852,
            "count": 245
           },
           {
            "bin_start": 0.05164348903998852,
            "bin_end": 0.06283003327538465,
            "count": 82
           },
           {
            "bin_start": 0.06283003327538465,
            "bin_end": 0.07401657751078078,
            "count": 27
           },
           {
            "bin_start": 0.07401657751078078,
            "bin_end": 0.08520312174617692,
            "count": 16
           },
           {
            "bin_start": 0.08520312174617692,
            "bin_end": 0.09638966598157306,
            "count": 16
           },
           {
            "bin_start": 0.09638966598157306,
            "bin_end": 0.1075762102169692,
            "count": 2
           },
           {
            "bin_start": 0.1075762102169692,
            "bin_end": 0.11876275445236534,
            "count": 0
           },
           {
            "bin_start": 0.11876275445236534,
            "bin_end": 0.12994929868776145,
            "count": 2
           }
          ]
         }
        },
        {
         "name": "ING",
         "dtype": "float64",
         "stats": {
          "unique_count": 2242,
          "nan_count": 0,
          "min": "0.008166223363708022",
          "max": "0.11357218785839515",
          "histogram": [
           {
            "bin_start": 0.008166223363708022,
            "bin_end": 0.018706819813176734,
            "count": 1333
           },
           {
            "bin_start": 0.018706819813176734,
            "bin_end": 0.02924741626264545,
            "count": 575
           },
           {
            "bin_start": 0.02924741626264545,
            "bin_end": 0.039788012712114164,
            "count": 227
           },
           {
            "bin_start": 0.039788012712114164,
            "bin_end": 0.050328609161582875,
            "count": 59
           },
           {
            "bin_start": 0.050328609161582875,
            "bin_end": 0.06086920561105159,
            "count": 22
           },
           {
            "bin_start": 0.06086920561105159,
            "bin_end": 0.0714098020605203,
            "count": 13
           },
           {
            "bin_start": 0.0714098020605203,
            "bin_end": 0.08195039850998902,
            "count": 3
           },
           {
            "bin_start": 0.08195039850998902,
            "bin_end": 0.09249099495945773,
            "count": 6
           },
           {
            "bin_start": 0.09249099495945773,
            "bin_end": 0.10303159140892644,
            "count": 1
           },
           {
            "bin_start": 0.10303159140892644,
            "bin_end": 0.11357218785839515,
            "count": 3
           }
          ]
         }
        },
        {
         "name": "Pfizer",
         "dtype": "float64",
         "stats": {
          "unique_count": 2242,
          "nan_count": 0,
          "min": "0.005755000896951251",
          "max": "0.06184300404225157",
          "histogram": [
           {
            "bin_start": 0.005755000896951251,
            "bin_end": 0.011363801211481284,
            "count": 1457
           },
           {
            "bin_start": 0.011363801211481284,
            "bin_end": 0.016972601526011315,
            "count": 566
           },
           {
            "bin_start": 0.016972601526011315,
            "bin_end": 0.022581401840541346,
            "count": 138
           },
           {
            "bin_start": 0.022581401840541346,
            "bin_end": 0.028190202155071377,
            "count": 41
           },
           {
            "bin_start": 0.028190202155071377,
            "bin_end": 0.03379900246960141,
            "count": 17
           },
           {
            "bin_start": 0.03379900246960141,
            "bin_end": 0.039407802784131446,
            "count": 7
           },
           {
            "bin_start": 0.039407802784131446,
            "bin_end": 0.04501660309866148,
            "count": 4
           },
           {
            "bin_start": 0.04501660309866148,
            "bin_end": 0.05062540341319151,
            "count": 6
           },
           {
            "bin_start": 0.05062540341319151,
            "bin_end": 0.05623420372772154,
            "count": 4
           },
           {
            "bin_start": 0.05623420372772154,
            "bin_end": 0.06184300404225157,
            "count": 2
           }
          ]
         }
        },
        {
         "name": "SP500",
         "dtype": "float64",
         "stats": {
          "unique_count": 2242,
          "nan_count": 0,
          "min": "0.003318038688959522",
          "max": "2.040733811487153",
          "histogram": [
           {
            "bin_start": 0.003318038688959522,
            "bin_end": 0.2070596159687789,
            "count": 2239
           },
           {
            "bin_start": 0.2070596159687789,
            "bin_end": 0.41080119324859826,
            "count": 0
           },
           {
            "bin_start": 0.41080119324859826,
            "bin_end": 0.6145427705284177,
            "count": 2
           },
           {
            "bin_start": 0.6145427705284177,
            "bin_end": 0.818284347808237,
            "count": 0
           },
           {
            "bin_start": 0.818284347808237,
            "bin_end": 1.0220259250880563,
            "count": 0
           },
           {
            "bin_start": 1.0220259250880563,
            "bin_end": 1.2257675023678758,
            "count": 0
           },
           {
            "bin_start": 1.2257675023678758,
            "bin_end": 1.429509079647695,
            "count": 0
           },
           {
            "bin_start": 1.429509079647695,
            "bin_end": 1.6332506569275145,
            "count": 0
           },
           {
            "bin_start": 1.6332506569275145,
            "bin_end": 1.836992234207334,
            "count": 0
           },
           {
            "bin_start": 1.836992234207334,
            "bin_end": 2.040733811487153,
            "count": 1
           }
          ]
         }
        },
        {
         "name": "bond",
         "dtype": "float64",
         "stats": {
          "unique_count": 2242,
          "nan_count": 0,
          "min": "0.00026170482507128725",
          "max": "2.2042598422440203",
          "histogram": [
           {
            "bin_start": 0.00026170482507128725,
            "bin_end": 0.2206615185669662,
            "count": 2237
           },
           {
            "bin_start": 0.2206615185669662,
            "bin_end": 0.4410613323088611,
            "count": 1
           },
           {
            "bin_start": 0.4410613323088611,
            "bin_end": 0.661461146050756,
            "count": 2
           },
           {
            "bin_start": 0.661461146050756,
            "bin_end": 0.8818609597926509,
            "count": 0
           },
           {
            "bin_start": 0.8818609597926509,
            "bin_end": 1.1022607735345458,
            "count": 0
           },
           {
            "bin_start": 1.1022607735345458,
            "bin_end": 1.3226605872764408,
            "count": 0
           },
           {
            "bin_start": 1.3226605872764408,
            "bin_end": 1.5430604010183355,
            "count": 0
           },
           {
            "bin_start": 1.5430604010183355,
            "bin_end": 1.7634602147602305,
            "count": 0
           },
           {
            "bin_start": 1.7634602147602305,
            "bin_end": 1.9838600285021255,
            "count": 0
           },
           {
            "bin_start": 1.9838600285021255,
            "bin_end": 2.2042598422440203,
            "count": 2
           }
          ]
         }
        },
        {
         "name": "_deepnote_index_column",
         "dtype": "datetime64[ns]"
        }
       ],
       "rows_top": [
        {
         "TSLA": 0.03200396326121182,
         "ING": 0.02970181809392542,
         "Pfizer": 0.009605395543934515,
         "SP500": 0.006885216827259143,
         "bond": 0.0007779768425569206,
         "_deepnote_index_column": "2012-03-30T00:00:00.000000"
        },
        {
         "TSLA": 0.032265861954000837,
         "ING": 0.0277510341254908,
         "Pfizer": 0.009271496173424617,
         "SP500": 0.0070941475303718604,
         "bond": 0.000772307201386572,
         "_deepnote_index_column": "2012-04-02T00:00:00.000000"
        },
        {
         "TSLA": 0.03313237875853572,
         "ING": 0.030082842844817,
         "Pfizer": 0.008982074235771955,
         "SP500": 0.006920870675277585,
         "bond": 0.0007605467819974673,
         "_deepnote_index_column": "2012-04-03T00:00:00.000000"
        },
        {
         "TSLA": 0.03823533998468938,
         "ING": 0.03321136423752674,
         "Pfizer": 0.008950011070395196,
         "SP500": 0.008102055159232856,
         "bond": 0.0007487075566186843,
         "_deepnote_index_column": "2012-04-04T00:00:00.000000"
        },
        {
         "TSLA": 0.03254905711263473,
         "ING": 0.03201801431236356,
         "Pfizer": 0.008906002862214843,
         "SP500": 0.007472178797233199,
         "bond": 0.0007390249931169513,
         "_deepnote_index_column": "2012-04-05T00:00:00.000000"
        },
        {
         "TSLA": 0.03576653561348955,
         "ING": 0.03627917725482522,
         "Pfizer": 0.010332662894852887,
         "SP500": 0.012299716157470551,
         "bond": 0.0007292445636295734,
         "_deepnote_index_column": "2012-04-10T00:00:00.000000"
        },
        {
         "TSLA": 0.032741787997153854,
         "ING": 0.03604130577963595,
         "Pfizer": 0.009835740248203028,
         "SP500": 0.011930409164234317,
         "bond": 0.000716844316737504,
         "_deepnote_index_column": "2012-04-11T00:00:00.000000"
        },
        {
         "TSLA": 0.03247413510852795,
         "ING": 0.035291548008127775,
         "Pfizer": 0.009401848007718412,
         "SP500": 0.012119331374169172,
         "bond": 0.0005985005970888185,
         "_deepnote_index_column": "2012-04-12T00:00:00.000000"
        },
        {
         "TSLA": 0.03239858227407059,
         "ING": 0.03663381565808925,
         "Pfizer": 0.008907355387578078,
         "SP500": 0.012296782104684933,
         "bond": 0.0005923327274238954,
         "_deepnote_index_column": "2012-04-13T00:00:00.000000"
        },
        {
         "TSLA": 0.03398218814709937,
         "ING": 0.035513499678345606,
         "Pfizer": 0.008801362852001981,
         "SP500": 0.0117266349111152,
         "bond": 0.0005920738702035864,
         "_deepnote_index_column": "2012-04-16T00:00:00.000000"
        },
        {
         "TSLA": 0.03249050231549683,
         "ING": 0.03898152053312381,
         "Pfizer": 0.009691810354025799,
         "SP500": 0.012119919630969282,
         "bond": 0.0005814384456093976,
         "_deepnote_index_column": "2012-04-17T00:00:00.000000"
        },
        {
         "TSLA": 0.032579198714845964,
         "ING": 0.037507832399888225,
         "Pfizer": 0.009501697776578484,
         "SP500": 0.011661615460844516,
         "bond": 0.000563530686581489,
         "_deepnote_index_column": "2012-04-18T00:00:00.000000"
        },
        {
         "TSLA": 0.03265256536840317,
         "ING": 0.03672400587098237,
         "Pfizer": 0.009304626011227243,
         "SP500": 0.011332436084743441,
         "bond": 0.0005827450233028479,
         "_deepnote_index_column": "2012-04-19T00:00:00.000000"
        },
        {
         "TSLA": 0.03244041520926248,
         "ING": 0.037552686376782565,
         "Pfizer": 0.009442905865558371,
         "SP500": 0.010814984615178267,
         "bond": 0.0006164179028331896,
         "_deepnote_index_column": "2012-04-20T00:00:00.000000"
        },
        {
         "TSLA": 0.033632485893157676,
         "ING": 0.040921662812478006,
         "Pfizer": 0.009449508796859704,
         "SP500": 0.010734259176649979,
         "bond": 0.0007104697828048632,
         "_deepnote_index_column": "2012-04-23T00:00:00.000000"
        },
        {
         "TSLA": 0.03246919395894354,
         "ING": 0.03972721801266606,
         "Pfizer": 0.009688847410375507,
         "SP500": 0.0103201074099668,
         "bond": 0.4691577869178667,
         "_deepnote_index_column": "2012-04-24T00:00:00.000000"
        },
        {
         "TSLA": 0.03346479789406926,
         "ING": 0.03900327686733148,
         "Pfizer": 0.009893855719077298,
         "SP500": 0.010726592313622938,
         "bond": 0.5149621336650132,
         "_deepnote_index_column": "2012-04-25T00:00:00.000000"
        },
        {
         "TSLA": 0.032779231974242755,
         "ING": 0.03764141586890541,
         "Pfizer": 0.00976976866041713,
         "SP500": 0.010454506866895683,
         "bond": 0.0007769315699551942,
         "_deepnote_index_column": "2012-04-26T00:00:00.000000"
        },
        {
         "TSLA": 0.03254261159530386,
         "ING": 0.03640876011859268,
         "Pfizer": 0.009383808796357628,
         "SP500": 0.01004098333793214,
         "bond": 0.03785475224939388,
         "_deepnote_index_column": "2012-04-27T00:00:00.000000"
        },
        {
         "TSLA": 0.03255446542748144,
         "ING": 0.035174057976519214,
         "Pfizer": 0.009421303165214305,
         "SP500": 0.009747324601774314,
         "bond": 0.0007201981108500954,
         "_deepnote_index_column": "2012-04-30T00:00:00.000000"
        },
        {
         "TSLA": 0.032974105671426376,
         "ING": 0.034266742681961504,
         "Pfizer": 0.009806323297968857,
         "SP500": 0.009408448460344644,
         "bond": 0.0007376416404243896,
         "_deepnote_index_column": "2012-05-02T00:00:00.000000"
        },
        {
         "TSLA": 0.034375670021777195,
         "ING": 0.033122037157699284,
         "Pfizer": 0.009361715360810822,
         "SP500": 0.009441244919648014,
         "bond": 0.0007055152609057188,
         "_deepnote_index_column": "2012-05-03T00:00:00.000000"
        },
        {
         "TSLA": 0.032977686876864476,
         "ING": 0.032693511496325996,
         "Pfizer": 0.009610645877366465,
         "SP500": 0.01055484019085975,
         "bond": 0.0006935715816892533,
         "_deepnote_index_column": "2012-05-04T00:00:00.000000"
        },
        {
         "TSLA": 0.032931491502072675,
         "ING": 0.0340471456906713,
         "Pfizer": 0.009242553493768409,
         "SP500": 0.010113792705646264,
         "bond": 0.2743799612912795,
         "_deepnote_index_column": "2012-05-07T00:00:00.000000"
        },
        {
         "TSLA": 0.036987892035522746,
         "ING": 0.036889523352339096,
         "Pfizer": 0.008918053275009098,
         "SP500": 0.009824685194545633,
         "bond": 0.0006578073804786546,
         "_deepnote_index_column": "2012-05-08T00:00:00.000000"
        },
        {
         "TSLA": 0.032945048392205294,
         "ING": 0.03577397333701048,
         "Pfizer": 0.008603651698611327,
         "SP500": 0.009704879850762793,
         "bond": 0.0006320057885228446,
         "_deepnote_index_column": "2012-05-09T00:00:00.000000"
        },
        {
         "TSLA": 0.03936969537770285,
         "ING": 0.036494093950759414,
         "Pfizer": 0.00979309789147484,
         "SP500": 0.00936881400666602,
         "bond": 0.0006223235077651991,
         "_deepnote_index_column": "2012-05-10T00:00:00.000000"
        },
        {
         "TSLA": 0.03372455391937973,
         "ING": 0.035284278882201085,
         "Pfizer": 0.009885970807163065,
         "SP500": 0.009106273552856366,
         "bond": 0.000625511913906331,
         "_deepnote_index_column": "2012-05-11T00:00:00.000000"
        },
        {
         "TSLA": 0.037280494197145284,
         "ING": 0.03896988575782523,
         "Pfizer": 0.009441838288586898,
         "SP500": 0.009533679877125879,
         "bond": 0.0006770015854382059,
         "_deepnote_index_column": "2012-05-14T00:00:00.000000"
        },
        {
         "TSLA": 0.03410125569694694,
         "ING": 0.038219305703845796,
         "Pfizer": 0.009973118351472708,
         "SP500": 0.009325647381958185,
         "bond": 0.0006490080942464934,
         "_deepnote_index_column": "2012-05-15T00:00:00.000000"
        },
        {
         "TSLA": 0.03362559646853078,
         "ING": 0.036943214470970355,
         "Pfizer": 0.010688479587767127,
         "SP500": 0.009177156700327177,
         "bond": 0.0006241545631178484,
         "_deepnote_index_column": "2012-05-16T00:00:00.000000"
        },
        {
         "TSLA": 0.03387508716265883,
         "ING": 0.03853244257843627,
         "Pfizer": 0.010305690802732515,
         "SP500": 0.010024806389688277,
         "bond": 0.0006107629434393619,
         "_deepnote_index_column": "2012-05-17T00:00:00.000000"
        },
        {
         "TSLA": 0.03431166751480152,
         "ING": 0.03727061433331253,
         "Pfizer": 0.009876697283006663,
         "SP500": 0.010004787744939393,
         "bond": 0.0005875487113217496,
         "_deepnote_index_column": "2012-05-18T00:00:00.000000"
        },
        {
         "TSLA": 0.03486543699788257,
         "ING": 0.0363782936449961,
         "Pfizer": 0.009492425629111253,
         "SP500": 0.010838701600516617,
         "bond": 0.0005938894165009202,
         "_deepnote_index_column": "2012-05-21T00:00:00.000000"
        },
        {
         "TSLA": 0.03721864226047292,
         "ING": 0.039616499823561295,
         "Pfizer": 0.009474586721610384,
         "SP500": 0.010383101549064305,
         "bond": 0.0005724261031944394,
         "_deepnote_index_column": "2012-05-22T00:00:00.000000"
        },
        {
         "TSLA": 0.033698519654785444,
         "ING": 0.04166509385237672,
         "Pfizer": 0.009992899899762512,
         "SP500": 0.009970062190820519,
         "bond": 0.0006313064177245746,
         "_deepnote_index_column": "2012-05-23T00:00:00.000000"
        },
        {
         "TSLA": 0.03358675269178167,
         "ING": 0.04052600389907123,
         "Pfizer": 0.009598968652656616,
         "SP500": 0.009585367840601565,
         "bond": 0.0006329651808558918,
         "_deepnote_index_column": "2012-05-24T00:00:00.000000"
        },
        {
         "TSLA": 0.033388778084020417,
         "ING": 0.03907656172417691,
         "Pfizer": 0.009227577001930715,
         "SP500": 0.009265258376833249,
         "bond": 0.0006170364489038613,
         "_deepnote_index_column": "2012-05-25T00:00:00.000000"
        },
        {
         "TSLA": 0.036434273803188214,
         "ING": 0.037806107508607814,
         "Pfizer": 0.008911324279392584,
         "SP500": 0.009540061625815941,
         "bond": 0.0005960066398476191,
         "_deepnote_index_column": "2012-05-29T00:00:00.000000"
        },
        {
         "TSLA": 0.034955464159280615,
         "ING": 0.03790351911885285,
         "Pfizer": 0.008809272675009406,
         "SP500": 0.01032967865848226,
         "bond": 0.0007017142515315347,
         "_deepnote_index_column": "2012-05-30T00:00:00.000000"
        },
        {
         "TSLA": 0.03413371260081087,
         "ING": 0.036708957460768035,
         "Pfizer": 0.008849314395011278,
         "SP500": 0.009943487496081151,
         "bond": 0.0007198348027840754,
         "_deepnote_index_column": "2012-05-31T00:00:00.000000"
        },
        {
         "TSLA": 0.03526787522100024,
         "ING": 0.035942857957990716,
         "Pfizer": 0.009180744248977928,
         "SP500": 0.012646519055367636,
         "bond": 0.0007314509904996955,
         "_deepnote_index_column": "2012-06-01T00:00:00.000000"
        },
        {
         "TSLA": 0.033413724404844664,
         "ING": 0.0362959545856694,
         "Pfizer": 0.008859530667103273,
         "SP500": 0.012952910391121708,
         "bond": 0.0007535767551171217,
         "_deepnote_index_column": "2012-06-04T00:00:00.000000"
        },
        {
         "TSLA": 0.03314849296091236,
         "ING": 0.03528996609567599,
         "Pfizer": 0.008548876218296258,
         "SP500": 0.011500458045607963,
         "bond": 0.000729819881336749,
         "_deepnote_index_column": "2012-06-05T00:00:00.000000"
        },
        {
         "TSLA": 0.03503929306062663,
         "ING": 0.03735924087706043,
         "Pfizer": 0.009413334779364879,
         "SP500": 0.013059116128268577,
         "bond": 0.0009055354890110003,
         "_deepnote_index_column": "2012-06-06T00:00:00.000000"
        },
        {
         "TSLA": 0.03331382882793719,
         "ING": 0.03620595873617615,
         "Pfizer": 0.00906395192352462,
         "SP500": 0.012430895417608511,
         "bond": 0.0009628784900413585,
         "_deepnote_index_column": "2012-06-07T00:00:00.000000"
        },
        {
         "TSLA": 0.034472474724285905,
         "ING": 0.03739398083472837,
         "Pfizer": 0.009169235729198139,
         "SP500": 0.012075639388496673,
         "bond": 0.0009139880078342295,
         "_deepnote_index_column": "2012-06-08T00:00:00.000000"
        },
        {
         "TSLA": 0.034310062836359796,
         "ING": 0.03475999168988027,
         "Pfizer": 0.008822085135301833,
         "SP500": 0.012274223779726248,
         "bond": 0.0008693148723021599,
         "_deepnote_index_column": "2012-06-11T00:00:00.000000"
        },
        {
         "TSLA": 0.03363231585901319,
         "ING": 0.03413620595629724,
         "Pfizer": 0.008580988867104943,
         "SP500": 0.012220993081418762,
         "bond": 0.0010013788120578915,
         "_deepnote_index_column": "2012-06-12T00:00:00.000000"
        },
        {
         "TSLA": 0.033331721562328526,
         "ING": 0.03302147650873213,
         "Pfizer": 0.008290426319647238,
         "SP500": 0.01188731935800524,
         "bond": 0.000985591648022577,
         "_deepnote_index_column": "2012-06-13T00:00:00.000000"
        },
        {
         "TSLA": 0.03327068386942759,
         "ING": 0.03475147022149015,
         "Pfizer": 0.009484539322901046,
         "SP500": 0.011775816045202059,
         "bond": 0.0009328007520826517,
         "_deepnote_index_column": "2012-06-14T00:00:00.000000"
        },
        {
         "TSLA": 0.033318197093692103,
         "ING": 0.03650917210079564,
         "Pfizer": 0.009127438465272978,
         "SP500": 0.011638144695155339,
         "bond": 0.0009076048256270649,
         "_deepnote_index_column": "2012-06-15T00:00:00.000000"
        },
        {
         "TSLA": 0.03655333942062373,
         "ING": 0.03539955378746455,
         "Pfizer": 0.008785496321590614,
         "SP500": 0.011117374038569005,
         "bond": 0.000865562781610338,
         "_deepnote_index_column": "2012-06-18T00:00:00.000000"
        },
        {
         "TSLA": 0.033443023383954565,
         "ING": 0.03769298325578798,
         "Pfizer": 0.008539018252351371,
         "SP500": 0.01100783719159521,
         "bond": 0.0009090964668795596,
         "_deepnote_index_column": "2012-06-19T00:00:00.000000"
        },
        {
         "TSLA": 0.03542521487508957,
         "ING": 0.036597328083540416,
         "Pfizer": 0.008285669033558015,
         "SP500": 0.010566654513778763,
         "bond": 0.0009078288733977302,
         "_deepnote_index_column": "2012-06-20T00:00:00.000000"
        },
        {
         "TSLA": 0.03558421262356836,
         "ING": 0.03697657035850145,
         "Pfizer": 0.008102691233994616,
         "SP500": 0.012527329726190901,
         "bond": 0.0009134202325184459,
         "_deepnote_index_column": "2012-06-21T00:00:00.000000"
        },
        {
         "TSLA": 0.0356211039931868,
         "ING": 0.03619006450688509,
         "Pfizer": 0.00800928643449743,
         "SP500": 0.012114271422841725,
         "bond": 0.000886031205972603,
         "_deepnote_index_column": "2012-06-22T00:00:00.000000"
        },
        {
         "TSLA": 0.03409470370051953,
         "ING": 0.03831222601336355,
         "Pfizer": 0.008631206972579871,
         "SP500": 0.012714520270140478,
         "bond": 0.0009224984547705603,
         "_deepnote_index_column": "2012-06-25T00:00:00.000000"
        },
        {
         "TSLA": 0.03550213951666197,
         "ING": 0.03575710618267117,
         "Pfizer": 0.008362209658026701,
         "SP500": 0.012176492414043512,
         "bond": 0.000897288824995271,
         "_deepnote_index_column": "2012-06-26T00:00:00.000000"
        },
        {
         "TSLA": 0.03388317072400131,
         "ING": 0.03640971921241035,
         "Pfizer": 0.008412152979451002,
         "SP500": 0.011905080306509445,
         "bond": 0.0008941943004604136,
         "_deepnote_index_column": "2012-06-27T00:00:00.000000"
        },
        {
         "TSLA": 0.033942719675008705,
         "ING": 0.03573246287573863,
         "Pfizer": 0.008230916983026597,
         "SP500": 0.011393570739943692,
         "bond": 0.0008683697272048667,
         "_deepnote_index_column": "2012-06-28T00:00:00.000000"
        },
        {
         "TSLA": 0.033624460717207844,
         "ING": 0.044148731772512724,
         "Pfizer": 0.01018222678687352,
         "SP500": 0.013277781148059348,
         "bond": 0.0008899166076730852,
         "_deepnote_index_column": "2012-06-29T00:00:00.000000"
        },
        {
         "TSLA": 0.03436712891944633,
         "ING": 0.043067405112166654,
         "Pfizer": 0.009751515291609465,
         "SP500": 0.012642833975805203,
         "bond": 0.0009155264619793964,
         "_deepnote_index_column": "2012-07-02T00:00:00.000000"
        },
        {
         "TSLA": 0.03377470435152994,
         "ING": 0.041942575334350696,
         "Pfizer": 0.009569759786761889,
         "SP500": 0.011925744066879723,
         "bond": 0.0008724486706862485,
         "_deepnote_index_column": "2012-07-03T00:00:00.000000"
        },
        {
         "TSLA": 0.03401556090361012,
         "ING": 0.04224136422331057,
         "Pfizer": 0.009663353007611952,
         "SP500": 0.011733181139017591,
         "bond": 0.0010400563548488993,
         "_deepnote_index_column": "2012-07-05T00:00:00.000000"
        },
        {
         "TSLA": 0.03373161890958467,
         "ING": 0.04219965385189151,
         "Pfizer": 0.009467636815736391,
         "SP500": 0.011657985338373558,
         "bond": 0.0011048871078252094,
         "_deepnote_index_column": "2012-07-06T00:00:00.000000"
        },
        {
         "TSLA": 0.03380633421210943,
         "ING": 0.04122517877470717,
         "Pfizer": 0.009192197185738698,
         "SP500": 0.011159060836621916,
         "bond": 0.001052441029250068,
         "_deepnote_index_column": "2012-07-09T00:00:00.000000"
        },
        {
         "TSLA": 0.03365107912502156,
         "ING": 0.040193053779222984,
         "Pfizer": 0.009381524460303712,
         "SP500": 0.0110260777611948,
         "bond": 0.0009996917500667104,
         "_deepnote_index_column": "2012-07-10T00:00:00.000000"
        },
        {
         "TSLA": 0.033635595735958,
         "ING": 0.03966007683472485,
         "Pfizer": 0.009151844439716334,
         "SP500": 0.01055589797533647,
         "bond": 0.0009518768763589838,
         "_deepnote_index_column": "2012-07-11T00:00:00.000000"
        },
        {
         "TSLA": 0.034793474082023504,
         "ING": 0.03734411907269983,
         "Pfizer": 0.009874055240591546,
         "SP500": 0.010275287021152192,
         "bond": 0.0009074099408297823,
         "_deepnote_index_column": "2012-07-12T00:00:00.000000"
        },
        {
         "TSLA": 0.03547102856404609,
         "ING": 0.03805805420920368,
         "Pfizer": 0.009623977107205715,
         "SP500": 0.011053340906642709,
         "bond": 0.0008672109399388181,
         "_deepnote_index_column": "2012-07-13T00:00:00.000000"
        },
        {
         "TSLA": 0.03578166219818085,
         "ING": 0.037411870398550026,
         "Pfizer": 0.010134764676181306,
         "SP500": 0.01062237658940341,
         "bond": 0.0008269061111724539,
         "_deepnote_index_column": "2012-07-16T00:00:00.000000"
        },
        {
         "TSLA": 0.03896088032631783,
         "ING": 0.036618879339589336,
         "Pfizer": 0.011611869438603248,
         "SP500": 0.010398117789606313,
         "bond": 0.0007879910282312064,
         "_deepnote_index_column": "2012-07-17T00:00:00.000000"
        },
        {
         "TSLA": 0.0355861946075936,
         "ING": 0.036050344444851376,
         "Pfizer": 0.011067853668968031,
         "SP500": 0.010092806543948072,
         "bond": 0.0007517983087266955,
         "_deepnote_index_column": "2012-07-18T00:00:00.000000"
        },
        {
         "TSLA": 0.03414513101797163,
         "ING": 0.03534802468590382,
         "Pfizer": 0.010544814549899275,
         "SP500": 0.009761999121720311,
         "bond": 0.0007168795056102752,
         "_deepnote_index_column": "2012-07-19T00:00:00.000000"
        },
        {
         "TSLA": 0.0342808013788101,
         "ING": 0.0359311032539204,
         "Pfizer": 0.010315750857168569,
         "SP500": 0.010002270820362164,
         "bond": 0.000725579951938905,
         "_deepnote_index_column": "2012-07-20T00:00:00.000000"
        },
        {
         "TSLA": 0.03533576367297281,
         "ING": 0.03950376929765619,
         "Pfizer": 0.010005185061444046,
         "SP500": 0.010086313114901262,
         "bond": 0.0007193924166845403,
         "_deepnote_index_column": "2012-07-23T00:00:00.000000"
        },
        {
         "TSLA": 0.03479710734633812,
         "ING": 0.03897842648730926,
         "Pfizer": 0.010115530508923656,
         "SP500": 0.010164778833588841,
         "bond": 0.000788612284945732,
         "_deepnote_index_column": "2012-07-24T00:00:00.000000"
        },
        {
         "TSLA": 0.03502571361001462,
         "ING": 0.03865931027304912,
         "Pfizer": 0.00973112946531593,
         "SP500": 0.009768173364638668,
         "bond": 0.0007657934343870359,
         "_deepnote_index_column": "2012-07-25T00:00:00.000000"
        },
        {
         "TSLA": 0.03493267354653814,
         "ING": 0.04077814279975561,
         "Pfizer": 0.009490839375090574,
         "SP500": 0.01063650493840194,
         "bond": 0.0007317947528807022,
         "_deepnote_index_column": "2012-07-26T00:00:00.000000"
        },
        {
         "TSLA": 0.03621328957034747,
         "ING": 0.04052109629933888,
         "Pfizer": 0.010063114344551517,
         "SP500": 0.011619901379183999,
         "bond": 0.0007116365246689109,
         "_deepnote_index_column": "2012-07-27T00:00:00.000000"
        },
        {
         "TSLA": 0.039383638431089656,
         "ING": 0.04054967129718988,
         "Pfizer": 0.00932643212514753,
         "SP500": 0.011181142134033404,
         "bond": 0.000694829103031467,
         "_deepnote_index_column": "2012-07-30T00:00:00.000000"
        },
        {
         "TSLA": 0.03477565860596346,
         "ING": 0.03959232860833556,
         "Pfizer": 0.010238556943508266,
         "SP500": 0.01082064629689525,
         "bond": 0.0007548200747647615,
         "_deepnote_index_column": "2012-07-31T00:00:00.000000"
        },
        {
         "TSLA": 0.03614574910621357,
         "ING": 0.03893359361789453,
         "Pfizer": 0.009853417141884185,
         "SP500": 0.010414726043916382,
         "bond": 0.000742434770338718,
         "_deepnote_index_column": "2012-08-01T00:00:00.000000"
        },
        {
         "TSLA": 0.03449970306184829,
         "ING": 0.040005731029795086,
         "Pfizer": 0.009453333552394484,
         "SP500": 0.010321598393327353,
         "bond": 0.0008290209282513923,
         "_deepnote_index_column": "2012-08-02T00:00:00.000000"
        },
        {
         "TSLA": 0.03582496675577758,
         "ING": 0.043374746804321185,
         "Pfizer": 0.010027281335564475,
         "SP500": 0.01136587422104304,
         "bond": 0.000988206022770831,
         "_deepnote_index_column": "2012-08-03T00:00:00.000000"
        },
        {
         "TSLA": 0.03536310293576972,
         "ING": 0.043220450903429214,
         "Pfizer": 0.009609070541473124,
         "SP500": 0.010865191016126654,
         "bond": 0.0009379251960548007,
         "_deepnote_index_column": "2012-08-06T00:00:00.000000"
        },
        {
         "TSLA": 0.03856672235752952,
         "ING": 0.04262992122818404,
         "Pfizer": 0.011616049182707418,
         "SP500": 0.010315006203963828,
         "bond": 0.0009356323892634672,
         "_deepnote_index_column": "2012-08-07T00:00:00.000000"
        },
        {
         "TSLA": 0.03579548573289851,
         "ING": 0.04170886438651969,
         "Pfizer": 0.010987944573424354,
         "SP500": 0.009805117108540375,
         "bond": 0.0008799867832578442,
         "_deepnote_index_column": "2012-08-08T00:00:00.000000"
        },
        {
         "TSLA": 0.03428073669437871,
         "ING": 0.04085699553724993,
         "Pfizer": 0.010437906027163353,
         "SP500": 0.009307638195290392,
         "bond": 0.0008520524588043493,
         "_deepnote_index_column": "2012-08-09T00:00:00.000000"
        },
        {
         "TSLA": 0.03430632234689938,
         "ING": 0.03990503795777761,
         "Pfizer": 0.00990618012869945,
         "SP500": 0.00887341621223255,
         "bond": 0.0008584115526365239,
         "_deepnote_index_column": "2012-08-10T00:00:00.000000"
        },
        {
         "TSLA": 0.035366520873062565,
         "ING": 0.03818346022155889,
         "Pfizer": 0.009977276467660895,
         "SP500": 0.008548232520067261,
         "bond": 0.0008501110558037634,
         "_deepnote_index_column": "2012-08-13T00:00:00.000000"
        },
        {
         "TSLA": 0.037158214777734885,
         "ING": 0.038103515827739465,
         "Pfizer": 0.01001046139092543,
         "SP500": 0.008213506777557713,
         "bond": 0.00085894668087876,
         "_deepnote_index_column": "2012-08-14T00:00:00.000000"
        },
        {
         "TSLA": 0.03423902228876827,
         "ING": 0.03739486499351793,
         "Pfizer": 0.00955533419893041,
         "SP500": 0.007908308723870773,
         "bond": 0.0008672154129614208,
         "_deepnote_index_column": "2012-08-15T00:00:00.000000"
        },
        {
         "TSLA": 0.034973150789062844,
         "ING": 0.036891870160429587,
         "Pfizer": 0.009136353171607561,
         "SP500": 0.007875826714181623,
         "bond": 0.0008458054834474268,
         "_deepnote_index_column": "2012-08-16T00:00:00.000000"
        },
        {
         "TSLA": 0.03420809084615736,
         "ING": 0.03606300374676387,
         "Pfizer": 0.009282341485049913,
         "SP500": 0.007507000115170967,
         "bond": 0.0007853155322214808,
         "_deepnote_index_column": "2012-08-17T00:00:00.000000"
        },
        {
         "TSLA": 0.033980789779605614,
         "ING": 0.035559805639057404,
         "Pfizer": 0.008959185427113454,
         "SP500": 0.0072539389621198,
         "bond": 0.0007518986219870853,
         "_deepnote_index_column": "2012-08-20T00:00:00.000000"
        },
        {
         "TSLA": 0.033902346936269354,
         "ING": 0.035834610892710714,
         "Pfizer": 0.00914429701669206,
         "SP500": 0.0071768550171832195,
         "bond": 0.0007779963533509374,
         "_deepnote_index_column": "2012-08-21T00:00:00.000000"
        },
        {
         "TSLA": 0.034322614149445436,
         "ING": 0.03519194846728463,
         "Pfizer": 0.0086948052515298,
         "SP500": 0.00691054846893041,
         "bond": 0.0007659370760023301,
         "_deepnote_index_column": "2012-08-22T00:00:00.000000"
        },
        {
         "TSLA": 0.034179232284875335,
         "ING": 0.03459394307177761,
         "Pfizer": 0.008321181090013653,
         "SP500": 0.007289157999972198,
         "bond": 0.0007672229931191907,
         "_deepnote_index_column": "2012-08-23T00:00:00.000000"
        }
       ],
       "rows_bottom": [
        {
         "TSLA": 0.04028262253560551,
         "ING": 0.03859471777246218,
         "Pfizer": 0.021343798165289325,
         "SP500": 0.017819942563150653,
         "bond": 0.00028211173920650177,
         "_deepnote_index_column": "2020-11-05T00:00:00.000000"
        },
        {
         "TSLA": 0.039277116892311885,
         "ING": 0.034699527135325495,
         "Pfizer": 0.020808264806091492,
         "SP500": 0.016041340022969072,
         "bond": 0.00028885988693956073,
         "_deepnote_index_column": "2020-11-06T00:00:00.000000"
        },
        {
         "TSLA": 0.03861784670324798,
         "ING": 0.06568364068222478,
         "Pfizer": 0.03359932427227098,
         "SP500": 0.015232171576599228,
         "bond": 0.0006104259457505871,
         "_deepnote_index_column": "2020-11-09T00:00:00.000000"
        },
        {
         "TSLA": 0.03905837692884929,
         "ING": 0.06745633892838629,
         "Pfizer": 0.02893505247216924,
         "SP500": 0.013857363371635727,
         "bond": 0.0005432294200502394,
         "_deepnote_index_column": "2020-11-10T00:00:00.000000"
        },
        {
         "TSLA": 0.036399881949018685,
         "ING": 0.0614719573457846,
         "Pfizer": 0.02735817767636564,
         "SP500": 0.012914127777397698,
         "bond": 0.00048311604387549277,
         "_deepnote_index_column": "2020-11-11T00:00:00.000000"
        },
        {
         "TSLA": 0.03519852592334354,
         "ING": 0.055571744576445675,
         "Pfizer": 0.02712694650392612,
         "SP500": 0.01285611371988238,
         "bond": 0.00045725904928148076,
         "_deepnote_index_column": "2020-11-12T00:00:00.000000"
        },
        {
         "TSLA": 0.03371399052046999,
         "ING": 0.049946813424048,
         "Pfizer": 0.02708024247443514,
         "SP500": 0.012969237567041353,
         "bond": 0.0004103899001706617,
         "_deepnote_index_column": "2020-11-13T00:00:00.000000"
        },
        {
         "TSLA": 0.031780683139665124,
         "ING": 0.04620244372760061,
         "Pfizer": 0.027780735203238247,
         "SP500": 0.012712557750304986,
         "bond": 0.00036926455223339254,
         "_deepnote_index_column": "2020-11-16T00:00:00.000000"
        },
        {
         "TSLA": 0.044044263848971005,
         "ING": 0.04202245177514791,
         "Pfizer": 0.03033311797918238,
         "SP500": 0.011986376326742085,
         "bond": 0.0003574956219924057,
         "_deepnote_index_column": "2020-11-17T00:00:00.000000"
        },
        {
         "TSLA": 0.0574370335420338,
         "ING": 0.0382747317561945,
         "Pfizer": 0.02704612608140142,
         "SP500": 0.012434783747358054,
         "bond": 0.0003319256128507988,
         "_deepnote_index_column": "2020-11-18T00:00:00.000000"
        },
        {
         "TSLA": 0.05232046772283219,
         "ING": 0.03474448974995787,
         "Pfizer": 0.02557466904011151,
         "SP500": 0.011473291919528724,
         "bond": 0.00031902208116051795,
         "_deepnote_index_column": "2020-11-19T00:00:00.000000"
        },
        {
         "TSLA": 0.04916540854042623,
         "ING": 0.030569602648576694,
         "Pfizer": 0.025340786252245593,
         "SP500": 0.011193204871996904,
         "bond": 0.00030535675902093764,
         "_deepnote_index_column": "2020-11-20T00:00:00.000000"
        },
        {
         "TSLA": 0.051370870017992044,
         "ING": 0.03005063601853005,
         "Pfizer": 0.023333188209124996,
         "SP500": 0.010538988889240599,
         "bond": 0.0002898225144039664,
         "_deepnote_index_column": "2020-11-23T00:00:00.000000"
        },
        {
         "TSLA": 0.052332388084617355,
         "ING": 0.046444150566377684,
         "Pfizer": 0.02210883054915855,
         "SP500": 0.011806965716236678,
         "bond": 0.0002875611115486129,
         "_deepnote_index_column": "2020-11-24T00:00:00.000000"
        },
        {
         "TSLA": 0.048606841683268565,
         "ING": 0.04367494698375723,
         "Pfizer": 0.020973320537108042,
         "SP500": 0.01096186078762971,
         "bond": 0.00027660294311651314,
         "_deepnote_index_column": "2020-11-25T00:00:00.000000"
        },
        {
         "TSLA": 0.04444036049589305,
         "ING": 0.039768870878429986,
         "Pfizer": 0.020858283901000058,
         "SP500": 0.01017017931569188,
         "bond": 0.00028669822917080484,
         "_deepnote_index_column": "2020-11-27T00:00:00.000000"
        },
        {
         "TSLA": 0.047596046563202266,
         "ING": 0.03901108425949035,
         "Pfizer": 0.02178694237772839,
         "SP500": 0.00986141933022738,
         "bond": 0.0003010821500279772,
         "_deepnote_index_column": "2020-11-30T00:00:00.000000"
        },
        {
         "TSLA": 0.042382858596107506,
         "ING": 0.038105521527190434,
         "Pfizer": 0.022536273736784466,
         "SP500": 0.010237696140904386,
         "bond": 0.00035664252313964635,
         "_deepnote_index_column": "2020-12-01T00:00:00.000000"
        },
        {
         "TSLA": 0.042881135056967404,
         "ING": 0.03458818155954249,
         "Pfizer": 0.023995294178719668,
         "SP500": 0.009542259991763682,
         "bond": 0.0003284307270742656,
         "_deepnote_index_column": "2020-12-02T00:00:00.000000"
        },
        {
         "TSLA": 0.04213598531656198,
         "ING": 0.03158986433509011,
         "Pfizer": 0.023393301064060776,
         "SP500": 0.00901989331465442,
         "bond": 0.0003454469782125982,
         "_deepnote_index_column": "2020-12-03T00:00:00.000000"
        },
        {
         "TSLA": 0.03908296021726804,
         "ING": 0.02893268022713827,
         "Pfizer": 0.02225954521469142,
         "SP500": 0.009144515895869447,
         "bond": 0.00031868464009497346,
         "_deepnote_index_column": "2020-12-04T00:00:00.000000"
        },
        {
         "TSLA": 0.0446133408236426,
         "ING": 0.02815363515739128,
         "Pfizer": 0.022364271114816814,
         "SP500": 0.008786509713887022,
         "bond": 0.00035729916192278626,
         "_deepnote_index_column": "2020-12-07T00:00:00.000000"
        },
        {
         "TSLA": 0.04133802319104988,
         "ING": 0.025564900919011733,
         "Pfizer": 0.023305584046504714,
         "SP500": 0.008375739750109207,
         "bond": 0.0003485882571865282,
         "_deepnote_index_column": "2020-12-08T00:00:00.000000"
        },
        {
         "TSLA": 0.05334742566444965,
         "ING": 0.023235825579616565,
         "Pfizer": 0.022752710264840475,
         "SP500": 0.009052971799029568,
         "bond": 0.0003267054627316877,
         "_deepnote_index_column": "2020-12-09T00:00:00.000000"
        },
        {
         "TSLA": 0.05009414463041619,
         "ING": 0.024649783943702208,
         "Pfizer": 0.02161157182346572,
         "SP500": 0.00865126906993134,
         "bond": 0.0003066183671811729,
         "_deepnote_index_column": "2020-12-10T00:00:00.000000"
        },
        {
         "TSLA": 0.048983594695627845,
         "ING": 0.025603348992542047,
         "Pfizer": 0.020731770018770294,
         "SP500": 0.00831655346560643,
         "bond": 0.0003282932277073528,
         "_deepnote_index_column": "2020-12-11T00:00:00.000000"
        },
        {
         "TSLA": 0.04802465260263097,
         "ING": 0.02333889804155232,
         "Pfizer": 0.025896709370396537,
         "SP500": 0.008338344008446458,
         "bond": 0.00031464943308793256,
         "_deepnote_index_column": "2020-12-14T00:00:00.000000"
        },
        {
         "TSLA": 0.04525039644679745,
         "ING": 0.02423201589887265,
         "Pfizer": 0.024048462143655646,
         "SP500": 0.009522591727324161,
         "bond": 0.00030069366219843887,
         "_deepnote_index_column": "2020-12-15T00:00:00.000000"
        },
        {
         "TSLA": 0.04353273303651978,
         "ING": 0.023466163141028614,
         "Pfizer": 0.02382737366789939,
         "SP500": 0.008963971869776084,
         "bond": 0.00034796365742616745,
         "_deepnote_index_column": "2020-12-16T00:00:00.000000"
        },
        {
         "TSLA": 0.04456136894693771,
         "ING": 0.021751754408175415,
         "Pfizer": 0.022682737373788238,
         "SP500": 0.008725251816011937,
         "bond": 0.0003214850709606936,
         "_deepnote_index_column": "2020-12-17T00:00:00.000000"
        },
        {
         "TSLA": 0.04645973784442982,
         "ING": 0.0207397433680855,
         "Pfizer": 0.021449636388832374,
         "SP500": 0.008579304107509124,
         "bond": 0.00030127575975391944,
         "_deepnote_index_column": "2020-12-18T00:00:00.000000"
        },
        {
         "TSLA": 0.054775062467648204,
         "ING": 0.03347670530948845,
         "Pfizer": 0.020261185181740495,
         "SP500": 0.008502395273081179,
         "bond": 0.0002907706212215475,
         "_deepnote_index_column": "2020-12-21T00:00:00.000000"
        },
        {
         "TSLA": 0.051077962615323325,
         "ING": 0.03145667298196686,
         "Pfizer": 0.01996159125203249,
         "SP500": 0.00824988339909608,
         "bond": 0.0002831932049141558,
         "_deepnote_index_column": "2020-12-22T00:00:00.000000"
        },
        {
         "TSLA": 0.04700231197759297,
         "ING": 0.03453948061057754,
         "Pfizer": 0.020656339786531756,
         "SP500": 0.007913437640240746,
         "bond": 0.00038001098888100113,
         "_deepnote_index_column": "2020-12-23T00:00:00.000000"
        },
        {
         "TSLA": 0.04412063359378117,
         "ING": 0.02964060060792988,
         "Pfizer": 0.019865888154581148,
         "SP500": 0.007714791981532326,
         "bond": 0.0003458261780567631,
         "_deepnote_index_column": "2020-12-24T00:00:00.000000"
        },
        {
         "TSLA": 0.04130675888614658,
         "ING": 0.029022215773961697,
         "Pfizer": 0.01952750201718141,
         "SP500": 0.008191972443468136,
         "bond": 0.00032908205121880683,
         "_deepnote_index_column": "2020-12-28T00:00:00.000000"
        },
        {
         "TSLA": 0.03887189481210605,
         "ING": 0.026940026975131412,
         "Pfizer": 0.01901953006241143,
         "SP500": 0.008018601347053577,
         "bond": 0.00031460286676429573,
         "_deepnote_index_column": "2020-12-29T00:00:00.000000"
        },
        {
         "TSLA": 0.03944727738374127,
         "ING": 0.022420138310489657,
         "Pfizer": 0.018545010282973645,
         "SP500": 0.007727543600626444,
         "bond": 0.0002994177883491258,
         "_deepnote_index_column": "2020-12-30T00:00:00.000000"
        },
        {
         "TSLA": 0.03722428449292535,
         "ING": 0.02411951956461168,
         "Pfizer": 0.018175151465061653,
         "SP500": 0.00783099222122242,
         "bond": 0.00028876800889695973,
         "_deepnote_index_column": "2020-12-31T00:00:00.000000"
        },
        {
         "TSLA": 0.03672929256889603,
         "ING": 0.022384328404502822,
         "Pfizer": 0.01777715508904112,
         "SP500": 0.010436596552381213,
         "bond": 0.00035529563804596165,
         "_deepnote_index_column": "2021-01-04T00:00:00.000000"
        },
        {
         "TSLA": 0.034613354750365206,
         "ING": 0.021357999111191267,
         "Pfizer": 0.017781109271556825,
         "SP500": 0.01007919158120901,
         "bond": 0.00036415866537596933,
         "_deepnote_index_column": "2021-01-05T00:00:00.000000"
        },
        {
         "TSLA": 0.033755396393918065,
         "ING": 0.03861746553449642,
         "Pfizer": 0.01765917917823741,
         "SP500": 0.009641020166485995,
         "bond": 0.0003444911206823314,
         "_deepnote_index_column": "2021-01-06T00:00:00.000000"
        },
        {
         "TSLA": 0.04386012613170653,
         "ING": 0.03537541914674281,
         "Pfizer": 0.015565229142673189,
         "SP500": 0.011834835148057849,
         "bond": 0.000318277142780208,
         "_deepnote_index_column": "2021-01-07T00:00:00.000000"
        },
        {
         "TSLA": 0.04975171505386336,
         "ING": 0.033426448888225935,
         "Pfizer": 0.015163436077533194,
         "SP500": 0.010279234957922174,
         "bond": 0.0003007618325635504,
         "_deepnote_index_column": "2021-01-08T00:00:00.000000"
        },
        {
         "TSLA": 0.06163066033164464,
         "ING": 0.034668705121371164,
         "Pfizer": 0.016193209527423827,
         "SP500": 0.010209862244628451,
         "bond": 0.00034263885282997134,
         "_deepnote_index_column": "2021-01-11T00:00:00.000000"
        },
        {
         "TSLA": 0.058140219547892884,
         "ING": 0.03199178640400973,
         "Pfizer": 0.016607855181752385,
         "SP500": 0.00954020642103691,
         "bond": 0.00034084416787679377,
         "_deepnote_index_column": "2021-01-12T00:00:00.000000"
        },
        {
         "TSLA": 0.05226694423178584,
         "ING": 0.03227481395877732,
         "Pfizer": 0.016225699194047743,
         "SP500": 0.008987968931765596,
         "bond": 0.00040211298771235937,
         "_deepnote_index_column": "2021-01-13T00:00:00.000000"
        },
        {
         "TSLA": 0.04860123173488012,
         "ING": 0.029757971307561484,
         "Pfizer": 0.015638765947597867,
         "SP500": 0.00880776319136444,
         "bond": 0.00038762469786602163,
         "_deepnote_index_column": "2021-01-14T00:00:00.000000"
        },
        {
         "TSLA": 0.04673292727955717,
         "ING": 0.02854517235026908,
         "Pfizer": 0.015089730782020678,
         "SP500": 0.00916983842472425,
         "bond": 0.0003653097204549541,
         "_deepnote_index_column": "2021-01-15T00:00:00.000000"
        },
        {
         "TSLA": 0.043701150769060663,
         "ING": 0.026513056258113225,
         "Pfizer": 0.01501884920384376,
         "SP500": 0.009211837420227775,
         "bond": 0.0003469337359355428,
         "_deepnote_index_column": "2021-01-19T00:00:00.000000"
        },
        {
         "TSLA": 0.04089536943779127,
         "ING": 0.02521586049575797,
         "Pfizer": 0.014313590749774193,
         "SP500": 0.010359003647904567,
         "bond": 0.00031961546029847163,
         "_deepnote_index_column": "2021-01-20T00:00:00.000000"
        },
        {
         "TSLA": 0.03885579122998073,
         "ING": 0.024024000842058846,
         "Pfizer": 0.01389907892564566,
         "SP500": 0.00966786397146112,
         "bond": 0.0003405089337963046,
         "_deepnote_index_column": "2021-01-21T00:00:00.000000"
        },
        {
         "TSLA": 0.03657038696522775,
         "ING": 0.026174352136601388,
         "Pfizer": 0.013568773271939297,
         "SP500": 0.00928906197256923,
         "bond": 0.00031719291114469983,
         "_deepnote_index_column": "2021-01-22T00:00:00.000000"
        },
        {
         "TSLA": 0.03663325453793398,
         "ING": 0.03238379913818451,
         "Pfizer": 0.01557199294368502,
         "SP500": 0.00882629836207334,
         "bond": 0.0003744938299297899,
         "_deepnote_index_column": "2021-01-25T00:00:00.000000"
        },
        {
         "TSLA": 0.03451171971357875,
         "ING": 0.03246196182549599,
         "Pfizer": 0.015021910993818516,
         "SP500": 0.008476222178365453,
         "bond": 2.2042598422440203,
         "_deepnote_index_column": "2021-01-26T00:00:00.000000"
        },
        {
         "TSLA": 0.034933922145669045,
         "ING": 0.03499207459456403,
         "Pfizer": 0.01926638707475681,
         "SP500": 0.014593082103993075,
         "bond": 0.000332822538595603,
         "_deepnote_index_column": "2021-01-27T00:00:00.000000"
        },
        {
         "TSLA": 0.03742125173113093,
         "ING": 0.03344421815933742,
         "Pfizer": 0.01761827676730679,
         "SP500": 0.015474675299560333,
         "bond": 0.00031286506901298235,
         "_deepnote_index_column": "2021-01-28T00:00:00.000000"
        },
        {
         "TSLA": 0.04298728533983038,
         "ING": 0.03131087767587773,
         "Pfizer": 0.016691730427483873,
         "SP500": 0.017842487516142792,
         "bond": 0.00031328633708031453,
         "_deepnote_index_column": "2021-01-29T00:00:00.000000"
        },
        {
         "TSLA": 0.04503608881855928,
         "ING": 0.029355289602527108,
         "Pfizer": 0.01593322232823632,
         "SP500": 0.0171586287705959,
         "bond": 0.0002988542269892416,
         "_deepnote_index_column": "2021-02-01T00:00:00.000000"
        },
        {
         "TSLA": 0.043541275792670406,
         "ING": 0.031162877500388233,
         "Pfizer": 0.01746676677239888,
         "SP500": 0.016061378185521388,
         "bond": 0.0003289726305219192,
         "_deepnote_index_column": "2021-02-02T00:00:00.000000"
        },
        {
         "TSLA": 0.04208500145410231,
         "ING": 0.029292972414273078,
         "Pfizer": 0.01659119909218789,
         "SP500": 0.013494703010142505,
         "bond": 0.00031459208577202987,
         "_deepnote_index_column": "2021-02-03T00:00:00.000000"
        },
        {
         "TSLA": 0.039962224149820084,
         "ING": 0.02783329266646643,
         "Pfizer": 0.01583086596664602,
         "SP500": 0.013098325622817809,
         "bond": 0.0003007047920394598,
         "_deepnote_index_column": "2021-02-04T00:00:00.000000"
        },
        {
         "TSLA": 0.037180473882295985,
         "ING": 0.027020362197433367,
         "Pfizer": 0.015177603938579039,
         "SP500": 0.012209584234395793,
         "bond": 0.00028756707688807335,
         "_deepnote_index_column": "2021-02-05T00:00:00.000000"
        },
        {
         "TSLA": 0.034862904465351646,
         "ING": 0.02608078018581445,
         "Pfizer": 0.013292500677955576,
         "SP500": 0.011553595351404844,
         "bond": 0.0002763885498174666,
         "_deepnote_index_column": "2021-02-08T00:00:00.000000"
        },
        {
         "TSLA": 0.034440466899546225,
         "ING": 0.025088693691795283,
         "Pfizer": 0.012976111046463847,
         "SP500": 0.010713172638693879,
         "bond": 0.0002663581357077829,
         "_deepnote_index_column": "2021-02-09T00:00:00.000000"
        },
        {
         "TSLA": 0.041692784415799176,
         "ING": 0.024292218608984402,
         "Pfizer": 0.013809212956737286,
         "SP500": 0.009979062078607652,
         "bond": 0.00026170482507128725,
         "_deepnote_index_column": "2021-02-10T00:00:00.000000"
        },
        {
         "TSLA": 0.03871346934950699,
         "ING": 0.02485472307638791,
         "Pfizer": 0.013585813789448044,
         "SP500": 0.00934617820968121,
         "bond": 0.00026542821940199506,
         "_deepnote_index_column": "2021-02-11T00:00:00.000000"
        },
        {
         "TSLA": 0.036270718006746125,
         "ING": 0.030790797876751614,
         "Pfizer": 0.013473422140732952,
         "SP500": 0.008952114841315004,
         "bond": 0.0003021248166317218,
         "_deepnote_index_column": "2021-02-12T00:00:00.000000"
        },
        {
         "TSLA": 0.03652333850492457,
         "ING": 0.03332706414360452,
         "Pfizer": 0.012994140343982235,
         "SP500": 0.008532452485355986,
         "bond": 0.0004902375420902805,
         "_deepnote_index_column": "2021-02-16T00:00:00.000000"
        },
        {
         "TSLA": 0.03444479687478417,
         "ING": 0.03264604465871407,
         "Pfizer": 0.01277139191307744,
         "SP500": 0.008180035186167929,
         "bond": 0.0004351256341751347,
         "_deepnote_index_column": "2021-02-17T00:00:00.000000"
        },
        {
         "TSLA": 0.033585657938696514,
         "ING": 0.032694200970695746,
         "Pfizer": 0.012693483739231709,
         "SP500": 0.008256742463944162,
         "bond": 0.00042807366892464924,
         "_deepnote_index_column": "2021-02-18T00:00:00.000000"
        },
        {
         "TSLA": 0.03231639699143021,
         "ING": 0.032944325735993034,
         "Pfizer": 0.012410672838741008,
         "SP500": 0.008039999257938326,
         "bond": 0.00041729704178627644,
         "_deepnote_index_column": "2021-02-19T00:00:00.000000"
        },
        {
         "TSLA": 0.048502110214781784,
         "ING": 0.03232277111331509,
         "Pfizer": 0.011603332532723522,
         "SP500": 0.008699232329593302,
         "bond": 0.00036753361783105137,
         "_deepnote_index_column": "2021-02-22T00:00:00.000000"
        },
        {
         "TSLA": 0.04628453475361118,
         "ING": 0.031791081210000925,
         "Pfizer": 0.011420037708304298,
         "SP500": 0.008257999643750657,
         "bond": 0.00036849584472298225,
         "_deepnote_index_column": "2021-02-23T00:00:00.000000"
        },
        {
         "TSLA": 0.04760779555394474,
         "ING": 0.031295209486214066,
         "Pfizer": 0.01145141988150099,
         "SP500": 0.009114782542119258,
         "bond": 0.00036370507305959193,
         "_deepnote_index_column": "2021-02-24T00:00:00.000000"
        },
        {
         "TSLA": 0.05644035166830997,
         "ING": 0.030714816894781605,
         "Pfizer": 0.011225990827513355,
         "SP500": 0.014413932445311462,
         "bond": 0.0004002989216684107,
         "_deepnote_index_column": "2021-02-25T00:00:00.000000"
        },
        {
         "TSLA": 0.0524866810021189,
         "ING": 0.03101355423536701,
         "Pfizer": 0.011294130238980196,
         "SP500": 0.013317769307725777,
         "bond": 0.0004003177778299347,
         "_deepnote_index_column": "2021-02-26T00:00:00.000000"
        },
        {
         "TSLA": 0.052684490993402236,
         "ING": 0.030637660322688384,
         "Pfizer": 0.011295232831844262,
         "SP500": 0.01578129816728034,
         "bond": 0.0005341889110334612,
         "_deepnote_index_column": "2021-03-01T00:00:00.000000"
        },
        {
         "TSLA": 0.0525592227864282,
         "ING": 0.03041870304187008,
         "Pfizer": 0.011075720661004764,
         "SP500": 0.0148277384732709,
         "bond": 0.0005088031400085542,
         "_deepnote_index_column": "2021-03-02T00:00:00.000000"
        },
        {
         "TSLA": 0.052906744836304906,
         "ING": 0.031004706204373966,
         "Pfizer": 0.013886498549353907,
         "SP500": 0.01453173423651875,
         "bond": 0.000532808831492958,
         "_deepnote_index_column": "2021-03-03T00:00:00.000000"
        },
        {
         "TSLA": 0.05313393448145207,
         "ING": 0.028149134553265887,
         "Pfizer": 0.013377912796337158,
         "SP500": 0.014922041465195034,
         "bond": 0.0005082533455989347,
         "_deepnote_index_column": "2021-03-04T00:00:00.000000"
        },
        {
         "TSLA": 0.0517006846002013,
         "ING": 0.028130328093939845,
         "Pfizer": 0.012742078144989994,
         "SP500": 0.015797263747709785,
         "bond": 0.00048476492626495866,
         "_deepnote_index_column": "2021-03-05T00:00:00.000000"
        },
        {
         "TSLA": 0.05373021903295172,
         "ING": 0.02825416529268074,
         "Pfizer": 0.012972865630700216,
         "SP500": 0.014551642745344222,
         "bond": 0.00046007575122975327,
         "_deepnote_index_column": "2021-03-08T00:00:00.000000"
        },
        {
         "TSLA": 0.08727075805509775,
         "ING": 0.029751641022532378,
         "Pfizer": 0.012308733572545033,
         "SP500": 0.013291179524900432,
         "bond": 0.0004256097339134283,
         "_deepnote_index_column": "2021-03-09T00:00:00.000000"
        },
        {
         "TSLA": 0.0769563747954232,
         "ING": 0.028093634405208307,
         "Pfizer": 0.012699208031701126,
         "SP500": 0.012328401704779533,
         "bond": 0.00040258590609608473,
         "_deepnote_index_column": "2021-03-10T00:00:00.000000"
        },
        {
         "TSLA": 0.07040207298862335,
         "ING": 0.02821243665799008,
         "Pfizer": 0.012965247485278726,
         "SP500": 0.011922749742308811,
         "bond": 0.00039925738112709487,
         "_deepnote_index_column": "2021-03-11T00:00:00.000000"
        },
        {
         "TSLA": 0.06333090454759642,
         "ING": 0.02834417898984057,
         "Pfizer": 0.012745444245727877,
         "SP500": 0.011218119662760092,
         "bond": 0.000393772165920138,
         "_deepnote_index_column": "2021-03-12T00:00:00.000000"
        },
        {
         "TSLA": 0.057608995077610414,
         "ING": 0.027930446231063086,
         "Pfizer": 0.012217193278667082,
         "SP500": 0.010534895058131918,
         "bond": 0.000386208172946892,
         "_deepnote_index_column": "2021-03-15T00:00:00.000000"
        },
        {
         "TSLA": 0.05683106810839388,
         "ING": 0.027245930457407908,
         "Pfizer": 0.013427646858208868,
         "SP500": 0.01097742613792693,
         "bond": 0.00036133087829518244,
         "_deepnote_index_column": "2021-03-16T00:00:00.000000"
        },
        {
         "TSLA": 0.05280628585732875,
         "ING": 0.027027880666464988,
         "Pfizer": 0.013067614671848544,
         "SP500": 0.010351421759168101,
         "bond": 0.0003763696420666308,
         "_deepnote_index_column": "2021-03-17T00:00:00.000000"
        },
        {
         "TSLA": 0.05777952094182061,
         "ING": 0.02707932953860031,
         "Pfizer": 0.012882629282832897,
         "SP500": 0.01224045154140811,
         "bond": 0.0003714733826262813,
         "_deepnote_index_column": "2021-03-18T00:00:00.000000"
        },
        {
         "TSLA": 0.05298401221894955,
         "ING": 0.027416940499818555,
         "Pfizer": 0.012619813639739859,
         "SP500": 0.011392701561483873,
         "bond": 0.0003699450335752481,
         "_deepnote_index_column": "2021-03-19T00:00:00.000000"
        },
        {
         "TSLA": 0.04890800500535793,
         "ING": 0.02771374462017799,
         "Pfizer": 0.012677600711930958,
         "SP500": 0.010891085774878418,
         "bond": 0.00035108652838994857,
         "_deepnote_index_column": "2021-03-22T00:00:00.000000"
        },
        {
         "TSLA": 0.04531161095849983,
         "ING": 0.027836800886227857,
         "Pfizer": 0.01312894305017826,
         "SP500": 0.011015007766997553,
         "bond": 0.00035023012923390807,
         "_deepnote_index_column": "2021-03-23T00:00:00.000000"
        },
        {
         "TSLA": 0.047368237720723176,
         "ING": 0.026259121946789678,
         "Pfizer": 0.012951638470886474,
         "SP500": 0.010325343557818088,
         "bond": 0.0003430748325200622,
         "_deepnote_index_column": "2021-03-24T00:00:00.000000"
        },
        {
         "TSLA": 0.04348938504476791,
         "ING": 0.025854276491422475,
         "Pfizer": 0.01274416945137297,
         "SP500": 0.009882306447898163,
         "bond": 0.00034020502966538647,
         "_deepnote_index_column": "2021-03-25T00:00:00.000000"
        },
        {
         "TSLA": 0.04395322474275411,
         "ING": 0.025379062472661078,
         "Pfizer": 0.012897587501944889,
         "SP500": 0.011418493002084725,
         "bond": 0.0003407880342627149,
         "_deepnote_index_column": "2021-03-26T00:00:00.000000"
        },
        {
         "TSLA": 0.04144655907638267,
         "ING": 0.02494553556982311,
         "Pfizer": 0.012841709944390775,
         "SP500": 0.010445795038021337,
         "bond": 0.00033910519107298564,
         "_deepnote_index_column": "2021-03-29T00:00:00.000000"
        },
        {
         "TSLA": 0.04103393440633354,
         "ING": 0.02529554981572428,
         "Pfizer": 0.012907311706359354,
         "SP500": 0.00985837519777955,
         "bond": 0.000340204940278162,
         "_deepnote_index_column": "2021-03-30T00:00:00.000000"
        },
        {
         "TSLA": 0.042199570614287696,
         "ING": 0.024685045881091498,
         "Pfizer": 0.012704863227248897,
         "SP500": 0.009299869574018377,
         "bond": 0.0003382785148362313,
         "_deepnote_index_column": "2021-03-31T00:00:00.000000"
        }
       ]
      },
      "text/plain": "                TSLA       ING    Pfizer     SP500      bond\nDate                                                        \n2012-03-30  0.032004  0.029702  0.009605  0.006885  0.000778\n2012-04-02  0.032266  0.027751  0.009271  0.007094  0.000772\n2012-04-03  0.033132  0.030083  0.008982  0.006921  0.000761\n2012-04-04  0.038235  0.033211  0.008950  0.008102  0.000749\n2012-04-05  0.032549  0.032018  0.008906  0.007472  0.000739\n...              ...       ...       ...       ...       ...\n2021-03-25  0.043489  0.025854  0.012744  0.009882  0.000340\n2021-03-26  0.043953  0.025379  0.012898  0.011418  0.000341\n2021-03-29  0.041447  0.024946  0.012842  0.010446  0.000339\n2021-03-30  0.041034  0.025296  0.012907  0.009858  0.000340\n2021-03-31  0.042200  0.024685  0.012705  0.009300  0.000338\n\n[2242 rows x 5 columns]",
      "text/html": "<div>\n<style scoped>\n    .dataframe tbody tr th:only-of-type {\n        vertical-align: middle;\n    }\n\n    .dataframe tbody tr th {\n        vertical-align: top;\n    }\n\n    .dataframe thead th {\n        text-align: right;\n    }\n</style>\n<table border=\"1\" class=\"dataframe\">\n  <thead>\n    <tr style=\"text-align: right;\">\n      <th></th>\n      <th>TSLA</th>\n      <th>ING</th>\n      <th>Pfizer</th>\n      <th>SP500</th>\n      <th>bond</th>\n    </tr>\n    <tr>\n      <th>Date</th>\n      <th></th>\n      <th></th>\n      <th></th>\n      <th></th>\n      <th></th>\n    </tr>\n  </thead>\n  <tbody>\n    <tr>\n      <th>2012-03-30</th>\n      <td>0.032004</td>\n      <td>0.029702</td>\n      <td>0.009605</td>\n      <td>0.006885</td>\n      <td>0.000778</td>\n    </tr>\n    <tr>\n      <th>2012-04-02</th>\n      <td>0.032266</td>\n      <td>0.027751</td>\n      <td>0.009271</td>\n      <td>0.007094</td>\n      <td>0.000772</td>\n    </tr>\n    <tr>\n      <th>2012-04-03</th>\n      <td>0.033132</td>\n      <td>0.030083</td>\n      <td>0.008982</td>\n      <td>0.006921</td>\n      <td>0.000761</td>\n    </tr>\n    <tr>\n      <th>2012-04-04</th>\n      <td>0.038235</td>\n      <td>0.033211</td>\n      <td>0.008950</td>\n      <td>0.008102</td>\n      <td>0.000749</td>\n    </tr>\n    <tr>\n      <th>2012-04-05</th>\n      <td>0.032549</td>\n      <td>0.032018</td>\n      <td>0.008906</td>\n      <td>0.007472</td>\n      <td>0.000739</td>\n    </tr>\n    <tr>\n      <th>...</th>\n      <td>...</td>\n      <td>...</td>\n      <td>...</td>\n      <td>...</td>\n      <td>...</td>\n    </tr>\n    <tr>\n      <th>2021-03-25</th>\n      <td>0.043489</td>\n      <td>0.025854</td>\n      <td>0.012744</td>\n      <td>0.009882</td>\n      <td>0.000340</td>\n    </tr>\n    <tr>\n      <th>2021-03-26</th>\n      <td>0.043953</td>\n      <td>0.025379</td>\n      <td>0.012898</td>\n      <td>0.011418</td>\n      <td>0.000341</td>\n    </tr>\n    <tr>\n      <th>2021-03-29</th>\n      <td>0.041447</td>\n      <td>0.024946</td>\n      <td>0.012842</td>\n      <td>0.010446</td>\n      <td>0.000339</td>\n    </tr>\n    <tr>\n      <th>2021-03-30</th>\n      <td>0.041034</td>\n      <td>0.025296</td>\n      <td>0.012907</td>\n      <td>0.009858</td>\n      <td>0.000340</td>\n    </tr>\n    <tr>\n      <th>2021-03-31</th>\n      <td>0.042200</td>\n      <td>0.024685</td>\n      <td>0.012705</td>\n      <td>0.009300</td>\n      <td>0.000338</td>\n    </tr>\n  </tbody>\n</table>\n<p>2242 rows × 5 columns</p>\n</div>"
     },
     "metadata": {}
    }
   ]
  },
  {
   "cell_type": "code",
   "metadata": {
    "tags": [],
    "cell_id": "00010-75d44efa-b0fa-4ad1-bddf-0d71bd33986f",
    "deepnote_to_be_reexecuted": false,
    "source_hash": "6087b82d",
    "execution_millis": 31,
    "execution_start": 1618868300469,
    "deepnote_cell_type": "code"
   },
   "source": "corr_matrix=L.iloc[:,:5].corr()\ncorr_matrix",
   "execution_count": null,
   "outputs": [
    {
     "output_type": "execute_result",
     "execution_count": 78,
     "data": {
      "application/vnd.deepnote.dataframe.v2+json": {
       "row_count": 5,
       "column_count": 5,
       "columns": [
        {
         "name": "TSLA",
         "dtype": "float64",
         "stats": {
          "unique_count": 5,
          "nan_count": 0,
          "min": "0.08100306606456366",
          "max": "1.0",
          "histogram": [
           {
            "bin_start": 0.08100306606456366,
            "bin_end": 0.1729027594581073,
            "count": 1
           },
           {
            "bin_start": 0.1729027594581073,
            "bin_end": 0.26480245285165094,
            "count": 2
           },
           {
            "bin_start": 0.26480245285165094,
            "bin_end": 0.35670214624519453,
            "count": 0
           },
           {
            "bin_start": 0.35670214624519453,
            "bin_end": 0.4486018396387382,
            "count": 1
           },
           {
            "bin_start": 0.4486018396387382,
            "bin_end": 0.5405015330322819,
            "count": 0
           },
           {
            "bin_start": 0.5405015330322819,
            "bin_end": 0.6324012264258254,
            "count": 0
           },
           {
            "bin_start": 0.6324012264258254,
            "bin_end": 0.7243009198193691,
            "count": 0
           },
           {
            "bin_start": 0.7243009198193691,
            "bin_end": 0.8162006132129127,
            "count": 0
           },
           {
            "bin_start": 0.8162006132129127,
            "bin_end": 0.9081003066064564,
            "count": 0
           },
           {
            "bin_start": 0.9081003066064564,
            "bin_end": 1,
            "count": 1
           }
          ]
         }
        },
        {
         "name": "ING",
         "dtype": "float64",
         "stats": {
          "unique_count": 5,
          "nan_count": 0,
          "min": "0.23318258274060724",
          "max": "1.0",
          "histogram": [
           {
            "bin_start": 0.23318258274060724,
            "bin_end": 0.30986432446654655,
            "count": 2
           },
           {
            "bin_start": 0.30986432446654655,
            "bin_end": 0.38654606619248577,
            "count": 0
           },
           {
            "bin_start": 0.38654606619248577,
            "bin_end": 0.4632278079184251,
            "count": 1
           },
           {
            "bin_start": 0.4632278079184251,
            "bin_end": 0.5399095496443643,
            "count": 1
           },
           {
            "bin_start": 0.5399095496443643,
            "bin_end": 0.6165912913703037,
            "count": 0
           },
           {
            "bin_start": 0.6165912913703037,
            "bin_end": 0.6932730330962429,
            "count": 0
           },
           {
            "bin_start": 0.6932730330962429,
            "bin_end": 0.7699547748221821,
            "count": 0
           },
           {
            "bin_start": 0.7699547748221821,
            "bin_end": 0.8466365165481214,
            "count": 0
           },
           {
            "bin_start": 0.8466365165481214,
            "bin_end": 0.9233182582740608,
            "count": 0
           },
           {
            "bin_start": 0.9233182582740608,
            "bin_end": 1,
            "count": 1
           }
          ]
         }
        },
        {
         "name": "Pfizer",
         "dtype": "float64",
         "stats": {
          "unique_count": 5,
          "nan_count": 0,
          "min": "0.14165126383069443",
          "max": "1.0",
          "histogram": [
           {
            "bin_start": 0.14165126383069443,
            "bin_end": 0.227486137447625,
            "count": 2
           },
           {
            "bin_start": 0.227486137447625,
            "bin_end": 0.31332101106455557,
            "count": 1
           },
           {
            "bin_start": 0.31332101106455557,
            "bin_end": 0.39915588468148616,
            "count": 0
           },
           {
            "bin_start": 0.39915588468148616,
            "bin_end": 0.4849907582984167,
            "count": 0
           },
           {
            "bin_start": 0.4849907582984167,
            "bin_end": 0.5708256319153473,
            "count": 0
           },
           {
            "bin_start": 0.5708256319153473,
            "bin_end": 0.6566605055322778,
            "count": 1
           },
           {
            "bin_start": 0.6566605055322778,
            "bin_end": 0.7424953791492084,
            "count": 0
           },
           {
            "bin_start": 0.7424953791492084,
            "bin_end": 0.8283302527661389,
            "count": 0
           },
           {
            "bin_start": 0.8283302527661389,
            "bin_end": 0.9141651263830695,
            "count": 0
           },
           {
            "bin_start": 0.9141651263830695,
            "bin_end": 1,
            "count": 1
           }
          ]
         }
        },
        {
         "name": "SP500",
         "dtype": "float64",
         "stats": {
          "unique_count": 5,
          "nan_count": 0,
          "min": "0.24247573237142306",
          "max": "1.0",
          "histogram": [
           {
            "bin_start": 0.24247573237142306,
            "bin_end": 0.31822815913428076,
            "count": 1
           },
           {
            "bin_start": 0.31822815913428076,
            "bin_end": 0.39398058589713847,
            "count": 0
           },
           {
            "bin_start": 0.39398058589713847,
            "bin_end": 0.4697330126599961,
            "count": 1
           },
           {
            "bin_start": 0.4697330126599961,
            "bin_end": 0.5454854394228539,
            "count": 1
           },
           {
            "bin_start": 0.5454854394228539,
            "bin_end": 0.6212378661857115,
            "count": 0
           },
           {
            "bin_start": 0.6212378661857115,
            "bin_end": 0.6969902929485692,
            "count": 1
           },
           {
            "bin_start": 0.6969902929485692,
            "bin_end": 0.7727427197114269,
            "count": 0
           },
           {
            "bin_start": 0.7727427197114269,
            "bin_end": 0.8484951464742846,
            "count": 0
           },
           {
            "bin_start": 0.8484951464742846,
            "bin_end": 0.9242475732371422,
            "count": 0
           },
           {
            "bin_start": 0.9242475732371422,
            "bin_end": 1,
            "count": 1
           }
          ]
         }
        },
        {
         "name": "bond",
         "dtype": "float64",
         "stats": {
          "unique_count": 5,
          "nan_count": 0,
          "min": "0.08100306606456366",
          "max": "1.0",
          "histogram": [
           {
            "bin_start": 0.08100306606456366,
            "bin_end": 0.1729027594581073,
            "count": 2
           },
           {
            "bin_start": 0.1729027594581073,
            "bin_end": 0.26480245285165094,
            "count": 1
           },
           {
            "bin_start": 0.26480245285165094,
            "bin_end": 0.35670214624519453,
            "count": 0
           },
           {
            "bin_start": 0.35670214624519453,
            "bin_end": 0.4486018396387382,
            "count": 1
           },
           {
            "bin_start": 0.4486018396387382,
            "bin_end": 0.5405015330322819,
            "count": 0
           },
           {
            "bin_start": 0.5405015330322819,
            "bin_end": 0.6324012264258254,
            "count": 0
           },
           {
            "bin_start": 0.6324012264258254,
            "bin_end": 0.7243009198193691,
            "count": 0
           },
           {
            "bin_start": 0.7243009198193691,
            "bin_end": 0.8162006132129127,
            "count": 0
           },
           {
            "bin_start": 0.8162006132129127,
            "bin_end": 0.9081003066064564,
            "count": 0
           },
           {
            "bin_start": 0.9081003066064564,
            "bin_end": 1,
            "count": 1
           }
          ]
         }
        },
        {
         "name": "_deepnote_index_column",
         "dtype": "object"
        }
       ],
       "rows_top": [
        {
         "TSLA": 1,
         "ING": 0.23318258274060724,
         "Pfizer": 0.18739964642703705,
         "SP500": 0.41837159112983974,
         "bond": 0.08100306606456366,
         "_deepnote_index_column": "TSLA"
        },
        {
         "TSLA": 0.23318258274060724,
         "ING": 1,
         "Pfizer": 0.2783265435153024,
         "SP500": 0.5181211981488376,
         "bond": 0.41332635984887145,
         "_deepnote_index_column": "ING"
        },
        {
         "TSLA": 0.18739964642703705,
         "ING": 0.2783265435153024,
         "Pfizer": 1,
         "SP500": 0.6273169343260928,
         "bond": 0.14165126383069443,
         "_deepnote_index_column": "Pfizer"
        },
        {
         "TSLA": 0.41837159112983974,
         "ING": 0.5181211981488376,
         "Pfizer": 0.6273169343260928,
         "SP500": 1,
         "bond": 0.24247573237142306,
         "_deepnote_index_column": "SP500"
        },
        {
         "TSLA": 0.08100306606456366,
         "ING": 0.41332635984887145,
         "Pfizer": 0.14165126383069443,
         "SP500": 0.24247573237142306,
         "bond": 1,
         "_deepnote_index_column": "bond"
        }
       ],
       "rows_bottom": null
      },
      "text/plain": "            TSLA       ING    Pfizer     SP500      bond\nTSLA    1.000000  0.233183  0.187400  0.418372  0.081003\nING     0.233183  1.000000  0.278327  0.518121  0.413326\nPfizer  0.187400  0.278327  1.000000  0.627317  0.141651\nSP500   0.418372  0.518121  0.627317  1.000000  0.242476\nbond    0.081003  0.413326  0.141651  0.242476  1.000000",
      "text/html": "<div>\n<style scoped>\n    .dataframe tbody tr th:only-of-type {\n        vertical-align: middle;\n    }\n\n    .dataframe tbody tr th {\n        vertical-align: top;\n    }\n\n    .dataframe thead th {\n        text-align: right;\n    }\n</style>\n<table border=\"1\" class=\"dataframe\">\n  <thead>\n    <tr style=\"text-align: right;\">\n      <th></th>\n      <th>TSLA</th>\n      <th>ING</th>\n      <th>Pfizer</th>\n      <th>SP500</th>\n      <th>bond</th>\n    </tr>\n  </thead>\n  <tbody>\n    <tr>\n      <th>TSLA</th>\n      <td>1.000000</td>\n      <td>0.233183</td>\n      <td>0.187400</td>\n      <td>0.418372</td>\n      <td>0.081003</td>\n    </tr>\n    <tr>\n      <th>ING</th>\n      <td>0.233183</td>\n      <td>1.000000</td>\n      <td>0.278327</td>\n      <td>0.518121</td>\n      <td>0.413326</td>\n    </tr>\n    <tr>\n      <th>Pfizer</th>\n      <td>0.187400</td>\n      <td>0.278327</td>\n      <td>1.000000</td>\n      <td>0.627317</td>\n      <td>0.141651</td>\n    </tr>\n    <tr>\n      <th>SP500</th>\n      <td>0.418372</td>\n      <td>0.518121</td>\n      <td>0.627317</td>\n      <td>1.000000</td>\n      <td>0.242476</td>\n    </tr>\n    <tr>\n      <th>bond</th>\n      <td>0.081003</td>\n      <td>0.413326</td>\n      <td>0.141651</td>\n      <td>0.242476</td>\n      <td>1.000000</td>\n    </tr>\n  </tbody>\n</table>\n</div>"
     },
     "metadata": {}
    }
   ]
  },
  {
   "cell_type": "code",
   "metadata": {
    "tags": [],
    "cell_id": "00008-09f300ba-0a0b-4faa-a41b-dc4ca63b9bd6",
    "deepnote_to_be_reexecuted": false,
    "source_hash": "b9b864d6",
    "execution_millis": 2805,
    "execution_start": 1618869648589,
    "deepnote_cell_type": "code"
   },
   "source": "weights = np.array([0.15, 0.15, 0.15, 0.15, 0.4])\n#weights=weights*1000000\ncov=np.zeros([5,5])\nVaRs=[]\nfor i in range(250,250+step):\n    mean_loss= np.mean(L.loss[:i]) \n    print('mean loss before {} :'.format(i),mean_loss)\n    # update cov matrix\n    for r in range(corr_matrix.shape[0]):\n        for c in range(corr_matrix.shape[1]):\n            cov[r][c]=corr_matrix.to_numpy()[r][c]*sigma.to_numpy()[i-250][r]*sigma.to_numpy()[i-250][c]\n\n    print('sigma:',np.sqrt(weights.T.dot(cov).dot(weights)))\n    VaRs.append((mean_loss+ np.sqrt(weights.T.dot(cov).dot(weights))*1.96)*1000000) ",
   "execution_count": null,
   "outputs": [
    {
     "name": "stdout",
     "text": "sigma: 0.00785874695323736\nmean loss before 1993 : -0.00038784447947586443\nsigma: 0.007640690256907629\nmean loss before 1994 : -0.00039063370144830687\nsigma: 0.007536711540794821\nmean loss before 1995 : -0.0003847777301024956\nsigma: 0.00839492323324712\nmean loss before 1996 : -0.0003866428694986956\nsigma: 0.007934950341570348\nmean loss before 1997 : -0.00038646196806262014\nsigma: 0.0075703253096859125\nmean loss before 1998 : -0.00038517935038765734\nsigma: 0.007511483750236711\nmean loss before 1999 : -0.0003856944717137106\nsigma: 0.007398452210390497\nmean loss before 2000 : -0.00038383238894346806\nsigma: 0.00758165585464652\nmean loss before 2001 : -0.00038617734933137993\nsigma: 0.007630651257183662\nmean loss before 2002 : -0.00038676981895846406\nsigma: 0.007838820230311913\nmean loss before 2003 : -0.000386986135221602\nsigma: 0.008025558839402631\nmean loss before 2004 : -0.0003839218781491653\nsigma: 0.008176732549040801\nmean loss before 2005 : -0.0003831865532506782\nsigma: 0.008003651381830412\nmean loss before 2006 : -0.00038071646214046844\nsigma: 0.008051886439509227\nmean loss before 2007 : -0.00037680132363421346\nsigma: 0.007840580461879791\nmean loss before 2008 : -0.00037119695822173906\nsigma: 0.007918967429889493\nmean loss before 2009 : -0.0003682836416651054\nsigma: 0.008055939559330575\nmean loss before 2010 : -0.00037015664277067844\nsigma: 0.007877870795463643\nmean loss before 2011 : -0.00037120827086344944\nsigma: 0.00798674373457104\nmean loss before 2012 : -0.0003721022239514485\nsigma: 0.008027479078661182\nmean loss before 2013 : -0.0003764091690358961\nsigma: 0.008199388360805394\nmean loss before 2014 : -0.00037507140230774136\nsigma: 0.007932272141785294\nmean loss before 2015 : -0.00036808645163981853\nsigma: 0.008402910251609825\nmean loss before 2016 : -0.00036690856179559306\nsigma: 0.008092009155187874\nmean loss before 2017 : -0.00036307256896483123\nsigma: 0.007933252992976337\nmean loss before 2018 : -0.0003627041773721202\nsigma: 0.007769012087371793\nmean loss before 2019 : -0.0003550245214798517\nsigma: 0.008689355377405976\nmean loss before 2020 : -0.000357739723512896\nsigma: 0.008586640935369462\nmean loss before 2021 : -0.0003571189603332174\nsigma: 0.00812799865307972\nmean loss before 2022 : -0.00035831636913297453\nsigma: 0.008070520237990127\nmean loss before 2023 : -0.0003506434448172665\nsigma: 0.008603276905065908\nmean loss before 2024 : -0.0003472140173141687\nsigma: 0.008321397696877555\nmean loss before 2025 : -0.0003484523156783192\nsigma: 0.007972904765976242\nmean loss before 2026 : -0.0003429109819312621\nsigma: 0.008213928118694853\nmean loss before 2027 : -0.0003414002098067153\nsigma: 0.008042470965652982\nmean loss before 2028 : -0.00034015372613394295\nsigma: 0.007834056074585614\nmean loss before 2029 : -0.0003386004067364843\nsigma: 0.007739875794222614\nmean loss before 2030 : -0.00033706246877357595\nsigma: 0.0076905407448839246\nmean loss before 2031 : -0.0003370473568507861\nsigma: 0.007541130834865922\nmean loss before 2032 : -0.00033369665123088776\nsigma: 0.007756562362177964\nmean loss before 2033 : -0.000331354467043954\nsigma: 0.00776704416943215\nmean loss before 2034 : -0.0003423203811080175\nsigma: 0.00887362479339024\nmean loss before 2035 : -0.0003434403561949369\nsigma: 0.008347868109401775\nmean loss before 2036 : -0.00034725635791385404\nsigma: 0.008266970510215998\nmean loss before 2037 : -0.0003483790656443027\nsigma: 0.007985611955376521\nmean loss before 2038 : -0.0003534743299513268\nsigma: 0.007951694385313686\nmean loss before 2039 : -0.00035456423652353543\nsigma: 0.007798151481275109\nmean loss before 2040 : -0.0003512038959845746\nsigma: 0.007800461569437189\nmean loss before 2041 : -0.0003512265898319215\nsigma: 0.007824895672616551\nmean loss before 2042 : -0.0003504458783195316\nsigma: 0.00761327825167722\nmean loss before 2043 : -0.0003544677403931675\nsigma: 0.007777576520515047\nmean loss before 2044 : -0.000356363866746463\nsigma: 0.007686047245444987\nmean loss before 2045 : -0.0003592373280635476\nsigma: 0.007576278801741466\nmean loss before 2046 : -0.00035598090107751733\nsigma: 0.007661331922733228\nmean loss before 2047 : -0.0003564922310942858\nsigma: 0.007513645975145131\nmean loss before 2048 : -0.0003565644524156585\nsigma: 0.007407593620537441\nmean loss before 2049 : -0.0003537233002420749\nsigma: 0.007497094518960074\nmean loss before 2050 : -0.0003541066959530027\nsigma: 0.00768425549557058\nmean loss before 2051 : -0.00035752718138312386\nsigma: 0.007632993643158357\nmean loss before 2052 : -0.00035783424186414234\nsigma: 0.007532656045894284\nmean loss before 2053 : -0.00035979673597708067\nsigma: 0.007582642564242244\nmean loss before 2054 : -0.0003592261991513882\nsigma: 0.007544032636690944\nmean loss before 2055 : -0.0003641867584174237\nsigma: 0.007754901911499586\nmean loss before 2056 : -0.0003636493266165909\nsigma: 0.007627424475516794\nmean loss before 2057 : -0.0003596846176529956\nsigma: 0.007662564422794739\nmean loss before 2058 : -0.000359049965745396\nsigma: 0.007486257305463429\nmean loss before 2059 : -0.00036404903167464064\nsigma: 0.007750049341108979\nmean loss before 2060 : -0.0003629055658306942\nsigma: 0.007932877579115599\nmean loss before 2061 : -0.00036437186471184423\nsigma: 0.00793813847024484\nmean loss before 2062 : -0.00036698297515243126\nsigma: 0.007948286703866804\nmean loss before 2063 : -0.0003669444478460577\nsigma: 0.007740705474663747\nmean loss before 2064 : -0.00036535705773134723\nsigma: 0.007677687338778324\nmean loss before 2065 : -0.0003656201884263462\nsigma: 0.007542305365714153\nmean loss before 2066 : -0.0003643233943897211\nsigma: 0.007550855389135341\nmean loss before 2067 : -0.0003635441622693013\nsigma: 0.007496933695504576\nmean loss before 2068 : -0.0003666364673276263\nsigma: 0.007386599322140469\nmean loss before 2069 : -0.00036780264196928435\nsigma: 0.007360268343854095\nmean loss before 2070 : -0.00035818863396183345\nsigma: 0.007843288728687151\nmean loss before 2071 : -0.00035859910104682333\nsigma: 0.00787546220448435\nmean loss before 2072 : -0.0003575775200339215\nsigma: 0.008810425489199955\nmean loss before 2073 : -0.00035280691768254134\nsigma: 0.010205111414559489\nmean loss before 2074 : -0.00035109120934334094\nsigma: 0.009424762959306944\nmean loss before 2075 : -0.0003452438643176826\nsigma: 0.009001546529937418\nmean loss before 2076 : -0.0003399515466019613\nsigma: 0.008333107804761744\nmean loss before 2077 : -0.00033121605090959865\nsigma: 0.009508082222805064\nmean loss before 2078 : -0.00033186214838425425\nsigma: 0.008988874929808092\nmean loss before 2079 : -0.00033167148825752313\nsigma: 0.008563727893027347\nmean loss before 2080 : -0.00033603028818109007\nsigma: 0.008584301884660896\nmean loss before 2081 : -0.00033164007204540026\nsigma: 0.008450821893084735\nmean loss before 2082 : -0.00032560332731723353\nsigma: 0.00879095660962144\nmean loss before 2083 : -0.0003289687822266321\nsigma: 0.008596595820230946\nmean loss before 2084 : -0.0003177363646777768\nsigma: 0.010100714073940684\nmean loss before 2085 : -0.0003161413231264581\nsigma: 0.009099335248795333\nmean loss before 2086 : -0.0003208271791638547\nsigma: 0.008793753388111314\nmean loss before 2087 : -0.00032415531641517966\nsigma: 0.008791411223633167\nmean loss before 2088 : -0.0003219325936323972\nsigma: 0.008547525426988464\nmean loss before 2089 : -0.00032067166723262713\nsigma: 0.008293185888020213\nmean loss before 2090 : -0.0003228311335580709\nsigma: 0.007988472417827797\nmean loss before 2091 : -0.00031476270755716006\nsigma: 0.009195844563007153\nmean loss before 2092 : -0.0003180085462360775\nsigma: 0.008797364888830721\nmean loss before 2093 : -0.0003162605567640593\nsigma: 0.00844363589688279\nmean loss before 2094 : -0.00031842806237571277\nsigma: 0.008432891256831871\nmean loss before 2095 : -0.00032267466402833835\nsigma: 0.00846661639192687\nmean loss before 2096 : -0.0003246596559370164\nsigma: 0.008150380797988268\nmean loss before 2097 : -0.00032443663451632966\nsigma: 0.00809798139577927\nmean loss before 2098 : -0.00032457238404161114\nsigma: 0.008081542039566604\nmean loss before 2099 : -0.00033157078231431316\nsigma: 0.008255373427136723\nmean loss before 2100 : -0.00033135648143160025\nsigma: 0.007971902149810535\nmean loss before 2101 : -0.0003354147154566601\nsigma: 0.007877240152321194\nmean loss before 2102 : -0.0003393718510015826\nsigma: 0.00789613701887717\nmean loss before 2103 : -0.00034349238661356683\nsigma: 0.007755827048823703\nmean loss before 2104 : -0.000342889183880755\nsigma: 0.0076855262682743244\nmean loss before 2105 : -0.00034401381384189134\nsigma: 0.007630330269536084\nmean loss before 2106 : -0.00034110446467192665\nsigma: 0.007254798160784604\nmean loss before 2107 : -0.00034016179434655073\nsigma: 0.007591192006233897\nmean loss before 2108 : -0.0003386894524124569\nsigma: 0.007494180004421161\nmean loss before 2109 : -0.0003412086183047416\nsigma: 0.007370064439036761\nmean loss before 2110 : -0.0003398837549604837\nsigma: 0.007653208888296405\nmean loss before 2111 : -0.00033729825624713845\nsigma: 0.007711494148851386\nmean loss before 2112 : -0.00033001814875974634\nsigma: 0.007868996551689308\nmean loss before 2113 : -0.0003316346555955705\nsigma: 0.007847265391821637\nmean loss before 2114 : -0.0003351366628337426\nsigma: 0.007798874250360385\nmean loss before 2115 : -0.0003366091374612582\nsigma: 0.007982719984310743\nmean loss before 2116 : -0.0003357714368780665\nsigma: 0.00782878555206697\nmean loss before 2117 : -0.00033399563796997824\nsigma: 0.008056678751093501\nmean loss before 2118 : -0.0003283150052487078\nsigma: 0.008319547157797782\nmean loss before 2119 : -0.0003270545339369988\nsigma: 0.007851625003673762\nmean loss before 2120 : -0.00032885064166561777\nsigma: 0.008142264340942661\nmean loss before 2121 : -0.0003306134205100843\nsigma: 0.007925191823913089\nmean loss before 2122 : -0.00032813275285980306\nsigma: 0.0078037164294327225\nmean loss before 2123 : -0.0003305824038137103\nsigma: 0.007945386161368596\nmean loss before 2124 : -0.0003347161397909314\nsigma: 0.007735535362175407\nmean loss before 2125 : -0.00033992051819661497\nsigma: 0.007935329693549082\nmean loss before 2126 : -0.00034243977878923123\nsigma: 0.007611150012313584\nmean loss before 2127 : -0.0003452231152411354\nsigma: 0.007574356002674208\nmean loss before 2128 : -0.00034663219021069684\nsigma: 0.007499136966908829\nmean loss before 2129 : -0.00034736633576371804\nsigma: 0.007376919403092572\nmean loss before 2130 : -0.0003459940147752497\nsigma: 0.006922931112226904\nmean loss before 2131 : -0.000346711491919675\nsigma: 0.0071850808220224405\nmean loss before 2132 : -0.0003465667366714399\nsigma: 0.007225120525145687\nmean loss before 2133 : -0.000346852336900486\nsigma: 0.007144755111399257\nmean loss before 2134 : -0.0003583398716302898\nsigma: 0.007407944570822905\nmean loss before 2135 : -0.0003661099855665848\nsigma: 0.007948313431614718\nmean loss before 2136 : -0.00036714779573633995\nsigma: 0.007490113852365977\nmean loss before 2137 : -0.0003661709715193675\nsigma: 0.007822312479025102\nmean loss before 2138 : -0.0003653965673192191\nsigma: 0.007375920378662013\nmean loss before 2139 : -0.00036463233169314717\nsigma: 0.007228063021522806\nmean loss before 2140 : -0.00036545652853901307\nsigma: 0.007351521151931059\nmean loss before 2141 : -0.00036686969705504636\nsigma: 0.00726075997866589\nmean loss before 2142 : -0.00036642520948557854\nsigma: 0.007279723306489846\nmean loss before 2143 : -0.0003688080599301413\nsigma: 0.007185528827800948\nmean loss before 2144 : -0.00037141372609966126\nsigma: 0.007396088924354085\nmean loss before 2145 : -0.00037095572895798286\nsigma: 0.0071845806381808175\nmean loss before 2146 : -0.0003721412692269045\nsigma: 0.0071033174736648\nmean loss before 2147 : -0.00037341203687539694\nsigma: 0.007025983057599354\nmean loss before 2148 : -0.0003701127230412824\nsigma: 0.00707266537191255\nmean loss before 2149 : -0.00036997769349387567\nsigma: 0.006952707469694568\nmean loss before 2150 : -0.0003730465075483469\nsigma: 0.00729489745202481\nmean loss before 2151 : -0.0003720917118523659\nsigma: 0.007038706311364008\nmean loss before 2152 : -0.00037490480291363734\nsigma: 0.0071073573451256354\nmean loss before 2153 : -0.0003711358141581009\nsigma: 0.007223171937723011\nmean loss before 2154 : -0.0003723725035762526\nsigma: 0.007287142847501744\nmean loss before 2155 : -0.00036981404426021127\nsigma: 0.007429892938442448\nmean loss before 2156 : -0.00037139094993898146\nsigma: 0.007234830077345838\nmean loss before 2157 : -0.0003682536962087021\nsigma: 0.0071413913671148094\nmean loss before 2158 : -0.00037016794169495576\nsigma: 0.0070464135290542644\nmean loss before 2159 : -0.00036897027069821714\nsigma: 0.007005083553523732\nmean loss before 2160 : -0.00036855730196130713\nsigma: 0.00715350539006861\nmean loss before 2161 : -0.00036624291396763857\nsigma: 0.0071885310926692704\nmean loss before 2162 : -0.0003675027608073017\nsigma: 0.0071438003238769865\nmean loss before 2163 : -0.00036688306860625824\nsigma: 0.007101427711303138\nmean loss before 2164 : -0.00036945502919863275\nsigma: 0.007218298203002108\nmean loss before 2165 : -0.00037021066821601555\nsigma: 0.0070539728048993585\nmean loss before 2166 : -0.0003718862798854633\nsigma: 0.007024415728586307\nmean loss before 2167 : -0.0003725276166166333\nsigma: 0.006953536236196285\nmean loss before 2168 : -0.00037640038362914493\nsigma: 0.007072147080359982\nmean loss before 2169 : -0.00037587682279500127\nsigma: 0.006902112610898512\nmean loss before 2170 : -0.00038333199375810314\nsigma: 0.00729646102755496\nmean loss before 2171 : -0.0003824924722761613\nsigma: 0.006977077343768202\nmean loss before 2172 : -0.00038520965027918317\nsigma: 0.8528489232927848\nmean loss before 2173 : -0.0003869794895937686\nsigma: 0.006868461656362774\nmean loss before 2174 : -0.0003877737294549445\nsigma: 0.0067662611619154775\nmean loss before 2175 : -0.00038950563820607507\nsigma: 0.00672380140185626\nmean loss before 2176 : -0.00039025835359707576\nsigma: 0.006575858652053308\nmean loss before 2177 : -0.0003916026969343001\nsigma: 0.0067830423091054535\nmean loss before 2178 : -0.0003876047997086741\nsigma: 0.006800543153362076\nmean loss before 2179 : -0.0003887250021244314\nsigma: 0.006743309830525853\nmean loss before 2180 : -0.0003929948534864643\nsigma: 0.00678476021396965\nmean loss before 2181 : -0.000393179187000365\nsigma: 0.006998419509829025\nmean loss before 2182 : -0.00039413150941634275\nsigma: 0.006818891960284345\nmean loss before 2183 : -0.000396316500653121\nsigma: 0.00675954849768721\nmean loss before 2184 : -0.00040117746092010147\nsigma: 0.006840202711914127\nmean loss before 2185 : -0.0003992634165251165\nsigma: 0.006781022981614886\nmean loss before 2186 : -0.00039848513340229823\nsigma: 0.006986829493467873\nmean loss before 2187 : -0.00040481451801207706\nsigma: 0.007074790154903416\nmean loss before 2188 : -0.0004074930873105491\nsigma: 0.006931279334127551\nmean loss before 2189 : -0.000404926213423363\nsigma: 0.006927420408319704\nmean loss before 2190 : -0.00040470852076780365\nsigma: 0.0068466374612763\nmean loss before 2191 : -0.0004039450069949639\nsigma: 0.006712275410821714\nmean loss before 2192 : -0.00040688760690294796\nsigma: 0.006621324434917809\nmean loss before 2193 : -0.00040902501569910985\nsigma: 0.006643688853393558\nmean loss before 2194 : -0.00040886915787432843\nsigma: 0.00666374391668214\nmean loss before 2195 : -0.0004052633196329\nsigma: 0.007126760250694275\nmean loss before 2196 : -0.0004017638181456182\nsigma: 0.007749924470773663\nmean loss before 2197 : -0.0004009162544463728\nsigma: 0.008669007104150174\nmean loss before 2198 : -0.0004013102764902755\nsigma: 0.007976304196092583\nmean loss before 2199 : -0.00040710323732585593\nsigma: 0.007807646163387041\nmean loss before 2200 : -0.00040600837537970813\nsigma: 0.007664058810523852\nmean loss before 2201 : -0.0004203770351844247\nsigma: 0.009490927383435939\nmean loss before 2202 : -0.00043260002868882925\nsigma: 0.011126976134568216\nmean loss before 2203 : -0.00042341730045127393\nsigma: 0.015130076307808441\nmean loss before 2204 : -0.0004261280691497718\nsigma: 0.011469577009651464\nmean loss before 2205 : -0.0004253847775059486\nsigma: 0.009031123355284401\nmean loss before 2206 : -0.00042679353432344716\nsigma: 0.008086642858161443\nmean loss before 2207 : -0.0004285904220678626\nsigma: 0.00736912813727324\nmean loss before 2208 : -0.00042835865342742897\nsigma: 0.007130654015730391\nmean loss before 2209 : -0.0004291839560341071\nsigma: 0.0077079951102556965\nmean loss before 2210 : -0.00042754890219535025\nsigma: 0.007260428250146644\nmean loss before 2211 : -0.00042966270977704777\nsigma: 0.00827756917578604\nmean loss before 2212 : -0.0004318073304507629\nsigma: 0.008579878067747938\nmean loss before 2213 : -0.000429278997093011\nsigma: 0.007562770759942672\nmean loss before 2214 : -0.000427484448705883\nsigma: 0.00736335696485327\nmean loss before 2215 : -0.0004154264101900535\nsigma: 0.010556558174268349\nmean loss before 2216 : -0.0004066870344014208\nsigma: 0.010540125306207931\nmean loss before 2217 : -0.0004061429095189193\nsigma: 0.009674000615193308\nmean loss before 2218 : -0.0003911536483170928\nsigma: 0.013760962481130077\nmean loss before 2219 : -0.00038637708038043785\nsigma: 0.011423802846536466\nmean loss before 2220 : -0.0003991125143096325\nsigma: 0.013773619967209442\nmean loss before 2221 : -0.0003955574272873084\nsigma: 0.011907915570646011\nmean loss before 2222 : -0.0004012794049305737\nsigma: 0.014327709987941278\nmean loss before 2223 : -0.00039298165961885556\nsigma: 0.013130950146758798\nmean loss before 2224 : -0.0003860142819036786\nsigma: 0.012269867367445399\nmean loss before 2225 : -0.00036023879997608974\nsigma: 0.021265163716252054\nmean loss before 2226 : -0.00036784762990230743\nsigma: 0.017083782257723976\nmean loss before 2227 : -0.0003582948627674853\nsigma: 0.018276293014422337\nmean loss before 2228 : -0.0003260437734367362\nsigma: 0.030605490659846593\nmean loss before 2229 : -0.00033638370771583347\nsigma: 0.029930469287301694\nmean loss before 2230 : -0.0003048004658816138\nsigma: 0.03347484185440841\nmean loss before 2231 : -0.0003098126437253525\nsigma: 0.03147161750563406\nmean loss before 2232 : -0.00029050831581140657\nsigma: 0.031533786525162234\nmean loss before 2233 : -0.0003002250465710248\nsigma: 0.029702289738153493\nmean loss before 2234 : -0.00030128394845300744\nsigma: 0.0296779500103863\nmean loss before 2235 : -0.00029737713784630786\nsigma: 0.02728951560539842\nmean loss before 2236 : -0.0003315902811224725\nsigma: 0.033816758219305784\nmean loss before 2237 : -0.0003393987048162716\nsigma: 0.031155782808611573\nmean loss before 2238 : -0.0003474596709609402\nsigma: 0.02965285583196132\nmean loss before 2239 : -0.00033608530543243934\nsigma: 0.02816552897432051\nmean loss before 2240 : -0.00033389523503438433\nsigma: 0.028110731167974353\nmean loss before 2241 : -0.0003326714360822453\nsigma: 0.023883916187658602\nmean loss before 2242 : -0.0003220955186241553\nsigma: 0.02390678962275948\nmean loss before 2243 : -0.0003217788623412038\nsigma: 0.023262360118618236\nmean loss before 2244 : -0.0003230258873954693\nsigma: 0.02043867635301528\nmean loss before 2245 : -0.00034060381186025354\nsigma: 0.0231026109555173\nmean loss before 2246 : -0.0003462668754617577\nsigma: 0.021228329865981055\nmean loss before 2247 : -0.0003505940428195815\nsigma: 0.01944016431727547\nmean loss before 2248 : -0.00035773678490433667\nsigma: 0.017606345006533776\nmean loss before 2249 : -0.000373282164736073\nsigma: 0.021811873631332284\nmean loss before 2250 : -0.00036652610838460575\nsigma: 0.02268976421501634\nmean loss before 2251 : -0.0003665338118434493\nsigma: 0.020902024206304347\nmean loss before 2252 : -0.0003745761873942837\nsigma: 0.020668447935519883\nmean loss before 2253 : -0.0003696629449030815\nsigma: 0.018982025393640797\nmean loss before 2254 : -0.000358239132951281\nsigma: 0.0190042132110685\nmean loss before 2255 : -0.00036787501602109296\nsigma: 0.018354765398971587\nmean loss before 2256 : -0.00036842207841404975\nsigma: 0.017306841066170527\nmean loss before 2257 : -0.00036837063769114666\nsigma: 0.016846897479054285\nmean loss before 2258 : -0.00038157367576654376\nsigma: 0.017680440211110638\nmean loss before 2259 : -0.0003812818522478843\nsigma: 0.017092233832534578\nmean loss before 2260 : -0.00038935306088543216\nsigma: 0.016549951928034247\nmean loss before 2261 : -0.0003832239202811051\nsigma: 0.016603782859505357\nmean loss before 2262 : -0.00037435648988181323\nsigma: 0.016860091671070887\nmean loss before 2263 : -0.00037835545400390514\nsigma: 0.015704402354247266\nmean loss before 2264 : -0.00037610759796473386\nsigma: 0.01571004302367287\nmean loss before 2265 : -0.00037741574704375756\nsigma: 0.015196594979831488\nmean loss before 2266 : -0.0003846574713945381\nsigma: 0.014552038699646153\nmean loss before 2267 : -0.0003834360052009787\nsigma: 0.013688848817022597\nmean loss before 2268 : -0.0003824526996803122\nsigma: 0.013212720830852764\nmean loss before 2269 : -0.0003753369052502806\nsigma: 0.01366221603171529\nmean loss before 2270 : -0.00037993682380454464\nsigma: 0.012775612414009393\nmean loss before 2271 : -0.00037949643088912326\nsigma: 0.011631637684745798\nmean loss before 2272 : -0.00038860198405109384\nsigma: 0.013278636338375435\nmean loss before 2273 : -0.00038588294334630807\nsigma: 0.012271493906880588\nmean loss before 2274 : -0.0003895674282797593\nsigma: 0.011903213102388118\nmean loss before 2275 : -0.00038776669649454693\nsigma: 0.011044267371527517\nmean loss before 2276 : -0.0003869310960048157\nsigma: 0.010338543506602115\nmean loss before 2277 : -0.00039414024333932603\nsigma: 0.012127524431534281\nmean loss before 2278 : -0.0003989836457309351\nsigma: 0.012442723422450862\nmean loss before 2279 : -0.00039948941819937763\nsigma: 0.01156289611196424\nmean loss before 2280 : -0.0003995002120736895\nsigma: 0.01126275128310949\nmean loss before 2281 : -0.0004018525424518424\nsigma: 0.013460946877905597\nmean loss before 2282 : -0.00040457458778413684\nsigma: 0.012852735516786333\nmean loss before 2283 : -0.00040923216820652\nsigma: 0.012683377815941449\nmean loss before 2284 : -0.0004088160925830838\nsigma: 0.011881149610387984\nmean loss before 2285 : -0.000417404794127432\nsigma: 0.013208888858349067\nmean loss before 2286 : -0.0004251162776966776\nsigma: 0.012932160494185125\nmean loss before 2287 : -0.000420781889124962\nsigma: 0.012418420884997257\nmean loss before 2288 : -0.0004246271162027161\nsigma: 0.012413831997435076\nmean loss before 2289 : -0.0004063928658140201\nsigma: 0.017998312986768156\nmean loss before 2290 : -0.0004060522713760203\nsigma: 0.016556442938783986\nmean loss before 2291 : -0.0004090128640655448\nsigma: 0.015942594007327743\nmean loss before 2292 : -0.0004118428028828637\nsigma: 0.015056177335136551\nmean loss before 2293 : -0.0004124800705530241\nsigma: 0.013763961980940596\nmean loss before 2294 : -0.00041096120826082926\nsigma: 0.012590373036735186\nmean loss before 2295 : -0.00040825584467398733\nsigma: 0.012118113637108597\nmean loss before 2296 : -0.00040843591838342623\nsigma: 0.011189731745278314\nmean loss before 2297 : -0.00041059005715493585\nsigma: 0.010804382182676476\nmean loss before 2298 : -0.000401188751827756\nsigma: 0.012277194845971923\nmean loss before 2299 : -0.00040485438329082227\nsigma: 0.011565053631567073\nmean loss before 2300 : -0.0003984745552486547\nsigma: 0.011831625476649513\nmean loss before 2301 : -0.0004066031265410624\nsigma: 0.012112747274432152\nmean loss before 2302 : -0.0004114387379394941\nsigma: 0.012135088391810713\nmean loss before 2303 : -0.0004160860474817432\nsigma: 0.011708750220309663\nmean loss before 2304 : -0.0004255487355184762\nsigma: 0.012355477858196328\nmean loss before 2305 : -0.00043809946361031334\nsigma: 0.014364158503664789\nmean loss before 2306 : -0.00043560692814708746\nsigma: 0.013387740513423157\nmean loss before 2307 : -0.0004313980032213307\nsigma: 0.013033702742930394\nmean loss before 2308 : -0.00042957203020090387\nsigma: 0.012394336630957072\nmean loss before 2309 : -0.00044087435965593986\nsigma: 0.0133807485542239\nmean loss before 2310 : -0.00044189161126758063\nsigma: 0.013404801135806497\nmean loss before 2311 : -0.00044391781004492903\nsigma: 0.012480591844061847\nmean loss before 2312 : -0.0004484574202876669\nsigma: 0.011953723407819694\nmean loss before 2313 : -0.0004460259042840623\nsigma: 0.011377741068578024\nmean loss before 2314 : -0.0004462997550720089\nsigma: 0.010751361309843267\nmean loss before 2315 : -0.0004535135674653477\nsigma: 0.01115325181154288\nmean loss before 2316 : -0.0004520831314422038\nsigma: 0.011026153957494391\nmean loss before 2317 : -0.00045505778141883066\nsigma: 0.011126674621400845\nmean loss before 2318 : -0.0004505602939793374\nsigma: 0.011212558833971369\nmean loss before 2319 : -0.00044428584608350035\nsigma: 0.011631524244408628\nmean loss before 2320 : -0.00044927728164225264\nsigma: 0.011850272998451258\nmean loss before 2321 : -0.00044814444327362124\nsigma: 0.011825885506668838\nmean loss before 2322 : -0.00044995062202873875\nsigma: 0.0111603973917079\nmean loss before 2323 : -0.0004457634191921387\nsigma: 0.011164564865157722\nmean loss before 2324 : -0.0004422836798032786\nsigma: 0.010961558746335585\nmean loss before 2325 : -0.0004464756162409732\nsigma: 0.01070441662474745\nmean loss before 2326 : -0.00044713460915711165\nsigma: 0.010027239263458661\nmean loss before 2327 : -0.00044853523195113984\nsigma: 0.009548288601516247\nmean loss before 2328 : -0.0004522227432548256\nsigma: 0.010175977340719723\nmean loss before 2329 : -0.00045144543056099774\nsigma: 0.009777865365523103\nmean loss before 2330 : -0.00045113111687111225\nsigma: 0.009545468050437508\nmean loss before 2331 : -0.0004504750870784898\nsigma: 0.010246118995027326\nmean loss before 2332 : -0.0004611962231719918\nsigma: 0.012296529659997458\nmean loss before 2333 : -0.0004619522799060909\nsigma: 0.011748982297566747\nmean loss before 2334 : -0.0004628178001633595\nsigma: 0.010851261508284702\nmean loss before 2335 : -0.00047001012918611524\nsigma: 0.01174680844078578\nmean loss before 2336 : -0.0004710450714470827\nsigma: 0.01101667529155981\nmean loss before 2337 : -0.0004700564213236042\nsigma: 0.010370384080061044\nmean loss before 2338 : -0.00047398088512343026\nsigma: 0.010402130776374611\nmean loss before 2339 : -0.00047431697047822037\nsigma: 0.010062316379203259\nmean loss before 2340 : -0.00047599270709421766\nsigma: 0.010204031105244392\nmean loss before 2341 : -0.00047718068518074706\nsigma: 0.009808533940325197\nmean loss before 2342 : -0.00048178151411921375\nsigma: 0.009831184314021944\nmean loss before 2343 : -0.0004831580884756834\nsigma: 0.009496962251431798\nmean loss before 2344 : -0.00048429949677484836\nsigma: 0.009297589916528383\nmean loss before 2345 : -0.0004895447333797305\nsigma: 0.011409764936915331\nmean loss before 2346 : -0.00048519725128403425\nsigma: 0.011424555599709695\nmean loss before 2347 : -0.00048267423188647464\nsigma: 0.011722868915598322\nmean loss before 2348 : -0.0004729380409604281\nsigma: 0.013910636513566641\nmean loss before 2349 : -0.0004751995230211754\nsigma: 0.012953829091365091\nmean loss before 2350 : -0.00045859779447182653\nsigma: 0.022851435028450228\nmean loss before 2351 : -0.0004681241284168497\nsigma: 0.021192425789649572\nmean loss before 2352 : -0.00046741325332626005\nsigma: 0.018868512270535473\nmean loss before 2353 : -0.00046758448364883924\nsigma: 0.01686756835369703\nmean loss before 2354 : -0.00047918243529344504\nsigma: 0.017339377744818276\nmean loss before 2355 : -0.00048296897310560284\nsigma: 0.016159977861906906\nmean loss before 2356 : -0.00048030751213356507\nsigma: 0.014733359730329236\nmean loss before 2357 : -0.0004750767243727627\nsigma: 0.014253461923564083\nmean loss before 2358 : -0.0004748314719876191\nsigma: 0.013469088176631165\nmean loss before 2359 : -0.00046759808346751757\nsigma: 0.015213067664483201\nmean loss before 2360 : -0.0004641069677556531\nsigma: 0.01493014345545611\nmean loss before 2361 : -0.00045440454941264656\nsigma: 0.016916952643127172\nmean loss before 2362 : -0.00045604233221191817\nsigma: 0.01530871596110073\nmean loss before 2363 : -0.000459894729229427\nsigma: 0.014297806626380128\nmean loss before 2364 : -0.00046658237472437355\nsigma: 0.013851686246525802\nmean loss before 2365 : -0.00046441084245067363\nsigma: 0.012780073824840076\nmean loss before 2366 : -0.00046730491929879224\nsigma: 0.011628768730506788\nmean loss before 2367 : -0.0004696245249753262\nsigma: 0.010907077254080624\nmean loss before 2368 : -0.000465114018148414\nsigma: 0.012172445668549739\nmean loss before 2369 : -0.00047027819969489997\nsigma: 0.011832800473280345\nmean loss before 2370 : -0.00046931378335092174\nsigma: 0.012142849228318844\nmean loss before 2371 : -0.000472345267738171\nsigma: 0.011388469417613366\nmean loss before 2372 : -0.0004744611988380687\nsigma: 0.010655157480892723\nmean loss before 2373 : -0.000476194241649689\nsigma: 0.009922220619440092\nmean loss before 2374 : -0.0004775362010518333\nsigma: 0.009538708214216323\nmean loss before 2375 : -0.0004738039813765297\nsigma: 0.010596218333406748\nmean loss before 2376 : -0.0004751635209562197\nsigma: 0.009997151459920075\nmean loss before 2377 : -0.0004715774605798977\nsigma: 0.009921908064607077\nmean loss before 2378 : -0.00047418907004913747\nsigma: 0.010147624264181183\nmean loss before 2379 : -0.0004721916125460396\nsigma: 0.01007877317395076\nmean loss before 2380 : -0.0004715119086991964\nsigma: 0.009739338065986947\nmean loss before 2381 : -0.0004704466164714679\nsigma: 0.009041753085224142\nmean loss before 2382 : -0.0004718370381882534\nsigma: 0.00832504236127995\nmean loss before 2383 : -0.0004739411583750126\nsigma: 0.008361393221877168\nmean loss before 2384 : -0.0004704960919580651\nsigma: 0.008620534919021228\nmean loss before 2385 : -0.0004669961393843125\nsigma: 0.008991624007508168\nmean loss before 2386 : -0.00045547321170680326\nsigma: 0.012247028891795863\nmean loss before 2387 : -0.0004547134987143404\nsigma: 0.011589620273384294\nmean loss before 2388 : -0.00045160328248360277\nsigma: 0.01228542626177687\nmean loss before 2389 : -0.00045912087272469675\nsigma: 0.012557657761918077\nmean loss before 2390 : -0.0004668977270038616\nsigma: 0.013122508994153863\nmean loss before 2391 : -0.00046896637568938956\nsigma: 0.012604183778741208\nmean loss before 2392 : -0.00046842106014030697\nsigma: 0.012747569527862502\nmean loss before 2393 : -0.00046695468115993635\nsigma: 0.011945328275219826\nmean loss before 2394 : -0.00047988886882124914\nsigma: 0.016679161555167344\nmean loss before 2395 : -0.00048199350267333975\nsigma: 0.016350865967732074\nmean loss before 2396 : -0.0004814465964953598\nsigma: 0.015092657351940039\nmean loss before 2397 : -0.00047912885874516357\nsigma: 0.014210870103581772\nmean loss before 2398 : -0.00048144836778689815\nsigma: 0.013381699675088577\nmean loss before 2399 : -0.00048137080205234523\nsigma: 0.012776873241243814\nmean loss before 2400 : -0.0004845861103658792\nsigma: 0.01367999106913329\nmean loss before 2401 : -0.000491545109691441\nsigma: 0.014539715415632794\nmean loss before 2402 : -0.0004921862193237383\nsigma: 0.013333142995148775\nmean loss before 2403 : -0.0004911850043686846\nsigma: 0.012484468194633\nmean loss before 2404 : -0.0004969387405323198\nsigma: 0.01244369427308187\nmean loss before 2405 : -0.0005073699740109483\nsigma: 0.014325724774825058\nmean loss before 2406 : -0.0005074893947611419\nsigma: 0.013402886586422214\nmean loss before 2407 : -0.0005104932458866223\nsigma: 0.01239780689851357\nmean loss before 2408 : -0.0005079695121119233\nsigma: 0.012718497366868042\nmean loss before 2409 : -0.0005143388650991886\nsigma: 0.012144639756847158\nmean loss before 2410 : -0.000515127320890314\nsigma: 0.011863165551995566\nmean loss before 2411 : -0.000515953150434736\nsigma: 0.011347449620508229\nmean loss before 2412 : -0.0005178437918854911\nsigma: 0.010627537298281012\nmean loss before 2413 : -0.0005220270944198415\nsigma: 0.011166181986345471\nmean loss before 2414 : -0.0005249621580089911\nsigma: 0.01055817453775517\nmean loss before 2415 : -0.0005192369770591239\nsigma: 0.011837446940708533\nmean loss before 2416 : -0.0005195836286970705\nsigma: 0.011411539739632303\nmean loss before 2417 : -0.0005151311448862221\nsigma: 0.01125262410436544\nmean loss before 2418 : -0.0005149942888966448\nsigma: 0.011381386448206748\nmean loss before 2419 : -0.0005157070970492414\nsigma: 0.011090009172066834\nmean loss before 2420 : -0.0005123420019003283\nsigma: 0.010731504721226406\nmean loss before 2421 : -0.0005164370713055561\nsigma: 0.010560683894679478\nmean loss before 2422 : -0.0005185368998652102\nsigma: 0.010575072074245961\nmean loss before 2423 : -0.000509794047652204\nsigma: 0.01271894713691929\nmean loss before 2424 : -0.0005085539722242533\nsigma: 0.012007395778077844\nmean loss before 2425 : -0.000512457055601478\nsigma: 0.011864890401907384\nmean loss before 2426 : -0.0005142592438647422\nsigma: 0.010918398563971629\nmean loss before 2427 : -0.0005136637674143305\nsigma: 0.010542868465968332\nmean loss before 2428 : -0.0005133453484359638\nsigma: 0.009974708219296052\nmean loss before 2429 : -0.0005151512491506712\nsigma: 0.009513587443964865\nmean loss before 2430 : -0.0005154788378089547\nsigma: 0.009392758351714062\nmean loss before 2431 : -0.0005163093142737607\nsigma: 0.00943206383644799\nmean loss before 2432 : -0.0005182376066000156\nsigma: 0.009039750266489281\nmean loss before 2433 : -0.0005242294021113743\nsigma: 0.010777359478687227\nmean loss before 2434 : -0.0005311477468077524\nsigma: 0.01160240365013936\nmean loss before 2435 : -0.0005353825955880386\nsigma: 0.01189157196558329\nmean loss before 2436 : -0.0005289548157516714\nsigma: 0.013579205444701089\nmean loss before 2437 : -0.0005309684370028694\nsigma: 0.012830724358742862\nmean loss before 2438 : -0.0005292353303405121\nsigma: 0.012036248132913733\nmean loss before 2439 : -0.0005276379406751243\nsigma: 0.011259407042236444\nmean loss before 2440 : -0.000525091081515331\nsigma: 0.010899553541337032\nmean loss before 2441 : -0.0005263764991379853\nsigma: 0.010316715598328707\nmean loss before 2442 : -0.0005274983506475654\nsigma: 0.009909931862013771\nmean loss before 2443 : -0.0005272290177114015\nsigma: 0.009431174588172896\nmean loss before 2444 : -0.0005261356069133904\nsigma: 0.009305312301312374\nmean loss before 2445 : -0.0005268321031064161\nsigma: 0.010107359503138418\nmean loss before 2446 : -0.0005285616441039023\nsigma: 0.8848117208555749\nmean loss before 2447 : -0.0005213183155567101\nsigma: 0.011202575760873624\nmean loss before 2448 : -0.0005203705291660794\nsigma: 0.011254645261229315\nmean loss before 2449 : -0.0005155132945210778\nsigma: 0.011855206105392872\nmean loss before 2450 : -0.0005197324534622943\nsigma: 0.011745781956687837\nmean loss before 2451 : -0.0005235875914518464\nsigma: 0.011760790888463683\nmean loss before 2452 : -0.0005218934324723288\nsigma: 0.01101829227826317\nmean loss before 2453 : -0.000521911219473904\nsigma: 0.010504143724792256\nmean loss before 2454 : -0.0005229752554399743\nsigma: 0.00993246678079183\nmean loss before 2455 : -0.0005244136755991931\nsigma: 0.009326551316727098\nmean loss before 2456 : -0.0005232881356054156\nsigma: 0.009046870764609798\nmean loss before 2457 : -0.0005198464964382674\nsigma: 0.009825953040643452\nmean loss before 2458 : -0.0005196696760133955\nsigma: 0.00942788196035274\nmean loss before 2459 : -0.000524734009135665\nsigma: 0.009722681733967266\nmean loss before 2460 : -0.0005271074567016233\nsigma: 0.009975973968234627\nmean loss before 2461 : -0.0005271486625231927\nsigma: 0.009598956797461627\nmean loss before 2462 : -0.0005236800375238099\nsigma: 0.009509811463613035\nmean loss before 2463 : -0.0005249996418881581\nsigma: 0.009350017047811422\nmean loss before 2464 : -0.0005189706973011707\nsigma: 0.011196510744992425\nmean loss before 2465 : -0.0005178698827270652\nsigma: 0.01080565439185849\nmean loss before 2466 : -0.00052274061553841\nsigma: 0.011011823126395487\nmean loss before 2467 : -0.0005165273171082214\nsigma: 0.012632038991881877\nmean loss before 2468 : -0.0005130273400824665\nsigma: 0.012044369755351806\nmean loss before 2469 : -0.0005193891395926431\nsigma: 0.012319636575439913\nmean loss before 2470 : -0.0005170320343902572\nsigma: 0.012157132434926112\nmean loss before 2471 : -0.0005172462824478611\nsigma: 0.012436474145383607\nmean loss before 2472 : -0.0005124845774911628\nsigma: 0.012185991583745158\nmean loss before 2473 : -0.0005122160043660748\nsigma: 0.012050929955841097\nmean loss before 2474 : -0.00051055830544438\nsigma: 0.01219498004275533\nmean loss before 2475 : -0.000523186523431786\nsigma: 0.01662833821110722\nmean loss before 2476 : -0.0005237112881167381\nsigma: 0.014997666355147604\nmean loss before 2477 : -0.0005246216502753624\nsigma: 0.01409337235968264\nmean loss before 2478 : -0.0005250436062864016\nsigma: 0.013070329823961665\nmean loss before 2479 : -0.0005267990156338603\nsigma: 0.012168301928721833\nmean loss before 2480 : -0.0005247208310792037\nsigma: 0.012132280663960635\nmean loss before 2481 : -0.000528101704430458\nsigma: 0.011497827640315662\nmean loss before 2482 : -0.0005247427984903105\nsigma: 0.012337846911663673\nmean loss before 2483 : -0.0005225428964637093\nsigma: 0.01163698887938661\nmean loss before 2484 : -0.00052331462026395\nsigma: 0.011093130687421581\nmean loss before 2485 : -0.0005200984089034115\nsigma: 0.010702535218706594\nmean loss before 2486 : -0.0005180139580994608\nsigma: 0.010712809561845591\nmean loss before 2487 : -0.0005188298577906235\nsigma: 0.010120241360223988\nmean loss before 2488 : -0.0005187327592838813\nsigma: 0.010313350229904844\nmean loss before 2489 : -0.0005178365218748124\nsigma: 0.009845408796089517\nmean loss before 2490 : -0.0005211995919309953\nsigma: 0.009769349629924437\nmean loss before 2491 : -0.0005242344482573631\nsigma: 0.009774893560678857\n",
     "output_type": "stream"
    }
   ]
  },
  {
   "cell_type": "code",
   "metadata": {
    "tags": [],
    "cell_id": "00009-b85f7929-224f-4239-bc0a-e574ed8d0d7f",
    "deepnote_to_be_reexecuted": false,
    "source_hash": "2270561c",
    "execution_millis": 112,
    "execution_start": 1618869651396,
    "deepnote_cell_type": "code"
   },
   "source": "plt.plot(VaRs)\n#plt.ylim(top=40000)",
   "execution_count": null,
   "outputs": [
    {
     "output_type": "execute_result",
     "execution_count": 89,
     "data": {
      "text/plain": "[<matplotlib.lines.Line2D at 0x7ff19efd48d0>]"
     },
     "metadata": {}
    },
    {
     "data": {
      "text/plain": "<Figure size 432x288 with 1 Axes>",
      "image/png": "[encoded data removed]"
     },
     "metadata": {
      "needs_background": "light",
      "image/png": {
       "width": 378,
       "height": 259
      }
     },
     "output_type": "display_data"
    }
   ]
  },
  {
   "cell_type": "code",
   "metadata": {
    "tags": [],
    "cell_id": "00010-ee4fbbb3-18f4-4109-8790-4b3ee6ae38e4",
    "deepnote_to_be_reexecuted": false,
    "source_hash": "188e6949",
    "execution_millis": 115,
    "execution_start": 1618869651508,
    "deepnote_cell_type": "code"
   },
   "source": "plt.plot(VaRs)\nplt.ylim(bottom=0,top=100000)",
   "execution_count": null,
   "outputs": [
    {
     "output_type": "execute_result",
     "execution_count": 90,
     "data": {
      "text/plain": "(0.0, 100000.0)"
     },
     "metadata": {}
    },
    {
     "data": {
      "text/plain": "<Figure size 432x288 with 1 Axes>",
      "image/png": "[encoded data removed]"
     },
     "metadata": {
      "needs_background": "light",
      "image/png": {
       "width": 393,
       "height": 252
      }
     },
     "output_type": "display_data"
    }
   ]
  },
  {
   "cell_type": "code",
   "metadata": {
    "tags": [],
    "cell_id": "00011-0b5dd45f-645c-43cf-b93e-2493aeb4e0f8",
    "deepnote_to_be_reexecuted": false,
    "source_hash": "9bb798fe",
    "execution_millis": 117,
    "execution_start": 1618869651659,
    "deepnote_cell_type": "code"
   },
   "source": "plt.plot(L.loss[250:])",
   "execution_count": null,
   "outputs": [
    {
     "output_type": "execute_result",
     "execution_count": 91,
     "data": {
      "text/plain": "[<matplotlib.lines.Line2D at 0x7ff19a8fbbd0>]"
     },
     "metadata": {}
    },
    {
     "data": {
      "text/plain": "<Figure size 432x288 with 1 Axes>",
      "image/png": "[encoded data removed]"
     },
     "metadata": {
      "needs_background": "light",
      "image/png": {
       "width": 386,
       "height": 248
      }
     },
     "output_type": "display_data"
    }
   ]
  },
  {
   "cell_type": "code",
   "metadata": {
    "tags": [],
    "cell_id": "00009-f7f81529-bb6f-43ad-9b10-8d6261cdc4b2",
    "deepnote_cell_type": "code"
   },
   "source": "",
   "execution_count": null,
   "outputs": []
  },
  {
   "cell_type": "code",
   "metadata": {
    "tags": [],
    "cell_id": "00011-439d6111-cb4d-4fdb-9939-fff3c3b2ade0",
    "deepnote_to_be_reexecuted": false,
    "source_hash": "d6f13adf",
    "execution_start": 1618906426466,
    "execution_millis": 1,
    "deepnote_cell_type": "code"
   },
   "source": "from arch.univariate import EWMAVariance\nrm=EWMAVariance(0.94)",
   "execution_count": null,
   "outputs": []
  },
  {
   "cell_type": "code",
   "metadata": {
    "tags": [],
    "cell_id": "00016-c6e0a4b7-4053-4862-ac16-5620be459bec",
    "deepnote_to_be_reexecuted": false,
    "source_hash": "840045f4",
    "execution_millis": 44,
    "execution_start": 1618906609947,
    "deepnote_cell_type": "code"
   },
   "source": "rm.compute_variance()",
   "execution_count": null,
   "outputs": [
    {
     "output_type": "error",
     "ename": "TypeError",
     "evalue": "compute_variance() missing 5 required positional arguments: 'parameters', 'resids', 'sigma2', 'backcast', and 'var_bounds'",
     "traceback": [
      "\u001b[0;31m---------------------------------------------------------------------------\u001b[0m",
      "\u001b[0;31mTypeError\u001b[0m                                 Traceback (most recent call last)",
      "\u001b[0;32m<ipython-input-11-1c58b3d67b1d>\u001b[0m in \u001b[0;36m<module>\u001b[0;34m\u001b[0m\n\u001b[0;32m----> 1\u001b[0;31m \u001b[0mrm\u001b[0m\u001b[0;34m.\u001b[0m\u001b[0mcompute_variance\u001b[0m\u001b[0;34m(\u001b[0m\u001b[0;34m)\u001b[0m\u001b[0;34m\u001b[0m\u001b[0;34m\u001b[0m\u001b[0m\n\u001b[0m",
      "\u001b[0;31mTypeError\u001b[0m: compute_variance() missing 5 required positional arguments: 'parameters', 'resids', 'sigma2', 'backcast', and 'var_bounds'"
     ]
    }
   ]
  },
  {
   "cell_type": "code",
   "metadata": {
    "tags": [],
    "cell_id": "00017-e64cd47b-e6b1-4b7c-90d8-6e9e910159ac",
    "deepnote_to_be_reexecuted": false,
    "source_hash": "f94c466d",
    "execution_start": 1618920356397,
    "execution_millis": 38,
    "deepnote_cell_type": "code"
   },
   "source": "investpy.get_indices(country='United States')",
   "execution_count": null,
   "outputs": [
    {
     "output_type": "execute_result",
     "execution_count": 12,
     "data": {
      "application/vnd.deepnote.dataframe.v2+json": {
       "row_count": 1378,
       "column_count": 7,
       "columns": [
        {
         "name": "country",
         "dtype": "object",
         "stats": {
          "unique_count": 1,
          "nan_count": 0,
          "categories": [
           {
            "name": "united states",
            "count": 1378
           }
          ]
         }
        },
        {
         "name": "name",
         "dtype": "object",
         "stats": {
          "unique_count": 1373,
          "nan_count": 0,
          "categories": [
           {
            "name": "DJ Financial Services",
            "count": 2
           },
           {
            "name": "DJ Composite",
            "count": 2
           },
           {
            "name": "1371 others",
            "count": 1374
           }
          ]
         }
        },
        {
         "name": "full_name",
         "dtype": "object",
         "stats": {
          "unique_count": 1377,
          "nan_count": 0,
          "categories": [
           {
            "name": "Dow Jones Financial Services",
            "count": 2
           },
           {
            "name": "NASDAQ US Mid Cap Value",
            "count": 1
           },
           {
            "name": "1375 others",
            "count": 1375
           }
          ]
         }
        },
        {
         "name": "symbol",
         "dtype": "object",
         "stats": {
          "unique_count": 1378,
          "nan_count": 0,
          "categories": [
           {
            "name": "NQUSMV",
            "count": 1
           },
           {
            "name": "NQUSMG",
            "count": 1
           },
           {
            "name": "1376 others",
            "count": 1376
           }
          ]
         }
        },
        {
         "name": "currency",
         "dtype": "object",
         "stats": {
          "unique_count": 7,
          "nan_count": 0,
          "categories": [
           {
            "name": "USD",
            "count": 1353
           },
           {
            "name": "EUR",
            "count": 13
           },
           {
            "name": "5 others",
            "count": 12
           }
          ]
         }
        },
        {
         "name": "class",
         "dtype": "object",
         "stats": {
          "unique_count": 5,
          "nan_count": 0,
          "categories": [
           {
            "name": "other_indices",
            "count": 1285
           },
           {
            "name": "primary_sectors",
            "count": 64
           },
           {
            "name": "3 others",
            "count": 29
           }
          ]
         }
        },
        {
         "name": "market",
         "dtype": "object",
         "stats": {
          "unique_count": 2,
          "nan_count": 0,
          "categories": [
           {
            "name": "world_indices",
            "count": 699
           },
           {
            "name": "global_indices",
            "count": 679
           }
          ]
         }
        },
        {
         "name": "_deepnote_index_column",
         "dtype": "int64"
        }
       ],
       "rows_top": [
        {
         "country": "united states",
         "name": "NQ US Mid Cap Value",
         "full_name": "NASDAQ US Mid Cap Value",
         "symbol": "NQUSMV",
         "currency": "USD",
         "class": "other_indices",
         "market": "global_indices",
         "_deepnote_index_column": 0
        },
        {
         "country": "united states",
         "name": "NQ US Mid Cap Growth",
         "full_name": "NASDAQ US Mid Cap Growth",
         "symbol": "NQUSMG",
         "currency": "USD",
         "class": "other_indices",
         "market": "global_indices",
         "_deepnote_index_column": 1
        },
        {
         "country": "united states",
         "name": "NQ US Mid Cap Telecommunications Equipment",
         "full_name": "NASDAQ US Mid Cap Telecommunications Equipment",
         "symbol": "NQUSM9578",
         "currency": "USD",
         "class": "other_indices",
         "market": "global_indices",
         "_deepnote_index_column": 2
        },
        {
         "country": "united states",
         "name": "NQ US Mid Cap Semiconductors",
         "full_name": "NASDAQ US Mid Cap Semiconductors",
         "symbol": "NQUSM9576",
         "currency": "USD",
         "class": "other_indices",
         "market": "global_indices",
         "_deepnote_index_column": 3
        },
        {
         "country": "united states",
         "name": "NQ US Mid Cap Computer Hardware",
         "full_name": "NASDAQ US Mid Cap Computer Hardware",
         "symbol": "NQUSM9572",
         "currency": "USD",
         "class": "other_indices",
         "market": "global_indices",
         "_deepnote_index_column": 4
        },
        {
         "country": "united states",
         "name": "NQ US Mid Cap Technology Hardware & Equipment",
         "full_name": "NASDAQ US Mid Cap Technology Hardware & Equipment",
         "symbol": "NQUSM9570",
         "currency": "USD",
         "class": "other_indices",
         "market": "global_indices",
         "_deepnote_index_column": 5
        },
        {
         "country": "united states",
         "name": "NQ US Mid Cap Technology",
         "full_name": "NASDAQ US Mid Cap Technology",
         "symbol": "NQUSM9000",
         "currency": "USD",
         "class": "other_indices",
         "market": "global_indices",
         "_deepnote_index_column": 6
        },
        {
         "country": "united states",
         "name": "NQ US Mid Cap Software",
         "full_name": "NASDAQ US Mid Cap Software",
         "symbol": "NQUSM9537",
         "currency": "USD",
         "class": "other_indices",
         "market": "global_indices",
         "_deepnote_index_column": 7
        },
        {
         "country": "united states",
         "name": "NQ US Mid Cap Software & Computer Services",
         "full_name": "NASDAQ US Mid Cap Software & Computer Services",
         "symbol": "NQUSM9530",
         "currency": "USD",
         "class": "other_indices",
         "market": "global_indices",
         "_deepnote_index_column": 8
        },
        {
         "country": "united states",
         "name": "NQ US Mid Cap Investment Services",
         "full_name": "NASDAQ US Mid Cap Investment Services",
         "symbol": "NQUSM8777",
         "currency": "USD",
         "class": "other_indices",
         "market": "global_indices",
         "_deepnote_index_column": 9
        },
        {
         "country": "united states",
         "name": "NQ US Mid Cap Asset Managers",
         "full_name": "NASDAQ US Mid Cap Asset Managers",
         "symbol": "NQUSM8771",
         "currency": "USD",
         "class": "other_indices",
         "market": "global_indices",
         "_deepnote_index_column": 10
        },
        {
         "country": "united states",
         "name": "NQ US Small Cap Oil & Gas",
         "full_name": "NASDAQ US Small Cap Oil & Gas",
         "symbol": "NQUSS0001",
         "currency": "USD",
         "class": "other_indices",
         "market": "global_indices",
         "_deepnote_index_column": 11
        },
        {
         "country": "united states",
         "name": "NQ US Mid Cap Financial Service",
         "full_name": "NASDAQ US Mid Cap Financial Service",
         "symbol": "NQUSM8700",
         "currency": "USD",
         "class": "other_indices",
         "market": "global_indices",
         "_deepnote_index_column": 12
        },
        {
         "country": "united states",
         "name": "NQ US Mid Cap Financial Services Sector",
         "full_name": "NASDAQ US Mid Cap Financial Services Sector",
         "symbol": "NQUSM8770",
         "currency": "USD",
         "class": "other_indices",
         "market": "global_indices",
         "_deepnote_index_column": 13
        },
        {
         "country": "united states",
         "name": "NQ US Mid Cap Mortgage REITs",
         "full_name": "NASDAQ US Mid Cap Mortgage REITs",
         "symbol": "NQUSM8676",
         "currency": "USD",
         "class": "other_indices",
         "market": "global_indices",
         "_deepnote_index_column": 14
        },
        {
         "country": "united states",
         "name": "NQ US Small Cap Oil & Gas Producers",
         "full_name": "NASDAQ US Small Cap Oil & Gas Producers",
         "symbol": "NQUSS0530",
         "currency": "USD",
         "class": "other_indices",
         "market": "global_indices",
         "_deepnote_index_column": 15
        },
        {
         "country": "united states",
         "name": "NQ US Small Cap Forestry & Paper",
         "full_name": "NASDAQ US Small Cap Forestry & Paper",
         "symbol": "NQUSS1730",
         "currency": "USD",
         "class": "other_indices",
         "market": "global_indices",
         "_deepnote_index_column": 16
        },
        {
         "country": "united states",
         "name": "NQ US Small Cap Oil Equipment & Services",
         "full_name": "NASDAQ US Small Cap Oil Equipment & Services",
         "symbol": "NQUSS0573",
         "currency": "USD",
         "class": "other_indices",
         "market": "global_indices",
         "_deepnote_index_column": 17
        },
        {
         "country": "united states",
         "name": "NQ US Small Cap General Mining",
         "full_name": "NASDAQ US Small Cap General Mining",
         "symbol": "NQUSS1775",
         "currency": "USD",
         "class": "other_indices",
         "market": "global_indices",
         "_deepnote_index_column": 18
        },
        {
         "country": "united states",
         "name": "NQ US Small Cap Coal",
         "full_name": "NASDAQ US Small Cap Coal",
         "symbol": "NQUSS1771",
         "currency": "USD",
         "class": "other_indices",
         "market": "global_indices",
         "_deepnote_index_column": 19
        },
        {
         "country": "united states",
         "name": "NQ US Mid Cap Specialty REITs",
         "full_name": "NASDAQ US Mid Cap Specialty REITs",
         "symbol": "NQUSM8675",
         "currency": "USD",
         "class": "other_indices",
         "market": "global_indices",
         "_deepnote_index_column": 20
        },
        {
         "country": "united states",
         "name": "NQ US Small Cap Mining",
         "full_name": "NASDAQ US Small Cap Mining",
         "symbol": "NQUSS1770",
         "currency": "USD",
         "class": "other_indices",
         "market": "global_indices",
         "_deepnote_index_column": 21
        },
        {
         "country": "united states",
         "name": "NQ US Small Cap Iron & Steel",
         "full_name": "NASDAQ US Small Cap Iron & Steel",
         "symbol": "NQUSS1757",
         "currency": "USD",
         "class": "other_indices",
         "market": "global_indices",
         "_deepnote_index_column": 22
        },
        {
         "country": "united states",
         "name": "NQ US Small Cap Nonferrous Metals",
         "full_name": "NASDAQ US Small Cap Nonferrous Metals",
         "symbol": "NQUSS1755",
         "currency": "USD",
         "class": "other_indices",
         "market": "global_indices",
         "_deepnote_index_column": 23
        },
        {
         "country": "united states",
         "name": "NQ US Small Cap Industrial Metals & Mining",
         "full_name": "NASDAQ US Small Cap Industrial Metals & Mining",
         "symbol": "NQUSS1750",
         "currency": "USD",
         "class": "other_indices",
         "market": "global_indices",
         "_deepnote_index_column": 24
        },
        {
         "country": "united states",
         "name": "NQ US Small Cap Paper",
         "full_name": "NASDAQ US Small Cap Paper",
         "symbol": "NQUSS1737",
         "currency": "USD",
         "class": "other_indices",
         "market": "global_indices",
         "_deepnote_index_column": 25
        },
        {
         "country": "united states",
         "name": "NQ US Small Cap Basic Resources",
         "full_name": "NASDAQ US Small Cap Basic Resources",
         "symbol": "NQUSS1700",
         "currency": "USD",
         "class": "other_indices",
         "market": "global_indices",
         "_deepnote_index_column": 26
        },
        {
         "country": "united states",
         "name": "NQ US Small Cap Specialty Chemicals",
         "full_name": "NASDAQ US Small Cap Specialty Chemicals",
         "symbol": "NQUSS1357",
         "currency": "USD",
         "class": "other_indices",
         "market": "global_indices",
         "_deepnote_index_column": 27
        },
        {
         "country": "united states",
         "name": "NQ US Small Cap Commodity Chemicals",
         "full_name": "NASDAQ US Small Cap Commodity Chemicals",
         "symbol": "NQUSS1353",
         "currency": "USD",
         "class": "other_indices",
         "market": "global_indices",
         "_deepnote_index_column": 28
        },
        {
         "country": "united states",
         "name": "NQ US Small Cap Chemicals",
         "full_name": "NASDAQ US Small Cap Chemicals",
         "symbol": "NQUSS1300",
         "currency": "USD",
         "class": "other_indices",
         "market": "global_indices",
         "_deepnote_index_column": 29
        },
        {
         "country": "united states",
         "name": "NQ US Small Cap Basic Materials",
         "full_name": "NASDAQ US Small Cap Basic Materials",
         "symbol": "NQUSS1000",
         "currency": "USD",
         "class": "other_indices",
         "market": "global_indices",
         "_deepnote_index_column": 30
        },
        {
         "country": "united states",
         "name": "NQ US Small Cap Renewable Energy Equipment",
         "full_name": "NASDAQ US Small Cap Renewable Energy Equipment",
         "symbol": "NQUSS0583",
         "currency": "USD",
         "class": "other_indices",
         "market": "global_indices",
         "_deepnote_index_column": 31
        },
        {
         "country": "united states",
         "name": "NQ US Small Cap Alternative Energy",
         "full_name": "NASDAQ US Small Cap Alternative Energy",
         "symbol": "NQUSS0580",
         "currency": "USD",
         "class": "other_indices",
         "market": "global_indices",
         "_deepnote_index_column": 32
        },
        {
         "country": "united states",
         "name": "NQ US Small Cap Exploration & Production",
         "full_name": "NASDAQ US Small Cap Exploration & Production",
         "symbol": "NQUSS0533",
         "currency": "USD",
         "class": "other_indices",
         "market": "global_indices",
         "_deepnote_index_column": 33
        },
        {
         "country": "united states",
         "name": "NQ US Mid Cap Residential REITs",
         "full_name": "NASDAQ US Mid Cap Residential REITs",
         "symbol": "NQUSM8673",
         "currency": "USD",
         "class": "other_indices",
         "market": "global_indices",
         "_deepnote_index_column": 34
        },
        {
         "country": "united states",
         "name": "NQ US Mid Cap Specialty Retailers",
         "full_name": "NASDAQ US Mid Cap Specialty Retailers",
         "symbol": "NQUSM5379",
         "currency": "USD",
         "class": "other_indices",
         "market": "global_indices",
         "_deepnote_index_column": 35
        },
        {
         "country": "united states",
         "name": "NQ US Mid Cap Industrial & Office REITs",
         "full_name": "NASDAQ US Mid Cap Industrial & Office REITs",
         "symbol": "NQUSM8671",
         "currency": "USD",
         "class": "other_indices",
         "market": "global_indices",
         "_deepnote_index_column": 36
        },
        {
         "country": "united states",
         "name": "NQ US Mid Cap Broadcasting & Entertainment",
         "full_name": "NASDAQ US Mid Cap Broadcasting & Entertainment",
         "symbol": "NQUSM5553",
         "currency": "USD",
         "class": "other_indices",
         "market": "global_indices",
         "_deepnote_index_column": 37
        },
        {
         "country": "united states",
         "name": "NQ US Mid Cap Media",
         "full_name": "NASDAQ US Mid Cap Media",
         "symbol": "NQUSM5500",
         "currency": "USD",
         "class": "other_indices",
         "market": "global_indices",
         "_deepnote_index_column": 38
        },
        {
         "country": "united states",
         "name": "NQ US Mid Cap Specialized Consumer Services",
         "full_name": "NASDAQ US Mid Cap Specialized Consumer Services",
         "symbol": "NQUSM5377",
         "currency": "USD",
         "class": "other_indices",
         "market": "global_indices",
         "_deepnote_index_column": 39
        },
        {
         "country": "united states",
         "name": "NQ US Mid Cap Apparel Retailers",
         "full_name": "NASDAQ US Mid Cap Apparel Retailers",
         "symbol": "NQUSM5371",
         "currency": "USD",
         "class": "other_indices",
         "market": "global_indices",
         "_deepnote_index_column": 40
        },
        {
         "country": "united states",
         "name": "NQ US Mid Cap General Retailers",
         "full_name": "NASDAQ US Mid Cap General Retailers",
         "symbol": "NQUSM5370",
         "currency": "USD",
         "class": "other_indices",
         "market": "global_indices",
         "_deepnote_index_column": 41
        },
        {
         "country": "united states",
         "name": "NQ US Mid Cap Food Retailers & Wholesalers",
         "full_name": "NASDAQ US Mid Cap Food Retailers & Wholesalers",
         "symbol": "NQUSM5337",
         "currency": "USD",
         "class": "other_indices",
         "market": "global_indices",
         "_deepnote_index_column": 42
        },
        {
         "country": "united states",
         "name": "NQ US Mid Cap Food & Drug Retailers",
         "full_name": "NASDAQ US Mid Cap Food & Drug Retailers",
         "symbol": "NQUSM5330",
         "currency": "USD",
         "class": "other_indices",
         "market": "global_indices",
         "_deepnote_index_column": 43
        },
        {
         "country": "united states",
         "name": "NQ US Mid Cap Retail",
         "full_name": "NASDAQ US Mid Cap Retail",
         "symbol": "NQUSM5300",
         "currency": "USD",
         "class": "other_indices",
         "market": "global_indices",
         "_deepnote_index_column": 44
        },
        {
         "country": "united states",
         "name": "NQ US Mid Cap Consumer Services",
         "full_name": "NASDAQ US Mid Cap Consumer Services",
         "symbol": "NQUSM5000",
         "currency": "USD",
         "class": "other_indices",
         "market": "global_indices",
         "_deepnote_index_column": 45
        },
        {
         "country": "united states",
         "name": "NQ US Mid Cap Pharmaceuticals",
         "full_name": "NASDAQ US Mid Cap Pharmaceuticals",
         "symbol": "NQUSM4577",
         "currency": "USD",
         "class": "other_indices",
         "market": "global_indices",
         "_deepnote_index_column": 46
        },
        {
         "country": "united states",
         "name": "NQ US Mid Cap Biotechnology",
         "full_name": "NASDAQ US Mid Cap Biotechnology",
         "symbol": "NQUSM4573",
         "currency": "USD",
         "class": "other_indices",
         "market": "global_indices",
         "_deepnote_index_column": 47
        },
        {
         "country": "united states",
         "name": "NQ US Mid Cap Pharmaceuticals & Biotechnology",
         "full_name": "NASDAQ US Mid Cap Pharmaceuticals & Biotechnology",
         "symbol": "NQUSM4570",
         "currency": "USD",
         "class": "other_indices",
         "market": "global_indices",
         "_deepnote_index_column": 48
        },
        {
         "country": "united states",
         "name": "NQ US Mid Cap Medical Supplies",
         "full_name": "NASDAQ US Mid Cap Medical Supplies",
         "symbol": "NQUSM4537",
         "currency": "USD",
         "class": "other_indices",
         "market": "global_indices",
         "_deepnote_index_column": 49
        },
        {
         "country": "united states",
         "name": "NQ US Small Cap Gold Mining",
         "full_name": "NASDAQ US Small Cap Gold Mining",
         "symbol": "NQUSS1777",
         "currency": "USD",
         "class": "other_indices",
         "market": "global_indices",
         "_deepnote_index_column": 50
        },
        {
         "country": "united states",
         "name": "NQ US Mid Cap Medical Equipment",
         "full_name": "NASDAQ US Mid Cap Medical Equipment",
         "symbol": "NQUSM4535",
         "currency": "USD",
         "class": "other_indices",
         "market": "global_indices",
         "_deepnote_index_column": 51
        },
        {
         "country": "united states",
         "name": "NQ US Mid Cap Publishing",
         "full_name": "NASDAQ US Mid Cap Publishing",
         "symbol": "NQUSM5557",
         "currency": "USD",
         "class": "other_indices",
         "market": "global_indices",
         "_deepnote_index_column": 52
        },
        {
         "country": "united states",
         "name": "NQ US Mid Cap Retail REITs",
         "full_name": "NASDAQ US Mid Cap Retail REITs",
         "symbol": "NQUSM8672",
         "currency": "USD",
         "class": "other_indices",
         "market": "global_indices",
         "_deepnote_index_column": 53
        },
        {
         "country": "united states",
         "name": "NQ US Mid Cap Travel & Leisure",
         "full_name": "NASDAQ US Mid Cap Travel & Leisure",
         "symbol": "NQUSM5700",
         "currency": "USD",
         "class": "other_indices",
         "market": "global_indices",
         "_deepnote_index_column": 54
        },
        {
         "country": "united states",
         "name": "NQ US Mid Cap Restaurants & Bars",
         "full_name": "NASDAQ US Mid Cap Restaurants & Bars",
         "symbol": "NQUSM5757",
         "currency": "USD",
         "class": "other_indices",
         "market": "global_indices",
         "_deepnote_index_column": 55
        },
        {
         "country": "united states",
         "name": "NQ US Mid Cap Real Estate Investment Trusts",
         "full_name": "NASDAQ US Mid Cap Real Estate Investment Trusts",
         "symbol": "NQUSM8670",
         "currency": "USD",
         "class": "other_indices",
         "market": "global_indices",
         "_deepnote_index_column": 56
        },
        {
         "country": "united states",
         "name": "NQ US Mid Cap Real Estate Investment & Services",
         "full_name": "NASDAQ US Mid Cap Real Estate Investment & Services",
         "symbol": "NQUSM8630",
         "currency": "USD",
         "class": "other_indices",
         "market": "global_indices",
         "_deepnote_index_column": 57
        },
        {
         "country": "united states",
         "name": "NQ US Mid Cap Real Estate",
         "full_name": "NASDAQ US Mid Cap Real Estate",
         "symbol": "NQUSM8600",
         "currency": "USD",
         "class": "other_indices",
         "market": "global_indices",
         "_deepnote_index_column": 58
        },
        {
         "country": "united states",
         "name": "NQ US Mid Cap Life Insurance",
         "full_name": "NASDAQ US Mid Cap Life Insurance",
         "symbol": "NQUSM8570",
         "currency": "USD",
         "class": "other_indices",
         "market": "global_indices",
         "_deepnote_index_column": 59
        },
        {
         "country": "united states",
         "name": "NQ US Mid Cap Reinsurance",
         "full_name": "NASDAQ US Mid Cap Reinsurance",
         "symbol": "NQUSM8538",
         "currency": "USD",
         "class": "other_indices",
         "market": "global_indices",
         "_deepnote_index_column": 60
        },
        {
         "country": "united states",
         "name": "NQ US Mid Cap Property & Casualty Insurance",
         "full_name": "NASDAQ US Mid Cap Property & Casualty Insurance",
         "symbol": "NQUSM8536",
         "currency": "USD",
         "class": "other_indices",
         "market": "global_indices",
         "_deepnote_index_column": 61
        },
        {
         "country": "united states",
         "name": "NQ US Mid Cap Nonlife Insurance",
         "full_name": "NASDAQ US Mid Cap Nonlife Insurance",
         "symbol": "NQUSM8530",
         "currency": "USD",
         "class": "other_indices",
         "market": "global_indices",
         "_deepnote_index_column": 62
        },
        {
         "country": "united states",
         "name": "NQ US Mid Cap Insurance",
         "full_name": "NASDAQ US Mid Cap Insurance",
         "symbol": "NQUSM8500",
         "currency": "USD",
         "class": "other_indices",
         "market": "global_indices",
         "_deepnote_index_column": 63
        },
        {
         "country": "united states",
         "name": "NQ US Mid Cap Banks",
         "full_name": "NASDAQ US Mid Cap Banks",
         "symbol": "NQUSM8300",
         "currency": "USD",
         "class": "other_indices",
         "market": "global_indices",
         "_deepnote_index_column": 64
        },
        {
         "country": "united states",
         "name": "NQ US Mid Cap Financials",
         "full_name": "NASDAQ US Mid Cap Financials",
         "symbol": "NQUSM8000",
         "currency": "USD",
         "class": "other_indices",
         "market": "global_indices",
         "_deepnote_index_column": 65
        },
        {
         "country": "united states",
         "name": "NQ US Mid Cap Gas, Water & Multiutilities",
         "full_name": "NASDAQ US Mid Cap Gas, Water & Multiutilities",
         "symbol": "NQUSM7570",
         "currency": "USD",
         "class": "other_indices",
         "market": "global_indices",
         "_deepnote_index_column": 66
        },
        {
         "country": "united states",
         "name": "NQ US Mid Cap Conventional Electricity",
         "full_name": "NASDAQ US Mid Cap Conventional Electricity",
         "symbol": "NQUSM7535",
         "currency": "USD",
         "class": "other_indices",
         "market": "global_indices",
         "_deepnote_index_column": 67
        },
        {
         "country": "united states",
         "name": "NQ US Mid Cap Electricity",
         "full_name": "NASDAQ US Mid Cap Electricity",
         "symbol": "NQUSM7530",
         "currency": "USD",
         "class": "other_indices",
         "market": "global_indices",
         "_deepnote_index_column": 68
        },
        {
         "country": "united states",
         "name": "NQ US Mid Cap Utilities",
         "full_name": "NASDAQ US Mid Cap Utilities",
         "symbol": "NQUSM7000",
         "currency": "USD",
         "class": "other_indices",
         "market": "global_indices",
         "_deepnote_index_column": 69
        },
        {
         "country": "united states",
         "name": "NQ US Mid Cap Telecom",
         "full_name": "NASDAQ US Mid Cap Telecom",
         "symbol": "NQUSM6000",
         "currency": "USD",
         "class": "other_indices",
         "market": "global_indices",
         "_deepnote_index_column": 70
        }
       ],
       "rows_bottom": [
        {
         "country": "united states",
         "name": "DJ Telecom Equipment",
         "full_name": "DowJones Telecommunications Equipment",
         "symbol": "DJUSCT",
         "currency": "USD",
         "class": "other_indices",
         "market": "world_indices",
         "_deepnote_index_column": 1307
        },
        {
         "country": "united states",
         "name": "DJ RE Investment Trusts",
         "full_name": "DowJones Real Estate Investment Trusts",
         "symbol": "DJUSRI",
         "currency": "USD",
         "class": "other_indices",
         "market": "world_indices",
         "_deepnote_index_column": 1308
        },
        {
         "country": "united states",
         "name": "DJ Nondurable Household",
         "full_name": "DowJones Nondurable Household Products",
         "symbol": "DJUSHN",
         "currency": "USD",
         "class": "other_indices",
         "market": "world_indices",
         "_deepnote_index_column": 1309
        },
        {
         "country": "united states",
         "name": "DJ Retail REITs",
         "full_name": "Dow Jones Retail REITs",
         "symbol": "DJUSRL",
         "currency": "USD",
         "class": "other_indices",
         "market": "world_indices",
         "_deepnote_index_column": 1310
        },
        {
         "country": "united states",
         "name": "NQ OMX Clean Energy US TR",
         "full_name": "NASDAQ OMX Clean Energy US TR",
         "symbol": "GRNFOCUSX",
         "currency": "USD",
         "class": "other_indices",
         "market": "world_indices",
         "_deepnote_index_column": 1311
        },
        {
         "country": "united states",
         "name": "DJ Media",
         "full_name": "Dow Jones Media",
         "symbol": "DJUSME",
         "currency": "USD",
         "class": "other_indices",
         "market": "world_indices",
         "_deepnote_index_column": 1312
        },
        {
         "country": "united states",
         "name": "NQ OMX Clean Energy Focused TR",
         "full_name": "NASDAQ OMX Clean Energy Focused TR",
         "symbol": "GRNCLNFOX",
         "currency": "USD",
         "class": "other_indices",
         "market": "world_indices",
         "_deepnote_index_column": 1313
        },
        {
         "country": "united states",
         "name": "DJ Trucking",
         "full_name": "Dow Jones Trucking",
         "symbol": "DJUSTK",
         "currency": "USD",
         "class": "other_indices",
         "market": "world_indices",
         "_deepnote_index_column": 1314
        },
        {
         "country": "united states",
         "name": "NQ US Benchmark Iron & Steel",
         "full_name": "NASDAQ US Benchmark Iron & Steel",
         "symbol": "NQUSB1757",
         "currency": "USD",
         "class": "primary_sectors",
         "market": "global_indices",
         "_deepnote_index_column": 1315
        },
        {
         "country": "united states",
         "name": "NQ OMX Energy Efficiency TR",
         "full_name": "NASDAQ OMX Energy Efficiency TR",
         "symbol": "GRNENEFX",
         "currency": "USD",
         "class": "other_indices",
         "market": "world_indices",
         "_deepnote_index_column": 1316
        },
        {
         "country": "united states",
         "name": "NQ OMX Energy Management",
         "full_name": "NASDAQ OMX Energy Management",
         "symbol": "GRNMAN",
         "currency": "USD",
         "class": "other_indices",
         "market": "world_indices",
         "_deepnote_index_column": 1317
        },
        {
         "country": "united states",
         "name": "NQ US Benchmark Chemicals",
         "full_name": "NASDAQ US Benchmark Chemicals",
         "symbol": "NQUSB1300",
         "currency": "USD",
         "class": "primary_sectors",
         "market": "global_indices",
         "_deepnote_index_column": 1318
        },
        {
         "country": "united states",
         "name": "MSCI US Net EUR",
         "full_name": "MSCI US Net EUR",
         "symbol": "MIUS00000NEU",
         "currency": "EUR",
         "class": "major_indices",
         "market": "global_indices",
         "_deepnote_index_column": 1319
        },
        {
         "country": "united states",
         "name": "NQ US Benchmark Basic Materials",
         "full_name": "NASDAQ US Benchmark Basic Materials",
         "symbol": "NQUSB1000",
         "currency": "USD",
         "class": "primary_sectors",
         "market": "global_indices",
         "_deepnote_index_column": 1320
        },
        {
         "country": "united states",
         "name": "NQ OMX Energy Management TR",
         "full_name": "NASDAQ OMX Energy Management TR",
         "symbol": "GRNMANX",
         "currency": "USD",
         "class": "other_indices",
         "market": "world_indices",
         "_deepnote_index_column": 1321
        },
        {
         "country": "united states",
         "name": "NQ OMX Energy Storage",
         "full_name": "NASDAQ OMX Energy Storage",
         "symbol": "GRNSTOR",
         "currency": "USD",
         "class": "other_indices",
         "market": "world_indices",
         "_deepnote_index_column": 1322
        },
        {
         "country": "united states",
         "name": "NQ OMX Energy Storage TR",
         "full_name": "NASDAQ OMX Energy Storage TR",
         "symbol": "GRNSTORX",
         "currency": "USD",
         "class": "other_indices",
         "market": "world_indices",
         "_deepnote_index_column": 1323
        },
        {
         "country": "united states",
         "name": "NQ US Benchmark Oil & Gas",
         "full_name": "NASDAQ US Benchmark Oil & Gas",
         "symbol": "NQUSB0001",
         "currency": "USD",
         "class": "primary_sectors",
         "market": "global_indices",
         "_deepnote_index_column": 1324
        },
        {
         "country": "united states",
         "name": "MSCI US Net USD",
         "full_name": "MSCI US Net USD",
         "symbol": "MIUS00000NUS",
         "currency": "USD",
         "class": "major_indices",
         "market": "global_indices",
         "_deepnote_index_column": 1325
        },
        {
         "country": "united states",
         "name": "NQ OMX Green Economy Asia TR USD",
         "full_name": "NASDAQ OMX Green Economy Asia TR USD",
         "symbol": "GRNASIAX",
         "currency": "USD",
         "class": "other_indices",
         "market": "world_indices",
         "_deepnote_index_column": 1326
        },
        {
         "country": "united states",
         "name": "NQ OMX Green Economy",
         "full_name": "NASDAQ OMX Green Economy",
         "symbol": "QGREEN",
         "currency": "USD",
         "class": "other_indices",
         "market": "world_indices",
         "_deepnote_index_column": 1327
        },
        {
         "country": "united states",
         "name": "NQ OMX Energy Efficiency",
         "full_name": "NASDAQ OMX Energy Efficiency",
         "symbol": "GRNENEF",
         "currency": "USD",
         "class": "other_indices",
         "market": "world_indices",
         "_deepnote_index_column": 1328
        },
        {
         "country": "united states",
         "name": "NQ OMX Green Building TR",
         "full_name": "NASDAQ OMX Green Building TR",
         "symbol": "GRNGBX",
         "currency": "USD",
         "class": "other_indices",
         "market": "world_indices",
         "_deepnote_index_column": 1329
        },
        {
         "country": "united states",
         "name": "NQ OMX Global Water TR",
         "full_name": "NASDAQ OMX Global Water TR",
         "symbol": "GRNWATERLX",
         "currency": "USD",
         "class": "other_indices",
         "market": "world_indices",
         "_deepnote_index_column": 1330
        },
        {
         "country": "united states",
         "name": "NQ OMX Global Water",
         "full_name": "NASDAQ OMX Global Water",
         "symbol": "GRNWATERL",
         "currency": "USD",
         "class": "other_indices",
         "market": "world_indices",
         "_deepnote_index_column": 1331
        },
        {
         "country": "united states",
         "name": "NQ OMX Global Gold & Precious Metals",
         "full_name": "NASDAQ OMX Global Gold & Precious Metals",
         "symbol": "QGLD",
         "currency": "USD",
         "class": "other_indices",
         "market": "world_indices",
         "_deepnote_index_column": 1332
        },
        {
         "country": "united states",
         "name": "NQ OMX Global Agriculture TR",
         "full_name": "NASDAQ OMX Global Agriculture TR",
         "symbol": "QAGX",
         "currency": "USD",
         "class": "other_indices",
         "market": "world_indices",
         "_deepnote_index_column": 1333
        },
        {
         "country": "united states",
         "name": "NQ OMX Global Agriculture Notional Net TR",
         "full_name": "NASDAQ OMX Global Agriculture Notional Net TR",
         "symbol": "QAGXNNR",
         "currency": "USD",
         "class": "other_indices",
         "market": "world_indices",
         "_deepnote_index_column": 1334
        },
        {
         "country": "united states",
         "name": "NQ OMX Global Agriculture",
         "full_name": "NASDAQ OMX Global Agriculture",
         "symbol": "QAGR",
         "currency": "USD",
         "class": "other_indices",
         "market": "world_indices",
         "_deepnote_index_column": 1335
        },
        {
         "country": "united states",
         "name": "DJ U.S. Select Insurance",
         "full_name": "Dow Jones US Select Insurance",
         "symbol": "DJSINS",
         "currency": "USD",
         "class": "primary_sectors",
         "market": "global_indices",
         "_deepnote_index_column": 1336
        },
        {
         "country": "united states",
         "name": "NQ Clean Edge Green Energy",
         "full_name": "NASDAQ Clean Edge Green Energy",
         "symbol": "CELS",
         "currency": "USD",
         "class": "other_indices",
         "market": "world_indices",
         "_deepnote_index_column": 1337
        },
        {
         "country": "united states",
         "name": "NQ OMX Geothermal TR",
         "full_name": "NASDAQ OMX Geothermal TR",
         "symbol": "GRNGEOX",
         "currency": "USD",
         "class": "other_indices",
         "market": "world_indices",
         "_deepnote_index_column": 1338
        },
        {
         "country": "united states",
         "name": "NQ OMX Geothermal",
         "full_name": "NASDAQ OMX Geothermal",
         "symbol": "GRNGEO",
         "currency": "USD",
         "class": "other_indices",
         "market": "world_indices",
         "_deepnote_index_column": 1339
        },
        {
         "country": "united states",
         "name": "NQ OMX Fuel Cell",
         "full_name": "NASDAQ OMX Fuel Cell",
         "symbol": "GRNFUEL",
         "currency": "USD",
         "class": "other_indices",
         "market": "world_indices",
         "_deepnote_index_column": 1340
        },
        {
         "country": "united states",
         "name": "NQ OMX Fuel Cell TR",
         "full_name": "NASDAQ OMX Fuel Cell TR",
         "symbol": "GRNFUELX",
         "currency": "USD",
         "class": "other_indices",
         "market": "world_indices",
         "_deepnote_index_column": 1341
        },
        {
         "country": "united states",
         "name": "NQ US Technology Dividend",
         "full_name": "NASDAQ US Technology Dividend",
         "symbol": "NQ96DIVUS",
         "currency": "USD",
         "class": "primary_sectors",
         "market": "global_indices",
         "_deepnote_index_column": 1342
        },
        {
         "country": "united states",
         "name": "NQ OMX Green Building",
         "full_name": "NASDAQ OMX Green Building",
         "symbol": "GRNGB",
         "currency": "USD",
         "class": "other_indices",
         "market": "world_indices",
         "_deepnote_index_column": 1343
        },
        {
         "country": "united states",
         "name": "DJ US Select Telecom",
         "full_name": "Dow Jones US Select Telecommunications",
         "symbol": "DJSTEL",
         "currency": "USD",
         "class": "primary_sectors",
         "market": "global_indices",
         "_deepnote_index_column": 1344
        },
        {
         "country": "united states",
         "name": "NQ OMX Developer/Operator TR",
         "full_name": "NASDAQ OMX Developer/Operator TR",
         "symbol": "GRNDOX",
         "currency": "USD",
         "class": "other_indices",
         "market": "world_indices",
         "_deepnote_index_column": 1345
        },
        {
         "country": "united states",
         "name": "DJ Insurance",
         "full_name": "Dow Jones Insurance",
         "symbol": "DJUSIR",
         "currency": "USD",
         "class": "other_indices",
         "market": "world_indices",
         "_deepnote_index_column": 1346
        },
        {
         "country": "united states",
         "name": "ISE Cyber Security UCITS TR",
         "full_name": "ISE Cyber Security UCITS TR",
         "symbol": "HURTR",
         "currency": "USD",
         "class": "other_indices",
         "market": "world_indices",
         "_deepnote_index_column": 1347
        },
        {
         "country": "united states",
         "name": "NQ OMX Green Transportation TR",
         "full_name": "NASDAQ OMX Green Transportation TR",
         "symbol": "GRNTRNX",
         "currency": "USD",
         "class": "other_indices",
         "market": "world_indices",
         "_deepnote_index_column": 1348
        },
        {
         "country": "united states",
         "name": "ISE Junior Silver Small Cap Miners/Explorers",
         "full_name": "ISE Junior Silver Small Cap Miners/Explorers",
         "symbol": "ZIR",
         "currency": "USD",
         "class": "other_indices",
         "market": "world_indices",
         "_deepnote_index_column": 1349
        },
        {
         "country": "united states",
         "name": "KBW Nasdaq Financial Technology",
         "full_name": "KBW Nasdaq Financial Technology",
         "symbol": "KFTX",
         "currency": "USD",
         "class": "other_indices",
         "market": "world_indices",
         "_deepnote_index_column": 1350
        },
        {
         "country": "united states",
         "name": "ISE Cyber Security UCITS Net TR",
         "full_name": "ISE Cyber Security UCITS Net TR",
         "symbol": "HURNTR",
         "currency": "USD",
         "class": "other_indices",
         "market": "world_indices",
         "_deepnote_index_column": 1351
        },
        {
         "country": "united states",
         "name": "MS HI-Tech 35 Settlement Value",
         "full_name": "MS HI-Tech 35 Settlement Value",
         "symbol": "MVH",
         "currency": "USD",
         "class": "other_indices",
         "market": "world_indices",
         "_deepnote_index_column": 1352
        },
        {
         "country": "united states",
         "name": "DJ Marine Transportation",
         "full_name": "Dow Jones Marine Transportation",
         "symbol": "DJUSMT",
         "currency": "USD",
         "class": "other_indices",
         "market": "world_indices",
         "_deepnote_index_column": 1353
        },
        {
         "country": "united states",
         "name": "NQ OMX Green Transportation",
         "full_name": "NASDAQ OMX Green Transportation",
         "symbol": "GRNTRN",
         "currency": "USD",
         "class": "other_indices",
         "market": "world_indices",
         "_deepnote_index_column": 1354
        },
        {
         "country": "united states",
         "name": "NQ OMX Green IT TR",
         "full_name": "NASDAQ OMX Green IT TR",
         "symbol": "GREENITX",
         "currency": "USD",
         "class": "other_indices",
         "market": "world_indices",
         "_deepnote_index_column": 1355
        },
        {
         "country": "united states",
         "name": "DJ Life Insurance",
         "full_name": "Dow Jones Life Insurance",
         "symbol": "DJUSIL",
         "currency": "USD",
         "class": "other_indices",
         "market": "world_indices",
         "_deepnote_index_column": 1356
        },
        {
         "country": "united states",
         "name": "NQ OMX Green IT",
         "full_name": "NASDAQ OMX Green IT",
         "symbol": "GREENIT",
         "currency": "USD",
         "class": "other_indices",
         "market": "world_indices",
         "_deepnote_index_column": 1357
        },
        {
         "country": "united states",
         "name": "DJ Leisure Goods",
         "full_name": "Dow Jones Leisure Goods",
         "symbol": "DJUSLE",
         "currency": "USD",
         "class": "other_indices",
         "market": "world_indices",
         "_deepnote_index_column": 1358
        },
        {
         "country": "united states",
         "name": "NQ OMX Green Economy TR",
         "full_name": "NASDAQ OMX Green Economy TR",
         "symbol": "QGREENX",
         "currency": "USD",
         "class": "other_indices",
         "market": "world_indices",
         "_deepnote_index_column": 1359
        },
        {
         "country": "united states",
         "name": "NQ 100 Technology TR",
         "full_name": "NASDAQ 100 Technology TR",
         "symbol": "NTTR",
         "currency": "USD",
         "class": "other_indices",
         "market": "world_indices",
         "_deepnote_index_column": 1360
        },
        {
         "country": "united states",
         "name": "NQ US Benchmark Mining",
         "full_name": "NASDAQ US Benchmark Mining",
         "symbol": "NQUSB1770",
         "currency": "USD",
         "class": "primary_sectors",
         "market": "global_indices",
         "_deepnote_index_column": 1361
        },
        {
         "country": "united states",
         "name": "NQ OMX Green Economy ex-US USD",
         "full_name": "NASDAQ OMX Green Economy ex-US USD",
         "symbol": "GRNEXUS",
         "currency": "USD",
         "class": "other_indices",
         "market": "world_indices",
         "_deepnote_index_column": 1362
        },
        {
         "country": "united states",
         "name": "NQ OMX Green Economy Europe USD",
         "full_name": "NASDAQ OMX Green Economy Europe USD",
         "symbol": "GRNEUROPE",
         "currency": "USD",
         "class": "other_indices",
         "market": "world_indices",
         "_deepnote_index_column": 1363
        },
        {
         "country": "united states",
         "name": "NQ OMX Green Economy Europe TR USD",
         "full_name": "NASDAQ OMX Green Economy Europe TR USD",
         "symbol": "GRNEUROPEX",
         "currency": "USD",
         "class": "other_indices",
         "market": "world_indices",
         "_deepnote_index_column": 1364
        },
        {
         "country": "united states",
         "name": "NQ OMX Green Economy Asia USD",
         "full_name": "NASDAQ OMX Green Economy Asia USD",
         "symbol": "GRNASIA",
         "currency": "USD",
         "class": "other_indices",
         "market": "world_indices",
         "_deepnote_index_column": 1365
        },
        {
         "country": "united states",
         "name": "NQ OMX Developer/Operator",
         "full_name": "NASDAQ OMX Developer/Operator",
         "symbol": "GRNDO",
         "currency": "USD",
         "class": "other_indices",
         "market": "world_indices",
         "_deepnote_index_column": 1366
        },
        {
         "country": "united states",
         "name": "DJ Large-Cap Technology",
         "full_name": "Dow Jones Large-Cap Technology",
         "symbol": "DJULTC",
         "currency": "USD",
         "class": "other_indices",
         "market": "world_indices",
         "_deepnote_index_column": 1367
        },
        {
         "country": "united states",
         "name": "DJ Iron & Steel",
         "full_name": "Dow Jones Iron & Steel",
         "symbol": "DJUSST",
         "currency": "USD",
         "class": "other_indices",
         "market": "world_indices",
         "_deepnote_index_column": 1368
        },
        {
         "country": "united states",
         "name": "DJ Investment Services",
         "full_name": "Dow Jones Investment Services",
         "symbol": "DJUSSB",
         "currency": "USD",
         "class": "other_indices",
         "market": "world_indices",
         "_deepnote_index_column": 1369
        },
        {
         "country": "united states",
         "name": "DJ Internet Services",
         "full_name": "Dow Jones Internet Services",
         "symbol": "DJISVC",
         "currency": "USD",
         "class": "other_indices",
         "market": "world_indices",
         "_deepnote_index_column": 1370
        },
        {
         "country": "united states",
         "name": "DJ Internet Composite",
         "full_name": "Dow Jones Internet Composite",
         "symbol": "DJINET",
         "currency": "USD",
         "class": "other_indices",
         "market": "world_indices",
         "_deepnote_index_column": 1371
        },
        {
         "country": "united states",
         "name": "DJ Internet Commerce",
         "full_name": "Dow Jones Internet Commerce",
         "symbol": "DJECOM",
         "currency": "USD",
         "class": "other_indices",
         "market": "world_indices",
         "_deepnote_index_column": 1372
        },
        {
         "country": "united states",
         "name": "DJ Internet",
         "full_name": "Dow Jones Internet",
         "symbol": "DJUSNS",
         "currency": "USD",
         "class": "other_indices",
         "market": "world_indices",
         "_deepnote_index_column": 1373
        },
        {
         "country": "united states",
         "name": "DJ Integrated Oil & Gas",
         "full_name": "Dow Jones Integrated Oil & Gas",
         "symbol": "DJUSOL",
         "currency": "USD",
         "class": "other_indices",
         "market": "world_indices",
         "_deepnote_index_column": 1374
        },
        {
         "country": "united states",
         "name": "DJ Insurance Brokers",
         "full_name": "Dow Jones Insurance Brokers",
         "symbol": "DJUSIB",
         "currency": "USD",
         "class": "other_indices",
         "market": "world_indices",
         "_deepnote_index_column": 1375
        },
        {
         "country": "united states",
         "name": "NQ OMX Green Economy ex-US TR USD",
         "full_name": "NASDAQ OMX Green Economy ex-US TR USD",
         "symbol": "GRNEXUSX",
         "currency": "USD",
         "class": "other_indices",
         "market": "world_indices",
         "_deepnote_index_column": 1376
        },
        {
         "country": "united states",
         "name": "DJ Global ex-U.S. Select REIT",
         "full_name": "Dow Jones Global ex-US Select REIT",
         "symbol": "DWXRT",
         "currency": "USD",
         "class": "primary_sectors",
         "market": "global_indices",
         "_deepnote_index_column": 1377
        }
       ]
      },
      "text/plain": "            country                                        name  \\\n0     united states                         NQ US Mid Cap Value   \n1     united states                        NQ US Mid Cap Growth   \n2     united states  NQ US Mid Cap Telecommunications Equipment   \n3     united states                NQ US Mid Cap Semiconductors   \n4     united states             NQ US Mid Cap Computer Hardware   \n...             ...                                         ...   \n1373  united states                                 DJ Internet   \n1374  united states                     DJ Integrated Oil & Gas   \n1375  united states                        DJ Insurance Brokers   \n1376  united states           NQ OMX Green Economy ex-US TR USD   \n1377  united states               DJ Global ex-U.S. Select REIT   \n\n                                           full_name     symbol currency  \\\n0                            NASDAQ US Mid Cap Value     NQUSMV      USD   \n1                           NASDAQ US Mid Cap Growth     NQUSMG      USD   \n2     NASDAQ US Mid Cap Telecommunications Equipment  NQUSM9578      USD   \n3                   NASDAQ US Mid Cap Semiconductors  NQUSM9576      USD   \n4                NASDAQ US Mid Cap Computer Hardware  NQUSM9572      USD   \n...                                              ...        ...      ...   \n1373                              Dow Jones Internet     DJUSNS      USD   \n1374                  Dow Jones Integrated Oil & Gas     DJUSOL      USD   \n1375                     Dow Jones Insurance Brokers     DJUSIB      USD   \n1376           NASDAQ OMX Green Economy ex-US TR USD   GRNEXUSX      USD   \n1377              Dow Jones Global ex-US Select REIT      DWXRT      USD   \n\n                class          market  \n0       other_indices  global_indices  \n1       other_indices  global_indices  \n2       other_indices  global_indices  \n3       other_indices  global_indices  \n4       other_indices  global_indices  \n...               ...             ...  \n1373    other_indices   world_indices  \n1374    other_indices   world_indices  \n1375    other_indices   world_indices  \n1376    other_indices   world_indices  \n1377  primary_sectors  global_indices  \n\n[1378 rows x 7 columns]",
      "text/html": "<div>\n<style scoped>\n    .dataframe tbody tr th:only-of-type {\n        vertical-align: middle;\n    }\n\n    .dataframe tbody tr th {\n        vertical-align: top;\n    }\n\n    .dataframe thead th {\n        text-align: right;\n    }\n</style>\n<table border=\"1\" class=\"dataframe\">\n  <thead>\n    <tr style=\"text-align: right;\">\n      <th></th>\n      <th>country</th>\n      <th>name</th>\n      <th>full_name</th>\n      <th>symbol</th>\n      <th>currency</th>\n      <th>class</th>\n      <th>market</th>\n    </tr>\n  </thead>\n  <tbody>\n    <tr>\n      <th>0</th>\n      <td>united states</td>\n      <td>NQ US Mid Cap Value</td>\n      <td>NASDAQ US Mid Cap Value</td>\n      <td>NQUSMV</td>\n      <td>USD</td>\n      <td>other_indices</td>\n      <td>global_indices</td>\n    </tr>\n    <tr>\n      <th>1</th>\n      <td>united states</td>\n      <td>NQ US Mid Cap Growth</td>\n      <td>NASDAQ US Mid Cap Growth</td>\n      <td>NQUSMG</td>\n      <td>USD</td>\n      <td>other_indices</td>\n      <td>global_indices</td>\n    </tr>\n    <tr>\n      <th>2</th>\n      <td>united states</td>\n      <td>NQ US Mid Cap Telecommunications Equipment</td>\n      <td>NASDAQ US Mid Cap Telecommunications Equipment</td>\n      <td>NQUSM9578</td>\n      <td>USD</td>\n      <td>other_indices</td>\n      <td>global_indices</td>\n    </tr>\n    <tr>\n      <th>3</th>\n      <td>united states</td>\n      <td>NQ US Mid Cap Semiconductors</td>\n      <td>NASDAQ US Mid Cap Semiconductors</td>\n      <td>NQUSM9576</td>\n      <td>USD</td>\n      <td>other_indices</td>\n      <td>global_indices</td>\n    </tr>\n    <tr>\n      <th>4</th>\n      <td>united states</td>\n      <td>NQ US Mid Cap Computer Hardware</td>\n      <td>NASDAQ US Mid Cap Computer Hardware</td>\n      <td>NQUSM9572</td>\n      <td>USD</td>\n      <td>other_indices</td>\n      <td>global_indices</td>\n    </tr>\n    <tr>\n      <th>...</th>\n      <td>...</td>\n      <td>...</td>\n      <td>...</td>\n      <td>...</td>\n      <td>...</td>\n      <td>...</td>\n      <td>...</td>\n    </tr>\n    <tr>\n      <th>1373</th>\n      <td>united states</td>\n      <td>DJ Internet</td>\n      <td>Dow Jones Internet</td>\n      <td>DJUSNS</td>\n      <td>USD</td>\n      <td>other_indices</td>\n      <td>world_indices</td>\n    </tr>\n    <tr>\n      <th>1374</th>\n      <td>united states</td>\n      <td>DJ Integrated Oil &amp; Gas</td>\n      <td>Dow Jones Integrated Oil &amp; Gas</td>\n      <td>DJUSOL</td>\n      <td>USD</td>\n      <td>other_indices</td>\n      <td>world_indices</td>\n    </tr>\n    <tr>\n      <th>1375</th>\n      <td>united states</td>\n      <td>DJ Insurance Brokers</td>\n      <td>Dow Jones Insurance Brokers</td>\n      <td>DJUSIB</td>\n      <td>USD</td>\n      <td>other_indices</td>\n      <td>world_indices</td>\n    </tr>\n    <tr>\n      <th>1376</th>\n      <td>united states</td>\n      <td>NQ OMX Green Economy ex-US TR USD</td>\n      <td>NASDAQ OMX Green Economy ex-US TR USD</td>\n      <td>GRNEXUSX</td>\n      <td>USD</td>\n      <td>other_indices</td>\n      <td>world_indices</td>\n    </tr>\n    <tr>\n      <th>1377</th>\n      <td>united states</td>\n      <td>DJ Global ex-U.S. Select REIT</td>\n      <td>Dow Jones Global ex-US Select REIT</td>\n      <td>DWXRT</td>\n      <td>USD</td>\n      <td>primary_sectors</td>\n      <td>global_indices</td>\n    </tr>\n  </tbody>\n</table>\n<p>1378 rows × 7 columns</p>\n</div>"
     },
     "metadata": {}
    }
   ]
  },
  {
   "cell_type": "code",
   "metadata": {
    "tags": [],
    "cell_id": "00018-a94b347c-acc2-4dae-90a8-5be8cc6dd4c0",
    "deepnote_cell_type": "code"
   },
   "source": "",
   "execution_count": null,
   "outputs": []
  },
  {
   "cell_type": "markdown",
   "source": "<a style='text-decoration:none;line-height:16px;display:flex;color:#5B5B62;padding:10px;justify-content:end;' href='https://deepnote.com?utm_source=created-in-deepnote-cell&projectId=645d3506-ee2c-44c9-a8e9-fa6f8711818a' target=\"_blank\">\n<img alt='Created in deepnote.com' style='display:inline;max-height:16px;margin:0px;margin-right:7.5px;' src='data:image/svg+xml;base64,PD94bWwgdmVyc2lvbj0iMS4wIiBlbmNvZGluZz0iVVRGLTgiPz4KPHN2ZyB3aWR0aD0iODBweCIgaGVpZ2h0PSI4MHB4IiB2aWV3Qm94PSIwIDAgODAgODAiIHZlcnNpb249IjEuMSIgeG1sbnM9Imh0dHA6Ly93d3cudzMub3JnLzIwMDAvc3ZnIiB4bWxuczp4bGluaz0iaHR0cDovL3d3dy53My5vcmcvMTk5OS94bGluayI+CiAgICA8IS0tIEdlbmVyYXRvcjogU2tldGNoIDU0LjEgKDc2NDkwKSAtIGh0dHBzOi8vc2tldGNoYXBwLmNvbSAtLT4KICAgIDx0aXRsZT5Hcm91cCAzPC90aXRsZT4KICAgIDxkZXNjPkNyZWF0ZWQgd2l0aCBTa2V0Y2guPC9kZXNjPgogICAgPGcgaWQ9IkxhbmRpbmciIHN0cm9rZT0ibm9uZSIgc3Ryb2tlLXdpZHRoPSIxIiBmaWxsPSJub25lIiBmaWxsLXJ1bGU9ImV2ZW5vZGQiPgogICAgICAgIDxnIGlkPSJBcnRib2FyZCIgdHJhbnNmb3JtPSJ0cmFuc2xhdGUoLTEyMzUuMDAwMDAwLCAtNzkuMDAwMDAwKSI+CiAgICAgICAgICAgIDxnIGlkPSJHcm91cC0zIiB0cmFuc2Zvcm09InRyYW5zbGF0ZSgxMjM1LjAwMDAwMCwgNzkuMDAwMDAwKSI+CiAgICAgICAgICAgICAgICA8cG9seWdvbiBpZD0iUGF0aC0yMCIgZmlsbD0iIzAyNjVCNCIgcG9pbnRzPSIyLjM3NjIzNzYyIDgwIDM4LjA0NzY2NjcgODAgNTcuODIxNzgyMiA3My44MDU3NTkyIDU3LjgyMTc4MjIgMzIuNzU5MjczOSAzOS4xNDAyMjc4IDMxLjY4MzE2ODMiPjwvcG9seWdvbj4KICAgICAgICAgICAgICAgIDxwYXRoIGQ9Ik0zNS4wMDc3MTgsODAgQzQyLjkwNjIwMDcsNzYuNDU0OTM1OCA0Ny41NjQ5MTY3LDcxLjU0MjI2NzEgNDguOTgzODY2LDY1LjI2MTk5MzkgQzUxLjExMjI4OTksNTUuODQxNTg0MiA0MS42NzcxNzk1LDQ5LjIxMjIyODQgMjUuNjIzOTg0Niw0OS4yMTIyMjg0IEMyNS40ODQ5Mjg5LDQ5LjEyNjg0NDggMjkuODI2MTI5Niw0My4yODM4MjQ4IDM4LjY0NzU4NjksMzEuNjgzMTY4MyBMNzIuODcxMjg3MSwzMi41NTQ0MjUgTDY1LjI4MDk3Myw2Ny42NzYzNDIxIEw1MS4xMTIyODk5LDc3LjM3NjE0NCBMMzUuMDA3NzE4LDgwIFoiIGlkPSJQYXRoLTIyIiBmaWxsPSIjMDAyODY4Ij48L3BhdGg+CiAgICAgICAgICAgICAgICA8cGF0aCBkPSJNMCwzNy43MzA0NDA1IEwyNy4xMTQ1MzcsMC4yNTcxMTE0MzYgQzYyLjM3MTUxMjMsLTEuOTkwNzE3MDEgODAsMTAuNTAwMzkyNyA4MCwzNy43MzA0NDA1IEM4MCw2NC45NjA0ODgyIDY0Ljc3NjUwMzgsNzkuMDUwMzQxNCAzNC4zMjk1MTEzLDgwIEM0Ny4wNTUzNDg5LDc3LjU2NzA4MDggNTMuNDE4MjY3Nyw3MC4zMTM2MTAzIDUzLjQxODI2NzcsNTguMjM5NTg4NSBDNTMuNDE4MjY3Nyw0MC4xMjg1NTU3IDM2LjMwMzk1NDQsMzcuNzMwNDQwNSAyNS4yMjc0MTcsMzcuNzMwNDQwNSBDMTcuODQzMDU4NiwzNy43MzA0NDA1IDkuNDMzOTE5NjYsMzcuNzMwNDQwNSAwLDM3LjczMDQ0MDUgWiIgaWQ9IlBhdGgtMTkiIGZpbGw9IiMzNzkzRUYiPjwvcGF0aD4KICAgICAgICAgICAgPC9nPgogICAgICAgIDwvZz4KICAgIDwvZz4KPC9zdmc+' > </img>\nCreated in <span style='font-weight:600;margin-left:4px;'>Deepnote</span></a>",
   "metadata": {
    "tags": [],
    "created_in_deepnote_cell": true,
    "deepnote_cell_type": "markdown"
   }
  }
 ],
 "nbformat": 4,
 "nbformat_minor": 2,
 "metadata": {
  "orig_nbformat": 2,
  "deepnote": {
   "is_reactive": false
  },
  "deepnote_notebook_id": "7893c00c-d3bf-41e9-a8c3-7aef68413969",
  "deepnote_execution_queue": []
 }
}