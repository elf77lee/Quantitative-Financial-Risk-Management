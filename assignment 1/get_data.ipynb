{
 "cells": [
  {
   "cell_type": "code",
   "metadata": {
    "tags": [],
    "cell_id": "00000-53b3e446-869d-4dba-8779-913a789b7617",
    "deepnote_to_be_reexecuted": false,
    "source_hash": "20533849",
    "execution_start": 1620411213086,
    "execution_millis": 9708,
    "deepnote_cell_type": "code"
   },
   "source": "# Start writing code here...\n! pip install investpy",
   "execution_count": null,
   "outputs": [
    {
     "name": "stdout",
     "text": "Collecting investpy\n  Downloading investpy-1.0.6.tar.gz (4.4 MB)\n\u001b[K     |████████████████████████████████| 4.4 MB 7.1 MB/s \n\u001b[?25hCollecting Unidecode>=1.1.1\n  Downloading Unidecode-1.2.0-py2.py3-none-any.whl (241 kB)\n\u001b[K     |████████████████████████████████| 241 kB 31.9 MB/s \n\u001b[?25hRequirement already satisfied: setuptools>=41.2.0 in /root/venv/lib/python3.7/site-packages (from investpy) (56.0.0)\nRequirement already satisfied: numpy>=1.17.2 in /shared-libs/python3.7/py/lib/python3.7/site-packages (from investpy) (1.19.5)\nRequirement already satisfied: pandas>=0.25.1 in /shared-libs/python3.7/py/lib/python3.7/site-packages (from investpy) (1.2.4)\nRequirement already satisfied: lxml>=4.4.1 in /shared-libs/python3.7/py/lib/python3.7/site-packages (from investpy) (4.6.3)\nRequirement already satisfied: requests>=2.22.0 in /shared-libs/python3.7/py/lib/python3.7/site-packages (from investpy) (2.25.1)\nRequirement already satisfied: pytz>=2019.3 in /shared-libs/python3.7/py/lib/python3.7/site-packages (from investpy) (2021.1)\nRequirement already satisfied: python-dateutil>=2.7.3 in /shared-libs/python3.7/py-core/lib/python3.7/site-packages (from pandas>=0.25.1->investpy) (2.8.1)\nRequirement already satisfied: six>=1.5 in /shared-libs/python3.7/py-core/lib/python3.7/site-packages (from python-dateutil>=2.7.3->pandas>=0.25.1->investpy) (1.16.0)\nRequirement already satisfied: urllib3<1.27,>=1.21.1 in /shared-libs/python3.7/py/lib/python3.7/site-packages (from requests>=2.22.0->investpy) (1.26.4)\nRequirement already satisfied: idna<3,>=2.5 in /shared-libs/python3.7/py/lib/python3.7/site-packages (from requests>=2.22.0->investpy) (2.10)\nRequirement already satisfied: chardet<5,>=3.0.2 in /shared-libs/python3.7/py/lib/python3.7/site-packages (from requests>=2.22.0->investpy) (3.0.4)\nRequirement already satisfied: certifi>=2017.4.17 in /shared-libs/python3.7/py/lib/python3.7/site-packages (from requests>=2.22.0->investpy) (2020.12.5)\nBuilding wheels for collected packages: investpy\n  Building wheel for investpy (setup.py) ... \u001b[?25ldone\n\u001b[?25h  Created wheel for investpy: filename=investpy-1.0.6-py3-none-any.whl size=4485152 sha256=f7352613a6294a96783cfd9ca92be842faf06c0c6f8bd4fc4ce7dd6f4c065292\n  Stored in directory: /root/.cache/pip/wheels/bc/a3/1b/8d71d8907ca0e79cb0a82139f3661cb577ced0fd8bbb7b6c7f\nSuccessfully built investpy\nInstalling collected packages: Unidecode, investpy\nSuccessfully installed Unidecode-1.2.0 investpy-1.0.6\n",
     "output_type": "stream"
    }
   ]
  },
  {
   "cell_type": "code",
   "metadata": {
    "tags": [],
    "cell_id": "00001-a159c3da-d89e-4103-872d-e5f64002b733",
    "deepnote_to_be_reexecuted": false,
    "source_hash": "340affa6",
    "execution_start": 1620411228491,
    "execution_millis": 696,
    "deepnote_cell_type": "code"
   },
   "source": "import numpy as np\nimport pandas as pd\nimport investpy",
   "execution_count": null,
   "outputs": []
  },
  {
   "cell_type": "code",
   "metadata": {
    "tags": [],
    "cell_id": "00002-e0f5bf08-45ee-41d8-b4d3-6fc1bba30c1f",
    "deepnote_to_be_reexecuted": false,
    "source_hash": "cae935e3",
    "execution_start": 1620144392395,
    "execution_millis": 281,
    "deepnote_cell_type": "code"
   },
   "source": "investpy.get_stocks(country='Netherlands')",
   "execution_count": null,
   "outputs": [
    {
     "output_type": "execute_result",
     "execution_count": 20,
     "data": {
      "application/vnd.deepnote.dataframe.v2+json": {
       "row_count": 135,
       "column_count": 6,
       "columns": [
        {
         "name": "country",
         "dtype": "object",
         "stats": {
          "unique_count": 1,
          "nan_count": 0,
          "categories": [
           {
            "name": "netherlands",
            "count": 135
           }
          ]
         }
        },
        {
         "name": "name",
         "dtype": "object",
         "stats": {
          "unique_count": 134,
          "nan_count": 0,
          "categories": [
           {
            "name": "Heineken",
            "count": 2
           },
           {
            "name": "ING Groep",
            "count": 1
           },
           {
            "name": "132 others",
            "count": 132
           }
          ]
         }
        },
        {
         "name": "full_name",
         "dtype": "object",
         "stats": {
          "unique_count": 135,
          "nan_count": 0,
          "categories": [
           {
            "name": "ING Groep NV",
            "count": 1
           },
           {
            "name": "Royal Dutch Shell PLC Class A",
            "count": 1
           },
           {
            "name": "133 others",
            "count": 133
           }
          ]
         }
        },
        {
         "name": "isin",
         "dtype": "object",
         "stats": {
          "unique_count": 135,
          "nan_count": 0,
          "categories": [
           {
            "name": "NL0011821202",
            "count": 1
           },
           {
            "name": "GB00B03MLX29",
            "count": 1
           },
           {
            "name": "133 others",
            "count": 133
           }
          ]
         }
        },
        {
         "name": "currency",
         "dtype": "object",
         "stats": {
          "unique_count": 2,
          "nan_count": 0,
          "categories": [
           {
            "name": "EUR",
            "count": 132
           },
           {
            "name": "USD",
            "count": 3
           }
          ]
         }
        },
        {
         "name": "symbol",
         "dtype": "object",
         "stats": {
          "unique_count": 135,
          "nan_count": 0,
          "categories": [
           {
            "name": "INGA",
            "count": 1
           },
           {
            "name": "RDSa",
            "count": 1
           },
           {
            "name": "133 others",
            "count": 133
           }
          ]
         }
        },
        {
         "name": "_deepnote_index_column",
         "dtype": "int64"
        }
       ],
       "rows_top": [
        {
         "country": "netherlands",
         "name": "ING Groep",
         "full_name": "ING Groep NV",
         "isin": "NL0011821202",
         "currency": "EUR",
         "symbol": "INGA",
         "_deepnote_index_column": 0
        },
        {
         "country": "netherlands",
         "name": "Royal Dutch Shell A",
         "full_name": "Royal Dutch Shell PLC Class A",
         "isin": "GB00B03MLX29",
         "currency": "EUR",
         "symbol": "RDSa",
         "_deepnote_index_column": 1
        },
        {
         "country": "netherlands",
         "name": "Heineken",
         "full_name": "Heineken",
         "isin": "NL0000009165",
         "currency": "EUR",
         "symbol": "HEIN",
         "_deepnote_index_column": 2
        },
        {
         "country": "netherlands",
         "name": "Aegon",
         "full_name": "Aegon NV",
         "isin": "NL0000303709",
         "currency": "EUR",
         "symbol": "AEGN",
         "_deepnote_index_column": 3
        },
        {
         "country": "netherlands",
         "name": "Philips",
         "full_name": "Koninklijke Philips NV",
         "isin": "NL0000009538",
         "currency": "EUR",
         "symbol": "PHG",
         "_deepnote_index_column": 4
        },
        {
         "country": "netherlands",
         "name": "Amsterdam Commodities",
         "full_name": "Amsterdam Commodities NV",
         "isin": "NL0000313286",
         "currency": "EUR",
         "symbol": "ARBN",
         "_deepnote_index_column": 5
        },
        {
         "country": "netherlands",
         "name": "Royal Dutch Shell B",
         "full_name": "Royal Dutch Shell PLC Class B",
         "isin": "GB00B03MM408",
         "currency": "EUR",
         "symbol": "RDSb",
         "_deepnote_index_column": 6
        },
        {
         "country": "netherlands",
         "name": "Holland Colours",
         "full_name": "Holland Colours NV",
         "isin": "NL0000440311",
         "currency": "EUR",
         "symbol": "HOLCO",
         "_deepnote_index_column": 7
        },
        {
         "country": "netherlands",
         "name": "WFD Unibail Rodamco",
         "full_name": "WFD Unibail Rodamco NV",
         "isin": "FR0013326246",
         "currency": "EUR",
         "symbol": "URW",
         "_deepnote_index_column": 8
        },
        {
         "country": "netherlands",
         "name": "ASM",
         "full_name": "ASM International NV",
         "isin": "NL0000334118",
         "currency": "EUR",
         "symbol": "ASMI",
         "_deepnote_index_column": 9
        },
        {
         "country": "netherlands",
         "name": "Randstad",
         "full_name": "Randstad NV",
         "isin": "NL0000379121",
         "currency": "EUR",
         "symbol": "RAND",
         "_deepnote_index_column": 10
        },
        {
         "country": "netherlands",
         "name": "Fugro",
         "full_name": "Fugro NV",
         "isin": "NL0000352565",
         "currency": "EUR",
         "symbol": "FUGRc",
         "_deepnote_index_column": 11
        },
        {
         "country": "netherlands",
         "name": "Corbion",
         "full_name": "Corbion NV",
         "isin": "NL0010583399",
         "currency": "EUR",
         "symbol": "CORB",
         "_deepnote_index_column": 12
        },
        {
         "country": "netherlands",
         "name": "Vastned Retail",
         "full_name": "Vastned Retail NV",
         "isin": "NL0000288918",
         "currency": "EUR",
         "symbol": "VASN",
         "_deepnote_index_column": 13
        },
        {
         "country": "netherlands",
         "name": "AMG",
         "full_name": "AMG Advanced Metallurgical Group NV",
         "isin": "NL0000888691",
         "currency": "EUR",
         "symbol": "AMG",
         "_deepnote_index_column": 14
        },
        {
         "country": "netherlands",
         "name": "Wolters Kluwer",
         "full_name": "Wolters Kluwer",
         "isin": "NL0000395903",
         "currency": "EUR",
         "symbol": "WLSNc",
         "_deepnote_index_column": 15
        },
        {
         "country": "netherlands",
         "name": "SBM Offshore",
         "full_name": "SBM Offshore NV",
         "isin": "NL0000360618",
         "currency": "EUR",
         "symbol": "SBMO",
         "_deepnote_index_column": 16
        },
        {
         "country": "netherlands",
         "name": "Ordina",
         "full_name": "Ordina NV",
         "isin": "NL0000440584",
         "currency": "EUR",
         "symbol": "ORDN",
         "_deepnote_index_column": 17
        },
        {
         "country": "netherlands",
         "name": "Akzo Nobel",
         "full_name": "Akzo Nobel NV",
         "isin": "NL0013267909",
         "currency": "EUR",
         "symbol": "AKZO",
         "_deepnote_index_column": 18
        },
        {
         "country": "netherlands",
         "name": "Vopak",
         "full_name": "Koninklijke Vopak NV",
         "isin": "NL0009432491",
         "currency": "EUR",
         "symbol": "VOPA",
         "_deepnote_index_column": 19
        },
        {
         "country": "netherlands",
         "name": "TomTom",
         "full_name": "TomTom NV",
         "isin": "NL0013332471",
         "currency": "EUR",
         "symbol": "TOM2",
         "_deepnote_index_column": 20
        },
        {
         "country": "netherlands",
         "name": "Koninklijke DSM",
         "full_name": "Koninklijke DSM NV",
         "isin": "NL0000009827",
         "currency": "EUR",
         "symbol": "DSMN",
         "_deepnote_index_column": 21
        },
        {
         "country": "netherlands",
         "name": "Koninklijke Wessanen",
         "full_name": "Koninklijke Wessanen NV",
         "isin": "NL0000395317",
         "currency": "EUR",
         "symbol": "BSWSc",
         "_deepnote_index_column": 22
        },
        {
         "country": "netherlands",
         "name": "Kardan NV",
         "full_name": "Kardan NV",
         "isin": "NL0000113652",
         "currency": "EUR",
         "symbol": "KARD",
         "_deepnote_index_column": 23
        },
        {
         "country": "netherlands",
         "name": "Ahold Delhaize",
         "full_name": "Koninklijke Ahold Delhaize NV",
         "isin": "NL0011794037",
         "currency": "EUR",
         "symbol": "AD",
         "_deepnote_index_column": 24
        },
        {
         "country": "netherlands",
         "name": "ArcelorMittal",
         "full_name": "ArcelorMittal SA",
         "isin": "LU1598757687",
         "currency": "EUR",
         "symbol": "MT",
         "_deepnote_index_column": 25
        },
        {
         "country": "netherlands",
         "name": "Binckbank",
         "full_name": "BinckBank NV",
         "isin": "NL0000335578",
         "currency": "EUR",
         "symbol": "BINCK",
         "_deepnote_index_column": 26
        },
        {
         "country": "netherlands",
         "name": "Koninklijke KPN",
         "full_name": "Koninklijke KPN NV",
         "isin": "NL0000009082",
         "currency": "EUR",
         "symbol": "KPN",
         "_deepnote_index_column": 27
        },
        {
         "country": "netherlands",
         "name": "BAM Groep",
         "full_name": "Koninklijke BAM Groep NV",
         "isin": "NL0000337319",
         "currency": "EUR",
         "symbol": "BAMN",
         "_deepnote_index_column": 28
        },
        {
         "country": "netherlands",
         "name": "ASML Holding",
         "full_name": "ASML Holding NV",
         "isin": "NL0010273215",
         "currency": "EUR",
         "symbol": "ASML",
         "_deepnote_index_column": 29
        },
        {
         "country": "netherlands",
         "name": "NSI",
         "full_name": "NSI NV",
         "isin": "NL0012365084",
         "currency": "EUR",
         "symbol": "NSTEc",
         "_deepnote_index_column": 30
        },
        {
         "country": "netherlands",
         "name": "Aalberts Industries",
         "full_name": "Aalberts Industries NV",
         "isin": "NL0000852564",
         "currency": "EUR",
         "symbol": "AALB",
         "_deepnote_index_column": 31
        },
        {
         "country": "netherlands",
         "name": "Wereldhave",
         "full_name": "Wereldhave NV",
         "isin": "NL0000289213",
         "currency": "EUR",
         "symbol": "WEHA",
         "_deepnote_index_column": 32
        },
        {
         "country": "netherlands",
         "name": "Arcadis",
         "full_name": "Arcadis",
         "isin": "NL0006237562",
         "currency": "EUR",
         "symbol": "ARDS",
         "_deepnote_index_column": 33
        },
        {
         "country": "netherlands",
         "name": "Brunel",
         "full_name": "Brunel International NV",
         "isin": "NL0010776944",
         "currency": "EUR",
         "symbol": "BRUN",
         "_deepnote_index_column": 34
        },
        {
         "country": "netherlands",
         "name": "Boskalis Westminster",
         "full_name": "Koninklijke Boskalis Westminster NV",
         "isin": "NL0000852580",
         "currency": "EUR",
         "symbol": "BOSN",
         "_deepnote_index_column": 35
        },
        {
         "country": "netherlands",
         "name": "Hal Trust",
         "full_name": "Hal Trust",
         "isin": "BMG455841020",
         "currency": "EUR",
         "symbol": "HLAN",
         "_deepnote_index_column": 36
        },
        {
         "country": "netherlands",
         "name": "Heijmans",
         "full_name": "Heijmans NV",
         "isin": "NL0009269109",
         "currency": "EUR",
         "symbol": "HEIJ",
         "_deepnote_index_column": 37
        },
        {
         "country": "netherlands",
         "name": "Kendrion",
         "full_name": "Kendrion NV",
         "isin": "NL0000852531",
         "currency": "EUR",
         "symbol": "SVEL",
         "_deepnote_index_column": 38
        },
        {
         "country": "netherlands",
         "name": "Pharming Group",
         "full_name": "Pharming Group NV",
         "isin": "NL0010391025",
         "currency": "EUR",
         "symbol": "PHAR",
         "_deepnote_index_column": 39
        },
        {
         "country": "netherlands",
         "name": "Accell",
         "full_name": "Accell Group NV",
         "isin": "NL0009767532",
         "currency": "EUR",
         "symbol": "ACCG",
         "_deepnote_index_column": 40
        },
        {
         "country": "netherlands",
         "name": "Eurocommercial Properties",
         "full_name": "Eurocommercial Properties NV",
         "isin": "NL0000288876",
         "currency": "EUR",
         "symbol": "SIPFc",
         "_deepnote_index_column": 41
        },
        {
         "country": "netherlands",
         "name": "Hunter Douglas",
         "full_name": "Hunter Douglas NV",
         "isin": "ANN4327C1220",
         "currency": "EUR",
         "symbol": "HUDN",
         "_deepnote_index_column": 42
        },
        {
         "country": "netherlands",
         "name": "Lavide",
         "full_name": "Lavide Holding NV",
         "isin": "NL0010545679",
         "currency": "EUR",
         "symbol": "LVIDE",
         "_deepnote_index_column": 43
        },
        {
         "country": "netherlands",
         "name": "CTAC",
         "full_name": "CTAC NV",
         "isin": "NL0000345577",
         "currency": "EUR",
         "symbol": "CTAN",
         "_deepnote_index_column": 44
        },
        {
         "country": "netherlands",
         "name": "Beter Bed",
         "full_name": "Beter Bed Holding NV",
         "isin": "NL0000339703",
         "currency": "EUR",
         "symbol": "BETR",
         "_deepnote_index_column": 45
        },
        {
         "country": "netherlands",
         "name": "SnowWorld NV",
         "full_name": "SnowWorld NV",
         "isin": "NL0010627865",
         "currency": "EUR",
         "symbol": "SNOW",
         "_deepnote_index_column": 46
        },
        {
         "country": "netherlands",
         "name": "TKH Group",
         "full_name": "TKH Group NV",
         "isin": "NL0000852523",
         "currency": "EUR",
         "symbol": "TWKNc",
         "_deepnote_index_column": 47
        },
        {
         "country": "netherlands",
         "name": "KAS Bank",
         "full_name": "KAS Bank NV",
         "isin": "NL0000362648",
         "currency": "EUR",
         "symbol": "KASNc",
         "_deepnote_index_column": 48
        },
        {
         "country": "netherlands",
         "name": "BE Semiconductor",
         "full_name": "BE Semiconductor Industries NV",
         "isin": "NL0012866412",
         "currency": "EUR",
         "symbol": "BESI",
         "_deepnote_index_column": 49
        },
        {
         "country": "netherlands",
         "name": "Nedap",
         "full_name": "NV Nederlandsche Apparatenfabriek Nedap",
         "isin": "NL0000371243",
         "currency": "EUR",
         "symbol": "NEDP",
         "_deepnote_index_column": 50
        },
        {
         "country": "netherlands",
         "name": "Ajax",
         "full_name": "AFC Ajax NV",
         "isin": "NL0000018034",
         "currency": "EUR",
         "symbol": "AJAX",
         "_deepnote_index_column": 51
        },
        {
         "country": "netherlands",
         "name": "ICT Group",
         "full_name": "ICT Group NV",
         "isin": "NL0000359537",
         "currency": "EUR",
         "symbol": "ICTA",
         "_deepnote_index_column": 52
        },
        {
         "country": "netherlands",
         "name": "Brill",
         "full_name": "Koninklijke Brill NV",
         "isin": "NL0000442523",
         "currency": "EUR",
         "symbol": "BRIL",
         "_deepnote_index_column": 53
        },
        {
         "country": "netherlands",
         "name": "Oranjewoud NV",
         "full_name": "Oranjewoud NV",
         "isin": "NL0000370419",
         "currency": "EUR",
         "symbol": "ORANW",
         "_deepnote_index_column": 54
        },
        {
         "country": "netherlands",
         "name": "Van Lanschot",
         "full_name": "Van Lanschot NV",
         "isin": "NL0000302636",
         "currency": "EUR",
         "symbol": "VLAN",
         "_deepnote_index_column": 55
        },
        {
         "country": "netherlands",
         "name": "Roodmicrotec",
         "full_name": "RoodMicrotec NV",
         "isin": "NL0000440477",
         "currency": "EUR",
         "symbol": "ROON",
         "_deepnote_index_column": 56
        },
        {
         "country": "netherlands",
         "name": "DGB Group",
         "full_name": "DGB Group NV",
         "isin": "NL0009169515",
         "currency": "EUR",
         "symbol": "DGB",
         "_deepnote_index_column": 57
        },
        {
         "country": "netherlands",
         "name": "Neways Electronics",
         "full_name": "Neways Electronics International NV",
         "isin": "NL0000440618",
         "currency": "EUR",
         "symbol": "NEWN",
         "_deepnote_index_column": 58
        },
        {
         "country": "netherlands",
         "name": "Ease2pay",
         "full_name": "Ease2pay NV",
         "isin": "NL0000345627",
         "currency": "EUR",
         "symbol": "EAS2P",
         "_deepnote_index_column": 59
        },
        {
         "country": "netherlands",
         "name": "Stern Groep",
         "full_name": "Stern Groep NV",
         "isin": "NL0000336303",
         "currency": "EUR",
         "symbol": "ARTN",
         "_deepnote_index_column": 60
        },
        {
         "country": "netherlands",
         "name": "Yatra Capital",
         "full_name": "Yatra Capital Ltd",
         "isin": "JE00B1FBT077",
         "currency": "EUR",
         "symbol": "YATRA",
         "_deepnote_index_column": 61
        },
        {
         "country": "netherlands",
         "name": "Relx",
         "full_name": "Relx PLC",
         "isin": "GB00B2B0DG97",
         "currency": "EUR",
         "symbol": "REL",
         "_deepnote_index_column": 62
        },
        {
         "country": "netherlands",
         "name": "DPA Group",
         "full_name": "DPA Group NV",
         "isin": "NL0009197771",
         "currency": "EUR",
         "symbol": "DPA",
         "_deepnote_index_column": 63
        },
        {
         "country": "netherlands",
         "name": "Inverko",
         "full_name": "Inverko NV",
         "isin": "NL0012194724",
         "currency": "EUR",
         "symbol": "PHLX",
         "_deepnote_index_column": 64
        },
        {
         "country": "netherlands",
         "name": "NedSense",
         "full_name": "NedSense Enterprises NV",
         "isin": "NL0009312842",
         "currency": "EUR",
         "symbol": "NEDSE",
         "_deepnote_index_column": 65
        },
        {
         "country": "netherlands",
         "name": "Aperam",
         "full_name": "Aperam SA",
         "isin": "LU0569974404",
         "currency": "EUR",
         "symbol": "APAM",
         "_deepnote_index_column": 66
        },
        {
         "country": "netherlands",
         "name": "PostNL",
         "full_name": "PostNL NV",
         "isin": "NL0009739416",
         "currency": "EUR",
         "symbol": "PTNL",
         "_deepnote_index_column": 67
        },
        {
         "country": "netherlands",
         "name": "Hydratec",
         "full_name": "Hydratec Industries NV",
         "isin": "NL0009391242",
         "currency": "EUR",
         "symbol": "HYDRA",
         "_deepnote_index_column": 68
        },
        {
         "country": "netherlands",
         "name": "Tetragon",
         "full_name": "Tetragon Financial Group Ltd",
         "isin": "GG00B1RMC548",
         "currency": "EUR",
         "symbol": "TFG",
         "_deepnote_index_column": 69
        },
        {
         "country": "netherlands",
         "name": "Iex Group",
         "full_name": "Iex Group NV",
         "isin": "NL0010556726",
         "currency": "EUR",
         "symbol": "IEX",
         "_deepnote_index_column": 70
        },
        {
         "country": "netherlands",
         "name": "Galapagos",
         "full_name": "Galapagos NV",
         "isin": "BE0003818359",
         "currency": "EUR",
         "symbol": "GLPG",
         "_deepnote_index_column": 71
        },
        {
         "country": "netherlands",
         "name": "Accsys",
         "full_name": "Accsys Technologies PLC",
         "isin": "GB00BQQFX454",
         "currency": "EUR",
         "symbol": "ACCS",
         "_deepnote_index_column": 72
        },
        {
         "country": "netherlands",
         "name": "AND",
         "full_name": "AND International Publishers NV",
         "isin": "NL0000430106",
         "currency": "EUR",
         "symbol": "ANDP",
         "_deepnote_index_column": 73
        },
        {
         "country": "netherlands",
         "name": "Atrium Ltd",
         "full_name": "Atrium European Real Estate Ltd",
         "isin": "JE00B3DCF752",
         "currency": "EUR",
         "symbol": "ATRS",
         "_deepnote_index_column": 74
        },
        {
         "country": "netherlands",
         "name": "Boussard Gavaudan",
         "full_name": "Boussard and Gavaudan Holding Ltd",
         "isin": "GG00B1FQG453",
         "currency": "EUR",
         "symbol": "BGHL",
         "_deepnote_index_column": 75
        },
        {
         "country": "netherlands",
         "name": "Esperite",
         "full_name": "Esperite NV",
         "isin": "NL0009272137",
         "currency": "EUR",
         "symbol": "ESPE",
         "_deepnote_index_column": 76
        },
        {
         "country": "netherlands",
         "name": "New Sources Energy",
         "full_name": "New Sources Energy NV",
         "isin": "NL0009822014",
         "currency": "EUR",
         "symbol": "NSEN",
         "_deepnote_index_column": 77
        },
        {
         "country": "netherlands",
         "name": "Sligro Food",
         "full_name": "Sligro Food Group NV",
         "isin": "NL0000817179",
         "currency": "EUR",
         "symbol": "SLIGR",
         "_deepnote_index_column": 78
        },
        {
         "country": "netherlands",
         "name": "Arcona Property",
         "full_name": "Arcona Property Fund NV",
         "isin": "NL0006311706",
         "currency": "EUR",
         "symbol": "ARCPF",
         "_deepnote_index_column": 79
        },
        {
         "country": "netherlands",
         "name": "Tie Holding",
         "full_name": "TIE Kinetix NV",
         "isin": "NL0010389508",
         "currency": "EUR",
         "symbol": "TIEH",
         "_deepnote_index_column": 80
        },
        {
         "country": "netherlands",
         "name": "Coca-Cola European",
         "full_name": "Coca-Cola European Partners PLC",
         "isin": "GB00BDCPN049",
         "currency": "EUR",
         "symbol": "CCEP",
         "_deepnote_index_column": 81
        },
        {
         "country": "netherlands",
         "name": "Porceleyne Fles",
         "full_name": "Koninklijke Porceleyne Fles NV",
         "isin": "NL0000378669",
         "currency": "EUR",
         "symbol": "PRCF",
         "_deepnote_index_column": 82
        },
        {
         "country": "netherlands",
         "name": "Core Laboratories",
         "full_name": "Core Laboratories NV",
         "isin": "NL0000200384",
         "currency": "EUR",
         "symbol": "CLB",
         "_deepnote_index_column": 83
        },
        {
         "country": "netherlands",
         "name": "Novisource",
         "full_name": "Novisource NV",
         "isin": "NL0010696704",
         "currency": "EUR",
         "symbol": "NOVI",
         "_deepnote_index_column": 84
        },
        {
         "country": "netherlands",
         "name": "AP Alternative Asset",
         "full_name": "AP Alternative Assets LP",
         "isin": "GB00B15Y0C52",
         "currency": "USD",
         "symbol": "AAA",
         "_deepnote_index_column": 85
        },
        {
         "country": "netherlands",
         "name": "HeadFirst Source",
         "full_name": "HeadFirst Source Group NV",
         "isin": "CWN814651014",
         "currency": "EUR",
         "symbol": "MORE",
         "_deepnote_index_column": 86
        },
        {
         "country": "netherlands",
         "name": "Bever Holding NV",
         "full_name": "Bever Holding NV",
         "isin": "NL0000285278",
         "currency": "EUR",
         "symbol": "BEVA",
         "_deepnote_index_column": 87
        },
        {
         "country": "netherlands",
         "name": "Value8",
         "full_name": "Value8 NV",
         "isin": "NL0010661864",
         "currency": "EUR",
         "symbol": "VALU8",
         "_deepnote_index_column": 88
        },
        {
         "country": "netherlands",
         "name": "Eurocastle Investment",
         "full_name": "Eurocastle Investment Ltd",
         "isin": "GB00B94QM994",
         "currency": "EUR",
         "symbol": "ECT",
         "_deepnote_index_column": 89
        },
        {
         "country": "netherlands",
         "name": "Heineken",
         "full_name": "Heineken Holding NV",
         "isin": "NL0000008977",
         "currency": "EUR",
         "symbol": "HEIO",
         "_deepnote_index_column": 90
        },
        {
         "country": "netherlands",
         "name": "OCI NV",
         "full_name": "OCI NV",
         "isin": "NL0010558797",
         "currency": "EUR",
         "symbol": "OCI",
         "_deepnote_index_column": 91
        },
        {
         "country": "netherlands",
         "name": "Thunderbird Resorts",
         "full_name": "Thunderbird Resorts Inc",
         "isin": "VGG885761061",
         "currency": "USD",
         "symbol": "TBIRD",
         "_deepnote_index_column": 92
        },
        {
         "country": "netherlands",
         "name": "Volta Finance",
         "full_name": "Volta Finance Ltd",
         "isin": "GG00B1GHHH78",
         "currency": "EUR",
         "symbol": "VTA",
         "_deepnote_index_column": 93
        },
        {
         "country": "netherlands",
         "name": "Pershing Square",
         "full_name": "Pershing Square Holdings Ltd",
         "isin": "GG00BPFJTF46",
         "currency": "USD",
         "symbol": "PSH",
         "_deepnote_index_column": 94
        },
        {
         "country": "netherlands",
         "name": "Vivoryon Therapeutics",
         "full_name": "Vivoryon Therapeutics AG",
         "isin": "DE0007921835",
         "currency": "EUR",
         "symbol": "VVY",
         "_deepnote_index_column": 95
        },
        {
         "country": "netherlands",
         "name": "NN Group NV",
         "full_name": "NN Group NV",
         "isin": "NL0010773842",
         "currency": "EUR",
         "symbol": "NN",
         "_deepnote_index_column": 96
        },
        {
         "country": "netherlands",
         "name": "IMCD NV",
         "full_name": "IMCD NV",
         "isin": "NL0010801007",
         "currency": "EUR",
         "symbol": "IMCD",
         "_deepnote_index_column": 97
        },
        {
         "country": "netherlands",
         "name": "Theta Legends",
         "full_name": "Theta Legends",
         "isin": "NL0009692839",
         "currency": "EUR",
         "symbol": "THXLE",
         "_deepnote_index_column": 98
        },
        {
         "country": "netherlands",
         "name": "Lucas Bols",
         "full_name": "Lucas Bols Amsterdam BV",
         "isin": "NL0010998878",
         "currency": "EUR",
         "symbol": "BOLS",
         "_deepnote_index_column": 99
        },
        {
         "country": "netherlands",
         "name": "Grandvision BV",
         "full_name": "Grandvision BV",
         "isin": "NL0010937066",
         "currency": "EUR",
         "symbol": "GVNV",
         "_deepnote_index_column": 100
        },
        {
         "country": "netherlands",
         "name": "Flow Traders NV",
         "full_name": "Flow Traders NV",
         "isin": "NL0011279492",
         "currency": "EUR",
         "symbol": "FLOW",
         "_deepnote_index_column": 101
        },
        {
         "country": "netherlands",
         "name": "Kiadis Pharma",
         "full_name": "Kiadis Pharma NV",
         "isin": "NL0011323407",
         "currency": "EUR",
         "symbol": "KDS",
         "_deepnote_index_column": 102
        },
        {
         "country": "netherlands",
         "name": "Altice",
         "full_name": "Altice NV",
         "isin": "NL0011333752",
         "currency": "EUR",
         "symbol": "ATCA",
         "_deepnote_index_column": 103
        },
        {
         "country": "netherlands",
         "name": "Intertrust Group Holding SA",
         "full_name": "Intertrust Group Holding SA",
         "isin": "NL0010937058",
         "currency": "EUR",
         "symbol": "INTER",
         "_deepnote_index_column": 104
        },
        {
         "country": "netherlands",
         "name": "Robeco Global",
         "full_name": "Robeco Global Total Return Bond Fund SICAV",
         "isin": "LU0934195610",
         "currency": "EUR",
         "symbol": "RNTO",
         "_deepnote_index_column": 105
        },
        {
         "country": "netherlands",
         "name": "ABN AMRO",
         "full_name": "ABN AMRO Group NV",
         "isin": "NL0011540547",
         "currency": "EUR",
         "symbol": "ABNd",
         "_deepnote_index_column": 106
        },
        {
         "country": "netherlands",
         "name": "Curetis NV",
         "full_name": "Curetis NV",
         "isin": "NL0011509294",
         "currency": "EUR",
         "symbol": "CURE",
         "_deepnote_index_column": 107
        },
        {
         "country": "netherlands",
         "name": "Altice NV B",
         "full_name": "Altice NV B",
         "isin": "NL0011333760",
         "currency": "EUR",
         "symbol": "ATCB",
         "_deepnote_index_column": 108
        },
        {
         "country": "netherlands",
         "name": "Sif Holding NV",
         "full_name": "Sif Holding NV",
         "isin": "NL0011660485",
         "currency": "EUR",
         "symbol": "SIFG",
         "_deepnote_index_column": 109
        },
        {
         "country": "netherlands",
         "name": "Signify",
         "full_name": "Signify NV",
         "isin": "NL0011821392",
         "currency": "EUR",
         "symbol": "LIGHT",
         "_deepnote_index_column": 110
        },
        {
         "country": "netherlands",
         "name": "ForFarmers",
         "full_name": "ForFarmers NV",
         "isin": "NL0011832811",
         "currency": "EUR",
         "symbol": "FFARM",
         "_deepnote_index_column": 111
        },
        {
         "country": "netherlands",
         "name": "ASR Nederland",
         "full_name": "ASR Nederland NV",
         "isin": "NL0011872643",
         "currency": "EUR",
         "symbol": "ASRNL",
         "_deepnote_index_column": 112
        },
        {
         "country": "netherlands",
         "name": "Basic Fit",
         "full_name": "Basic Fit NV",
         "isin": "NL0011872650",
         "currency": "EUR",
         "symbol": "BFIT",
         "_deepnote_index_column": 113
        },
        {
         "country": "netherlands",
         "name": "Envipco",
         "full_name": "Envipco Holding NV",
         "isin": "NL0009901610",
         "currency": "EUR",
         "symbol": "ENVI",
         "_deepnote_index_column": 114
        },
        {
         "country": "netherlands",
         "name": "Robeco Global Stars",
         "full_name": "Robeco Global Stars Equities Fund NV",
         "isin": "NL0000289783",
         "currency": "EUR",
         "symbol": "RBEN",
         "_deepnote_index_column": 115
        },
        {
         "country": "netherlands",
         "name": "Rolinco",
         "full_name": "Rolinco NV",
         "isin": "NL0000289817",
         "currency": "EUR",
         "symbol": "RLIN",
         "_deepnote_index_column": 116
        },
        {
         "country": "netherlands",
         "name": "Unilever NV",
         "full_name": "Unilever NV",
         "isin": "NL0000388619",
         "currency": "EUR",
         "symbol": "UNA",
         "_deepnote_index_column": 117
        },
        {
         "country": "netherlands",
         "name": "Takeaway Com",
         "full_name": "Takeaway Com Holding BV",
         "isin": "NL0012015705",
         "currency": "EUR",
         "symbol": "TKWY",
         "_deepnote_index_column": 118
        },
        {
         "country": "netherlands",
         "name": "Avantium",
         "full_name": "Avantium Holding BV",
         "isin": "NL0012047823",
         "currency": "EUR",
         "symbol": "AVTX",
         "_deepnote_index_column": 119
        },
        {
         "country": "netherlands",
         "name": "VEON",
         "full_name": "VEON Ltd",
         "isin": "BMG9349W1038",
         "currency": "EUR",
         "symbol": "VON",
         "_deepnote_index_column": 120
        },
        {
         "country": "netherlands",
         "name": "Koninklijke Volker Wessels Stevin",
         "full_name": "Koninklijke Volker Wessels Stevin NV",
         "isin": "NL0012294466",
         "currency": "EUR",
         "symbol": "KVW",
         "_deepnote_index_column": 121
        },
        {
         "country": "netherlands",
         "name": "NEPI Rockcastle",
         "full_name": "NEPI Rockcastle PLC",
         "isin": "IM00BDD7WV31",
         "currency": "EUR",
         "symbol": "NRP",
         "_deepnote_index_column": 122
        },
        {
         "country": "netherlands",
         "name": "Reinet Invest",
         "full_name": "Reinet Investments SCA MiFID Eligible Security",
         "isin": "LU0383812293",
         "currency": "EUR",
         "symbol": "REINA",
         "_deepnote_index_column": 123
        },
        {
         "country": "netherlands",
         "name": "Value8 Pref",
         "full_name": "Value8 NV Pref",
         "isin": "NL0009875483",
         "currency": "EUR",
         "symbol": "PREVA_p",
         "_deepnote_index_column": 124
        },
        {
         "country": "netherlands",
         "name": "Dutch Star Companies ONE NV",
         "full_name": "Dutch Star Companies ONE NV",
         "isin": "NL0012747059",
         "currency": "EUR",
         "symbol": "DSC1",
         "_deepnote_index_column": 125
        },
        {
         "country": "netherlands",
         "name": "Alfen Beheer",
         "full_name": "Alfen Beheer BV",
         "isin": "NL0012817175",
         "currency": "EUR",
         "symbol": "ALFEN",
         "_deepnote_index_column": 126
        },
        {
         "country": "netherlands",
         "name": "B&S Group",
         "full_name": "B&S Group SA",
         "isin": "LU1789205884",
         "currency": "EUR",
         "symbol": "BSGR",
         "_deepnote_index_column": 127
        },
        {
         "country": "netherlands",
         "name": "NIBC Holding",
         "full_name": "NIBC Holding NV",
         "isin": "NL0012756316",
         "currency": "EUR",
         "symbol": "NIBC",
         "_deepnote_index_column": 128
        },
        {
         "country": "netherlands",
         "name": "Adyen",
         "full_name": "Adyen NV",
         "isin": "NL0012969182",
         "currency": "EUR",
         "symbol": "ADYEN",
         "_deepnote_index_column": 129
        },
        {
         "country": "netherlands",
         "name": "Fastned BV",
         "full_name": "Fastned BV",
         "isin": "NL0013654809",
         "currency": "EUR",
         "symbol": "FASTN",
         "_deepnote_index_column": 130
        },
        {
         "country": "netherlands",
         "name": "Marel hf",
         "full_name": "Marel hf",
         "isin": "IS0000000388",
         "currency": "EUR",
         "symbol": "MAREL",
         "_deepnote_index_column": 131
        },
        {
         "country": "netherlands",
         "name": "Prosus",
         "full_name": "Prosus",
         "isin": "NL0013654783",
         "currency": "EUR",
         "symbol": "PRX",
         "_deepnote_index_column": 132
        },
        {
         "country": "netherlands",
         "name": "Hoffmann Green",
         "full_name": "Hoffmann Green Cement Technologies",
         "isin": "FR0013451044",
         "currency": "EUR",
         "symbol": "ALHGR",
         "_deepnote_index_column": 133
        },
        {
         "country": "netherlands",
         "name": "Cm",
         "full_name": "Cm Com",
         "isin": "NL0013746431",
         "currency": "EUR",
         "symbol": "CMCOM",
         "_deepnote_index_column": 134
        }
       ],
       "rows_bottom": null
      },
      "text/plain": "         country                 name                           full_name  \\\n0    netherlands            ING Groep                        ING Groep NV   \n1    netherlands  Royal Dutch Shell A       Royal Dutch Shell PLC Class A   \n2    netherlands             Heineken                            Heineken   \n3    netherlands                Aegon                            Aegon NV   \n4    netherlands              Philips              Koninklijke Philips NV   \n..           ...                  ...                                 ...   \n130  netherlands           Fastned BV                          Fastned BV   \n131  netherlands             Marel hf                            Marel hf   \n132  netherlands               Prosus                              Prosus   \n133  netherlands       Hoffmann Green  Hoffmann Green Cement Technologies   \n134  netherlands                   Cm                              Cm Com   \n\n             isin currency symbol  \n0    NL0011821202      EUR   INGA  \n1    GB00B03MLX29      EUR   RDSa  \n2    NL0000009165      EUR   HEIN  \n3    NL0000303709      EUR   AEGN  \n4    NL0000009538      EUR    PHG  \n..            ...      ...    ...  \n130  NL0013654809      EUR  FASTN  \n131  IS0000000388      EUR  MAREL  \n132  NL0013654783      EUR    PRX  \n133  FR0013451044      EUR  ALHGR  \n134  NL0013746431      EUR  CMCOM  \n\n[135 rows x 6 columns]",
      "text/html": "<div>\n<style scoped>\n    .dataframe tbody tr th:only-of-type {\n        vertical-align: middle;\n    }\n\n    .dataframe tbody tr th {\n        vertical-align: top;\n    }\n\n    .dataframe thead th {\n        text-align: right;\n    }\n</style>\n<table border=\"1\" class=\"dataframe\">\n  <thead>\n    <tr style=\"text-align: right;\">\n      <th></th>\n      <th>country</th>\n      <th>name</th>\n      <th>full_name</th>\n      <th>isin</th>\n      <th>currency</th>\n      <th>symbol</th>\n    </tr>\n  </thead>\n  <tbody>\n    <tr>\n      <th>0</th>\n      <td>netherlands</td>\n      <td>ING Groep</td>\n      <td>ING Groep NV</td>\n      <td>NL0011821202</td>\n      <td>EUR</td>\n      <td>INGA</td>\n    </tr>\n    <tr>\n      <th>1</th>\n      <td>netherlands</td>\n      <td>Royal Dutch Shell A</td>\n      <td>Royal Dutch Shell PLC Class A</td>\n      <td>GB00B03MLX29</td>\n      <td>EUR</td>\n      <td>RDSa</td>\n    </tr>\n    <tr>\n      <th>2</th>\n      <td>netherlands</td>\n      <td>Heineken</td>\n      <td>Heineken</td>\n      <td>NL0000009165</td>\n      <td>EUR</td>\n      <td>HEIN</td>\n    </tr>\n    <tr>\n      <th>3</th>\n      <td>netherlands</td>\n      <td>Aegon</td>\n      <td>Aegon NV</td>\n      <td>NL0000303709</td>\n      <td>EUR</td>\n      <td>AEGN</td>\n    </tr>\n    <tr>\n      <th>4</th>\n      <td>netherlands</td>\n      <td>Philips</td>\n      <td>Koninklijke Philips NV</td>\n      <td>NL0000009538</td>\n      <td>EUR</td>\n      <td>PHG</td>\n    </tr>\n    <tr>\n      <th>...</th>\n      <td>...</td>\n      <td>...</td>\n      <td>...</td>\n      <td>...</td>\n      <td>...</td>\n      <td>...</td>\n    </tr>\n    <tr>\n      <th>130</th>\n      <td>netherlands</td>\n      <td>Fastned BV</td>\n      <td>Fastned BV</td>\n      <td>NL0013654809</td>\n      <td>EUR</td>\n      <td>FASTN</td>\n    </tr>\n    <tr>\n      <th>131</th>\n      <td>netherlands</td>\n      <td>Marel hf</td>\n      <td>Marel hf</td>\n      <td>IS0000000388</td>\n      <td>EUR</td>\n      <td>MAREL</td>\n    </tr>\n    <tr>\n      <th>132</th>\n      <td>netherlands</td>\n      <td>Prosus</td>\n      <td>Prosus</td>\n      <td>NL0013654783</td>\n      <td>EUR</td>\n      <td>PRX</td>\n    </tr>\n    <tr>\n      <th>133</th>\n      <td>netherlands</td>\n      <td>Hoffmann Green</td>\n      <td>Hoffmann Green Cement Technologies</td>\n      <td>FR0013451044</td>\n      <td>EUR</td>\n      <td>ALHGR</td>\n    </tr>\n    <tr>\n      <th>134</th>\n      <td>netherlands</td>\n      <td>Cm</td>\n      <td>Cm Com</td>\n      <td>NL0013746431</td>\n      <td>EUR</td>\n      <td>CMCOM</td>\n    </tr>\n  </tbody>\n</table>\n<p>135 rows × 6 columns</p>\n</div>"
     },
     "metadata": {}
    }
   ]
  },
  {
   "cell_type": "code",
   "metadata": {
    "tags": [],
    "cell_id": "00003-178ceedf-d1aa-47ed-abf8-e4f1e6a64675",
    "deepnote_to_be_reexecuted": false,
    "source_hash": "4ce7fcba",
    "execution_start": 1620144778960,
    "execution_millis": 8128,
    "deepnote_cell_type": "code"
   },
   "source": "Shell=investpy.get_stock_historical_data(stock='RDSa',country='Netherlands',\n                                        from_date='01/04/2011',\n                                        to_date='01/04/2021')\nPhilips=investpy.get_stock_historical_data(stock='PHG',country='Netherlands',\n                                        from_date='01/04/2011',\n                                        to_date='01/04/2021')\nHeineken=investpy.get_stock_historical_data(stock='HEIN',country='Netherlands',\n                                        from_date='01/04/2011',\n                                        to_date='01/04/2021')\nHoffmann=investpy.get_stock_historical_data(stock='ALHGR',country='Netherlands',\n                                        from_date='01/04/2011',\n                                        to_date='01/04/2021')   \nNN=investpy.get_stock_historical_data(stock='NN',country='Netherlands',\n                                        from_date='01/04/2011',\n                                        to_date='01/04/2021') \nABN=investpy.get_stock_historical_data(stock='ABNd',country='Netherlands',\n                                        from_date='01/04/2011',\n                                        to_date='01/04/2021') \nPostNL=investpy.get_stock_historical_data(stock='PTNL',country='Netherlands',\n                                        from_date='01/04/2011',\n                                        to_date='01/04/2021') \nDJ = investpy.get_index_historical_data(index='DJ Life Insurance',\n                                        country='United States',\n                                        from_date='01/04/2011',\n                                        to_date='01/04/2021')\nAEX = investpy.get_index_historical_data(index='AEX',\n                                        country='Netherlands',\n                                        from_date='01/04/2011',\n                                        to_date='01/04/2021')\nSP500=investpy.get_index_historical_data(index='s&p 500',\n                                    country='United States',\n                                    from_date='01/04/2011',\n                                    to_date='01/04/2021')\n\n",
   "execution_count": null,
   "outputs": []
  },
  {
   "cell_type": "code",
   "metadata": {
    "tags": [],
    "cell_id": "00005-e403f669-1df0-47d8-bb02-41907444d676",
    "deepnote_to_be_reexecuted": false,
    "source_hash": "6495c064",
    "execution_start": 1620144901120,
    "execution_millis": 14938,
    "deepnote_cell_type": "code"
   },
   "source": "# Heineken=investpy.get_stock_historical_data(stock='HEIN',country='Netherlands',\n#                                         from_date='01/04/2011',\n#                                         to_date='01/04/2021')\n# Hoffmann=investpy.get_stock_historical_data(stock='ALHGR',country='Netherlands',\n#                                         from_date='01/04/2011',\n#                                         to_date='01/04/2021')   \nNN=investpy.get_stock_historical_data(stock='NN',country='Netherlands',\n                                        from_date='01/04/2011',\n                                        to_date='01/04/2021') \nABN=investpy.get_stock_historical_data(stock='ABNd',country='Netherlands',\n                                        from_date='01/04/2011',\n                                        to_date='01/04/2021') \nPostNL=investpy.get_stock_historical_data(stock='PTNL',country='Netherlands',\n                                        from_date='01/04/2011',\n                                        to_date='01/04/2021') \n",
   "execution_count": null,
   "outputs": []
  },
  {
   "cell_type": "code",
   "metadata": {
    "tags": [],
    "cell_id": "00007-667e5cb1-f644-4695-8775-d819cce9cd5d",
    "deepnote_to_be_reexecuted": false,
    "source_hash": "c52cea48",
    "execution_start": 1620145661747,
    "execution_millis": 14,
    "deepnote_cell_type": "code"
   },
   "source": "data=pd.DataFrame({'Shell':Shell.Close, 'Philips':Philips.Close, 'Heineken': Heineken.Close,\n                    'TomTom':TomTom.Close,'Aegon':Aegon.Close,'ING':ING.Close,'PostNL':PostNL.Close,\n                    'SP500': SP500.Close,'DJ':DJ.Close , 'AEX':AEX.Close})\n#data=data.dropna() # synchronize",
   "execution_count": null,
   "outputs": []
  },
  {
   "cell_type": "code",
   "metadata": {
    "tags": [],
    "cell_id": "00008-97d7f002-98c8-424b-a59e-ea3b88b57256",
    "deepnote_to_be_reexecuted": false,
    "source_hash": "e6928a8f",
    "execution_start": 1620145664208,
    "execution_millis": 132,
    "deepnote_cell_type": "code"
   },
   "source": "data",
   "execution_count": null,
   "outputs": [
    {
     "output_type": "execute_result",
     "execution_count": 68,
     "data": {
      "application/vnd.deepnote.dataframe.v2+json": {
       "row_count": 2582,
       "column_count": 10,
       "columns": [
        {
         "name": "Shell",
         "dtype": "float64",
         "stats": {
          "unique_count": 1065,
          "nan_count": 24,
          "min": "10.07",
          "max": "31.35",
          "histogram": [
           {
            "bin_start": 10.07,
            "bin_end": 12.198,
            "count": 49
           },
           {
            "bin_start": 12.198,
            "bin_end": 14.326,
            "count": 53
           },
           {
            "bin_start": 14.326,
            "bin_end": 16.454,
            "count": 119
           },
           {
            "bin_start": 16.454,
            "bin_end": 18.582,
            "count": 65
           },
           {
            "bin_start": 18.582,
            "bin_end": 20.71,
            "count": 40
           },
           {
            "bin_start": 20.71,
            "bin_end": 22.838,
            "count": 182
           },
           {
            "bin_start": 22.838,
            "bin_end": 24.966,
            "count": 525
           },
           {
            "bin_start": 24.966,
            "bin_end": 27.094,
            "count": 806
           },
           {
            "bin_start": 27.094,
            "bin_end": 29.222,
            "count": 564
           },
           {
            "bin_start": 29.222,
            "bin_end": 31.35,
            "count": 155
           }
          ]
         }
        },
        {
         "name": "Philips",
         "dtype": "float64",
         "stats": {
          "unique_count": 1547,
          "nan_count": 24,
          "min": "12.22",
          "max": "49.16",
          "histogram": [
           {
            "bin_start": 12.22,
            "bin_end": 15.914000000000001,
            "count": 229
           },
           {
            "bin_start": 15.914000000000001,
            "bin_end": 19.608,
            "count": 148
           },
           {
            "bin_start": 19.608,
            "bin_end": 23.302,
            "count": 437
           },
           {
            "bin_start": 23.302,
            "bin_end": 26.996000000000002,
            "count": 586
           },
           {
            "bin_start": 26.996000000000002,
            "bin_end": 30.689999999999998,
            "count": 170
           },
           {
            "bin_start": 30.689999999999998,
            "bin_end": 34.384,
            "count": 289
           },
           {
            "bin_start": 34.384,
            "bin_end": 38.078,
            "count": 250
           },
           {
            "bin_start": 38.078,
            "bin_end": 41.772,
            "count": 200
           },
           {
            "bin_start": 41.772,
            "bin_end": 45.466,
            "count": 198
           },
           {
            "bin_start": 45.466,
            "bin_end": 49.16,
            "count": 51
           }
          ]
         }
        },
        {
         "name": "Heineken",
         "dtype": "float64",
         "stats": {
          "unique_count": 1947,
          "nan_count": 24,
          "min": "32.05",
          "max": "104.95",
          "histogram": [
           {
            "bin_start": 32.05,
            "bin_end": 39.339999999999996,
            "count": 171
           },
           {
            "bin_start": 39.339999999999996,
            "bin_end": 46.629999999999995,
            "count": 230
           },
           {
            "bin_start": 46.629999999999995,
            "bin_end": 53.92,
            "count": 375
           },
           {
            "bin_start": 53.92,
            "bin_end": 61.21,
            "count": 180
           },
           {
            "bin_start": 61.21,
            "bin_end": 68.5,
            "count": 64
           },
           {
            "bin_start": 68.5,
            "bin_end": 75.79,
            "count": 278
           },
           {
            "bin_start": 75.79,
            "bin_end": 83.08000000000001,
            "count": 471
           },
           {
            "bin_start": 83.08000000000001,
            "bin_end": 90.37,
            "count": 495
           },
           {
            "bin_start": 90.37,
            "bin_end": 97.66000000000001,
            "count": 214
           },
           {
            "bin_start": 97.66000000000001,
            "bin_end": 104.95,
            "count": 80
           }
          ]
         }
        },
        {
         "name": "TomTom",
         "dtype": "float64",
         "stats": {
          "unique_count": 768,
          "nan_count": 24,
          "min": "2.49",
          "max": "12.29",
          "histogram": [
           {
            "bin_start": 2.49,
            "bin_end": 3.47,
            "count": 254
           },
           {
            "bin_start": 3.47,
            "bin_end": 4.45,
            "count": 285
           },
           {
            "bin_start": 4.45,
            "bin_end": 5.43,
            "count": 193
           },
           {
            "bin_start": 5.43,
            "bin_end": 6.41,
            "count": 292
           },
           {
            "bin_start": 6.41,
            "bin_end": 7.39,
            "count": 236
           },
           {
            "bin_start": 7.39,
            "bin_end": 8.37,
            "count": 515
           },
           {
            "bin_start": 8.37,
            "bin_end": 9.35,
            "count": 388
           },
           {
            "bin_start": 9.35,
            "bin_end": 10.329999999999998,
            "count": 297
           },
           {
            "bin_start": 10.329999999999998,
            "bin_end": 11.309999999999999,
            "count": 65
           },
           {
            "bin_start": 11.309999999999999,
            "bin_end": 12.29,
            "count": 33
           }
          ]
         }
        },
        {
         "name": "Aegon",
         "dtype": "float64",
         "stats": {
          "unique_count": 1889,
          "nan_count": 24,
          "min": "1.67",
          "max": "7.66",
          "histogram": [
           {
            "bin_start": 1.67,
            "bin_end": 2.269,
            "count": 45
           },
           {
            "bin_start": 2.269,
            "bin_end": 2.868,
            "count": 137
           },
           {
            "bin_start": 2.868,
            "bin_end": 3.4669999999999996,
            "count": 227
           },
           {
            "bin_start": 3.4669999999999996,
            "bin_end": 4.066,
            "count": 332
           },
           {
            "bin_start": 4.066,
            "bin_end": 4.665,
            "count": 445
           },
           {
            "bin_start": 4.665,
            "bin_end": 5.263999999999999,
            "count": 511
           },
           {
            "bin_start": 5.263999999999999,
            "bin_end": 5.8629999999999995,
            "count": 384
           },
           {
            "bin_start": 5.8629999999999995,
            "bin_end": 6.462,
            "count": 228
           },
           {
            "bin_start": 6.462,
            "bin_end": 7.061,
            "count": 188
           },
           {
            "bin_start": 7.061,
            "bin_end": 7.66,
            "count": 61
           }
          ]
         }
        },
        {
         "name": "ING",
         "dtype": "float64",
         "stats": {
          "unique_count": 975,
          "nan_count": 24,
          "min": "4.3",
          "max": "16.67",
          "histogram": [
           {
            "bin_start": 4.3,
            "bin_end": 5.537,
            "count": 176
           },
           {
            "bin_start": 5.537,
            "bin_end": 6.774,
            "count": 316
           },
           {
            "bin_start": 6.774,
            "bin_end": 8.011,
            "count": 266
           },
           {
            "bin_start": 8.011,
            "bin_end": 9.248000000000001,
            "count": 202
           },
           {
            "bin_start": 9.248000000000001,
            "bin_end": 10.485,
            "count": 449
           },
           {
            "bin_start": 10.485,
            "bin_end": 11.722000000000001,
            "count": 432
           },
           {
            "bin_start": 11.722000000000001,
            "bin_end": 12.959,
            "count": 156
           },
           {
            "bin_start": 12.959,
            "bin_end": 14.196000000000002,
            "count": 251
           },
           {
            "bin_start": 14.196000000000002,
            "bin_end": 15.433,
            "count": 194
           },
           {
            "bin_start": 15.433,
            "bin_end": 16.67,
            "count": 116
           }
          ]
         }
        },
        {
         "name": "PostNL",
         "dtype": "float64",
         "stats": {
          "unique_count": 1745,
          "nan_count": 24,
          "min": "0.99",
          "max": "8.007",
          "histogram": [
           {
            "bin_start": 0.99,
            "bin_end": 1.6917,
            "count": 173
           },
           {
            "bin_start": 1.6917,
            "bin_end": 2.3933999999999997,
            "count": 404
           },
           {
            "bin_start": 2.3933999999999997,
            "bin_end": 3.0951000000000004,
            "count": 559
           },
           {
            "bin_start": 3.0951000000000004,
            "bin_end": 3.7968,
            "count": 713
           },
           {
            "bin_start": 3.7968,
            "bin_end": 4.4985,
            "count": 578
           },
           {
            "bin_start": 4.4985,
            "bin_end": 5.200200000000001,
            "count": 71
           },
           {
            "bin_start": 5.200200000000001,
            "bin_end": 5.9019,
            "count": 13
           },
           {
            "bin_start": 5.9019,
            "bin_end": 6.6036,
            "count": 10
           },
           {
            "bin_start": 6.6036,
            "bin_end": 7.3053,
            "count": 32
           },
           {
            "bin_start": 7.3053,
            "bin_end": 8.007,
            "count": 5
           }
          ]
         }
        },
        {
         "name": "SP500",
         "dtype": "float64",
         "stats": {
          "unique_count": 2504,
          "nan_count": 65,
          "min": "1099.23",
          "max": "4019.87",
          "histogram": [
           {
            "bin_start": 1099.23,
            "bin_end": 1391.2939999999999,
            "count": 325
           },
           {
            "bin_start": 1391.2939999999999,
            "bin_end": 1683.358,
            "count": 273
           },
           {
            "bin_start": 1683.358,
            "bin_end": 1975.422,
            "count": 325
           },
           {
            "bin_start": 1975.422,
            "bin_end": 2267.486,
            "count": 526
           },
           {
            "bin_start": 2267.486,
            "bin_end": 2559.5499999999997,
            "count": 227
           },
           {
            "bin_start": 2559.5499999999997,
            "bin_end": 2851.6139999999996,
            "count": 347
           },
           {
            "bin_start": 2851.6139999999996,
            "bin_end": 3143.678,
            "count": 251
           },
           {
            "bin_start": 3143.678,
            "bin_end": 3435.7419999999997,
            "count": 123
           },
           {
            "bin_start": 3435.7419999999997,
            "bin_end": 3727.8059999999996,
            "count": 58
           },
           {
            "bin_start": 3727.8059999999996,
            "bin_end": 4019.87,
            "count": 62
           }
          ]
         }
        },
        {
         "name": "DJ",
         "dtype": "float64",
         "stats": {
          "unique_count": 2443,
          "nan_count": 64,
          "min": "310.0",
          "max": "927.83",
          "histogram": [
           {
            "bin_start": 310,
            "bin_end": 371.783,
            "count": 107
           },
           {
            "bin_start": 371.783,
            "bin_end": 433.56600000000003,
            "count": 213
           },
           {
            "bin_start": 433.56600000000003,
            "bin_end": 495.349,
            "count": 217
           },
           {
            "bin_start": 495.349,
            "bin_end": 557.1320000000001,
            "count": 111
           },
           {
            "bin_start": 557.1320000000001,
            "bin_end": 618.915,
            "count": 298
           },
           {
            "bin_start": 618.915,
            "bin_end": 680.698,
            "count": 540
           },
           {
            "bin_start": 680.698,
            "bin_end": 742.481,
            "count": 224
           },
           {
            "bin_start": 742.481,
            "bin_end": 804.264,
            "count": 502
           },
           {
            "bin_start": 804.264,
            "bin_end": 866.047,
            "count": 252
           },
           {
            "bin_start": 866.047,
            "bin_end": 927.83,
            "count": 54
           }
          ]
         }
        },
        {
         "name": "AEX",
         "dtype": "float64",
         "stats": {
          "unique_count": 2452,
          "nan_count": 24,
          "min": "263.44",
          "max": "708.43",
          "histogram": [
           {
            "bin_start": 263.44,
            "bin_end": 307.93899999999996,
            "count": 150
           },
           {
            "bin_start": 307.93899999999996,
            "bin_end": 352.438,
            "count": 353
           },
           {
            "bin_start": 352.438,
            "bin_end": 396.937,
            "count": 258
           },
           {
            "bin_start": 396.937,
            "bin_end": 441.436,
            "count": 365
           },
           {
            "bin_start": 441.436,
            "bin_end": 485.93499999999995,
            "count": 306
           },
           {
            "bin_start": 485.93499999999995,
            "bin_end": 530.434,
            "count": 373
           },
           {
            "bin_start": 530.434,
            "bin_end": 574.933,
            "count": 534
           },
           {
            "bin_start": 574.933,
            "bin_end": 619.432,
            "count": 137
           },
           {
            "bin_start": 619.432,
            "bin_end": 663.931,
            "count": 51
           },
           {
            "bin_start": 663.931,
            "bin_end": 708.43,
            "count": 31
           }
          ]
         }
        },
        {
         "name": "_deepnote_index_column",
         "dtype": "datetime64[ns]"
        }
       ],
       "rows_top": [
        {
         "Shell": "25.91",
         "Philips": "22.84",
         "Heineken": "38.81",
         "TomTom": "6.22",
         "Aegon": "5.49",
         "ING": "9.18",
         "PostNL": "7.812",
         "SP500": "1332.41",
         "DJ": "491.63",
         "AEX": "369.45",
         "_deepnote_index_column": "2011-04-01T00:00:00.000000"
        },
        {
         "Shell": "25.95",
         "Philips": "22.32",
         "Heineken": "39.02",
         "TomTom": "6.24",
         "Aegon": "5.478",
         "ING": "9.08",
         "PostNL": "7.876",
         "SP500": "1332.87",
         "DJ": "495.76",
         "AEX": "369.01",
         "_deepnote_index_column": "2011-04-04T00:00:00.000000"
        },
        {
         "Shell": "25.91",
         "Philips": "22.0",
         "Heineken": "39.45",
         "TomTom": "6.16",
         "Aegon": "5.497",
         "ING": "9.0",
         "PostNL": "7.939",
         "SP500": "1332.63",
         "DJ": "492.43",
         "AEX": "368.96",
         "_deepnote_index_column": "2011-04-05T00:00:00.000000"
        },
        {
         "Shell": "25.93",
         "Philips": "21.88",
         "Heineken": "39.1",
         "TomTom": "6.17",
         "Aegon": "5.562",
         "ING": "9.15",
         "PostNL": "8.007",
         "SP500": "1335.54",
         "DJ": "498.4",
         "AEX": "369.64",
         "_deepnote_index_column": "2011-04-06T00:00:00.000000"
        },
        {
         "Shell": "25.8",
         "Philips": "21.92",
         "Heineken": "39.15",
         "TomTom": "6.27",
         "Aegon": "5.53",
         "ING": "9.11",
         "PostNL": "7.859",
         "SP500": "1333.51",
         "DJ": "493.71",
         "AEX": "367.39",
         "_deepnote_index_column": "2011-04-07T00:00:00.000000"
        },
        {
         "Shell": "26.06",
         "Philips": "21.93",
         "Heineken": "39.66",
         "TomTom": "6.22",
         "Aegon": "5.576",
         "ING": "9.22",
         "PostNL": "6.868",
         "SP500": "1328.17",
         "DJ": "487.24",
         "AEX": "366.94",
         "_deepnote_index_column": "2011-04-08T00:00:00.000000"
        },
        {
         "Shell": "25.98",
         "Philips": "21.79",
         "Heineken": "39.53",
         "TomTom": "6.21",
         "Aegon": "5.549",
         "ING": "9.19",
         "PostNL": "7.132",
         "SP500": "1324.46",
         "DJ": "488.32",
         "AEX": "366.47",
         "_deepnote_index_column": "2011-04-11T00:00:00.000000"
        },
        {
         "Shell": "25.09",
         "Philips": "21.31",
         "Heineken": "39.09",
         "TomTom": "6.11",
         "Aegon": "5.451",
         "ING": "9.07",
         "PostNL": "7.08",
         "SP500": "1314.16",
         "DJ": "484.45",
         "AEX": "360.77",
         "_deepnote_index_column": "2011-04-12T00:00:00.000000"
        },
        {
         "Shell": "25.28",
         "Philips": "21.43",
         "Heineken": "39.85",
         "TomTom": "6.15",
         "Aegon": "5.438",
         "ING": "9.16",
         "PostNL": "7.044",
         "SP500": "1314.41",
         "DJ": "478.42",
         "AEX": "362.76",
         "_deepnote_index_column": "2011-04-13T00:00:00.000000"
        },
        {
         "Shell": "25.18",
         "Philips": "21.36",
         "Heineken": "40.11",
         "TomTom": "6.03",
         "Aegon": "5.338",
         "ING": "8.81",
         "PostNL": "7.014",
         "SP500": "1314.52",
         "DJ": "475.52",
         "AEX": "359.48",
         "_deepnote_index_column": "2011-04-14T00:00:00.000000"
        },
        {
         "Shell": "25.27",
         "Philips": "21.09",
         "Heineken": "40.2",
         "TomTom": "5.99",
         "Aegon": "5.295",
         "ING": "8.7",
         "PostNL": "6.99",
         "SP500": "1319.68",
         "DJ": "476.49",
         "AEX": "359.0",
         "_deepnote_index_column": "2011-04-15T00:00:00.000000"
        },
        {
         "Shell": "24.91",
         "Philips": "20.9",
         "Heineken": "39.73",
         "TomTom": "5.85",
         "Aegon": "5.037",
         "ING": "8.37",
         "PostNL": "6.93",
         "SP500": "1305.14",
         "DJ": "469.15",
         "AEX": "352.68",
         "_deepnote_index_column": "2011-04-18T00:00:00.000000"
        },
        {
         "Shell": "24.91",
         "Philips": "20.33",
         "Heineken": "40.21",
         "TomTom": "5.93",
         "Aegon": "5.054",
         "ING": "8.39",
         "PostNL": "6.973",
         "SP500": "1312.62",
         "DJ": "469.53",
         "AEX": "353.17",
         "_deepnote_index_column": "2011-04-19T00:00:00.000000"
        },
        {
         "Shell": "25.55",
         "Philips": "20.52",
         "Heineken": "40.25",
         "TomTom": "6.25",
         "Aegon": "5.169",
         "ING": "8.72",
         "PostNL": "7.083",
         "SP500": "1330.36",
         "DJ": "477.79",
         "AEX": "359.87",
         "_deepnote_index_column": "2011-04-20T00:00:00.000000"
        },
        {
         "Shell": "25.73",
         "Philips": "20.09",
         "Heineken": "40.51",
         "TomTom": "6.28",
         "Aegon": "5.21",
         "ING": "8.73",
         "PostNL": "7.016",
         "SP500": "1337.38",
         "DJ": "482.93",
         "AEX": "359.01",
         "_deepnote_index_column": "2011-04-21T00:00:00.000000"
        },
        {
         "Shell": "nan",
         "Philips": "nan",
         "Heineken": "nan",
         "TomTom": "nan",
         "Aegon": "nan",
         "ING": "nan",
         "PostNL": "nan",
         "SP500": "1335.25",
         "DJ": "480.76",
         "AEX": "nan",
         "_deepnote_index_column": "2011-04-25T00:00:00.000000"
        },
        {
         "Shell": "25.77",
         "Philips": "20.28",
         "Heineken": "40.81",
         "TomTom": "6.31",
         "Aegon": "5.382",
         "ING": "8.79",
         "PostNL": "7.11",
         "SP500": "1347.24",
         "DJ": "485.42",
         "AEX": "359.55",
         "_deepnote_index_column": "2011-04-26T00:00:00.000000"
        },
        {
         "Shell": "26.05",
         "Philips": "20.22",
         "Heineken": "40.05",
         "TomTom": "6.11",
         "Aegon": "5.398",
         "ING": "8.78",
         "PostNL": "7.113",
         "SP500": "1355.66",
         "DJ": "489.01",
         "AEX": "359.71",
         "_deepnote_index_column": "2011-04-27T00:00:00.000000"
        },
        {
         "Shell": "26.12",
         "Philips": "20.09",
         "Heineken": "39.95",
         "TomTom": "6.06",
         "Aegon": "5.367",
         "ING": "8.84",
         "PostNL": "7.11",
         "SP500": "1360.48",
         "DJ": "502.74",
         "AEX": "359.49",
         "_deepnote_index_column": "2011-04-28T00:00:00.000000"
        },
        {
         "Shell": "26.08",
         "Philips": "20.02",
         "Heineken": "40.41",
         "TomTom": "6.11",
         "Aegon": "5.361",
         "ING": "8.9",
         "PostNL": "7.134",
         "SP500": "1363.61",
         "DJ": "502.48",
         "AEX": "359.94",
         "_deepnote_index_column": "2011-04-29T00:00:00.000000"
        },
        {
         "Shell": "26.09",
         "Philips": "20.18",
         "Heineken": "40.7",
         "TomTom": "6.11",
         "Aegon": "5.39",
         "ING": "9.0",
         "PostNL": "7.037",
         "SP500": "1361.22",
         "DJ": "501.74",
         "AEX": "361.56",
         "_deepnote_index_column": "2011-05-02T00:00:00.000000"
        },
        {
         "Shell": "25.84",
         "Philips": "20.55",
         "Heineken": "40.81",
         "TomTom": "6.06",
         "Aegon": "5.369",
         "ING": "8.95",
         "PostNL": "7.007",
         "SP500": "1356.62",
         "DJ": "497.76",
         "AEX": "360.42",
         "_deepnote_index_column": "2011-05-03T00:00:00.000000"
        },
        {
         "Shell": "25.32",
         "Philips": "20.42",
         "Heineken": "40.89",
         "TomTom": "6.01",
         "Aegon": "5.258",
         "ING": "8.78",
         "PostNL": "6.866",
         "SP500": "1347.32",
         "DJ": "493.36",
         "AEX": "355.91",
         "_deepnote_index_column": "2011-05-04T00:00:00.000000"
        },
        {
         "Shell": "25.15",
         "Philips": "20.18",
         "Heineken": "40.9",
         "TomTom": "5.98",
         "Aegon": "5.238",
         "ING": "8.93",
         "PostNL": "6.829",
         "SP500": "1335.1",
         "DJ": "486.59",
         "AEX": "354.82",
         "_deepnote_index_column": "2011-05-05T00:00:00.000000"
        },
        {
         "Shell": "25.18",
         "Philips": "20.52",
         "Heineken": "41.23",
         "TomTom": "6.07",
         "Aegon": "5.329",
         "ING": "8.98",
         "PostNL": "6.977",
         "SP500": "1340.2",
         "DJ": "488.32",
         "AEX": "359.12",
         "_deepnote_index_column": "2011-05-06T00:00:00.000000"
        },
        {
         "Shell": "25.11",
         "Philips": "20.3",
         "Heineken": "41.05",
         "TomTom": "6.04",
         "Aegon": "5.227",
         "ING": "8.59",
         "PostNL": "6.947",
         "SP500": "1346.29",
         "DJ": "487.76",
         "AEX": "355.93",
         "_deepnote_index_column": "2011-05-09T00:00:00.000000"
        },
        {
         "Shell": "25.57",
         "Philips": "20.38",
         "Heineken": "41.22",
         "TomTom": "6.2",
         "Aegon": "5.282",
         "ING": "8.96",
         "PostNL": "6.947",
         "SP500": "1357.16",
         "DJ": "492.29",
         "AEX": "361.05",
         "_deepnote_index_column": "2011-05-10T00:00:00.000000"
        },
        {
         "Shell": "25.34",
         "Philips": "20.7",
         "Heineken": "41.47",
         "TomTom": "6.2",
         "Aegon": "5.376",
         "ING": "8.95",
         "PostNL": "7.005",
         "SP500": "1342.08",
         "DJ": "489.04",
         "AEX": "360.55",
         "_deepnote_index_column": "2011-05-11T00:00:00.000000"
        },
        {
         "Shell": "24.85",
         "Philips": "20.57",
         "Heineken": "41.94",
         "TomTom": "6.19",
         "Aegon": "5.071",
         "ING": "8.78",
         "PostNL": "7.048",
         "SP500": "1348.65",
         "DJ": "491.31",
         "AEX": "357.52",
         "_deepnote_index_column": "2011-05-12T00:00:00.000000"
        },
        {
         "Shell": "24.57",
         "Philips": "20.52",
         "Heineken": "42.26",
         "TomTom": "6.09",
         "Aegon": "4.968",
         "ING": "8.63",
         "PostNL": "6.995",
         "SP500": "1337.77",
         "DJ": "483.47",
         "AEX": "354.86",
         "_deepnote_index_column": "2011-05-13T00:00:00.000000"
        },
        {
         "Shell": "24.45",
         "Philips": "20.24",
         "Heineken": "42.53",
         "TomTom": "6.07",
         "Aegon": "4.89",
         "ING": "8.53",
         "PostNL": "6.992",
         "SP500": "1329.47",
         "DJ": "482.11",
         "AEX": "352.3",
         "_deepnote_index_column": "2011-05-16T00:00:00.000000"
        },
        {
         "Shell": "24.2",
         "Philips": "19.83",
         "Heineken": "42.34",
         "TomTom": "5.91",
         "Aegon": "4.837",
         "ING": "8.37",
         "PostNL": "6.889",
         "SP500": "1328.98",
         "DJ": "483.09",
         "AEX": "347.72",
         "_deepnote_index_column": "2011-05-17T00:00:00.000000"
        },
        {
         "Shell": "24.48",
         "Philips": "19.59",
         "Heineken": "42.66",
         "TomTom": "5.9",
         "Aegon": "4.901",
         "ING": "8.4",
         "PostNL": "6.887",
         "SP500": "1340.68",
         "DJ": "480.65",
         "AEX": "349.1",
         "_deepnote_index_column": "2011-05-18T00:00:00.000000"
        },
        {
         "Shell": "24.57",
         "Philips": "19.8",
         "Heineken": "43.13",
         "TomTom": "5.91",
         "Aegon": "4.875",
         "ING": "8.41",
         "PostNL": "6.956",
         "SP500": "1343.6",
         "DJ": "484.52",
         "AEX": "350.84",
         "_deepnote_index_column": "2011-05-19T00:00:00.000000"
        },
        {
         "Shell": "24.54",
         "Philips": "19.51",
         "Heineken": "42.27",
         "TomTom": "5.89",
         "Aegon": "4.828",
         "ING": "8.31",
         "PostNL": "6.922",
         "SP500": "1333.27",
         "DJ": "476.79",
         "AEX": "348.24",
         "_deepnote_index_column": "2011-05-20T00:00:00.000000"
        },
        {
         "Shell": "24.08",
         "Philips": "19.04",
         "Heineken": "41.77",
         "TomTom": "5.67",
         "Aegon": "4.668",
         "ING": "8.13",
         "PostNL": "6.909",
         "SP500": "1317.37",
         "DJ": "468.53",
         "AEX": "342.46",
         "_deepnote_index_column": "2011-05-23T00:00:00.000000"
        },
        {
         "Shell": "24.29",
         "Philips": "19.04",
         "Heineken": "41.46",
         "TomTom": "5.66",
         "Aegon": "4.676",
         "ING": "8.12",
         "PostNL": "7.074",
         "SP500": "1316.28",
         "DJ": "466.77",
         "AEX": "343.2",
         "_deepnote_index_column": "2011-05-24T00:00:00.000000"
        },
        {
         "Shell": "24.4",
         "Philips": "19.05",
         "Heineken": "41.48",
         "TomTom": "5.65",
         "Aegon": "4.705",
         "ING": "8.28",
         "PostNL": "7.123",
         "SP500": "1320.47",
         "DJ": "468.08",
         "AEX": "344.91",
         "_deepnote_index_column": "2011-05-25T00:00:00.000000"
        },
        {
         "Shell": "24.66",
         "Philips": "19.23",
         "Heineken": "41.56",
         "TomTom": "5.57",
         "Aegon": "4.659",
         "ING": "8.24",
         "PostNL": "6.598",
         "SP500": "1325.69",
         "DJ": "471.74",
         "AEX": "344.47",
         "_deepnote_index_column": "2011-05-26T00:00:00.000000"
        },
        {
         "Shell": "24.59",
         "Philips": "19.01",
         "Heineken": "41.48",
         "TomTom": "5.67",
         "Aegon": "4.864",
         "ING": "8.35",
         "PostNL": "6.509",
         "SP500": "1331.1",
         "DJ": "469.82",
         "AEX": "346.06",
         "_deepnote_index_column": "2011-05-27T00:00:00.000000"
        },
        {
         "Shell": "24.66",
         "Philips": "19.06",
         "Heineken": "41.8",
         "TomTom": "5.76",
         "Aegon": "4.802",
         "ING": "8.28",
         "PostNL": "6.59",
         "SP500": "nan",
         "DJ": "nan",
         "AEX": "346.2",
         "_deepnote_index_column": "2011-05-30T00:00:00.000000"
        },
        {
         "Shell": "24.77",
         "Philips": "19.27",
         "Heineken": "41.82",
         "TomTom": "5.74",
         "Aegon": "4.862",
         "ING": "8.38",
         "PostNL": "6.5",
         "SP500": "1345.2",
         "DJ": "472.82",
         "AEX": "349.44",
         "_deepnote_index_column": "2011-05-31T00:00:00.000000"
        },
        {
         "Shell": "24.52",
         "Philips": "19.05",
         "Heineken": "41.8",
         "TomTom": "5.69",
         "Aegon": "4.759",
         "ING": "8.19",
         "PostNL": "6.286",
         "SP500": "1314.55",
         "DJ": "456.28",
         "AEX": "345.95",
         "_deepnote_index_column": "2011-06-01T00:00:00.000000"
        },
        {
         "Shell": "24.05",
         "Philips": "18.71",
         "Heineken": "41.41",
         "TomTom": "5.59",
         "Aegon": "4.648",
         "ING": "8.12",
         "PostNL": "6.136",
         "SP500": "1312.94",
         "DJ": "459.36",
         "AEX": "340.64",
         "_deepnote_index_column": "2011-06-02T00:00:00.000000"
        },
        {
         "Shell": "23.98",
         "Philips": "18.55",
         "Heineken": "40.98",
         "TomTom": "5.54",
         "Aegon": "4.655",
         "ING": "8.19",
         "PostNL": "6.033",
         "SP500": "1300.16",
         "DJ": "452.61",
         "AEX": "340.24",
         "_deepnote_index_column": "2011-06-03T00:00:00.000000"
        },
        {
         "Shell": "23.93",
         "Philips": "18.41",
         "Heineken": "41.65",
         "TomTom": "5.62",
         "Aegon": "4.598",
         "ING": "8.08",
         "PostNL": "5.966",
         "SP500": "1286.17",
         "DJ": "444.75",
         "AEX": "339.18",
         "_deepnote_index_column": "2011-06-06T00:00:00.000000"
        },
        {
         "Shell": "23.82",
         "Philips": "18.43",
         "Heineken": "41.26",
         "TomTom": "5.55",
         "Aegon": "4.612",
         "ING": "8.14",
         "PostNL": "5.99",
         "SP500": "1284.94",
         "DJ": "444.31",
         "AEX": "338.93",
         "_deepnote_index_column": "2011-06-07T00:00:00.000000"
        },
        {
         "Shell": "23.86",
         "Philips": "18.1",
         "Heineken": "40.65",
         "TomTom": "5.48",
         "Aegon": "4.511",
         "ING": "8.06",
         "PostNL": "6.031",
         "SP500": "1279.56",
         "DJ": "441.3",
         "AEX": "335.65",
         "_deepnote_index_column": "2011-06-08T00:00:00.000000"
        },
        {
         "Shell": "24.23",
         "Philips": "18.02",
         "Heineken": "40.69",
         "TomTom": "5.55",
         "Aegon": "4.532",
         "ING": "8.12",
         "PostNL": "5.885",
         "SP500": "1289.0",
         "DJ": "444.84",
         "AEX": "338.04",
         "_deepnote_index_column": "2011-06-09T00:00:00.000000"
        },
        {
         "Shell": "24.0",
         "Philips": "17.68",
         "Heineken": "40.44",
         "TomTom": "5.44",
         "Aegon": "4.534",
         "ING": "7.93",
         "PostNL": "5.661",
         "SP500": "1270.98",
         "DJ": "437.88",
         "AEX": "333.83",
         "_deepnote_index_column": "2011-06-10T00:00:00.000000"
        }
       ],
       "rows_bottom": [
        {
         "Shell": 16.09,
         "Philips": 45.63,
         "Heineken": 88.08,
         "TomTom": 9.64,
         "Aegon": 3.496,
         "ING": 7.71,
         "PostNL": 3.4,
         "SP500": "3841.47",
         "DJ": "759.02",
         "AEX": 660.53,
         "_deepnote_index_column": "2021-01-22T00:00:00.000000"
        },
        {
         "Shell": 15.7,
         "Philips": 46.69,
         "Heineken": 87.1,
         "TomTom": 9.45,
         "Aegon": 3.346,
         "ING": 7.36,
         "PostNL": 3.436,
         "SP500": "3855.36",
         "DJ": "753.77",
         "AEX": 658.24,
         "_deepnote_index_column": "2021-01-25T00:00:00.000000"
        },
        {
         "Shell": 15.88,
         "Philips": 47.24,
         "Heineken": 87.64,
         "TomTom": 9.74,
         "Aegon": 3.428,
         "ING": 7.56,
         "PostNL": 3.439,
         "SP500": "3849.62",
         "DJ": "747.53",
         "AEX": 658.54,
         "_deepnote_index_column": "2021-01-26T00:00:00.000000"
        },
        {
         "Shell": 15.95,
         "Philips": 46.84,
         "Heineken": 86.56,
         "TomTom": 9.72,
         "Aegon": 3.425,
         "ING": 7.3,
         "PostNL": 3.245,
         "SP500": "3750.77",
         "DJ": "727.18",
         "AEX": 647.92,
         "_deepnote_index_column": "2021-01-27T00:00:00.000000"
        },
        {
         "Shell": 15.62,
         "Philips": 46.3,
         "Heineken": 87.86,
         "TomTom": 9.61,
         "Aegon": 3.469,
         "ING": 7.45,
         "PostNL": 3.311,
         "SP500": "3787.38",
         "DJ": "744.78",
         "AEX": 649,
         "_deepnote_index_column": "2021-01-28T00:00:00.000000"
        },
        {
         "Shell": 15.32,
         "Philips": 44.96,
         "Heineken": 85.94,
         "TomTom": 9.58,
         "Aegon": 3.402,
         "ING": 7.38,
         "PostNL": 3.405,
         "SP500": "3714.24",
         "DJ": "721.19",
         "AEX": 637.11,
         "_deepnote_index_column": "2021-01-29T00:00:00.000000"
        },
        {
         "Shell": 15.08,
         "Philips": 46.51,
         "Heineken": 87.1,
         "TomTom": 9.47,
         "Aegon": 3.433,
         "ING": 7.43,
         "PostNL": 3.439,
         "SP500": "3773.86",
         "DJ": "728.28",
         "AEX": 647.34,
         "_deepnote_index_column": "2021-02-01T00:00:00.000000"
        },
        {
         "Shell": 15.12,
         "Philips": 47.1,
         "Heineken": 89.6,
         "TomTom": 9.61,
         "Aegon": 3.522,
         "ING": 7.7,
         "PostNL": 3.412,
         "SP500": "3826.31",
         "DJ": "737.53",
         "AEX": 652.87,
         "_deepnote_index_column": "2021-02-02T00:00:00.000000"
        },
        {
         "Shell": 15.35,
         "Philips": 46.69,
         "Heineken": 89.38,
         "TomTom": 9.53,
         "Aegon": 3.52,
         "ING": 7.7,
         "PostNL": 3.424,
         "SP500": "3830.17",
         "DJ": "740.72",
         "AEX": 654.89,
         "_deepnote_index_column": "2021-02-03T00:00:00.000000"
        },
        {
         "Shell": 15.11,
         "Philips": 47.3,
         "Heineken": 90.58,
         "TomTom": 8.23,
         "Aegon": 3.6,
         "ING": 7.72,
         "PostNL": 3.408,
         "SP500": "3871.74",
         "DJ": "759.69",
         "AEX": 654.38,
         "_deepnote_index_column": "2021-02-04T00:00:00.000000"
        },
        {
         "Shell": 15.56,
         "Philips": 47.08,
         "Heineken": 90.74,
         "TomTom": 7.97,
         "Aegon": 3.627,
         "ING": 7.77,
         "PostNL": 3.487,
         "SP500": "3886.83",
         "DJ": "757.02",
         "AEX": 653.24,
         "_deepnote_index_column": "2021-02-05T00:00:00.000000"
        },
        {
         "Shell": 15.8,
         "Philips": 46.74,
         "Heineken": 88.64,
         "TomTom": 7.91,
         "Aegon": 3.624,
         "ING": 7.84,
         "PostNL": 3.543,
         "SP500": "3915.59",
         "DJ": "772.45",
         "AEX": 656.39,
         "_deepnote_index_column": "2021-02-08T00:00:00.000000"
        },
        {
         "Shell": 15.73,
         "Philips": 47.04,
         "Heineken": 89.04,
         "TomTom": 7.87,
         "Aegon": 3.667,
         "ING": 7.78,
         "PostNL": 3.578,
         "SP500": "3911.23",
         "DJ": "772.78",
         "AEX": 657.07,
         "_deepnote_index_column": "2021-02-09T00:00:00.000000"
        },
        {
         "Shell": 15.77,
         "Philips": 46.85,
         "Heineken": 84.5,
         "TomTom": 7.82,
         "Aegon": 3.64,
         "ING": 7.83,
         "PostNL": 3.562,
         "SP500": "3909.88",
         "DJ": "774.85",
         "AEX": 657.23,
         "_deepnote_index_column": "2021-02-10T00:00:00.000000"
        },
        {
         "Shell": 15.38,
         "Philips": 47.2,
         "Heineken": 86.44,
         "TomTom": 7.93,
         "Aegon": 3.749,
         "ING": 7.82,
         "PostNL": 3.59,
         "SP500": "3916.38",
         "DJ": "774.67",
         "AEX": 664.34,
         "_deepnote_index_column": "2021-02-11T00:00:00.000000"
        },
        {
         "Shell": 15.7,
         "Philips": 47.96,
         "Heineken": 86.04,
         "TomTom": 7.92,
         "Aegon": 3.737,
         "ING": 8.35,
         "PostNL": 3.574,
         "SP500": "3934.83",
         "DJ": "776.03",
         "AEX": 676.83,
         "_deepnote_index_column": "2021-02-12T00:00:00.000000"
        },
        {
         "Shell": 16.63,
         "Philips": 47.93,
         "Heineken": 86.56,
         "TomTom": 7.97,
         "Aegon": 3.834,
         "ING": 8.89,
         "PostNL": 3.573,
         "SP500": "nan",
         "DJ": "nan",
         "AEX": 685.18,
         "_deepnote_index_column": "2021-02-15T00:00:00.000000"
        },
        {
         "Shell": 16.58,
         "Philips": 47.69,
         "Heineken": 85.9,
         "TomTom": 7.89,
         "Aegon": 3.857,
         "ING": 8.91,
         "PostNL": 3.559,
         "SP500": "3932.59",
         "DJ": "782.36",
         "AEX": 687.43,
         "_deepnote_index_column": "2021-02-16T00:00:00.000000"
        },
        {
         "Shell": 16.7,
         "Philips": 47.44,
         "Heineken": 85.88,
         "TomTom": 7.95,
         "Aegon": 3.864,
         "ING": 8.93,
         "PostNL": 3.535,
         "SP500": "3931.33",
         "DJ": "783.67",
         "AEX": 681.04,
         "_deepnote_index_column": "2021-02-17T00:00:00.000000"
        },
        {
         "Shell": 16.23,
         "Philips": 46.97,
         "Heineken": 86.62,
         "TomTom": 7.86,
         "Aegon": 3.795,
         "ING": 8.65,
         "PostNL": 3.54,
         "SP500": "3913.97",
         "DJ": "775.73",
         "AEX": 672.81,
         "_deepnote_index_column": "2021-02-18T00:00:00.000000"
        },
        {
         "Shell": 16.31,
         "Philips": 46.65,
         "Heineken": 86.36,
         "TomTom": 8,
         "Aegon": 3.937,
         "ING": 8.95,
         "PostNL": 3.632,
         "SP500": "3906.71",
         "DJ": "791.87",
         "AEX": 678.48,
         "_deepnote_index_column": "2021-02-19T00:00:00.000000"
        },
        {
         "Shell": 16.71,
         "Philips": 46.58,
         "Heineken": 85.66,
         "TomTom": 7.85,
         "Aegon": 4.052,
         "ING": 8.96,
         "PostNL": 3.556,
         "SP500": "3876.5",
         "DJ": "814.29",
         "AEX": 671.75,
         "_deepnote_index_column": "2021-02-22T00:00:00.000000"
        },
        {
         "Shell": 16.79,
         "Philips": 46.44,
         "Heineken": 85.5,
         "TomTom": 7.63,
         "Aegon": 4.027,
         "ING": 9.1,
         "PostNL": 3.484,
         "SP500": "3881.37",
         "DJ": "810.65",
         "AEX": 664.06,
         "_deepnote_index_column": "2021-02-23T00:00:00.000000"
        },
        {
         "Shell": 17.39,
         "Philips": 46.11,
         "Heineken": 85.82,
         "TomTom": 7.63,
         "Aegon": 4.048,
         "ING": 9.22,
         "PostNL": 3.51,
         "SP500": "3925.43",
         "DJ": "837.62",
         "AEX": 664.54,
         "_deepnote_index_column": "2021-02-24T00:00:00.000000"
        },
        {
         "Shell": 17.48,
         "Philips": 45.6,
         "Heineken": 84.22,
         "TomTom": 7.75,
         "Aegon": 4.014,
         "ING": 9.23,
         "PostNL": 3.522,
         "SP500": "3829.34",
         "DJ": "816.46",
         "AEX": 664.48,
         "_deepnote_index_column": "2021-02-25T00:00:00.000000"
        },
        {
         "Shell": 16.9,
         "Philips": 44.96,
         "Heineken": 81.7,
         "TomTom": 7.78,
         "Aegon": 3.956,
         "ING": 9.04,
         "PostNL": 3.523,
         "SP500": "3811.15",
         "DJ": "803.78",
         "AEX": 651.26,
         "_deepnote_index_column": "2021-02-26T00:00:00.000000"
        },
        {
         "Shell": 17.23,
         "Philips": 45.75,
         "Heineken": 82.92,
         "TomTom": 7.84,
         "Aegon": 4.046,
         "ING": 9.22,
         "PostNL": 3.652,
         "SP500": "3901.82",
         "DJ": "824.13",
         "AEX": 664.58,
         "_deepnote_index_column": "2021-03-01T00:00:00.000000"
        },
        {
         "Shell": 17.24,
         "Philips": 45.64,
         "Heineken": 81.76,
         "TomTom": 7.68,
         "Aegon": 4.05,
         "ING": 9.4,
         "PostNL": 3.595,
         "SP500": "3870.29",
         "DJ": "821.71",
         "AEX": 663.26,
         "_deepnote_index_column": "2021-03-02T00:00:00.000000"
        },
        {
         "Shell": 17.46,
         "Philips": 44.92,
         "Heineken": 81.6,
         "TomTom": 7.64,
         "Aegon": 4.193,
         "ING": 9.8,
         "PostNL": 3.649,
         "SP500": "3819.72",
         "DJ": "828.92",
         "AEX": 663.35,
         "_deepnote_index_column": "2021-03-03T00:00:00.000000"
        },
        {
         "Shell": 17.88,
         "Philips": 45.22,
         "Heineken": 85.92,
         "TomTom": 7.56,
         "Aegon": 4.128,
         "ING": 9.81,
         "PostNL": 3.626,
         "SP500": "3768.47",
         "DJ": "816.77",
         "AEX": 657.67,
         "_deepnote_index_column": "2021-03-04T00:00:00.000000"
        },
        {
         "Shell": 18.13,
         "Philips": 45.07,
         "Heineken": 87.2,
         "TomTom": 7.49,
         "Aegon": 4.074,
         "ING": 9.96,
         "PostNL": 3.6,
         "SP500": "3841.94",
         "DJ": "839.13",
         "AEX": 653.87,
         "_deepnote_index_column": "2021-03-05T00:00:00.000000"
        },
        {
         "Shell": 18.2,
         "Philips": 45.44,
         "Heineken": 88.9,
         "TomTom": 7.74,
         "Aegon": 4.273,
         "ING": 10.43,
         "PostNL": 3.717,
         "SP500": "3821.35",
         "DJ": "855.53",
         "AEX": 665.65,
         "_deepnote_index_column": "2021-03-08T00:00:00.000000"
        },
        {
         "Shell": 18.3,
         "Philips": 46.09,
         "Heineken": 89.96,
         "TomTom": 7.85,
         "Aegon": 4.292,
         "ING": 10.37,
         "PostNL": 3.775,
         "SP500": "3875.44",
         "DJ": "846.17",
         "AEX": 675.1,
         "_deepnote_index_column": "2021-03-09T00:00:00.000000"
        },
        {
         "Shell": 18.47,
         "Philips": 47.53,
         "Heineken": 91.16,
         "TomTom": 7.91,
         "Aegon": 4.24,
         "ING": 10.35,
         "PostNL": 3.658,
         "SP500": "3898.81",
         "DJ": "860.68",
         "AEX": 678.03,
         "_deepnote_index_column": "2021-03-10T00:00:00.000000"
        },
        {
         "Shell": 18.51,
         "Philips": 47.37,
         "Heineken": 90.1,
         "TomTom": 8.06,
         "Aegon": 4.165,
         "ING": 9.97,
         "PostNL": 3.666,
         "SP500": "3939.34",
         "DJ": "857.97",
         "AEX": 683.71,
         "_deepnote_index_column": "2021-03-11T00:00:00.000000"
        },
        {
         "Shell": 18.62,
         "Philips": 47,
         "Heineken": 90.68,
         "TomTom": 7.89,
         "Aegon": 4.195,
         "ING": 10.1,
         "PostNL": 3.64,
         "SP500": "3943.34",
         "DJ": "869.39",
         "AEX": 677.41,
         "_deepnote_index_column": "2021-03-12T00:00:00.000000"
        },
        {
         "Shell": 18.23,
         "Philips": 47.08,
         "Heineken": 91.4,
         "TomTom": 7.91,
         "Aegon": 4.119,
         "ING": 10.05,
         "PostNL": 3.79,
         "SP500": "3968.94",
         "DJ": "870.33",
         "AEX": 678.8,
         "_deepnote_index_column": "2021-03-15T00:00:00.000000"
        },
        {
         "Shell": 17.98,
         "Philips": 47.38,
         "Heineken": 90.92,
         "TomTom": 8,
         "Aegon": 4.107,
         "ING": 10.1,
         "PostNL": 3.874,
         "SP500": "3962.71",
         "DJ": "850.86",
         "AEX": 683.65,
         "_deepnote_index_column": "2021-03-16T00:00:00.000000"
        },
        {
         "Shell": 17.98,
         "Philips": 47.01,
         "Heineken": 90.92,
         "TomTom": 7.89,
         "Aegon": 4.081,
         "ING": 10.23,
         "PostNL": 3.925,
         "SP500": "3974.12",
         "DJ": "863.68",
         "AEX": 680.71,
         "_deepnote_index_column": "2021-03-17T00:00:00.000000"
        },
        {
         "Shell": 17.86,
         "Philips": 47.26,
         "Heineken": 90.14,
         "TomTom": 7.87,
         "Aegon": 4.155,
         "ING": 10.61,
         "PostNL": 3.98,
         "SP500": "3915.46",
         "DJ": "871.68",
         "AEX": 682.39,
         "_deepnote_index_column": "2021-03-18T00:00:00.000000"
        },
        {
         "Shell": 17.67,
         "Philips": 47.9,
         "Heineken": 90.02,
         "TomTom": 7.88,
         "Aegon": 4.036,
         "ING": 10.33,
         "PostNL": 3.967,
         "SP500": "3913.1",
         "DJ": "863.29",
         "AEX": 681.7,
         "_deepnote_index_column": "2021-03-19T00:00:00.000000"
        },
        {
         "Shell": 17.47,
         "Philips": 48.19,
         "Heineken": 89.06,
         "TomTom": 7.95,
         "Aegon": 3.956,
         "ING": 10.03,
         "PostNL": 3.984,
         "SP500": "3940.59",
         "DJ": "851.58",
         "AEX": 684.21,
         "_deepnote_index_column": "2021-03-22T00:00:00.000000"
        },
        {
         "Shell": 16.88,
         "Philips": 48.13,
         "Heineken": 88.88,
         "TomTom": 7.89,
         "Aegon": 3.865,
         "ING": 9.98,
         "PostNL": 3.904,
         "SP500": "3910.52",
         "DJ": "830.92",
         "AEX": 681.74,
         "_deepnote_index_column": "2021-03-23T00:00:00.000000"
        },
        {
         "Shell": 17.15,
         "Philips": 47.21,
         "Heineken": 87.92,
         "TomTom": 7.79,
         "Aegon": 3.929,
         "ING": 10.17,
         "PostNL": 3.868,
         "SP500": "3889.14",
         "DJ": "830.19",
         "AEX": 686.13,
         "_deepnote_index_column": "2021-03-24T00:00:00.000000"
        },
        {
         "Shell": 16.76,
         "Philips": 48.4,
         "Heineken": 86.86,
         "TomTom": 7.64,
         "Aegon": 4.007,
         "ING": 10.16,
         "PostNL": 3.89,
         "SP500": "3909.52",
         "DJ": "850.4",
         "AEX": 685.33,
         "_deepnote_index_column": "2021-03-25T00:00:00.000000"
        },
        {
         "Shell": 17.12,
         "Philips": 48.1,
         "Heineken": 87.48,
         "TomTom": 7.72,
         "Aegon": 4.008,
         "ING": 10.15,
         "PostNL": 3.955,
         "SP500": "3974.54",
         "DJ": "860.05",
         "AEX": 696.62,
         "_deepnote_index_column": "2021-03-26T00:00:00.000000"
        },
        {
         "Shell": 17.07,
         "Philips": 48.28,
         "Heineken": 88.48,
         "TomTom": 7.8,
         "Aegon": 4.013,
         "ING": 10.08,
         "PostNL": 4.099,
         "SP500": "3971.09",
         "DJ": "850.62",
         "AEX": 697.94,
         "_deepnote_index_column": "2021-03-29T00:00:00.000000"
        },
        {
         "Shell": 17.12,
         "Philips": 48.36,
         "Heineken": 88.6,
         "TomTom": 7.8,
         "Aegon": 4.144,
         "ING": 10.48,
         "PostNL": 4.161,
         "SP500": "3958.55",
         "DJ": "865.13",
         "AEX": 701.12,
         "_deepnote_index_column": "2021-03-30T00:00:00.000000"
        },
        {
         "Shell": 16.8,
         "Philips": 48.67,
         "Heineken": 87.62,
         "TomTom": 7.88,
         "Aegon": 4.05,
         "ING": 10.43,
         "PostNL": 4.135,
         "SP500": "3972.89",
         "DJ": "855.98",
         "AEX": 699.85,
         "_deepnote_index_column": "2021-03-31T00:00:00.000000"
        },
        {
         "Shell": 16.81,
         "Philips": 49.16,
         "Heineken": 88.36,
         "TomTom": 8.16,
         "Aegon": 4.082,
         "ING": 10.43,
         "PostNL": 4.129,
         "SP500": "4019.87",
         "DJ": "867.21",
         "AEX": 708.43,
         "_deepnote_index_column": "2021-04-01T00:00:00.000000"
        }
       ]
      },
      "text/plain": "            Shell  Philips  Heineken  TomTom  Aegon    ING  PostNL    SP500  \\\nDate                                                                          \n2011-04-01  25.91    22.84     38.81    6.22  5.490   9.18   7.812  1332.41   \n2011-04-04  25.95    22.32     39.02    6.24  5.478   9.08   7.876  1332.87   \n2011-04-05  25.91    22.00     39.45    6.16  5.497   9.00   7.939  1332.63   \n2011-04-06  25.93    21.88     39.10    6.17  5.562   9.15   8.007  1335.54   \n2011-04-07  25.80    21.92     39.15    6.27  5.530   9.11   7.859  1333.51   \n...           ...      ...       ...     ...    ...    ...     ...      ...   \n2021-03-26  17.12    48.10     87.48    7.72  4.008  10.15   3.955  3974.54   \n2021-03-29  17.07    48.28     88.48    7.80  4.013  10.08   4.099  3971.09   \n2021-03-30  17.12    48.36     88.60    7.80  4.144  10.48   4.161  3958.55   \n2021-03-31  16.80    48.67     87.62    7.88  4.050  10.43   4.135  3972.89   \n2021-04-01  16.81    49.16     88.36    8.16  4.082  10.43   4.129  4019.87   \n\n                DJ     AEX  \nDate                        \n2011-04-01  491.63  369.45  \n2011-04-04  495.76  369.01  \n2011-04-05  492.43  368.96  \n2011-04-06  498.40  369.64  \n2011-04-07  493.71  367.39  \n...            ...     ...  \n2021-03-26  860.05  696.62  \n2021-03-29  850.62  697.94  \n2021-03-30  865.13  701.12  \n2021-03-31  855.98  699.85  \n2021-04-01  867.21  708.43  \n\n[2582 rows x 10 columns]",
      "text/html": "<div>\n<style scoped>\n    .dataframe tbody tr th:only-of-type {\n        vertical-align: middle;\n    }\n\n    .dataframe tbody tr th {\n        vertical-align: top;\n    }\n\n    .dataframe thead th {\n        text-align: right;\n    }\n</style>\n<table border=\"1\" class=\"dataframe\">\n  <thead>\n    <tr style=\"text-align: right;\">\n      <th></th>\n      <th>Shell</th>\n      <th>Philips</th>\n      <th>Heineken</th>\n      <th>TomTom</th>\n      <th>Aegon</th>\n      <th>ING</th>\n      <th>PostNL</th>\n      <th>SP500</th>\n      <th>DJ</th>\n      <th>AEX</th>\n    </tr>\n    <tr>\n      <th>Date</th>\n      <th></th>\n      <th></th>\n      <th></th>\n      <th></th>\n      <th></th>\n      <th></th>\n      <th></th>\n      <th></th>\n      <th></th>\n      <th></th>\n    </tr>\n  </thead>\n  <tbody>\n    <tr>\n      <th>2011-04-01</th>\n      <td>25.91</td>\n      <td>22.84</td>\n      <td>38.81</td>\n      <td>6.22</td>\n      <td>5.490</td>\n      <td>9.18</td>\n      <td>7.812</td>\n      <td>1332.41</td>\n      <td>491.63</td>\n      <td>369.45</td>\n    </tr>\n    <tr>\n      <th>2011-04-04</th>\n      <td>25.95</td>\n      <td>22.32</td>\n      <td>39.02</td>\n      <td>6.24</td>\n      <td>5.478</td>\n      <td>9.08</td>\n      <td>7.876</td>\n      <td>1332.87</td>\n      <td>495.76</td>\n      <td>369.01</td>\n    </tr>\n    <tr>\n      <th>2011-04-05</th>\n      <td>25.91</td>\n      <td>22.00</td>\n      <td>39.45</td>\n      <td>6.16</td>\n      <td>5.497</td>\n      <td>9.00</td>\n      <td>7.939</td>\n      <td>1332.63</td>\n      <td>492.43</td>\n      <td>368.96</td>\n    </tr>\n    <tr>\n      <th>2011-04-06</th>\n      <td>25.93</td>\n      <td>21.88</td>\n      <td>39.10</td>\n      <td>6.17</td>\n      <td>5.562</td>\n      <td>9.15</td>\n      <td>8.007</td>\n      <td>1335.54</td>\n      <td>498.40</td>\n      <td>369.64</td>\n    </tr>\n    <tr>\n      <th>2011-04-07</th>\n      <td>25.80</td>\n      <td>21.92</td>\n      <td>39.15</td>\n      <td>6.27</td>\n      <td>5.530</td>\n      <td>9.11</td>\n      <td>7.859</td>\n      <td>1333.51</td>\n      <td>493.71</td>\n      <td>367.39</td>\n    </tr>\n    <tr>\n      <th>...</th>\n      <td>...</td>\n      <td>...</td>\n      <td>...</td>\n      <td>...</td>\n      <td>...</td>\n      <td>...</td>\n      <td>...</td>\n      <td>...</td>\n      <td>...</td>\n      <td>...</td>\n    </tr>\n    <tr>\n      <th>2021-03-26</th>\n      <td>17.12</td>\n      <td>48.10</td>\n      <td>87.48</td>\n      <td>7.72</td>\n      <td>4.008</td>\n      <td>10.15</td>\n      <td>3.955</td>\n      <td>3974.54</td>\n      <td>860.05</td>\n      <td>696.62</td>\n    </tr>\n    <tr>\n      <th>2021-03-29</th>\n      <td>17.07</td>\n      <td>48.28</td>\n      <td>88.48</td>\n      <td>7.80</td>\n      <td>4.013</td>\n      <td>10.08</td>\n      <td>4.099</td>\n      <td>3971.09</td>\n      <td>850.62</td>\n      <td>697.94</td>\n    </tr>\n    <tr>\n      <th>2021-03-30</th>\n      <td>17.12</td>\n      <td>48.36</td>\n      <td>88.60</td>\n      <td>7.80</td>\n      <td>4.144</td>\n      <td>10.48</td>\n      <td>4.161</td>\n      <td>3958.55</td>\n      <td>865.13</td>\n      <td>701.12</td>\n    </tr>\n    <tr>\n      <th>2021-03-31</th>\n      <td>16.80</td>\n      <td>48.67</td>\n      <td>87.62</td>\n      <td>7.88</td>\n      <td>4.050</td>\n      <td>10.43</td>\n      <td>4.135</td>\n      <td>3972.89</td>\n      <td>855.98</td>\n      <td>699.85</td>\n    </tr>\n    <tr>\n      <th>2021-04-01</th>\n      <td>16.81</td>\n      <td>49.16</td>\n      <td>88.36</td>\n      <td>8.16</td>\n      <td>4.082</td>\n      <td>10.43</td>\n      <td>4.129</td>\n      <td>4019.87</td>\n      <td>867.21</td>\n      <td>708.43</td>\n    </tr>\n  </tbody>\n</table>\n<p>2582 rows × 10 columns</p>\n</div>"
     },
     "metadata": {}
    }
   ]
  },
  {
   "cell_type": "code",
   "metadata": {
    "tags": [],
    "cell_id": "00009-8f9e5d0b-1d3d-4109-9808-b14420b0b014",
    "deepnote_to_be_reexecuted": false,
    "source_hash": "76c8bb73",
    "execution_start": 1620145804379,
    "execution_millis": 101,
    "deepnote_cell_type": "code"
   },
   "source": "data.fillna(method='ffill')",
   "execution_count": null,
   "outputs": [
    {
     "output_type": "execute_result",
     "execution_count": 69,
     "data": {
      "application/vnd.deepnote.dataframe.v2+json": {
       "row_count": 2582,
       "column_count": 10,
       "columns": [
        {
         "name": "Shell",
         "dtype": "float64",
         "stats": {
          "unique_count": 1065,
          "nan_count": 0,
          "min": "10.07",
          "max": "31.35",
          "histogram": [
           {
            "bin_start": 10.07,
            "bin_end": 12.198,
            "count": 49
           },
           {
            "bin_start": 12.198,
            "bin_end": 14.326,
            "count": 53
           },
           {
            "bin_start": 14.326,
            "bin_end": 16.454,
            "count": 120
           },
           {
            "bin_start": 16.454,
            "bin_end": 18.582,
            "count": 66
           },
           {
            "bin_start": 18.582,
            "bin_end": 20.71,
            "count": 40
           },
           {
            "bin_start": 20.71,
            "bin_end": 22.838,
            "count": 183
           },
           {
            "bin_start": 22.838,
            "bin_end": 24.966,
            "count": 527
           },
           {
            "bin_start": 24.966,
            "bin_end": 27.094,
            "count": 816
           },
           {
            "bin_start": 27.094,
            "bin_end": 29.222,
            "count": 573
           },
           {
            "bin_start": 29.222,
            "bin_end": 31.35,
            "count": 155
           }
          ]
         }
        },
        {
         "name": "Philips",
         "dtype": "float64",
         "stats": {
          "unique_count": 1547,
          "nan_count": 0,
          "min": "12.22",
          "max": "49.16",
          "histogram": [
           {
            "bin_start": 12.22,
            "bin_end": 15.914000000000001,
            "count": 231
           },
           {
            "bin_start": 15.914000000000001,
            "bin_end": 19.608,
            "count": 148
           },
           {
            "bin_start": 19.608,
            "bin_end": 23.302,
            "count": 442
           },
           {
            "bin_start": 23.302,
            "bin_end": 26.996000000000002,
            "count": 592
           },
           {
            "bin_start": 26.996000000000002,
            "bin_end": 30.689999999999998,
            "count": 172
           },
           {
            "bin_start": 30.689999999999998,
            "bin_end": 34.384,
            "count": 292
           },
           {
            "bin_start": 34.384,
            "bin_end": 38.078,
            "count": 254
           },
           {
            "bin_start": 38.078,
            "bin_end": 41.772,
            "count": 201
           },
           {
            "bin_start": 41.772,
            "bin_end": 45.466,
            "count": 199
           },
           {
            "bin_start": 45.466,
            "bin_end": 49.16,
            "count": 51
           }
          ]
         }
        },
        {
         "name": "Heineken",
         "dtype": "float64",
         "stats": {
          "unique_count": 1947,
          "nan_count": 0,
          "min": "32.05",
          "max": "104.95",
          "histogram": [
           {
            "bin_start": 32.05,
            "bin_end": 39.339999999999996,
            "count": 171
           },
           {
            "bin_start": 39.339999999999996,
            "bin_end": 46.629999999999995,
            "count": 233
           },
           {
            "bin_start": 46.629999999999995,
            "bin_end": 53.92,
            "count": 380
           },
           {
            "bin_start": 53.92,
            "bin_end": 61.21,
            "count": 182
           },
           {
            "bin_start": 61.21,
            "bin_end": 68.5,
            "count": 64
           },
           {
            "bin_start": 68.5,
            "bin_end": 75.79,
            "count": 281
           },
           {
            "bin_start": 75.79,
            "bin_end": 83.08000000000001,
            "count": 476
           },
           {
            "bin_start": 83.08000000000001,
            "bin_end": 90.37,
            "count": 498
           },
           {
            "bin_start": 90.37,
            "bin_end": 97.66000000000001,
            "count": 217
           },
           {
            "bin_start": 97.66000000000001,
            "bin_end": 104.95,
            "count": 80
           }
          ]
         }
        },
        {
         "name": "TomTom",
         "dtype": "float64",
         "stats": {
          "unique_count": 768,
          "nan_count": 0,
          "min": "2.49",
          "max": "12.29",
          "histogram": [
           {
            "bin_start": 2.49,
            "bin_end": 3.47,
            "count": 257
           },
           {
            "bin_start": 3.47,
            "bin_end": 4.45,
            "count": 287
           },
           {
            "bin_start": 4.45,
            "bin_end": 5.43,
            "count": 196
           },
           {
            "bin_start": 5.43,
            "bin_end": 6.41,
            "count": 294
           },
           {
            "bin_start": 6.41,
            "bin_end": 7.39,
            "count": 237
           },
           {
            "bin_start": 7.39,
            "bin_end": 8.37,
            "count": 523
           },
           {
            "bin_start": 8.37,
            "bin_end": 9.35,
            "count": 391
           },
           {
            "bin_start": 9.35,
            "bin_end": 10.329999999999998,
            "count": 299
           },
           {
            "bin_start": 10.329999999999998,
            "bin_end": 11.309999999999999,
            "count": 65
           },
           {
            "bin_start": 11.309999999999999,
            "bin_end": 12.29,
            "count": 33
           }
          ]
         }
        },
        {
         "name": "Aegon",
         "dtype": "float64",
         "stats": {
          "unique_count": 1889,
          "nan_count": 0,
          "min": "1.67",
          "max": "7.66",
          "histogram": [
           {
            "bin_start": 1.67,
            "bin_end": 2.269,
            "count": 45
           },
           {
            "bin_start": 2.269,
            "bin_end": 2.868,
            "count": 139
           },
           {
            "bin_start": 2.868,
            "bin_end": 3.4669999999999996,
            "count": 227
           },
           {
            "bin_start": 3.4669999999999996,
            "bin_end": 4.066,
            "count": 335
           },
           {
            "bin_start": 4.066,
            "bin_end": 4.665,
            "count": 448
           },
           {
            "bin_start": 4.665,
            "bin_end": 5.263999999999999,
            "count": 518
           },
           {
            "bin_start": 5.263999999999999,
            "bin_end": 5.8629999999999995,
            "count": 386
           },
           {
            "bin_start": 5.8629999999999995,
            "bin_end": 6.462,
            "count": 231
           },
           {
            "bin_start": 6.462,
            "bin_end": 7.061,
            "count": 190
           },
           {
            "bin_start": 7.061,
            "bin_end": 7.66,
            "count": 63
           }
          ]
         }
        },
        {
         "name": "ING",
         "dtype": "float64",
         "stats": {
          "unique_count": 975,
          "nan_count": 0,
          "min": "4.3",
          "max": "16.67",
          "histogram": [
           {
            "bin_start": 4.3,
            "bin_end": 5.537,
            "count": 179
           },
           {
            "bin_start": 5.537,
            "bin_end": 6.774,
            "count": 319
           },
           {
            "bin_start": 6.774,
            "bin_end": 8.011,
            "count": 267
           },
           {
            "bin_start": 8.011,
            "bin_end": 9.248000000000001,
            "count": 203
           },
           {
            "bin_start": 9.248000000000001,
            "bin_end": 10.485,
            "count": 453
           },
           {
            "bin_start": 10.485,
            "bin_end": 11.722000000000001,
            "count": 436
           },
           {
            "bin_start": 11.722000000000001,
            "bin_end": 12.959,
            "count": 157
           },
           {
            "bin_start": 12.959,
            "bin_end": 14.196000000000002,
            "count": 256
           },
           {
            "bin_start": 14.196000000000002,
            "bin_end": 15.433,
            "count": 195
           },
           {
            "bin_start": 15.433,
            "bin_end": 16.67,
            "count": 117
           }
          ]
         }
        },
        {
         "name": "PostNL",
         "dtype": "float64",
         "stats": {
          "unique_count": 1745,
          "nan_count": 0,
          "min": "0.99",
          "max": "8.007",
          "histogram": [
           {
            "bin_start": 0.99,
            "bin_end": 1.6917,
            "count": 176
           },
           {
            "bin_start": 1.6917,
            "bin_end": 2.3933999999999997,
            "count": 409
           },
           {
            "bin_start": 2.3933999999999997,
            "bin_end": 3.0951000000000004,
            "count": 562
           },
           {
            "bin_start": 3.0951000000000004,
            "bin_end": 3.7968,
            "count": 718
           },
           {
            "bin_start": 3.7968,
            "bin_end": 4.4985,
            "count": 583
           },
           {
            "bin_start": 4.4985,
            "bin_end": 5.200200000000001,
            "count": 73
           },
           {
            "bin_start": 5.200200000000001,
            "bin_end": 5.9019,
            "count": 13
           },
           {
            "bin_start": 5.9019,
            "bin_end": 6.6036,
            "count": 10
           },
           {
            "bin_start": 6.6036,
            "bin_end": 7.3053,
            "count": 33
           },
           {
            "bin_start": 7.3053,
            "bin_end": 8.007,
            "count": 5
           }
          ]
         }
        },
        {
         "name": "SP500",
         "dtype": "float64",
         "stats": {
          "unique_count": 2504,
          "nan_count": 0,
          "min": "1099.23",
          "max": "4019.87",
          "histogram": [
           {
            "bin_start": 1099.23,
            "bin_end": 1391.2939999999999,
            "count": 335
           },
           {
            "bin_start": 1391.2939999999999,
            "bin_end": 1683.358,
            "count": 281
           },
           {
            "bin_start": 1683.358,
            "bin_end": 1975.422,
            "count": 332
           },
           {
            "bin_start": 1975.422,
            "bin_end": 2267.486,
            "count": 539
           },
           {
            "bin_start": 2267.486,
            "bin_end": 2559.5499999999997,
            "count": 232
           },
           {
            "bin_start": 2559.5499999999997,
            "bin_end": 2851.6139999999996,
            "count": 357
           },
           {
            "bin_start": 2851.6139999999996,
            "bin_end": 3143.678,
            "count": 256
           },
           {
            "bin_start": 3143.678,
            "bin_end": 3435.7419999999997,
            "count": 127
           },
           {
            "bin_start": 3435.7419999999997,
            "bin_end": 3727.8059999999996,
            "count": 59
           },
           {
            "bin_start": 3727.8059999999996,
            "bin_end": 4019.87,
            "count": 64
           }
          ]
         }
        },
        {
         "name": "DJ",
         "dtype": "float64",
         "stats": {
          "unique_count": 2443,
          "nan_count": 0,
          "min": "310.0",
          "max": "927.83",
          "histogram": [
           {
            "bin_start": 310,
            "bin_end": 371.783,
            "count": 110
           },
           {
            "bin_start": 371.783,
            "bin_end": 433.56600000000003,
            "count": 220
           },
           {
            "bin_start": 433.56600000000003,
            "bin_end": 495.349,
            "count": 221
           },
           {
            "bin_start": 495.349,
            "bin_end": 557.1320000000001,
            "count": 115
           },
           {
            "bin_start": 557.1320000000001,
            "bin_end": 618.915,
            "count": 303
           },
           {
            "bin_start": 618.915,
            "bin_end": 680.698,
            "count": 552
           },
           {
            "bin_start": 680.698,
            "bin_end": 742.481,
            "count": 232
           },
           {
            "bin_start": 742.481,
            "bin_end": 804.264,
            "count": 515
           },
           {
            "bin_start": 804.264,
            "bin_end": 866.047,
            "count": 259
           },
           {
            "bin_start": 866.047,
            "bin_end": 927.83,
            "count": 55
           }
          ]
         }
        },
        {
         "name": "AEX",
         "dtype": "float64",
         "stats": {
          "unique_count": 2452,
          "nan_count": 0,
          "min": "263.44",
          "max": "708.43",
          "histogram": [
           {
            "bin_start": 263.44,
            "bin_end": 307.93899999999996,
            "count": 150
           },
           {
            "bin_start": 307.93899999999996,
            "bin_end": 352.438,
            "count": 358
           },
           {
            "bin_start": 352.438,
            "bin_end": 396.937,
            "count": 261
           },
           {
            "bin_start": 396.937,
            "bin_end": 441.436,
            "count": 368
           },
           {
            "bin_start": 441.436,
            "bin_end": 485.93499999999995,
            "count": 307
           },
           {
            "bin_start": 485.93499999999995,
            "bin_end": 530.434,
            "count": 380
           },
           {
            "bin_start": 530.434,
            "bin_end": 574.933,
            "count": 538
           },
           {
            "bin_start": 574.933,
            "bin_end": 619.432,
            "count": 138
           },
           {
            "bin_start": 619.432,
            "bin_end": 663.931,
            "count": 51
           },
           {
            "bin_start": 663.931,
            "bin_end": 708.43,
            "count": 31
           }
          ]
         }
        },
        {
         "name": "_deepnote_index_column",
         "dtype": "datetime64[ns]"
        }
       ],
       "rows_top": [
        {
         "Shell": 25.91,
         "Philips": 22.84,
         "Heineken": 38.81,
         "TomTom": 6.22,
         "Aegon": 5.49,
         "ING": 9.18,
         "PostNL": 7.812,
         "SP500": 1332.41,
         "DJ": 491.63,
         "AEX": 369.45,
         "_deepnote_index_column": "2011-04-01T00:00:00.000000"
        },
        {
         "Shell": 25.95,
         "Philips": 22.32,
         "Heineken": 39.02,
         "TomTom": 6.24,
         "Aegon": 5.478,
         "ING": 9.08,
         "PostNL": 7.876,
         "SP500": 1332.87,
         "DJ": 495.76,
         "AEX": 369.01,
         "_deepnote_index_column": "2011-04-04T00:00:00.000000"
        },
        {
         "Shell": 25.91,
         "Philips": 22,
         "Heineken": 39.45,
         "TomTom": 6.16,
         "Aegon": 5.497,
         "ING": 9,
         "PostNL": 7.939,
         "SP500": 1332.63,
         "DJ": 492.43,
         "AEX": 368.96,
         "_deepnote_index_column": "2011-04-05T00:00:00.000000"
        },
        {
         "Shell": 25.93,
         "Philips": 21.88,
         "Heineken": 39.1,
         "TomTom": 6.17,
         "Aegon": 5.562,
         "ING": 9.15,
         "PostNL": 8.007,
         "SP500": 1335.54,
         "DJ": 498.4,
         "AEX": 369.64,
         "_deepnote_index_column": "2011-04-06T00:00:00.000000"
        },
        {
         "Shell": 25.8,
         "Philips": 21.92,
         "Heineken": 39.15,
         "TomTom": 6.27,
         "Aegon": 5.53,
         "ING": 9.11,
         "PostNL": 7.859,
         "SP500": 1333.51,
         "DJ": 493.71,
         "AEX": 367.39,
         "_deepnote_index_column": "2011-04-07T00:00:00.000000"
        },
        {
         "Shell": 26.06,
         "Philips": 21.93,
         "Heineken": 39.66,
         "TomTom": 6.22,
         "Aegon": 5.576,
         "ING": 9.22,
         "PostNL": 6.868,
         "SP500": 1328.17,
         "DJ": 487.24,
         "AEX": 366.94,
         "_deepnote_index_column": "2011-04-08T00:00:00.000000"
        },
        {
         "Shell": 25.98,
         "Philips": 21.79,
         "Heineken": 39.53,
         "TomTom": 6.21,
         "Aegon": 5.549,
         "ING": 9.19,
         "PostNL": 7.132,
         "SP500": 1324.46,
         "DJ": 488.32,
         "AEX": 366.47,
         "_deepnote_index_column": "2011-04-11T00:00:00.000000"
        },
        {
         "Shell": 25.09,
         "Philips": 21.31,
         "Heineken": 39.09,
         "TomTom": 6.11,
         "Aegon": 5.451,
         "ING": 9.07,
         "PostNL": 7.08,
         "SP500": 1314.16,
         "DJ": 484.45,
         "AEX": 360.77,
         "_deepnote_index_column": "2011-04-12T00:00:00.000000"
        },
        {
         "Shell": 25.28,
         "Philips": 21.43,
         "Heineken": 39.85,
         "TomTom": 6.15,
         "Aegon": 5.438,
         "ING": 9.16,
         "PostNL": 7.044,
         "SP500": 1314.41,
         "DJ": 478.42,
         "AEX": 362.76,
         "_deepnote_index_column": "2011-04-13T00:00:00.000000"
        },
        {
         "Shell": 25.18,
         "Philips": 21.36,
         "Heineken": 40.11,
         "TomTom": 6.03,
         "Aegon": 5.338,
         "ING": 8.81,
         "PostNL": 7.014,
         "SP500": 1314.52,
         "DJ": 475.52,
         "AEX": 359.48,
         "_deepnote_index_column": "2011-04-14T00:00:00.000000"
        },
        {
         "Shell": 25.27,
         "Philips": 21.09,
         "Heineken": 40.2,
         "TomTom": 5.99,
         "Aegon": 5.295,
         "ING": 8.7,
         "PostNL": 6.99,
         "SP500": 1319.68,
         "DJ": 476.49,
         "AEX": 359,
         "_deepnote_index_column": "2011-04-15T00:00:00.000000"
        },
        {
         "Shell": 24.91,
         "Philips": 20.9,
         "Heineken": 39.73,
         "TomTom": 5.85,
         "Aegon": 5.037,
         "ING": 8.37,
         "PostNL": 6.93,
         "SP500": 1305.14,
         "DJ": 469.15,
         "AEX": 352.68,
         "_deepnote_index_column": "2011-04-18T00:00:00.000000"
        },
        {
         "Shell": 24.91,
         "Philips": 20.33,
         "Heineken": 40.21,
         "TomTom": 5.93,
         "Aegon": 5.054,
         "ING": 8.39,
         "PostNL": 6.973,
         "SP500": 1312.62,
         "DJ": 469.53,
         "AEX": 353.17,
         "_deepnote_index_column": "2011-04-19T00:00:00.000000"
        },
        {
         "Shell": 25.55,
         "Philips": 20.52,
         "Heineken": 40.25,
         "TomTom": 6.25,
         "Aegon": 5.169,
         "ING": 8.72,
         "PostNL": 7.083,
         "SP500": 1330.36,
         "DJ": 477.79,
         "AEX": 359.87,
         "_deepnote_index_column": "2011-04-20T00:00:00.000000"
        },
        {
         "Shell": 25.73,
         "Philips": 20.09,
         "Heineken": 40.51,
         "TomTom": 6.28,
         "Aegon": 5.21,
         "ING": 8.73,
         "PostNL": 7.016,
         "SP500": 1337.38,
         "DJ": 482.93,
         "AEX": 359.01,
         "_deepnote_index_column": "2011-04-21T00:00:00.000000"
        },
        {
         "Shell": 25.73,
         "Philips": 20.09,
         "Heineken": 40.51,
         "TomTom": 6.28,
         "Aegon": 5.21,
         "ING": 8.73,
         "PostNL": 7.016,
         "SP500": 1335.25,
         "DJ": 480.76,
         "AEX": 359.01,
         "_deepnote_index_column": "2011-04-25T00:00:00.000000"
        },
        {
         "Shell": 25.77,
         "Philips": 20.28,
         "Heineken": 40.81,
         "TomTom": 6.31,
         "Aegon": 5.382,
         "ING": 8.79,
         "PostNL": 7.11,
         "SP500": 1347.24,
         "DJ": 485.42,
         "AEX": 359.55,
         "_deepnote_index_column": "2011-04-26T00:00:00.000000"
        },
        {
         "Shell": 26.05,
         "Philips": 20.22,
         "Heineken": 40.05,
         "TomTom": 6.11,
         "Aegon": 5.398,
         "ING": 8.78,
         "PostNL": 7.113,
         "SP500": 1355.66,
         "DJ": 489.01,
         "AEX": 359.71,
         "_deepnote_index_column": "2011-04-27T00:00:00.000000"
        },
        {
         "Shell": 26.12,
         "Philips": 20.09,
         "Heineken": 39.95,
         "TomTom": 6.06,
         "Aegon": 5.367,
         "ING": 8.84,
         "PostNL": 7.11,
         "SP500": 1360.48,
         "DJ": 502.74,
         "AEX": 359.49,
         "_deepnote_index_column": "2011-04-28T00:00:00.000000"
        },
        {
         "Shell": 26.08,
         "Philips": 20.02,
         "Heineken": 40.41,
         "TomTom": 6.11,
         "Aegon": 5.361,
         "ING": 8.9,
         "PostNL": 7.134,
         "SP500": 1363.61,
         "DJ": 502.48,
         "AEX": 359.94,
         "_deepnote_index_column": "2011-04-29T00:00:00.000000"
        },
        {
         "Shell": 26.09,
         "Philips": 20.18,
         "Heineken": 40.7,
         "TomTom": 6.11,
         "Aegon": 5.39,
         "ING": 9,
         "PostNL": 7.037,
         "SP500": 1361.22,
         "DJ": 501.74,
         "AEX": 361.56,
         "_deepnote_index_column": "2011-05-02T00:00:00.000000"
        },
        {
         "Shell": 25.84,
         "Philips": 20.55,
         "Heineken": 40.81,
         "TomTom": 6.06,
         "Aegon": 5.369,
         "ING": 8.95,
         "PostNL": 7.007,
         "SP500": 1356.62,
         "DJ": 497.76,
         "AEX": 360.42,
         "_deepnote_index_column": "2011-05-03T00:00:00.000000"
        },
        {
         "Shell": 25.32,
         "Philips": 20.42,
         "Heineken": 40.89,
         "TomTom": 6.01,
         "Aegon": 5.258,
         "ING": 8.78,
         "PostNL": 6.866,
         "SP500": 1347.32,
         "DJ": 493.36,
         "AEX": 355.91,
         "_deepnote_index_column": "2011-05-04T00:00:00.000000"
        },
        {
         "Shell": 25.15,
         "Philips": 20.18,
         "Heineken": 40.9,
         "TomTom": 5.98,
         "Aegon": 5.238,
         "ING": 8.93,
         "PostNL": 6.829,
         "SP500": 1335.1,
         "DJ": 486.59,
         "AEX": 354.82,
         "_deepnote_index_column": "2011-05-05T00:00:00.000000"
        },
        {
         "Shell": 25.18,
         "Philips": 20.52,
         "Heineken": 41.23,
         "TomTom": 6.07,
         "Aegon": 5.329,
         "ING": 8.98,
         "PostNL": 6.977,
         "SP500": 1340.2,
         "DJ": 488.32,
         "AEX": 359.12,
         "_deepnote_index_column": "2011-05-06T00:00:00.000000"
        },
        {
         "Shell": 25.11,
         "Philips": 20.3,
         "Heineken": 41.05,
         "TomTom": 6.04,
         "Aegon": 5.227,
         "ING": 8.59,
         "PostNL": 6.947,
         "SP500": 1346.29,
         "DJ": 487.76,
         "AEX": 355.93,
         "_deepnote_index_column": "2011-05-09T00:00:00.000000"
        },
        {
         "Shell": 25.57,
         "Philips": 20.38,
         "Heineken": 41.22,
         "TomTom": 6.2,
         "Aegon": 5.282,
         "ING": 8.96,
         "PostNL": 6.947,
         "SP500": 1357.16,
         "DJ": 492.29,
         "AEX": 361.05,
         "_deepnote_index_column": "2011-05-10T00:00:00.000000"
        },
        {
         "Shell": 25.34,
         "Philips": 20.7,
         "Heineken": 41.47,
         "TomTom": 6.2,
         "Aegon": 5.376,
         "ING": 8.95,
         "PostNL": 7.005,
         "SP500": 1342.08,
         "DJ": 489.04,
         "AEX": 360.55,
         "_deepnote_index_column": "2011-05-11T00:00:00.000000"
        },
        {
         "Shell": 24.85,
         "Philips": 20.57,
         "Heineken": 41.94,
         "TomTom": 6.19,
         "Aegon": 5.071,
         "ING": 8.78,
         "PostNL": 7.048,
         "SP500": 1348.65,
         "DJ": 491.31,
         "AEX": 357.52,
         "_deepnote_index_column": "2011-05-12T00:00:00.000000"
        },
        {
         "Shell": 24.57,
         "Philips": 20.52,
         "Heineken": 42.26,
         "TomTom": 6.09,
         "Aegon": 4.968,
         "ING": 8.63,
         "PostNL": 6.995,
         "SP500": 1337.77,
         "DJ": 483.47,
         "AEX": 354.86,
         "_deepnote_index_column": "2011-05-13T00:00:00.000000"
        },
        {
         "Shell": 24.45,
         "Philips": 20.24,
         "Heineken": 42.53,
         "TomTom": 6.07,
         "Aegon": 4.89,
         "ING": 8.53,
         "PostNL": 6.992,
         "SP500": 1329.47,
         "DJ": 482.11,
         "AEX": 352.3,
         "_deepnote_index_column": "2011-05-16T00:00:00.000000"
        },
        {
         "Shell": 24.2,
         "Philips": 19.83,
         "Heineken": 42.34,
         "TomTom": 5.91,
         "Aegon": 4.837,
         "ING": 8.37,
         "PostNL": 6.889,
         "SP500": 1328.98,
         "DJ": 483.09,
         "AEX": 347.72,
         "_deepnote_index_column": "2011-05-17T00:00:00.000000"
        },
        {
         "Shell": 24.48,
         "Philips": 19.59,
         "Heineken": 42.66,
         "TomTom": 5.9,
         "Aegon": 4.901,
         "ING": 8.4,
         "PostNL": 6.887,
         "SP500": 1340.68,
         "DJ": 480.65,
         "AEX": 349.1,
         "_deepnote_index_column": "2011-05-18T00:00:00.000000"
        },
        {
         "Shell": 24.57,
         "Philips": 19.8,
         "Heineken": 43.13,
         "TomTom": 5.91,
         "Aegon": 4.875,
         "ING": 8.41,
         "PostNL": 6.956,
         "SP500": 1343.6,
         "DJ": 484.52,
         "AEX": 350.84,
         "_deepnote_index_column": "2011-05-19T00:00:00.000000"
        },
        {
         "Shell": 24.54,
         "Philips": 19.51,
         "Heineken": 42.27,
         "TomTom": 5.89,
         "Aegon": 4.828,
         "ING": 8.31,
         "PostNL": 6.922,
         "SP500": 1333.27,
         "DJ": 476.79,
         "AEX": 348.24,
         "_deepnote_index_column": "2011-05-20T00:00:00.000000"
        },
        {
         "Shell": 24.08,
         "Philips": 19.04,
         "Heineken": 41.77,
         "TomTom": 5.67,
         "Aegon": 4.668,
         "ING": 8.13,
         "PostNL": 6.909,
         "SP500": 1317.37,
         "DJ": 468.53,
         "AEX": 342.46,
         "_deepnote_index_column": "2011-05-23T00:00:00.000000"
        },
        {
         "Shell": 24.29,
         "Philips": 19.04,
         "Heineken": 41.46,
         "TomTom": 5.66,
         "Aegon": 4.676,
         "ING": 8.12,
         "PostNL": 7.074,
         "SP500": 1316.28,
         "DJ": 466.77,
         "AEX": 343.2,
         "_deepnote_index_column": "2011-05-24T00:00:00.000000"
        },
        {
         "Shell": 24.4,
         "Philips": 19.05,
         "Heineken": 41.48,
         "TomTom": 5.65,
         "Aegon": 4.705,
         "ING": 8.28,
         "PostNL": 7.123,
         "SP500": 1320.47,
         "DJ": 468.08,
         "AEX": 344.91,
         "_deepnote_index_column": "2011-05-25T00:00:00.000000"
        },
        {
         "Shell": 24.66,
         "Philips": 19.23,
         "Heineken": 41.56,
         "TomTom": 5.57,
         "Aegon": 4.659,
         "ING": 8.24,
         "PostNL": 6.598,
         "SP500": 1325.69,
         "DJ": 471.74,
         "AEX": 344.47,
         "_deepnote_index_column": "2011-05-26T00:00:00.000000"
        },
        {
         "Shell": 24.59,
         "Philips": 19.01,
         "Heineken": 41.48,
         "TomTom": 5.67,
         "Aegon": 4.864,
         "ING": 8.35,
         "PostNL": 6.509,
         "SP500": 1331.1,
         "DJ": 469.82,
         "AEX": 346.06,
         "_deepnote_index_column": "2011-05-27T00:00:00.000000"
        },
        {
         "Shell": 24.66,
         "Philips": 19.06,
         "Heineken": 41.8,
         "TomTom": 5.76,
         "Aegon": 4.802,
         "ING": 8.28,
         "PostNL": 6.59,
         "SP500": 1331.1,
         "DJ": 469.82,
         "AEX": 346.2,
         "_deepnote_index_column": "2011-05-30T00:00:00.000000"
        },
        {
         "Shell": 24.77,
         "Philips": 19.27,
         "Heineken": 41.82,
         "TomTom": 5.74,
         "Aegon": 4.862,
         "ING": 8.38,
         "PostNL": 6.5,
         "SP500": 1345.2,
         "DJ": 472.82,
         "AEX": 349.44,
         "_deepnote_index_column": "2011-05-31T00:00:00.000000"
        },
        {
         "Shell": 24.52,
         "Philips": 19.05,
         "Heineken": 41.8,
         "TomTom": 5.69,
         "Aegon": 4.759,
         "ING": 8.19,
         "PostNL": 6.286,
         "SP500": 1314.55,
         "DJ": 456.28,
         "AEX": 345.95,
         "_deepnote_index_column": "2011-06-01T00:00:00.000000"
        },
        {
         "Shell": 24.05,
         "Philips": 18.71,
         "Heineken": 41.41,
         "TomTom": 5.59,
         "Aegon": 4.648,
         "ING": 8.12,
         "PostNL": 6.136,
         "SP500": 1312.94,
         "DJ": 459.36,
         "AEX": 340.64,
         "_deepnote_index_column": "2011-06-02T00:00:00.000000"
        },
        {
         "Shell": 23.98,
         "Philips": 18.55,
         "Heineken": 40.98,
         "TomTom": 5.54,
         "Aegon": 4.655,
         "ING": 8.19,
         "PostNL": 6.033,
         "SP500": 1300.16,
         "DJ": 452.61,
         "AEX": 340.24,
         "_deepnote_index_column": "2011-06-03T00:00:00.000000"
        },
        {
         "Shell": 23.93,
         "Philips": 18.41,
         "Heineken": 41.65,
         "TomTom": 5.62,
         "Aegon": 4.598,
         "ING": 8.08,
         "PostNL": 5.966,
         "SP500": 1286.17,
         "DJ": 444.75,
         "AEX": 339.18,
         "_deepnote_index_column": "2011-06-06T00:00:00.000000"
        },
        {
         "Shell": 23.82,
         "Philips": 18.43,
         "Heineken": 41.26,
         "TomTom": 5.55,
         "Aegon": 4.612,
         "ING": 8.14,
         "PostNL": 5.99,
         "SP500": 1284.94,
         "DJ": 444.31,
         "AEX": 338.93,
         "_deepnote_index_column": "2011-06-07T00:00:00.000000"
        },
        {
         "Shell": 23.86,
         "Philips": 18.1,
         "Heineken": 40.65,
         "TomTom": 5.48,
         "Aegon": 4.511,
         "ING": 8.06,
         "PostNL": 6.031,
         "SP500": 1279.56,
         "DJ": 441.3,
         "AEX": 335.65,
         "_deepnote_index_column": "2011-06-08T00:00:00.000000"
        },
        {
         "Shell": 24.23,
         "Philips": 18.02,
         "Heineken": 40.69,
         "TomTom": 5.55,
         "Aegon": 4.532,
         "ING": 8.12,
         "PostNL": 5.885,
         "SP500": 1289,
         "DJ": 444.84,
         "AEX": 338.04,
         "_deepnote_index_column": "2011-06-09T00:00:00.000000"
        },
        {
         "Shell": 24,
         "Philips": 17.68,
         "Heineken": 40.44,
         "TomTom": 5.44,
         "Aegon": 4.534,
         "ING": 7.93,
         "PostNL": 5.661,
         "SP500": 1270.98,
         "DJ": 437.88,
         "AEX": 333.83,
         "_deepnote_index_column": "2011-06-10T00:00:00.000000"
        }
       ],
       "rows_bottom": [
        {
         "Shell": 16.09,
         "Philips": 45.63,
         "Heineken": 88.08,
         "TomTom": 9.64,
         "Aegon": 3.496,
         "ING": 7.71,
         "PostNL": 3.4,
         "SP500": 3841.47,
         "DJ": 759.02,
         "AEX": 660.53,
         "_deepnote_index_column": "2021-01-22T00:00:00.000000"
        },
        {
         "Shell": 15.7,
         "Philips": 46.69,
         "Heineken": 87.1,
         "TomTom": 9.45,
         "Aegon": 3.346,
         "ING": 7.36,
         "PostNL": 3.436,
         "SP500": 3855.36,
         "DJ": 753.77,
         "AEX": 658.24,
         "_deepnote_index_column": "2021-01-25T00:00:00.000000"
        },
        {
         "Shell": 15.88,
         "Philips": 47.24,
         "Heineken": 87.64,
         "TomTom": 9.74,
         "Aegon": 3.428,
         "ING": 7.56,
         "PostNL": 3.439,
         "SP500": 3849.62,
         "DJ": 747.53,
         "AEX": 658.54,
         "_deepnote_index_column": "2021-01-26T00:00:00.000000"
        },
        {
         "Shell": 15.95,
         "Philips": 46.84,
         "Heineken": 86.56,
         "TomTom": 9.72,
         "Aegon": 3.425,
         "ING": 7.3,
         "PostNL": 3.245,
         "SP500": 3750.77,
         "DJ": 727.18,
         "AEX": 647.92,
         "_deepnote_index_column": "2021-01-27T00:00:00.000000"
        },
        {
         "Shell": 15.62,
         "Philips": 46.3,
         "Heineken": 87.86,
         "TomTom": 9.61,
         "Aegon": 3.469,
         "ING": 7.45,
         "PostNL": 3.311,
         "SP500": 3787.38,
         "DJ": 744.78,
         "AEX": 649,
         "_deepnote_index_column": "2021-01-28T00:00:00.000000"
        },
        {
         "Shell": 15.32,
         "Philips": 44.96,
         "Heineken": 85.94,
         "TomTom": 9.58,
         "Aegon": 3.402,
         "ING": 7.38,
         "PostNL": 3.405,
         "SP500": 3714.24,
         "DJ": 721.19,
         "AEX": 637.11,
         "_deepnote_index_column": "2021-01-29T00:00:00.000000"
        },
        {
         "Shell": 15.08,
         "Philips": 46.51,
         "Heineken": 87.1,
         "TomTom": 9.47,
         "Aegon": 3.433,
         "ING": 7.43,
         "PostNL": 3.439,
         "SP500": 3773.86,
         "DJ": 728.28,
         "AEX": 647.34,
         "_deepnote_index_column": "2021-02-01T00:00:00.000000"
        },
        {
         "Shell": 15.12,
         "Philips": 47.1,
         "Heineken": 89.6,
         "TomTom": 9.61,
         "Aegon": 3.522,
         "ING": 7.7,
         "PostNL": 3.412,
         "SP500": 3826.31,
         "DJ": 737.53,
         "AEX": 652.87,
         "_deepnote_index_column": "2021-02-02T00:00:00.000000"
        },
        {
         "Shell": 15.35,
         "Philips": 46.69,
         "Heineken": 89.38,
         "TomTom": 9.53,
         "Aegon": 3.52,
         "ING": 7.7,
         "PostNL": 3.424,
         "SP500": 3830.17,
         "DJ": 740.72,
         "AEX": 654.89,
         "_deepnote_index_column": "2021-02-03T00:00:00.000000"
        },
        {
         "Shell": 15.11,
         "Philips": 47.3,
         "Heineken": 90.58,
         "TomTom": 8.23,
         "Aegon": 3.6,
         "ING": 7.72,
         "PostNL": 3.408,
         "SP500": 3871.74,
         "DJ": 759.69,
         "AEX": 654.38,
         "_deepnote_index_column": "2021-02-04T00:00:00.000000"
        },
        {
         "Shell": 15.56,
         "Philips": 47.08,
         "Heineken": 90.74,
         "TomTom": 7.97,
         "Aegon": 3.627,
         "ING": 7.77,
         "PostNL": 3.487,
         "SP500": 3886.83,
         "DJ": 757.02,
         "AEX": 653.24,
         "_deepnote_index_column": "2021-02-05T00:00:00.000000"
        },
        {
         "Shell": 15.8,
         "Philips": 46.74,
         "Heineken": 88.64,
         "TomTom": 7.91,
         "Aegon": 3.624,
         "ING": 7.84,
         "PostNL": 3.543,
         "SP500": 3915.59,
         "DJ": 772.45,
         "AEX": 656.39,
         "_deepnote_index_column": "2021-02-08T00:00:00.000000"
        },
        {
         "Shell": 15.73,
         "Philips": 47.04,
         "Heineken": 89.04,
         "TomTom": 7.87,
         "Aegon": 3.667,
         "ING": 7.78,
         "PostNL": 3.578,
         "SP500": 3911.23,
         "DJ": 772.78,
         "AEX": 657.07,
         "_deepnote_index_column": "2021-02-09T00:00:00.000000"
        },
        {
         "Shell": 15.77,
         "Philips": 46.85,
         "Heineken": 84.5,
         "TomTom": 7.82,
         "Aegon": 3.64,
         "ING": 7.83,
         "PostNL": 3.562,
         "SP500": 3909.88,
         "DJ": 774.85,
         "AEX": 657.23,
         "_deepnote_index_column": "2021-02-10T00:00:00.000000"
        },
        {
         "Shell": 15.38,
         "Philips": 47.2,
         "Heineken": 86.44,
         "TomTom": 7.93,
         "Aegon": 3.749,
         "ING": 7.82,
         "PostNL": 3.59,
         "SP500": 3916.38,
         "DJ": 774.67,
         "AEX": 664.34,
         "_deepnote_index_column": "2021-02-11T00:00:00.000000"
        },
        {
         "Shell": 15.7,
         "Philips": 47.96,
         "Heineken": 86.04,
         "TomTom": 7.92,
         "Aegon": 3.737,
         "ING": 8.35,
         "PostNL": 3.574,
         "SP500": 3934.83,
         "DJ": 776.03,
         "AEX": 676.83,
         "_deepnote_index_column": "2021-02-12T00:00:00.000000"
        },
        {
         "Shell": 16.63,
         "Philips": 47.93,
         "Heineken": 86.56,
         "TomTom": 7.97,
         "Aegon": 3.834,
         "ING": 8.89,
         "PostNL": 3.573,
         "SP500": 3934.83,
         "DJ": 776.03,
         "AEX": 685.18,
         "_deepnote_index_column": "2021-02-15T00:00:00.000000"
        },
        {
         "Shell": 16.58,
         "Philips": 47.69,
         "Heineken": 85.9,
         "TomTom": 7.89,
         "Aegon": 3.857,
         "ING": 8.91,
         "PostNL": 3.559,
         "SP500": 3932.59,
         "DJ": 782.36,
         "AEX": 687.43,
         "_deepnote_index_column": "2021-02-16T00:00:00.000000"
        },
        {
         "Shell": 16.7,
         "Philips": 47.44,
         "Heineken": 85.88,
         "TomTom": 7.95,
         "Aegon": 3.864,
         "ING": 8.93,
         "PostNL": 3.535,
         "SP500": 3931.33,
         "DJ": 783.67,
         "AEX": 681.04,
         "_deepnote_index_column": "2021-02-17T00:00:00.000000"
        },
        {
         "Shell": 16.23,
         "Philips": 46.97,
         "Heineken": 86.62,
         "TomTom": 7.86,
         "Aegon": 3.795,
         "ING": 8.65,
         "PostNL": 3.54,
         "SP500": 3913.97,
         "DJ": 775.73,
         "AEX": 672.81,
         "_deepnote_index_column": "2021-02-18T00:00:00.000000"
        },
        {
         "Shell": 16.31,
         "Philips": 46.65,
         "Heineken": 86.36,
         "TomTom": 8,
         "Aegon": 3.937,
         "ING": 8.95,
         "PostNL": 3.632,
         "SP500": 3906.71,
         "DJ": 791.87,
         "AEX": 678.48,
         "_deepnote_index_column": "2021-02-19T00:00:00.000000"
        },
        {
         "Shell": 16.71,
         "Philips": 46.58,
         "Heineken": 85.66,
         "TomTom": 7.85,
         "Aegon": 4.052,
         "ING": 8.96,
         "PostNL": 3.556,
         "SP500": 3876.5,
         "DJ": 814.29,
         "AEX": 671.75,
         "_deepnote_index_column": "2021-02-22T00:00:00.000000"
        },
        {
         "Shell": 16.79,
         "Philips": 46.44,
         "Heineken": 85.5,
         "TomTom": 7.63,
         "Aegon": 4.027,
         "ING": 9.1,
         "PostNL": 3.484,
         "SP500": 3881.37,
         "DJ": 810.65,
         "AEX": 664.06,
         "_deepnote_index_column": "2021-02-23T00:00:00.000000"
        },
        {
         "Shell": 17.39,
         "Philips": 46.11,
         "Heineken": 85.82,
         "TomTom": 7.63,
         "Aegon": 4.048,
         "ING": 9.22,
         "PostNL": 3.51,
         "SP500": 3925.43,
         "DJ": 837.62,
         "AEX": 664.54,
         "_deepnote_index_column": "2021-02-24T00:00:00.000000"
        },
        {
         "Shell": 17.48,
         "Philips": 45.6,
         "Heineken": 84.22,
         "TomTom": 7.75,
         "Aegon": 4.014,
         "ING": 9.23,
         "PostNL": 3.522,
         "SP500": 3829.34,
         "DJ": 816.46,
         "AEX": 664.48,
         "_deepnote_index_column": "2021-02-25T00:00:00.000000"
        },
        {
         "Shell": 16.9,
         "Philips": 44.96,
         "Heineken": 81.7,
         "TomTom": 7.78,
         "Aegon": 3.956,
         "ING": 9.04,
         "PostNL": 3.523,
         "SP500": 3811.15,
         "DJ": 803.78,
         "AEX": 651.26,
         "_deepnote_index_column": "2021-02-26T00:00:00.000000"
        },
        {
         "Shell": 17.23,
         "Philips": 45.75,
         "Heineken": 82.92,
         "TomTom": 7.84,
         "Aegon": 4.046,
         "ING": 9.22,
         "PostNL": 3.652,
         "SP500": 3901.82,
         "DJ": 824.13,
         "AEX": 664.58,
         "_deepnote_index_column": "2021-03-01T00:00:00.000000"
        },
        {
         "Shell": 17.24,
         "Philips": 45.64,
         "Heineken": 81.76,
         "TomTom": 7.68,
         "Aegon": 4.05,
         "ING": 9.4,
         "PostNL": 3.595,
         "SP500": 3870.29,
         "DJ": 821.71,
         "AEX": 663.26,
         "_deepnote_index_column": "2021-03-02T00:00:00.000000"
        },
        {
         "Shell": 17.46,
         "Philips": 44.92,
         "Heineken": 81.6,
         "TomTom": 7.64,
         "Aegon": 4.193,
         "ING": 9.8,
         "PostNL": 3.649,
         "SP500": 3819.72,
         "DJ": 828.92,
         "AEX": 663.35,
         "_deepnote_index_column": "2021-03-03T00:00:00.000000"
        },
        {
         "Shell": 17.88,
         "Philips": 45.22,
         "Heineken": 85.92,
         "TomTom": 7.56,
         "Aegon": 4.128,
         "ING": 9.81,
         "PostNL": 3.626,
         "SP500": 3768.47,
         "DJ": 816.77,
         "AEX": 657.67,
         "_deepnote_index_column": "2021-03-04T00:00:00.000000"
        },
        {
         "Shell": 18.13,
         "Philips": 45.07,
         "Heineken": 87.2,
         "TomTom": 7.49,
         "Aegon": 4.074,
         "ING": 9.96,
         "PostNL": 3.6,
         "SP500": 3841.94,
         "DJ": 839.13,
         "AEX": 653.87,
         "_deepnote_index_column": "2021-03-05T00:00:00.000000"
        },
        {
         "Shell": 18.2,
         "Philips": 45.44,
         "Heineken": 88.9,
         "TomTom": 7.74,
         "Aegon": 4.273,
         "ING": 10.43,
         "PostNL": 3.717,
         "SP500": 3821.35,
         "DJ": 855.53,
         "AEX": 665.65,
         "_deepnote_index_column": "2021-03-08T00:00:00.000000"
        },
        {
         "Shell": 18.3,
         "Philips": 46.09,
         "Heineken": 89.96,
         "TomTom": 7.85,
         "Aegon": 4.292,
         "ING": 10.37,
         "PostNL": 3.775,
         "SP500": 3875.44,
         "DJ": 846.17,
         "AEX": 675.1,
         "_deepnote_index_column": "2021-03-09T00:00:00.000000"
        },
        {
         "Shell": 18.47,
         "Philips": 47.53,
         "Heineken": 91.16,
         "TomTom": 7.91,
         "Aegon": 4.24,
         "ING": 10.35,
         "PostNL": 3.658,
         "SP500": 3898.81,
         "DJ": 860.68,
         "AEX": 678.03,
         "_deepnote_index_column": "2021-03-10T00:00:00.000000"
        },
        {
         "Shell": 18.51,
         "Philips": 47.37,
         "Heineken": 90.1,
         "TomTom": 8.06,
         "Aegon": 4.165,
         "ING": 9.97,
         "PostNL": 3.666,
         "SP500": 3939.34,
         "DJ": 857.97,
         "AEX": 683.71,
         "_deepnote_index_column": "2021-03-11T00:00:00.000000"
        },
        {
         "Shell": 18.62,
         "Philips": 47,
         "Heineken": 90.68,
         "TomTom": 7.89,
         "Aegon": 4.195,
         "ING": 10.1,
         "PostNL": 3.64,
         "SP500": 3943.34,
         "DJ": 869.39,
         "AEX": 677.41,
         "_deepnote_index_column": "2021-03-12T00:00:00.000000"
        },
        {
         "Shell": 18.23,
         "Philips": 47.08,
         "Heineken": 91.4,
         "TomTom": 7.91,
         "Aegon": 4.119,
         "ING": 10.05,
         "PostNL": 3.79,
         "SP500": 3968.94,
         "DJ": 870.33,
         "AEX": 678.8,
         "_deepnote_index_column": "2021-03-15T00:00:00.000000"
        },
        {
         "Shell": 17.98,
         "Philips": 47.38,
         "Heineken": 90.92,
         "TomTom": 8,
         "Aegon": 4.107,
         "ING": 10.1,
         "PostNL": 3.874,
         "SP500": 3962.71,
         "DJ": 850.86,
         "AEX": 683.65,
         "_deepnote_index_column": "2021-03-16T00:00:00.000000"
        },
        {
         "Shell": 17.98,
         "Philips": 47.01,
         "Heineken": 90.92,
         "TomTom": 7.89,
         "Aegon": 4.081,
         "ING": 10.23,
         "PostNL": 3.925,
         "SP500": 3974.12,
         "DJ": 863.68,
         "AEX": 680.71,
         "_deepnote_index_column": "2021-03-17T00:00:00.000000"
        },
        {
         "Shell": 17.86,
         "Philips": 47.26,
         "Heineken": 90.14,
         "TomTom": 7.87,
         "Aegon": 4.155,
         "ING": 10.61,
         "PostNL": 3.98,
         "SP500": 3915.46,
         "DJ": 871.68,
         "AEX": 682.39,
         "_deepnote_index_column": "2021-03-18T00:00:00.000000"
        },
        {
         "Shell": 17.67,
         "Philips": 47.9,
         "Heineken": 90.02,
         "TomTom": 7.88,
         "Aegon": 4.036,
         "ING": 10.33,
         "PostNL": 3.967,
         "SP500": 3913.1,
         "DJ": 863.29,
         "AEX": 681.7,
         "_deepnote_index_column": "2021-03-19T00:00:00.000000"
        },
        {
         "Shell": 17.47,
         "Philips": 48.19,
         "Heineken": 89.06,
         "TomTom": 7.95,
         "Aegon": 3.956,
         "ING": 10.03,
         "PostNL": 3.984,
         "SP500": 3940.59,
         "DJ": 851.58,
         "AEX": 684.21,
         "_deepnote_index_column": "2021-03-22T00:00:00.000000"
        },
        {
         "Shell": 16.88,
         "Philips": 48.13,
         "Heineken": 88.88,
         "TomTom": 7.89,
         "Aegon": 3.865,
         "ING": 9.98,
         "PostNL": 3.904,
         "SP500": 3910.52,
         "DJ": 830.92,
         "AEX": 681.74,
         "_deepnote_index_column": "2021-03-23T00:00:00.000000"
        },
        {
         "Shell": 17.15,
         "Philips": 47.21,
         "Heineken": 87.92,
         "TomTom": 7.79,
         "Aegon": 3.929,
         "ING": 10.17,
         "PostNL": 3.868,
         "SP500": 3889.14,
         "DJ": 830.19,
         "AEX": 686.13,
         "_deepnote_index_column": "2021-03-24T00:00:00.000000"
        },
        {
         "Shell": 16.76,
         "Philips": 48.4,
         "Heineken": 86.86,
         "TomTom": 7.64,
         "Aegon": 4.007,
         "ING": 10.16,
         "PostNL": 3.89,
         "SP500": 3909.52,
         "DJ": 850.4,
         "AEX": 685.33,
         "_deepnote_index_column": "2021-03-25T00:00:00.000000"
        },
        {
         "Shell": 17.12,
         "Philips": 48.1,
         "Heineken": 87.48,
         "TomTom": 7.72,
         "Aegon": 4.008,
         "ING": 10.15,
         "PostNL": 3.955,
         "SP500": 3974.54,
         "DJ": 860.05,
         "AEX": 696.62,
         "_deepnote_index_column": "2021-03-26T00:00:00.000000"
        },
        {
         "Shell": 17.07,
         "Philips": 48.28,
         "Heineken": 88.48,
         "TomTom": 7.8,
         "Aegon": 4.013,
         "ING": 10.08,
         "PostNL": 4.099,
         "SP500": 3971.09,
         "DJ": 850.62,
         "AEX": 697.94,
         "_deepnote_index_column": "2021-03-29T00:00:00.000000"
        },
        {
         "Shell": 17.12,
         "Philips": 48.36,
         "Heineken": 88.6,
         "TomTom": 7.8,
         "Aegon": 4.144,
         "ING": 10.48,
         "PostNL": 4.161,
         "SP500": 3958.55,
         "DJ": 865.13,
         "AEX": 701.12,
         "_deepnote_index_column": "2021-03-30T00:00:00.000000"
        },
        {
         "Shell": 16.8,
         "Philips": 48.67,
         "Heineken": 87.62,
         "TomTom": 7.88,
         "Aegon": 4.05,
         "ING": 10.43,
         "PostNL": 4.135,
         "SP500": 3972.89,
         "DJ": 855.98,
         "AEX": 699.85,
         "_deepnote_index_column": "2021-03-31T00:00:00.000000"
        },
        {
         "Shell": 16.81,
         "Philips": 49.16,
         "Heineken": 88.36,
         "TomTom": 8.16,
         "Aegon": 4.082,
         "ING": 10.43,
         "PostNL": 4.129,
         "SP500": 4019.87,
         "DJ": 867.21,
         "AEX": 708.43,
         "_deepnote_index_column": "2021-04-01T00:00:00.000000"
        }
       ]
      },
      "text/plain": "            Shell  Philips  Heineken  TomTom  Aegon    ING  PostNL    SP500  \\\nDate                                                                          \n2011-04-01  25.91    22.84     38.81    6.22  5.490   9.18   7.812  1332.41   \n2011-04-04  25.95    22.32     39.02    6.24  5.478   9.08   7.876  1332.87   \n2011-04-05  25.91    22.00     39.45    6.16  5.497   9.00   7.939  1332.63   \n2011-04-06  25.93    21.88     39.10    6.17  5.562   9.15   8.007  1335.54   \n2011-04-07  25.80    21.92     39.15    6.27  5.530   9.11   7.859  1333.51   \n...           ...      ...       ...     ...    ...    ...     ...      ...   \n2021-03-26  17.12    48.10     87.48    7.72  4.008  10.15   3.955  3974.54   \n2021-03-29  17.07    48.28     88.48    7.80  4.013  10.08   4.099  3971.09   \n2021-03-30  17.12    48.36     88.60    7.80  4.144  10.48   4.161  3958.55   \n2021-03-31  16.80    48.67     87.62    7.88  4.050  10.43   4.135  3972.89   \n2021-04-01  16.81    49.16     88.36    8.16  4.082  10.43   4.129  4019.87   \n\n                DJ     AEX  \nDate                        \n2011-04-01  491.63  369.45  \n2011-04-04  495.76  369.01  \n2011-04-05  492.43  368.96  \n2011-04-06  498.40  369.64  \n2011-04-07  493.71  367.39  \n...            ...     ...  \n2021-03-26  860.05  696.62  \n2021-03-29  850.62  697.94  \n2021-03-30  865.13  701.12  \n2021-03-31  855.98  699.85  \n2021-04-01  867.21  708.43  \n\n[2582 rows x 10 columns]",
      "text/html": "<div>\n<style scoped>\n    .dataframe tbody tr th:only-of-type {\n        vertical-align: middle;\n    }\n\n    .dataframe tbody tr th {\n        vertical-align: top;\n    }\n\n    .dataframe thead th {\n        text-align: right;\n    }\n</style>\n<table border=\"1\" class=\"dataframe\">\n  <thead>\n    <tr style=\"text-align: right;\">\n      <th></th>\n      <th>Shell</th>\n      <th>Philips</th>\n      <th>Heineken</th>\n      <th>TomTom</th>\n      <th>Aegon</th>\n      <th>ING</th>\n      <th>PostNL</th>\n      <th>SP500</th>\n      <th>DJ</th>\n      <th>AEX</th>\n    </tr>\n    <tr>\n      <th>Date</th>\n      <th></th>\n      <th></th>\n      <th></th>\n      <th></th>\n      <th></th>\n      <th></th>\n      <th></th>\n      <th></th>\n      <th></th>\n      <th></th>\n    </tr>\n  </thead>\n  <tbody>\n    <tr>\n      <th>2011-04-01</th>\n      <td>25.91</td>\n      <td>22.84</td>\n      <td>38.81</td>\n      <td>6.22</td>\n      <td>5.490</td>\n      <td>9.18</td>\n      <td>7.812</td>\n      <td>1332.41</td>\n      <td>491.63</td>\n      <td>369.45</td>\n    </tr>\n    <tr>\n      <th>2011-04-04</th>\n      <td>25.95</td>\n      <td>22.32</td>\n      <td>39.02</td>\n      <td>6.24</td>\n      <td>5.478</td>\n      <td>9.08</td>\n      <td>7.876</td>\n      <td>1332.87</td>\n      <td>495.76</td>\n      <td>369.01</td>\n    </tr>\n    <tr>\n      <th>2011-04-05</th>\n      <td>25.91</td>\n      <td>22.00</td>\n      <td>39.45</td>\n      <td>6.16</td>\n      <td>5.497</td>\n      <td>9.00</td>\n      <td>7.939</td>\n      <td>1332.63</td>\n      <td>492.43</td>\n      <td>368.96</td>\n    </tr>\n    <tr>\n      <th>2011-04-06</th>\n      <td>25.93</td>\n      <td>21.88</td>\n      <td>39.10</td>\n      <td>6.17</td>\n      <td>5.562</td>\n      <td>9.15</td>\n      <td>8.007</td>\n      <td>1335.54</td>\n      <td>498.40</td>\n      <td>369.64</td>\n    </tr>\n    <tr>\n      <th>2011-04-07</th>\n      <td>25.80</td>\n      <td>21.92</td>\n      <td>39.15</td>\n      <td>6.27</td>\n      <td>5.530</td>\n      <td>9.11</td>\n      <td>7.859</td>\n      <td>1333.51</td>\n      <td>493.71</td>\n      <td>367.39</td>\n    </tr>\n    <tr>\n      <th>...</th>\n      <td>...</td>\n      <td>...</td>\n      <td>...</td>\n      <td>...</td>\n      <td>...</td>\n      <td>...</td>\n      <td>...</td>\n      <td>...</td>\n      <td>...</td>\n      <td>...</td>\n    </tr>\n    <tr>\n      <th>2021-03-26</th>\n      <td>17.12</td>\n      <td>48.10</td>\n      <td>87.48</td>\n      <td>7.72</td>\n      <td>4.008</td>\n      <td>10.15</td>\n      <td>3.955</td>\n      <td>3974.54</td>\n      <td>860.05</td>\n      <td>696.62</td>\n    </tr>\n    <tr>\n      <th>2021-03-29</th>\n      <td>17.07</td>\n      <td>48.28</td>\n      <td>88.48</td>\n      <td>7.80</td>\n      <td>4.013</td>\n      <td>10.08</td>\n      <td>4.099</td>\n      <td>3971.09</td>\n      <td>850.62</td>\n      <td>697.94</td>\n    </tr>\n    <tr>\n      <th>2021-03-30</th>\n      <td>17.12</td>\n      <td>48.36</td>\n      <td>88.60</td>\n      <td>7.80</td>\n      <td>4.144</td>\n      <td>10.48</td>\n      <td>4.161</td>\n      <td>3958.55</td>\n      <td>865.13</td>\n      <td>701.12</td>\n    </tr>\n    <tr>\n      <th>2021-03-31</th>\n      <td>16.80</td>\n      <td>48.67</td>\n      <td>87.62</td>\n      <td>7.88</td>\n      <td>4.050</td>\n      <td>10.43</td>\n      <td>4.135</td>\n      <td>3972.89</td>\n      <td>855.98</td>\n      <td>699.85</td>\n    </tr>\n    <tr>\n      <th>2021-04-01</th>\n      <td>16.81</td>\n      <td>49.16</td>\n      <td>88.36</td>\n      <td>8.16</td>\n      <td>4.082</td>\n      <td>10.43</td>\n      <td>4.129</td>\n      <td>4019.87</td>\n      <td>867.21</td>\n      <td>708.43</td>\n    </tr>\n  </tbody>\n</table>\n<p>2582 rows × 10 columns</p>\n</div>"
     },
     "metadata": {}
    }
   ]
  },
  {
   "cell_type": "code",
   "metadata": {
    "tags": [],
    "cell_id": "00012-a9814880-b31e-4259-b340-151a6123a2b0",
    "deepnote_to_be_reexecuted": false,
    "source_hash": "4498217",
    "execution_start": 1620145896018,
    "execution_millis": 4,
    "deepnote_cell_type": "code"
   },
   "source": "data.index=pd.to_datetime(data.index)",
   "execution_count": null,
   "outputs": []
  },
  {
   "cell_type": "code",
   "metadata": {
    "tags": [],
    "cell_id": "00015-00ebb8d9-370a-4d00-92e7-b95c62133aee",
    "deepnote_to_be_reexecuted": false,
    "source_hash": "58886485",
    "execution_start": 1620145940635,
    "execution_millis": 65,
    "deepnote_cell_type": "code"
   },
   "source": "data.to_csv('10assets.csv')",
   "execution_count": null,
   "outputs": []
  },
  {
   "cell_type": "code",
   "metadata": {
    "tags": [],
    "cell_id": "00016-bc9de5a5-0716-4c09-9d3e-e58c17de122b",
    "deepnote_to_be_reexecuted": false,
    "source_hash": "62b8948e",
    "execution_start": 1620411424515,
    "execution_millis": 3115,
    "deepnote_cell_type": "code"
   },
   "source": "\nApple = investpy.get_stock_historical_data(stock='AAPL',country='United States',\n                                          from_date='01/04/2011',to_date='01/04/2021')\nMicro = investpy.get_stock_historical_data(stock='MSFT',country='United States',\n                                          from_date='01/04/2011',to_date='01/04/2021')\ndf=pd.DataFrame({'AAPL':Apple.Close, 'MSFT':Micro.Close})\ndf=df.dropna()",
   "execution_count": null,
   "outputs": []
  },
  {
   "cell_type": "code",
   "metadata": {
    "tags": [],
    "cell_id": "00011-cd660212-0cda-4ea0-ad71-b042cca95b56",
    "deepnote_to_be_reexecuted": false,
    "source_hash": "7cbb8678",
    "execution_start": 1620411437365,
    "execution_millis": 13,
    "deepnote_cell_type": "code"
   },
   "source": "",
   "execution_count": null,
   "outputs": []
  },
  {
   "cell_type": "code",
   "metadata": {
    "tags": [],
    "cell_id": "00012-79a714ec-7e68-4c17-b8cb-068ec6ee7bc8",
    "deepnote_to_be_reexecuted": false,
    "source_hash": "f804c160",
    "execution_start": 1620411439213,
    "execution_millis": 80,
    "deepnote_cell_type": "code"
   },
   "source": "df",
   "execution_count": null,
   "outputs": [
    {
     "output_type": "execute_result",
     "execution_count": 7,
     "data": {
      "application/vnd.deepnote.dataframe.v2+json": {
       "row_count": 2518,
       "column_count": 2,
       "columns": [
        {
         "name": "AAPL",
         "dtype": "float64",
         "stats": {
          "unique_count": 1962,
          "nan_count": 0,
          "min": "11.26",
          "max": "143.16",
          "histogram": [
           {
            "bin_start": 11.26,
            "bin_end": 24.450000000000003,
            "count": 914
           },
           {
            "bin_start": 24.450000000000003,
            "bin_end": 37.64,
            "count": 658
           },
           {
            "bin_start": 37.64,
            "bin_end": 50.830000000000005,
            "count": 437
           },
           {
            "bin_start": 50.830000000000005,
            "bin_end": 64.02000000000001,
            "count": 168
           },
           {
            "bin_start": 64.02000000000001,
            "bin_end": 77.21000000000001,
            "count": 86
           },
           {
            "bin_start": 77.21000000000001,
            "bin_end": 90.40000000000002,
            "count": 60
           },
           {
            "bin_start": 90.40000000000002,
            "bin_end": 103.59000000000002,
            "count": 26
           },
           {
            "bin_start": 103.59000000000002,
            "bin_end": 116.78000000000002,
            "count": 53
           },
           {
            "bin_start": 116.78000000000002,
            "bin_end": 129.97,
            "count": 83
           },
           {
            "bin_start": 129.97,
            "bin_end": 143.16,
            "count": 33
           }
          ]
         }
        },
        {
         "name": "MSFT",
         "dtype": "float64",
         "stats": {
          "unique_count": 2173,
          "nan_count": 0,
          "min": "23.7",
          "max": "244.99",
          "histogram": [
           {
            "bin_start": 23.7,
            "bin_end": 45.829,
            "count": 991
           },
           {
            "bin_start": 45.829,
            "bin_end": 67.958,
            "count": 540
           },
           {
            "bin_start": 67.958,
            "bin_end": 90.087,
            "count": 192
           },
           {
            "bin_start": 90.087,
            "bin_end": 112.21600000000001,
            "count": 255
           },
           {
            "bin_start": 112.21600000000001,
            "bin_end": 134.345,
            "count": 96
           },
           {
            "bin_start": 134.345,
            "bin_end": 156.474,
            "count": 138
           },
           {
            "bin_start": 156.474,
            "bin_end": 178.603,
            "count": 62
           },
           {
            "bin_start": 178.603,
            "bin_end": 200.732,
            "count": 54
           },
           {
            "bin_start": 200.732,
            "bin_end": 222.861,
            "count": 129
           },
           {
            "bin_start": 222.861,
            "bin_end": 244.99,
            "count": 61
           }
          ]
         }
        },
        {
         "name": "_deepnote_index_column",
         "dtype": "datetime64[ns]"
        }
       ],
       "rows_top": [
        {
         "AAPL": 12.31,
         "MSFT": 25.48,
         "_deepnote_index_column": "2011-04-01T00:00:00.000000"
        },
        {
         "AAPL": 12.19,
         "MSFT": 25.55,
         "_deepnote_index_column": "2011-04-04T00:00:00.000000"
        },
        {
         "AAPL": 12.1,
         "MSFT": 25.78,
         "_deepnote_index_column": "2011-04-05T00:00:00.000000"
        },
        {
         "AAPL": 12.07,
         "MSFT": 26.15,
         "_deepnote_index_column": "2011-04-06T00:00:00.000000"
        },
        {
         "AAPL": 12.07,
         "MSFT": 26.2,
         "_deepnote_index_column": "2011-04-07T00:00:00.000000"
        },
        {
         "AAPL": 11.97,
         "MSFT": 26.07,
         "_deepnote_index_column": "2011-04-08T00:00:00.000000"
        },
        {
         "AAPL": 11.81,
         "MSFT": 25.98,
         "_deepnote_index_column": "2011-04-11T00:00:00.000000"
        },
        {
         "AAPL": 11.87,
         "MSFT": 25.64,
         "_deepnote_index_column": "2011-04-12T00:00:00.000000"
        },
        {
         "AAPL": 12,
         "MSFT": 25.63,
         "_deepnote_index_column": "2011-04-13T00:00:00.000000"
        },
        {
         "AAPL": 11.87,
         "MSFT": 25.42,
         "_deepnote_index_column": "2011-04-14T00:00:00.000000"
        },
        {
         "AAPL": 11.69,
         "MSFT": 25.37,
         "_deepnote_index_column": "2011-04-15T00:00:00.000000"
        },
        {
         "AAPL": 11.85,
         "MSFT": 25.08,
         "_deepnote_index_column": "2011-04-18T00:00:00.000000"
        },
        {
         "AAPL": 12.07,
         "MSFT": 25.15,
         "_deepnote_index_column": "2011-04-19T00:00:00.000000"
        },
        {
         "AAPL": 12.23,
         "MSFT": 25.76,
         "_deepnote_index_column": "2011-04-20T00:00:00.000000"
        },
        {
         "AAPL": 12.52,
         "MSFT": 25.52,
         "_deepnote_index_column": "2011-04-21T00:00:00.000000"
        },
        {
         "AAPL": 12.61,
         "MSFT": 25.61,
         "_deepnote_index_column": "2011-04-25T00:00:00.000000"
        },
        {
         "AAPL": 12.51,
         "MSFT": 26.19,
         "_deepnote_index_column": "2011-04-26T00:00:00.000000"
        },
        {
         "AAPL": 12.51,
         "MSFT": 26.38,
         "_deepnote_index_column": "2011-04-27T00:00:00.000000"
        },
        {
         "AAPL": 12.38,
         "MSFT": 26.71,
         "_deepnote_index_column": "2011-04-28T00:00:00.000000"
        },
        {
         "AAPL": 12.5,
         "MSFT": 25.92,
         "_deepnote_index_column": "2011-04-29T00:00:00.000000"
        },
        {
         "AAPL": 12.37,
         "MSFT": 25.66,
         "_deepnote_index_column": "2011-05-02T00:00:00.000000"
        },
        {
         "AAPL": 12.44,
         "MSFT": 25.81,
         "_deepnote_index_column": "2011-05-03T00:00:00.000000"
        },
        {
         "AAPL": 12.48,
         "MSFT": 26.06,
         "_deepnote_index_column": "2011-05-04T00:00:00.000000"
        },
        {
         "AAPL": 12.38,
         "MSFT": 25.79,
         "_deepnote_index_column": "2011-05-05T00:00:00.000000"
        },
        {
         "AAPL": 12.38,
         "MSFT": 25.87,
         "_deepnote_index_column": "2011-05-06T00:00:00.000000"
        },
        {
         "AAPL": 12.41,
         "MSFT": 25.83,
         "_deepnote_index_column": "2011-05-09T00:00:00.000000"
        },
        {
         "AAPL": 12.48,
         "MSFT": 25.67,
         "_deepnote_index_column": "2011-05-10T00:00:00.000000"
        },
        {
         "AAPL": 12.4,
         "MSFT": 25.36,
         "_deepnote_index_column": "2011-05-11T00:00:00.000000"
        },
        {
         "AAPL": 12.38,
         "MSFT": 25.32,
         "_deepnote_index_column": "2011-05-12T00:00:00.000000"
        },
        {
         "AAPL": 12.16,
         "MSFT": 25.03,
         "_deepnote_index_column": "2011-05-13T00:00:00.000000"
        },
        {
         "AAPL": 11.9,
         "MSFT": 24.57,
         "_deepnote_index_column": "2011-05-16T00:00:00.000000"
        },
        {
         "AAPL": 12,
         "MSFT": 24.52,
         "_deepnote_index_column": "2011-05-17T00:00:00.000000"
        },
        {
         "AAPL": 12.14,
         "MSFT": 24.69,
         "_deepnote_index_column": "2011-05-18T00:00:00.000000"
        },
        {
         "AAPL": 12.16,
         "MSFT": 24.71,
         "_deepnote_index_column": "2011-05-19T00:00:00.000000"
        },
        {
         "AAPL": 11.97,
         "MSFT": 24.49,
         "_deepnote_index_column": "2011-05-20T00:00:00.000000"
        },
        {
         "AAPL": 11.94,
         "MSFT": 24.17,
         "_deepnote_index_column": "2011-05-23T00:00:00.000000"
        },
        {
         "AAPL": 11.86,
         "MSFT": 24.15,
         "_deepnote_index_column": "2011-05-24T00:00:00.000000"
        },
        {
         "AAPL": 12.03,
         "MSFT": 24.19,
         "_deepnote_index_column": "2011-05-25T00:00:00.000000"
        },
        {
         "AAPL": 11.96,
         "MSFT": 24.67,
         "_deepnote_index_column": "2011-05-26T00:00:00.000000"
        },
        {
         "AAPL": 12.05,
         "MSFT": 24.76,
         "_deepnote_index_column": "2011-05-27T00:00:00.000000"
        },
        {
         "AAPL": 12.42,
         "MSFT": 25.01,
         "_deepnote_index_column": "2011-05-31T00:00:00.000000"
        },
        {
         "AAPL": 12.34,
         "MSFT": 24.43,
         "_deepnote_index_column": "2011-06-01T00:00:00.000000"
        },
        {
         "AAPL": 12.36,
         "MSFT": 24.22,
         "_deepnote_index_column": "2011-06-02T00:00:00.000000"
        },
        {
         "AAPL": 12.27,
         "MSFT": 23.91,
         "_deepnote_index_column": "2011-06-03T00:00:00.000000"
        },
        {
         "AAPL": 12.07,
         "MSFT": 24.01,
         "_deepnote_index_column": "2011-06-06T00:00:00.000000"
        },
        {
         "AAPL": 11.86,
         "MSFT": 24.06,
         "_deepnote_index_column": "2011-06-07T00:00:00.000000"
        },
        {
         "AAPL": 11.87,
         "MSFT": 23.94,
         "_deepnote_index_column": "2011-06-08T00:00:00.000000"
        },
        {
         "AAPL": 11.84,
         "MSFT": 23.96,
         "_deepnote_index_column": "2011-06-09T00:00:00.000000"
        },
        {
         "AAPL": 11.64,
         "MSFT": 23.7,
         "_deepnote_index_column": "2011-06-10T00:00:00.000000"
        },
        {
         "AAPL": 11.66,
         "MSFT": 24.04,
         "_deepnote_index_column": "2011-06-13T00:00:00.000000"
        },
        {
         "AAPL": 11.87,
         "MSFT": 24.22,
         "_deepnote_index_column": "2011-06-14T00:00:00.000000"
        },
        {
         "AAPL": 11.67,
         "MSFT": 23.74,
         "_deepnote_index_column": "2011-06-15T00:00:00.000000"
        },
        {
         "AAPL": 11.61,
         "MSFT": 24,
         "_deepnote_index_column": "2011-06-16T00:00:00.000000"
        },
        {
         "AAPL": 11.44,
         "MSFT": 24.26,
         "_deepnote_index_column": "2011-06-17T00:00:00.000000"
        },
        {
         "AAPL": 11.26,
         "MSFT": 24.47,
         "_deepnote_index_column": "2011-06-20T00:00:00.000000"
        },
        {
         "AAPL": 11.62,
         "MSFT": 24.76,
         "_deepnote_index_column": "2011-06-21T00:00:00.000000"
        },
        {
         "AAPL": 11.52,
         "MSFT": 24.65,
         "_deepnote_index_column": "2011-06-22T00:00:00.000000"
        },
        {
         "AAPL": 11.83,
         "MSFT": 24.63,
         "_deepnote_index_column": "2011-06-23T00:00:00.000000"
        },
        {
         "AAPL": 11.66,
         "MSFT": 24.3,
         "_deepnote_index_column": "2011-06-24T00:00:00.000000"
        },
        {
         "AAPL": 11.86,
         "MSFT": 25.2,
         "_deepnote_index_column": "2011-06-27T00:00:00.000000"
        },
        {
         "AAPL": 11.97,
         "MSFT": 25.8,
         "_deepnote_index_column": "2011-06-28T00:00:00.000000"
        },
        {
         "AAPL": 11.93,
         "MSFT": 25.62,
         "_deepnote_index_column": "2011-06-29T00:00:00.000000"
        },
        {
         "AAPL": 11.99,
         "MSFT": 26,
         "_deepnote_index_column": "2011-06-30T00:00:00.000000"
        },
        {
         "AAPL": 12.26,
         "MSFT": 26.02,
         "_deepnote_index_column": "2011-07-01T00:00:00.000000"
        },
        {
         "AAPL": 12.48,
         "MSFT": 26.03,
         "_deepnote_index_column": "2011-07-05T00:00:00.000000"
        },
        {
         "AAPL": 12.56,
         "MSFT": 26.33,
         "_deepnote_index_column": "2011-07-06T00:00:00.000000"
        },
        {
         "AAPL": 12.76,
         "MSFT": 26.77,
         "_deepnote_index_column": "2011-07-07T00:00:00.000000"
        },
        {
         "AAPL": 12.85,
         "MSFT": 26.92,
         "_deepnote_index_column": "2011-07-08T00:00:00.000000"
        },
        {
         "AAPL": 12.64,
         "MSFT": 26.63,
         "_deepnote_index_column": "2011-07-11T00:00:00.000000"
        },
        {
         "AAPL": 12.63,
         "MSFT": 26.54,
         "_deepnote_index_column": "2011-07-12T00:00:00.000000"
        },
        {
         "AAPL": 12.79,
         "MSFT": 26.63,
         "_deepnote_index_column": "2011-07-13T00:00:00.000000"
        },
        {
         "AAPL": 12.78,
         "MSFT": 26.47,
         "_deepnote_index_column": "2011-07-14T00:00:00.000000"
        },
        {
         "AAPL": 13.03,
         "MSFT": 26.78,
         "_deepnote_index_column": "2011-07-15T00:00:00.000000"
        },
        {
         "AAPL": 13.35,
         "MSFT": 26.59,
         "_deepnote_index_column": "2011-07-18T00:00:00.000000"
        },
        {
         "AAPL": 13.46,
         "MSFT": 27.54,
         "_deepnote_index_column": "2011-07-19T00:00:00.000000"
        },
        {
         "AAPL": 13.82,
         "MSFT": 27.06,
         "_deepnote_index_column": "2011-07-20T00:00:00.000000"
        },
        {
         "AAPL": 13.83,
         "MSFT": 27.09,
         "_deepnote_index_column": "2011-07-21T00:00:00.000000"
        },
        {
         "AAPL": 14.05,
         "MSFT": 27.53,
         "_deepnote_index_column": "2011-07-22T00:00:00.000000"
        },
        {
         "AAPL": 14.23,
         "MSFT": 27.91,
         "_deepnote_index_column": "2011-07-25T00:00:00.000000"
        },
        {
         "AAPL": 14.41,
         "MSFT": 28.08,
         "_deepnote_index_column": "2011-07-26T00:00:00.000000"
        },
        {
         "AAPL": 14.02,
         "MSFT": 27.33,
         "_deepnote_index_column": "2011-07-27T00:00:00.000000"
        },
        {
         "AAPL": 13.99,
         "MSFT": 27.72,
         "_deepnote_index_column": "2011-07-28T00:00:00.000000"
        },
        {
         "AAPL": 13.95,
         "MSFT": 27.4,
         "_deepnote_index_column": "2011-07-29T00:00:00.000000"
        },
        {
         "AAPL": 14.17,
         "MSFT": 27.27,
         "_deepnote_index_column": "2011-08-01T00:00:00.000000"
        },
        {
         "AAPL": 13.89,
         "MSFT": 26.8,
         "_deepnote_index_column": "2011-08-02T00:00:00.000000"
        },
        {
         "AAPL": 14.02,
         "MSFT": 26.92,
         "_deepnote_index_column": "2011-08-03T00:00:00.000000"
        },
        {
         "AAPL": 13.48,
         "MSFT": 25.94,
         "_deepnote_index_column": "2011-08-04T00:00:00.000000"
        },
        {
         "AAPL": 13.34,
         "MSFT": 25.68,
         "_deepnote_index_column": "2011-08-05T00:00:00.000000"
        },
        {
         "AAPL": 12.61,
         "MSFT": 24.48,
         "_deepnote_index_column": "2011-08-08T00:00:00.000000"
        },
        {
         "AAPL": 13.36,
         "MSFT": 25.58,
         "_deepnote_index_column": "2011-08-09T00:00:00.000000"
        },
        {
         "AAPL": 12.99,
         "MSFT": 24.2,
         "_deepnote_index_column": "2011-08-10T00:00:00.000000"
        },
        {
         "AAPL": 13.35,
         "MSFT": 25.19,
         "_deepnote_index_column": "2011-08-11T00:00:00.000000"
        },
        {
         "AAPL": 13.46,
         "MSFT": 25.1,
         "_deepnote_index_column": "2011-08-12T00:00:00.000000"
        },
        {
         "AAPL": 13.69,
         "MSFT": 25.51,
         "_deepnote_index_column": "2011-08-15T00:00:00.000000"
        },
        {
         "AAPL": 13.59,
         "MSFT": 25.35,
         "_deepnote_index_column": "2011-08-16T00:00:00.000000"
        },
        {
         "AAPL": 13.59,
         "MSFT": 25.25,
         "_deepnote_index_column": "2011-08-17T00:00:00.000000"
        },
        {
         "AAPL": 13.07,
         "MSFT": 24.67,
         "_deepnote_index_column": "2011-08-18T00:00:00.000000"
        },
        {
         "AAPL": 12.72,
         "MSFT": 24.05,
         "_deepnote_index_column": "2011-08-19T00:00:00.000000"
        },
        {
         "AAPL": 12.73,
         "MSFT": 23.98,
         "_deepnote_index_column": "2011-08-22T00:00:00.000000"
        },
        {
         "AAPL": 13.34,
         "MSFT": 24.72,
         "_deepnote_index_column": "2011-08-23T00:00:00.000000"
        },
        {
         "AAPL": 13.43,
         "MSFT": 24.9,
         "_deepnote_index_column": "2011-08-24T00:00:00.000000"
        },
        {
         "AAPL": 13.35,
         "MSFT": 24.57,
         "_deepnote_index_column": "2011-08-25T00:00:00.000000"
        },
        {
         "AAPL": 13.7,
         "MSFT": 25.25,
         "_deepnote_index_column": "2011-08-26T00:00:00.000000"
        },
        {
         "AAPL": 13.93,
         "MSFT": 25.84,
         "_deepnote_index_column": "2011-08-29T00:00:00.000000"
        },
        {
         "AAPL": 13.93,
         "MSFT": 26.23,
         "_deepnote_index_column": "2011-08-30T00:00:00.000000"
        },
        {
         "AAPL": 13.74,
         "MSFT": 26.6,
         "_deepnote_index_column": "2011-08-31T00:00:00.000000"
        },
        {
         "AAPL": 13.61,
         "MSFT": 26.21,
         "_deepnote_index_column": "2011-09-01T00:00:00.000000"
        },
        {
         "AAPL": 13.36,
         "MSFT": 25.8,
         "_deepnote_index_column": "2011-09-02T00:00:00.000000"
        },
        {
         "AAPL": 13.56,
         "MSFT": 25.51,
         "_deepnote_index_column": "2011-09-06T00:00:00.000000"
        },
        {
         "AAPL": 13.71,
         "MSFT": 26,
         "_deepnote_index_column": "2011-09-07T00:00:00.000000"
        },
        {
         "AAPL": 13.72,
         "MSFT": 26.22,
         "_deepnote_index_column": "2011-09-08T00:00:00.000000"
        },
        {
         "AAPL": 13.48,
         "MSFT": 25.74,
         "_deepnote_index_column": "2011-09-09T00:00:00.000000"
        },
        {
         "AAPL": 13.57,
         "MSFT": 25.89,
         "_deepnote_index_column": "2011-09-12T00:00:00.000000"
        },
        {
         "AAPL": 13.74,
         "MSFT": 26.04,
         "_deepnote_index_column": "2011-09-13T00:00:00.000000"
        },
        {
         "AAPL": 13.9,
         "MSFT": 26.5,
         "_deepnote_index_column": "2011-09-14T00:00:00.000000"
        },
        {
         "AAPL": 14.03,
         "MSFT": 26.99,
         "_deepnote_index_column": "2011-09-15T00:00:00.000000"
        },
        {
         "AAPL": 14.3,
         "MSFT": 27.12,
         "_deepnote_index_column": "2011-09-16T00:00:00.000000"
        },
        {
         "AAPL": 14.7,
         "MSFT": 27.21,
         "_deepnote_index_column": "2011-09-19T00:00:00.000000"
        },
        {
         "AAPL": 14.77,
         "MSFT": 26.98,
         "_deepnote_index_column": "2011-09-20T00:00:00.000000"
        },
        {
         "AAPL": 14.72,
         "MSFT": 25.99,
         "_deepnote_index_column": "2011-09-21T00:00:00.000000"
        },
        {
         "AAPL": 14.35,
         "MSFT": 25.06,
         "_deepnote_index_column": "2011-09-22T00:00:00.000000"
        },
        {
         "AAPL": 14.44,
         "MSFT": 25.06,
         "_deepnote_index_column": "2011-09-23T00:00:00.000000"
        },
        {
         "AAPL": 14.4,
         "MSFT": 25.44,
         "_deepnote_index_column": "2011-09-26T00:00:00.000000"
        },
        {
         "AAPL": 14.26,
         "MSFT": 25.67,
         "_deepnote_index_column": "2011-09-27T00:00:00.000000"
        },
        {
         "AAPL": 14.18,
         "MSFT": 25.57,
         "_deepnote_index_column": "2011-09-28T00:00:00.000000"
        },
        {
         "AAPL": 13.95,
         "MSFT": 25.45,
         "_deepnote_index_column": "2011-09-29T00:00:00.000000"
        },
        {
         "AAPL": 13.62,
         "MSFT": 24.89,
         "_deepnote_index_column": "2011-09-30T00:00:00.000000"
        },
        {
         "AAPL": 13.38,
         "MSFT": 24.53,
         "_deepnote_index_column": "2011-10-03T00:00:00.000000"
        },
        {
         "AAPL": 13.3,
         "MSFT": 25.34,
         "_deepnote_index_column": "2011-10-04T00:00:00.000000"
        },
        {
         "AAPL": 13.51,
         "MSFT": 25.89,
         "_deepnote_index_column": "2011-10-05T00:00:00.000000"
        },
        {
         "AAPL": 13.48,
         "MSFT": 26.34,
         "_deepnote_index_column": "2011-10-06T00:00:00.000000"
        },
        {
         "AAPL": 13.21,
         "MSFT": 26.25,
         "_deepnote_index_column": "2011-10-07T00:00:00.000000"
        },
        {
         "AAPL": 13.89,
         "MSFT": 26.94,
         "_deepnote_index_column": "2011-10-10T00:00:00.000000"
        },
        {
         "AAPL": 14.3,
         "MSFT": 27,
         "_deepnote_index_column": "2011-10-11T00:00:00.000000"
        },
        {
         "AAPL": 14.36,
         "MSFT": 26.96,
         "_deepnote_index_column": "2011-10-12T00:00:00.000000"
        },
        {
         "AAPL": 14.59,
         "MSFT": 27.18,
         "_deepnote_index_column": "2011-10-13T00:00:00.000000"
        },
        {
         "AAPL": 15.07,
         "MSFT": 27.27,
         "_deepnote_index_column": "2011-10-14T00:00:00.000000"
        },
        {
         "AAPL": 15,
         "MSFT": 26.98,
         "_deepnote_index_column": "2011-10-17T00:00:00.000000"
        },
        {
         "AAPL": 15.08,
         "MSFT": 27.31,
         "_deepnote_index_column": "2011-10-18T00:00:00.000000"
        },
        {
         "AAPL": 14.24,
         "MSFT": 27.13,
         "_deepnote_index_column": "2011-10-19T00:00:00.000000"
        },
        {
         "AAPL": 14.12,
         "MSFT": 27.04,
         "_deepnote_index_column": "2011-10-20T00:00:00.000000"
        },
        {
         "AAPL": 14.03,
         "MSFT": 27.16,
         "_deepnote_index_column": "2011-10-21T00:00:00.000000"
        },
        {
         "AAPL": 14.49,
         "MSFT": 27.19,
         "_deepnote_index_column": "2011-10-24T00:00:00.000000"
        },
        {
         "AAPL": 14.21,
         "MSFT": 26.81,
         "_deepnote_index_column": "2011-10-25T00:00:00.000000"
        },
        {
         "AAPL": 14.31,
         "MSFT": 26.59,
         "_deepnote_index_column": "2011-10-26T00:00:00.000000"
        },
        {
         "AAPL": 14.45,
         "MSFT": 27.25,
         "_deepnote_index_column": "2011-10-27T00:00:00.000000"
        },
        {
         "AAPL": 14.46,
         "MSFT": 26.98,
         "_deepnote_index_column": "2011-10-28T00:00:00.000000"
        },
        {
         "AAPL": 14.46,
         "MSFT": 26.63,
         "_deepnote_index_column": "2011-10-31T00:00:00.000000"
        },
        {
         "AAPL": 14.16,
         "MSFT": 25.99,
         "_deepnote_index_column": "2011-11-01T00:00:00.000000"
        },
        {
         "AAPL": 14.19,
         "MSFT": 26.01,
         "_deepnote_index_column": "2011-11-02T00:00:00.000000"
        },
        {
         "AAPL": 14.4,
         "MSFT": 26.53,
         "_deepnote_index_column": "2011-11-03T00:00:00.000000"
        },
        {
         "AAPL": 14.29,
         "MSFT": 26.25,
         "_deepnote_index_column": "2011-11-04T00:00:00.000000"
        },
        {
         "AAPL": 14.28,
         "MSFT": 26.8,
         "_deepnote_index_column": "2011-11-07T00:00:00.000000"
        },
        {
         "AAPL": 14.51,
         "MSFT": 27.16,
         "_deepnote_index_column": "2011-11-08T00:00:00.000000"
        },
        {
         "AAPL": 14.12,
         "MSFT": 26.2,
         "_deepnote_index_column": "2011-11-09T00:00:00.000000"
        },
        {
         "AAPL": 13.76,
         "MSFT": 26.28,
         "_deepnote_index_column": "2011-11-10T00:00:00.000000"
        },
        {
         "AAPL": 13.74,
         "MSFT": 26.91,
         "_deepnote_index_column": "2011-11-11T00:00:00.000000"
        },
        {
         "AAPL": 13.54,
         "MSFT": 26.76,
         "_deepnote_index_column": "2011-11-14T00:00:00.000000"
        },
        {
         "AAPL": 13.89,
         "MSFT": 26.74,
         "_deepnote_index_column": "2011-11-15T00:00:00.000000"
        },
        {
         "AAPL": 13.74,
         "MSFT": 26.07,
         "_deepnote_index_column": "2011-11-16T00:00:00.000000"
        },
        {
         "AAPL": 13.48,
         "MSFT": 25.54,
         "_deepnote_index_column": "2011-11-17T00:00:00.000000"
        },
        {
         "AAPL": 13.39,
         "MSFT": 25.3,
         "_deepnote_index_column": "2011-11-18T00:00:00.000000"
        },
        {
         "AAPL": 13.18,
         "MSFT": 25,
         "_deepnote_index_column": "2011-11-21T00:00:00.000000"
        },
        {
         "AAPL": 13.45,
         "MSFT": 24.79,
         "_deepnote_index_column": "2011-11-22T00:00:00.000000"
        },
        {
         "AAPL": 13.11,
         "MSFT": 24.47,
         "_deepnote_index_column": "2011-11-23T00:00:00.000000"
        },
        {
         "AAPL": 12.98,
         "MSFT": 24.3,
         "_deepnote_index_column": "2011-11-25T00:00:00.000000"
        },
        {
         "AAPL": 13.43,
         "MSFT": 24.87,
         "_deepnote_index_column": "2011-11-28T00:00:00.000000"
        },
        {
         "AAPL": 13.33,
         "MSFT": 24.84,
         "_deepnote_index_column": "2011-11-29T00:00:00.000000"
        },
        {
         "AAPL": 13.65,
         "MSFT": 25.58,
         "_deepnote_index_column": "2011-11-30T00:00:00.000000"
        },
        {
         "AAPL": 13.85,
         "MSFT": 25.28,
         "_deepnote_index_column": "2011-12-01T00:00:00.000000"
        },
        {
         "AAPL": 13.92,
         "MSFT": 25.22,
         "_deepnote_index_column": "2011-12-02T00:00:00.000000"
        },
        {
         "AAPL": 14.04,
         "MSFT": 25.7,
         "_deepnote_index_column": "2011-12-05T00:00:00.000000"
        },
        {
         "AAPL": 13.96,
         "MSFT": 25.66,
         "_deepnote_index_column": "2011-12-06T00:00:00.000000"
        },
        {
         "AAPL": 13.9,
         "MSFT": 25.6,
         "_deepnote_index_column": "2011-12-07T00:00:00.000000"
        },
        {
         "AAPL": 13.95,
         "MSFT": 25.4,
         "_deepnote_index_column": "2011-12-08T00:00:00.000000"
        },
        {
         "AAPL": 14.06,
         "MSFT": 25.7,
         "_deepnote_index_column": "2011-12-09T00:00:00.000000"
        },
        {
         "AAPL": 13.99,
         "MSFT": 25.51,
         "_deepnote_index_column": "2011-12-12T00:00:00.000000"
        },
        {
         "AAPL": 13.89,
         "MSFT": 25.76,
         "_deepnote_index_column": "2011-12-13T00:00:00.000000"
        },
        {
         "AAPL": 13.58,
         "MSFT": 25.59,
         "_deepnote_index_column": "2011-12-14T00:00:00.000000"
        },
        {
         "AAPL": 13.53,
         "MSFT": 25.56,
         "_deepnote_index_column": "2011-12-15T00:00:00.000000"
        },
        {
         "AAPL": 13.61,
         "MSFT": 26,
         "_deepnote_index_column": "2011-12-16T00:00:00.000000"
        },
        {
         "AAPL": 13.65,
         "MSFT": 25.53,
         "_deepnote_index_column": "2011-12-19T00:00:00.000000"
        },
        {
         "AAPL": 14.14,
         "MSFT": 26.02,
         "_deepnote_index_column": "2011-12-20T00:00:00.000000"
        },
        {
         "AAPL": 14.16,
         "MSFT": 25.76,
         "_deepnote_index_column": "2011-12-21T00:00:00.000000"
        },
        {
         "AAPL": 14.23,
         "MSFT": 25.81,
         "_deepnote_index_column": "2011-12-22T00:00:00.000000"
        },
        {
         "AAPL": 14.4,
         "MSFT": 26.03,
         "_deepnote_index_column": "2011-12-23T00:00:00.000000"
        },
        {
         "AAPL": 14.52,
         "MSFT": 26.04,
         "_deepnote_index_column": "2011-12-27T00:00:00.000000"
        },
        {
         "AAPL": 14.38,
         "MSFT": 25.82,
         "_deepnote_index_column": "2011-12-28T00:00:00.000000"
        },
        {
         "AAPL": 14.47,
         "MSFT": 26.02,
         "_deepnote_index_column": "2011-12-29T00:00:00.000000"
        },
        {
         "AAPL": 14.46,
         "MSFT": 25.96,
         "_deepnote_index_column": "2011-12-30T00:00:00.000000"
        },
        {
         "AAPL": 14.69,
         "MSFT": 26.77,
         "_deepnote_index_column": "2012-01-03T00:00:00.000000"
        },
        {
         "AAPL": 14.77,
         "MSFT": 27.4,
         "_deepnote_index_column": "2012-01-04T00:00:00.000000"
        },
        {
         "AAPL": 14.93,
         "MSFT": 27.68,
         "_deepnote_index_column": "2012-01-05T00:00:00.000000"
        },
        {
         "AAPL": 15.09,
         "MSFT": 28.11,
         "_deepnote_index_column": "2012-01-06T00:00:00.000000"
        },
        {
         "AAPL": 15.06,
         "MSFT": 27.74,
         "_deepnote_index_column": "2012-01-09T00:00:00.000000"
        },
        {
         "AAPL": 15.12,
         "MSFT": 27.84,
         "_deepnote_index_column": "2012-01-10T00:00:00.000000"
        },
        {
         "AAPL": 15.09,
         "MSFT": 27.72,
         "_deepnote_index_column": "2012-01-11T00:00:00.000000"
        },
        {
         "AAPL": 15.05,
         "MSFT": 28,
         "_deepnote_index_column": "2012-01-12T00:00:00.000000"
        },
        {
         "AAPL": 14.99,
         "MSFT": 28.25,
         "_deepnote_index_column": "2012-01-13T00:00:00.000000"
        },
        {
         "AAPL": 15.17,
         "MSFT": 28.25,
         "_deepnote_index_column": "2012-01-17T00:00:00.000000"
        },
        {
         "AAPL": 15.33,
         "MSFT": 28.23,
         "_deepnote_index_column": "2012-01-18T00:00:00.000000"
        },
        {
         "AAPL": 15.28,
         "MSFT": 28.12,
         "_deepnote_index_column": "2012-01-19T00:00:00.000000"
        },
        {
         "AAPL": 15.01,
         "MSFT": 29.71,
         "_deepnote_index_column": "2012-01-20T00:00:00.000000"
        },
        {
         "AAPL": 15.26,
         "MSFT": 29.73,
         "_deepnote_index_column": "2012-01-23T00:00:00.000000"
        },
        {
         "AAPL": 15.01,
         "MSFT": 29.34,
         "_deepnote_index_column": "2012-01-24T00:00:00.000000"
        },
        {
         "AAPL": 15.95,
         "MSFT": 29.56,
         "_deepnote_index_column": "2012-01-25T00:00:00.000000"
        },
        {
         "AAPL": 15.88,
         "MSFT": 29.5,
         "_deepnote_index_column": "2012-01-26T00:00:00.000000"
        },
        {
         "AAPL": 15.97,
         "MSFT": 29.23,
         "_deepnote_index_column": "2012-01-27T00:00:00.000000"
        },
        {
         "AAPL": 16.18,
         "MSFT": 29.61,
         "_deepnote_index_column": "2012-01-30T00:00:00.000000"
        },
        {
         "AAPL": 16.3,
         "MSFT": 29.53,
         "_deepnote_index_column": "2012-01-31T00:00:00.000000"
        },
        {
         "AAPL": 16.29,
         "MSFT": 29.89,
         "_deepnote_index_column": "2012-02-01T00:00:00.000000"
        },
        {
         "AAPL": 16.25,
         "MSFT": 29.95,
         "_deepnote_index_column": "2012-02-02T00:00:00.000000"
        },
        {
         "AAPL": 16.42,
         "MSFT": 30.24,
         "_deepnote_index_column": "2012-02-03T00:00:00.000000"
        },
        {
         "AAPL": 16.57,
         "MSFT": 30.2,
         "_deepnote_index_column": "2012-02-06T00:00:00.000000"
        },
        {
         "AAPL": 16.74,
         "MSFT": 30.35,
         "_deepnote_index_column": "2012-02-07T00:00:00.000000"
        },
        {
         "AAPL": 17.02,
         "MSFT": 30.66,
         "_deepnote_index_column": "2012-02-08T00:00:00.000000"
        },
        {
         "AAPL": 17.61,
         "MSFT": 30.77,
         "_deepnote_index_column": "2012-02-09T00:00:00.000000"
        },
        {
         "AAPL": 17.62,
         "MSFT": 30.5,
         "_deepnote_index_column": "2012-02-10T00:00:00.000000"
        },
        {
         "AAPL": 17.95,
         "MSFT": 30.58,
         "_deepnote_index_column": "2012-02-13T00:00:00.000000"
        },
        {
         "AAPL": 18.19,
         "MSFT": 30.25,
         "_deepnote_index_column": "2012-02-14T00:00:00.000000"
        },
        {
         "AAPL": 17.77,
         "MSFT": 30.05,
         "_deepnote_index_column": "2012-02-15T00:00:00.000000"
        },
        {
         "AAPL": 17.94,
         "MSFT": 31.29,
         "_deepnote_index_column": "2012-02-16T00:00:00.000000"
        },
        {
         "AAPL": 17.93,
         "MSFT": 31.25,
         "_deepnote_index_column": "2012-02-17T00:00:00.000000"
        },
        {
         "AAPL": 18.39,
         "MSFT": 31.44,
         "_deepnote_index_column": "2012-02-21T00:00:00.000000"
        },
        {
         "AAPL": 18.32,
         "MSFT": 31.27,
         "_deepnote_index_column": "2012-02-22T00:00:00.000000"
        },
        {
         "AAPL": 18.44,
         "MSFT": 31.37,
         "_deepnote_index_column": "2012-02-23T00:00:00.000000"
        },
        {
         "AAPL": 18.66,
         "MSFT": 31.48,
         "_deepnote_index_column": "2012-02-24T00:00:00.000000"
        },
        {
         "AAPL": 18.78,
         "MSFT": 31.35,
         "_deepnote_index_column": "2012-02-27T00:00:00.000000"
        },
        {
         "AAPL": 19.12,
         "MSFT": 31.87,
         "_deepnote_index_column": "2012-02-28T00:00:00.000000"
        },
        {
         "AAPL": 19.37,
         "MSFT": 31.74,
         "_deepnote_index_column": "2012-02-29T00:00:00.000000"
        },
        {
         "AAPL": 19.45,
         "MSFT": 32.29,
         "_deepnote_index_column": "2012-03-01T00:00:00.000000"
        },
        {
         "AAPL": 19.47,
         "MSFT": 32.08,
         "_deepnote_index_column": "2012-03-02T00:00:00.000000"
        },
        {
         "AAPL": 19.04,
         "MSFT": 31.8,
         "_deepnote_index_column": "2012-03-05T00:00:00.000000"
        },
        {
         "AAPL": 18.94,
         "MSFT": 31.55,
         "_deepnote_index_column": "2012-03-06T00:00:00.000000"
        },
        {
         "AAPL": 18.95,
         "MSFT": 31.84,
         "_deepnote_index_column": "2012-03-07T00:00:00.000000"
        },
        {
         "AAPL": 19.36,
         "MSFT": 32.01,
         "_deepnote_index_column": "2012-03-08T00:00:00.000000"
        },
        {
         "AAPL": 19.47,
         "MSFT": 31.99,
         "_deepnote_index_column": "2012-03-09T00:00:00.000000"
        },
        {
         "AAPL": 19.71,
         "MSFT": 32.04,
         "_deepnote_index_column": "2012-03-12T00:00:00.000000"
        },
        {
         "AAPL": 20.29,
         "MSFT": 32.67,
         "_deepnote_index_column": "2012-03-13T00:00:00.000000"
        },
        {
         "AAPL": 21.06,
         "MSFT": 32.77,
         "_deepnote_index_column": "2012-03-14T00:00:00.000000"
        },
        {
         "AAPL": 20.91,
         "MSFT": 32.85,
         "_deepnote_index_column": "2012-03-15T00:00:00.000000"
        },
        {
         "AAPL": 20.91,
         "MSFT": 32.6,
         "_deepnote_index_column": "2012-03-16T00:00:00.000000"
        },
        {
         "AAPL": 21.47,
         "MSFT": 32.2,
         "_deepnote_index_column": "2012-03-19T00:00:00.000000"
        },
        {
         "AAPL": 21.64,
         "MSFT": 31.99,
         "_deepnote_index_column": "2012-03-20T00:00:00.000000"
        },
        {
         "AAPL": 21.52,
         "MSFT": 31.91,
         "_deepnote_index_column": "2012-03-21T00:00:00.000000"
        },
        {
         "AAPL": 21.4,
         "MSFT": 32,
         "_deepnote_index_column": "2012-03-22T00:00:00.000000"
        },
        {
         "AAPL": 21.29,
         "MSFT": 32.01,
         "_deepnote_index_column": "2012-03-23T00:00:00.000000"
        },
        {
         "AAPL": 21.68,
         "MSFT": 32.59,
         "_deepnote_index_column": "2012-03-26T00:00:00.000000"
        },
        {
         "AAPL": 21.95,
         "MSFT": 32.52,
         "_deepnote_index_column": "2012-03-27T00:00:00.000000"
        },
        {
         "AAPL": 22.06,
         "MSFT": 32.19,
         "_deepnote_index_column": "2012-03-28T00:00:00.000000"
        }
       ],
       "rows_bottom": [
        {
         "AAPL": 65.62,
         "MSFT": 165.27,
         "_deepnote_index_column": "2020-04-06T00:00:00.000000"
        },
        {
         "AAPL": 64.86,
         "MSFT": 163.49,
         "_deepnote_index_column": "2020-04-07T00:00:00.000000"
        },
        {
         "AAPL": 66.52,
         "MSFT": 165.13,
         "_deepnote_index_column": "2020-04-08T00:00:00.000000"
        },
        {
         "AAPL": 67,
         "MSFT": 165.14,
         "_deepnote_index_column": "2020-04-09T00:00:00.000000"
        },
        {
         "AAPL": 68.31,
         "MSFT": 165.51,
         "_deepnote_index_column": "2020-04-13T00:00:00.000000"
        },
        {
         "AAPL": 71.76,
         "MSFT": 173.7,
         "_deepnote_index_column": "2020-04-14T00:00:00.000000"
        },
        {
         "AAPL": 71.11,
         "MSFT": 171.88,
         "_deepnote_index_column": "2020-04-15T00:00:00.000000"
        },
        {
         "AAPL": 71.67,
         "MSFT": 177.04,
         "_deepnote_index_column": "2020-04-16T00:00:00.000000"
        },
        {
         "AAPL": 70.7,
         "MSFT": 178.6,
         "_deepnote_index_column": "2020-04-17T00:00:00.000000"
        },
        {
         "AAPL": 69.23,
         "MSFT": 175.06,
         "_deepnote_index_column": "2020-04-20T00:00:00.000000"
        },
        {
         "AAPL": 67.09,
         "MSFT": 167.82,
         "_deepnote_index_column": "2020-04-21T00:00:00.000000"
        },
        {
         "AAPL": 69.03,
         "MSFT": 173.52,
         "_deepnote_index_column": "2020-04-22T00:00:00.000000"
        },
        {
         "AAPL": 68.76,
         "MSFT": 171.42,
         "_deepnote_index_column": "2020-04-23T00:00:00.000000"
        },
        {
         "AAPL": 70.74,
         "MSFT": 174.55,
         "_deepnote_index_column": "2020-04-24T00:00:00.000000"
        },
        {
         "AAPL": 70.79,
         "MSFT": 174.05,
         "_deepnote_index_column": "2020-04-27T00:00:00.000000"
        },
        {
         "AAPL": 69.64,
         "MSFT": 169.81,
         "_deepnote_index_column": "2020-04-28T00:00:00.000000"
        },
        {
         "AAPL": 71.93,
         "MSFT": 177.43,
         "_deepnote_index_column": "2020-04-29T00:00:00.000000"
        },
        {
         "AAPL": 73.45,
         "MSFT": 179.21,
         "_deepnote_index_column": "2020-04-30T00:00:00.000000"
        },
        {
         "AAPL": 72.27,
         "MSFT": 174.57,
         "_deepnote_index_column": "2020-05-01T00:00:00.000000"
        },
        {
         "AAPL": 73.29,
         "MSFT": 178.84,
         "_deepnote_index_column": "2020-05-04T00:00:00.000000"
        },
        {
         "AAPL": 74.39,
         "MSFT": 180.76,
         "_deepnote_index_column": "2020-05-05T00:00:00.000000"
        },
        {
         "AAPL": 75.16,
         "MSFT": 182.54,
         "_deepnote_index_column": "2020-05-06T00:00:00.000000"
        },
        {
         "AAPL": 75.93,
         "MSFT": 183.6,
         "_deepnote_index_column": "2020-05-07T00:00:00.000000"
        },
        {
         "AAPL": 77.53,
         "MSFT": 184.68,
         "_deepnote_index_column": "2020-05-08T00:00:00.000000"
        },
        {
         "AAPL": 78.75,
         "MSFT": 186.74,
         "_deepnote_index_column": "2020-05-11T00:00:00.000000"
        },
        {
         "AAPL": 77.85,
         "MSFT": 182.51,
         "_deepnote_index_column": "2020-05-12T00:00:00.000000"
        },
        {
         "AAPL": 76.91,
         "MSFT": 179.75,
         "_deepnote_index_column": "2020-05-13T00:00:00.000000"
        },
        {
         "AAPL": 77.39,
         "MSFT": 180.53,
         "_deepnote_index_column": "2020-05-14T00:00:00.000000"
        },
        {
         "AAPL": 76.93,
         "MSFT": 183.16,
         "_deepnote_index_column": "2020-05-15T00:00:00.000000"
        },
        {
         "AAPL": 78.74,
         "MSFT": 184.91,
         "_deepnote_index_column": "2020-05-18T00:00:00.000000"
        },
        {
         "AAPL": 78.29,
         "MSFT": 183.63,
         "_deepnote_index_column": "2020-05-19T00:00:00.000000"
        },
        {
         "AAPL": 79.81,
         "MSFT": 185.66,
         "_deepnote_index_column": "2020-05-20T00:00:00.000000"
        },
        {
         "AAPL": 79.21,
         "MSFT": 183.43,
         "_deepnote_index_column": "2020-05-21T00:00:00.000000"
        },
        {
         "AAPL": 79.72,
         "MSFT": 183.51,
         "_deepnote_index_column": "2020-05-22T00:00:00.000000"
        },
        {
         "AAPL": 79.18,
         "MSFT": 181.57,
         "_deepnote_index_column": "2020-05-26T00:00:00.000000"
        },
        {
         "AAPL": 79.53,
         "MSFT": 181.81,
         "_deepnote_index_column": "2020-05-27T00:00:00.000000"
        },
        {
         "AAPL": 79.56,
         "MSFT": 181.4,
         "_deepnote_index_column": "2020-05-28T00:00:00.000000"
        },
        {
         "AAPL": 79.49,
         "MSFT": 183.25,
         "_deepnote_index_column": "2020-05-29T00:00:00.000000"
        },
        {
         "AAPL": 80.46,
         "MSFT": 182.83,
         "_deepnote_index_column": "2020-06-01T00:00:00.000000"
        },
        {
         "AAPL": 80.83,
         "MSFT": 184.91,
         "_deepnote_index_column": "2020-06-02T00:00:00.000000"
        },
        {
         "AAPL": 81.28,
         "MSFT": 185.36,
         "_deepnote_index_column": "2020-06-03T00:00:00.000000"
        },
        {
         "AAPL": 80.58,
         "MSFT": 182.92,
         "_deepnote_index_column": "2020-06-04T00:00:00.000000"
        },
        {
         "AAPL": 82.88,
         "MSFT": 187.2,
         "_deepnote_index_column": "2020-06-05T00:00:00.000000"
        },
        {
         "AAPL": 83.36,
         "MSFT": 188.36,
         "_deepnote_index_column": "2020-06-08T00:00:00.000000"
        },
        {
         "AAPL": 86,
         "MSFT": 189.8,
         "_deepnote_index_column": "2020-06-09T00:00:00.000000"
        },
        {
         "AAPL": 88.21,
         "MSFT": 196.84,
         "_deepnote_index_column": "2020-06-10T00:00:00.000000"
        },
        {
         "AAPL": 83.97,
         "MSFT": 186.27,
         "_deepnote_index_column": "2020-06-11T00:00:00.000000"
        },
        {
         "AAPL": 84.7,
         "MSFT": 187.74,
         "_deepnote_index_column": "2020-06-12T00:00:00.000000"
        },
        {
         "AAPL": 85.75,
         "MSFT": 188.94,
         "_deepnote_index_column": "2020-06-15T00:00:00.000000"
        },
        {
         "AAPL": 88.02,
         "MSFT": 193.57,
         "_deepnote_index_column": "2020-06-16T00:00:00.000000"
        },
        {
         "AAPL": 87.9,
         "MSFT": 194.24,
         "_deepnote_index_column": "2020-06-17T00:00:00.000000"
        },
        {
         "AAPL": 87.93,
         "MSFT": 196.32,
         "_deepnote_index_column": "2020-06-18T00:00:00.000000"
        },
        {
         "AAPL": 87.43,
         "MSFT": 195.15,
         "_deepnote_index_column": "2020-06-19T00:00:00.000000"
        },
        {
         "AAPL": 89.72,
         "MSFT": 200.57,
         "_deepnote_index_column": "2020-06-22T00:00:00.000000"
        },
        {
         "AAPL": 91.63,
         "MSFT": 201.91,
         "_deepnote_index_column": "2020-06-23T00:00:00.000000"
        },
        {
         "AAPL": 90.01,
         "MSFT": 197.84,
         "_deepnote_index_column": "2020-06-24T00:00:00.000000"
        },
        {
         "AAPL": 91.21,
         "MSFT": 200.34,
         "_deepnote_index_column": "2020-06-25T00:00:00.000000"
        },
        {
         "AAPL": 88.41,
         "MSFT": 196.33,
         "_deepnote_index_column": "2020-06-26T00:00:00.000000"
        },
        {
         "AAPL": 90.44,
         "MSFT": 198.44,
         "_deepnote_index_column": "2020-06-29T00:00:00.000000"
        },
        {
         "AAPL": 91.2,
         "MSFT": 203.51,
         "_deepnote_index_column": "2020-06-30T00:00:00.000000"
        },
        {
         "AAPL": 91.03,
         "MSFT": 204.7,
         "_deepnote_index_column": "2020-07-01T00:00:00.000000"
        },
        {
         "AAPL": 91.03,
         "MSFT": 206.26,
         "_deepnote_index_column": "2020-07-02T00:00:00.000000"
        },
        {
         "AAPL": 93.46,
         "MSFT": 210.7,
         "_deepnote_index_column": "2020-07-06T00:00:00.000000"
        },
        {
         "AAPL": 93.17,
         "MSFT": 208.25,
         "_deepnote_index_column": "2020-07-07T00:00:00.000000"
        },
        {
         "AAPL": 95.34,
         "MSFT": 212.83,
         "_deepnote_index_column": "2020-07-08T00:00:00.000000"
        },
        {
         "AAPL": 95.68,
         "MSFT": 214.32,
         "_deepnote_index_column": "2020-07-09T00:00:00.000000"
        },
        {
         "AAPL": 95.92,
         "MSFT": 213.67,
         "_deepnote_index_column": "2020-07-10T00:00:00.000000"
        },
        {
         "AAPL": 95.48,
         "MSFT": 207.07,
         "_deepnote_index_column": "2020-07-13T00:00:00.000000"
        },
        {
         "AAPL": 97.06,
         "MSFT": 208.35,
         "_deepnote_index_column": "2020-07-14T00:00:00.000000"
        },
        {
         "AAPL": 97.72,
         "MSFT": 208.04,
         "_deepnote_index_column": "2020-07-15T00:00:00.000000"
        },
        {
         "AAPL": 96.52,
         "MSFT": 203.92,
         "_deepnote_index_column": "2020-07-16T00:00:00.000000"
        },
        {
         "AAPL": 96.33,
         "MSFT": 202.88,
         "_deepnote_index_column": "2020-07-17T00:00:00.000000"
        },
        {
         "AAPL": 98.36,
         "MSFT": 211.6,
         "_deepnote_index_column": "2020-07-20T00:00:00.000000"
        },
        {
         "AAPL": 97,
         "MSFT": 208.75,
         "_deepnote_index_column": "2020-07-21T00:00:00.000000"
        },
        {
         "AAPL": 97.27,
         "MSFT": 211.75,
         "_deepnote_index_column": "2020-07-22T00:00:00.000000"
        },
        {
         "AAPL": 92.85,
         "MSFT": 202.54,
         "_deepnote_index_column": "2020-07-23T00:00:00.000000"
        },
        {
         "AAPL": 92.61,
         "MSFT": 201.3,
         "_deepnote_index_column": "2020-07-24T00:00:00.000000"
        },
        {
         "AAPL": 94.81,
         "MSFT": 203.85,
         "_deepnote_index_column": "2020-07-27T00:00:00.000000"
        },
        {
         "AAPL": 93.25,
         "MSFT": 202.02,
         "_deepnote_index_column": "2020-07-28T00:00:00.000000"
        },
        {
         "AAPL": 95.04,
         "MSFT": 204.06,
         "_deepnote_index_column": "2020-07-29T00:00:00.000000"
        },
        {
         "AAPL": 96.19,
         "MSFT": 203.9,
         "_deepnote_index_column": "2020-07-30T00:00:00.000000"
        },
        {
         "AAPL": 106.26,
         "MSFT": 205.01,
         "_deepnote_index_column": "2020-07-31T00:00:00.000000"
        },
        {
         "AAPL": 108.94,
         "MSFT": 216.54,
         "_deepnote_index_column": "2020-08-03T00:00:00.000000"
        },
        {
         "AAPL": 109.67,
         "MSFT": 213.29,
         "_deepnote_index_column": "2020-08-04T00:00:00.000000"
        },
        {
         "AAPL": 110.06,
         "MSFT": 212.94,
         "_deepnote_index_column": "2020-08-05T00:00:00.000000"
        },
        {
         "AAPL": 113.9,
         "MSFT": 216.35,
         "_deepnote_index_column": "2020-08-06T00:00:00.000000"
        },
        {
         "AAPL": 111.11,
         "MSFT": 212.48,
         "_deepnote_index_column": "2020-08-07T00:00:00.000000"
        },
        {
         "AAPL": 112.73,
         "MSFT": 208.25,
         "_deepnote_index_column": "2020-08-10T00:00:00.000000"
        },
        {
         "AAPL": 109.38,
         "MSFT": 203.38,
         "_deepnote_index_column": "2020-08-11T00:00:00.000000"
        },
        {
         "AAPL": 113.01,
         "MSFT": 209.19,
         "_deepnote_index_column": "2020-08-12T00:00:00.000000"
        },
        {
         "AAPL": 115.01,
         "MSFT": 208.7,
         "_deepnote_index_column": "2020-08-13T00:00:00.000000"
        },
        {
         "AAPL": 114.91,
         "MSFT": 208.9,
         "_deepnote_index_column": "2020-08-14T00:00:00.000000"
        },
        {
         "AAPL": 114.61,
         "MSFT": 210.28,
         "_deepnote_index_column": "2020-08-17T00:00:00.000000"
        },
        {
         "AAPL": 115.56,
         "MSFT": 211.49,
         "_deepnote_index_column": "2020-08-18T00:00:00.000000"
        },
        {
         "AAPL": 115.71,
         "MSFT": 209.7,
         "_deepnote_index_column": "2020-08-19T00:00:00.000000"
        },
        {
         "AAPL": 118.28,
         "MSFT": 214.58,
         "_deepnote_index_column": "2020-08-20T00:00:00.000000"
        },
        {
         "AAPL": 124.37,
         "MSFT": 213.02,
         "_deepnote_index_column": "2020-08-21T00:00:00.000000"
        },
        {
         "AAPL": 125.86,
         "MSFT": 213.69,
         "_deepnote_index_column": "2020-08-24T00:00:00.000000"
        },
        {
         "AAPL": 124.82,
         "MSFT": 216.47,
         "_deepnote_index_column": "2020-08-25T00:00:00.000000"
        },
        {
         "AAPL": 126.52,
         "MSFT": 221.15,
         "_deepnote_index_column": "2020-08-26T00:00:00.000000"
        },
        {
         "AAPL": 125.01,
         "MSFT": 226.58,
         "_deepnote_index_column": "2020-08-27T00:00:00.000000"
        },
        {
         "AAPL": 124.81,
         "MSFT": 228.91,
         "_deepnote_index_column": "2020-08-28T00:00:00.000000"
        },
        {
         "AAPL": 129.04,
         "MSFT": 225.53,
         "_deepnote_index_column": "2020-08-31T00:00:00.000000"
        },
        {
         "AAPL": 134.18,
         "MSFT": 227.27,
         "_deepnote_index_column": "2020-09-01T00:00:00.000000"
        },
        {
         "AAPL": 131.4,
         "MSFT": 231.65,
         "_deepnote_index_column": "2020-09-02T00:00:00.000000"
        },
        {
         "AAPL": 120.88,
         "MSFT": 217.3,
         "_deepnote_index_column": "2020-09-03T00:00:00.000000"
        },
        {
         "AAPL": 120.96,
         "MSFT": 214.25,
         "_deepnote_index_column": "2020-09-04T00:00:00.000000"
        },
        {
         "AAPL": 112.82,
         "MSFT": 202.66,
         "_deepnote_index_column": "2020-09-08T00:00:00.000000"
        },
        {
         "AAPL": 117.32,
         "MSFT": 211.29,
         "_deepnote_index_column": "2020-09-09T00:00:00.000000"
        },
        {
         "AAPL": 113.49,
         "MSFT": 205.37,
         "_deepnote_index_column": "2020-09-10T00:00:00.000000"
        },
        {
         "AAPL": 112,
         "MSFT": 204.03,
         "_deepnote_index_column": "2020-09-11T00:00:00.000000"
        },
        {
         "AAPL": 115.36,
         "MSFT": 205.41,
         "_deepnote_index_column": "2020-09-14T00:00:00.000000"
        },
        {
         "AAPL": 115.54,
         "MSFT": 208.78,
         "_deepnote_index_column": "2020-09-15T00:00:00.000000"
        },
        {
         "AAPL": 112.13,
         "MSFT": 205.05,
         "_deepnote_index_column": "2020-09-16T00:00:00.000000"
        },
        {
         "AAPL": 110.34,
         "MSFT": 202.91,
         "_deepnote_index_column": "2020-09-17T00:00:00.000000"
        },
        {
         "AAPL": 106.84,
         "MSFT": 200.39,
         "_deepnote_index_column": "2020-09-18T00:00:00.000000"
        },
        {
         "AAPL": 110.08,
         "MSFT": 202.54,
         "_deepnote_index_column": "2020-09-21T00:00:00.000000"
        },
        {
         "AAPL": 111.81,
         "MSFT": 207.42,
         "_deepnote_index_column": "2020-09-22T00:00:00.000000"
        },
        {
         "AAPL": 107.12,
         "MSFT": 200.59,
         "_deepnote_index_column": "2020-09-23T00:00:00.000000"
        },
        {
         "AAPL": 108.22,
         "MSFT": 203.19,
         "_deepnote_index_column": "2020-09-24T00:00:00.000000"
        },
        {
         "AAPL": 112.28,
         "MSFT": 207.82,
         "_deepnote_index_column": "2020-09-25T00:00:00.000000"
        },
        {
         "AAPL": 114.96,
         "MSFT": 209.44,
         "_deepnote_index_column": "2020-09-28T00:00:00.000000"
        },
        {
         "AAPL": 114.09,
         "MSFT": 207.26,
         "_deepnote_index_column": "2020-09-29T00:00:00.000000"
        },
        {
         "AAPL": 115.81,
         "MSFT": 210.33,
         "_deepnote_index_column": "2020-09-30T00:00:00.000000"
        },
        {
         "AAPL": 116.79,
         "MSFT": 212.46,
         "_deepnote_index_column": "2020-10-01T00:00:00.000000"
        },
        {
         "AAPL": 113.02,
         "MSFT": 206.19,
         "_deepnote_index_column": "2020-10-02T00:00:00.000000"
        },
        {
         "AAPL": 116.5,
         "MSFT": 210.38,
         "_deepnote_index_column": "2020-10-05T00:00:00.000000"
        },
        {
         "AAPL": 113.16,
         "MSFT": 205.91,
         "_deepnote_index_column": "2020-10-06T00:00:00.000000"
        },
        {
         "AAPL": 115.08,
         "MSFT": 209.83,
         "_deepnote_index_column": "2020-10-07T00:00:00.000000"
        },
        {
         "AAPL": 114.97,
         "MSFT": 210.58,
         "_deepnote_index_column": "2020-10-08T00:00:00.000000"
        },
        {
         "AAPL": 116.97,
         "MSFT": 215.81,
         "_deepnote_index_column": "2020-10-09T00:00:00.000000"
        },
        {
         "AAPL": 124.4,
         "MSFT": 221.4,
         "_deepnote_index_column": "2020-10-12T00:00:00.000000"
        },
        {
         "AAPL": 121.1,
         "MSFT": 222.86,
         "_deepnote_index_column": "2020-10-13T00:00:00.000000"
        },
        {
         "AAPL": 121.19,
         "MSFT": 220.86,
         "_deepnote_index_column": "2020-10-14T00:00:00.000000"
        },
        {
         "AAPL": 120.71,
         "MSFT": 219.66,
         "_deepnote_index_column": "2020-10-15T00:00:00.000000"
        },
        {
         "AAPL": 119.02,
         "MSFT": 219.66,
         "_deepnote_index_column": "2020-10-16T00:00:00.000000"
        },
        {
         "AAPL": 115.98,
         "MSFT": 214.22,
         "_deepnote_index_column": "2020-10-19T00:00:00.000000"
        },
        {
         "AAPL": 117.51,
         "MSFT": 214.65,
         "_deepnote_index_column": "2020-10-20T00:00:00.000000"
        },
        {
         "AAPL": 116.87,
         "MSFT": 214.8,
         "_deepnote_index_column": "2020-10-21T00:00:00.000000"
        },
        {
         "AAPL": 115.75,
         "MSFT": 214.89,
         "_deepnote_index_column": "2020-10-22T00:00:00.000000"
        },
        {
         "AAPL": 115.04,
         "MSFT": 216.23,
         "_deepnote_index_column": "2020-10-23T00:00:00.000000"
        },
        {
         "AAPL": 115.05,
         "MSFT": 210.08,
         "_deepnote_index_column": "2020-10-26T00:00:00.000000"
        },
        {
         "AAPL": 116.6,
         "MSFT": 213.25,
         "_deepnote_index_column": "2020-10-27T00:00:00.000000"
        },
        {
         "AAPL": 111.2,
         "MSFT": 202.68,
         "_deepnote_index_column": "2020-10-28T00:00:00.000000"
        },
        {
         "AAPL": 115.32,
         "MSFT": 204.72,
         "_deepnote_index_column": "2020-10-29T00:00:00.000000"
        },
        {
         "AAPL": 108.86,
         "MSFT": 202.47,
         "_deepnote_index_column": "2020-10-30T00:00:00.000000"
        },
        {
         "AAPL": 108.77,
         "MSFT": 202.33,
         "_deepnote_index_column": "2020-11-02T00:00:00.000000"
        },
        {
         "AAPL": 110.44,
         "MSFT": 206.43,
         "_deepnote_index_column": "2020-11-03T00:00:00.000000"
        },
        {
         "AAPL": 114.95,
         "MSFT": 216.39,
         "_deepnote_index_column": "2020-11-04T00:00:00.000000"
        },
        {
         "AAPL": 119.03,
         "MSFT": 223.29,
         "_deepnote_index_column": "2020-11-05T00:00:00.000000"
        },
        {
         "AAPL": 118.69,
         "MSFT": 223.72,
         "_deepnote_index_column": "2020-11-06T00:00:00.000000"
        },
        {
         "AAPL": 116.32,
         "MSFT": 218.39,
         "_deepnote_index_column": "2020-11-09T00:00:00.000000"
        },
        {
         "AAPL": 115.97,
         "MSFT": 211.01,
         "_deepnote_index_column": "2020-11-10T00:00:00.000000"
        },
        {
         "AAPL": 119.49,
         "MSFT": 216.55,
         "_deepnote_index_column": "2020-11-11T00:00:00.000000"
        },
        {
         "AAPL": 119.21,
         "MSFT": 215.44,
         "_deepnote_index_column": "2020-11-12T00:00:00.000000"
        },
        {
         "AAPL": 119.26,
         "MSFT": 216.51,
         "_deepnote_index_column": "2020-11-13T00:00:00.000000"
        },
        {
         "AAPL": 120.3,
         "MSFT": 217.23,
         "_deepnote_index_column": "2020-11-16T00:00:00.000000"
        },
        {
         "AAPL": 119.39,
         "MSFT": 214.46,
         "_deepnote_index_column": "2020-11-17T00:00:00.000000"
        },
        {
         "AAPL": 118.03,
         "MSFT": 211.08,
         "_deepnote_index_column": "2020-11-18T00:00:00.000000"
        },
        {
         "AAPL": 118.64,
         "MSFT": 212.42,
         "_deepnote_index_column": "2020-11-19T00:00:00.000000"
        },
        {
         "AAPL": 117.34,
         "MSFT": 210.39,
         "_deepnote_index_column": "2020-11-20T00:00:00.000000"
        },
        {
         "AAPL": 113.85,
         "MSFT": 210.11,
         "_deepnote_index_column": "2020-11-23T00:00:00.000000"
        },
        {
         "AAPL": 115.17,
         "MSFT": 213.86,
         "_deepnote_index_column": "2020-11-24T00:00:00.000000"
        },
        {
         "AAPL": 116.03,
         "MSFT": 213.87,
         "_deepnote_index_column": "2020-11-25T00:00:00.000000"
        },
        {
         "AAPL": 116.59,
         "MSFT": 215.23,
         "_deepnote_index_column": "2020-11-27T00:00:00.000000"
        },
        {
         "AAPL": 119.05,
         "MSFT": 214.07,
         "_deepnote_index_column": "2020-11-30T00:00:00.000000"
        },
        {
         "AAPL": 122.72,
         "MSFT": 216.21,
         "_deepnote_index_column": "2020-12-01T00:00:00.000000"
        },
        {
         "AAPL": 123.08,
         "MSFT": 215.37,
         "_deepnote_index_column": "2020-12-02T00:00:00.000000"
        },
        {
         "AAPL": 122.94,
         "MSFT": 214.24,
         "_deepnote_index_column": "2020-12-03T00:00:00.000000"
        },
        {
         "AAPL": 122.25,
         "MSFT": 214.36,
         "_deepnote_index_column": "2020-12-04T00:00:00.000000"
        },
        {
         "AAPL": 123.75,
         "MSFT": 214.29,
         "_deepnote_index_column": "2020-12-07T00:00:00.000000"
        },
        {
         "AAPL": 124.38,
         "MSFT": 216.01,
         "_deepnote_index_column": "2020-12-08T00:00:00.000000"
        },
        {
         "AAPL": 121.78,
         "MSFT": 211.8,
         "_deepnote_index_column": "2020-12-09T00:00:00.000000"
        },
        {
         "AAPL": 123.24,
         "MSFT": 210.52,
         "_deepnote_index_column": "2020-12-10T00:00:00.000000"
        },
        {
         "AAPL": 122.41,
         "MSFT": 213.26,
         "_deepnote_index_column": "2020-12-11T00:00:00.000000"
        },
        {
         "AAPL": 121.78,
         "MSFT": 214.2,
         "_deepnote_index_column": "2020-12-14T00:00:00.000000"
        },
        {
         "AAPL": 127.88,
         "MSFT": 214.13,
         "_deepnote_index_column": "2020-12-15T00:00:00.000000"
        },
        {
         "AAPL": 127.81,
         "MSFT": 219.28,
         "_deepnote_index_column": "2020-12-16T00:00:00.000000"
        },
        {
         "AAPL": 128.7,
         "MSFT": 219.42,
         "_deepnote_index_column": "2020-12-17T00:00:00.000000"
        },
        {
         "AAPL": 126.65,
         "MSFT": 218.59,
         "_deepnote_index_column": "2020-12-18T00:00:00.000000"
        },
        {
         "AAPL": 128.23,
         "MSFT": 222.59,
         "_deepnote_index_column": "2020-12-21T00:00:00.000000"
        },
        {
         "AAPL": 131.88,
         "MSFT": 223.94,
         "_deepnote_index_column": "2020-12-22T00:00:00.000000"
        },
        {
         "AAPL": 130.96,
         "MSFT": 221.02,
         "_deepnote_index_column": "2020-12-23T00:00:00.000000"
        },
        {
         "AAPL": 131.97,
         "MSFT": 222.75,
         "_deepnote_index_column": "2020-12-24T00:00:00.000000"
        },
        {
         "AAPL": 136.69,
         "MSFT": 224.96,
         "_deepnote_index_column": "2020-12-28T00:00:00.000000"
        },
        {
         "AAPL": 134.87,
         "MSFT": 224.15,
         "_deepnote_index_column": "2020-12-29T00:00:00.000000"
        },
        {
         "AAPL": 133.72,
         "MSFT": 221.68,
         "_deepnote_index_column": "2020-12-30T00:00:00.000000"
        },
        {
         "AAPL": 132.69,
         "MSFT": 222.42,
         "_deepnote_index_column": "2020-12-31T00:00:00.000000"
        },
        {
         "AAPL": 129.41,
         "MSFT": 217.69,
         "_deepnote_index_column": "2021-01-04T00:00:00.000000"
        },
        {
         "AAPL": 131.01,
         "MSFT": 217.9,
         "_deepnote_index_column": "2021-01-05T00:00:00.000000"
        },
        {
         "AAPL": 126.6,
         "MSFT": 212.25,
         "_deepnote_index_column": "2021-01-06T00:00:00.000000"
        },
        {
         "AAPL": 130.92,
         "MSFT": 218.29,
         "_deepnote_index_column": "2021-01-07T00:00:00.000000"
        },
        {
         "AAPL": 132.05,
         "MSFT": 219.62,
         "_deepnote_index_column": "2021-01-08T00:00:00.000000"
        },
        {
         "AAPL": 128.98,
         "MSFT": 217.49,
         "_deepnote_index_column": "2021-01-11T00:00:00.000000"
        },
        {
         "AAPL": 128.8,
         "MSFT": 214.93,
         "_deepnote_index_column": "2021-01-12T00:00:00.000000"
        },
        {
         "AAPL": 130.89,
         "MSFT": 216.34,
         "_deepnote_index_column": "2021-01-13T00:00:00.000000"
        },
        {
         "AAPL": 128.91,
         "MSFT": 213.02,
         "_deepnote_index_column": "2021-01-14T00:00:00.000000"
        },
        {
         "AAPL": 127.14,
         "MSFT": 212.65,
         "_deepnote_index_column": "2021-01-15T00:00:00.000000"
        },
        {
         "AAPL": 127.83,
         "MSFT": 216.44,
         "_deepnote_index_column": "2021-01-19T00:00:00.000000"
        },
        {
         "AAPL": 132.03,
         "MSFT": 224.34,
         "_deepnote_index_column": "2021-01-20T00:00:00.000000"
        },
        {
         "AAPL": 136.87,
         "MSFT": 224.97,
         "_deepnote_index_column": "2021-01-21T00:00:00.000000"
        },
        {
         "AAPL": 139.07,
         "MSFT": 225.95,
         "_deepnote_index_column": "2021-01-22T00:00:00.000000"
        },
        {
         "AAPL": 142.92,
         "MSFT": 229.53,
         "_deepnote_index_column": "2021-01-25T00:00:00.000000"
        },
        {
         "AAPL": 143.16,
         "MSFT": 232.33,
         "_deepnote_index_column": "2021-01-26T00:00:00.000000"
        },
        {
         "AAPL": 142.06,
         "MSFT": 232.9,
         "_deepnote_index_column": "2021-01-27T00:00:00.000000"
        },
        {
         "AAPL": 137.09,
         "MSFT": 238.93,
         "_deepnote_index_column": "2021-01-28T00:00:00.000000"
        },
        {
         "AAPL": 131.96,
         "MSFT": 231.96,
         "_deepnote_index_column": "2021-01-29T00:00:00.000000"
        },
        {
         "AAPL": 134.14,
         "MSFT": 239.65,
         "_deepnote_index_column": "2021-02-01T00:00:00.000000"
        },
        {
         "AAPL": 134.99,
         "MSFT": 239.51,
         "_deepnote_index_column": "2021-02-02T00:00:00.000000"
        },
        {
         "AAPL": 133.94,
         "MSFT": 243,
         "_deepnote_index_column": "2021-02-03T00:00:00.000000"
        },
        {
         "AAPL": 137.39,
         "MSFT": 242.01,
         "_deepnote_index_column": "2021-02-04T00:00:00.000000"
        },
        {
         "AAPL": 136.76,
         "MSFT": 242.2,
         "_deepnote_index_column": "2021-02-05T00:00:00.000000"
        },
        {
         "AAPL": 136.91,
         "MSFT": 242.47,
         "_deepnote_index_column": "2021-02-08T00:00:00.000000"
        },
        {
         "AAPL": 136.01,
         "MSFT": 243.77,
         "_deepnote_index_column": "2021-02-09T00:00:00.000000"
        },
        {
         "AAPL": 135.39,
         "MSFT": 242.82,
         "_deepnote_index_column": "2021-02-10T00:00:00.000000"
        },
        {
         "AAPL": 135.13,
         "MSFT": 244.49,
         "_deepnote_index_column": "2021-02-11T00:00:00.000000"
        },
        {
         "AAPL": 135.37,
         "MSFT": 244.99,
         "_deepnote_index_column": "2021-02-12T00:00:00.000000"
        },
        {
         "AAPL": 133.19,
         "MSFT": 243.7,
         "_deepnote_index_column": "2021-02-16T00:00:00.000000"
        },
        {
         "AAPL": 130.84,
         "MSFT": 244.2,
         "_deepnote_index_column": "2021-02-17T00:00:00.000000"
        },
        {
         "AAPL": 129.71,
         "MSFT": 243.79,
         "_deepnote_index_column": "2021-02-18T00:00:00.000000"
        },
        {
         "AAPL": 129.87,
         "MSFT": 240.97,
         "_deepnote_index_column": "2021-02-19T00:00:00.000000"
        },
        {
         "AAPL": 126,
         "MSFT": 234.51,
         "_deepnote_index_column": "2021-02-22T00:00:00.000000"
        },
        {
         "AAPL": 125.86,
         "MSFT": 233.27,
         "_deepnote_index_column": "2021-02-23T00:00:00.000000"
        },
        {
         "AAPL": 125.35,
         "MSFT": 234.55,
         "_deepnote_index_column": "2021-02-24T00:00:00.000000"
        },
        {
         "AAPL": 120.99,
         "MSFT": 228.99,
         "_deepnote_index_column": "2021-02-25T00:00:00.000000"
        },
        {
         "AAPL": 121.26,
         "MSFT": 232.38,
         "_deepnote_index_column": "2021-02-26T00:00:00.000000"
        },
        {
         "AAPL": 127.79,
         "MSFT": 236.94,
         "_deepnote_index_column": "2021-03-01T00:00:00.000000"
        },
        {
         "AAPL": 125.12,
         "MSFT": 233.87,
         "_deepnote_index_column": "2021-03-02T00:00:00.000000"
        },
        {
         "AAPL": 122.06,
         "MSFT": 227.56,
         "_deepnote_index_column": "2021-03-03T00:00:00.000000"
        },
        {
         "AAPL": 120.13,
         "MSFT": 226.73,
         "_deepnote_index_column": "2021-03-04T00:00:00.000000"
        },
        {
         "AAPL": 121.42,
         "MSFT": 231.6,
         "_deepnote_index_column": "2021-03-05T00:00:00.000000"
        },
        {
         "AAPL": 116.36,
         "MSFT": 227.39,
         "_deepnote_index_column": "2021-03-08T00:00:00.000000"
        },
        {
         "AAPL": 121.08,
         "MSFT": 233.78,
         "_deepnote_index_column": "2021-03-09T00:00:00.000000"
        },
        {
         "AAPL": 119.98,
         "MSFT": 232.42,
         "_deepnote_index_column": "2021-03-10T00:00:00.000000"
        },
        {
         "AAPL": 121.96,
         "MSFT": 237.13,
         "_deepnote_index_column": "2021-03-11T00:00:00.000000"
        },
        {
         "AAPL": 121.03,
         "MSFT": 235.75,
         "_deepnote_index_column": "2021-03-12T00:00:00.000000"
        },
        {
         "AAPL": 123.99,
         "MSFT": 234.81,
         "_deepnote_index_column": "2021-03-15T00:00:00.000000"
        },
        {
         "AAPL": 125.57,
         "MSFT": 237.71,
         "_deepnote_index_column": "2021-03-16T00:00:00.000000"
        },
        {
         "AAPL": 124.76,
         "MSFT": 237.04,
         "_deepnote_index_column": "2021-03-17T00:00:00.000000"
        },
        {
         "AAPL": 120.53,
         "MSFT": 230.72,
         "_deepnote_index_column": "2021-03-18T00:00:00.000000"
        },
        {
         "AAPL": 119.99,
         "MSFT": 230.35,
         "_deepnote_index_column": "2021-03-19T00:00:00.000000"
        },
        {
         "AAPL": 123.39,
         "MSFT": 235.99,
         "_deepnote_index_column": "2021-03-22T00:00:00.000000"
        },
        {
         "AAPL": 122.54,
         "MSFT": 237.58,
         "_deepnote_index_column": "2021-03-23T00:00:00.000000"
        },
        {
         "AAPL": 120.09,
         "MSFT": 235.46,
         "_deepnote_index_column": "2021-03-24T00:00:00.000000"
        },
        {
         "AAPL": 120.59,
         "MSFT": 232.34,
         "_deepnote_index_column": "2021-03-25T00:00:00.000000"
        },
        {
         "AAPL": 121.21,
         "MSFT": 236.48,
         "_deepnote_index_column": "2021-03-26T00:00:00.000000"
        },
        {
         "AAPL": 121.39,
         "MSFT": 235.24,
         "_deepnote_index_column": "2021-03-29T00:00:00.000000"
        },
        {
         "AAPL": 119.9,
         "MSFT": 231.85,
         "_deepnote_index_column": "2021-03-30T00:00:00.000000"
        },
        {
         "AAPL": 122.15,
         "MSFT": 235.77,
         "_deepnote_index_column": "2021-03-31T00:00:00.000000"
        },
        {
         "AAPL": 123,
         "MSFT": 242.35,
         "_deepnote_index_column": "2021-04-01T00:00:00.000000"
        }
       ]
      },
      "text/plain": "              AAPL    MSFT\nDate                      \n2011-04-01   12.31   25.48\n2011-04-04   12.19   25.55\n2011-04-05   12.10   25.78\n2011-04-06   12.07   26.15\n2011-04-07   12.07   26.20\n...            ...     ...\n2021-03-26  121.21  236.48\n2021-03-29  121.39  235.24\n2021-03-30  119.90  231.85\n2021-03-31  122.15  235.77\n2021-04-01  123.00  242.35\n\n[2518 rows x 2 columns]",
      "text/html": "<div>\n<style scoped>\n    .dataframe tbody tr th:only-of-type {\n        vertical-align: middle;\n    }\n\n    .dataframe tbody tr th {\n        vertical-align: top;\n    }\n\n    .dataframe thead th {\n        text-align: right;\n    }\n</style>\n<table border=\"1\" class=\"dataframe\">\n  <thead>\n    <tr style=\"text-align: right;\">\n      <th></th>\n      <th>AAPL</th>\n      <th>MSFT</th>\n    </tr>\n    <tr>\n      <th>Date</th>\n      <th></th>\n      <th></th>\n    </tr>\n  </thead>\n  <tbody>\n    <tr>\n      <th>2011-04-01</th>\n      <td>12.31</td>\n      <td>25.48</td>\n    </tr>\n    <tr>\n      <th>2011-04-04</th>\n      <td>12.19</td>\n      <td>25.55</td>\n    </tr>\n    <tr>\n      <th>2011-04-05</th>\n      <td>12.10</td>\n      <td>25.78</td>\n    </tr>\n    <tr>\n      <th>2011-04-06</th>\n      <td>12.07</td>\n      <td>26.15</td>\n    </tr>\n    <tr>\n      <th>2011-04-07</th>\n      <td>12.07</td>\n      <td>26.20</td>\n    </tr>\n    <tr>\n      <th>...</th>\n      <td>...</td>\n      <td>...</td>\n    </tr>\n    <tr>\n      <th>2021-03-26</th>\n      <td>121.21</td>\n      <td>236.48</td>\n    </tr>\n    <tr>\n      <th>2021-03-29</th>\n      <td>121.39</td>\n      <td>235.24</td>\n    </tr>\n    <tr>\n      <th>2021-03-30</th>\n      <td>119.90</td>\n      <td>231.85</td>\n    </tr>\n    <tr>\n      <th>2021-03-31</th>\n      <td>122.15</td>\n      <td>235.77</td>\n    </tr>\n    <tr>\n      <th>2021-04-01</th>\n      <td>123.00</td>\n      <td>242.35</td>\n    </tr>\n  </tbody>\n</table>\n<p>2518 rows × 2 columns</p>\n</div>"
     },
     "metadata": {}
    }
   ]
  },
  {
   "cell_type": "code",
   "metadata": {
    "tags": [],
    "cell_id": "00015-ab646252-20ca-45dc-84f4-d6bba396815a",
    "deepnote_cell_type": "code"
   },
   "source": "",
   "execution_count": null,
   "outputs": []
  },
  {
   "cell_type": "markdown",
   "source": "<a style='text-decoration:none;line-height:16px;display:flex;color:#5B5B62;padding:10px;justify-content:end;' href='https://deepnote.com?utm_source=created-in-deepnote-cell&projectId=645d3506-ee2c-44c9-a8e9-fa6f8711818a' target=\"_blank\">\n<img alt='Created in deepnote.com' style='display:inline;max-height:16px;margin:0px;margin-right:7.5px;' src='data:image/svg+xml;base64,PD94bWwgdmVyc2lvbj0iMS4wIiBlbmNvZGluZz0iVVRGLTgiPz4KPHN2ZyB3aWR0aD0iODBweCIgaGVpZ2h0PSI4MHB4IiB2aWV3Qm94PSIwIDAgODAgODAiIHZlcnNpb249IjEuMSIgeG1sbnM9Imh0dHA6Ly93d3cudzMub3JnLzIwMDAvc3ZnIiB4bWxuczp4bGluaz0iaHR0cDovL3d3dy53My5vcmcvMTk5OS94bGluayI+CiAgICA8IS0tIEdlbmVyYXRvcjogU2tldGNoIDU0LjEgKDc2NDkwKSAtIGh0dHBzOi8vc2tldGNoYXBwLmNvbSAtLT4KICAgIDx0aXRsZT5Hcm91cCAzPC90aXRsZT4KICAgIDxkZXNjPkNyZWF0ZWQgd2l0aCBTa2V0Y2guPC9kZXNjPgogICAgPGcgaWQ9IkxhbmRpbmciIHN0cm9rZT0ibm9uZSIgc3Ryb2tlLXdpZHRoPSIxIiBmaWxsPSJub25lIiBmaWxsLXJ1bGU9ImV2ZW5vZGQiPgogICAgICAgIDxnIGlkPSJBcnRib2FyZCIgdHJhbnNmb3JtPSJ0cmFuc2xhdGUoLTEyMzUuMDAwMDAwLCAtNzkuMDAwMDAwKSI+CiAgICAgICAgICAgIDxnIGlkPSJHcm91cC0zIiB0cmFuc2Zvcm09InRyYW5zbGF0ZSgxMjM1LjAwMDAwMCwgNzkuMDAwMDAwKSI+CiAgICAgICAgICAgICAgICA8cG9seWdvbiBpZD0iUGF0aC0yMCIgZmlsbD0iIzAyNjVCNCIgcG9pbnRzPSIyLjM3NjIzNzYyIDgwIDM4LjA0NzY2NjcgODAgNTcuODIxNzgyMiA3My44MDU3NTkyIDU3LjgyMTc4MjIgMzIuNzU5MjczOSAzOS4xNDAyMjc4IDMxLjY4MzE2ODMiPjwvcG9seWdvbj4KICAgICAgICAgICAgICAgIDxwYXRoIGQ9Ik0zNS4wMDc3MTgsODAgQzQyLjkwNjIwMDcsNzYuNDU0OTM1OCA0Ny41NjQ5MTY3LDcxLjU0MjI2NzEgNDguOTgzODY2LDY1LjI2MTk5MzkgQzUxLjExMjI4OTksNTUuODQxNTg0MiA0MS42NzcxNzk1LDQ5LjIxMjIyODQgMjUuNjIzOTg0Niw0OS4yMTIyMjg0IEMyNS40ODQ5Mjg5LDQ5LjEyNjg0NDggMjkuODI2MTI5Niw0My4yODM4MjQ4IDM4LjY0NzU4NjksMzEuNjgzMTY4MyBMNzIuODcxMjg3MSwzMi41NTQ0MjUgTDY1LjI4MDk3Myw2Ny42NzYzNDIxIEw1MS4xMTIyODk5LDc3LjM3NjE0NCBMMzUuMDA3NzE4LDgwIFoiIGlkPSJQYXRoLTIyIiBmaWxsPSIjMDAyODY4Ij48L3BhdGg+CiAgICAgICAgICAgICAgICA8cGF0aCBkPSJNMCwzNy43MzA0NDA1IEwyNy4xMTQ1MzcsMC4yNTcxMTE0MzYgQzYyLjM3MTUxMjMsLTEuOTkwNzE3MDEgODAsMTAuNTAwMzkyNyA4MCwzNy43MzA0NDA1IEM4MCw2NC45NjA0ODgyIDY0Ljc3NjUwMzgsNzkuMDUwMzQxNCAzNC4zMjk1MTEzLDgwIEM0Ny4wNTUzNDg5LDc3LjU2NzA4MDggNTMuNDE4MjY3Nyw3MC4zMTM2MTAzIDUzLjQxODI2NzcsNTguMjM5NTg4NSBDNTMuNDE4MjY3Nyw0MC4xMjg1NTU3IDM2LjMwMzk1NDQsMzcuNzMwNDQwNSAyNS4yMjc0MTcsMzcuNzMwNDQwNSBDMTcuODQzMDU4NiwzNy43MzA0NDA1IDkuNDMzOTE5NjYsMzcuNzMwNDQwNSAwLDM3LjczMDQ0MDUgWiIgaWQ9IlBhdGgtMTkiIGZpbGw9IiMzNzkzRUYiPjwvcGF0aD4KICAgICAgICAgICAgPC9nPgogICAgICAgIDwvZz4KICAgIDwvZz4KPC9zdmc+' > </img>\nCreated in <span style='font-weight:600;margin-left:4px;'>Deepnote</span></a>",
   "metadata": {
    "tags": [],
    "created_in_deepnote_cell": true,
    "deepnote_cell_type": "markdown"
   }
  }
 ],
 "nbformat": 4,
 "nbformat_minor": 2,
 "metadata": {
  "orig_nbformat": 2,
  "deepnote": {
   "is_reactive": false
  },
  "deepnote_notebook_id": "61c9640a-96c9-4782-9212-b3dbd1e6d2b5",
  "deepnote_execution_queue": []
 }
}