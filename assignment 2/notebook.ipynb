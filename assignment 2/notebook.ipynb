{
  "cells": [
    {
      "cell_type": "markdown",
      "source": "## Instruction\n1. Documentation\n2. Theoretical assessment: check loss operator(what stock/index they use,linearization...)\n \n check model assumption(student t/ normal)\n3. Quantitative assessment: Comput VaR using the recommended model, Back testing\n\n requirement: adequate, replicable\n\n4. Limitation, comments\n\n5. Final result\n",
      "metadata": {
        "tags": [],
        "cell_id": "00000-40077d6e-17a3-4d3e-86de-9cfc9452d8b4",
        "deepnote_cell_type": "markdown"
      }
    },
    {
      "cell_type": "markdown",
      "source": "## Check list\n1. Best model: FHS\n2. Back testing, repicate the number of violations & statistical testing (test binomial) binomial? bernolli?\n3. Compare our result in 2) with their result in Table2&3 (total violation number and P-value, violation clustering) Table7 yearly violations\n4. \"VaR exceedings are a point process, they are Poisson distributed.\" ???",
      "metadata": {
        "tags": [],
        "cell_id": "00001-2f626a12-465e-475d-88e9-89c8c46d80d2",
        "deepnote_cell_type": "markdown"
      }
    },
    {
      "cell_type": "code",
      "metadata": {
        "tags": [],
        "cell_id": "00002-2057b855-3031-41a5-9e97-ef527a87c295",
        "deepnote_to_be_reexecuted": false,
        "source_hash": "5a54eb10",
        "execution_start": 1619905228547,
        "execution_millis": 6957,
        "deepnote_cell_type": "code"
      },
      "source": "!pip install statsmodels==0.12.2",
      "execution_count": null,
      "outputs": [
        {
          "name": "stdout",
          "text": "Collecting statsmodels==0.12.2\n  Downloading statsmodels-0.12.2-cp37-cp37m-manylinux1_x86_64.whl (9.5 MB)\n\u001b[K     |████████████████████████████████| 9.5 MB 21.2 MB/s \n\u001b[?25hRequirement already satisfied: pandas>=0.21 in /shared-libs/python3.7/py/lib/python3.7/site-packages (from statsmodels==0.12.2) (1.2.4)\nCollecting patsy>=0.5\n  Downloading patsy-0.5.1-py2.py3-none-any.whl (231 kB)\n\u001b[K     |████████████████████████████████| 231 kB 77.1 MB/s \n\u001b[?25hRequirement already satisfied: scipy>=1.1 in /shared-libs/python3.7/py/lib/python3.7/site-packages (from statsmodels==0.12.2) (1.6.2)\nRequirement already satisfied: numpy>=1.15 in /shared-libs/python3.7/py/lib/python3.7/site-packages (from statsmodels==0.12.2) (1.19.5)\nRequirement already satisfied: pytz>=2017.3 in /shared-libs/python3.7/py/lib/python3.7/site-packages (from pandas>=0.21->statsmodels==0.12.2) (2021.1)\nRequirement already satisfied: python-dateutil>=2.7.3 in /shared-libs/python3.7/py-core/lib/python3.7/site-packages (from pandas>=0.21->statsmodels==0.12.2) (2.8.1)\nRequirement already satisfied: six in /shared-libs/python3.7/py-core/lib/python3.7/site-packages (from patsy>=0.5->statsmodels==0.12.2) (1.15.0)\nInstalling collected packages: patsy, statsmodels\nSuccessfully installed patsy-0.5.1 statsmodels-0.12.2\n\u001b[33mWARNING: You are using pip version 21.0.1; however, version 21.1.1 is available.\nYou should consider upgrading via the '/root/venv/bin/python -m pip install --upgrade pip' command.\u001b[0m\n",
          "output_type": "stream"
        }
      ]
    },
    {
      "cell_type": "code",
      "metadata": {
        "tags": [],
        "cell_id": "00000-a1e7d203-b716-44c1-8546-13cd591b7f9e",
        "deepnote_to_be_reexecuted": false,
        "source_hash": "55acfa56",
        "execution_start": 1619948535384,
        "execution_millis": 221,
        "deepnote_cell_type": "code"
      },
      "source": "import pandas as pd\nimport numpy as np\nimport investpy\nimport scipy.stats as stats\nimport matplotlib.pyplot as plt\nimport statsmodels.api as sm\n",
      "outputs": [
        {
          "output_type": "error",
          "ename": "ModuleNotFoundError",
          "evalue": "No module named 'investpy'",
          "traceback": [
            "\u001b[0;31m---------------------------------------------------------------------------\u001b[0m",
            "\u001b[0;31mModuleNotFoundError\u001b[0m                       Traceback (most recent call last)",
            "\u001b[0;32m<ipython-input-1-d08b1866d114>\u001b[0m in \u001b[0;36m<module>\u001b[0;34m\u001b[0m\n\u001b[1;32m      1\u001b[0m \u001b[0;32mimport\u001b[0m \u001b[0mpandas\u001b[0m \u001b[0;32mas\u001b[0m \u001b[0mpd\u001b[0m\u001b[0;34m\u001b[0m\u001b[0;34m\u001b[0m\u001b[0m\n\u001b[1;32m      2\u001b[0m \u001b[0;32mimport\u001b[0m \u001b[0mnumpy\u001b[0m \u001b[0;32mas\u001b[0m \u001b[0mnp\u001b[0m\u001b[0;34m\u001b[0m\u001b[0;34m\u001b[0m\u001b[0m\n\u001b[0;32m----> 3\u001b[0;31m \u001b[0;32mimport\u001b[0m \u001b[0minvestpy\u001b[0m\u001b[0;34m\u001b[0m\u001b[0;34m\u001b[0m\u001b[0m\n\u001b[0m\u001b[1;32m      4\u001b[0m \u001b[0;32mimport\u001b[0m \u001b[0mscipy\u001b[0m\u001b[0;34m.\u001b[0m\u001b[0mstats\u001b[0m \u001b[0;32mas\u001b[0m \u001b[0mstats\u001b[0m\u001b[0;34m\u001b[0m\u001b[0;34m\u001b[0m\u001b[0m\n\u001b[1;32m      5\u001b[0m \u001b[0;32mimport\u001b[0m \u001b[0mmatplotlib\u001b[0m\u001b[0;34m.\u001b[0m\u001b[0mpyplot\u001b[0m \u001b[0;32mas\u001b[0m \u001b[0mplt\u001b[0m\u001b[0;34m\u001b[0m\u001b[0;34m\u001b[0m\u001b[0m\n",
            "\u001b[0;31mModuleNotFoundError\u001b[0m: No module named 'investpy'"
          ]
        }
      ],
      "execution_count": null
    },
    {
      "cell_type": "code",
      "metadata": {
        "tags": [],
        "cell_id": "00001-a0f2d016-cb96-4d8e-9896-3b7c5f33ff6b",
        "deepnote_to_be_reexecuted": false,
        "source_hash": "bfe595df",
        "execution_millis": 23,
        "execution_start": 1619875022648,
        "deepnote_cell_type": "code"
      },
      "source": "data=pd.read_csv('validation.csv')",
      "execution_count": null,
      "outputs": []
    },
    {
      "cell_type": "code",
      "metadata": {
        "tags": [],
        "cell_id": "00002-14125502-899c-45d3-a94f-0373e18926cc",
        "deepnote_to_be_reexecuted": false,
        "source_hash": "7a5fde07",
        "execution_start": 1619883081718,
        "execution_millis": 6,
        "deepnote_cell_type": "code"
      },
      "source": "data.Date",
      "execution_count": null,
      "outputs": [
        {
          "output_type": "execute_result",
          "execution_count": 163,
          "data": {
            "text/plain": "0       2011-01-03 00:00:00\n1       2011-01-04 00:00:00\n2       2011-01-05 00:00:00\n3       2011-01-06 00:00:00\n4       2011-01-07 00:00:00\n               ...         \n2512    2021-01-25 00:00:00\n2513    2021-01-26 00:00:00\n2514    2021-01-27 00:00:00\n2515    2021-01-28 00:00:00\n2516    2021-01-29 00:00:00\nName: Date, Length: 2517, dtype: object"
          },
          "metadata": {}
        }
      ]
    },
    {
      "cell_type": "code",
      "metadata": {
        "tags": [],
        "cell_id": "00003-1060f417-8e71-4c03-9109-0bed5046a4ee",
        "deepnote_cell_type": "code"
      },
      "source": "# asset: France bond, US CMBL EUR, commodities EUR(CRYTR), Europe Equity(MSCI), AEX, Bist EUR, Nasdaq EUR, Emerging equity EUR,\n# we currently assume equal weight",
      "execution_count": null,
      "outputs": []
    },
    {
      "cell_type": "code",
      "metadata": {
        "tags": [],
        "cell_id": "00007-cf3e0d7d-1b91-41e0-b9b2-561c4acacab0",
        "deepnote_to_be_reexecuted": false,
        "source_hash": "158015e2",
        "execution_start": 1619875196301,
        "execution_millis": 257,
        "output_cleared": true,
        "deepnote_cell_type": "code"
      },
      "source": "# This dataframe is in EUR\n#L=pd.DataFrame(index=data.Date)\nL=pd.DataFrame()\nL['France_bond']=data['France All Maturities']\nL['US_bond']=data['US CMBL EUR']\nL['Commodities']=data['Commodities EUR']\nL['Europe_equity']=data['Europe Equity']\nL['AEX']=data['AEX']\nL['Bist']=data['Bist EUR']\nL['Nasdaq']=data['Nasdaq EUR']\nL['Emerging_equity']=data['Emerging equity EUR']\nL=L.set_index(data.Date) # reset index to Date\n# add portfolio loss\nL['loss']=L.apply(lambda r: 1/8*(1-np.exp(r.Commodities))+\\\n                            1/8*(1-np.exp(r.Europe_equity))+\\\n                            1/8*(1-np.exp(r.AEX))+\\\n                            1/8*(1-np.exp(r.Bist))+\\\n                            1/8*(1-np.exp(r.Nasdaq))+\\\n                            1/8*(1-np.exp(r.Emerging_equity))+\\\n                            1/8*(1-np.exp(r.France_bond))+\\\n                            1/8*(1-np.exp(r.US_bond)),\n                            axis=1) \nL",
      "execution_count": null,
      "outputs": []
    },
    {
      "cell_type": "code",
      "metadata": {
        "tags": [],
        "cell_id": "00007-eca65ac3-22f8-4b77-b8a5-39389360e78c",
        "deepnote_to_be_reexecuted": false,
        "source_hash": "623b3341",
        "execution_start": 1619884451422,
        "execution_millis": 2,
        "deepnote_cell_type": "code"
      },
      "source": "L.index=pd.to_datetime(L.index)",
      "execution_count": null,
      "outputs": []
    },
    {
      "cell_type": "code",
      "metadata": {
        "tags": [],
        "cell_id": "00009-80cc41b0-3b13-4e16-bace-944dc4ba0746",
        "deepnote_to_be_reexecuted": false,
        "source_hash": "cb076e6d",
        "execution_start": 1619884453525,
        "execution_millis": 66,
        "deepnote_cell_type": "code"
      },
      "source": "L",
      "execution_count": null,
      "outputs": [
        {
          "output_type": "execute_result",
          "execution_count": 190,
          "data": {
            "application/vnd.deepnote.dataframe.v2+json": {
              "row_count": 2517,
              "column_count": 9,
              "columns": [
                {
                  "name": "France_bond",
                  "dtype": "float64",
                  "stats": {
                    "unique_count": 2459,
                    "nan_count": 0,
                    "min": "-0.015660601",
                    "max": "0.013874544",
                    "histogram": [
                      {
                        "bin_start": -0.015660601,
                        "bin_end": -0.012707086499999999,
                        "count": 7
                      },
                      {
                        "bin_start": -0.012707086499999999,
                        "bin_end": -0.009753572,
                        "count": 6
                      },
                      {
                        "bin_start": -0.009753572,
                        "bin_end": -0.0068000575000000014,
                        "count": 26
                      },
                      {
                        "bin_start": -0.0068000575000000014,
                        "bin_end": -0.003846543000000001,
                        "count": 126
                      },
                      {
                        "bin_start": -0.003846543000000001,
                        "bin_end": -0.0008930285000000003,
                        "count": 603
                      },
                      {
                        "bin_start": -0.0008930285000000003,
                        "bin_end": 0.002060485999999997,
                        "count": 1242
                      },
                      {
                        "bin_start": 0.002060485999999997,
                        "bin_end": 0.005014000499999997,
                        "count": 424
                      },
                      {
                        "bin_start": 0.005014000499999997,
                        "bin_end": 0.007967514999999998,
                        "count": 65
                      },
                      {
                        "bin_start": 0.007967514999999998,
                        "bin_end": 0.010921029499999999,
                        "count": 14
                      },
                      {
                        "bin_start": 0.010921029499999999,
                        "bin_end": 0.013874544,
                        "count": 4
                      }
                    ]
                  }
                },
                {
                  "name": "US_bond",
                  "dtype": "float64",
                  "stats": {
                    "unique_count": 2517,
                    "nan_count": 0,
                    "min": "-0.031068907",
                    "max": "0.043777521",
                    "histogram": [
                      {
                        "bin_start": -0.031068907,
                        "bin_end": -0.0235842642,
                        "count": 5
                      },
                      {
                        "bin_start": -0.0235842642,
                        "bin_end": -0.0160996214,
                        "count": 18
                      },
                      {
                        "bin_start": -0.0160996214,
                        "bin_end": -0.008614978600000003,
                        "count": 114
                      },
                      {
                        "bin_start": -0.008614978600000003,
                        "bin_end": -0.0011303358000000034,
                        "count": 803
                      },
                      {
                        "bin_start": -0.0011303358000000034,
                        "bin_end": 0.0063543069999999965,
                        "count": 1302
                      },
                      {
                        "bin_start": 0.0063543069999999965,
                        "bin_end": 0.013838949799999993,
                        "count": 246
                      },
                      {
                        "bin_start": 0.013838949799999993,
                        "bin_end": 0.021323592599999996,
                        "count": 23
                      },
                      {
                        "bin_start": 0.021323592599999996,
                        "bin_end": 0.028808235399999993,
                        "count": 4
                      },
                      {
                        "bin_start": 0.028808235399999993,
                        "bin_end": 0.036292878199999996,
                        "count": 1
                      },
                      {
                        "bin_start": 0.036292878199999996,
                        "bin_end": 0.043777521,
                        "count": 1
                      }
                    ]
                  }
                },
                {
                  "name": "Commodities",
                  "dtype": "float64",
                  "stats": {
                    "unique_count": 2517,
                    "nan_count": 0,
                    "min": "-0.110366475",
                    "max": "0.061624578",
                    "histogram": [
                      {
                        "bin_start": -0.110366475,
                        "bin_end": -0.0931673697,
                        "count": 1
                      },
                      {
                        "bin_start": -0.0931673697,
                        "bin_end": -0.07596826440000001,
                        "count": 2
                      },
                      {
                        "bin_start": -0.07596826440000001,
                        "bin_end": -0.05876915910000001,
                        "count": 1
                      },
                      {
                        "bin_start": -0.05876915910000001,
                        "bin_end": -0.041570053800000006,
                        "count": 5
                      },
                      {
                        "bin_start": -0.041570053800000006,
                        "bin_end": -0.024370948500000003,
                        "count": 29
                      },
                      {
                        "bin_start": -0.024370948500000003,
                        "bin_end": -0.007171843200000014,
                        "count": 437
                      },
                      {
                        "bin_start": -0.007171843200000014,
                        "bin_end": 0.01002726209999999,
                        "count": 1766
                      },
                      {
                        "bin_start": 0.01002726209999999,
                        "bin_end": 0.027226367399999993,
                        "count": 257
                      },
                      {
                        "bin_start": 0.027226367399999993,
                        "bin_end": 0.04442547269999998,
                        "count": 12
                      },
                      {
                        "bin_start": 0.04442547269999998,
                        "bin_end": 0.061624578,
                        "count": 7
                      }
                    ]
                  }
                },
                {
                  "name": "Europe_equity",
                  "dtype": "float64",
                  "stats": {
                    "unique_count": 2517,
                    "nan_count": 0,
                    "min": "-0.122899826",
                    "max": "0.081923987",
                    "histogram": [
                      {
                        "bin_start": -0.122899826,
                        "bin_end": -0.1024174447,
                        "count": 1
                      },
                      {
                        "bin_start": -0.1024174447,
                        "bin_end": -0.08193506340000001,
                        "count": 0
                      },
                      {
                        "bin_start": -0.08193506340000001,
                        "bin_end": -0.0614526821,
                        "count": 2
                      },
                      {
                        "bin_start": -0.0614526821,
                        "bin_end": -0.0409703008,
                        "count": 7
                      },
                      {
                        "bin_start": -0.0409703008,
                        "bin_end": -0.020487919499999993,
                        "count": 77
                      },
                      {
                        "bin_start": -0.020487919499999993,
                        "bin_end": -0.000005538200000002047,
                        "count": 1069
                      },
                      {
                        "bin_start": -0.000005538200000002047,
                        "bin_end": 0.020476843100000017,
                        "count": 1295
                      },
                      {
                        "bin_start": 0.020476843100000017,
                        "bin_end": 0.04095922440000001,
                        "count": 64
                      },
                      {
                        "bin_start": 0.04095922440000001,
                        "bin_end": 0.0614416057,
                        "count": 1
                      },
                      {
                        "bin_start": 0.0614416057,
                        "bin_end": 0.081923987,
                        "count": 1
                      }
                    ]
                  }
                },
                {
                  "name": "AEX",
                  "dtype": "float64",
                  "stats": {
                    "unique_count": 2491,
                    "nan_count": 0,
                    "min": "-0.113758382",
                    "max": "0.085907466",
                    "histogram": [
                      {
                        "bin_start": -0.113758382,
                        "bin_end": -0.0937917972,
                        "count": 1
                      },
                      {
                        "bin_start": -0.0937917972,
                        "bin_end": -0.0738252124,
                        "count": 1
                      },
                      {
                        "bin_start": -0.0738252124,
                        "bin_end": -0.05385862760000001,
                        "count": 1
                      },
                      {
                        "bin_start": -0.05385862760000001,
                        "bin_end": -0.03389204280000001,
                        "count": 19
                      },
                      {
                        "bin_start": -0.03389204280000001,
                        "bin_end": -0.013925458000000016,
                        "count": 177
                      },
                      {
                        "bin_start": -0.013925458000000016,
                        "bin_end": 0.006041126799999991,
                        "count": 1694
                      },
                      {
                        "bin_start": 0.006041126799999991,
                        "bin_end": 0.026007711599999997,
                        "count": 582
                      },
                      {
                        "bin_start": 0.026007711599999997,
                        "bin_end": 0.04597429639999999,
                        "count": 41
                      },
                      {
                        "bin_start": 0.04597429639999999,
                        "bin_end": 0.06594088119999998,
                        "count": 0
                      },
                      {
                        "bin_start": 0.06594088119999998,
                        "bin_end": 0.085907466,
                        "count": 1
                      }
                    ]
                  }
                },
                {
                  "name": "Bist",
                  "dtype": "float64",
                  "stats": {
                    "unique_count": 2490,
                    "nan_count": 0,
                    "min": "-0.107095126",
                    "max": "0.076244776",
                    "histogram": [
                      {
                        "bin_start": -0.107095126,
                        "bin_end": -0.0887611358,
                        "count": 3
                      },
                      {
                        "bin_start": -0.0887611358,
                        "bin_end": -0.07042714559999999,
                        "count": 6
                      },
                      {
                        "bin_start": -0.07042714559999999,
                        "bin_end": -0.052093155399999994,
                        "count": 12
                      },
                      {
                        "bin_start": -0.052093155399999994,
                        "bin_end": -0.033759165199999996,
                        "count": 51
                      },
                      {
                        "bin_start": -0.033759165199999996,
                        "bin_end": -0.015425175,
                        "count": 265
                      },
                      {
                        "bin_start": -0.015425175,
                        "bin_end": 0.0029088152000000117,
                        "count": 1117
                      },
                      {
                        "bin_start": 0.0029088152000000117,
                        "bin_end": 0.021242805399999995,
                        "count": 879
                      },
                      {
                        "bin_start": 0.021242805399999995,
                        "bin_end": 0.039576795600000006,
                        "count": 162
                      },
                      {
                        "bin_start": 0.039576795600000006,
                        "bin_end": 0.05791078580000002,
                        "count": 18
                      },
                      {
                        "bin_start": 0.05791078580000002,
                        "bin_end": 0.076244776,
                        "count": 4
                      }
                    ]
                  }
                },
                {
                  "name": "Nasdaq",
                  "dtype": "float64",
                  "stats": {
                    "unique_count": 2516,
                    "nan_count": 0,
                    "min": "-0.124915205",
                    "max": "0.087991592",
                    "histogram": [
                      {
                        "bin_start": -0.124915205,
                        "bin_end": -0.1036245253,
                        "count": 2
                      },
                      {
                        "bin_start": -0.1036245253,
                        "bin_end": -0.08233384560000001,
                        "count": 0
                      },
                      {
                        "bin_start": -0.08233384560000001,
                        "bin_end": -0.0610431659,
                        "count": 5
                      },
                      {
                        "bin_start": -0.0610431659,
                        "bin_end": -0.039752486200000006,
                        "count": 19
                      },
                      {
                        "bin_start": -0.039752486200000006,
                        "bin_end": -0.01846180650000001,
                        "count": 141
                      },
                      {
                        "bin_start": -0.01846180650000001,
                        "bin_end": 0.0028288731999999983,
                        "count": 1267
                      },
                      {
                        "bin_start": 0.0028288731999999983,
                        "bin_end": 0.02411955289999998,
                        "count": 1015
                      },
                      {
                        "bin_start": 0.02411955289999998,
                        "bin_end": 0.04541023259999999,
                        "count": 57
                      },
                      {
                        "bin_start": 0.04541023259999999,
                        "bin_end": 0.0667009123,
                        "count": 7
                      },
                      {
                        "bin_start": 0.0667009123,
                        "bin_end": 0.087991592,
                        "count": 4
                      }
                    ]
                  }
                },
                {
                  "name": "Emerging_equity",
                  "dtype": "float64",
                  "stats": {
                    "unique_count": 2517,
                    "nan_count": 0,
                    "min": "-0.069648929",
                    "max": "0.055544729",
                    "histogram": [
                      {
                        "bin_start": -0.069648929,
                        "bin_end": -0.0571295632,
                        "count": 4
                      },
                      {
                        "bin_start": -0.0571295632,
                        "bin_end": -0.0446101974,
                        "count": 3
                      },
                      {
                        "bin_start": -0.0446101974,
                        "bin_end": -0.03209083160000001,
                        "count": 5
                      },
                      {
                        "bin_start": -0.03209083160000001,
                        "bin_end": -0.019571465800000007,
                        "count": 59
                      },
                      {
                        "bin_start": -0.019571465800000007,
                        "bin_end": -0.007052100000000006,
                        "count": 411
                      },
                      {
                        "bin_start": -0.007052100000000006,
                        "bin_end": 0.005467265799999982,
                        "count": 1368
                      },
                      {
                        "bin_start": 0.005467265799999982,
                        "bin_end": 0.017986631599999983,
                        "count": 591
                      },
                      {
                        "bin_start": 0.017986631599999983,
                        "bin_end": 0.030505997399999984,
                        "count": 63
                      },
                      {
                        "bin_start": 0.030505997399999984,
                        "bin_end": 0.043025363199999986,
                        "count": 10
                      },
                      {
                        "bin_start": 0.043025363199999986,
                        "bin_end": 0.055544729,
                        "count": 3
                      }
                    ]
                  }
                },
                {
                  "name": "loss",
                  "dtype": "float64",
                  "stats": {
                    "unique_count": 2517,
                    "nan_count": 0,
                    "min": "-0.049728259804646804",
                    "max": "0.06966257121120006",
                    "histogram": [
                      {
                        "bin_start": -0.049728259804646804,
                        "bin_end": -0.037789176703062116,
                        "count": 1
                      },
                      {
                        "bin_start": -0.037789176703062116,
                        "bin_end": -0.02585009360147743,
                        "count": 3
                      },
                      {
                        "bin_start": -0.02585009360147743,
                        "bin_end": -0.013911010499892747,
                        "count": 40
                      },
                      {
                        "bin_start": -0.013911010499892747,
                        "bin_end": -0.0019719273983080585,
                        "count": 897
                      },
                      {
                        "bin_start": -0.0019719273983080585,
                        "bin_end": 0.00996715570327663,
                        "count": 1446
                      },
                      {
                        "bin_start": 0.00996715570327663,
                        "bin_end": 0.02190623880486131,
                        "count": 115
                      },
                      {
                        "bin_start": 0.02190623880486131,
                        "bin_end": 0.033845321906446,
                        "count": 8
                      },
                      {
                        "bin_start": 0.033845321906446,
                        "bin_end": 0.04578440500803069,
                        "count": 4
                      },
                      {
                        "bin_start": 0.04578440500803069,
                        "bin_end": 0.057723488109615376,
                        "count": 2
                      },
                      {
                        "bin_start": 0.057723488109615376,
                        "bin_end": 0.06966257121120006,
                        "count": 1
                      }
                    ]
                  }
                },
                {
                  "name": "_deepnote_index_column",
                  "dtype": "datetime64[ns]"
                }
              ],
              "rows_top": [
                {
                  "France_bond": 0.003158562,
                  "US_bond": 0.002471048,
                  "Commodities": -0.0000123288,
                  "Europe_equity": 0.007587514,
                  "AEX": 0.009773611,
                  "Bist": 0.027034316,
                  "Nasdaq": 0.014464017,
                  "Emerging_equity": 0.014587332,
                  "loss": -0.0099662078904698,
                  "_deepnote_index_column": "2011-01-03T00:00:00.000000"
                },
                {
                  "France_bond": 0.001260637,
                  "US_bond": -0.004326263,
                  "Commodities": -0.01631294,
                  "Europe_equity": 0.009135581,
                  "AEX": -0.002782727,
                  "Bist": 0.021360874,
                  "Nasdaq": -0.008696107,
                  "Emerging_equity": -0.000189076,
                  "loss": 0.00001179057202242706,
                  "_deepnote_index_column": "2011-01-04T00:00:00.000000"
                },
                {
                  "France_bond": -0.003997481,
                  "US_bond": -0.012093525,
                  "Commodities": 0.004165324,
                  "Europe_equity": 0.000506372,
                  "AEX": -0.004412513,
                  "Bist": 0.02059235,
                  "Nasdaq": -0.002414466,
                  "Emerging_equity": -0.000618423,
                  "loss": -0.00025544688986654795,
                  "_deepnote_index_column": "2011-01-05T00:00:00.000000"
                },
                {
                  "France_bond": -0.000368994,
                  "US_bond": -0.005530796,
                  "Commodities": -0.011789867,
                  "Europe_equity": 0.003598586,
                  "AEX": -0.001092132,
                  "Bist": 0.002399534,
                  "Nasdaq": -0.008151529,
                  "Emerging_equity": -0.007840591,
                  "loss": 0.003577184397102681,
                  "_deepnote_index_column": "2011-01-06T00:00:00.000000"
                },
                {
                  "France_bond": 0.001633083,
                  "US_bond": -0.001552105,
                  "Commodities": -0.001905322,
                  "Europe_equity": -0.001422573,
                  "AEX": -0.001261725,
                  "Bist": -0.007834634,
                  "Nasdaq": -0.008874652,
                  "Emerging_equity": -0.009134774,
                  "loss": 0.003779384171691297,
                  "_deepnote_index_column": "2011-01-07T00:00:00.000000"
                },
                {
                  "France_bond": 0.000157899,
                  "US_bond": 0.000990351,
                  "Commodities": 0.007782029,
                  "Europe_equity": -0.008778932,
                  "AEX": -0.006275996,
                  "Bist": -0.010229693,
                  "Nasdaq": 0.001788592,
                  "Emerging_equity": -0.006118169,
                  "loss": 0.0025653197919785486,
                  "_deepnote_index_column": "2011-01-10T00:00:00.000000"
                },
                {
                  "France_bond": -0.002318353,
                  "US_bond": 0.001342587,
                  "Commodities": 0.01438877,
                  "Europe_equity": 0.012201918,
                  "AEX": 0.011480659,
                  "Bist": 0.001274064,
                  "Nasdaq": 0.005875265,
                  "Emerging_equity": 0.009138279,
                  "loss": -0.006711460269980055,
                  "_deepnote_index_column": "2011-01-11T00:00:00.000000"
                },
                {
                  "France_bond": -0.004334961,
                  "US_bond": 0.008950196,
                  "Commodities": 0.008269922,
                  "Europe_equity": 0.013448038,
                  "AEX": 0.011405588,
                  "Bist": -0.0000607722,
                  "Nasdaq": 0.014275054,
                  "Emerging_equity": 0.014148547,
                  "loss": -0.00831806523740114,
                  "_deepnote_index_column": "2011-01-12T00:00:00.000000"
                },
                {
                  "France_bond": 0.000741447,
                  "US_bond": 0.024224123,
                  "Commodities": -0.003655155,
                  "Europe_equity": -0.006334033,
                  "AEX": -0.004480082,
                  "Bist": -0.003807185,
                  "Nasdaq": 0.021805558,
                  "Emerging_equity": 0.001848432,
                  "loss": -0.0038655380042048604,
                  "_deepnote_index_column": "2011-01-13T00:00:00.000000"
                },
                {
                  "France_bond": 0.00058218,
                  "US_bond": -0.005896951,
                  "Commodities": -0.001993045,
                  "Europe_equity": -0.001083592,
                  "AEX": 0.001467915,
                  "Bist": -0.010199757,
                  "Nasdaq": 0.004591427,
                  "Emerging_equity": -0.007337071,
                  "loss": 0.002469809195335834,
                  "_deepnote_index_column": "2011-01-14T00:00:00.000000"
                },
                {
                  "France_bond": -0.004296975,
                  "US_bond": 0.000145011,
                  "Commodities": 0.001290529,
                  "Europe_equity": 0.009383017,
                  "AEX": 0.00731236,
                  "Bist": -0.018000578,
                  "Nasdaq": 0.003821672,
                  "Emerging_equity": -0.003861845,
                  "loss": 0.0004937482005620275,
                  "_deepnote_index_column": "2011-01-18T00:00:00.000000"
                },
                {
                  "France_bond": 0.002654634,
                  "US_bond": 0.007569813,
                  "Commodities": -0.002851754,
                  "Europe_equity": -0.013693205,
                  "AEX": -0.015990641,
                  "Bist": -0.022584627,
                  "Nasdaq": -0.007608303,
                  "Emerging_equity": 0.001416075,
                  "loss": 0.006318525243309184,
                  "_deepnote_index_column": "2011-01-19T00:00:00.000000"
                },
                {
                  "France_bond": -0.003878136,
                  "US_bond": -0.009315009,
                  "Commodities": -0.007612749,
                  "Europe_equity": -0.011826581,
                  "AEX": -0.005097269,
                  "Bist": -0.019291465,
                  "Nasdaq": -0.011621851,
                  "Emerging_equity": -0.013479188,
                  "loss": 0.010202169490582835,
                  "_deepnote_index_column": "2011-01-20T00:00:00.000000"
                },
                {
                  "France_bond": 0.001436132,
                  "US_bond": 0.011502547,
                  "Commodities": 0.008061178,
                  "Europe_equity": 0.006779531,
                  "AEX": 0.013692466,
                  "Bist": 0.00974432,
                  "Nasdaq": 0.004744007,
                  "Emerging_equity": -0.008209097,
                  "loss": -0.006007601383464581,
                  "_deepnote_index_column": "2011-01-21T00:00:00.000000"
                },
                {
                  "France_bond": 0.001009377,
                  "US_bond": 0.005916582,
                  "Commodities": -0.002915923,
                  "Europe_equity": 0.00288497,
                  "AEX": -0.00016619,
                  "Bist": -0.012570943,
                  "Nasdaq": 0.015648084,
                  "Emerging_equity": -0.001260045,
                  "loss": -0.0010968669744864934,
                  "_deepnote_index_column": "2011-01-24T00:00:00.000000"
                },
                {
                  "France_bond": -0.001275172,
                  "US_bond": 0.001665106,
                  "Commodities": -0.016226539,
                  "Europe_equity": -0.006882708,
                  "AEX": -0.00619656,
                  "Bist": -0.014507322,
                  "Nasdaq": -0.0000340453,
                  "Emerging_equity": -0.001142002,
                  "loss": 0.005539741777395704,
                  "_deepnote_index_column": "2011-01-25T00:00:00.000000"
                },
                {
                  "France_bond": -0.002715151,
                  "US_bond": 0.002177725,
                  "Commodities": 0.016176467,
                  "Europe_equity": 0.008793801,
                  "AEX": 0.009128622,
                  "Bist": 0.009043551,
                  "Nasdaq": 0.010638987,
                  "Emerging_equity": 0.007672237,
                  "loss": -0.00765771660050675,
                  "_deepnote_index_column": "2011-01-26T00:00:00.000000"
                },
                {
                  "France_bond": -0.002882923,
                  "US_bond": 0.002351381,
                  "Commodities": -0.005722766,
                  "Europe_equity": 0.001307488,
                  "AEX": 0.006277724,
                  "Bist": -0.023228189,
                  "Nasdaq": 0.005743649,
                  "Emerging_equity": -0.003433665,
                  "loss": 0.0024066656497687827,
                  "_deepnote_index_column": "2011-01-27T00:00:00.000000"
                },
                {
                  "France_bond": 0.002082945,
                  "US_bond": -0.00593517,
                  "Commodities": 0.012756225,
                  "Europe_equity": -0.00860601,
                  "AEX": -0.00873893,
                  "Bist": -0.028497869,
                  "Nasdaq": -0.03106985,
                  "Emerging_equity": -0.011833516,
                  "loss": 0.009839504555895412,
                  "_deepnote_index_column": "2011-01-28T00:00:00.000000"
                },
                {
                  "France_bond": 0.000586714,
                  "US_bond": 0.007223531,
                  "Commodities": 0.019420784,
                  "Europe_equity": -0.001326469,
                  "AEX": -0.001135887,
                  "Bist": 0.005572143,
                  "Nasdaq": 0.012802769,
                  "Emerging_equity": -0.004586938,
                  "loss": -0.004860333717261758,
                  "_deepnote_index_column": "2011-01-31T00:00:00.000000"
                },
                {
                  "France_bond": -0.00304398,
                  "US_bond": 0.004104474,
                  "Commodities": -0.001292121,
                  "Europe_equity": 0.015130287,
                  "AEX": 0.017476292,
                  "Bist": 0.026357728,
                  "Nasdaq": 0.024423236,
                  "Emerging_equity": 0.010348522,
                  "loss": -0.011811480007210273,
                  "_deepnote_index_column": "2011-02-01T00:00:00.000000"
                },
                {
                  "France_bond": -0.000963185,
                  "US_bond": -0.002614552,
                  "Commodities": 0.006271162,
                  "Europe_equity": 0.002098732,
                  "AEX": 0.000762505,
                  "Bist": 0.004655262,
                  "Nasdaq": -0.00160817,
                  "Emerging_equity": 0.001804332,
                  "loss": -0.0013057422511489475,
                  "_deepnote_index_column": "2011-02-02T00:00:00.000000"
                },
                {
                  "France_bond": 0.002619832,
                  "US_bond": -0.009164523,
                  "Commodities": -0.007156735,
                  "Europe_equity": 0.001198377,
                  "AEX": -0.006828016,
                  "Bist": -0.017645158,
                  "Nasdaq": -0.007543248,
                  "Emerging_equity": 0.001922201,
                  "loss": 0.005289681572715574,
                  "_deepnote_index_column": "2011-02-03T00:00:00.000000"
                },
                {
                  "France_bond": -0.003316043,
                  "US_bond": -0.006591564,
                  "Commodities": -0.006188876,
                  "Europe_equity": 0.002580297,
                  "AEX": 0.001697687,
                  "Bist": 0.024505826,
                  "Nasdaq": 0.000443865,
                  "Emerging_equity": -0.002493281,
                  "loss": -0.0013743631071237716,
                  "_deepnote_index_column": "2011-02-04T00:00:00.000000"
                },
                {
                  "France_bond": 0.001017376,
                  "US_bond": -0.001295627,
                  "Commodities": -0.003621711,
                  "Europe_equity": 0.009786518,
                  "AEX": 0.011803868,
                  "Bist": -0.011884113,
                  "Nasdaq": 0.003300959,
                  "Emerging_equity": -0.002403312,
                  "loss": -0.0008635659072541019,
                  "_deepnote_index_column": "2011-02-07T00:00:00.000000"
                },
                {
                  "France_bond": -0.001714072,
                  "US_bond": 0.007743247,
                  "Commodities": 0.0000269086,
                  "Europe_equity": -0.000632589,
                  "AEX": 0.00340094,
                  "Bist": -0.001179029,
                  "Nasdaq": 0.014223598,
                  "Emerging_equity": -0.001116888,
                  "loss": -0.0026115731696185474,
                  "_deepnote_index_column": "2011-02-08T00:00:00.000000"
                },
                {
                  "France_bond": -0.003114264,
                  "US_bond": 0.004435121,
                  "Commodities": 0.003329519,
                  "Europe_equity": -0.003714288,
                  "AEX": -0.005214163,
                  "Bist": -0.000704126,
                  "Nasdaq": -0.002784024,
                  "Emerging_equity": -0.017340397,
                  "loss": 0.003114040043333849,
                  "_deepnote_index_column": "2011-02-09T00:00:00.000000"
                },
                {
                  "France_bond": 0.000430131,
                  "US_bond": -0.00599498,
                  "Commodities": 0.003840972,
                  "Europe_equity": -0.001690162,
                  "AEX": 0.003865945,
                  "Bist": -0.008667131,
                  "Nasdaq": -0.003238183,
                  "Emerging_equity": -0.014992263,
                  "loss": 0.003282104440819625,
                  "_deepnote_index_column": "2011-02-10T00:00:00.000000"
                },
                {
                  "France_bond": 0.002523288,
                  "US_bond": -0.007089438,
                  "Commodities": -0.007283157,
                  "Europe_equity": 0.004242422,
                  "AEX": -0.002593661,
                  "Bist": 0.0047835,
                  "Nasdaq": -0.001834314,
                  "Emerging_equity": -0.003145047,
                  "loss": 0.0012889048347604348,
                  "_deepnote_index_column": "2011-02-11T00:00:00.000000"
                },
                {
                  "France_bond": -0.001341382,
                  "US_bond": -0.002177856,
                  "Commodities": 0.001102809,
                  "Europe_equity": 0.003511752,
                  "AEX": 0.001405799,
                  "Bist": -0.004546309,
                  "Nasdaq": -0.000656959,
                  "Emerging_equity": 0.01645198,
                  "loss": -0.0017384358781148829,
                  "_deepnote_index_column": "2011-02-14T00:00:00.000000"
                },
                {
                  "France_bond": 0.0000536898,
                  "US_bond": 0.002345265,
                  "Commodities": -0.007195963,
                  "Europe_equity": 0.001513982,
                  "AEX": 0.000918067,
                  "Bist": 0.007285688,
                  "Nasdaq": -0.003081362,
                  "Emerging_equity": -0.003702107,
                  "loss": 0.00022429965637375815,
                  "_deepnote_index_column": "2011-02-15T00:00:00.000000"
                },
                {
                  "France_bond": 0.002413064,
                  "US_bond": 0.004026613,
                  "Commodities": 0.007394745,
                  "Europe_equity": 0.004572536,
                  "AEX": 0.002641457,
                  "Bist": 0.010234909,
                  "Nasdaq": 0.01145477,
                  "Emerging_equity": 0.007681691,
                  "loss": -0.006327522456106627,
                  "_deepnote_index_column": "2011-02-16T00:00:00.000000"
                },
                {
                  "France_bond": 0.004008878,
                  "US_bond": 0.008401213,
                  "Commodities": 0.010430922,
                  "Europe_equity": 0.001718537,
                  "AEX": 0.004029664,
                  "Bist": 0.003762715,
                  "Nasdaq": 0.006914921,
                  "Emerging_equity": 0.003258329,
                  "loss": -0.005333647384564322,
                  "_deepnote_index_column": "2011-02-17T00:00:00.000000"
                },
                {
                  "France_bond": -0.003205816,
                  "US_bond": 0.004654052,
                  "Commodities": 0.000389069,
                  "Europe_equity": -0.000154769,
                  "AEX": 0.003212112,
                  "Bist": 0.000190874,
                  "Nasdaq": 0.005307967,
                  "Emerging_equity": 0.009253601,
                  "loss": -0.0024656749328085814,
                  "_deepnote_index_column": "2011-02-18T00:00:00.000000"
                },
                {
                  "France_bond": 0.001704122,
                  "US_bond": 0.003480875,
                  "Commodities": 0.008396404,
                  "Europe_equity": -0.006045574,
                  "AEX": -0.005650643,
                  "Bist": -0.009716977,
                  "Nasdaq": -0.027738762,
                  "Emerging_equity": -0.018654599,
                  "loss": 0.006693368809996714,
                  "_deepnote_index_column": "2011-02-22T00:00:00.000000"
                },
                {
                  "France_bond": 0.000797809,
                  "US_bond": 0.005529384,
                  "Commodities": 0.010909867,
                  "Europe_equity": -0.010408421,
                  "AEX": -0.009781154,
                  "Bist": -0.035444177,
                  "Nasdaq": -0.00512678,
                  "Emerging_equity": -0.002983609,
                  "loss": 0.005711462861584665,
                  "_deepnote_index_column": "2011-02-23T00:00:00.000000"
                },
                {
                  "France_bond": 0.000159485,
                  "US_bond": 0.002138364,
                  "Commodities": -0.006595736,
                  "Europe_equity": -0.005855919,
                  "AEX": -0.00414278,
                  "Bist": -0.03115907,
                  "Nasdaq": 0.008073904,
                  "Emerging_equity": -0.007579978,
                  "loss": 0.005546283121575485,
                  "_deepnote_index_column": "2011-02-24T00:00:00.000000"
                },
                {
                  "France_bond": -0.000638094,
                  "US_bond": -0.00054652,
                  "Commodities": 0.015166927,
                  "Europe_equity": 0.012190922,
                  "AEX": 0.008323054,
                  "Bist": 0.009932276,
                  "Nasdaq": 0.012951422,
                  "Emerging_equity": 0.011740629,
                  "loss": -0.008693603607978398,
                  "_deepnote_index_column": "2011-02-25T00:00:00.000000"
                },
                {
                  "France_bond": -0.001170898,
                  "US_bond": 0.004482196,
                  "Commodities": 0.003983324,
                  "Europe_equity": 0.008100374,
                  "AEX": 0.00641398,
                  "Bist": -0.005510125,
                  "Nasdaq": 0.003052019,
                  "Emerging_equity": 0.005464155,
                  "loss": -0.003115249432504519,
                  "_deepnote_index_column": "2011-02-28T00:00:00.000000"
                },
                {
                  "France_bond": -0.000959028,
                  "US_bond": 0.002225879,
                  "Commodities": 0.007851677,
                  "Europe_equity": -0.006449431,
                  "AEX": -0.003201807,
                  "Bist": -0.049156799,
                  "Nasdaq": -0.014805963,
                  "Emerging_equity": 0.004176638,
                  "loss": 0.00736908421087254,
                  "_deepnote_index_column": "2011-03-01T00:00:00.000000"
                },
                {
                  "France_bond": -0.001600427,
                  "US_bond": 0.001120927,
                  "Commodities": 0.010737645,
                  "Europe_equity": -0.006536786,
                  "AEX": -0.008433415,
                  "Bist": 0.004164674,
                  "Nasdaq": 0.007932585,
                  "Emerging_equity": 0.001444013,
                  "loss": -0.0011233791723377073,
                  "_deepnote_index_column": "2011-03-02T00:00:00.000000"
                },
                {
                  "France_bond": -0.006266255,
                  "US_bond": 0.000800647,
                  "Commodities": 0.004528829,
                  "Europe_equity": 0.003504195,
                  "AEX": 0.00748173,
                  "Bist": 0.026250357,
                  "Nasdaq": 0.023878766,
                  "Emerging_equity": 0.013982834,
                  "loss": -0.009369833022794358,
                  "_deepnote_index_column": "2011-03-03T00:00:00.000000"
                },
                {
                  "France_bond": 0.001717752,
                  "US_bond": 0.006864717,
                  "Commodities": 0.006051854,
                  "Europe_equity": -0.006070109,
                  "AEX": 0.000951685,
                  "Bist": 0.0119475,
                  "Nasdaq": -0.002462067,
                  "Emerging_equity": 0.008802746,
                  "loss": -0.0034974877104217567,
                  "_deepnote_index_column": "2011-03-04T00:00:00.000000"
                },
                {
                  "France_bond": 0.000268132,
                  "US_bond": -0.000310162,
                  "Commodities": 0.000457368,
                  "Europe_equity": -0.004441354,
                  "AEX": -0.005095239,
                  "Bist": -0.000369853,
                  "Nasdaq": -0.014619551,
                  "Emerging_equity": -0.007765127,
                  "loss": 0.003964538068432333,
                  "_deepnote_index_column": "2011-03-07T00:00:00.000000"
                },
                {
                  "France_bond": -0.001717291,
                  "US_bond": -0.005814318,
                  "Commodities": -0.005542314,
                  "Europe_equity": 0.003893917,
                  "AEX": 0.000819207,
                  "Bist": 0.021596745,
                  "Nasdaq": 0.002718725,
                  "Emerging_equity": 0.006977881,
                  "loss": -0.002904644010978258,
                  "_deepnote_index_column": "2011-03-08T00:00:00.000000"
                },
                {
                  "France_bond": 0.001127305,
                  "US_bond": 0.001749688,
                  "Commodities": -0.002239729,
                  "Europe_equity": -0.001994595,
                  "AEX": -0.000354899,
                  "Bist": 0.030309223,
                  "Nasdaq": -0.005524282,
                  "Emerging_equity": -0.001974718,
                  "loss": -0.002698237142929133,
                  "_deepnote_index_column": "2011-03-09T00:00:00.000000"
                },
                {
                  "France_bond": 0.003053437,
                  "US_bond": -0.003569631,
                  "Commodities": -0.016356275,
                  "Europe_equity": -0.011828198,
                  "AEX": -0.011285242,
                  "Bist": 0.009169725,
                  "Nasdaq": -0.024583221,
                  "Emerging_equity": -0.014915931,
                  "loss": 0.008698197770755381,
                  "_deepnote_index_column": "2011-03-10T00:00:00.000000"
                },
                {
                  "France_bond": 0.003790411,
                  "US_bond": 0.002379117,
                  "Commodities": -0.008529187,
                  "Europe_equity": -0.008596308,
                  "AEX": -0.008513544,
                  "Bist": 0.009649475,
                  "Nasdaq": 0.008348807,
                  "Emerging_equity": -0.006306794,
                  "loss": 0.0009446558229482538,
                  "_deepnote_index_column": "2011-03-11T00:00:00.000000"
                },
                {
                  "France_bond": -0.000319761,
                  "US_bond": 0.009291084,
                  "Commodities": -0.003677939,
                  "Europe_equity": -0.010830699,
                  "AEX": -0.007688152,
                  "Bist": 0.011211556,
                  "Nasdaq": 0.002568829,
                  "Emerging_equity": 0.005976639,
                  "loss": -0.0008442327117466342,
                  "_deepnote_index_column": "2011-03-14T00:00:00.000000"
                },
                {
                  "France_bond": 0.005369069,
                  "US_bond": -0.005930553,
                  "Commodities": -0.035773204,
                  "Europe_equity": -0.022936493,
                  "AEX": -0.023368168,
                  "Bist": -0.009078805,
                  "Nasdaq": -0.013034016,
                  "Emerging_equity": -0.021828318,
                  "loss": 0.015627757414092086,
                  "_deepnote_index_column": "2011-03-15T00:00:00.000000"
                },
                {
                  "France_bond": 0.003809932,
                  "US_bond": -0.00676035,
                  "Commodities": 0.003033976,
                  "Europe_equity": -0.015256333,
                  "AEX": -0.014147653,
                  "Bist": -0.017171816,
                  "Nasdaq": -0.022416808,
                  "Emerging_equity": 0.003461961,
                  "loss": 0.008099379568471093,
                  "_deepnote_index_column": "2011-03-16T00:00:00.000000"
                },
                {
                  "France_bond": -0.006517443,
                  "US_bond": 0.006515576,
                  "Commodities": 0.029078819,
                  "Europe_equity": 0.018533287,
                  "AEX": 0.017503257,
                  "Bist": -0.00225613,
                  "Nasdaq": 0.014407627,
                  "Emerging_equity": -0.004520106,
                  "loss": -0.009207273674290264,
                  "_deepnote_index_column": "2011-03-17T00:00:00.000000"
                },
                {
                  "France_bond": -0.002288513,
                  "US_bond": 0.008743526,
                  "Commodities": 0.004604361,
                  "Europe_equity": 0.001898605,
                  "AEX": 0.00328725,
                  "Bist": 0.005609461,
                  "Nasdaq": 0.011408692,
                  "Emerging_equity": 0.006776982,
                  "loss": -0.005025406402256752,
                  "_deepnote_index_column": "2011-03-18T00:00:00.000000"
                },
                {
                  "France_bond": -0.002560821,
                  "US_bond": 0.002653049,
                  "Commodities": 0.004811689,
                  "Europe_equity": 0.017289073,
                  "AEX": 0.017791217,
                  "Bist": 0.009770555,
                  "Nasdaq": 0.02118593,
                  "Emerging_equity": 0.010245503,
                  "loss": -0.010230085442628309,
                  "_deepnote_index_column": "2011-03-21T00:00:00.000000"
                },
                {
                  "France_bond": -0.000908532,
                  "US_bond": 0.002397812,
                  "Commodities": 0.011465003,
                  "Europe_equity": -0.001755706,
                  "AEX": -0.000897535,
                  "Bist": 0.02324636,
                  "Nasdaq": -0.001085951,
                  "Emerging_equity": 0.009190171,
                  "loss": -0.005254760119859966,
                  "_deepnote_index_column": "2011-03-22T00:00:00.000000"
                }
              ],
              "rows_bottom": [
                {
                  "France_bond": -0.001615793,
                  "US_bond": 0.005361756,
                  "Commodities": -0.009893485,
                  "Europe_equity": -0.001880573,
                  "AEX": 0.002271819,
                  "Bist": 0.01011813,
                  "Nasdaq": 0.006861176,
                  "Emerging_equity": 0.011106218,
                  "loss": -0.0028168672507379727,
                  "_deepnote_index_column": "2020-11-06T00:00:00.000000"
                },
                {
                  "France_bond": -0.008614656,
                  "US_bond": -0.008983492,
                  "Commodities": 0.02269146,
                  "Europe_equity": 0.040608115,
                  "AEX": 0.036050232,
                  "Bist": 0.013071266,
                  "Nasdaq": -0.021701404,
                  "Emerging_equity": 0.011463726,
                  "loss": -0.01085011310979718,
                  "_deepnote_index_column": "2020-11-09T00:00:00.000000"
                },
                {
                  "France_bond": -0.000851366,
                  "US_bond": -0.0000818103,
                  "Commodities": 0.014917807,
                  "Europe_equity": 0.009674123,
                  "AEX": -0.003474448,
                  "Bist": 0.060246061,
                  "Nasdaq": -0.013831535,
                  "Emerging_equity": -0.010257286,
                  "loss": -0.007313268587752858,
                  "_deepnote_index_column": "2020-11-10T00:00:00.000000"
                },
                {
                  "France_bond": 0.002122542,
                  "US_bond": 0.003793587,
                  "Commodities": -0.006423301,
                  "Europe_equity": -0.008694928,
                  "AEX": 0.001400807,
                  "Bist": -0.006853583,
                  "Nasdaq": -0.006540706,
                  "Emerging_equity": -0.00169288,
                  "loss": 0.0028466920490962944,
                  "_deepnote_index_column": "2020-11-12T00:00:00.000000"
                },
                {
                  "France_bond": 0.001624237,
                  "US_bond": 0.000754921,
                  "Commodities": -0.008939926,
                  "Europe_equity": 0.000232673,
                  "AEX": -0.005313639,
                  "Bist": 0.015216242,
                  "Nasdaq": 0.011016264,
                  "Emerging_equity": 0.005321144,
                  "loss": -0.0025198654928643566,
                  "_deepnote_index_column": "2020-11-13T00:00:00.000000"
                },
                {
                  "France_bond": 0.001022621,
                  "US_bond": 0.001775522,
                  "Commodities": 0.013157633,
                  "Europe_equity": 0.011855837,
                  "AEX": 0.008009768,
                  "Bist": -0.002187832,
                  "Nasdaq": 0.009675792,
                  "Emerging_equity": 0.012587723,
                  "loss": -0.007027217753789533,
                  "_deepnote_index_column": "2020-11-16T00:00:00.000000"
                },
                {
                  "France_bond": 0.00169032,
                  "US_bond": 0.003010406,
                  "Commodities": 0.004337972,
                  "Europe_equity": -0.002114749,
                  "AEX": -0.001213995,
                  "Bist": -0.020526018,
                  "Nasdaq": -0.000562539,
                  "Emerging_equity": -0.003104245,
                  "loss": 0.0022812866166484758,
                  "_deepnote_index_column": "2020-11-17T00:00:00.000000"
                },
                {
                  "France_bond": -0.000316717,
                  "US_bond": 0.000336724,
                  "Commodities": 0.00773753,
                  "Europe_equity": 0.004320261,
                  "AEX": -0.0000998436,
                  "Bist": 0.051581284,
                  "Nasdaq": -0.007657875,
                  "Emerging_equity": 0.005634167,
                  "loss": -0.00787170427607671,
                  "_deepnote_index_column": "2020-11-18T00:00:00.000000"
                },
                {
                  "France_bond": 0.001090493,
                  "US_bond": -0.001311252,
                  "Commodities": -0.004592301,
                  "Europe_equity": -0.007572749,
                  "AEX": -0.008137793,
                  "Bist": 0.001835944,
                  "Nasdaq": 0.006506021,
                  "Emerging_equity": -0.005039612,
                  "loss": 0.0021390086404032976,
                  "_deepnote_index_column": "2020-11-19T00:00:00.000000"
                },
                {
                  "France_bond": 0.000386664,
                  "US_bond": 0.001928875,
                  "Commodities": 0.007757362,
                  "Europe_equity": 0.004963739,
                  "AEX": 0.009368546,
                  "Bist": 0.008342862,
                  "Nasdaq": -0.003005496,
                  "Emerging_equity": 0.007325574,
                  "loss": -0.00465286234721124,
                  "_deepnote_index_column": "2020-11-20T00:00:00.000000"
                },
                {
                  "France_bond": -0.001371573,
                  "US_bond": -0.002938988,
                  "Commodities": 0.005911535,
                  "Europe_equity": -0.001715598,
                  "AEX": -0.000415631,
                  "Bist": -0.02676715,
                  "Nasdaq": -0.000455759,
                  "Emerging_equity": 0.009688684,
                  "loss": 0.0022047380366694014,
                  "_deepnote_index_column": "2020-11-23T00:00:00.000000"
                },
                {
                  "France_bond": -0.000387194,
                  "US_bond": 0.003601529,
                  "Commodities": 0.016900491,
                  "Europe_equity": 0.010107715,
                  "AEX": 0.010075988,
                  "Bist": 0.000879856,
                  "Nasdaq": 0.017109089,
                  "Emerging_equity": 0.003969393,
                  "loss": -0.007833090011333602,
                  "_deepnote_index_column": "2020-11-24T00:00:00.000000"
                },
                {
                  "France_bond": 0.000211216,
                  "US_bond": 0.003646538,
                  "Commodities": 0.00295931,
                  "Europe_equity": -0.000718909,
                  "AEX": -0.001762997,
                  "Bist": 0.013701351,
                  "Nasdaq": 0.00763405,
                  "Emerging_equity": -0.005751513,
                  "loss": -0.002508991902773039,
                  "_deepnote_index_column": "2020-11-25T00:00:00.000000"
                },
                {
                  "France_bond": -0.000281353,
                  "US_bond": 0.001362568,
                  "Commodities": 0.00021158,
                  "Europe_equity": 0.003873088,
                  "AEX": 0.00702178,
                  "Bist": -0.010332564,
                  "Nasdaq": 0.009172809,
                  "Emerging_equity": -0.002966364,
                  "loss": -0.0010243184110846765,
                  "_deepnote_index_column": "2020-11-27T00:00:00.000000"
                },
                {
                  "France_bond": -0.001407955,
                  "US_bond": 0.00065791,
                  "Commodities": -0.005442158,
                  "Europe_equity": -0.010301002,
                  "AEX": -0.009279872,
                  "Bist": -0.044859413,
                  "Nasdaq": -0.000582677,
                  "Emerging_equity": -0.022184219,
                  "loss": 0.011506482916612618,
                  "_deepnote_index_column": "2020-11-30T00:00:00.000000"
                },
                {
                  "France_bond": -0.004023582,
                  "US_bond": 0.005353933,
                  "Commodities": -0.006993648,
                  "Europe_equity": 0.00627699,
                  "AEX": 0.008854699,
                  "Bist": 0.027221786,
                  "Nasdaq": 0.020324555,
                  "Emerging_equity": 0.017322761,
                  "loss": -0.009397018988486508,
                  "_deepnote_index_column": "2020-12-01T00:00:00.000000"
                },
                {
                  "France_bond": -0.0000353663,
                  "US_bond": 0.004412884,
                  "Commodities": 0.003523218,
                  "Europe_equity": 0.000224221,
                  "AEX": -0.000768963,
                  "Bist": -0.004606758,
                  "Nasdaq": 0.0040107,
                  "Emerging_equity": 0.00457305,
                  "loss": -0.0014222990981356959,
                  "_deepnote_index_column": "2020-12-02T00:00:00.000000"
                },
                {
                  "France_bond": 0.002649008,
                  "US_bond": 0.007007118,
                  "Commodities": -0.000193584,
                  "Europe_equity": -0.000116416,
                  "AEX": -0.000753258,
                  "Bist": 0.008125643,
                  "Nasdaq": 0.007116397,
                  "Emerging_equity": 0.006835459,
                  "loss": -0.003847586823484739,
                  "_deepnote_index_column": "2020-12-03T00:00:00.000000"
                },
                {
                  "France_bond": -0.001129385,
                  "US_bond": -0.0017111,
                  "Commodities": 0.003001211,
                  "Europe_equity": 0.006237165,
                  "AEX": 0.008465578,
                  "Bist": 0,
                  "Nasdaq": 0.006185239,
                  "Emerging_equity": 0.010001011,
                  "loss": -0.003897637380308433,
                  "_deepnote_index_column": "2020-12-04T00:00:00.000000"
                },
                {
                  "France_bond": 0.002997129,
                  "US_bond": 0.00206562,
                  "Commodities": -0.005335345,
                  "Europe_equity": -0.002986922,
                  "AEX": 0.000860528,
                  "Bist": 0.001175444,
                  "Nasdaq": 0.004130941,
                  "Emerging_equity": 0.002233896,
                  "loss": -0.0006473360499905934,
                  "_deepnote_index_column": "2020-12-07T00:00:00.000000"
                },
                {
                  "France_bond": 0.002496617,
                  "US_bond": -0.001522212,
                  "Commodities": -0.004955166,
                  "Europe_equity": 0.002215297,
                  "AEX": 0.000632736,
                  "Bist": 0.008630281,
                  "Nasdaq": 0.002778149,
                  "Emerging_equity": 0.000106099,
                  "loss": -0.0013052758757746696,
                  "_deepnote_index_column": "2020-12-08T00:00:00.000000"
                },
                {
                  "France_bond": -0.000632356,
                  "US_bond": -0.002526161,
                  "Commodities": 0.005022061,
                  "Europe_equity": 0.003228281,
                  "AEX": 0.005063375,
                  "Bist": 0.002490314,
                  "Nasdaq": -0.02213043,
                  "Emerging_equity": 0.001390494,
                  "loss": 0.0009766491515711545,
                  "_deepnote_index_column": "2020-12-09T00:00:00.000000"
                },
                {
                  "France_bond": -0.000703087,
                  "US_bond": 0.00557353,
                  "Commodities": 0.014603128,
                  "Europe_equity": -0.003987627,
                  "AEX": -0.002617498,
                  "Bist": -0.002085255,
                  "Nasdaq": 0.008544744,
                  "Emerging_equity": -0.001475946,
                  "loss": -0.0022532722800595317,
                  "_deepnote_index_column": "2020-12-10T00:00:00.000000"
                },
                {
                  "France_bond": 0.003370316,
                  "US_bond": 0.001007787,
                  "Commodities": -0.001128672,
                  "Europe_equity": -0.007928103,
                  "AEX": -0.005906349,
                  "Bist": 0.01270156,
                  "Nasdaq": -0.002749964,
                  "Emerging_equity": 0.003441671,
                  "loss": -0.00036931797118593124,
                  "_deepnote_index_column": "2020-12-11T00:00:00.000000"
                },
                {
                  "France_bond": -0.001367821,
                  "US_bond": 0.002563054,
                  "Commodities": 0.005446398,
                  "Europe_equity": 0.003907275,
                  "AEX": -0.002574703,
                  "Bist": 0.017507999,
                  "Nasdaq": 0.007730968,
                  "Emerging_equity": -0.004442716,
                  "loss": -0.003624308608818183,
                  "_deepnote_index_column": "2020-12-14T00:00:00.000000"
                },
                {
                  "France_bond": -0.000596816,
                  "US_bond": 0.000370646,
                  "Commodities": 0.005648549,
                  "Europe_equity": 0.002337058,
                  "AEX": 0.007250803,
                  "Bist": 0.005682943,
                  "Nasdaq": 0.013454198,
                  "Emerging_equity": -0.001377399,
                  "loss": -0.004115417173191027,
                  "_deepnote_index_column": "2020-12-15T00:00:00.000000"
                },
                {
                  "France_bond": -0.003940892,
                  "US_bond": 0.001856877,
                  "Commodities": 0.005868815,
                  "Europe_equity": 0.008411955,
                  "AEX": 0.007294994,
                  "Bist": 0.002034341,
                  "Nasdaq": 0.006397043,
                  "Emerging_equity": 0.009430069,
                  "loss": -0.004688658658736591,
                  "_deepnote_index_column": "2020-12-16T00:00:00.000000"
                },
                {
                  "France_bond": 0.000916235,
                  "US_bond": 0.006906868,
                  "Commodities": 0.009253258,
                  "Europe_equity": 0.002686303,
                  "AEX": 0.004636607,
                  "Bist": 0.013840507,
                  "Nasdaq": 0.015177145,
                  "Emerging_equity": 0.009525362,
                  "loss": -0.007910178088257308,
                  "_deepnote_index_column": "2020-12-17T00:00:00.000000"
                },
                {
                  "France_bond": -0.000281829,
                  "US_bond": -0.002021876,
                  "Commodities": 0.005892733,
                  "Europe_equity": -0.003215047,
                  "AEX": 0.0008,
                  "Bist": 0.006339748,
                  "Nasdaq": -0.002510298,
                  "Emerging_equity": -0.004510578,
                  "loss": -0.00006890734057592163,
                  "_deepnote_index_column": "2020-12-18T00:00:00.000000"
                },
                {
                  "France_bond": 0.000739632,
                  "US_bond": -0.000360798,
                  "Commodities": -0.010227315,
                  "Europe_equity": -0.023925918,
                  "AEX": -0.025693088,
                  "Bist": -0.015039888,
                  "Nasdaq": -0.001519571,
                  "Emerging_equity": -0.007673865,
                  "loss": 0.010361759971742004,
                  "_deepnote_index_column": "2020-12-21T00:00:00.000000"
                },
                {
                  "France_bond": 0.000598349,
                  "US_bond": -0.0038915,
                  "Commodities": -0.007144507,
                  "Europe_equity": 0.01128537,
                  "AEX": 0.013220587,
                  "Bist": 0.018839798,
                  "Nasdaq": 0.000365579,
                  "Emerging_equity": -0.007759405,
                  "loss": -0.0032384817341821748,
                  "_deepnote_index_column": "2020-12-22T00:00:00.000000"
                },
                {
                  "France_bond": -0.004620086,
                  "US_bond": 0.000718039,
                  "Commodities": 0.010990088,
                  "Europe_equity": 0.010475754,
                  "AEX": 0.00793601,
                  "Bist": 0.016243933,
                  "Nasdaq": -0.001072345,
                  "Emerging_equity": 0.007887239,
                  "loss": -0.006110150778354639,
                  "_deepnote_index_column": "2020-12-23T00:00:00.000000"
                },
                {
                  "France_bond": 0.0000706964,
                  "US_bond": 0.000575024,
                  "Commodities": 0.001936175,
                  "Europe_equity": 0.000991178,
                  "AEX": 0.006326164,
                  "Bist": 0.005837516,
                  "Nasdaq": 0.002629045,
                  "Emerging_equity": -0.003354476,
                  "loss": -0.0018825075135720515,
                  "_deepnote_index_column": "2020-12-24T00:00:00.000000"
                },
                {
                  "France_bond": 0,
                  "US_bond": 0.000253582,
                  "Commodities": -0.010465086,
                  "Europe_equity": 0.006457004,
                  "AEX": 0.001945887,
                  "Bist": 0.011872421,
                  "Nasdaq": 0.007367715,
                  "Emerging_equity": -0.004816969,
                  "loss": -0.0016001861022588437,
                  "_deepnote_index_column": "2020-12-28T00:00:00.000000"
                },
                {
                  "France_bond": 0.003915832,
                  "US_bond": 0.003117798,
                  "Commodities": 0.007774431,
                  "Europe_equity": 0.007195158,
                  "AEX": 0.002466701,
                  "Bist": 0.012478397,
                  "Nasdaq": -0.000633187,
                  "Emerging_equity": 0.01358305,
                  "loss": -0.006267632871789969,
                  "_deepnote_index_column": "2020-12-29T00:00:00.000000"
                },
                {
                  "France_bond": -0.00028171,
                  "US_bond": 0.002620767,
                  "Commodities": 0.006312669,
                  "Europe_equity": -0.003278325,
                  "AEX": -0.001718131,
                  "Bist": 0.004815592,
                  "Nasdaq": 0.003820824,
                  "Emerging_equity": 0.014901151,
                  "loss": -0.003419202709119662,
                  "_deepnote_index_column": "2020-12-30T00:00:00.000000"
                },
                {
                  "France_bond": 0.0000352181,
                  "US_bond": -0.003421137,
                  "Commodities": 0.00782821,
                  "Europe_equity": -0.003098323,
                  "AEX": -0.005508269,
                  "Bist": -0.002164699,
                  "Nasdaq": -0.002660623,
                  "Emerging_equity": 0.002948143,
                  "loss": 0.0007468435158351217,
                  "_deepnote_index_column": "2020-12-31T00:00:00.000000"
                },
                {
                  "France_bond": 0.001372539,
                  "US_bond": 0.000855276,
                  "Commodities": -0.004966767,
                  "Europe_equity": 0.006987245,
                  "AEX": 0.01022602,
                  "Bist": 0.011315106,
                  "Nasdaq": -0.014838433,
                  "Emerging_equity": 0.006823026,
                  "loss": -0.0022577126551297094,
                  "_deepnote_index_column": "2021-01-04T00:00:00.000000"
                },
                {
                  "France_bond": -0.000985222,
                  "US_bond": 0.002279498,
                  "Commodities": 0.025226149,
                  "Europe_equity": -0.001664227,
                  "AEX": 0.004095947,
                  "Bist": -0.002341289,
                  "Nasdaq": 0.012785648,
                  "Emerging_equity": 0.014825424,
                  "loss": -0.0068438668874600955,
                  "_deepnote_index_column": "2021-01-05T00:00:00.000000"
                },
                {
                  "France_bond": -0.001938088,
                  "US_bond": -0.002785598,
                  "Commodities": 0.002014419,
                  "Europe_equity": 0.014031395,
                  "AEX": 0.008705374,
                  "Bist": 0.016832191,
                  "Nasdaq": -0.006523419,
                  "Emerging_equity": -0.004297995,
                  "loss": -0.003294485044813736,
                  "_deepnote_index_column": "2021-01-06T00:00:00.000000"
                },
                {
                  "France_bond": -0.000599806,
                  "US_bond": -0.00312044,
                  "Commodities": 0.001845628,
                  "Europe_equity": 0.005126111,
                  "AEX": -0.002741724,
                  "Bist": 0.009332602,
                  "Nasdaq": 0.023281798,
                  "Emerging_equity": 0.005034761,
                  "loss": -0.004814013816307514,
                  "_deepnote_index_column": "2021-01-07T00:00:00.000000"
                },
                {
                  "France_bond": 0.000635077,
                  "US_bond": -0.002295756,
                  "Commodities": 0.007950439,
                  "Europe_equity": 0.006613394,
                  "AEX": 0.012767032,
                  "Bist": 0.012015311,
                  "Nasdaq": 0.009179629,
                  "Emerging_equity": 0.022586544,
                  "loss": -0.008745212501861152,
                  "_deepnote_index_column": "2021-01-08T00:00:00.000000"
                },
                {
                  "France_bond": -0.002542733,
                  "US_bond": -0.007303875,
                  "Commodities": -0.005287376,
                  "Europe_equity": -0.006385899,
                  "AEX": -0.004937811,
                  "Bist": -0.008366755,
                  "Nasdaq": -0.019416527,
                  "Emerging_equity": -0.001063793,
                  "loss": 0.0068757129153403235,
                  "_deepnote_index_column": "2021-01-11T00:00:00.000000"
                },
                {
                  "France_bond": -0.003648799,
                  "US_bond": -0.000104819,
                  "Commodities": 0.012040844,
                  "Europe_equity": 0.000628442,
                  "AEX": 0.001804097,
                  "Bist": 0.014336968,
                  "Nasdaq": 0.002675507,
                  "Emerging_equity": 0.002202508,
                  "loss": -0.00376566098116507,
                  "_deepnote_index_column": "2021-01-12T00:00:00.000000"
                },
                {
                  "France_bond": 0.005344672,
                  "US_bond": 0.00130404,
                  "Commodities": 0.001456864,
                  "Europe_equity": 0.000805647,
                  "AEX": 0.001242256,
                  "Bist": 0.017847833,
                  "Nasdaq": 0.003574365,
                  "Emerging_equity": 0.006829713,
                  "loss": -0.00482658785733403,
                  "_deepnote_index_column": "2021-01-13T00:00:00.000000"
                },
                {
                  "France_bond": 0.001411035,
                  "US_bond": -0.000681777,
                  "Commodities": 0.008645231,
                  "Europe_equity": 0.00734476,
                  "AEX": 0.018877718,
                  "Bist": -0.015825425,
                  "Nasdaq": -0.001489826,
                  "Emerging_equity": 0.006755069,
                  "loss": -0.0031787976376051463,
                  "_deepnote_index_column": "2021-01-14T00:00:00.000000"
                },
                {
                  "France_bond": -0.001481639,
                  "US_bond": -0.00256917,
                  "Commodities": -0.007400194,
                  "Europe_equity": -0.009966525,
                  "AEX": -0.007536005,
                  "Bist": -0.01439247,
                  "Nasdaq": -0.013442755,
                  "Emerging_equity": -0.010518112,
                  "loss": 0.008368648370747953,
                  "_deepnote_index_column": "2021-01-15T00:00:00.000000"
                },
                {
                  "France_bond": 0.000636515,
                  "US_bond": 0.000273371,
                  "Commodities": -0.004507924,
                  "Europe_equity": -0.001741862,
                  "AEX": 0.001505925,
                  "Bist": 0.006872273,
                  "Nasdaq": 0.015169204,
                  "Emerging_equity": 0.011964677,
                  "loss": -0.0037995478405488947,
                  "_deepnote_index_column": "2021-01-19T00:00:00.000000"
                },
                {
                  "France_bond": -0.0000707039,
                  "US_bond": 0.00048174,
                  "Commodities": 0.002858817,
                  "Europe_equity": 0.006973989,
                  "AEX": 0.012238946,
                  "Bist": 0.008996854,
                  "Nasdaq": 0.019514824,
                  "Emerging_equity": 0.015999359,
                  "loss": -0.008432317316114643,
                  "_deepnote_index_column": "2021-01-20T00:00:00.000000"
                },
                {
                  "France_bond": -0.004073903,
                  "US_bond": 0.001047194,
                  "Commodities": -0.003355087,
                  "Europe_equity": 0.0000452339,
                  "AEX": 0.00692277,
                  "Bist": -0.018527786,
                  "Nasdaq": 0.005458704,
                  "Emerging_equity": -0.000110427,
                  "loss": 0.0015461635575013954,
                  "_deepnote_index_column": "2021-01-21T00:00:00.000000"
                },
                {
                  "France_bond": 0.001631553,
                  "US_bond": 0.003486283,
                  "Commodities": -0.011819508,
                  "Europe_equity": -0.005475806,
                  "AEX": -0.005058831,
                  "Bist": -0.005882164,
                  "Nasdaq": 0.003857826,
                  "Emerging_equity": -0.008288858,
                  "loss": 0.0034232248749045957,
                  "_deepnote_index_column": "2021-01-22T00:00:00.000000"
                },
                {
                  "France_bond": 0.003643636,
                  "US_bond": -0.000911772,
                  "Commodities": 0.007583912,
                  "Europe_equity": -0.007928544,
                  "AEX": -0.003472996,
                  "Bist": 0.005162031,
                  "Nasdaq": 0.003466252,
                  "Emerging_equity": 0.012506374,
                  "loss": -0.0025275061994316367,
                  "_deepnote_index_column": "2021-01-25T00:00:00.000000"
                },
                {
                  "France_bond": -0.001554881,
                  "US_bond": 0.000701925,
                  "Commodities": 0.005398647,
                  "Europe_equity": 0.005759633,
                  "AEX": 0.000455639,
                  "Bist": -0.005719031,
                  "Nasdaq": 0.0000127131,
                  "Emerging_equity": -0.017578038,
                  "loss": 0.001540087736539214,
                  "_deepnote_index_column": "2021-01-26T00:00:00.000000"
                },
                {
                  "France_bond": 0.000565691,
                  "US_bond": -0.002602596,
                  "Commodities": -0.001093927,
                  "Europe_equity": -0.011079072,
                  "AEX": -0.016258024,
                  "Bist": -0.043466487,
                  "Nasdaq": -0.030227205,
                  "Emerging_equity": -0.010129983,
                  "loss": 0.014082541093014503,
                  "_deepnote_index_column": "2021-01-27T00:00:00.000000"
                },
                {
                  "France_bond": -0.000176744,
                  "US_bond": 0.000354382,
                  "Commodities": -0.004780851,
                  "Europe_equity": 0.0000293282,
                  "AEX": 0.001665511,
                  "Bist": 0.027187435,
                  "Nasdaq": 0.006736952,
                  "Emerging_equity": -0.016170472,
                  "loss": -0.0019230191082213327,
                  "_deepnote_index_column": "2021-01-28T00:00:00.000000"
                },
                {
                  "France_bond": -0.002938523,
                  "US_bond": 0.000184826,
                  "Commodities": -0.0000286573,
                  "Europe_equity": -0.019255605,
                  "AEX": -0.018490415,
                  "Bist": -0.016690642,
                  "Nasdaq": -0.01910995,
                  "Emerging_equity": -0.015991482,
                  "loss": 0.011439359281374462,
                  "_deepnote_index_column": "2021-01-29T00:00:00.000000"
                }
              ]
            },
            "text/plain": "            France_bond   US_bond  Commodities  Europe_equity       AEX  \\\nDate                                                                      \n2011-01-03     0.003159  0.002471    -0.000012       0.007588  0.009774   \n2011-01-04     0.001261 -0.004326    -0.016313       0.009136 -0.002783   \n2011-01-05    -0.003997 -0.012094     0.004165       0.000506 -0.004413   \n2011-01-06    -0.000369 -0.005531    -0.011790       0.003599 -0.001092   \n2011-01-07     0.001633 -0.001552    -0.001905      -0.001423 -0.001262   \n...                 ...       ...          ...            ...       ...   \n2021-01-25     0.003644 -0.000912     0.007584      -0.007929 -0.003473   \n2021-01-26    -0.001555  0.000702     0.005399       0.005760  0.000456   \n2021-01-27     0.000566 -0.002603    -0.001094      -0.011079 -0.016258   \n2021-01-28    -0.000177  0.000354    -0.004781       0.000029  0.001666   \n2021-01-29    -0.002939  0.000185    -0.000029      -0.019256 -0.018490   \n\n                Bist    Nasdaq  Emerging_equity      loss  \nDate                                                       \n2011-01-03  0.027034  0.014464         0.014587 -0.009966  \n2011-01-04  0.021361 -0.008696        -0.000189  0.000012  \n2011-01-05  0.020592 -0.002414        -0.000618 -0.000255  \n2011-01-06  0.002400 -0.008152        -0.007841  0.003577  \n2011-01-07 -0.007835 -0.008875        -0.009135  0.003779  \n...              ...       ...              ...       ...  \n2021-01-25  0.005162  0.003466         0.012506 -0.002528  \n2021-01-26 -0.005719  0.000013        -0.017578  0.001540  \n2021-01-27 -0.043466 -0.030227        -0.010130  0.014083  \n2021-01-28  0.027187  0.006737        -0.016170 -0.001923  \n2021-01-29 -0.016691 -0.019110        -0.015991  0.011439  \n\n[2517 rows x 9 columns]",
            "text/html": "<div>\n<style scoped>\n    .dataframe tbody tr th:only-of-type {\n        vertical-align: middle;\n    }\n\n    .dataframe tbody tr th {\n        vertical-align: top;\n    }\n\n    .dataframe thead th {\n        text-align: right;\n    }\n</style>\n<table border=\"1\" class=\"dataframe\">\n  <thead>\n    <tr style=\"text-align: right;\">\n      <th></th>\n      <th>France_bond</th>\n      <th>US_bond</th>\n      <th>Commodities</th>\n      <th>Europe_equity</th>\n      <th>AEX</th>\n      <th>Bist</th>\n      <th>Nasdaq</th>\n      <th>Emerging_equity</th>\n      <th>loss</th>\n    </tr>\n    <tr>\n      <th>Date</th>\n      <th></th>\n      <th></th>\n      <th></th>\n      <th></th>\n      <th></th>\n      <th></th>\n      <th></th>\n      <th></th>\n      <th></th>\n    </tr>\n  </thead>\n  <tbody>\n    <tr>\n      <th>2011-01-03</th>\n      <td>0.003159</td>\n      <td>0.002471</td>\n      <td>-0.000012</td>\n      <td>0.007588</td>\n      <td>0.009774</td>\n      <td>0.027034</td>\n      <td>0.014464</td>\n      <td>0.014587</td>\n      <td>-0.009966</td>\n    </tr>\n    <tr>\n      <th>2011-01-04</th>\n      <td>0.001261</td>\n      <td>-0.004326</td>\n      <td>-0.016313</td>\n      <td>0.009136</td>\n      <td>-0.002783</td>\n      <td>0.021361</td>\n      <td>-0.008696</td>\n      <td>-0.000189</td>\n      <td>0.000012</td>\n    </tr>\n    <tr>\n      <th>2011-01-05</th>\n      <td>-0.003997</td>\n      <td>-0.012094</td>\n      <td>0.004165</td>\n      <td>0.000506</td>\n      <td>-0.004413</td>\n      <td>0.020592</td>\n      <td>-0.002414</td>\n      <td>-0.000618</td>\n      <td>-0.000255</td>\n    </tr>\n    <tr>\n      <th>2011-01-06</th>\n      <td>-0.000369</td>\n      <td>-0.005531</td>\n      <td>-0.011790</td>\n      <td>0.003599</td>\n      <td>-0.001092</td>\n      <td>0.002400</td>\n      <td>-0.008152</td>\n      <td>-0.007841</td>\n      <td>0.003577</td>\n    </tr>\n    <tr>\n      <th>2011-01-07</th>\n      <td>0.001633</td>\n      <td>-0.001552</td>\n      <td>-0.001905</td>\n      <td>-0.001423</td>\n      <td>-0.001262</td>\n      <td>-0.007835</td>\n      <td>-0.008875</td>\n      <td>-0.009135</td>\n      <td>0.003779</td>\n    </tr>\n    <tr>\n      <th>...</th>\n      <td>...</td>\n      <td>...</td>\n      <td>...</td>\n      <td>...</td>\n      <td>...</td>\n      <td>...</td>\n      <td>...</td>\n      <td>...</td>\n      <td>...</td>\n    </tr>\n    <tr>\n      <th>2021-01-25</th>\n      <td>0.003644</td>\n      <td>-0.000912</td>\n      <td>0.007584</td>\n      <td>-0.007929</td>\n      <td>-0.003473</td>\n      <td>0.005162</td>\n      <td>0.003466</td>\n      <td>0.012506</td>\n      <td>-0.002528</td>\n    </tr>\n    <tr>\n      <th>2021-01-26</th>\n      <td>-0.001555</td>\n      <td>0.000702</td>\n      <td>0.005399</td>\n      <td>0.005760</td>\n      <td>0.000456</td>\n      <td>-0.005719</td>\n      <td>0.000013</td>\n      <td>-0.017578</td>\n      <td>0.001540</td>\n    </tr>\n    <tr>\n      <th>2021-01-27</th>\n      <td>0.000566</td>\n      <td>-0.002603</td>\n      <td>-0.001094</td>\n      <td>-0.011079</td>\n      <td>-0.016258</td>\n      <td>-0.043466</td>\n      <td>-0.030227</td>\n      <td>-0.010130</td>\n      <td>0.014083</td>\n    </tr>\n    <tr>\n      <th>2021-01-28</th>\n      <td>-0.000177</td>\n      <td>0.000354</td>\n      <td>-0.004781</td>\n      <td>0.000029</td>\n      <td>0.001666</td>\n      <td>0.027187</td>\n      <td>0.006737</td>\n      <td>-0.016170</td>\n      <td>-0.001923</td>\n    </tr>\n    <tr>\n      <th>2021-01-29</th>\n      <td>-0.002939</td>\n      <td>0.000185</td>\n      <td>-0.000029</td>\n      <td>-0.019256</td>\n      <td>-0.018490</td>\n      <td>-0.016691</td>\n      <td>-0.019110</td>\n      <td>-0.015991</td>\n      <td>0.011439</td>\n    </tr>\n  </tbody>\n</table>\n<p>2517 rows × 9 columns</p>\n</div>"
          },
          "metadata": {}
        }
      ]
    },
    {
      "cell_type": "code",
      "metadata": {
        "tags": [],
        "cell_id": "00008-032c59cc-aca7-4d28-9bf5-5c58c862f45c",
        "deepnote_to_be_reexecuted": false,
        "source_hash": "b8c82ffb",
        "execution_start": 1619884459677,
        "execution_millis": 351,
        "deepnote_cell_type": "code"
      },
      "source": "plt.hist(L.loss,bins=150)",
      "execution_count": null,
      "outputs": [
        {
          "output_type": "execute_result",
          "execution_count": 191,
          "data": {
            "text/plain": "(array([  1.,   0.,   0.,   0.,   0.,   0.,   0.,   0.,   0.,   0.,   0.,\n          0.,   0.,   0.,   0.,   0.,   0.,   0.,   0.,   0.,   0.,   0.,\n          0.,   0.,   1.,   1.,   0.,   1.,   0.,   0.,   1.,   2.,   1.,\n          1.,   0.,   1.,   1.,   2.,   1.,   2.,   3.,   7.,   4.,   8.,\n          6.,  10.,  10.,  23.,  15.,  25.,  24.,  32.,  49.,  47.,  62.,\n        103., 108., 109., 128., 152., 173., 172., 174., 140., 149., 121.,\n        107.,  90.,  67.,  62.,  56.,  50.,  35.,  28.,  22.,  18.,  16.,\n          9.,  10.,  16.,  12.,   8.,   6.,   2.,   9.,   2.,   3.,   1.,\n          1.,   2.,   1.,   0.,   1.,   1.,   1.,   0.,   0.,   1.,   0.,\n          0.,   0.,   1.,   1.,   1.,   0.,   0.,   0.,   0.,   0.,   1.,\n          1.,   0.,   0.,   2.,   0.,   0.,   0.,   0.,   0.,   0.,   0.,\n          0.,   0.,   0.,   1.,   0.,   0.,   0.,   1.,   0.,   0.,   0.,\n          0.,   0.,   0.,   0.,   0.,   0.,   0.,   0.,   0.,   0.,   0.,\n          0.,   0.,   0.,   0.,   0.,   0.,   1.]),\n array([-0.04972826, -0.04893232, -0.04813638, -0.04734044, -0.0465445 ,\n        -0.04574857, -0.04495263, -0.04415669, -0.04336075, -0.04256481,\n        -0.04176887, -0.04097293, -0.04017699, -0.03938105, -0.03858512,\n        -0.03778918, -0.03699324, -0.0361973 , -0.03540136, -0.03460542,\n        -0.03380948, -0.03301354, -0.0322176 , -0.03142167, -0.03062573,\n        -0.02982979, -0.02903385, -0.02823791, -0.02744197, -0.02664603,\n        -0.02585009, -0.02505415, -0.02425822, -0.02346228, -0.02266634,\n        -0.0218704 , -0.02107446, -0.02027852, -0.01948258, -0.01868664,\n        -0.0178907 , -0.01709477, -0.01629883, -0.01550289, -0.01470695,\n        -0.01391101, -0.01311507, -0.01231913, -0.01152319, -0.01072726,\n        -0.00993132, -0.00913538, -0.00833944, -0.0075435 , -0.00674756,\n        -0.00595162, -0.00515568, -0.00435974, -0.00356381, -0.00276787,\n        -0.00197193, -0.00117599, -0.00038005,  0.00041589,  0.00121183,\n         0.00200777,  0.00280371,  0.00359964,  0.00439558,  0.00519152,\n         0.00598746,  0.0067834 ,  0.00757934,  0.00837528,  0.00917122,\n         0.00996716,  0.01076309,  0.01155903,  0.01235497,  0.01315091,\n         0.01394685,  0.01474279,  0.01553873,  0.01633467,  0.01713061,\n         0.01792654,  0.01872248,  0.01951842,  0.02031436,  0.0211103 ,\n         0.02190624,  0.02270218,  0.02349812,  0.02429406,  0.02508999,\n         0.02588593,  0.02668187,  0.02747781,  0.02827375,  0.02906969,\n         0.02986563,  0.03066157,  0.03145751,  0.03225344,  0.03304938,\n         0.03384532,  0.03464126,  0.0354372 ,  0.03623314,  0.03702908,\n         0.03782502,  0.03862096,  0.03941689,  0.04021283,  0.04100877,\n         0.04180471,  0.04260065,  0.04339659,  0.04419253,  0.04498847,\n         0.04578441,  0.04658034,  0.04737628,  0.04817222,  0.04896816,\n         0.0497641 ,  0.05056004,  0.05135598,  0.05215192,  0.05294785,\n         0.05374379,  0.05453973,  0.05533567,  0.05613161,  0.05692755,\n         0.05772349,  0.05851943,  0.05931537,  0.0601113 ,  0.06090724,\n         0.06170318,  0.06249912,  0.06329506,  0.064091  ,  0.06488694,\n         0.06568288,  0.06647882,  0.06727475,  0.06807069,  0.06886663,\n         0.06966257]),\n <BarContainer object of 150 artists>)"
          },
          "metadata": {}
        },
        {
          "data": {
            "text/plain": "<Figure size 432x288 with 1 Axes>",
            "image/png": "[encoded data removed]"
          },
          "metadata": {
            "needs_background": "light",
            "image/png": {
              "width": 375,
              "height": 248
            }
          },
          "output_type": "display_data"
        }
      ]
    },
    {
      "cell_type": "code",
      "metadata": {
        "tags": [],
        "cell_id": "00011-ea1051f8-ba90-4297-9b82-52bfdce3d0cf",
        "deepnote_to_be_reexecuted": false,
        "source_hash": "5cafd34",
        "execution_start": 1619905394651,
        "execution_millis": 403,
        "deepnote_cell_type": "code"
      },
      "source": "sm.qqplot(L['loss'], stats.t, distargs=(4.5,),fit=True, line=\"45\")\nplt.savefig('vali_student45.jpg',dpi=100)",
      "execution_count": null,
      "outputs": [
        {
          "name": "stderr",
          "text": "/root/venv/lib/python3.7/site-packages/statsmodels/graphics/gofplots.py:993: UserWarning: marker is redundantly defined by the 'marker' keyword argument and the fmt string \"bo\" (-> marker='o'). The keyword argument will take precedence.\n  ax.plot(x, y, fmt, **plot_style)\n",
          "output_type": "stream"
        },
        {
          "data": {
            "text/plain": "<Figure size 432x288 with 1 Axes>",
            "image/png": "[encoded data removed]"
          },
          "metadata": {
            "needs_background": "light",
            "image/png": {
              "width": 391,
              "height": 262
            }
          },
          "output_type": "display_data"
        }
      ]
    },
    {
      "cell_type": "code",
      "metadata": {
        "tags": [],
        "cell_id": "00012-76d89168-2d78-498e-9c4b-68f3c9484a68",
        "deepnote_to_be_reexecuted": false,
        "source_hash": "fa73b824",
        "execution_start": 1619905629718,
        "execution_millis": 293,
        "deepnote_cell_type": "code"
      },
      "source": "stats.probplot(L['loss'], dist=\"norm\",plot=plt)\nplt.title('')\nplt.savefig('vali_normal.jpg',dpi=100)",
      "execution_count": null,
      "outputs": [
        {
          "data": {
            "text/plain": "<Figure size 432x288 with 1 Axes>",
            "image/png": "[encoded data removed]"
          },
          "metadata": {
            "needs_background": "light",
            "image/png": {
              "width": 400,
              "height": 262
            }
          },
          "output_type": "display_data"
        }
      ]
    },
    {
      "cell_type": "code",
      "metadata": {
        "tags": [],
        "cell_id": "00010-e9d02743-dc51-432c-acdb-953a049535ac",
        "deepnote_to_be_reexecuted": false,
        "source_hash": "4ead55ff",
        "execution_start": 1619884536523,
        "execution_millis": 3,
        "deepnote_cell_type": "code"
      },
      "source": "def filter_hist(stock,df):\n    lambda_hist=0.94\n    result = pd.DataFrame(columns = [stock,'variance','vola'])\n    result[stock]=df[stock]\n    result['variance'][0]=0\n    #result['variance'][1]=result[stock][1]**2\n    #result['vola'][1] = result[stock][1]\n    # result['variance'][1]=np.var(result[stock][0:50])\n    # result['vola'][1] = np.sqrt(result[stock][0:50])\n    result['variance'][1]=np.var(result[stock][0:50])\n    result['vola'][1] = np.std(result[stock][0:50])\n    \n    for i in np.arange(2,len(result),1):\n        result['variance'][i] = lambda_hist * (result['vola'][i-1]**2) + (1-lambda_hist)*(result[stock][i-1]**2)\n        result['vola'][i] = np.sqrt(result['variance'][i])\n\n    #result['variance'][1]=result[stock][1]**2\n    #result['vola'][1] = result[stock][1]\n    # result['variance'][1]=np.var(result[stock][0:50])\n    # result['vola'][1] = np.sqrt(result[stock][0:50])\n    result['variance'][1]=np.var(result[stock][0:50])\n    result['vola'][1] = np.std(result[stock][0:50])\n    result['riskfactor'] = result[stock]/result['vola']\n    return result.dropna()\n\n# def filter_hist(stock,df):\n#     lambda_hist=0.94\n#     result = pd.DataFrame(columns = [stock,'variance','vola'])\n#     result[stock]=df[stock]\n#     result['variance'][0]=0\n#     result['variance'][1]=result[stock][1]**2\n#     result['vola'][1] = result[stock][1]\n    \n#     for i in np.arange(2,len(result),1):\n#         result['variance'][i] = lambda_hist * (result['vola'][i-1]**2) + (1-lambda_hist)*(result[stock][i-1]**2)\n#         result['vola'][i] = np.sqrt(result['variance'][i])\n#     result['variance'][1]=result[stock][1]**2\n    \n#     result['vola'][1]= np.sqrt(result['variance'][1])\n#     result['riskfactor'] = result[stock]/result['vola']\n#     return result.dropna()\n\n\ndef filter_simulation(df,k):\n    franceresult=filter_hist('France_bond',df)\n    usresult=filter_hist('US_bond',df)\n    comresult=filter_hist('Commodities',df)\n    euroresult=filter_hist('Europe_equity',df)\n    aexresult=filter_hist('AEX',df)\n    bistresult=filter_hist('Bist',df)\n    nasresult=filter_hist('Nasdaq',df)\n    emeresult=filter_hist('Emerging_equity',df)\n    \n    portfolio = pd.DataFrame(columns = ['port'])\n    portfolio['port'] = np.arange(0,len(aexresult),1)\n    portfolio['VaR_975'] = np.arange(0,len(aexresult),1)\n    portfolio['VaR_99'] = np.arange(0,len(aexresult),1)\n    portfolio['ES_99'] = np.arange(0,len(aexresult),1)\n    portfolio['ES_975'] = np.arange(0,len(aexresult),1)\n    portfolio.index =franceresult.index\n    \n    for i in range(0,len(franceresult)-k,1):\n        franceresult_value_risk = franceresult['vola'][i+k]*franceresult['riskfactor'][i:i+k]*1/8\n        usresult_value_risk = usresult['vola'][i+k]*usresult['riskfactor'][i:i+k]*1/8\n        aexresult_value_risk = aexresult['vola'][i+k]*aexresult['riskfactor'][i:i+k]*1/8\n        euroresult_value_risk = euroresult['vola'][i+k]*euroresult['riskfactor'][i:i+k]*1/8\n        comresult_value_risk = comresult['vola'][i+k]*comresult['riskfactor'][i:i+k]*1/8\n        bistresult_value_risk = bistresult['vola'][i+k]*bistresult['riskfactor'][i:i+k]*1/8\n        nasresult_value_risk = nasresult['vola'][i+k]*nasresult['riskfactor'][i:i+k]*1/8\n        emeresult_value_risk = emeresult['vola'][i+k]*emeresult['riskfactor'][i:i+k]*1/8\n        \n        value_risk = franceresult_value_risk+ usresult_value_risk+ aexresult_value_risk+euroresult_value_risk+ comresult_value_risk+ bistresult_value_risk + nasresult_value_risk + emeresult_value_risk\n        portfolio.VaR_975[i+k:i+k+1] = value_risk.quantile(q=0.975)\n        portfolio.VaR_99[i+k:i+k+1] = value_risk.quantile(q=0.99)\n        portfolio.ES_975[i+k:i+k+1] =  value_risk[value_risk >= value_risk.quantile(q=0.975)].mean()\n        portfolio.ES_99[i+k:i+k+1] =  value_risk[value_risk >= value_risk.quantile(q=0.99)].mean()\n    return portfolio[k:]",
      "execution_count": null,
      "outputs": []
    },
    {
      "cell_type": "code",
      "metadata": {
        "tags": [],
        "cell_id": "00011-4fd6e9e5-b837-4213-b0f5-a5b839bbfce7",
        "deepnote_to_be_reexecuted": false,
        "source_hash": "d1c83807",
        "execution_start": 1619884540581,
        "execution_millis": 52466,
        "deepnote_cell_type": "code"
      },
      "source": "fhs_roll_daily = filter_simulation(L.iloc[:,:8],k=500)\nfhs_roll_daily",
      "execution_count": null,
      "outputs": [
        {
          "name": "stderr",
          "text": "/shared-libs/python3.7/py-core/lib/python3.7/site-packages/ipykernel_launcher.py:5: SettingWithCopyWarning: \nA value is trying to be set on a copy of a slice from a DataFrame\n\nSee the caveats in the documentation: https://pandas.pydata.org/pandas-docs/stable/user_guide/indexing.html#returning-a-view-versus-a-copy\n  \"\"\"\n/shared-libs/python3.7/py-core/lib/python3.7/site-packages/ipykernel_launcher.py:10: SettingWithCopyWarning: \nA value is trying to be set on a copy of a slice from a DataFrame\n\nSee the caveats in the documentation: https://pandas.pydata.org/pandas-docs/stable/user_guide/indexing.html#returning-a-view-versus-a-copy\n  # Remove the CWD from sys.path while we load stuff.\n/shared-libs/python3.7/py-core/lib/python3.7/site-packages/ipykernel_launcher.py:11: SettingWithCopyWarning: \nA value is trying to be set on a copy of a slice from a DataFrame\n\nSee the caveats in the documentation: https://pandas.pydata.org/pandas-docs/stable/user_guide/indexing.html#returning-a-view-versus-a-copy\n  # This is added back by InteractiveShellApp.init_path()\n/shared-libs/python3.7/py-core/lib/python3.7/site-packages/ipykernel_launcher.py:14: SettingWithCopyWarning: \nA value is trying to be set on a copy of a slice from a DataFrame\n\nSee the caveats in the documentation: https://pandas.pydata.org/pandas-docs/stable/user_guide/indexing.html#returning-a-view-versus-a-copy\n  \n/shared-libs/python3.7/py-core/lib/python3.7/site-packages/ipykernel_launcher.py:15: SettingWithCopyWarning: \nA value is trying to be set on a copy of a slice from a DataFrame\n\nSee the caveats in the documentation: https://pandas.pydata.org/pandas-docs/stable/user_guide/indexing.html#returning-a-view-versus-a-copy\n  from ipykernel import kernelapp as app\n/shared-libs/python3.7/py-core/lib/python3.7/site-packages/ipykernel_launcher.py:21: SettingWithCopyWarning: \nA value is trying to be set on a copy of a slice from a DataFrame\n\nSee the caveats in the documentation: https://pandas.pydata.org/pandas-docs/stable/user_guide/indexing.html#returning-a-view-versus-a-copy\n/shared-libs/python3.7/py-core/lib/python3.7/site-packages/ipykernel_launcher.py:22: SettingWithCopyWarning: \nA value is trying to be set on a copy of a slice from a DataFrame\n\nSee the caveats in the documentation: https://pandas.pydata.org/pandas-docs/stable/user_guide/indexing.html#returning-a-view-versus-a-copy\n/shared-libs/python3.7/py-core/lib/python3.7/site-packages/ipykernel_launcher.py:5: SettingWithCopyWarning: \nA value is trying to be set on a copy of a slice from a DataFrame\n\nSee the caveats in the documentation: https://pandas.pydata.org/pandas-docs/stable/user_guide/indexing.html#returning-a-view-versus-a-copy\n  \"\"\"\n/shared-libs/python3.7/py-core/lib/python3.7/site-packages/ipykernel_launcher.py:10: SettingWithCopyWarning: \nA value is trying to be set on a copy of a slice from a DataFrame\n\nSee the caveats in the documentation: https://pandas.pydata.org/pandas-docs/stable/user_guide/indexing.html#returning-a-view-versus-a-copy\n  # Remove the CWD from sys.path while we load stuff.\n/shared-libs/python3.7/py-core/lib/python3.7/site-packages/ipykernel_launcher.py:11: SettingWithCopyWarning: \nA value is trying to be set on a copy of a slice from a DataFrame\n\nSee the caveats in the documentation: https://pandas.pydata.org/pandas-docs/stable/user_guide/indexing.html#returning-a-view-versus-a-copy\n  # This is added back by InteractiveShellApp.init_path()\n/shared-libs/python3.7/py-core/lib/python3.7/site-packages/ipykernel_launcher.py:14: SettingWithCopyWarning: \nA value is trying to be set on a copy of a slice from a DataFrame\n\nSee the caveats in the documentation: https://pandas.pydata.org/pandas-docs/stable/user_guide/indexing.html#returning-a-view-versus-a-copy\n  \n/shared-libs/python3.7/py-core/lib/python3.7/site-packages/ipykernel_launcher.py:15: SettingWithCopyWarning: \nA value is trying to be set on a copy of a slice from a DataFrame\n\nSee the caveats in the documentation: https://pandas.pydata.org/pandas-docs/stable/user_guide/indexing.html#returning-a-view-versus-a-copy\n  from ipykernel import kernelapp as app\n/shared-libs/python3.7/py-core/lib/python3.7/site-packages/ipykernel_launcher.py:21: SettingWithCopyWarning: \nA value is trying to be set on a copy of a slice from a DataFrame\n\nSee the caveats in the documentation: https://pandas.pydata.org/pandas-docs/stable/user_guide/indexing.html#returning-a-view-versus-a-copy\n/shared-libs/python3.7/py-core/lib/python3.7/site-packages/ipykernel_launcher.py:22: SettingWithCopyWarning: \nA value is trying to be set on a copy of a slice from a DataFrame\n\nSee the caveats in the documentation: https://pandas.pydata.org/pandas-docs/stable/user_guide/indexing.html#returning-a-view-versus-a-copy\n/shared-libs/python3.7/py-core/lib/python3.7/site-packages/ipykernel_launcher.py:5: SettingWithCopyWarning: \nA value is trying to be set on a copy of a slice from a DataFrame\n\nSee the caveats in the documentation: https://pandas.pydata.org/pandas-docs/stable/user_guide/indexing.html#returning-a-view-versus-a-copy\n  \"\"\"\n/shared-libs/python3.7/py-core/lib/python3.7/site-packages/ipykernel_launcher.py:10: SettingWithCopyWarning: \nA value is trying to be set on a copy of a slice from a DataFrame\n\nSee the caveats in the documentation: https://pandas.pydata.org/pandas-docs/stable/user_guide/indexing.html#returning-a-view-versus-a-copy\n  # Remove the CWD from sys.path while we load stuff.\n/shared-libs/python3.7/py-core/lib/python3.7/site-packages/ipykernel_launcher.py:11: SettingWithCopyWarning: \nA value is trying to be set on a copy of a slice from a DataFrame\n\nSee the caveats in the documentation: https://pandas.pydata.org/pandas-docs/stable/user_guide/indexing.html#returning-a-view-versus-a-copy\n  # This is added back by InteractiveShellApp.init_path()\n/shared-libs/python3.7/py-core/lib/python3.7/site-packages/ipykernel_launcher.py:14: SettingWithCopyWarning: \nA value is trying to be set on a copy of a slice from a DataFrame\n\nSee the caveats in the documentation: https://pandas.pydata.org/pandas-docs/stable/user_guide/indexing.html#returning-a-view-versus-a-copy\n  \n/shared-libs/python3.7/py-core/lib/python3.7/site-packages/ipykernel_launcher.py:15: SettingWithCopyWarning: \nA value is trying to be set on a copy of a slice from a DataFrame\n\nSee the caveats in the documentation: https://pandas.pydata.org/pandas-docs/stable/user_guide/indexing.html#returning-a-view-versus-a-copy\n  from ipykernel import kernelapp as app\n/shared-libs/python3.7/py-core/lib/python3.7/site-packages/ipykernel_launcher.py:21: SettingWithCopyWarning: \nA value is trying to be set on a copy of a slice from a DataFrame\n\nSee the caveats in the documentation: https://pandas.pydata.org/pandas-docs/stable/user_guide/indexing.html#returning-a-view-versus-a-copy\n/shared-libs/python3.7/py-core/lib/python3.7/site-packages/ipykernel_launcher.py:22: SettingWithCopyWarning: \nA value is trying to be set on a copy of a slice from a DataFrame\n\nSee the caveats in the documentation: https://pandas.pydata.org/pandas-docs/stable/user_guide/indexing.html#returning-a-view-versus-a-copy\n/shared-libs/python3.7/py-core/lib/python3.7/site-packages/ipykernel_launcher.py:5: SettingWithCopyWarning: \nA value is trying to be set on a copy of a slice from a DataFrame\n\nSee the caveats in the documentation: https://pandas.pydata.org/pandas-docs/stable/user_guide/indexing.html#returning-a-view-versus-a-copy\n  \"\"\"\n/shared-libs/python3.7/py-core/lib/python3.7/site-packages/ipykernel_launcher.py:10: SettingWithCopyWarning: \nA value is trying to be set on a copy of a slice from a DataFrame\n\nSee the caveats in the documentation: https://pandas.pydata.org/pandas-docs/stable/user_guide/indexing.html#returning-a-view-versus-a-copy\n  # Remove the CWD from sys.path while we load stuff.\n/shared-libs/python3.7/py-core/lib/python3.7/site-packages/ipykernel_launcher.py:11: SettingWithCopyWarning: \nA value is trying to be set on a copy of a slice from a DataFrame\n\nSee the caveats in the documentation: https://pandas.pydata.org/pandas-docs/stable/user_guide/indexing.html#returning-a-view-versus-a-copy\n  # This is added back by InteractiveShellApp.init_path()\n/shared-libs/python3.7/py-core/lib/python3.7/site-packages/ipykernel_launcher.py:14: SettingWithCopyWarning: \nA value is trying to be set on a copy of a slice from a DataFrame\n\nSee the caveats in the documentation: https://pandas.pydata.org/pandas-docs/stable/user_guide/indexing.html#returning-a-view-versus-a-copy\n  \n/shared-libs/python3.7/py-core/lib/python3.7/site-packages/ipykernel_launcher.py:15: SettingWithCopyWarning: \nA value is trying to be set on a copy of a slice from a DataFrame\n\nSee the caveats in the documentation: https://pandas.pydata.org/pandas-docs/stable/user_guide/indexing.html#returning-a-view-versus-a-copy\n  from ipykernel import kernelapp as app\n/shared-libs/python3.7/py-core/lib/python3.7/site-packages/ipykernel_launcher.py:21: SettingWithCopyWarning: \nA value is trying to be set on a copy of a slice from a DataFrame\n\nSee the caveats in the documentation: https://pandas.pydata.org/pandas-docs/stable/user_guide/indexing.html#returning-a-view-versus-a-copy\n/shared-libs/python3.7/py-core/lib/python3.7/site-packages/ipykernel_launcher.py:22: SettingWithCopyWarning: \nA value is trying to be set on a copy of a slice from a DataFrame\n\nSee the caveats in the documentation: https://pandas.pydata.org/pandas-docs/stable/user_guide/indexing.html#returning-a-view-versus-a-copy\n/shared-libs/python3.7/py-core/lib/python3.7/site-packages/ipykernel_launcher.py:5: SettingWithCopyWarning: \nA value is trying to be set on a copy of a slice from a DataFrame\n\nSee the caveats in the documentation: https://pandas.pydata.org/pandas-docs/stable/user_guide/indexing.html#returning-a-view-versus-a-copy\n  \"\"\"\n/shared-libs/python3.7/py-core/lib/python3.7/site-packages/ipykernel_launcher.py:10: SettingWithCopyWarning: \nA value is trying to be set on a copy of a slice from a DataFrame\n\nSee the caveats in the documentation: https://pandas.pydata.org/pandas-docs/stable/user_guide/indexing.html#returning-a-view-versus-a-copy\n  # Remove the CWD from sys.path while we load stuff.\n/shared-libs/python3.7/py-core/lib/python3.7/site-packages/ipykernel_launcher.py:11: SettingWithCopyWarning: \nA value is trying to be set on a copy of a slice from a DataFrame\n\nSee the caveats in the documentation: https://pandas.pydata.org/pandas-docs/stable/user_guide/indexing.html#returning-a-view-versus-a-copy\n  # This is added back by InteractiveShellApp.init_path()\n/shared-libs/python3.7/py-core/lib/python3.7/site-packages/ipykernel_launcher.py:14: SettingWithCopyWarning: \nA value is trying to be set on a copy of a slice from a DataFrame\n\nSee the caveats in the documentation: https://pandas.pydata.org/pandas-docs/stable/user_guide/indexing.html#returning-a-view-versus-a-copy\n  \n/shared-libs/python3.7/py-core/lib/python3.7/site-packages/ipykernel_launcher.py:15: SettingWithCopyWarning: \nA value is trying to be set on a copy of a slice from a DataFrame\n\nSee the caveats in the documentation: https://pandas.pydata.org/pandas-docs/stable/user_guide/indexing.html#returning-a-view-versus-a-copy\n  from ipykernel import kernelapp as app\n/shared-libs/python3.7/py-core/lib/python3.7/site-packages/ipykernel_launcher.py:21: SettingWithCopyWarning: \nA value is trying to be set on a copy of a slice from a DataFrame\n\nSee the caveats in the documentation: https://pandas.pydata.org/pandas-docs/stable/user_guide/indexing.html#returning-a-view-versus-a-copy\n/shared-libs/python3.7/py-core/lib/python3.7/site-packages/ipykernel_launcher.py:22: SettingWithCopyWarning: \nA value is trying to be set on a copy of a slice from a DataFrame\n\nSee the caveats in the documentation: https://pandas.pydata.org/pandas-docs/stable/user_guide/indexing.html#returning-a-view-versus-a-copy\n/shared-libs/python3.7/py-core/lib/python3.7/site-packages/ipykernel_launcher.py:5: SettingWithCopyWarning: \nA value is trying to be set on a copy of a slice from a DataFrame\n\nSee the caveats in the documentation: https://pandas.pydata.org/pandas-docs/stable/user_guide/indexing.html#returning-a-view-versus-a-copy\n  \"\"\"\n/shared-libs/python3.7/py-core/lib/python3.7/site-packages/ipykernel_launcher.py:10: SettingWithCopyWarning: \nA value is trying to be set on a copy of a slice from a DataFrame\n\nSee the caveats in the documentation: https://pandas.pydata.org/pandas-docs/stable/user_guide/indexing.html#returning-a-view-versus-a-copy\n  # Remove the CWD from sys.path while we load stuff.\n/shared-libs/python3.7/py-core/lib/python3.7/site-packages/ipykernel_launcher.py:11: SettingWithCopyWarning: \nA value is trying to be set on a copy of a slice from a DataFrame\n\nSee the caveats in the documentation: https://pandas.pydata.org/pandas-docs/stable/user_guide/indexing.html#returning-a-view-versus-a-copy\n  # This is added back by InteractiveShellApp.init_path()\n/shared-libs/python3.7/py-core/lib/python3.7/site-packages/ipykernel_launcher.py:14: SettingWithCopyWarning: \nA value is trying to be set on a copy of a slice from a DataFrame\n\nSee the caveats in the documentation: https://pandas.pydata.org/pandas-docs/stable/user_guide/indexing.html#returning-a-view-versus-a-copy\n  \n/shared-libs/python3.7/py-core/lib/python3.7/site-packages/ipykernel_launcher.py:15: SettingWithCopyWarning: \nA value is trying to be set on a copy of a slice from a DataFrame\n\nSee the caveats in the documentation: https://pandas.pydata.org/pandas-docs/stable/user_guide/indexing.html#returning-a-view-versus-a-copy\n  from ipykernel import kernelapp as app\n/shared-libs/python3.7/py-core/lib/python3.7/site-packages/ipykernel_launcher.py:21: SettingWithCopyWarning: \nA value is trying to be set on a copy of a slice from a DataFrame\n\nSee the caveats in the documentation: https://pandas.pydata.org/pandas-docs/stable/user_guide/indexing.html#returning-a-view-versus-a-copy\n/shared-libs/python3.7/py-core/lib/python3.7/site-packages/ipykernel_launcher.py:22: SettingWithCopyWarning: \nA value is trying to be set on a copy of a slice from a DataFrame\n\nSee the caveats in the documentation: https://pandas.pydata.org/pandas-docs/stable/user_guide/indexing.html#returning-a-view-versus-a-copy\n/shared-libs/python3.7/py-core/lib/python3.7/site-packages/ipykernel_launcher.py:5: SettingWithCopyWarning: \nA value is trying to be set on a copy of a slice from a DataFrame\n\nSee the caveats in the documentation: https://pandas.pydata.org/pandas-docs/stable/user_guide/indexing.html#returning-a-view-versus-a-copy\n  \"\"\"\n/shared-libs/python3.7/py-core/lib/python3.7/site-packages/ipykernel_launcher.py:10: SettingWithCopyWarning: \nA value is trying to be set on a copy of a slice from a DataFrame\n\nSee the caveats in the documentation: https://pandas.pydata.org/pandas-docs/stable/user_guide/indexing.html#returning-a-view-versus-a-copy\n  # Remove the CWD from sys.path while we load stuff.\n/shared-libs/python3.7/py-core/lib/python3.7/site-packages/ipykernel_launcher.py:11: SettingWithCopyWarning: \nA value is trying to be set on a copy of a slice from a DataFrame\n\nSee the caveats in the documentation: https://pandas.pydata.org/pandas-docs/stable/user_guide/indexing.html#returning-a-view-versus-a-copy\n  # This is added back by InteractiveShellApp.init_path()\n/shared-libs/python3.7/py-core/lib/python3.7/site-packages/ipykernel_launcher.py:14: SettingWithCopyWarning: \nA value is trying to be set on a copy of a slice from a DataFrame\n\nSee the caveats in the documentation: https://pandas.pydata.org/pandas-docs/stable/user_guide/indexing.html#returning-a-view-versus-a-copy\n  \n/shared-libs/python3.7/py-core/lib/python3.7/site-packages/ipykernel_launcher.py:15: SettingWithCopyWarning: \nA value is trying to be set on a copy of a slice from a DataFrame\n\nSee the caveats in the documentation: https://pandas.pydata.org/pandas-docs/stable/user_guide/indexing.html#returning-a-view-versus-a-copy\n  from ipykernel import kernelapp as app\n/shared-libs/python3.7/py-core/lib/python3.7/site-packages/ipykernel_launcher.py:21: SettingWithCopyWarning: \nA value is trying to be set on a copy of a slice from a DataFrame\n\nSee the caveats in the documentation: https://pandas.pydata.org/pandas-docs/stable/user_guide/indexing.html#returning-a-view-versus-a-copy\n/shared-libs/python3.7/py-core/lib/python3.7/site-packages/ipykernel_launcher.py:22: SettingWithCopyWarning: \nA value is trying to be set on a copy of a slice from a DataFrame\n\nSee the caveats in the documentation: https://pandas.pydata.org/pandas-docs/stable/user_guide/indexing.html#returning-a-view-versus-a-copy\n/shared-libs/python3.7/py-core/lib/python3.7/site-packages/ipykernel_launcher.py:5: SettingWithCopyWarning: \nA value is trying to be set on a copy of a slice from a DataFrame\n\nSee the caveats in the documentation: https://pandas.pydata.org/pandas-docs/stable/user_guide/indexing.html#returning-a-view-versus-a-copy\n  \"\"\"\n/shared-libs/python3.7/py-core/lib/python3.7/site-packages/ipykernel_launcher.py:10: SettingWithCopyWarning: \nA value is trying to be set on a copy of a slice from a DataFrame\n\nSee the caveats in the documentation: https://pandas.pydata.org/pandas-docs/stable/user_guide/indexing.html#returning-a-view-versus-a-copy\n  # Remove the CWD from sys.path while we load stuff.\n/shared-libs/python3.7/py-core/lib/python3.7/site-packages/ipykernel_launcher.py:11: SettingWithCopyWarning: \nA value is trying to be set on a copy of a slice from a DataFrame\n\nSee the caveats in the documentation: https://pandas.pydata.org/pandas-docs/stable/user_guide/indexing.html#returning-a-view-versus-a-copy\n  # This is added back by InteractiveShellApp.init_path()\n/shared-libs/python3.7/py-core/lib/python3.7/site-packages/ipykernel_launcher.py:14: SettingWithCopyWarning: \nA value is trying to be set on a copy of a slice from a DataFrame\n\nSee the caveats in the documentation: https://pandas.pydata.org/pandas-docs/stable/user_guide/indexing.html#returning-a-view-versus-a-copy\n  \n/shared-libs/python3.7/py-core/lib/python3.7/site-packages/ipykernel_launcher.py:15: SettingWithCopyWarning: \nA value is trying to be set on a copy of a slice from a DataFrame\n\nSee the caveats in the documentation: https://pandas.pydata.org/pandas-docs/stable/user_guide/indexing.html#returning-a-view-versus-a-copy\n  from ipykernel import kernelapp as app\n/shared-libs/python3.7/py-core/lib/python3.7/site-packages/ipykernel_launcher.py:21: SettingWithCopyWarning: \nA value is trying to be set on a copy of a slice from a DataFrame\n\nSee the caveats in the documentation: https://pandas.pydata.org/pandas-docs/stable/user_guide/indexing.html#returning-a-view-versus-a-copy\n/shared-libs/python3.7/py-core/lib/python3.7/site-packages/ipykernel_launcher.py:22: SettingWithCopyWarning: \nA value is trying to be set on a copy of a slice from a DataFrame\n\nSee the caveats in the documentation: https://pandas.pydata.org/pandas-docs/stable/user_guide/indexing.html#returning-a-view-versus-a-copy\n/shared-libs/python3.7/py-core/lib/python3.7/site-packages/ipykernel_launcher.py:74: SettingWithCopyWarning: \nA value is trying to be set on a copy of a slice from a DataFrame\n\nSee the caveats in the documentation: https://pandas.pydata.org/pandas-docs/stable/user_guide/indexing.html#returning-a-view-versus-a-copy\n/shared-libs/python3.7/py-core/lib/python3.7/site-packages/ipykernel_launcher.py:75: SettingWithCopyWarning: \nA value is trying to be set on a copy of a slice from a DataFrame\n\nSee the caveats in the documentation: https://pandas.pydata.org/pandas-docs/stable/user_guide/indexing.html#returning-a-view-versus-a-copy\n/shared-libs/python3.7/py-core/lib/python3.7/site-packages/ipykernel_launcher.py:76: SettingWithCopyWarning: \nA value is trying to be set on a copy of a slice from a DataFrame\n\nSee the caveats in the documentation: https://pandas.pydata.org/pandas-docs/stable/user_guide/indexing.html#returning-a-view-versus-a-copy\n/shared-libs/python3.7/py-core/lib/python3.7/site-packages/ipykernel_launcher.py:73: SettingWithCopyWarning: \nA value is trying to be set on a copy of a slice from a DataFrame\n\nSee the caveats in the documentation: https://pandas.pydata.org/pandas-docs/stable/user_guide/indexing.html#returning-a-view-versus-a-copy\n",
          "output_type": "stream"
        },
        {
          "output_type": "execute_result",
          "execution_count": 194,
          "data": {
            "application/vnd.deepnote.dataframe.v2+json": {
              "row_count": 2016,
              "column_count": 5,
              "columns": [
                {
                  "name": "port",
                  "dtype": "int64",
                  "stats": {
                    "unique_count": 2016,
                    "nan_count": 0,
                    "min": "500",
                    "max": "2515",
                    "histogram": [
                      {
                        "bin_start": 500,
                        "bin_end": 701.5,
                        "count": 202
                      },
                      {
                        "bin_start": 701.5,
                        "bin_end": 903,
                        "count": 201
                      },
                      {
                        "bin_start": 903,
                        "bin_end": 1104.5,
                        "count": 202
                      },
                      {
                        "bin_start": 1104.5,
                        "bin_end": 1306,
                        "count": 201
                      },
                      {
                        "bin_start": 1306,
                        "bin_end": 1507.5,
                        "count": 202
                      },
                      {
                        "bin_start": 1507.5,
                        "bin_end": 1709,
                        "count": 201
                      },
                      {
                        "bin_start": 1709,
                        "bin_end": 1910.5,
                        "count": 202
                      },
                      {
                        "bin_start": 1910.5,
                        "bin_end": 2112,
                        "count": 201
                      },
                      {
                        "bin_start": 2112,
                        "bin_end": 2313.5,
                        "count": 202
                      },
                      {
                        "bin_start": 2313.5,
                        "bin_end": 2515,
                        "count": 202
                      }
                    ]
                  }
                },
                {
                  "name": "VaR_975",
                  "dtype": "float64",
                  "stats": {
                    "unique_count": 2016,
                    "nan_count": 0,
                    "min": "0.005842617971997029",
                    "max": "0.03671207157791588",
                    "histogram": [
                      {
                        "bin_start": 0.005842617971997029,
                        "bin_end": 0.008929563332588914,
                        "count": 652
                      },
                      {
                        "bin_start": 0.008929563332588914,
                        "bin_end": 0.0120165086931808,
                        "count": 923
                      },
                      {
                        "bin_start": 0.0120165086931808,
                        "bin_end": 0.015103454053772685,
                        "count": 278
                      },
                      {
                        "bin_start": 0.015103454053772685,
                        "bin_end": 0.01819039941436457,
                        "count": 103
                      },
                      {
                        "bin_start": 0.01819039941436457,
                        "bin_end": 0.021277344774956457,
                        "count": 12
                      },
                      {
                        "bin_start": 0.021277344774956457,
                        "bin_end": 0.02436429013554834,
                        "count": 10
                      },
                      {
                        "bin_start": 0.02436429013554834,
                        "bin_end": 0.027451235496140227,
                        "count": 11
                      },
                      {
                        "bin_start": 0.027451235496140227,
                        "bin_end": 0.03053818085673211,
                        "count": 9
                      },
                      {
                        "bin_start": 0.03053818085673211,
                        "bin_end": 0.033625126217324,
                        "count": 7
                      },
                      {
                        "bin_start": 0.033625126217324,
                        "bin_end": 0.03671207157791588,
                        "count": 11
                      }
                    ]
                  }
                },
                {
                  "name": "VaR_99",
                  "dtype": "float64",
                  "stats": {
                    "unique_count": 2016,
                    "nan_count": 0,
                    "min": "0.006624577100460919",
                    "max": "0.048326602736621545",
                    "histogram": [
                      {
                        "bin_start": 0.006624577100460919,
                        "bin_end": 0.010794779664076982,
                        "count": 657
                      },
                      {
                        "bin_start": 0.010794779664076982,
                        "bin_end": 0.014964982227693045,
                        "count": 966
                      },
                      {
                        "bin_start": 0.014964982227693045,
                        "bin_end": 0.019135184791309108,
                        "count": 242
                      },
                      {
                        "bin_start": 0.019135184791309108,
                        "bin_end": 0.02330538735492517,
                        "count": 96
                      },
                      {
                        "bin_start": 0.02330538735492517,
                        "bin_end": 0.02747558991854123,
                        "count": 10
                      },
                      {
                        "bin_start": 0.02747558991854123,
                        "bin_end": 0.0316457924821573,
                        "count": 10
                      },
                      {
                        "bin_start": 0.0316457924821573,
                        "bin_end": 0.03581599504577336,
                        "count": 8
                      },
                      {
                        "bin_start": 0.03581599504577336,
                        "bin_end": 0.03998619760938942,
                        "count": 9
                      },
                      {
                        "bin_start": 0.03998619760938942,
                        "bin_end": 0.04415640017300548,
                        "count": 12
                      },
                      {
                        "bin_start": 0.04415640017300548,
                        "bin_end": 0.048326602736621545,
                        "count": 6
                      }
                    ]
                  }
                },
                {
                  "name": "ES_99",
                  "dtype": "float64",
                  "stats": {
                    "unique_count": 2016,
                    "nan_count": 0,
                    "min": "0.007158252112013516",
                    "max": "0.05263870389167359",
                    "histogram": [
                      {
                        "bin_start": 0.007158252112013516,
                        "bin_end": 0.011706297289979524,
                        "count": 442
                      },
                      {
                        "bin_start": 0.011706297289979524,
                        "bin_end": 0.01625434246794553,
                        "count": 868
                      },
                      {
                        "bin_start": 0.01625434246794553,
                        "bin_end": 0.02080238764591154,
                        "count": 531
                      },
                      {
                        "bin_start": 0.02080238764591154,
                        "bin_end": 0.02535043282387755,
                        "count": 111
                      },
                      {
                        "bin_start": 0.02535043282387755,
                        "bin_end": 0.029898478001843556,
                        "count": 19
                      },
                      {
                        "bin_start": 0.029898478001843556,
                        "bin_end": 0.03444652317980956,
                        "count": 10
                      },
                      {
                        "bin_start": 0.03444652317980956,
                        "bin_end": 0.038994568357775566,
                        "count": 9
                      },
                      {
                        "bin_start": 0.038994568357775566,
                        "bin_end": 0.04354261353574158,
                        "count": 6
                      },
                      {
                        "bin_start": 0.04354261353574158,
                        "bin_end": 0.04809065871370759,
                        "count": 8
                      },
                      {
                        "bin_start": 0.04809065871370759,
                        "bin_end": 0.05263870389167359,
                        "count": 12
                      }
                    ]
                  }
                },
                {
                  "name": "ES_975",
                  "dtype": "float64",
                  "stats": {
                    "unique_count": 2016,
                    "nan_count": 0,
                    "min": "0.0065447610664929445",
                    "max": "0.04605495827717503",
                    "histogram": [
                      {
                        "bin_start": 0.0065447610664929445,
                        "bin_end": 0.010495780787561153,
                        "count": 567
                      },
                      {
                        "bin_start": 0.010495780787561153,
                        "bin_end": 0.014446800508629362,
                        "count": 918
                      },
                      {
                        "bin_start": 0.014446800508629362,
                        "bin_end": 0.01839782022969757,
                        "count": 363
                      },
                      {
                        "bin_start": 0.01839782022969757,
                        "bin_end": 0.02234883995076578,
                        "count": 107
                      },
                      {
                        "bin_start": 0.02234883995076578,
                        "bin_end": 0.026299859671833986,
                        "count": 16
                      },
                      {
                        "bin_start": 0.026299859671833986,
                        "bin_end": 0.030250879392902198,
                        "count": 10
                      },
                      {
                        "bin_start": 0.030250879392902198,
                        "bin_end": 0.0342018991139704,
                        "count": 8
                      },
                      {
                        "bin_start": 0.0342018991139704,
                        "bin_end": 0.038152918835038616,
                        "count": 9
                      },
                      {
                        "bin_start": 0.038152918835038616,
                        "bin_end": 0.04210393855610682,
                        "count": 10
                      },
                      {
                        "bin_start": 0.04210393855610682,
                        "bin_end": 0.04605495827717503,
                        "count": 8
                      }
                    ]
                  }
                },
                {
                  "name": "_deepnote_index_column",
                  "dtype": "datetime64[ns]"
                }
              ],
              "rows_top": [
                {
                  "port": 500,
                  "VaR_975": 0.009514526268965078,
                  "VaR_99": 0.01218529400277535,
                  "ES_99": 0.014888389908328237,
                  "ES_975": 0.01238716550076128,
                  "_deepnote_index_column": "2013-01-07T00:00:00.000000"
                },
                {
                  "port": 501,
                  "VaR_975": 0.009304744402282503,
                  "VaR_99": 0.0119122819303866,
                  "ES_99": 0.014585904109911512,
                  "ES_975": 0.012135151282447475,
                  "_deepnote_index_column": "2013-01-08T00:00:00.000000"
                },
                {
                  "port": 502,
                  "VaR_975": 0.00910418847545294,
                  "VaR_99": 0.01166890928050686,
                  "ES_99": 0.014271777454785934,
                  "ES_975": 0.011870766212273176,
                  "_deepnote_index_column": "2013-01-09T00:00:00.000000"
                },
                {
                  "port": 503,
                  "VaR_975": 0.008985873345767526,
                  "VaR_99": 0.011465502382443754,
                  "ES_99": 0.014065225578720789,
                  "ES_975": 0.011706541045007755,
                  "_deepnote_index_column": "2013-01-10T00:00:00.000000"
                },
                {
                  "port": 504,
                  "VaR_975": 0.009084737583274976,
                  "VaR_99": 0.011657274018044264,
                  "ES_99": 0.014360884469259223,
                  "ES_975": 0.011938403909319828,
                  "_deepnote_index_column": "2013-01-11T00:00:00.000000"
                },
                {
                  "port": 505,
                  "VaR_975": 0.009048815761978322,
                  "VaR_99": 0.011645105937100214,
                  "ES_99": 0.014327003479063174,
                  "ES_975": 0.011886326851656342,
                  "_deepnote_index_column": "2013-01-14T00:00:00.000000"
                },
                {
                  "port": 506,
                  "VaR_975": 0.009043641532406431,
                  "VaR_99": 0.011512491060268488,
                  "ES_99": 0.014247197745630852,
                  "ES_975": 0.01181519067245354,
                  "_deepnote_index_column": "2013-01-15T00:00:00.000000"
                },
                {
                  "port": 507,
                  "VaR_975": 0.008932043463624908,
                  "VaR_99": 0.011284990614151363,
                  "ES_99": 0.014008663805251051,
                  "ES_975": 0.011615344555478876,
                  "_deepnote_index_column": "2013-01-16T00:00:00.000000"
                },
                {
                  "port": 508,
                  "VaR_975": 0.009041273401306608,
                  "VaR_99": 0.011154367012498216,
                  "ES_99": 0.013913547898673837,
                  "ES_975": 0.011556801616387363,
                  "_deepnote_index_column": "2013-01-17T00:00:00.000000"
                },
                {
                  "port": 509,
                  "VaR_975": 0.008986285150606774,
                  "VaR_99": 0.01113586580129627,
                  "ES_99": 0.013787478631715252,
                  "ES_975": 0.011476138500523075,
                  "_deepnote_index_column": "2013-01-18T00:00:00.000000"
                },
                {
                  "port": 510,
                  "VaR_975": 0.008804217685434377,
                  "VaR_99": 0.010919760789099895,
                  "ES_99": 0.0134883621297188,
                  "ES_975": 0.011240353792171382,
                  "_deepnote_index_column": "2013-01-22T00:00:00.000000"
                },
                {
                  "port": 511,
                  "VaR_975": 0.008559732268703952,
                  "VaR_99": 0.01062507154679451,
                  "ES_99": 0.013118277684446835,
                  "ES_975": 0.01093398935875346,
                  "_deepnote_index_column": "2013-01-23T00:00:00.000000"
                },
                {
                  "port": 512,
                  "VaR_975": 0.008339078391557085,
                  "VaR_99": 0.010353827698805659,
                  "ES_99": 0.012778870520039653,
                  "ES_975": 0.010652081595696992,
                  "_deepnote_index_column": "2013-01-24T00:00:00.000000"
                },
                {
                  "port": 513,
                  "VaR_975": 0.00816790497643249,
                  "VaR_99": 0.010167299567783504,
                  "ES_99": 0.012530872036703564,
                  "ES_975": 0.010448680874895812,
                  "_deepnote_index_column": "2013-01-25T00:00:00.000000"
                },
                {
                  "port": 514,
                  "VaR_975": 0.008248533703290447,
                  "VaR_99": 0.010520367294768584,
                  "ES_99": 0.012693472716705581,
                  "ES_975": 0.01064250947876985,
                  "_deepnote_index_column": "2013-01-28T00:00:00.000000"
                },
                {
                  "port": 515,
                  "VaR_975": 0.009034267330511138,
                  "VaR_99": 0.011709168252090367,
                  "ES_99": 0.01357241036991511,
                  "ES_975": 0.011546700280516652,
                  "_deepnote_index_column": "2013-01-29T00:00:00.000000"
                },
                {
                  "port": 516,
                  "VaR_975": 0.008895353590555991,
                  "VaR_99": 0.011550991856786933,
                  "ES_99": 0.013405236438222385,
                  "ES_975": 0.011391854291952096,
                  "_deepnote_index_column": "2013-01-30T00:00:00.000000"
                },
                {
                  "port": 517,
                  "VaR_975": 0.00936241913530629,
                  "VaR_99": 0.01191131678590831,
                  "ES_99": 0.013935513278833703,
                  "ES_975": 0.011848893153083944,
                  "_deepnote_index_column": "2013-01-31T00:00:00.000000"
                },
                {
                  "port": 518,
                  "VaR_975": 0.009228382989737476,
                  "VaR_99": 0.011733217723560264,
                  "ES_99": 0.013726847031919509,
                  "ES_975": 0.011677086888710582,
                  "_deepnote_index_column": "2013-02-01T00:00:00.000000"
                },
                {
                  "port": 519,
                  "VaR_975": 0.009481599539489058,
                  "VaR_99": 0.012176805498895634,
                  "ES_99": 0.01412903151289678,
                  "ES_975": 0.012016710264180495,
                  "_deepnote_index_column": "2013-02-04T00:00:00.000000"
                },
                {
                  "port": 520,
                  "VaR_975": 0.010378334355832814,
                  "VaR_99": 0.01338501987931377,
                  "ES_99": 0.01573189134258566,
                  "ES_975": 0.013304722299978443,
                  "_deepnote_index_column": "2013-02-05T00:00:00.000000"
                },
                {
                  "port": 521,
                  "VaR_975": 0.010270780381818544,
                  "VaR_99": 0.013226773292889906,
                  "ES_99": 0.015580027419952788,
                  "ES_975": 0.013174500116437839,
                  "_deepnote_index_column": "2013-02-06T00:00:00.000000"
                },
                {
                  "port": 522,
                  "VaR_975": 0.010092061678819902,
                  "VaR_99": 0.013068605151063051,
                  "ES_99": 0.01534269622261335,
                  "ES_975": 0.012977739005358107,
                  "_deepnote_index_column": "2013-02-07T00:00:00.000000"
                },
                {
                  "port": 523,
                  "VaR_975": 0.010199605876983767,
                  "VaR_99": 0.013312548985917315,
                  "ES_99": 0.015556842333895982,
                  "ES_975": 0.013137102335265056,
                  "_deepnote_index_column": "2013-02-08T00:00:00.000000"
                },
                {
                  "port": 524,
                  "VaR_975": 0.010103182244196443,
                  "VaR_99": 0.01313517488056287,
                  "ES_99": 0.015435409309010736,
                  "ES_975": 0.013030206980357804,
                  "_deepnote_index_column": "2013-02-11T00:00:00.000000"
                },
                {
                  "port": 525,
                  "VaR_975": 0.010094271600697386,
                  "VaR_99": 0.013021107057226262,
                  "ES_99": 0.015332570937265916,
                  "ES_975": 0.012958636832990951,
                  "_deepnote_index_column": "2013-02-12T00:00:00.000000"
                },
                {
                  "port": 526,
                  "VaR_975": 0.009915837545239293,
                  "VaR_99": 0.012764977804377494,
                  "ES_99": 0.015040754170835497,
                  "ES_975": 0.012716883284050332,
                  "_deepnote_index_column": "2013-02-13T00:00:00.000000"
                },
                {
                  "port": 527,
                  "VaR_975": 0.009693699746686097,
                  "VaR_99": 0.012572567433524837,
                  "ES_99": 0.014728241875275544,
                  "ES_975": 0.012464227583628511,
                  "_deepnote_index_column": "2013-02-14T00:00:00.000000"
                },
                {
                  "port": 528,
                  "VaR_975": 0.009506459714128942,
                  "VaR_99": 0.012402785005392448,
                  "ES_99": 0.01448517599829047,
                  "ES_975": 0.012253694790724325,
                  "_deepnote_index_column": "2013-02-15T00:00:00.000000"
                },
                {
                  "port": 529,
                  "VaR_975": 0.009304208609487158,
                  "VaR_99": 0.012111500881938384,
                  "ES_99": 0.014182812127775741,
                  "ES_975": 0.011993497861380438,
                  "_deepnote_index_column": "2013-02-19T00:00:00.000000"
                },
                {
                  "port": 530,
                  "VaR_975": 0.009326942693153624,
                  "VaR_99": 0.012035601025735088,
                  "ES_99": 0.014277057214869304,
                  "ES_975": 0.012053483937137257,
                  "_deepnote_index_column": "2013-02-20T00:00:00.000000"
                },
                {
                  "port": 531,
                  "VaR_975": 0.009507049168499499,
                  "VaR_99": 0.012185965278643435,
                  "ES_99": 0.014548719282062177,
                  "ES_975": 0.012268947214990451,
                  "_deepnote_index_column": "2013-02-21T00:00:00.000000"
                },
                {
                  "port": 532,
                  "VaR_975": 0.010621209540831494,
                  "VaR_99": 0.013851012487589487,
                  "ES_99": 0.0164299967289147,
                  "ES_975": 0.013829092528942417,
                  "_deepnote_index_column": "2013-02-22T00:00:00.000000"
                },
                {
                  "port": 533,
                  "VaR_975": 0.01067310579654494,
                  "VaR_99": 0.013807472445827204,
                  "ES_99": 0.016504200870005075,
                  "ES_975": 0.013893668672982619,
                  "_deepnote_index_column": "2013-02-25T00:00:00.000000"
                },
                {
                  "port": 534,
                  "VaR_975": 0.010661873802650476,
                  "VaR_99": 0.013728019131306566,
                  "ES_99": 0.01640711848866711,
                  "ES_975": 0.013825524231192697,
                  "_deepnote_index_column": "2013-02-26T00:00:00.000000"
                },
                {
                  "port": 535,
                  "VaR_975": 0.01079367561776838,
                  "VaR_99": 0.014025979495421411,
                  "ES_99": 0.016741005684446197,
                  "ES_975": 0.014111375593457015,
                  "_deepnote_index_column": "2013-02-27T00:00:00.000000"
                },
                {
                  "port": 536,
                  "VaR_975": 0.010773463558373848,
                  "VaR_99": 0.013974761178129246,
                  "ES_99": 0.016678692873505645,
                  "ES_975": 0.014061415730111167,
                  "_deepnote_index_column": "2013-02-28T00:00:00.000000"
                },
                {
                  "port": 537,
                  "VaR_975": 0.010782994041881145,
                  "VaR_99": 0.014016690981490512,
                  "ES_99": 0.01670369429494615,
                  "ES_975": 0.014099745043385832,
                  "_deepnote_index_column": "2013-03-01T00:00:00.000000"
                },
                {
                  "port": 538,
                  "VaR_975": 0.010730103391242932,
                  "VaR_99": 0.013912160947836994,
                  "ES_99": 0.016589638802880093,
                  "ES_975": 0.013966858614705603,
                  "_deepnote_index_column": "2013-03-04T00:00:00.000000"
                },
                {
                  "port": 539,
                  "VaR_975": 0.01057996926847634,
                  "VaR_99": 0.013952947651316785,
                  "ES_99": 0.01640085479454443,
                  "ES_975": 0.013831770664203904,
                  "_deepnote_index_column": "2013-03-05T00:00:00.000000"
                },
                {
                  "port": 540,
                  "VaR_975": 0.011080579537519236,
                  "VaR_99": 0.014339732386716797,
                  "ES_99": 0.017083461450871248,
                  "ES_975": 0.0143896439658846,
                  "_deepnote_index_column": "2013-03-06T00:00:00.000000"
                },
                {
                  "port": 541,
                  "VaR_975": 0.010891322308763008,
                  "VaR_99": 0.014218233342449045,
                  "ES_99": 0.01682073711093522,
                  "ES_975": 0.014177044006028459,
                  "_deepnote_index_column": "2013-03-07T00:00:00.000000"
                },
                {
                  "port": 542,
                  "VaR_975": 0.010869460792771651,
                  "VaR_99": 0.014068778431945102,
                  "ES_99": 0.01675792259703187,
                  "ES_975": 0.014079900628331797,
                  "_deepnote_index_column": "2013-03-08T00:00:00.000000"
                },
                {
                  "port": 543,
                  "VaR_975": 0.010990884020848687,
                  "VaR_99": 0.014375290179193022,
                  "ES_99": 0.017018199151865764,
                  "ES_975": 0.014310647336745815,
                  "_deepnote_index_column": "2013-03-11T00:00:00.000000"
                },
                {
                  "port": 544,
                  "VaR_975": 0.010701402395266941,
                  "VaR_99": 0.01402387345168391,
                  "ES_99": 0.016581560839481195,
                  "ES_975": 0.013947881287750668,
                  "_deepnote_index_column": "2013-03-12T00:00:00.000000"
                },
                {
                  "port": 545,
                  "VaR_975": 0.01043205936226281,
                  "VaR_99": 0.013630884127425144,
                  "ES_99": 0.01617475851064527,
                  "ES_975": 0.013593023250489682,
                  "_deepnote_index_column": "2013-03-13T00:00:00.000000"
                },
                {
                  "port": 546,
                  "VaR_975": 0.010258865355539321,
                  "VaR_99": 0.01336542904131084,
                  "ES_99": 0.015947071889872787,
                  "ES_975": 0.01337957878970928,
                  "_deepnote_index_column": "2013-03-14T00:00:00.000000"
                },
                {
                  "port": 547,
                  "VaR_975": 0.010276318841881536,
                  "VaR_99": 0.0134645534142333,
                  "ES_99": 0.01595119563566432,
                  "ES_975": 0.013410453513448087,
                  "_deepnote_index_column": "2013-03-15T00:00:00.000000"
                },
                {
                  "port": 548,
                  "VaR_975": 0.010204049231089021,
                  "VaR_99": 0.013434222895584299,
                  "ES_99": 0.01587383017730777,
                  "ES_975": 0.013342339443250388,
                  "_deepnote_index_column": "2013-03-18T00:00:00.000000"
                },
                {
                  "port": 549,
                  "VaR_975": 0.010317728149317331,
                  "VaR_99": 0.013391065855085905,
                  "ES_99": 0.016089568950114475,
                  "ES_975": 0.013462293149962638,
                  "_deepnote_index_column": "2013-03-19T00:00:00.000000"
                },
                {
                  "port": 550,
                  "VaR_975": 0.010193548888784461,
                  "VaR_99": 0.01332355882515689,
                  "ES_99": 0.0159097870495683,
                  "ES_975": 0.013332248411848694,
                  "_deepnote_index_column": "2013-03-20T00:00:00.000000"
                },
                {
                  "port": 551,
                  "VaR_975": 0.010136784514827479,
                  "VaR_99": 0.013150827311620237,
                  "ES_99": 0.015784990323589036,
                  "ES_975": 0.013208612813277815,
                  "_deepnote_index_column": "2013-03-21T00:00:00.000000"
                },
                {
                  "port": 552,
                  "VaR_975": 0.010027933192452931,
                  "VaR_99": 0.012955627677421049,
                  "ES_99": 0.015572165115563048,
                  "ES_975": 0.013030809579706192,
                  "_deepnote_index_column": "2013-03-22T00:00:00.000000"
                },
                {
                  "port": 553,
                  "VaR_975": 0.009930488939410417,
                  "VaR_99": 0.012764073780716537,
                  "ES_99": 0.015424068601160568,
                  "ES_975": 0.012889767828745303,
                  "_deepnote_index_column": "2013-03-25T00:00:00.000000"
                },
                {
                  "port": 554,
                  "VaR_975": 0.009913878677510566,
                  "VaR_99": 0.01275343070396596,
                  "ES_99": 0.015425562639519452,
                  "ES_975": 0.012881967057342505,
                  "_deepnote_index_column": "2013-03-26T00:00:00.000000"
                },
                {
                  "port": 555,
                  "VaR_975": 0.009814271422693643,
                  "VaR_99": 0.012756499802985872,
                  "ES_99": 0.015320375633850214,
                  "ES_975": 0.01281644799934991,
                  "_deepnote_index_column": "2013-03-27T00:00:00.000000"
                },
                {
                  "port": 556,
                  "VaR_975": 0.009695214154090897,
                  "VaR_99": 0.012581627886006244,
                  "ES_99": 0.015123543378212156,
                  "ES_975": 0.012647201411148513,
                  "_deepnote_index_column": "2013-03-28T00:00:00.000000"
                },
                {
                  "port": 557,
                  "VaR_975": 0.009602080681147566,
                  "VaR_99": 0.012481321967634709,
                  "ES_99": 0.014977050576031298,
                  "ES_975": 0.012527281623838897,
                  "_deepnote_index_column": "2013-04-01T00:00:00.000000"
                },
                {
                  "port": 558,
                  "VaR_975": 0.009394263286991349,
                  "VaR_99": 0.012168520306498423,
                  "ES_99": 0.014646109371693763,
                  "ES_975": 0.012237748811818567,
                  "_deepnote_index_column": "2013-04-02T00:00:00.000000"
                },
                {
                  "port": 559,
                  "VaR_975": 0.009457568172455261,
                  "VaR_99": 0.012185807074917746,
                  "ES_99": 0.014671901858840902,
                  "ES_975": 0.012264600454191636,
                  "_deepnote_index_column": "2013-04-03T00:00:00.000000"
                },
                {
                  "port": 560,
                  "VaR_975": 0.00970241096964781,
                  "VaR_99": 0.012244693870041332,
                  "ES_99": 0.014974800385898634,
                  "ES_975": 0.012464418020701883,
                  "_deepnote_index_column": "2013-04-04T00:00:00.000000"
                },
                {
                  "port": 561,
                  "VaR_975": 0.009820215634182294,
                  "VaR_99": 0.012715884748455168,
                  "ES_99": 0.015164630213710409,
                  "ES_975": 0.012715812731888375,
                  "_deepnote_index_column": "2013-04-05T00:00:00.000000"
                },
                {
                  "port": 562,
                  "VaR_975": 0.010329612790388468,
                  "VaR_99": 0.013370377807416609,
                  "ES_99": 0.01589297130033437,
                  "ES_975": 0.013369790818777056,
                  "_deepnote_index_column": "2013-04-08T00:00:00.000000"
                },
                {
                  "port": 563,
                  "VaR_975": 0.010116038097893132,
                  "VaR_99": 0.013125834869695138,
                  "ES_99": 0.015620562923801411,
                  "ES_975": 0.01315323068230285,
                  "_deepnote_index_column": "2013-04-09T00:00:00.000000"
                },
                {
                  "port": 564,
                  "VaR_975": 0.010167557186134041,
                  "VaR_99": 0.013409947328439482,
                  "ES_99": 0.015710517499046298,
                  "ES_975": 0.01324468891418384,
                  "_deepnote_index_column": "2013-04-10T00:00:00.000000"
                },
                {
                  "port": 565,
                  "VaR_975": 0.01070103037827214,
                  "VaR_99": 0.013732085156940983,
                  "ES_99": 0.016435394748331868,
                  "ES_975": 0.013834461332824828,
                  "_deepnote_index_column": "2013-04-11T00:00:00.000000"
                },
                {
                  "port": 566,
                  "VaR_975": 0.010692920795717641,
                  "VaR_99": 0.013843548267333151,
                  "ES_99": 0.016553954750447714,
                  "ES_975": 0.013955065995079868,
                  "_deepnote_index_column": "2013-04-12T00:00:00.000000"
                },
                {
                  "port": 567,
                  "VaR_975": 0.010658834720117739,
                  "VaR_99": 0.013816431248095007,
                  "ES_99": 0.01645904900666468,
                  "ES_975": 0.013863694876868227,
                  "_deepnote_index_column": "2013-04-15T00:00:00.000000"
                },
                {
                  "port": 568,
                  "VaR_975": 0.011500432870252493,
                  "VaR_99": 0.014317832560214972,
                  "ES_99": 0.017623288263940252,
                  "ES_975": 0.014683017602746153,
                  "_deepnote_index_column": "2013-04-16T00:00:00.000000"
                },
                {
                  "port": 569,
                  "VaR_975": 0.011548813571075955,
                  "VaR_99": 0.014253087922625257,
                  "ES_99": 0.01764735980635334,
                  "ES_975": 0.014686479293547723,
                  "_deepnote_index_column": "2013-04-17T00:00:00.000000"
                },
                {
                  "port": 570,
                  "VaR_975": 0.011905653071892428,
                  "VaR_99": 0.014706067244824924,
                  "ES_99": 0.01833167332822366,
                  "ES_975": 0.015268482958709513,
                  "_deepnote_index_column": "2013-04-18T00:00:00.000000"
                },
                {
                  "port": 571,
                  "VaR_975": 0.011907373807086112,
                  "VaR_99": 0.014769010405895787,
                  "ES_99": 0.018186541639179817,
                  "ES_975": 0.015164683836688205,
                  "_deepnote_index_column": "2013-04-19T00:00:00.000000"
                },
                {
                  "port": 572,
                  "VaR_975": 0.0117622902079416,
                  "VaR_99": 0.014522951135015047,
                  "ES_99": 0.018039477398083138,
                  "ES_975": 0.015020138653373143,
                  "_deepnote_index_column": "2013-04-22T00:00:00.000000"
                },
                {
                  "port": 573,
                  "VaR_975": 0.011501718586080963,
                  "VaR_99": 0.01425319012559223,
                  "ES_99": 0.01761159296866778,
                  "ES_975": 0.014685038233542214,
                  "_deepnote_index_column": "2013-04-23T00:00:00.000000"
                },
                {
                  "port": 574,
                  "VaR_975": 0.01200695460660011,
                  "VaR_99": 0.015003616829411865,
                  "ES_99": 0.01850598257241417,
                  "ES_975": 0.015495282197052698,
                  "_deepnote_index_column": "2013-04-24T00:00:00.000000"
                },
                {
                  "port": 575,
                  "VaR_975": 0.011681466392017986,
                  "VaR_99": 0.014726365757439018,
                  "ES_99": 0.018247902478379246,
                  "ES_975": 0.015064135190836202,
                  "_deepnote_index_column": "2013-04-25T00:00:00.000000"
                },
                {
                  "port": 576,
                  "VaR_975": 0.011556692875364422,
                  "VaR_99": 0.01445055086093847,
                  "ES_99": 0.018239897584930276,
                  "ES_975": 0.014984184164324102,
                  "_deepnote_index_column": "2013-04-26T00:00:00.000000"
                },
                {
                  "port": 577,
                  "VaR_975": 0.011281617964068433,
                  "VaR_99": 0.014085830139753109,
                  "ES_99": 0.01782565867618415,
                  "ES_975": 0.014634045956424991,
                  "_deepnote_index_column": "2013-04-29T00:00:00.000000"
                },
                {
                  "port": 578,
                  "VaR_975": 0.011202802042839365,
                  "VaR_99": 0.01394828728995824,
                  "ES_99": 0.01788485943070802,
                  "ES_975": 0.014624939375960906,
                  "_deepnote_index_column": "2013-04-30T00:00:00.000000"
                },
                {
                  "port": 579,
                  "VaR_975": 0.011182051724077303,
                  "VaR_99": 0.013903127547903401,
                  "ES_99": 0.01788217291520987,
                  "ES_975": 0.014603528639635356,
                  "_deepnote_index_column": "2013-05-01T00:00:00.000000"
                },
                {
                  "port": 580,
                  "VaR_975": 0.010968500599986521,
                  "VaR_99": 0.013669193420134873,
                  "ES_99": 0.0177612869796001,
                  "ES_975": 0.0144301977578907,
                  "_deepnote_index_column": "2013-05-02T00:00:00.000000"
                },
                {
                  "port": 581,
                  "VaR_975": 0.010858270665157994,
                  "VaR_99": 0.01352895906063533,
                  "ES_99": 0.017659728816729087,
                  "ES_975": 0.014325659948447405,
                  "_deepnote_index_column": "2013-05-03T00:00:00.000000"
                },
                {
                  "port": 582,
                  "VaR_975": 0.010844922761293663,
                  "VaR_99": 0.013553894490125751,
                  "ES_99": 0.017707654104172837,
                  "ES_975": 0.014352250614662172,
                  "_deepnote_index_column": "2013-05-06T00:00:00.000000"
                },
                {
                  "port": 583,
                  "VaR_975": 0.010560879302278208,
                  "VaR_99": 0.013186653136710618,
                  "ES_99": 0.017243726261801963,
                  "ES_975": 0.013973764594435677,
                  "_deepnote_index_column": "2013-05-07T00:00:00.000000"
                },
                {
                  "port": 584,
                  "VaR_975": 0.010283738808288732,
                  "VaR_99": 0.012836168563383215,
                  "ES_99": 0.01679344848375732,
                  "ES_975": 0.013606330743386194,
                  "_deepnote_index_column": "2013-05-08T00:00:00.000000"
                },
                {
                  "port": 585,
                  "VaR_975": 0.010381636503921756,
                  "VaR_99": 0.012933313538419996,
                  "ES_99": 0.016924473865978285,
                  "ES_975": 0.013721658471538787,
                  "_deepnote_index_column": "2013-05-09T00:00:00.000000"
                },
                {
                  "port": 586,
                  "VaR_975": 0.010136324827508206,
                  "VaR_99": 0.012625706944187347,
                  "ES_99": 0.016537667783181203,
                  "ES_975": 0.013406135848011851,
                  "_deepnote_index_column": "2013-05-10T00:00:00.000000"
                },
                {
                  "port": 587,
                  "VaR_975": 0.010147615049704364,
                  "VaR_99": 0.012695427269434538,
                  "ES_99": 0.016679938818064004,
                  "ES_975": 0.013513051568451392,
                  "_deepnote_index_column": "2013-05-13T00:00:00.000000"
                },
                {
                  "port": 588,
                  "VaR_975": 0.009882559286252781,
                  "VaR_99": 0.012350654666409184,
                  "ES_99": 0.0162626577677776,
                  "ES_975": 0.01316707497553508,
                  "_deepnote_index_column": "2013-05-14T00:00:00.000000"
                },
                {
                  "port": 589,
                  "VaR_975": 0.009898208623812457,
                  "VaR_99": 0.01247232845094016,
                  "ES_99": 0.01615775617694477,
                  "ES_975": 0.013131518735666266,
                  "_deepnote_index_column": "2013-05-15T00:00:00.000000"
                },
                {
                  "port": 590,
                  "VaR_975": 0.009784619275844928,
                  "VaR_99": 0.012366130348625671,
                  "ES_99": 0.01602244579814306,
                  "ES_975": 0.01301446731734728,
                  "_deepnote_index_column": "2013-05-16T00:00:00.000000"
                },
                {
                  "port": 591,
                  "VaR_975": 0.00951974542269569,
                  "VaR_99": 0.012068739998153683,
                  "ES_99": 0.015566789943366388,
                  "ES_975": 0.01265875956514411,
                  "_deepnote_index_column": "2013-05-17T00:00:00.000000"
                },
                {
                  "port": 592,
                  "VaR_975": 0.009344574085322913,
                  "VaR_99": 0.011886611851306197,
                  "ES_99": 0.015317662486356728,
                  "ES_975": 0.012451292010607112,
                  "_deepnote_index_column": "2013-05-20T00:00:00.000000"
                },
                {
                  "port": 593,
                  "VaR_975": 0.00949080150715967,
                  "VaR_99": 0.012125641655419399,
                  "ES_99": 0.015284067596322958,
                  "ES_975": 0.012486543814568651,
                  "_deepnote_index_column": "2013-05-21T00:00:00.000000"
                },
                {
                  "port": 594,
                  "VaR_975": 0.009294756777753526,
                  "VaR_99": 0.011955033309188458,
                  "ES_99": 0.014950883466855238,
                  "ES_975": 0.012238789397753554,
                  "_deepnote_index_column": "2013-05-22T00:00:00.000000"
                },
                {
                  "port": 595,
                  "VaR_975": 0.009380146431251216,
                  "VaR_99": 0.012193861555823313,
                  "ES_99": 0.01511223060004383,
                  "ES_975": 0.012394088860146936,
                  "_deepnote_index_column": "2013-05-23T00:00:00.000000"
                },
                {
                  "port": 596,
                  "VaR_975": 0.01016519731680171,
                  "VaR_99": 0.013347620567005582,
                  "ES_99": 0.01640755061302179,
                  "ES_975": 0.01351008948763935,
                  "_deepnote_index_column": "2013-05-24T00:00:00.000000"
                },
                {
                  "port": 597,
                  "VaR_975": 0.009895605495386445,
                  "VaR_99": 0.012971073818865133,
                  "ES_99": 0.015972606541521953,
                  "ES_975": 0.013146399605801853,
                  "_deepnote_index_column": "2013-05-28T00:00:00.000000"
                },
                {
                  "port": 598,
                  "VaR_975": 0.010133794443943741,
                  "VaR_99": 0.013272957813824164,
                  "ES_99": 0.01627855306906843,
                  "ES_975": 0.013420836048188393,
                  "_deepnote_index_column": "2013-05-29T00:00:00.000000"
                },
                {
                  "port": 599,
                  "VaR_975": 0.010652043682408973,
                  "VaR_99": 0.014630716107069265,
                  "ES_99": 0.01731256775603771,
                  "ES_975": 0.01441110262177739,
                  "_deepnote_index_column": "2013-05-30T00:00:00.000000"
                }
              ],
              "rows_bottom": [
                {
                  "port": 2416,
                  "VaR_975": 0.011395637215193976,
                  "VaR_99": 0.014206984933390674,
                  "ES_99": 0.01579661665345446,
                  "ES_975": 0.013706873216361489,
                  "_deepnote_index_column": "2020-09-03T00:00:00.000000"
                },
                {
                  "port": 2417,
                  "VaR_975": 0.012196478426870778,
                  "VaR_99": 0.0151145170348976,
                  "ES_99": 0.017294787429458957,
                  "ES_975": 0.014909103249703268,
                  "_deepnote_index_column": "2020-09-04T00:00:00.000000"
                },
                {
                  "port": 2418,
                  "VaR_975": 0.012122137185007778,
                  "VaR_99": 0.015077958508463857,
                  "ES_99": 0.01714634842822271,
                  "ES_975": 0.01482278168382508,
                  "_deepnote_index_column": "2020-09-08T00:00:00.000000"
                },
                {
                  "port": 2419,
                  "VaR_975": 0.012589639236806446,
                  "VaR_99": 0.015552287867082924,
                  "ES_99": 0.017816791962682377,
                  "ES_975": 0.015415667963397927,
                  "_deepnote_index_column": "2020-09-09T00:00:00.000000"
                },
                {
                  "port": 2420,
                  "VaR_975": 0.012732872824951186,
                  "VaR_99": 0.015627904113144894,
                  "ES_99": 0.01810265117681902,
                  "ES_975": 0.015650113227662434,
                  "_deepnote_index_column": "2020-09-10T00:00:00.000000"
                },
                {
                  "port": 2421,
                  "VaR_975": 0.012433486807334956,
                  "VaR_99": 0.015236056323556676,
                  "ES_99": 0.01768416019110932,
                  "ES_975": 0.015279279300577375,
                  "_deepnote_index_column": "2020-09-11T00:00:00.000000"
                },
                {
                  "port": 2422,
                  "VaR_975": 0.012109826092116317,
                  "VaR_99": 0.014914040737167948,
                  "ES_99": 0.017215719185631192,
                  "ES_975": 0.01487543245669107,
                  "_deepnote_index_column": "2020-09-14T00:00:00.000000"
                },
                {
                  "port": 2423,
                  "VaR_975": 0.011939771869482231,
                  "VaR_99": 0.014653421250374523,
                  "ES_99": 0.01703788820773091,
                  "ES_975": 0.014700920505301777,
                  "_deepnote_index_column": "2020-09-15T00:00:00.000000"
                },
                {
                  "port": 2424,
                  "VaR_975": 0.01168101331470351,
                  "VaR_99": 0.014358887242844986,
                  "ES_99": 0.01668172769905487,
                  "ES_975": 0.014400681970431426,
                  "_deepnote_index_column": "2020-09-16T00:00:00.000000"
                },
                {
                  "port": 2425,
                  "VaR_975": 0.011429738369210369,
                  "VaR_99": 0.014118447519948688,
                  "ES_99": 0.01639651149327227,
                  "ES_975": 0.01416525034250085,
                  "_deepnote_index_column": "2020-09-17T00:00:00.000000"
                },
                {
                  "port": 2426,
                  "VaR_975": 0.011248130670178097,
                  "VaR_99": 0.01392696941503405,
                  "ES_99": 0.016154583562712006,
                  "ES_975": 0.013958223304239157,
                  "_deepnote_index_column": "2020-09-18T00:00:00.000000"
                },
                {
                  "port": 2427,
                  "VaR_975": 0.010948681724513246,
                  "VaR_99": 0.013577456829533407,
                  "ES_99": 0.015738904655710845,
                  "ES_975": 0.013601032452191308,
                  "_deepnote_index_column": "2020-09-21T00:00:00.000000"
                },
                {
                  "port": 2428,
                  "VaR_975": 0.012087542018582753,
                  "VaR_99": 0.015323099397559827,
                  "ES_99": 0.017124298464589356,
                  "ES_975": 0.014954595732252237,
                  "_deepnote_index_column": "2020-09-22T00:00:00.000000"
                },
                {
                  "port": 2429,
                  "VaR_975": 0.011832530776354728,
                  "VaR_99": 0.01500255186768828,
                  "ES_99": 0.01681197277210665,
                  "ES_975": 0.014670151307479114,
                  "_deepnote_index_column": "2020-09-23T00:00:00.000000"
                },
                {
                  "port": 2430,
                  "VaR_975": 0.011903679354139048,
                  "VaR_99": 0.014935655116045027,
                  "ES_99": 0.017077890152205243,
                  "ES_975": 0.014826079697180987,
                  "_deepnote_index_column": "2020-09-24T00:00:00.000000"
                },
                {
                  "port": 2431,
                  "VaR_975": 0.011962576098472268,
                  "VaR_99": 0.014909809524237072,
                  "ES_99": 0.01701402296559131,
                  "ES_975": 0.014797288761916863,
                  "_deepnote_index_column": "2020-09-25T00:00:00.000000"
                },
                {
                  "port": 2432,
                  "VaR_975": 0.011677503269601347,
                  "VaR_99": 0.014525708520362071,
                  "ES_99": 0.016674264853903397,
                  "ES_975": 0.014478148982100713,
                  "_deepnote_index_column": "2020-09-28T00:00:00.000000"
                },
                {
                  "port": 2433,
                  "VaR_975": 0.011939738541882794,
                  "VaR_99": 0.014966589502502408,
                  "ES_99": 0.01705621202782196,
                  "ES_975": 0.014827797557071736,
                  "_deepnote_index_column": "2020-09-29T00:00:00.000000"
                },
                {
                  "port": 2434,
                  "VaR_975": 0.011670465837993155,
                  "VaR_99": 0.014684910873790157,
                  "ES_99": 0.016703691098841112,
                  "ES_975": 0.014541036306755932,
                  "_deepnote_index_column": "2020-09-30T00:00:00.000000"
                },
                {
                  "port": 2435,
                  "VaR_975": 0.011761199437228798,
                  "VaR_99": 0.014649840881023217,
                  "ES_99": 0.016683235460384544,
                  "ES_975": 0.014539859066270979,
                  "_deepnote_index_column": "2020-10-01T00:00:00.000000"
                },
                {
                  "port": 2436,
                  "VaR_975": 0.011513230051197636,
                  "VaR_99": 0.0144027441698983,
                  "ES_99": 0.01644311293065622,
                  "ES_975": 0.01433084031834687,
                  "_deepnote_index_column": "2020-10-02T00:00:00.000000"
                },
                {
                  "port": 2437,
                  "VaR_975": 0.011418320521931105,
                  "VaR_99": 0.014211313137022662,
                  "ES_99": 0.016411033156867694,
                  "ES_975": 0.01426937513437182,
                  "_deepnote_index_column": "2020-10-05T00:00:00.000000"
                },
                {
                  "port": 2438,
                  "VaR_975": 0.012259159707257074,
                  "VaR_99": 0.014352816014188207,
                  "ES_99": 0.016744738167983053,
                  "ES_975": 0.014578419439537709,
                  "_deepnote_index_column": "2020-10-06T00:00:00.000000"
                },
                {
                  "port": 2439,
                  "VaR_975": 0.012227026433605848,
                  "VaR_99": 0.014210585070954485,
                  "ES_99": 0.016662666427836786,
                  "ES_975": 0.014508442032668788,
                  "_deepnote_index_column": "2020-10-07T00:00:00.000000"
                },
                {
                  "port": 2440,
                  "VaR_975": 0.011981253660735196,
                  "VaR_99": 0.013889363962153421,
                  "ES_99": 0.016368403680290876,
                  "ES_975": 0.01423619449653754,
                  "_deepnote_index_column": "2020-10-08T00:00:00.000000"
                },
                {
                  "port": 2441,
                  "VaR_975": 0.011793405242657764,
                  "VaR_99": 0.013729502275128678,
                  "ES_99": 0.016073949490351194,
                  "ES_975": 0.013999631064316544,
                  "_deepnote_index_column": "2020-10-09T00:00:00.000000"
                },
                {
                  "port": 2442,
                  "VaR_975": 0.011718164320545966,
                  "VaR_99": 0.0136106415236993,
                  "ES_99": 0.016016407742000395,
                  "ES_975": 0.013925311289413149,
                  "_deepnote_index_column": "2020-10-13T00:00:00.000000"
                },
                {
                  "port": 2443,
                  "VaR_975": 0.011452097537203363,
                  "VaR_99": 0.013300974992841032,
                  "ES_99": 0.015611314991795713,
                  "ES_975": 0.013587556590447468,
                  "_deepnote_index_column": "2020-10-14T00:00:00.000000"
                },
                {
                  "port": 2444,
                  "VaR_975": 0.011262073024523762,
                  "VaR_99": 0.013023854710928293,
                  "ES_99": 0.015329176403680167,
                  "ES_975": 0.013337922290375401,
                  "_deepnote_index_column": "2020-10-15T00:00:00.000000"
                },
                {
                  "port": 2445,
                  "VaR_975": 0.01151025037968972,
                  "VaR_99": 0.013643585129763191,
                  "ES_99": 0.01570431417976394,
                  "ES_975": 0.013690968610260106,
                  "_deepnote_index_column": "2020-10-16T00:00:00.000000"
                },
                {
                  "port": 2446,
                  "VaR_975": 0.010946261490484558,
                  "VaR_99": 0.01357691606607039,
                  "ES_99": 0.015521253768679077,
                  "ES_975": 0.013477746693361022,
                  "_deepnote_index_column": "2020-10-19T00:00:00.000000"
                },
                {
                  "port": 2447,
                  "VaR_975": 0.01069046772778914,
                  "VaR_99": 0.013233703881801076,
                  "ES_99": 0.015180304705692765,
                  "ES_975": 0.013173087568563283,
                  "_deepnote_index_column": "2020-10-20T00:00:00.000000"
                },
                {
                  "port": 2448,
                  "VaR_975": 0.0104159949963255,
                  "VaR_99": 0.012891264527453601,
                  "ES_99": 0.014797518388119985,
                  "ES_975": 0.012841615727899111,
                  "_deepnote_index_column": "2020-10-21T00:00:00.000000"
                },
                {
                  "port": 2449,
                  "VaR_975": 0.010324271636100857,
                  "VaR_99": 0.01283508476050127,
                  "ES_99": 0.014622459344636388,
                  "ES_975": 0.012709693509133787,
                  "_deepnote_index_column": "2020-10-22T00:00:00.000000"
                },
                {
                  "port": 2450,
                  "VaR_975": 0.010157973229189037,
                  "VaR_99": 0.012672641089195398,
                  "ES_99": 0.014365515184399467,
                  "ES_975": 0.012490272413255097,
                  "_deepnote_index_column": "2020-10-23T00:00:00.000000"
                },
                {
                  "port": 2451,
                  "VaR_975": 0.009941226541569228,
                  "VaR_99": 0.012380023966764561,
                  "ES_99": 0.014015711036704839,
                  "ES_975": 0.01219373474824583,
                  "_deepnote_index_column": "2020-10-26T00:00:00.000000"
                },
                {
                  "port": 2452,
                  "VaR_975": 0.010974774484249987,
                  "VaR_99": 0.013739391290399252,
                  "ES_99": 0.015392721693807032,
                  "ES_975": 0.013285513132929009,
                  "_deepnote_index_column": "2020-10-27T00:00:00.000000"
                },
                {
                  "port": 2453,
                  "VaR_975": 0.010748997478723973,
                  "VaR_99": 0.013447127711706757,
                  "ES_99": 0.015046365967334127,
                  "ES_975": 0.013017583432559189,
                  "_deepnote_index_column": "2020-10-28T00:00:00.000000"
                },
                {
                  "port": 2454,
                  "VaR_975": 0.01227059353144272,
                  "VaR_99": 0.015119748907257357,
                  "ES_99": 0.01718817008261606,
                  "ES_975": 0.014913143456545635,
                  "_deepnote_index_column": "2020-10-29T00:00:00.000000"
                },
                {
                  "port": 2455,
                  "VaR_975": 0.012022112774107247,
                  "VaR_99": 0.014711098164853642,
                  "ES_99": 0.016767634108060574,
                  "ES_975": 0.014564989102346356,
                  "_deepnote_index_column": "2020-10-30T00:00:00.000000"
                },
                {
                  "port": 2456,
                  "VaR_975": 0.011922656513872046,
                  "VaR_99": 0.014868687859325316,
                  "ES_99": 0.016881959693445758,
                  "ES_975": 0.014627900439215162,
                  "_deepnote_index_column": "2020-11-02T00:00:00.000000"
                },
                {
                  "port": 2457,
                  "VaR_975": 0.011936578728569076,
                  "VaR_99": 0.01466204424345849,
                  "ES_99": 0.016865841084991333,
                  "ES_975": 0.014638750550564798,
                  "_deepnote_index_column": "2020-11-03T00:00:00.000000"
                },
                {
                  "port": 2458,
                  "VaR_975": 0.012758589840754874,
                  "VaR_99": 0.015071830068665191,
                  "ES_99": 0.017476304640638277,
                  "ES_975": 0.015288043598976663,
                  "_deepnote_index_column": "2020-11-04T00:00:00.000000"
                },
                {
                  "port": 2459,
                  "VaR_975": 0.013511855192228882,
                  "VaR_99": 0.015706897945200235,
                  "ES_99": 0.01833182228299337,
                  "ES_975": 0.016138261563948528,
                  "_deepnote_index_column": "2020-11-05T00:00:00.000000"
                },
                {
                  "port": 2460,
                  "VaR_975": 0.013867126668135353,
                  "VaR_99": 0.015973716704090375,
                  "ES_99": 0.018793955266142436,
                  "ES_975": 0.01652150359323449,
                  "_deepnote_index_column": "2020-11-06T00:00:00.000000"
                },
                {
                  "port": 2461,
                  "VaR_975": 0.013609864316210366,
                  "VaR_99": 0.0156744327992669,
                  "ES_99": 0.018405603914071905,
                  "ES_975": 0.01619463033799977,
                  "_deepnote_index_column": "2020-11-09T00:00:00.000000"
                },
                {
                  "port": 2462,
                  "VaR_975": 0.014766719912454162,
                  "VaR_99": 0.017930803630434488,
                  "ES_99": 0.019780954767445867,
                  "ES_975": 0.017562144759739263,
                  "_deepnote_index_column": "2020-11-10T00:00:00.000000"
                },
                {
                  "port": 2463,
                  "VaR_975": 0.015314716931692972,
                  "VaR_99": 0.018527995823396544,
                  "ES_99": 0.020748786006172675,
                  "ES_975": 0.018375852529017155,
                  "_deepnote_index_column": "2020-11-12T00:00:00.000000"
                },
                {
                  "port": 2464,
                  "VaR_975": 0.014915027990467587,
                  "VaR_99": 0.018017808010621382,
                  "ES_99": 0.020196775804943164,
                  "ES_975": 0.017892725984006215,
                  "_deepnote_index_column": "2020-11-13T00:00:00.000000"
                },
                {
                  "port": 2465,
                  "VaR_975": 0.014598074540289354,
                  "VaR_99": 0.01770630380619219,
                  "ES_99": 0.01977046915413232,
                  "ES_975": 0.017510775098575286,
                  "_deepnote_index_column": "2020-11-16T00:00:00.000000"
                },
                {
                  "port": 2466,
                  "VaR_975": 0.014456804748051971,
                  "VaR_99": 0.017379719414887567,
                  "ES_99": 0.01947269607188335,
                  "ES_975": 0.017265730339719895,
                  "_deepnote_index_column": "2020-11-17T00:00:00.000000"
                },
                {
                  "port": 2467,
                  "VaR_975": 0.014085588841816377,
                  "VaR_99": 0.017192563834231216,
                  "ES_99": 0.019034731560266617,
                  "ES_975": 0.016876630904746583,
                  "_deepnote_index_column": "2020-11-18T00:00:00.000000"
                },
                {
                  "port": 2468,
                  "VaR_975": 0.01425755877541194,
                  "VaR_99": 0.01742141254021338,
                  "ES_99": 0.019605279658026737,
                  "ES_975": 0.017157609422928245,
                  "_deepnote_index_column": "2020-11-19T00:00:00.000000"
                },
                {
                  "port": 2469,
                  "VaR_975": 0.01390872281694321,
                  "VaR_99": 0.01701372029352567,
                  "ES_99": 0.019108867177297605,
                  "ES_975": 0.016738741053127094,
                  "_deepnote_index_column": "2020-11-20T00:00:00.000000"
                },
                {
                  "port": 2470,
                  "VaR_975": 0.01360160037073455,
                  "VaR_99": 0.016640291961536352,
                  "ES_99": 0.01867254191055277,
                  "ES_975": 0.016367776221490597,
                  "_deepnote_index_column": "2020-11-23T00:00:00.000000"
                },
                {
                  "port": 2471,
                  "VaR_975": 0.01345370889187824,
                  "VaR_99": 0.01633840935535678,
                  "ES_99": 0.018483306304807805,
                  "ES_975": 0.01615322177339007,
                  "_deepnote_index_column": "2020-11-24T00:00:00.000000"
                },
                {
                  "port": 2472,
                  "VaR_975": 0.013283206078290106,
                  "VaR_99": 0.016210100537155263,
                  "ES_99": 0.018259850262227793,
                  "ES_975": 0.015982006008192082,
                  "_deepnote_index_column": "2020-11-25T00:00:00.000000"
                },
                {
                  "port": 2473,
                  "VaR_975": 0.01296792259503076,
                  "VaR_99": 0.01579807860277344,
                  "ES_99": 0.01785018005719118,
                  "ES_975": 0.01560295204138924,
                  "_deepnote_index_column": "2020-11-27T00:00:00.000000"
                },
                {
                  "port": 2474,
                  "VaR_975": 0.012659512214679732,
                  "VaR_99": 0.015434304772924652,
                  "ES_99": 0.017438767458473548,
                  "ES_975": 0.015238188414530833,
                  "_deepnote_index_column": "2020-11-30T00:00:00.000000"
                },
                {
                  "port": 2475,
                  "VaR_975": 0.013235659909292761,
                  "VaR_99": 0.01585580189021219,
                  "ES_99": 0.018227116816436947,
                  "ES_975": 0.015820579192732345,
                  "_deepnote_index_column": "2020-12-01T00:00:00.000000"
                },
                {
                  "port": 2476,
                  "VaR_975": 0.01338772463005863,
                  "VaR_99": 0.015925292825282277,
                  "ES_99": 0.018490479288481836,
                  "ES_975": 0.015995588369374723,
                  "_deepnote_index_column": "2020-12-02T00:00:00.000000"
                },
                {
                  "port": 2477,
                  "VaR_975": 0.013000200889961368,
                  "VaR_99": 0.015449013626149848,
                  "ES_99": 0.01797093359969629,
                  "ES_975": 0.015539499556877836,
                  "_deepnote_index_column": "2020-12-03T00:00:00.000000"
                },
                {
                  "port": 2478,
                  "VaR_975": 0.012650114698265926,
                  "VaR_99": 0.014973181411559119,
                  "ES_99": 0.017529624622047914,
                  "ES_975": 0.015144856696045298,
                  "_deepnote_index_column": "2020-12-04T00:00:00.000000"
                },
                {
                  "port": 2479,
                  "VaR_975": 0.012414517683399136,
                  "VaR_99": 0.014688587236296558,
                  "ES_99": 0.01715642738860725,
                  "ES_975": 0.014834503524187612,
                  "_deepnote_index_column": "2020-12-07T00:00:00.000000"
                },
                {
                  "port": 2480,
                  "VaR_975": 0.012053513897512625,
                  "VaR_99": 0.014236538985142754,
                  "ES_99": 0.01666048192643938,
                  "ES_975": 0.014412931315110974,
                  "_deepnote_index_column": "2020-12-08T00:00:00.000000"
                },
                {
                  "port": 2481,
                  "VaR_975": 0.011711157537890891,
                  "VaR_99": 0.013813047728256854,
                  "ES_99": 0.016199398880954723,
                  "ES_975": 0.014014563258386856,
                  "_deepnote_index_column": "2020-12-09T00:00:00.000000"
                },
                {
                  "port": 2482,
                  "VaR_975": 0.011558129393130556,
                  "VaR_99": 0.013703822987676667,
                  "ES_99": 0.016047583484246397,
                  "ES_975": 0.013851122243320507,
                  "_deepnote_index_column": "2020-12-10T00:00:00.000000"
                },
                {
                  "port": 2483,
                  "VaR_975": 0.01131887048266872,
                  "VaR_99": 0.013389597504255831,
                  "ES_99": 0.015699402470995293,
                  "ES_975": 0.013557806190826324,
                  "_deepnote_index_column": "2020-12-11T00:00:00.000000"
                },
                {
                  "port": 2484,
                  "VaR_975": 0.01107885837128585,
                  "VaR_99": 0.01309025009930939,
                  "ES_99": 0.01536450567883168,
                  "ES_975": 0.013284625417900542,
                  "_deepnote_index_column": "2020-12-14T00:00:00.000000"
                },
                {
                  "port": 2485,
                  "VaR_975": 0.010853793006022619,
                  "VaR_99": 0.012832877060585874,
                  "ES_99": 0.01512263096942037,
                  "ES_975": 0.013054209751622517,
                  "_deepnote_index_column": "2020-12-15T00:00:00.000000"
                },
                {
                  "port": 2486,
                  "VaR_975": 0.010653177545405181,
                  "VaR_99": 0.012623987404059667,
                  "ES_99": 0.014847321913607728,
                  "ES_975": 0.012812743193044733,
                  "_deepnote_index_column": "2020-12-16T00:00:00.000000"
                },
                {
                  "port": 2487,
                  "VaR_975": 0.010527047750947266,
                  "VaR_99": 0.012458618013721926,
                  "ES_99": 0.01458841576478557,
                  "ES_975": 0.012624992558017835,
                  "_deepnote_index_column": "2020-12-17T00:00:00.000000"
                },
                {
                  "port": 2488,
                  "VaR_975": 0.010454543092326813,
                  "VaR_99": 0.012298462383897696,
                  "ES_99": 0.014543007018943404,
                  "ES_975": 0.012558267003530525,
                  "_deepnote_index_column": "2020-12-18T00:00:00.000000"
                },
                {
                  "port": 2489,
                  "VaR_975": 0.010182893993673696,
                  "VaR_99": 0.011978479483797969,
                  "ES_99": 0.014163122541237754,
                  "ES_975": 0.012234081649666401,
                  "_deepnote_index_column": "2020-12-21T00:00:00.000000"
                },
                {
                  "port": 2490,
                  "VaR_975": 0.010710018496828538,
                  "VaR_99": 0.012967181420200096,
                  "ES_99": 0.014674848946258293,
                  "ES_975": 0.012911206886950338,
                  "_deepnote_index_column": "2020-12-22T00:00:00.000000"
                },
                {
                  "port": 2491,
                  "VaR_975": 0.010731893280088207,
                  "VaR_99": 0.012980999518371977,
                  "ES_99": 0.014656875337904478,
                  "ES_975": 0.012914737327704321,
                  "_deepnote_index_column": "2020-12-23T00:00:00.000000"
                },
                {
                  "port": 2492,
                  "VaR_975": 0.010697630041486574,
                  "VaR_99": 0.01306297154045956,
                  "ES_99": 0.014529414988891976,
                  "ES_975": 0.012832960653282507,
                  "_deepnote_index_column": "2020-12-24T00:00:00.000000"
                },
                {
                  "port": 2493,
                  "VaR_975": 0.010418499133790287,
                  "VaR_99": 0.012700411009901913,
                  "ES_99": 0.014149901410873921,
                  "ES_975": 0.01249625887418938,
                  "_deepnote_index_column": "2020-12-28T00:00:00.000000"
                },
                {
                  "port": 2494,
                  "VaR_975": 0.010270818863362556,
                  "VaR_99": 0.012500913199789711,
                  "ES_99": 0.013916100113633572,
                  "ES_975": 0.012291460715401884,
                  "_deepnote_index_column": "2020-12-29T00:00:00.000000"
                },
                {
                  "port": 2495,
                  "VaR_975": 0.010211044944300841,
                  "VaR_99": 0.012397677034712746,
                  "ES_99": 0.013820965902568788,
                  "ES_975": 0.012194454371408758,
                  "_deepnote_index_column": "2020-12-30T00:00:00.000000"
                },
                {
                  "port": 2496,
                  "VaR_975": 0.010089190163219835,
                  "VaR_99": 0.0122144959851668,
                  "ES_99": 0.013648908300399437,
                  "ES_975": 0.012034921119208777,
                  "_deepnote_index_column": "2020-12-31T00:00:00.000000"
                },
                {
                  "port": 2497,
                  "VaR_975": 0.0098425409050987,
                  "VaR_99": 0.011964038997989536,
                  "ES_99": 0.013289579298998423,
                  "ES_975": 0.01173464806521507,
                  "_deepnote_index_column": "2021-01-04T00:00:00.000000"
                },
                {
                  "port": 2498,
                  "VaR_975": 0.009803307874780719,
                  "VaR_99": 0.011969256965625593,
                  "ES_99": 0.013278955858618038,
                  "ES_975": 0.011725445487935372,
                  "_deepnote_index_column": "2021-01-05T00:00:00.000000"
                },
                {
                  "port": 2499,
                  "VaR_975": 0.009774859049299275,
                  "VaR_99": 0.01213749048415775,
                  "ES_99": 0.01341427973371386,
                  "ES_975": 0.011772968092611977,
                  "_deepnote_index_column": "2021-01-06T00:00:00.000000"
                },
                {
                  "port": 2500,
                  "VaR_975": 0.009738726528948036,
                  "VaR_99": 0.012185919771961106,
                  "ES_99": 0.013390475635376634,
                  "ES_975": 0.011753937031731733,
                  "_deepnote_index_column": "2021-01-07T00:00:00.000000"
                },
                {
                  "port": 2501,
                  "VaR_975": 0.009810826188753527,
                  "VaR_99": 0.012064167926648385,
                  "ES_99": 0.013506436565051719,
                  "ES_975": 0.011800178307142556,
                  "_deepnote_index_column": "2021-01-08T00:00:00.000000"
                },
                {
                  "port": 2502,
                  "VaR_975": 0.009971805906074487,
                  "VaR_99": 0.012347590852273703,
                  "ES_99": 0.01381823169562856,
                  "ES_975": 0.012081527309478998,
                  "_deepnote_index_column": "2021-01-11T00:00:00.000000"
                },
                {
                  "port": 2503,
                  "VaR_975": 0.009950880497374297,
                  "VaR_99": 0.012190552904499764,
                  "ES_99": 0.013786578463208387,
                  "ES_975": 0.012034126269271127,
                  "_deepnote_index_column": "2021-01-12T00:00:00.000000"
                },
                {
                  "port": 2504,
                  "VaR_975": 0.009785095334562633,
                  "VaR_99": 0.01204632409828195,
                  "ES_99": 0.013547576821390983,
                  "ES_975": 0.011828153881423312,
                  "_deepnote_index_column": "2021-01-13T00:00:00.000000"
                },
                {
                  "port": 2505,
                  "VaR_975": 0.009567839364474555,
                  "VaR_99": 0.011993563866217484,
                  "ES_99": 0.013375207941629375,
                  "ES_975": 0.011642787904045663,
                  "_deepnote_index_column": "2021-01-14T00:00:00.000000"
                },
                {
                  "port": 2506,
                  "VaR_975": 0.009685169267255359,
                  "VaR_99": 0.012162816020786475,
                  "ES_99": 0.013460327855871295,
                  "ES_975": 0.011743149960647622,
                  "_deepnote_index_column": "2021-01-15T00:00:00.000000"
                },
                {
                  "port": 2507,
                  "VaR_975": 0.009708408275480394,
                  "VaR_99": 0.012190550486092761,
                  "ES_99": 0.01352337728689077,
                  "ES_975": 0.011790353108760502,
                  "_deepnote_index_column": "2021-01-19T00:00:00.000000"
                },
                {
                  "port": 2508,
                  "VaR_975": 0.009589547832799361,
                  "VaR_99": 0.01202341064054742,
                  "ES_99": 0.01344066792951823,
                  "ES_975": 0.01169026604035874,
                  "_deepnote_index_column": "2021-01-20T00:00:00.000000"
                },
                {
                  "port": 2509,
                  "VaR_975": 0.009739341192539976,
                  "VaR_99": 0.012164695993456303,
                  "ES_99": 0.013691435710851445,
                  "ES_975": 0.011896385339106214,
                  "_deepnote_index_column": "2021-01-21T00:00:00.000000"
                },
                {
                  "port": 2510,
                  "VaR_975": 0.009636474278079007,
                  "VaR_99": 0.012051942158230055,
                  "ES_99": 0.013543509309175708,
                  "ES_975": 0.011735946574667717,
                  "_deepnote_index_column": "2021-01-22T00:00:00.000000"
                },
                {
                  "port": 2511,
                  "VaR_975": 0.009472455493324362,
                  "VaR_99": 0.011882692684433264,
                  "ES_99": 0.013305991164058468,
                  "ES_975": 0.011554762595711284,
                  "_deepnote_index_column": "2021-01-25T00:00:00.000000"
                },
                {
                  "port": 2512,
                  "VaR_975": 0.009341871670810445,
                  "VaR_99": 0.011844386793890773,
                  "ES_99": 0.013113066277167521,
                  "ES_975": 0.011416850462642906,
                  "_deepnote_index_column": "2021-01-26T00:00:00.000000"
                },
                {
                  "port": 2513,
                  "VaR_975": 0.009231027252088464,
                  "VaR_99": 0.011768987087632327,
                  "ES_99": 0.01299757765789709,
                  "ES_975": 0.011326523458642261,
                  "_deepnote_index_column": "2021-01-27T00:00:00.000000"
                },
                {
                  "port": 2514,
                  "VaR_975": 0.010548295291464251,
                  "VaR_99": 0.012633413473758882,
                  "ES_99": 0.014722341116785909,
                  "ES_975": 0.012586358627062394,
                  "_deepnote_index_column": "2021-01-28T00:00:00.000000"
                },
                {
                  "port": 2515,
                  "VaR_975": 0.010660532617960933,
                  "VaR_99": 0.012603622387181053,
                  "ES_99": 0.014883362510092707,
                  "ES_975": 0.012675901036385686,
                  "_deepnote_index_column": "2021-01-29T00:00:00.000000"
                }
              ]
            },
            "text/plain": "            port   VaR_975    VaR_99     ES_99    ES_975\nDate                                                    \n2013-01-07   500  0.009515  0.012185  0.014888  0.012387\n2013-01-08   501  0.009305  0.011912  0.014586  0.012135\n2013-01-09   502  0.009104  0.011669  0.014272  0.011871\n2013-01-10   503  0.008986  0.011466  0.014065  0.011707\n2013-01-11   504  0.009085  0.011657  0.014361  0.011938\n...          ...       ...       ...       ...       ...\n2021-01-25  2511  0.009472  0.011883  0.013306  0.011555\n2021-01-26  2512  0.009342  0.011844  0.013113  0.011417\n2021-01-27  2513  0.009231  0.011769  0.012998  0.011327\n2021-01-28  2514  0.010548  0.012633  0.014722  0.012586\n2021-01-29  2515  0.010661  0.012604  0.014883  0.012676\n\n[2016 rows x 5 columns]",
            "text/html": "<div>\n<style scoped>\n    .dataframe tbody tr th:only-of-type {\n        vertical-align: middle;\n    }\n\n    .dataframe tbody tr th {\n        vertical-align: top;\n    }\n\n    .dataframe thead th {\n        text-align: right;\n    }\n</style>\n<table border=\"1\" class=\"dataframe\">\n  <thead>\n    <tr style=\"text-align: right;\">\n      <th></th>\n      <th>port</th>\n      <th>VaR_975</th>\n      <th>VaR_99</th>\n      <th>ES_99</th>\n      <th>ES_975</th>\n    </tr>\n    <tr>\n      <th>Date</th>\n      <th></th>\n      <th></th>\n      <th></th>\n      <th></th>\n      <th></th>\n    </tr>\n  </thead>\n  <tbody>\n    <tr>\n      <th>2013-01-07</th>\n      <td>500</td>\n      <td>0.009515</td>\n      <td>0.012185</td>\n      <td>0.014888</td>\n      <td>0.012387</td>\n    </tr>\n    <tr>\n      <th>2013-01-08</th>\n      <td>501</td>\n      <td>0.009305</td>\n      <td>0.011912</td>\n      <td>0.014586</td>\n      <td>0.012135</td>\n    </tr>\n    <tr>\n      <th>2013-01-09</th>\n      <td>502</td>\n      <td>0.009104</td>\n      <td>0.011669</td>\n      <td>0.014272</td>\n      <td>0.011871</td>\n    </tr>\n    <tr>\n      <th>2013-01-10</th>\n      <td>503</td>\n      <td>0.008986</td>\n      <td>0.011466</td>\n      <td>0.014065</td>\n      <td>0.011707</td>\n    </tr>\n    <tr>\n      <th>2013-01-11</th>\n      <td>504</td>\n      <td>0.009085</td>\n      <td>0.011657</td>\n      <td>0.014361</td>\n      <td>0.011938</td>\n    </tr>\n    <tr>\n      <th>...</th>\n      <td>...</td>\n      <td>...</td>\n      <td>...</td>\n      <td>...</td>\n      <td>...</td>\n    </tr>\n    <tr>\n      <th>2021-01-25</th>\n      <td>2511</td>\n      <td>0.009472</td>\n      <td>0.011883</td>\n      <td>0.013306</td>\n      <td>0.011555</td>\n    </tr>\n    <tr>\n      <th>2021-01-26</th>\n      <td>2512</td>\n      <td>0.009342</td>\n      <td>0.011844</td>\n      <td>0.013113</td>\n      <td>0.011417</td>\n    </tr>\n    <tr>\n      <th>2021-01-27</th>\n      <td>2513</td>\n      <td>0.009231</td>\n      <td>0.011769</td>\n      <td>0.012998</td>\n      <td>0.011327</td>\n    </tr>\n    <tr>\n      <th>2021-01-28</th>\n      <td>2514</td>\n      <td>0.010548</td>\n      <td>0.012633</td>\n      <td>0.014722</td>\n      <td>0.012586</td>\n    </tr>\n    <tr>\n      <th>2021-01-29</th>\n      <td>2515</td>\n      <td>0.010661</td>\n      <td>0.012604</td>\n      <td>0.014883</td>\n      <td>0.012676</td>\n    </tr>\n  </tbody>\n</table>\n<p>2016 rows × 5 columns</p>\n</div>"
          },
          "metadata": {}
        }
      ]
    },
    {
      "cell_type": "code",
      "metadata": {
        "tags": [],
        "cell_id": "00011-b5479af4-cd90-44ae-949f-af8150b9fee3",
        "deepnote_to_be_reexecuted": false,
        "source_hash": "c06429cb",
        "execution_start": 1619884619408,
        "execution_millis": 228,
        "deepnote_cell_type": "code"
      },
      "source": "plt.figure(figsize=(15,10))\nplt.plot(L.loss[500:],label='Loss',color='lightgray',zorder=1)\nplt.plot(fhs_roll_daily['VaR_975'],c='red',label='VaR(97.5%)',zorder=2)\n#plt.plot(fhs_roll_daily['VaR_99'],c='blue',label='VaR(99%)',zorder=2)\n#plt.plot(fhs_roll_daily['ES_975'],c='orange',label='ES(97.5%)',zorder=3)\n#plt.plot(fhs_roll_daily['ES_99'],c='green',label='ES(99%)',zorder=1)\nplt.ylabel('Losses',fontsize=20)\nplt.xticks(fontsize=20)\nplt.yticks(fontsize=20)\nplt.legend(loc='best', prop={'size': 20})\n#plt.savefig('fhs result',dpi=400)\nplt.show()",
      "execution_count": null,
      "outputs": [
        {
          "data": {
            "text/plain": "<Figure size 1080x720 with 1 Axes>",
            "image/png": "[encoded data removed]"
          },
          "metadata": {
            "needs_background": "light",
            "image/png": {
              "width": 942,
              "height": 584
            }
          },
          "output_type": "display_data"
        }
      ]
    },
    {
      "cell_type": "code",
      "metadata": {
        "tags": [],
        "cell_id": "00013-d87e7db3-73ee-4a64-8188-c146b7c197a9",
        "deepnote_to_be_reexecuted": false,
        "source_hash": "4df65056",
        "execution_start": 1619884626011,
        "execution_millis": 4,
        "deepnote_cell_type": "code"
      },
      "source": "# fhs violation per year-97.5%\nLoss_dist=L.loss[500:]\nfhs_violation=[]\nfor i in range(0,int(len(Loss_dist)/250)):\n    bool_list = [Loss_dist[j+1]>fhs_roll_daily['VaR_975'][j] for j in range(i*250,(i+1)*250)]\n    index = np.where(bool_list)[0]\n    count = len(index)\n    #print(i,\":\",count)\n    fhs_violation.append(count)\nbool_list = [Loss_dist[j+1]>fhs_roll_daily['VaR_975'][j] for j in range(2000,2016)]\nindex = np.where(bool_list)[0]\ncount = len(index)\nfhs_violation.append(count)\nprint(fhs_violation)",
      "execution_count": null,
      "outputs": [
        {
          "name": "stdout",
          "text": "[8, 7, 8, 7, 2, 12, 11, 17, 2]\n",
          "output_type": "stream"
        }
      ]
    },
    {
      "cell_type": "code",
      "metadata": {
        "tags": [],
        "cell_id": "00014-0fd30a00-124d-45a3-9b96-0e0aaaff8c70",
        "deepnote_to_be_reexecuted": false,
        "source_hash": "aebf52c9",
        "execution_start": 1619884629015,
        "execution_millis": 5,
        "deepnote_cell_type": "code"
      },
      "source": "stats.binom_test(np.sum(fhs_violation),n=2016,p=0.025)",
      "execution_count": null,
      "outputs": [
        {
          "output_type": "execute_result",
          "execution_count": 197,
          "data": {
            "text/plain": "0.0016178267390868277"
          },
          "metadata": {}
        }
      ]
    },
    {
      "cell_type": "code",
      "metadata": {
        "tags": [],
        "cell_id": "00015-9326446d-a794-4f0b-bbec-691900b64a5b",
        "deepnote_cell_type": "code"
      },
      "source": "fhs_es_true=[]\nfhs_es_esti=[]\nfor i in range(0,int(len(Loss_dist)/250)):\n    true_ES= np.mean(Loss_dist[1+i*250:1+(i+1)*250][Loss_dist[1+i*250:1+(i+1)*250]>fhs_roll_daily.VaR_975[i*250:(i+1)*250]])\n    fhs_es_true.append(true_ES)\n    estimate_ES= np.mean(fhs_roll_daily.ES_975[i*250:(i+1)*250])\n    fhs_es_esti.append(estimate_ES)\ntrue_ES= np.mean(Loss_dist[1501:1742][Loss_dist[1501:1742]>fhs_roll_daily.VaR_975[1500:1741]])\nfhs_es_true.append(true_ES)\nestimate_ES= np.mean(fhs_roll_daily.ES_975[1500:1741])\nfhs_es_esti.append(estimate_ES)\nprint(fhs_es_true)\nprint(fhs_es_esti)",
      "execution_count": null,
      "outputs": []
    },
    {
      "cell_type": "code",
      "metadata": {
        "tags": [],
        "cell_id": "00016-1129696f-9eb8-4293-9224-e530c2b69822",
        "deepnote_cell_type": "code"
      },
      "source": "stats.kstest(fhs_es_true,fhs_es_esti)",
      "execution_count": null,
      "outputs": []
    },
    {
      "cell_type": "code",
      "metadata": {
        "tags": [],
        "cell_id": "00017-1ca819ca-caa5-473e-8f59-d429ab14169f",
        "deepnote_to_be_reexecuted": false,
        "source_hash": "b86f4fe5",
        "execution_start": 1619881495106,
        "execution_millis": 7,
        "deepnote_cell_type": "code"
      },
      "source": "Loss_dist",
      "execution_count": null,
      "outputs": [
        {
          "output_type": "execute_result",
          "execution_count": 126,
          "data": {
            "text/plain": "Date\n2013-01-04 00:00:00    0.002665\n2013-01-07 00:00:00   -0.001414\n2013-01-08 00:00:00    0.002232\n2013-01-09 00:00:00   -0.003751\n2013-01-10 00:00:00   -0.002098\n                         ...   \n2021-01-25 00:00:00   -0.002528\n2021-01-26 00:00:00    0.001540\n2021-01-27 00:00:00    0.014083\n2021-01-28 00:00:00   -0.001923\n2021-01-29 00:00:00    0.011439\nName: loss, Length: 2017, dtype: float64"
          },
          "metadata": {}
        }
      ]
    },
    {
      "cell_type": "code",
      "metadata": {
        "tags": [],
        "cell_id": "00017-2fee89af-aeef-4ecc-9bb7-66f2ab276d29",
        "deepnote_to_be_reexecuted": false,
        "source_hash": "b980e5e5",
        "execution_start": 1619893810229,
        "execution_millis": 1806,
        "deepnote_cell_type": "code"
      },
      "source": "Loss_dist=L.loss[501:]\nplt.figure(figsize=(15,10))\nplt.plot(L.loss[500:],label='Loss',color='lightgray', zorder=1) #2014-4-9/2021-4-1\nplt.plot(fhs_roll_daily['VaR_975'],label='VaR(97.5%)_FHS', zorder=2)\nplt.scatter(fhs_roll_daily.VaR_975[Loss_dist>fhs_roll_daily.VaR_975].index,\n            fhs_roll_daily.VaR_975[Loss_dist>fhs_roll_daily.VaR_975].values,\n            marker='o',c='r',s=30, label='violation', zorder=3)\nplt.ylabel('Losses',fontsize=20)\nplt.xticks(fontsize=20)\nplt.yticks(fontsize=20)\nplt.legend(loc='best', prop={'size': 20})\nplt.savefig('Violation_FHS_975',dpi=400)\nplt.show()",
      "execution_count": null,
      "outputs": [
        {
          "data": {
            "text/plain": "<Figure size 1080x720 with 1 Axes>",
            "image/png": "[encoded data removed]"
          },
          "metadata": {
            "needs_background": "light",
            "image/png": {
              "width": 942,
              "height": 584
            }
          },
          "output_type": "display_data"
        }
      ]
    },
    {
      "cell_type": "code",
      "metadata": {
        "tags": [],
        "cell_id": "00035-a5863dba-b8b4-4be3-8bb7-f2661b3cceb9",
        "deepnote_to_be_reexecuted": false,
        "source_hash": "623b3341",
        "execution_start": 1619884154419,
        "execution_millis": 2,
        "deepnote_cell_type": "code"
      },
      "source": "L.index=pd.to_datetime(L.index)",
      "execution_count": null,
      "outputs": []
    },
    {
      "cell_type": "code",
      "metadata": {
        "tags": [],
        "cell_id": "00036-47f18e13-237e-4f7f-8029-04aa94598de7",
        "deepnote_to_be_reexecuted": false,
        "source_hash": "1aa669a1",
        "execution_start": 1619884172296,
        "execution_millis": 136,
        "deepnote_cell_type": "code"
      },
      "source": "plt.plot(L.loss)",
      "execution_count": null,
      "outputs": [
        {
          "output_type": "execute_result",
          "execution_count": 187,
          "data": {
            "text/plain": "[<matplotlib.lines.Line2D at 0x7f97b95ae890>]"
          },
          "metadata": {}
        },
        {
          "data": {
            "text/plain": "<Figure size 432x288 with 1 Axes>",
            "image/png": "[encoded data removed]"
          },
          "metadata": {
            "needs_background": "light",
            "image/png": {
              "width": 386,
              "height": 248
            }
          },
          "output_type": "display_data"
        }
      ]
    },
    {
      "cell_type": "markdown",
      "source": "<a style='text-decoration:none;line-height:16px;display:flex;color:#5B5B62;padding:10px;justify-content:end;' href='https://deepnote.com?utm_source=created-in-deepnote-cell&projectId=fcc26451-aff8-41a3-9390-dc5b21d8ee4a' target=\"_blank\">\n<img alt='Created in deepnote.com' style='display:inline;max-height:16px;margin:0px;margin-right:7.5px;' src='data:image/svg+xml;base64,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' > </img>\nCreated in <span style='font-weight:600;margin-left:4px;'>Deepnote</span></a>",
      "metadata": {
        "tags": [],
        "created_in_deepnote_cell": true,
        "deepnote_cell_type": "markdown"
      }
    }
  ],
  "nbformat": 4,
  "nbformat_minor": 2,
  "metadata": {
    "orig_nbformat": 2,
    "deepnote": {
      "is_reactive": false
    },
    "deepnote_notebook_id": "e8665027-e9af-46c2-babe-80b1601f4654",
    "deepnote_execution_queue": []
  }
}