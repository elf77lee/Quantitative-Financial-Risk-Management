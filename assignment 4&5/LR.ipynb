{
 "cells": [
  {
   "cell_type": "code",
   "metadata": {
    "tags": [],
    "cell_id": "00000-ec2560b8-bddc-461e-bb28-6dc1428510d7",
    "deepnote_to_be_reexecuted": false,
    "source_hash": "8f793ab2",
    "execution_start": 1622830198371,
    "execution_millis": 5861,
    "deepnote_cell_type": "code"
   },
   "source": "!pip install imblearn==0.0",
   "execution_count": null,
   "outputs": [
    {
     "name": "stdout",
     "text": "Collecting imblearn==0.0\n  Downloading imblearn-0.0-py2.py3-none-any.whl (1.9 kB)\nCollecting imbalanced-learn\n  Downloading imbalanced_learn-0.8.0-py3-none-any.whl (206 kB)\n\u001b[K     |████████████████████████████████| 206 kB 13.4 MB/s \n\u001b[?25hRequirement already satisfied: scikit-learn>=0.24 in /shared-libs/python3.7/py/lib/python3.7/site-packages (from imbalanced-learn->imblearn==0.0) (0.24.2)\nRequirement already satisfied: scipy>=0.19.1 in /shared-libs/python3.7/py/lib/python3.7/site-packages (from imbalanced-learn->imblearn==0.0) (1.6.3)\nRequirement already satisfied: joblib>=0.11 in /shared-libs/python3.7/py/lib/python3.7/site-packages (from imbalanced-learn->imblearn==0.0) (1.0.1)\nRequirement already satisfied: numpy>=1.13.3 in /shared-libs/python3.7/py/lib/python3.7/site-packages (from imbalanced-learn->imblearn==0.0) (1.19.5)\nRequirement already satisfied: threadpoolctl>=2.0.0 in /shared-libs/python3.7/py/lib/python3.7/site-packages (from scikit-learn>=0.24->imbalanced-learn->imblearn==0.0) (2.1.0)\nInstalling collected packages: imbalanced-learn, imblearn\nSuccessfully installed imbalanced-learn-0.8.0 imblearn-0.0\n",
     "output_type": "stream"
    }
   ]
  },
  {
   "cell_type": "code",
   "metadata": {
    "tags": [],
    "cell_id": "00000-f061efef-ecb4-41ab-b1f5-b4f0484da60c",
    "deepnote_to_be_reexecuted": false,
    "source_hash": "9bb4bf88",
    "execution_start": 1622830206950,
    "execution_millis": 3568,
    "deepnote_cell_type": "code"
   },
   "source": "# Start writing code here...\nimport pandas as pd\nimport numpy as np\nimport matplotlib.pyplot as plt\nfrom datetime import date\nfrom sklearn.preprocessing import OneHotEncoder\nimport re\nfrom sklearn.model_selection import train_test_split\nfrom sklearn.linear_model import LogisticRegression\nfrom sklearn import metrics\nfrom sklearn.metrics import classification_report\nfrom sklearn.model_selection import cross_val_score\nfrom imblearn.over_sampling import SMOTE",
   "execution_count": null,
   "outputs": []
  },
  {
   "cell_type": "code",
   "metadata": {
    "tags": [],
    "cell_id": "00001-63c9666e-7a13-496f-9e65-bd9005e525be",
    "deepnote_to_be_reexecuted": false,
    "source_hash": "c52927d5",
    "execution_start": 1622830776045,
    "execution_millis": 30,
    "deepnote_cell_type": "code"
   },
   "source": "def calculate_age(birthDate):\n    #birthDate=str(birthDate)\n    d,m,y = birthDate.split('-')\n    if int(y) < 21: y='20'+y\n    else: y= '19'+y\n    b = date(int(y),int(m),int(d))\n    today=date.today()\n    return today.year - b.year - ((today.month, today.day) <(b.month, b.day))\n\ndef yrs_mon_to_month(s):\n    sp=re.split('yrs|mon',s)\n    return int(sp[0])*12 + int(sp[1])\n\ndef encode_description(X):\n    '''\n\n    '''\n    X['PERFORM_CNS.SCORE.DESCRIPTION'] = X['PERFORM_CNS.SCORE.DESCRIPTION'].replace(('No Bureau History Available', \n                                     'Not Scored: Sufficient History Not Available','Not Scored: Not Enough Info available on the customer',\n                                     'Not Scored: No Activity seen on the customer (Inactive)', \n                                     'Not Scored: No Updates available in last 36 months', 'Not Scored: Only a Guarantor'),(0, 0, 0, 0, 0, 0))\n\n    X['PERFORM_CNS.SCORE.DESCRIPTION'] = X['PERFORM_CNS.SCORE.DESCRIPTION'].replace(('L-Very High Risk', 'M-Very High Risk', \n                                     'Not Scored: More than 50 active Accounts found'), (1, 1, 1))\n\n    X['PERFORM_CNS.SCORE.DESCRIPTION'] = X['PERFORM_CNS.SCORE.DESCRIPTION'].replace(('J-High Risk', 'K-High Risk'), (2, 2))\n\n    X['PERFORM_CNS.SCORE.DESCRIPTION'] = X['PERFORM_CNS.SCORE.DESCRIPTION'].replace(('H-Medium Risk', 'I-Medium Risk'), (3, 3))\n\n    X['PERFORM_CNS.SCORE.DESCRIPTION'] = X['PERFORM_CNS.SCORE.DESCRIPTION'].replace(('E-Low Risk', 'F-Low Risk', 'G-Low Risk'), (4, 4, 4))\n\n    X['PERFORM_CNS.SCORE.DESCRIPTION'] = X['PERFORM_CNS.SCORE.DESCRIPTION'].replace(('A-Very Low Risk', 'B-Very Low Risk',\n                                      'C-Very Low Risk', 'D-Very Low Risk'), (5, 5, 5, 5))\n    X=X.drop(['PERFORM_CNS.SCORE'], axis=1) # drop PERFORM_CNS.SCORE\n    return X\n\ndef get_balance(df):\n    # down sampling negative instances(nondefault), keep all the positive instances\n    nondefault=df[df.loan_default==0].sample(n=df.loan_default.value_counts()[1], random_state=0)\n    default=df[df.loan_default==1]\n    df_balance= default.append(nondefault, ignore_index=True)\n    df_balance=df_balance.sample(n=len(df_balance))\n    return df_balance",
   "execution_count": null,
   "outputs": []
  },
  {
   "cell_type": "code",
   "metadata": {
    "tags": [],
    "cell_id": "00002-fcaf0a36-c5fc-4521-b8b9-5376fc883807",
    "deepnote_to_be_reexecuted": false,
    "source_hash": "53075aae",
    "execution_start": 1622830779298,
    "execution_millis": 55,
    "deepnote_cell_type": "code"
   },
   "source": "def preprocess(df):\n    # transform birthDate to age\n    df['Date.of.Birth']=df['Date.of.Birth'].apply(lambda x: calculate_age(x))\n    df=df.rename(columns={'Date.of.Birth': 'Age'})\n\n    # one hot encoding Employment.Type\n    enc = OneHotEncoder(handle_unknown='ignore')\n    enc_df=pd.DataFrame(enc.fit_transform(df[['Employment.Type']]).toarray())\n    df=df.join(enc_df)\n    df.columns = df.columns.astype(str) \n    df=df.rename(columns={'0': 'Salaried',\n                       '1': 'Self_employed',\n                       '2': 'Unknown_employ'})\n    df=df.drop('Employment.Type',axis=1)\n\n    # \n    df['AVERAGE.ACCT.AGE']=df['AVERAGE.ACCT.AGE'].apply(lambda s: yrs_mon_to_month(s))\n    df['CREDIT.HISTORY.LENGTH']=df['CREDIT.HISTORY.LENGTH'].apply(lambda s: yrs_mon_to_month(s))\n\n    # transform DisbursalDate to month\n    df['DisbursalDate']=pd.to_datetime(df['DisbursalDate'],errors='coerce',dayfirst=True).dt.month\n    df=df.rename(columns={'DisbursalDate': 'DisbursalMonth'})\n\n    # encoding DisbursalMonth\n    df=pd.get_dummies(df, columns=[\"DisbursalMonth\"], prefix=[\"DisbursalMonth\"])\n    df['DisbursalMonth_8'] = df['DisbursalMonth_8'].astype(int)\n    df['DisbursalMonth_9'] = df['DisbursalMonth_8'].astype(int)\n    df['DisbursalMonth_10'] = df['DisbursalMonth_8'].astype(int)\n\n    # encoding description\n    df=encode_description(df)\n\n    # drop some columns with ID (will try encoding later)\n    id_col_to_drop=['UniqueID','branch_id','supplier_id', 'manufacturer_id', 'Current_pincode_ID','State_ID', 'Employee_code_ID']\n    df=df.drop(columns=id_col_to_drop)\n\n    # merge asset_cost and disbursed_amount\n    df['Downpayment']=df['asset_cost']-df['disbursed_amount']\n    df=df.drop(['asset_cost','disbursed_amount'],axis=1)\n\n    drop_max=['PRI.NO.OF.ACCTS','PRI.SANCTIONED.AMOUNT','PRI.DISBURSED.AMOUNT','DELINQUENT.ACCTS.IN.LAST.SIX.MONTHS']\n    for d in drop_max:\n        df= df.drop(index=df[df[d]== max(df[d])].index[0])\n\n    drop_2max=['Downpayment','SEC.INSTAL.AMT']\n    for d in drop_2max:\n        df= df.drop(index=df[df[d]== max(df[d])].index[0])\n        df= df.drop(index=df[df[d]== max(df[d])].index[0])\n\n    # 'PRI.CURRENT.BALANCE', 'SEC.CURRENT.BALANCE' has negative values\n    #print('Taking logrithmic')\n    df['PRI.CURRENT.BALANCE']=df['PRI.CURRENT.BALANCE']-np.min(df['PRI.CURRENT.BALANCE'])\n    df['SEC.CURRENT.BALANCE']=df['SEC.CURRENT.BALANCE']-np.min(df['SEC.CURRENT.BALANCE'])\n\n    # # without 'PRI.CURRENT.BALANCE', 'SEC.CURRENT.BALANCE'\n    # to_log_cols=['ltv','PRI.NO.OF.ACCTS', 'PRI.ACTIVE.ACCTS',\n    #    'PRI.OVERDUE.ACCTS' , 'PRI.SANCTIONED.AMOUNT',\n    #    'PRI.DISBURSED.AMOUNT', 'SEC.NO.OF.ACCTS', 'SEC.ACTIVE.ACCTS',\n    #    'SEC.OVERDUE.ACCTS', 'SEC.SANCTIONED.AMOUNT',\n    #    'SEC.DISBURSED.AMOUNT', 'PRIMARY.INSTAL.AMT', 'SEC.INSTAL.AMT',\n    #    'NEW.ACCTS.IN.LAST.SIX.MONTHS', 'DELINQUENT.ACCTS.IN.LAST.SIX.MONTHS',\n    #    'AVERAGE.ACCT.AGE', 'CREDIT.HISTORY.LENGTH', 'NO.OF_INQUIRIES','Downpayment']\n    to_log_cols=['ltv','PRI.NO.OF.ACCTS', 'PRI.ACTIVE.ACCTS',\n       'PRI.OVERDUE.ACCTS' , 'PRI.SANCTIONED.AMOUNT',\n       'PRI.DISBURSED.AMOUNT', 'SEC.NO.OF.ACCTS', 'SEC.ACTIVE.ACCTS',\n       'SEC.OVERDUE.ACCTS', 'SEC.SANCTIONED.AMOUNT',\n       'SEC.DISBURSED.AMOUNT', 'PRIMARY.INSTAL.AMT', 'SEC.INSTAL.AMT',\n       'NEW.ACCTS.IN.LAST.SIX.MONTHS', 'DELINQUENT.ACCTS.IN.LAST.SIX.MONTHS',\n       'AVERAGE.ACCT.AGE', 'CREDIT.HISTORY.LENGTH', 'NO.OF_INQUIRIES','Downpayment','PRI.CURRENT.BALANCE', 'SEC.CURRENT.BALANCE']\n    for c in to_log_cols:\n        df[c]=np.log1p(df[c])\n    #print('logarithmic completed')\n    # # 'PRI.CURRENT.BALANCE', 'SEC.CURRENT.BALANCE' has negative values\n    # df['PRI.CURRENT.BALANCE']=df['PRI.CURRENT.BALANCE'].apply(lambda x: np.log1p(x) if x>=0 else -np.log1p(np.abs(x)))\n    # df['SEC.CURRENT.BALANCE']=df['SEC.CURRENT.BALANCE'].apply(lambda x: np.log1p(x) if x>=0 else -np.log1p(np.abs(x)))\n\n    # down sample\n    #df=get_balance(df)\n    \n    return df",
   "execution_count": null,
   "outputs": []
  },
  {
   "cell_type": "code",
   "metadata": {
    "tags": [],
    "cell_id": "00001-6a22277b-d1c1-43cc-8356-f6faf328579a",
    "deepnote_to_be_reexecuted": false,
    "source_hash": "fa33007f",
    "execution_start": 1622830214169,
    "execution_millis": 1281,
    "deepnote_cell_type": "code"
   },
   "source": "train_raw=pd.read_csv('train_LTFS.csv')\ntrain=train_raw.copy(deep=True)\ntest_raw=pd.read_csv('test_LTFS.csv')",
   "execution_count": null,
   "outputs": []
  },
  {
   "cell_type": "code",
   "metadata": {
    "tags": [],
    "cell_id": "00005-32da9b51-40bd-4792-aa84-269a7a749d28",
    "deepnote_to_be_reexecuted": false,
    "source_hash": "75d7d180",
    "execution_start": 1622830235338,
    "execution_millis": 86,
    "deepnote_cell_type": "code"
   },
   "source": "train_raw.info()",
   "execution_count": null,
   "outputs": [
    {
     "name": "stdout",
     "text": "<class 'pandas.core.frame.DataFrame'>\nRangeIndex: 233154 entries, 0 to 233153\nData columns (total 41 columns):\n #   Column                               Non-Null Count   Dtype  \n---  ------                               --------------   -----  \n 0   UniqueID                             233154 non-null  int64  \n 1   disbursed_amount                     233154 non-null  int64  \n 2   asset_cost                           233154 non-null  int64  \n 3   ltv                                  233154 non-null  float64\n 4   branch_id                            233154 non-null  int64  \n 5   supplier_id                          233154 non-null  int64  \n 6   manufacturer_id                      233154 non-null  int64  \n 7   Current_pincode_ID                   233154 non-null  int64  \n 8   Date.of.Birth                        233154 non-null  object \n 9   Employment.Type                      225493 non-null  object \n 10  DisbursalDate                        233154 non-null  object \n 11  State_ID                             233154 non-null  int64  \n 12  Employee_code_ID                     233154 non-null  int64  \n 13  MobileNo_Avl_Flag                    233154 non-null  int64  \n 14  Aadhar_flag                          233154 non-null  int64  \n 15  PAN_flag                             233154 non-null  int64  \n 16  VoterID_flag                         233154 non-null  int64  \n 17  Driving_flag                         233154 non-null  int64  \n 18  Passport_flag                        233154 non-null  int64  \n 19  PERFORM_CNS.SCORE                    233154 non-null  int64  \n 20  PERFORM_CNS.SCORE.DESCRIPTION        233154 non-null  object \n 21  PRI.NO.OF.ACCTS                      233154 non-null  int64  \n 22  PRI.ACTIVE.ACCTS                     233154 non-null  int64  \n 23  PRI.OVERDUE.ACCTS                    233154 non-null  int64  \n 24  PRI.CURRENT.BALANCE                  233154 non-null  int64  \n 25  PRI.SANCTIONED.AMOUNT                233154 non-null  int64  \n 26  PRI.DISBURSED.AMOUNT                 233154 non-null  int64  \n 27  SEC.NO.OF.ACCTS                      233154 non-null  int64  \n 28  SEC.ACTIVE.ACCTS                     233154 non-null  int64  \n 29  SEC.OVERDUE.ACCTS                    233154 non-null  int64  \n 30  SEC.CURRENT.BALANCE                  233154 non-null  int64  \n 31  SEC.SANCTIONED.AMOUNT                233154 non-null  int64  \n 32  SEC.DISBURSED.AMOUNT                 233154 non-null  int64  \n 33  PRIMARY.INSTAL.AMT                   233154 non-null  int64  \n 34  SEC.INSTAL.AMT                       233154 non-null  int64  \n 35  NEW.ACCTS.IN.LAST.SIX.MONTHS         233154 non-null  int64  \n 36  DELINQUENT.ACCTS.IN.LAST.SIX.MONTHS  233154 non-null  int64  \n 37  AVERAGE.ACCT.AGE                     233154 non-null  object \n 38  CREDIT.HISTORY.LENGTH                233154 non-null  object \n 39  NO.OF_INQUIRIES                      233154 non-null  int64  \n 40  loan_default                         233154 non-null  int64  \ndtypes: float64(1), int64(34), object(6)\nmemory usage: 72.9+ MB\n",
     "output_type": "stream"
    }
   ]
  },
  {
   "cell_type": "code",
   "metadata": {
    "tags": [],
    "cell_id": "00002-acb88ccd-3062-4aa2-b247-776eaa92ef36",
    "deepnote_to_be_reexecuted": false,
    "source_hash": "24ef9b38",
    "execution_start": 1622830787087,
    "execution_millis": 5586,
    "deepnote_cell_type": "code"
   },
   "source": "train=preprocess(train)",
   "execution_count": null,
   "outputs": []
  },
  {
   "cell_type": "code",
   "metadata": {
    "tags": [],
    "cell_id": "00007-b4607a56-0d37-4782-ae9d-edd797842cc4",
    "deepnote_to_be_reexecuted": false,
    "source_hash": "fea28bdd",
    "execution_start": 1622830804616,
    "execution_millis": 32,
    "deepnote_cell_type": "code"
   },
   "source": "train.info()",
   "execution_count": null,
   "outputs": [
    {
     "name": "stdout",
     "text": "<class 'pandas.core.frame.DataFrame'>\nInt64Index: 233146 entries, 0 to 233153\nData columns (total 36 columns):\n #   Column                               Non-Null Count   Dtype  \n---  ------                               --------------   -----  \n 0   ltv                                  233146 non-null  float64\n 1   Age                                  233146 non-null  int64  \n 2   MobileNo_Avl_Flag                    233146 non-null  int64  \n 3   Aadhar_flag                          233146 non-null  int64  \n 4   PAN_flag                             233146 non-null  int64  \n 5   VoterID_flag                         233146 non-null  int64  \n 6   Driving_flag                         233146 non-null  int64  \n 7   Passport_flag                        233146 non-null  int64  \n 8   PERFORM_CNS.SCORE.DESCRIPTION        233146 non-null  int64  \n 9   PRI.NO.OF.ACCTS                      233146 non-null  float64\n 10  PRI.ACTIVE.ACCTS                     233146 non-null  float64\n 11  PRI.OVERDUE.ACCTS                    233146 non-null  float64\n 12  PRI.CURRENT.BALANCE                  233146 non-null  float64\n 13  PRI.SANCTIONED.AMOUNT                233146 non-null  float64\n 14  PRI.DISBURSED.AMOUNT                 233146 non-null  float64\n 15  SEC.NO.OF.ACCTS                      233146 non-null  float64\n 16  SEC.ACTIVE.ACCTS                     233146 non-null  float64\n 17  SEC.OVERDUE.ACCTS                    233146 non-null  float64\n 18  SEC.CURRENT.BALANCE                  233146 non-null  float64\n 19  SEC.SANCTIONED.AMOUNT                233146 non-null  float64\n 20  SEC.DISBURSED.AMOUNT                 233146 non-null  float64\n 21  PRIMARY.INSTAL.AMT                   233146 non-null  float64\n 22  SEC.INSTAL.AMT                       233146 non-null  float64\n 23  NEW.ACCTS.IN.LAST.SIX.MONTHS         233146 non-null  float64\n 24  DELINQUENT.ACCTS.IN.LAST.SIX.MONTHS  233146 non-null  float64\n 25  AVERAGE.ACCT.AGE                     233146 non-null  float64\n 26  CREDIT.HISTORY.LENGTH                233146 non-null  float64\n 27  NO.OF_INQUIRIES                      233146 non-null  float64\n 28  loan_default                         233146 non-null  int64  \n 29  Salaried                             233146 non-null  float64\n 30  Self_employed                        233146 non-null  float64\n 31  Unknown_employ                       233146 non-null  float64\n 32  DisbursalMonth_8                     233146 non-null  int64  \n 33  DisbursalMonth_9                     233146 non-null  int64  \n 34  DisbursalMonth_10                    233146 non-null  int64  \n 35  Downpayment                          233146 non-null  float64\ndtypes: float64(24), int64(12)\nmemory usage: 73.9 MB\n",
     "output_type": "stream"
    }
   ]
  },
  {
   "cell_type": "code",
   "metadata": {
    "tags": [],
    "cell_id": "00005-42f0671a-c52a-48a5-8026-beca5dda8b83",
    "deepnote_to_be_reexecuted": false,
    "source_hash": "3dc5e06b",
    "execution_start": 1622401314501,
    "execution_millis": 431,
    "deepnote_cell_type": "code"
   },
   "source": "train.describe()",
   "execution_count": null,
   "outputs": [
    {
     "output_type": "execute_result",
     "execution_count": 22,
     "data": {
      "application/vnd.deepnote.dataframe.v2+json": {
       "row_count": 8,
       "column_count": 36,
       "columns": [
        {
         "name": "ltv",
         "dtype": "float64",
         "stats": {
          "unique_count": 8,
          "nan_count": 0,
          "min": "0.1731599700904215",
          "max": "233146.0",
          "histogram": [
           {
            "bin_start": 0.1731599700904215,
            "bin_end": 23314.755843973082,
            "count": 7
           },
           {
            "bin_start": 23314.755843973082,
            "bin_end": 46629.33852797607,
            "count": 0
           },
           {
            "bin_start": 46629.33852797607,
            "bin_end": 69943.92121197906,
            "count": 0
           },
           {
            "bin_start": 69943.92121197906,
            "bin_end": 93258.50389598205,
            "count": 0
           },
           {
            "bin_start": 93258.50389598205,
            "bin_end": 116573.08657998504,
            "count": 0
           },
           {
            "bin_start": 116573.08657998504,
            "bin_end": 139887.66926398803,
            "count": 0
           },
           {
            "bin_start": 139887.66926398803,
            "bin_end": 163202.25194799103,
            "count": 0
           },
           {
            "bin_start": 163202.25194799103,
            "bin_end": 186516.83463199402,
            "count": 0
           },
           {
            "bin_start": 186516.83463199402,
            "bin_end": 209831.417315997,
            "count": 0
           },
           {
            "bin_start": 209831.417315997,
            "bin_end": 233146,
            "count": 1
           }
          ]
         }
        },
        {
         "name": "Age",
         "dtype": "float64",
         "stats": {
          "unique_count": 8,
          "nan_count": 0,
          "min": "9.824017462099272",
          "max": "233146.0",
          "histogram": [
           {
            "bin_start": 9.824017462099272,
            "bin_end": 23323.44161571589,
            "count": 7
           },
           {
            "bin_start": 23323.44161571589,
            "bin_end": 46637.05921396968,
            "count": 0
           },
           {
            "bin_start": 46637.05921396968,
            "bin_end": 69950.67681222346,
            "count": 0
           },
           {
            "bin_start": 69950.67681222346,
            "bin_end": 93264.29441047726,
            "count": 0
           },
           {
            "bin_start": 93264.29441047726,
            "bin_end": 116577.91200873106,
            "count": 0
           },
           {
            "bin_start": 116577.91200873106,
            "bin_end": 139891.5296069848,
            "count": 0
           },
           {
            "bin_start": 139891.5296069848,
            "bin_end": 163205.1472052386,
            "count": 0
           },
           {
            "bin_start": 163205.1472052386,
            "bin_end": 186518.7648034924,
            "count": 0
           },
           {
            "bin_start": 186518.7648034924,
            "bin_end": 209832.3824017462,
            "count": 0
           },
           {
            "bin_start": 209832.3824017462,
            "bin_end": 233146,
            "count": 1
           }
          ]
         }
        },
        {
         "name": "MobileNo_Avl_Flag",
         "dtype": "float64",
         "stats": {
          "unique_count": 3,
          "nan_count": 0,
          "min": "0.0",
          "max": "233146.0",
          "histogram": [
           {
            "bin_start": 0,
            "bin_end": 23314.6,
            "count": 7
           },
           {
            "bin_start": 23314.6,
            "bin_end": 46629.2,
            "count": 0
           },
           {
            "bin_start": 46629.2,
            "bin_end": 69943.79999999999,
            "count": 0
           },
           {
            "bin_start": 69943.79999999999,
            "bin_end": 93258.4,
            "count": 0
           },
           {
            "bin_start": 93258.4,
            "bin_end": 116573,
            "count": 0
           },
           {
            "bin_start": 116573,
            "bin_end": 139887.59999999998,
            "count": 0
           },
           {
            "bin_start": 139887.59999999998,
            "bin_end": 163202.19999999998,
            "count": 0
           },
           {
            "bin_start": 163202.19999999998,
            "bin_end": 186516.8,
            "count": 0
           },
           {
            "bin_start": 186516.8,
            "bin_end": 209831.4,
            "count": 0
           },
           {
            "bin_start": 209831.4,
            "bin_end": 233146,
            "count": 1
           }
          ]
         }
        },
        {
         "name": "Aadhar_flag",
         "dtype": "float64",
         "stats": {
          "unique_count": 5,
          "nan_count": 0,
          "min": "0.0",
          "max": "233146.0",
          "histogram": [
           {
            "bin_start": 0,
            "bin_end": 23314.6,
            "count": 7
           },
           {
            "bin_start": 23314.6,
            "bin_end": 46629.2,
            "count": 0
           },
           {
            "bin_start": 46629.2,
            "bin_end": 69943.79999999999,
            "count": 0
           },
           {
            "bin_start": 69943.79999999999,
            "bin_end": 93258.4,
            "count": 0
           },
           {
            "bin_start": 93258.4,
            "bin_end": 116573,
            "count": 0
           },
           {
            "bin_start": 116573,
            "bin_end": 139887.59999999998,
            "count": 0
           },
           {
            "bin_start": 139887.59999999998,
            "bin_end": 163202.19999999998,
            "count": 0
           },
           {
            "bin_start": 163202.19999999998,
            "bin_end": 186516.8,
            "count": 0
           },
           {
            "bin_start": 186516.8,
            "bin_end": 209831.4,
            "count": 0
           },
           {
            "bin_start": 209831.4,
            "bin_end": 233146,
            "count": 1
           }
          ]
         }
        },
        {
         "name": "PAN_flag",
         "dtype": "float64",
         "stats": {
          "unique_count": 5,
          "nan_count": 0,
          "min": "0.0",
          "max": "233146.0",
          "histogram": [
           {
            "bin_start": 0,
            "bin_end": 23314.6,
            "count": 7
           },
           {
            "bin_start": 23314.6,
            "bin_end": 46629.2,
            "count": 0
           },
           {
            "bin_start": 46629.2,
            "bin_end": 69943.79999999999,
            "count": 0
           },
           {
            "bin_start": 69943.79999999999,
            "bin_end": 93258.4,
            "count": 0
           },
           {
            "bin_start": 93258.4,
            "bin_end": 116573,
            "count": 0
           },
           {
            "bin_start": 116573,
            "bin_end": 139887.59999999998,
            "count": 0
           },
           {
            "bin_start": 139887.59999999998,
            "bin_end": 163202.19999999998,
            "count": 0
           },
           {
            "bin_start": 163202.19999999998,
            "bin_end": 186516.8,
            "count": 0
           },
           {
            "bin_start": 186516.8,
            "bin_end": 209831.4,
            "count": 0
           },
           {
            "bin_start": 209831.4,
            "bin_end": 233146,
            "count": 1
           }
          ]
         }
        },
        {
         "name": "VoterID_flag",
         "dtype": "float64",
         "stats": {
          "unique_count": 5,
          "nan_count": 0,
          "min": "0.0",
          "max": "233146.0",
          "histogram": [
           {
            "bin_start": 0,
            "bin_end": 23314.6,
            "count": 7
           },
           {
            "bin_start": 23314.6,
            "bin_end": 46629.2,
            "count": 0
           },
           {
            "bin_start": 46629.2,
            "bin_end": 69943.79999999999,
            "count": 0
           },
           {
            "bin_start": 69943.79999999999,
            "bin_end": 93258.4,
            "count": 0
           },
           {
            "bin_start": 93258.4,
            "bin_end": 116573,
            "count": 0
           },
           {
            "bin_start": 116573,
            "bin_end": 139887.59999999998,
            "count": 0
           },
           {
            "bin_start": 139887.59999999998,
            "bin_end": 163202.19999999998,
            "count": 0
           },
           {
            "bin_start": 163202.19999999998,
            "bin_end": 186516.8,
            "count": 0
           },
           {
            "bin_start": 186516.8,
            "bin_end": 209831.4,
            "count": 0
           },
           {
            "bin_start": 209831.4,
            "bin_end": 233146,
            "count": 1
           }
          ]
         }
        },
        {
         "name": "Driving_flag",
         "dtype": "float64",
         "stats": {
          "unique_count": 5,
          "nan_count": 0,
          "min": "0.0",
          "max": "233146.0",
          "histogram": [
           {
            "bin_start": 0,
            "bin_end": 23314.6,
            "count": 7
           },
           {
            "bin_start": 23314.6,
            "bin_end": 46629.2,
            "count": 0
           },
           {
            "bin_start": 46629.2,
            "bin_end": 69943.79999999999,
            "count": 0
           },
           {
            "bin_start": 69943.79999999999,
            "bin_end": 93258.4,
            "count": 0
           },
           {
            "bin_start": 93258.4,
            "bin_end": 116573,
            "count": 0
           },
           {
            "bin_start": 116573,
            "bin_end": 139887.59999999998,
            "count": 0
           },
           {
            "bin_start": 139887.59999999998,
            "bin_end": 163202.19999999998,
            "count": 0
           },
           {
            "bin_start": 163202.19999999998,
            "bin_end": 186516.8,
            "count": 0
           },
           {
            "bin_start": 186516.8,
            "bin_end": 209831.4,
            "count": 0
           },
           {
            "bin_start": 209831.4,
            "bin_end": 233146,
            "count": 1
           }
          ]
         }
        },
        {
         "name": "Passport_flag",
         "dtype": "float64",
         "stats": {
          "unique_count": 5,
          "nan_count": 0,
          "min": "0.0",
          "max": "233146.0",
          "histogram": [
           {
            "bin_start": 0,
            "bin_end": 23314.6,
            "count": 7
           },
           {
            "bin_start": 23314.6,
            "bin_end": 46629.2,
            "count": 0
           },
           {
            "bin_start": 46629.2,
            "bin_end": 69943.79999999999,
            "count": 0
           },
           {
            "bin_start": 69943.79999999999,
            "bin_end": 93258.4,
            "count": 0
           },
           {
            "bin_start": 93258.4,
            "bin_end": 116573,
            "count": 0
           },
           {
            "bin_start": 116573,
            "bin_end": 139887.59999999998,
            "count": 0
           },
           {
            "bin_start": 139887.59999999998,
            "bin_end": 163202.19999999998,
            "count": 0
           },
           {
            "bin_start": 163202.19999999998,
            "bin_end": 186516.8,
            "count": 0
           },
           {
            "bin_start": 186516.8,
            "bin_end": 209831.4,
            "count": 0
           },
           {
            "bin_start": 209831.4,
            "bin_end": 233146,
            "count": 1
           }
          ]
         }
        },
        {
         "name": "PERFORM_CNS.SCORE.DESCRIPTION",
         "dtype": "float64",
         "stats": {
          "unique_count": 6,
          "nan_count": 0,
          "min": "0.0",
          "max": "233146.0",
          "histogram": [
           {
            "bin_start": 0,
            "bin_end": 23314.6,
            "count": 7
           },
           {
            "bin_start": 23314.6,
            "bin_end": 46629.2,
            "count": 0
           },
           {
            "bin_start": 46629.2,
            "bin_end": 69943.79999999999,
            "count": 0
           },
           {
            "bin_start": 69943.79999999999,
            "bin_end": 93258.4,
            "count": 0
           },
           {
            "bin_start": 93258.4,
            "bin_end": 116573,
            "count": 0
           },
           {
            "bin_start": 116573,
            "bin_end": 139887.59999999998,
            "count": 0
           },
           {
            "bin_start": 139887.59999999998,
            "bin_end": 163202.19999999998,
            "count": 0
           },
           {
            "bin_start": 163202.19999999998,
            "bin_end": 186516.8,
            "count": 0
           },
           {
            "bin_start": 186516.8,
            "bin_end": 209831.4,
            "count": 0
           },
           {
            "bin_start": 209831.4,
            "bin_end": 233146,
            "count": 1
           }
          ]
         }
        },
        {
         "name": "PRI.NO.OF.ACCTS",
         "dtype": "float64",
         "stats": {
          "unique_count": 6,
          "nan_count": 0,
          "min": "0.0",
          "max": "233146.0",
          "histogram": [
           {
            "bin_start": 0,
            "bin_end": 23314.6,
            "count": 7
           },
           {
            "bin_start": 23314.6,
            "bin_end": 46629.2,
            "count": 0
           },
           {
            "bin_start": 46629.2,
            "bin_end": 69943.79999999999,
            "count": 0
           },
           {
            "bin_start": 69943.79999999999,
            "bin_end": 93258.4,
            "count": 0
           },
           {
            "bin_start": 93258.4,
            "bin_end": 116573,
            "count": 0
           },
           {
            "bin_start": 116573,
            "bin_end": 139887.59999999998,
            "count": 0
           },
           {
            "bin_start": 139887.59999999998,
            "bin_end": 163202.19999999998,
            "count": 0
           },
           {
            "bin_start": 163202.19999999998,
            "bin_end": 186516.8,
            "count": 0
           },
           {
            "bin_start": 186516.8,
            "bin_end": 209831.4,
            "count": 0
           },
           {
            "bin_start": 209831.4,
            "bin_end": 233146,
            "count": 1
           }
          ]
         }
        },
        {
         "name": "PRI.ACTIVE.ACCTS",
         "dtype": "float64",
         "stats": {
          "unique_count": 6,
          "nan_count": 0,
          "min": "0.0",
          "max": "233146.0",
          "histogram": [
           {
            "bin_start": 0,
            "bin_end": 23314.6,
            "count": 7
           },
           {
            "bin_start": 23314.6,
            "bin_end": 46629.2,
            "count": 0
           },
           {
            "bin_start": 46629.2,
            "bin_end": 69943.79999999999,
            "count": 0
           },
           {
            "bin_start": 69943.79999999999,
            "bin_end": 93258.4,
            "count": 0
           },
           {
            "bin_start": 93258.4,
            "bin_end": 116573,
            "count": 0
           },
           {
            "bin_start": 116573,
            "bin_end": 139887.59999999998,
            "count": 0
           },
           {
            "bin_start": 139887.59999999998,
            "bin_end": 163202.19999999998,
            "count": 0
           },
           {
            "bin_start": 163202.19999999998,
            "bin_end": 186516.8,
            "count": 0
           },
           {
            "bin_start": 186516.8,
            "bin_end": 209831.4,
            "count": 0
           },
           {
            "bin_start": 209831.4,
            "bin_end": 233146,
            "count": 1
           }
          ]
         }
        },
        {
         "name": "PRI.OVERDUE.ACCTS",
         "dtype": "float64",
         "stats": {
          "unique_count": 5,
          "nan_count": 0,
          "min": "0.0",
          "max": "233146.0",
          "histogram": [
           {
            "bin_start": 0,
            "bin_end": 23314.6,
            "count": 7
           },
           {
            "bin_start": 23314.6,
            "bin_end": 46629.2,
            "count": 0
           },
           {
            "bin_start": 46629.2,
            "bin_end": 69943.79999999999,
            "count": 0
           },
           {
            "bin_start": 69943.79999999999,
            "bin_end": 93258.4,
            "count": 0
           },
           {
            "bin_start": 93258.4,
            "bin_end": 116573,
            "count": 0
           },
           {
            "bin_start": 116573,
            "bin_end": 139887.59999999998,
            "count": 0
           },
           {
            "bin_start": 139887.59999999998,
            "bin_end": 163202.19999999998,
            "count": 0
           },
           {
            "bin_start": 163202.19999999998,
            "bin_end": 186516.8,
            "count": 0
           },
           {
            "bin_start": 186516.8,
            "bin_end": 209831.4,
            "count": 0
           },
           {
            "bin_start": 209831.4,
            "bin_end": 233146,
            "count": 1
           }
          ]
         }
        },
        {
         "name": "PRI.CURRENT.BALANCE",
         "dtype": "float64",
         "stats": {
          "unique_count": 7,
          "nan_count": 0,
          "min": "0.0",
          "max": "233146.0",
          "histogram": [
           {
            "bin_start": 0,
            "bin_end": 23314.6,
            "count": 7
           },
           {
            "bin_start": 23314.6,
            "bin_end": 46629.2,
            "count": 0
           },
           {
            "bin_start": 46629.2,
            "bin_end": 69943.79999999999,
            "count": 0
           },
           {
            "bin_start": 69943.79999999999,
            "bin_end": 93258.4,
            "count": 0
           },
           {
            "bin_start": 93258.4,
            "bin_end": 116573,
            "count": 0
           },
           {
            "bin_start": 116573,
            "bin_end": 139887.59999999998,
            "count": 0
           },
           {
            "bin_start": 139887.59999999998,
            "bin_end": 163202.19999999998,
            "count": 0
           },
           {
            "bin_start": 163202.19999999998,
            "bin_end": 186516.8,
            "count": 0
           },
           {
            "bin_start": 186516.8,
            "bin_end": 209831.4,
            "count": 0
           },
           {
            "bin_start": 209831.4,
            "bin_end": 233146,
            "count": 1
           }
          ]
         }
        },
        {
         "name": "PRI.SANCTIONED.AMOUNT",
         "dtype": "float64",
         "stats": {
          "unique_count": 6,
          "nan_count": 0,
          "min": "0.0",
          "max": "233146.0",
          "histogram": [
           {
            "bin_start": 0,
            "bin_end": 23314.6,
            "count": 7
           },
           {
            "bin_start": 23314.6,
            "bin_end": 46629.2,
            "count": 0
           },
           {
            "bin_start": 46629.2,
            "bin_end": 69943.79999999999,
            "count": 0
           },
           {
            "bin_start": 69943.79999999999,
            "bin_end": 93258.4,
            "count": 0
           },
           {
            "bin_start": 93258.4,
            "bin_end": 116573,
            "count": 0
           },
           {
            "bin_start": 116573,
            "bin_end": 139887.59999999998,
            "count": 0
           },
           {
            "bin_start": 139887.59999999998,
            "bin_end": 163202.19999999998,
            "count": 0
           },
           {
            "bin_start": 163202.19999999998,
            "bin_end": 186516.8,
            "count": 0
           },
           {
            "bin_start": 186516.8,
            "bin_end": 209831.4,
            "count": 0
           },
           {
            "bin_start": 209831.4,
            "bin_end": 233146,
            "count": 1
           }
          ]
         }
        },
        {
         "name": "PRI.DISBURSED.AMOUNT",
         "dtype": "float64",
         "stats": {
          "unique_count": 6,
          "nan_count": 0,
          "min": "0.0",
          "max": "233146.0",
          "histogram": [
           {
            "bin_start": 0,
            "bin_end": 23314.6,
            "count": 7
           },
           {
            "bin_start": 23314.6,
            "bin_end": 46629.2,
            "count": 0
           },
           {
            "bin_start": 46629.2,
            "bin_end": 69943.79999999999,
            "count": 0
           },
           {
            "bin_start": 69943.79999999999,
            "bin_end": 93258.4,
            "count": 0
           },
           {
            "bin_start": 93258.4,
            "bin_end": 116573,
            "count": 0
           },
           {
            "bin_start": 116573,
            "bin_end": 139887.59999999998,
            "count": 0
           },
           {
            "bin_start": 139887.59999999998,
            "bin_end": 163202.19999999998,
            "count": 0
           },
           {
            "bin_start": 163202.19999999998,
            "bin_end": 186516.8,
            "count": 0
           },
           {
            "bin_start": 186516.8,
            "bin_end": 209831.4,
            "count": 0
           },
           {
            "bin_start": 209831.4,
            "bin_end": 233146,
            "count": 1
           }
          ]
         }
        },
        {
         "name": "SEC.NO.OF.ACCTS",
         "dtype": "float64",
         "stats": {
          "unique_count": 5,
          "nan_count": 0,
          "min": "0.0",
          "max": "233146.0",
          "histogram": [
           {
            "bin_start": 0,
            "bin_end": 23314.6,
            "count": 7
           },
           {
            "bin_start": 23314.6,
            "bin_end": 46629.2,
            "count": 0
           },
           {
            "bin_start": 46629.2,
            "bin_end": 69943.79999999999,
            "count": 0
           },
           {
            "bin_start": 69943.79999999999,
            "bin_end": 93258.4,
            "count": 0
           },
           {
            "bin_start": 93258.4,
            "bin_end": 116573,
            "count": 0
           },
           {
            "bin_start": 116573,
            "bin_end": 139887.59999999998,
            "count": 0
           },
           {
            "bin_start": 139887.59999999998,
            "bin_end": 163202.19999999998,
            "count": 0
           },
           {
            "bin_start": 163202.19999999998,
            "bin_end": 186516.8,
            "count": 0
           },
           {
            "bin_start": 186516.8,
            "bin_end": 209831.4,
            "count": 0
           },
           {
            "bin_start": 209831.4,
            "bin_end": 233146,
            "count": 1
           }
          ]
         }
        },
        {
         "name": "SEC.ACTIVE.ACCTS",
         "dtype": "float64",
         "stats": {
          "unique_count": 5,
          "nan_count": 0,
          "min": "0.0",
          "max": "233146.0",
          "histogram": [
           {
            "bin_start": 0,
            "bin_end": 23314.6,
            "count": 7
           },
           {
            "bin_start": 23314.6,
            "bin_end": 46629.2,
            "count": 0
           },
           {
            "bin_start": 46629.2,
            "bin_end": 69943.79999999999,
            "count": 0
           },
           {
            "bin_start": 69943.79999999999,
            "bin_end": 93258.4,
            "count": 0
           },
           {
            "bin_start": 93258.4,
            "bin_end": 116573,
            "count": 0
           },
           {
            "bin_start": 116573,
            "bin_end": 139887.59999999998,
            "count": 0
           },
           {
            "bin_start": 139887.59999999998,
            "bin_end": 163202.19999999998,
            "count": 0
           },
           {
            "bin_start": 163202.19999999998,
            "bin_end": 186516.8,
            "count": 0
           },
           {
            "bin_start": 186516.8,
            "bin_end": 209831.4,
            "count": 0
           },
           {
            "bin_start": 209831.4,
            "bin_end": 233146,
            "count": 1
           }
          ]
         }
        },
        {
         "name": "SEC.OVERDUE.ACCTS",
         "dtype": "float64",
         "stats": {
          "unique_count": 5,
          "nan_count": 0,
          "min": "0.0",
          "max": "233146.0",
          "histogram": [
           {
            "bin_start": 0,
            "bin_end": 23314.6,
            "count": 7
           },
           {
            "bin_start": 23314.6,
            "bin_end": 46629.2,
            "count": 0
           },
           {
            "bin_start": 46629.2,
            "bin_end": 69943.79999999999,
            "count": 0
           },
           {
            "bin_start": 69943.79999999999,
            "bin_end": 93258.4,
            "count": 0
           },
           {
            "bin_start": 93258.4,
            "bin_end": 116573,
            "count": 0
           },
           {
            "bin_start": 116573,
            "bin_end": 139887.59999999998,
            "count": 0
           },
           {
            "bin_start": 139887.59999999998,
            "bin_end": 163202.19999999998,
            "count": 0
           },
           {
            "bin_start": 163202.19999999998,
            "bin_end": 186516.8,
            "count": 0
           },
           {
            "bin_start": 186516.8,
            "bin_end": 209831.4,
            "count": 0
           },
           {
            "bin_start": 209831.4,
            "bin_end": 233146,
            "count": 1
           }
          ]
         }
        },
        {
         "name": "SEC.CURRENT.BALANCE",
         "dtype": "float64",
         "stats": {
          "unique_count": 6,
          "nan_count": 0,
          "min": "0.0",
          "max": "233146.0",
          "histogram": [
           {
            "bin_start": 0,
            "bin_end": 23314.6,
            "count": 7
           },
           {
            "bin_start": 23314.6,
            "bin_end": 46629.2,
            "count": 0
           },
           {
            "bin_start": 46629.2,
            "bin_end": 69943.79999999999,
            "count": 0
           },
           {
            "bin_start": 69943.79999999999,
            "bin_end": 93258.4,
            "count": 0
           },
           {
            "bin_start": 93258.4,
            "bin_end": 116573,
            "count": 0
           },
           {
            "bin_start": 116573,
            "bin_end": 139887.59999999998,
            "count": 0
           },
           {
            "bin_start": 139887.59999999998,
            "bin_end": 163202.19999999998,
            "count": 0
           },
           {
            "bin_start": 163202.19999999998,
            "bin_end": 186516.8,
            "count": 0
           },
           {
            "bin_start": 186516.8,
            "bin_end": 209831.4,
            "count": 0
           },
           {
            "bin_start": 209831.4,
            "bin_end": 233146,
            "count": 1
           }
          ]
         }
        },
        {
         "name": "SEC.SANCTIONED.AMOUNT",
         "dtype": "float64",
         "stats": {
          "unique_count": 5,
          "nan_count": 0,
          "min": "0.0",
          "max": "233146.0",
          "histogram": [
           {
            "bin_start": 0,
            "bin_end": 23314.6,
            "count": 7
           },
           {
            "bin_start": 23314.6,
            "bin_end": 46629.2,
            "count": 0
           },
           {
            "bin_start": 46629.2,
            "bin_end": 69943.79999999999,
            "count": 0
           },
           {
            "bin_start": 69943.79999999999,
            "bin_end": 93258.4,
            "count": 0
           },
           {
            "bin_start": 93258.4,
            "bin_end": 116573,
            "count": 0
           },
           {
            "bin_start": 116573,
            "bin_end": 139887.59999999998,
            "count": 0
           },
           {
            "bin_start": 139887.59999999998,
            "bin_end": 163202.19999999998,
            "count": 0
           },
           {
            "bin_start": 163202.19999999998,
            "bin_end": 186516.8,
            "count": 0
           },
           {
            "bin_start": 186516.8,
            "bin_end": 209831.4,
            "count": 0
           },
           {
            "bin_start": 209831.4,
            "bin_end": 233146,
            "count": 1
           }
          ]
         }
        },
        {
         "name": "SEC.DISBURSED.AMOUNT",
         "dtype": "float64",
         "stats": {
          "unique_count": 5,
          "nan_count": 0,
          "min": "0.0",
          "max": "233146.0",
          "histogram": [
           {
            "bin_start": 0,
            "bin_end": 23314.6,
            "count": 7
           },
           {
            "bin_start": 23314.6,
            "bin_end": 46629.2,
            "count": 0
           },
           {
            "bin_start": 46629.2,
            "bin_end": 69943.79999999999,
            "count": 0
           },
           {
            "bin_start": 69943.79999999999,
            "bin_end": 93258.4,
            "count": 0
           },
           {
            "bin_start": 93258.4,
            "bin_end": 116573,
            "count": 0
           },
           {
            "bin_start": 116573,
            "bin_end": 139887.59999999998,
            "count": 0
           },
           {
            "bin_start": 139887.59999999998,
            "bin_end": 163202.19999999998,
            "count": 0
           },
           {
            "bin_start": 163202.19999999998,
            "bin_end": 186516.8,
            "count": 0
           },
           {
            "bin_start": 186516.8,
            "bin_end": 209831.4,
            "count": 0
           },
           {
            "bin_start": 209831.4,
            "bin_end": 233146,
            "count": 1
           }
          ]
         }
        },
        {
         "name": "PRIMARY.INSTAL.AMT",
         "dtype": "float64",
         "stats": {
          "unique_count": 6,
          "nan_count": 0,
          "min": "0.0",
          "max": "233146.0",
          "histogram": [
           {
            "bin_start": 0,
            "bin_end": 23314.6,
            "count": 7
           },
           {
            "bin_start": 23314.6,
            "bin_end": 46629.2,
            "count": 0
           },
           {
            "bin_start": 46629.2,
            "bin_end": 69943.79999999999,
            "count": 0
           },
           {
            "bin_start": 69943.79999999999,
            "bin_end": 93258.4,
            "count": 0
           },
           {
            "bin_start": 93258.4,
            "bin_end": 116573,
            "count": 0
           },
           {
            "bin_start": 116573,
            "bin_end": 139887.59999999998,
            "count": 0
           },
           {
            "bin_start": 139887.59999999998,
            "bin_end": 163202.19999999998,
            "count": 0
           },
           {
            "bin_start": 163202.19999999998,
            "bin_end": 186516.8,
            "count": 0
           },
           {
            "bin_start": 186516.8,
            "bin_end": 209831.4,
            "count": 0
           },
           {
            "bin_start": 209831.4,
            "bin_end": 233146,
            "count": 1
           }
          ]
         }
        },
        {
         "name": "SEC.INSTAL.AMT",
         "dtype": "float64",
         "stats": {
          "unique_count": 5,
          "nan_count": 0,
          "min": "0.0",
          "max": "233146.0",
          "histogram": [
           {
            "bin_start": 0,
            "bin_end": 23314.6,
            "count": 7
           },
           {
            "bin_start": 23314.6,
            "bin_end": 46629.2,
            "count": 0
           },
           {
            "bin_start": 46629.2,
            "bin_end": 69943.79999999999,
            "count": 0
           },
           {
            "bin_start": 69943.79999999999,
            "bin_end": 93258.4,
            "count": 0
           },
           {
            "bin_start": 93258.4,
            "bin_end": 116573,
            "count": 0
           },
           {
            "bin_start": 116573,
            "bin_end": 139887.59999999998,
            "count": 0
           },
           {
            "bin_start": 139887.59999999998,
            "bin_end": 163202.19999999998,
            "count": 0
           },
           {
            "bin_start": 163202.19999999998,
            "bin_end": 186516.8,
            "count": 0
           },
           {
            "bin_start": 186516.8,
            "bin_end": 209831.4,
            "count": 0
           },
           {
            "bin_start": 209831.4,
            "bin_end": 233146,
            "count": 1
           }
          ]
         }
        },
        {
         "name": "NEW.ACCTS.IN.LAST.SIX.MONTHS",
         "dtype": "float64",
         "stats": {
          "unique_count": 5,
          "nan_count": 0,
          "min": "0.0",
          "max": "233146.0",
          "histogram": [
           {
            "bin_start": 0,
            "bin_end": 23314.6,
            "count": 7
           },
           {
            "bin_start": 23314.6,
            "bin_end": 46629.2,
            "count": 0
           },
           {
            "bin_start": 46629.2,
            "bin_end": 69943.79999999999,
            "count": 0
           },
           {
            "bin_start": 69943.79999999999,
            "bin_end": 93258.4,
            "count": 0
           },
           {
            "bin_start": 93258.4,
            "bin_end": 116573,
            "count": 0
           },
           {
            "bin_start": 116573,
            "bin_end": 139887.59999999998,
            "count": 0
           },
           {
            "bin_start": 139887.59999999998,
            "bin_end": 163202.19999999998,
            "count": 0
           },
           {
            "bin_start": 163202.19999999998,
            "bin_end": 186516.8,
            "count": 0
           },
           {
            "bin_start": 186516.8,
            "bin_end": 209831.4,
            "count": 0
           },
           {
            "bin_start": 209831.4,
            "bin_end": 233146,
            "count": 1
           }
          ]
         }
        },
        {
         "name": "DELINQUENT.ACCTS.IN.LAST.SIX.MONTHS",
         "dtype": "float64",
         "stats": {
          "unique_count": 5,
          "nan_count": 0,
          "min": "0.0",
          "max": "233146.0",
          "histogram": [
           {
            "bin_start": 0,
            "bin_end": 23314.6,
            "count": 7
           },
           {
            "bin_start": 23314.6,
            "bin_end": 46629.2,
            "count": 0
           },
           {
            "bin_start": 46629.2,
            "bin_end": 69943.79999999999,
            "count": 0
           },
           {
            "bin_start": 69943.79999999999,
            "bin_end": 93258.4,
            "count": 0
           },
           {
            "bin_start": 93258.4,
            "bin_end": 116573,
            "count": 0
           },
           {
            "bin_start": 116573,
            "bin_end": 139887.59999999998,
            "count": 0
           },
           {
            "bin_start": 139887.59999999998,
            "bin_end": 163202.19999999998,
            "count": 0
           },
           {
            "bin_start": 163202.19999999998,
            "bin_end": 186516.8,
            "count": 0
           },
           {
            "bin_start": 186516.8,
            "bin_end": 209831.4,
            "count": 0
           },
           {
            "bin_start": 209831.4,
            "bin_end": 233146,
            "count": 1
           }
          ]
         }
        },
        {
         "name": "AVERAGE.ACCT.AGE",
         "dtype": "float64",
         "stats": {
          "unique_count": 6,
          "nan_count": 0,
          "min": "0.0",
          "max": "233146.0",
          "histogram": [
           {
            "bin_start": 0,
            "bin_end": 23314.6,
            "count": 7
           },
           {
            "bin_start": 23314.6,
            "bin_end": 46629.2,
            "count": 0
           },
           {
            "bin_start": 46629.2,
            "bin_end": 69943.79999999999,
            "count": 0
           },
           {
            "bin_start": 69943.79999999999,
            "bin_end": 93258.4,
            "count": 0
           },
           {
            "bin_start": 93258.4,
            "bin_end": 116573,
            "count": 0
           },
           {
            "bin_start": 116573,
            "bin_end": 139887.59999999998,
            "count": 0
           },
           {
            "bin_start": 139887.59999999998,
            "bin_end": 163202.19999999998,
            "count": 0
           },
           {
            "bin_start": 163202.19999999998,
            "bin_end": 186516.8,
            "count": 0
           },
           {
            "bin_start": 186516.8,
            "bin_end": 209831.4,
            "count": 0
           },
           {
            "bin_start": 209831.4,
            "bin_end": 233146,
            "count": 1
           }
          ]
         }
        },
        {
         "name": "CREDIT.HISTORY.LENGTH",
         "dtype": "float64",
         "stats": {
          "unique_count": 6,
          "nan_count": 0,
          "min": "0.0",
          "max": "233146.0",
          "histogram": [
           {
            "bin_start": 0,
            "bin_end": 23314.6,
            "count": 7
           },
           {
            "bin_start": 23314.6,
            "bin_end": 46629.2,
            "count": 0
           },
           {
            "bin_start": 46629.2,
            "bin_end": 69943.79999999999,
            "count": 0
           },
           {
            "bin_start": 69943.79999999999,
            "bin_end": 93258.4,
            "count": 0
           },
           {
            "bin_start": 93258.4,
            "bin_end": 116573,
            "count": 0
           },
           {
            "bin_start": 116573,
            "bin_end": 139887.59999999998,
            "count": 0
           },
           {
            "bin_start": 139887.59999999998,
            "bin_end": 163202.19999999998,
            "count": 0
           },
           {
            "bin_start": 163202.19999999998,
            "bin_end": 186516.8,
            "count": 0
           },
           {
            "bin_start": 186516.8,
            "bin_end": 209831.4,
            "count": 0
           },
           {
            "bin_start": 209831.4,
            "bin_end": 233146,
            "count": 1
           }
          ]
         }
        },
        {
         "name": "NO.OF_INQUIRIES",
         "dtype": "float64",
         "stats": {
          "unique_count": 5,
          "nan_count": 0,
          "min": "0.0",
          "max": "233146.0",
          "histogram": [
           {
            "bin_start": 0,
            "bin_end": 23314.6,
            "count": 7
           },
           {
            "bin_start": 23314.6,
            "bin_end": 46629.2,
            "count": 0
           },
           {
            "bin_start": 46629.2,
            "bin_end": 69943.79999999999,
            "count": 0
           },
           {
            "bin_start": 69943.79999999999,
            "bin_end": 93258.4,
            "count": 0
           },
           {
            "bin_start": 93258.4,
            "bin_end": 116573,
            "count": 0
           },
           {
            "bin_start": 116573,
            "bin_end": 139887.59999999998,
            "count": 0
           },
           {
            "bin_start": 139887.59999999998,
            "bin_end": 163202.19999999998,
            "count": 0
           },
           {
            "bin_start": 163202.19999999998,
            "bin_end": 186516.8,
            "count": 0
           },
           {
            "bin_start": 186516.8,
            "bin_end": 209831.4,
            "count": 0
           },
           {
            "bin_start": 209831.4,
            "bin_end": 233146,
            "count": 1
           }
          ]
         }
        },
        {
         "name": "loan_default",
         "dtype": "float64",
         "stats": {
          "unique_count": 5,
          "nan_count": 0,
          "min": "0.0",
          "max": "233146.0",
          "histogram": [
           {
            "bin_start": 0,
            "bin_end": 23314.6,
            "count": 7
           },
           {
            "bin_start": 23314.6,
            "bin_end": 46629.2,
            "count": 0
           },
           {
            "bin_start": 46629.2,
            "bin_end": 69943.79999999999,
            "count": 0
           },
           {
            "bin_start": 69943.79999999999,
            "bin_end": 93258.4,
            "count": 0
           },
           {
            "bin_start": 93258.4,
            "bin_end": 116573,
            "count": 0
           },
           {
            "bin_start": 116573,
            "bin_end": 139887.59999999998,
            "count": 0
           },
           {
            "bin_start": 139887.59999999998,
            "bin_end": 163202.19999999998,
            "count": 0
           },
           {
            "bin_start": 163202.19999999998,
            "bin_end": 186516.8,
            "count": 0
           },
           {
            "bin_start": 186516.8,
            "bin_end": 209831.4,
            "count": 0
           },
           {
            "bin_start": 209831.4,
            "bin_end": 233146,
            "count": 1
           }
          ]
         }
        },
        {
         "name": "Salaried",
         "dtype": "float64",
         "stats": {
          "unique_count": 5,
          "nan_count": 0,
          "min": "0.0",
          "max": "233146.0",
          "histogram": [
           {
            "bin_start": 0,
            "bin_end": 23314.6,
            "count": 7
           },
           {
            "bin_start": 23314.6,
            "bin_end": 46629.2,
            "count": 0
           },
           {
            "bin_start": 46629.2,
            "bin_end": 69943.79999999999,
            "count": 0
           },
           {
            "bin_start": 69943.79999999999,
            "bin_end": 93258.4,
            "count": 0
           },
           {
            "bin_start": 93258.4,
            "bin_end": 116573,
            "count": 0
           },
           {
            "bin_start": 116573,
            "bin_end": 139887.59999999998,
            "count": 0
           },
           {
            "bin_start": 139887.59999999998,
            "bin_end": 163202.19999999998,
            "count": 0
           },
           {
            "bin_start": 163202.19999999998,
            "bin_end": 186516.8,
            "count": 0
           },
           {
            "bin_start": 186516.8,
            "bin_end": 209831.4,
            "count": 0
           },
           {
            "bin_start": 209831.4,
            "bin_end": 233146,
            "count": 1
           }
          ]
         }
        },
        {
         "name": "Self_employed",
         "dtype": "float64",
         "stats": {
          "unique_count": 5,
          "nan_count": 0,
          "min": "0.0",
          "max": "233146.0",
          "histogram": [
           {
            "bin_start": 0,
            "bin_end": 23314.6,
            "count": 7
           },
           {
            "bin_start": 23314.6,
            "bin_end": 46629.2,
            "count": 0
           },
           {
            "bin_start": 46629.2,
            "bin_end": 69943.79999999999,
            "count": 0
           },
           {
            "bin_start": 69943.79999999999,
            "bin_end": 93258.4,
            "count": 0
           },
           {
            "bin_start": 93258.4,
            "bin_end": 116573,
            "count": 0
           },
           {
            "bin_start": 116573,
            "bin_end": 139887.59999999998,
            "count": 0
           },
           {
            "bin_start": 139887.59999999998,
            "bin_end": 163202.19999999998,
            "count": 0
           },
           {
            "bin_start": 163202.19999999998,
            "bin_end": 186516.8,
            "count": 0
           },
           {
            "bin_start": 186516.8,
            "bin_end": 209831.4,
            "count": 0
           },
           {
            "bin_start": 209831.4,
            "bin_end": 233146,
            "count": 1
           }
          ]
         }
        },
        {
         "name": "Unknown_employ",
         "dtype": "float64",
         "stats": {
          "unique_count": 5,
          "nan_count": 0,
          "min": "0.0",
          "max": "233146.0",
          "histogram": [
           {
            "bin_start": 0,
            "bin_end": 23314.6,
            "count": 7
           },
           {
            "bin_start": 23314.6,
            "bin_end": 46629.2,
            "count": 0
           },
           {
            "bin_start": 46629.2,
            "bin_end": 69943.79999999999,
            "count": 0
           },
           {
            "bin_start": 69943.79999999999,
            "bin_end": 93258.4,
            "count": 0
           },
           {
            "bin_start": 93258.4,
            "bin_end": 116573,
            "count": 0
           },
           {
            "bin_start": 116573,
            "bin_end": 139887.59999999998,
            "count": 0
           },
           {
            "bin_start": 139887.59999999998,
            "bin_end": 163202.19999999998,
            "count": 0
           },
           {
            "bin_start": 163202.19999999998,
            "bin_end": 186516.8,
            "count": 0
           },
           {
            "bin_start": 186516.8,
            "bin_end": 209831.4,
            "count": 0
           },
           {
            "bin_start": 209831.4,
            "bin_end": 233146,
            "count": 1
           }
          ]
         }
        },
        {
         "name": "DisbursalMonth_8",
         "dtype": "float64",
         "stats": {
          "unique_count": 5,
          "nan_count": 0,
          "min": "0.0",
          "max": "233146.0",
          "histogram": [
           {
            "bin_start": 0,
            "bin_end": 23314.6,
            "count": 7
           },
           {
            "bin_start": 23314.6,
            "bin_end": 46629.2,
            "count": 0
           },
           {
            "bin_start": 46629.2,
            "bin_end": 69943.79999999999,
            "count": 0
           },
           {
            "bin_start": 69943.79999999999,
            "bin_end": 93258.4,
            "count": 0
           },
           {
            "bin_start": 93258.4,
            "bin_end": 116573,
            "count": 0
           },
           {
            "bin_start": 116573,
            "bin_end": 139887.59999999998,
            "count": 0
           },
           {
            "bin_start": 139887.59999999998,
            "bin_end": 163202.19999999998,
            "count": 0
           },
           {
            "bin_start": 163202.19999999998,
            "bin_end": 186516.8,
            "count": 0
           },
           {
            "bin_start": 186516.8,
            "bin_end": 209831.4,
            "count": 0
           },
           {
            "bin_start": 209831.4,
            "bin_end": 233146,
            "count": 1
           }
          ]
         }
        },
        {
         "name": "DisbursalMonth_9",
         "dtype": "float64",
         "stats": {
          "unique_count": 5,
          "nan_count": 0,
          "min": "0.0",
          "max": "233146.0",
          "histogram": [
           {
            "bin_start": 0,
            "bin_end": 23314.6,
            "count": 7
           },
           {
            "bin_start": 23314.6,
            "bin_end": 46629.2,
            "count": 0
           },
           {
            "bin_start": 46629.2,
            "bin_end": 69943.79999999999,
            "count": 0
           },
           {
            "bin_start": 69943.79999999999,
            "bin_end": 93258.4,
            "count": 0
           },
           {
            "bin_start": 93258.4,
            "bin_end": 116573,
            "count": 0
           },
           {
            "bin_start": 116573,
            "bin_end": 139887.59999999998,
            "count": 0
           },
           {
            "bin_start": 139887.59999999998,
            "bin_end": 163202.19999999998,
            "count": 0
           },
           {
            "bin_start": 163202.19999999998,
            "bin_end": 186516.8,
            "count": 0
           },
           {
            "bin_start": 186516.8,
            "bin_end": 209831.4,
            "count": 0
           },
           {
            "bin_start": 209831.4,
            "bin_end": 233146,
            "count": 1
           }
          ]
         }
        },
        {
         "name": "DisbursalMonth_10",
         "dtype": "float64",
         "stats": {
          "unique_count": 5,
          "nan_count": 0,
          "min": "0.0",
          "max": "233146.0",
          "histogram": [
           {
            "bin_start": 0,
            "bin_end": 23314.6,
            "count": 7
           },
           {
            "bin_start": 23314.6,
            "bin_end": 46629.2,
            "count": 0
           },
           {
            "bin_start": 46629.2,
            "bin_end": 69943.79999999999,
            "count": 0
           },
           {
            "bin_start": 69943.79999999999,
            "bin_end": 93258.4,
            "count": 0
           },
           {
            "bin_start": 93258.4,
            "bin_end": 116573,
            "count": 0
           },
           {
            "bin_start": 116573,
            "bin_end": 139887.59999999998,
            "count": 0
           },
           {
            "bin_start": 139887.59999999998,
            "bin_end": 163202.19999999998,
            "count": 0
           },
           {
            "bin_start": 163202.19999999998,
            "bin_end": 186516.8,
            "count": 0
           },
           {
            "bin_start": 186516.8,
            "bin_end": 209831.4,
            "count": 0
           },
           {
            "bin_start": 209831.4,
            "bin_end": 233146,
            "count": 1
           }
          ]
         }
        },
        {
         "name": "Downpayment",
         "dtype": "float64",
         "stats": {
          "unique_count": 8,
          "nan_count": 0,
          "min": "0.49885909902716696",
          "max": "233146.0",
          "histogram": [
           {
            "bin_start": 0.49885909902716696,
            "bin_end": 23315.048973189125,
            "count": 7
           },
           {
            "bin_start": 23315.048973189125,
            "bin_end": 46629.59908727922,
            "count": 0
           },
           {
            "bin_start": 46629.59908727922,
            "bin_end": 69944.14920136932,
            "count": 0
           },
           {
            "bin_start": 69944.14920136932,
            "bin_end": 93258.69931545941,
            "count": 0
           },
           {
            "bin_start": 93258.69931545941,
            "bin_end": 116573.2494295495,
            "count": 0
           },
           {
            "bin_start": 116573.2494295495,
            "bin_end": 139887.79954363962,
            "count": 0
           },
           {
            "bin_start": 139887.79954363962,
            "bin_end": 163202.3496577297,
            "count": 0
           },
           {
            "bin_start": 163202.3496577297,
            "bin_end": 186516.8997718198,
            "count": 0
           },
           {
            "bin_start": 186516.8997718198,
            "bin_end": 209831.44988590988,
            "count": 0
           },
           {
            "bin_start": 209831.44988590988,
            "bin_end": 233146,
            "count": 1
           }
          ]
         }
        },
        {
         "name": "_deepnote_index_column",
         "dtype": "object"
        }
       ],
       "rows_top": [
        {
         "ltv": 233146,
         "Age": 233146,
         "MobileNo_Avl_Flag": 233146,
         "Aadhar_flag": 233146,
         "PAN_flag": 233146,
         "VoterID_flag": 233146,
         "Driving_flag": 233146,
         "Passport_flag": 233146,
         "PERFORM_CNS.SCORE.DESCRIPTION": 233146,
         "PRI.NO.OF.ACCTS": 233146,
         "PRI.ACTIVE.ACCTS": 233146,
         "PRI.OVERDUE.ACCTS": 233146,
         "PRI.CURRENT.BALANCE": 233146,
         "PRI.SANCTIONED.AMOUNT": 233146,
         "PRI.DISBURSED.AMOUNT": 233146,
         "SEC.NO.OF.ACCTS": 233146,
         "SEC.ACTIVE.ACCTS": 233146,
         "SEC.OVERDUE.ACCTS": 233146,
         "SEC.CURRENT.BALANCE": 233146,
         "SEC.SANCTIONED.AMOUNT": 233146,
         "SEC.DISBURSED.AMOUNT": 233146,
         "PRIMARY.INSTAL.AMT": 233146,
         "SEC.INSTAL.AMT": 233146,
         "NEW.ACCTS.IN.LAST.SIX.MONTHS": 233146,
         "DELINQUENT.ACCTS.IN.LAST.SIX.MONTHS": 233146,
         "AVERAGE.ACCT.AGE": 233146,
         "CREDIT.HISTORY.LENGTH": 233146,
         "NO.OF_INQUIRIES": 233146,
         "loan_default": 233146,
         "Salaried": 233146,
         "Self_employed": 233146,
         "Unknown_employ": 233146,
         "DisbursalMonth_8": 233146,
         "DisbursalMonth_9": 233146,
         "DisbursalMonth_10": 233146,
         "Downpayment": 233146,
         "_deepnote_index_column": "count"
        },
        {
         "ltv": 4.313816921052284,
         "Age": 36.65830852770367,
         "MobileNo_Avl_Flag": 1,
         "Aadhar_flag": 0.8403189417789712,
         "PAN_flag": 0.07557067245417035,
         "VoterID_flag": 0.14494780094876172,
         "Driving_flag": 0.023238657322021395,
         "Passport_flag": 0.0021274223019052438,
         "PERFORM_CNS.SCORE.DESCRIPTION": 1.7070462285434878,
         "PRI.NO.OF.ACCTS": 0.7280206783098827,
         "PRI.ACTIVE.ACCTS": 0.46313913253476957,
         "PRI.OVERDUE.ACCTS": 0.09298555091856119,
         "PRI.CURRENT.BALANCE": 15.734664683411477,
         "PRI.SANCTIONED.AMOUNT": 4.7784703324184665,
         "PRI.DISBURSED.AMOUNT": 4.761399839356202,
         "SEC.NO.OF.ACCTS": 0.02575256780916394,
         "SEC.ACTIVE.ACCTS": 0.014603617396935534,
         "SEC.OVERDUE.ACCTS": 0.004490789776794005,
         "SEC.CURRENT.BALANCE": 13.265767727552976,
         "SEC.SANCTIONED.AMOUNT": 0.18381158991946167,
         "SEC.DISBURSED.AMOUNT": 0.18092483020561836,
         "PRIMARY.INSTAL.AMT": 2.790293347994495,
         "SEC.INSTAL.AMT": 0.08220915812341821,
         "NEW.ACCTS.IN.LAST.SIX.MONTHS": 0.20534220725589633,
         "DELINQUENT.ACCTS.IN.LAST.SIX.MONTHS": 0.06108475644632569,
         "AVERAGE.ACCT.AGE": 1.2941462337315803,
         "CREDIT.HISTORY.LENGTH": 1.5297284113991994,
         "NO.OF_INQUIRIES": 0.11593302850117934,
         "loan_default": 0.21706999047806955,
         "Salaried": 0.41971983220814424,
         "Self_employed": 0.5474252185325933,
         "Unknown_employ": 0.03285494925926244,
         "DisbursalMonth_8": 0.2916584457807554,
         "DisbursalMonth_9": 0.2916584457807554,
         "DisbursalMonth_10": 0.2916584457807554,
         "Downpayment": 9.84395943831649,
         "_deepnote_index_column": "mean"
        },
        {
         "ltv": 0.1731599700904215,
         "Age": 9.824017462099272,
         "MobileNo_Avl_Flag": 0,
         "Aadhar_flag": 0.3663107879943703,
         "PAN_flag": 0.26431050974140025,
         "VoterID_flag": 0.35204895617020787,
         "Driving_flag": 0.15066094213923628,
         "Passport_flag": 0.04607499844526689,
         "PERFORM_CNS.SCORE.DESCRIPTION": 2.123324616883506,
         "PRI.NO.OF.ACCTS": 0.8923703737641526,
         "PRI.ACTIVE.ACCTS": 0.6332837555420059,
         "PRI.OVERDUE.ACCTS": 0.2759644504543149,
         "PRI.CURRENT.BALANCE": 0.08473363733650904,
         "PRI.SANCTIONED.AMOUNT": 5.869719215652406,
         "PRI.DISBURSED.AMOUNT": 5.859174396341816,
         "SEC.NO.OF.ACCTS": 0.1796186207518957,
         "SEC.ACTIVE.ACCTS": 0.1229628386167063,
         "SEC.OVERDUE.ACCTS": 0.06167715689054653,
         "SEC.CURRENT.BALANCE": 0.07381424561196161,
         "SEC.SANCTIONED.AMOUNT": 1.4593641358635905,
         "SEC.DISBURSED.AMOUNT": 1.4445498768759992,
         "PRIMARY.INSTAL.AMT": 4.201222348308182,
         "SEC.INSTAL.AMT": 0.8555663773195289,
         "NEW.ACCTS.IN.LAST.SIX.MONTHS": 0.41890590440818815,
         "DELINQUENT.ACCTS.IN.LAST.SIX.MONTHS": 0.21803389668196047,
         "AVERAGE.ACCT.AGE": 1.435792874159216,
         "CREDIT.HISTORY.LENGTH": 1.6956815444703406,
         "NO.OF_INQUIRIES": 0.31766881714250744,
         "loan_default": 0.41225154779581064,
         "Salaried": 0.4935140720486524,
         "Self_employed": 0.4977468345396032,
         "Unknown_employ": 0.17825722386248707,
         "DisbursalMonth_8": 0.4545268780861248,
         "DisbursalMonth_9": 0.4545268780861248,
         "DisbursalMonth_10": 0.4545268780861248,
         "Downpayment": 0.49885909902716696,
         "_deepnote_index_column": "std"
        },
        {
         "ltv": 2.400618833265411,
         "Age": 20,
         "MobileNo_Avl_Flag": 1,
         "Aadhar_flag": 0,
         "PAN_flag": 0,
         "VoterID_flag": 0,
         "Driving_flag": 0,
         "Passport_flag": 0,
         "PERFORM_CNS.SCORE.DESCRIPTION": 0,
         "PRI.NO.OF.ACCTS": 0,
         "PRI.ACTIVE.ACCTS": 0,
         "PRI.OVERDUE.ACCTS": 0,
         "PRI.CURRENT.BALANCE": 0,
         "PRI.SANCTIONED.AMOUNT": 0,
         "PRI.DISBURSED.AMOUNT": 0,
         "SEC.NO.OF.ACCTS": 0,
         "SEC.ACTIVE.ACCTS": 0,
         "SEC.OVERDUE.ACCTS": 0,
         "SEC.CURRENT.BALANCE": 0,
         "SEC.SANCTIONED.AMOUNT": 0,
         "SEC.DISBURSED.AMOUNT": 0,
         "PRIMARY.INSTAL.AMT": 0,
         "SEC.INSTAL.AMT": 0,
         "NEW.ACCTS.IN.LAST.SIX.MONTHS": 0,
         "DELINQUENT.ACCTS.IN.LAST.SIX.MONTHS": 0,
         "AVERAGE.ACCT.AGE": 0,
         "CREDIT.HISTORY.LENGTH": 0,
         "NO.OF_INQUIRIES": 0,
         "loan_default": 0,
         "Salaried": 0,
         "Self_employed": 0,
         "Unknown_employ": 0,
         "DisbursalMonth_8": 0,
         "DisbursalMonth_9": 0,
         "DisbursalMonth_10": 0,
         "Downpayment": 8.293549515060345,
         "_deepnote_index_column": "min"
        },
        {
         "ltv": 4.246779485265856,
         "Age": 29,
         "MobileNo_Avl_Flag": 1,
         "Aadhar_flag": 1,
         "PAN_flag": 0,
         "VoterID_flag": 0,
         "Driving_flag": 0,
         "Passport_flag": 0,
         "PERFORM_CNS.SCORE.DESCRIPTION": 0,
         "PRI.NO.OF.ACCTS": 0,
         "PRI.ACTIVE.ACCTS": 0,
         "PRI.OVERDUE.ACCTS": 0,
         "PRI.CURRENT.BALANCE": 15.714373572890311,
         "PRI.SANCTIONED.AMOUNT": 0,
         "PRI.DISBURSED.AMOUNT": 0,
         "SEC.NO.OF.ACCTS": 0,
         "SEC.ACTIVE.ACCTS": 0,
         "SEC.OVERDUE.ACCTS": 0,
         "SEC.CURRENT.BALANCE": 13.261512958411487,
         "SEC.SANCTIONED.AMOUNT": 0,
         "SEC.DISBURSED.AMOUNT": 0,
         "PRIMARY.INSTAL.AMT": 0,
         "SEC.INSTAL.AMT": 0,
         "NEW.ACCTS.IN.LAST.SIX.MONTHS": 0,
         "DELINQUENT.ACCTS.IN.LAST.SIX.MONTHS": 0,
         "AVERAGE.ACCT.AGE": 0,
         "CREDIT.HISTORY.LENGTH": 0,
         "NO.OF_INQUIRIES": 0,
         "loan_default": 0,
         "Salaried": 0,
         "Self_employed": 0,
         "Unknown_employ": 0,
         "DisbursalMonth_8": 0,
         "DisbursalMonth_9": 0,
         "DisbursalMonth_10": 0,
         "Downpayment": 9.479374650055481,
         "_deepnote_index_column": "25%"
        },
        {
         "ltv": 4.354141431184346,
         "Age": 35,
         "MobileNo_Avl_Flag": 1,
         "Aadhar_flag": 1,
         "PAN_flag": 0,
         "VoterID_flag": 0,
         "Driving_flag": 0,
         "Passport_flag": 0,
         "PERFORM_CNS.SCORE.DESCRIPTION": 0,
         "PRI.NO.OF.ACCTS": 0,
         "PRI.ACTIVE.ACCTS": 0,
         "PRI.OVERDUE.ACCTS": 0,
         "PRI.CURRENT.BALANCE": 15.714373572890311,
         "PRI.SANCTIONED.AMOUNT": 0,
         "PRI.DISBURSED.AMOUNT": 0,
         "SEC.NO.OF.ACCTS": 0,
         "SEC.ACTIVE.ACCTS": 0,
         "SEC.OVERDUE.ACCTS": 0,
         "SEC.CURRENT.BALANCE": 13.261512958411487,
         "SEC.SANCTIONED.AMOUNT": 0,
         "SEC.DISBURSED.AMOUNT": 0,
         "PRIMARY.INSTAL.AMT": 0,
         "SEC.INSTAL.AMT": 0,
         "NEW.ACCTS.IN.LAST.SIX.MONTHS": 0,
         "DELINQUENT.ACCTS.IN.LAST.SIX.MONTHS": 0,
         "AVERAGE.ACCT.AGE": 0,
         "CREDIT.HISTORY.LENGTH": 0,
         "NO.OF_INQUIRIES": 0,
         "loan_default": 0,
         "Salaried": 0,
         "Self_employed": 1,
         "Unknown_employ": 0,
         "DisbursalMonth_8": 0,
         "DisbursalMonth_9": 0,
         "DisbursalMonth_10": 0,
         "Downpayment": 9.797432350809284,
         "_deepnote_index_column": "50%"
        },
        {
         "ltv": 4.438761347654186,
         "Age": 44,
         "MobileNo_Avl_Flag": 1,
         "Aadhar_flag": 1,
         "PAN_flag": 0,
         "VoterID_flag": 0,
         "Driving_flag": 0,
         "Passport_flag": 0,
         "PERFORM_CNS.SCORE.DESCRIPTION": 4,
         "PRI.NO.OF.ACCTS": 1.3862943611198906,
         "PRI.ACTIVE.ACCTS": 0.6931471805599453,
         "PRI.OVERDUE.ACCTS": 0,
         "PRI.CURRENT.BALANCE": 15.719600744456741,
         "PRI.SANCTIONED.AMOUNT": 11.042777825355497,
         "PRI.DISBURSED.AMOUNT": 11.014905002791247,
         "SEC.NO.OF.ACCTS": 0,
         "SEC.ACTIVE.ACCTS": 0,
         "SEC.OVERDUE.ACCTS": 0,
         "SEC.CURRENT.BALANCE": 13.261512958411487,
         "SEC.SANCTIONED.AMOUNT": 0,
         "SEC.DISBURSED.AMOUNT": 0,
         "PRIMARY.INSTAL.AMT": 7.600902459542082,
         "SEC.INSTAL.AMT": 0,
         "NEW.ACCTS.IN.LAST.SIX.MONTHS": 0,
         "DELINQUENT.ACCTS.IN.LAST.SIX.MONTHS": 0,
         "AVERAGE.ACCT.AGE": 2.639057329615259,
         "CREDIT.HISTORY.LENGTH": 3.2188758248682006,
         "NO.OF_INQUIRIES": 0,
         "loan_default": 0,
         "Salaried": 1,
         "Self_employed": 1,
         "Unknown_employ": 0,
         "DisbursalMonth_8": 1,
         "DisbursalMonth_9": 1,
         "DisbursalMonth_10": 1,
         "Downpayment": 10.188929618044561,
         "_deepnote_index_column": "75%"
        },
        {
         "ltv": 4.564348191467836,
         "Age": 71,
         "MobileNo_Avl_Flag": 1,
         "Aadhar_flag": 1,
         "PAN_flag": 1,
         "VoterID_flag": 1,
         "Driving_flag": 1,
         "Passport_flag": 1,
         "PERFORM_CNS.SCORE.DESCRIPTION": 5,
         "PRI.NO.OF.ACCTS": 5.872117789475416,
         "PRI.ACTIVE.ACCTS": 4.976733742420574,
         "PRI.OVERDUE.ACCTS": 3.258096538021482,
         "PRI.CURRENT.BALANCE": 18.225659247232503,
         "PRI.SANCTIONED.AMOUNT": 18.4249217481673,
         "PRI.DISBURSED.AMOUNT": 18.4249217481673,
         "SEC.NO.OF.ACCTS": 3.970291913552122,
         "SEC.ACTIVE.ACCTS": 3.6109179126442243,
         "SEC.OVERDUE.ACCTS": 2.1972245773362196,
         "SEC.CURRENT.BALANCE": 17.41576369541155,
         "SEC.SANCTIONED.AMOUNT": 17.216707972959764,
         "SEC.DISBURSED.AMOUNT": 17.216707972959764,
         "PRIMARY.INSTAL.AMT": 17.05977366140363,
         "SEC.INSTAL.AMT": 14.411045460924983,
         "NEW.ACCTS.IN.LAST.SIX.MONTHS": 3.367295829986474,
         "DELINQUENT.ACCTS.IN.LAST.SIX.MONTHS": 2.5649493574615367,
         "AVERAGE.ACCT.AGE": 5.91350300563827,
         "CREDIT.HISTORY.LENGTH": 6.150602768446279,
         "NO.OF_INQUIRIES": 3.6109179126442243,
         "loan_default": 1,
         "Salaried": 1,
         "Self_employed": 1,
         "Unknown_employ": 1,
         "DisbursalMonth_8": 1,
         "DisbursalMonth_9": 1,
         "DisbursalMonth_10": 1,
         "Downpayment": 12.106777034434597,
         "_deepnote_index_column": "max"
        }
       ],
       "rows_bottom": null
      },
      "text/plain": "                 ltv            Age  MobileNo_Avl_Flag    Aadhar_flag  \\\ncount  233146.000000  233146.000000           233146.0  233146.000000   \nmean        4.313817      36.658309                1.0       0.840319   \nstd         0.173160       9.824017                0.0       0.366311   \nmin         2.400619      20.000000                1.0       0.000000   \n25%         4.246779      29.000000                1.0       1.000000   \n50%         4.354141      35.000000                1.0       1.000000   \n75%         4.438761      44.000000                1.0       1.000000   \nmax         4.564348      71.000000                1.0       1.000000   \n\n            PAN_flag   VoterID_flag   Driving_flag  Passport_flag  \\\ncount  233146.000000  233146.000000  233146.000000  233146.000000   \nmean        0.075571       0.144948       0.023239       0.002127   \nstd         0.264311       0.352049       0.150661       0.046075   \nmin         0.000000       0.000000       0.000000       0.000000   \n25%         0.000000       0.000000       0.000000       0.000000   \n50%         0.000000       0.000000       0.000000       0.000000   \n75%         0.000000       0.000000       0.000000       0.000000   \nmax         1.000000       1.000000       1.000000       1.000000   \n\n       PERFORM_CNS.SCORE.DESCRIPTION  PRI.NO.OF.ACCTS  ...  \\\ncount                  233146.000000    233146.000000  ...   \nmean                        1.707046         0.728021  ...   \nstd                         2.123325         0.892370  ...   \nmin                         0.000000         0.000000  ...   \n25%                         0.000000         0.000000  ...   \n50%                         0.000000         0.000000  ...   \n75%                         4.000000         1.386294  ...   \nmax                         5.000000         5.872118  ...   \n\n       CREDIT.HISTORY.LENGTH  NO.OF_INQUIRIES   loan_default       Salaried  \\\ncount          233146.000000    233146.000000  233146.000000  233146.000000   \nmean                1.529728         0.115933       0.217070       0.419720   \nstd                 1.695682         0.317669       0.412252       0.493514   \nmin                 0.000000         0.000000       0.000000       0.000000   \n25%                 0.000000         0.000000       0.000000       0.000000   \n50%                 0.000000         0.000000       0.000000       0.000000   \n75%                 3.218876         0.000000       0.000000       1.000000   \nmax                 6.150603         3.610918       1.000000       1.000000   \n\n       Self_employed  Unknown_employ  DisbursalMonth_8  DisbursalMonth_9  \\\ncount  233146.000000   233146.000000     233146.000000     233146.000000   \nmean        0.547425        0.032855          0.291658          0.291658   \nstd         0.497747        0.178257          0.454527          0.454527   \nmin         0.000000        0.000000          0.000000          0.000000   \n25%         0.000000        0.000000          0.000000          0.000000   \n50%         1.000000        0.000000          0.000000          0.000000   \n75%         1.000000        0.000000          1.000000          1.000000   \nmax         1.000000        1.000000          1.000000          1.000000   \n\n       DisbursalMonth_10    Downpayment  \ncount      233146.000000  233146.000000  \nmean            0.291658       9.843959  \nstd             0.454527       0.498859  \nmin             0.000000       8.293550  \n25%             0.000000       9.479375  \n50%             0.000000       9.797432  \n75%             1.000000      10.188930  \nmax             1.000000      12.106777  \n\n[8 rows x 36 columns]",
      "text/html": "<div>\n<style scoped>\n    .dataframe tbody tr th:only-of-type {\n        vertical-align: middle;\n    }\n\n    .dataframe tbody tr th {\n        vertical-align: top;\n    }\n\n    .dataframe thead th {\n        text-align: right;\n    }\n</style>\n<table border=\"1\" class=\"dataframe\">\n  <thead>\n    <tr style=\"text-align: right;\">\n      <th></th>\n      <th>ltv</th>\n      <th>Age</th>\n      <th>MobileNo_Avl_Flag</th>\n      <th>Aadhar_flag</th>\n      <th>PAN_flag</th>\n      <th>VoterID_flag</th>\n      <th>Driving_flag</th>\n      <th>Passport_flag</th>\n      <th>PERFORM_CNS.SCORE.DESCRIPTION</th>\n      <th>PRI.NO.OF.ACCTS</th>\n      <th>...</th>\n      <th>CREDIT.HISTORY.LENGTH</th>\n      <th>NO.OF_INQUIRIES</th>\n      <th>loan_default</th>\n      <th>Salaried</th>\n      <th>Self_employed</th>\n      <th>Unknown_employ</th>\n      <th>DisbursalMonth_8</th>\n      <th>DisbursalMonth_9</th>\n      <th>DisbursalMonth_10</th>\n      <th>Downpayment</th>\n    </tr>\n  </thead>\n  <tbody>\n    <tr>\n      <th>count</th>\n      <td>233146.000000</td>\n      <td>233146.000000</td>\n      <td>233146.0</td>\n      <td>233146.000000</td>\n      <td>233146.000000</td>\n      <td>233146.000000</td>\n      <td>233146.000000</td>\n      <td>233146.000000</td>\n      <td>233146.000000</td>\n      <td>233146.000000</td>\n      <td>...</td>\n      <td>233146.000000</td>\n      <td>233146.000000</td>\n      <td>233146.000000</td>\n      <td>233146.000000</td>\n      <td>233146.000000</td>\n      <td>233146.000000</td>\n      <td>233146.000000</td>\n      <td>233146.000000</td>\n      <td>233146.000000</td>\n      <td>233146.000000</td>\n    </tr>\n    <tr>\n      <th>mean</th>\n      <td>4.313817</td>\n      <td>36.658309</td>\n      <td>1.0</td>\n      <td>0.840319</td>\n      <td>0.075571</td>\n      <td>0.144948</td>\n      <td>0.023239</td>\n      <td>0.002127</td>\n      <td>1.707046</td>\n      <td>0.728021</td>\n      <td>...</td>\n      <td>1.529728</td>\n      <td>0.115933</td>\n      <td>0.217070</td>\n      <td>0.419720</td>\n      <td>0.547425</td>\n      <td>0.032855</td>\n      <td>0.291658</td>\n      <td>0.291658</td>\n      <td>0.291658</td>\n      <td>9.843959</td>\n    </tr>\n    <tr>\n      <th>std</th>\n      <td>0.173160</td>\n      <td>9.824017</td>\n      <td>0.0</td>\n      <td>0.366311</td>\n      <td>0.264311</td>\n      <td>0.352049</td>\n      <td>0.150661</td>\n      <td>0.046075</td>\n      <td>2.123325</td>\n      <td>0.892370</td>\n      <td>...</td>\n      <td>1.695682</td>\n      <td>0.317669</td>\n      <td>0.412252</td>\n      <td>0.493514</td>\n      <td>0.497747</td>\n      <td>0.178257</td>\n      <td>0.454527</td>\n      <td>0.454527</td>\n      <td>0.454527</td>\n      <td>0.498859</td>\n    </tr>\n    <tr>\n      <th>min</th>\n      <td>2.400619</td>\n      <td>20.000000</td>\n      <td>1.0</td>\n      <td>0.000000</td>\n      <td>0.000000</td>\n      <td>0.000000</td>\n      <td>0.000000</td>\n      <td>0.000000</td>\n      <td>0.000000</td>\n      <td>0.000000</td>\n      <td>...</td>\n      <td>0.000000</td>\n      <td>0.000000</td>\n      <td>0.000000</td>\n      <td>0.000000</td>\n      <td>0.000000</td>\n      <td>0.000000</td>\n      <td>0.000000</td>\n      <td>0.000000</td>\n      <td>0.000000</td>\n      <td>8.293550</td>\n    </tr>\n    <tr>\n      <th>25%</th>\n      <td>4.246779</td>\n      <td>29.000000</td>\n      <td>1.0</td>\n      <td>1.000000</td>\n      <td>0.000000</td>\n      <td>0.000000</td>\n      <td>0.000000</td>\n      <td>0.000000</td>\n      <td>0.000000</td>\n      <td>0.000000</td>\n      <td>...</td>\n      <td>0.000000</td>\n      <td>0.000000</td>\n      <td>0.000000</td>\n      <td>0.000000</td>\n      <td>0.000000</td>\n      <td>0.000000</td>\n      <td>0.000000</td>\n      <td>0.000000</td>\n      <td>0.000000</td>\n      <td>9.479375</td>\n    </tr>\n    <tr>\n      <th>50%</th>\n      <td>4.354141</td>\n      <td>35.000000</td>\n      <td>1.0</td>\n      <td>1.000000</td>\n      <td>0.000000</td>\n      <td>0.000000</td>\n      <td>0.000000</td>\n      <td>0.000000</td>\n      <td>0.000000</td>\n      <td>0.000000</td>\n      <td>...</td>\n      <td>0.000000</td>\n      <td>0.000000</td>\n      <td>0.000000</td>\n      <td>0.000000</td>\n      <td>1.000000</td>\n      <td>0.000000</td>\n      <td>0.000000</td>\n      <td>0.000000</td>\n      <td>0.000000</td>\n      <td>9.797432</td>\n    </tr>\n    <tr>\n      <th>75%</th>\n      <td>4.438761</td>\n      <td>44.000000</td>\n      <td>1.0</td>\n      <td>1.000000</td>\n      <td>0.000000</td>\n      <td>0.000000</td>\n      <td>0.000000</td>\n      <td>0.000000</td>\n      <td>4.000000</td>\n      <td>1.386294</td>\n      <td>...</td>\n      <td>3.218876</td>\n      <td>0.000000</td>\n      <td>0.000000</td>\n      <td>1.000000</td>\n      <td>1.000000</td>\n      <td>0.000000</td>\n      <td>1.000000</td>\n      <td>1.000000</td>\n      <td>1.000000</td>\n      <td>10.188930</td>\n    </tr>\n    <tr>\n      <th>max</th>\n      <td>4.564348</td>\n      <td>71.000000</td>\n      <td>1.0</td>\n      <td>1.000000</td>\n      <td>1.000000</td>\n      <td>1.000000</td>\n      <td>1.000000</td>\n      <td>1.000000</td>\n      <td>5.000000</td>\n      <td>5.872118</td>\n      <td>...</td>\n      <td>6.150603</td>\n      <td>3.610918</td>\n      <td>1.000000</td>\n      <td>1.000000</td>\n      <td>1.000000</td>\n      <td>1.000000</td>\n      <td>1.000000</td>\n      <td>1.000000</td>\n      <td>1.000000</td>\n      <td>12.106777</td>\n    </tr>\n  </tbody>\n</table>\n<p>8 rows × 36 columns</p>\n</div>"
     },
     "metadata": {}
    }
   ]
  },
  {
   "cell_type": "code",
   "metadata": {
    "tags": [],
    "cell_id": "00006-da6a2ec5-d046-40d4-a91b-ea90200a8539",
    "deepnote_to_be_reexecuted": false,
    "source_hash": "7f737f25",
    "execution_start": 1622401318937,
    "execution_millis": 143,
    "deepnote_cell_type": "code"
   },
   "source": "train",
   "execution_count": null,
   "outputs": [
    {
     "output_type": "execute_result",
     "execution_count": 23,
     "data": {
      "application/vnd.deepnote.dataframe.v2+json": {
       "row_count": 233146,
       "column_count": 36,
       "columns": [
        {
         "name": "ltv",
         "dtype": "float64"
        },
        {
         "name": "Age",
         "dtype": "int64"
        },
        {
         "name": "MobileNo_Avl_Flag",
         "dtype": "int64"
        },
        {
         "name": "Aadhar_flag",
         "dtype": "int64"
        },
        {
         "name": "PAN_flag",
         "dtype": "int64"
        },
        {
         "name": "VoterID_flag",
         "dtype": "int64"
        },
        {
         "name": "Driving_flag",
         "dtype": "int64"
        },
        {
         "name": "Passport_flag",
         "dtype": "int64"
        },
        {
         "name": "PERFORM_CNS.SCORE.DESCRIPTION",
         "dtype": "int64"
        },
        {
         "name": "PRI.NO.OF.ACCTS",
         "dtype": "float64"
        },
        {
         "name": "PRI.ACTIVE.ACCTS",
         "dtype": "float64"
        },
        {
         "name": "PRI.OVERDUE.ACCTS",
         "dtype": "float64"
        },
        {
         "name": "PRI.CURRENT.BALANCE",
         "dtype": "float64"
        },
        {
         "name": "PRI.SANCTIONED.AMOUNT",
         "dtype": "float64"
        },
        {
         "name": "PRI.DISBURSED.AMOUNT",
         "dtype": "float64"
        },
        {
         "name": "SEC.NO.OF.ACCTS",
         "dtype": "float64"
        },
        {
         "name": "SEC.ACTIVE.ACCTS",
         "dtype": "float64"
        },
        {
         "name": "SEC.OVERDUE.ACCTS",
         "dtype": "float64"
        },
        {
         "name": "SEC.CURRENT.BALANCE",
         "dtype": "float64"
        },
        {
         "name": "SEC.SANCTIONED.AMOUNT",
         "dtype": "float64"
        },
        {
         "name": "SEC.DISBURSED.AMOUNT",
         "dtype": "float64"
        },
        {
         "name": "PRIMARY.INSTAL.AMT",
         "dtype": "float64"
        },
        {
         "name": "SEC.INSTAL.AMT",
         "dtype": "float64"
        },
        {
         "name": "NEW.ACCTS.IN.LAST.SIX.MONTHS",
         "dtype": "float64"
        },
        {
         "name": "DELINQUENT.ACCTS.IN.LAST.SIX.MONTHS",
         "dtype": "float64"
        },
        {
         "name": "AVERAGE.ACCT.AGE",
         "dtype": "float64"
        },
        {
         "name": "CREDIT.HISTORY.LENGTH",
         "dtype": "float64"
        },
        {
         "name": "NO.OF_INQUIRIES",
         "dtype": "float64"
        },
        {
         "name": "loan_default",
         "dtype": "int64"
        },
        {
         "name": "Salaried",
         "dtype": "float64"
        },
        {
         "name": "Self_employed",
         "dtype": "float64"
        },
        {
         "name": "Unknown_employ",
         "dtype": "float64"
        },
        {
         "name": "DisbursalMonth_8",
         "dtype": "int64"
        },
        {
         "name": "DisbursalMonth_9",
         "dtype": "int64"
        },
        {
         "name": "DisbursalMonth_10",
         "dtype": "int64"
        },
        {
         "name": "Downpayment",
         "dtype": "float64"
        },
        {
         "name": "_deepnote_index_column",
         "dtype": "int64"
        }
       ],
       "rows_top": [
        {
         "ltv": 4.505902184329423,
         "Age": 37,
         "MobileNo_Avl_Flag": 1,
         "Aadhar_flag": 1,
         "PAN_flag": 0,
         "VoterID_flag": 0,
         "Driving_flag": 0,
         "Passport_flag": 0,
         "PERFORM_CNS.SCORE.DESCRIPTION": 0,
         "PRI.NO.OF.ACCTS": 0,
         "PRI.ACTIVE.ACCTS": 0,
         "PRI.OVERDUE.ACCTS": 0,
         "PRI.CURRENT.BALANCE": 15.714373572890311,
         "PRI.SANCTIONED.AMOUNT": 0,
         "PRI.DISBURSED.AMOUNT": 0,
         "SEC.NO.OF.ACCTS": 0,
         "SEC.ACTIVE.ACCTS": 0,
         "SEC.OVERDUE.ACCTS": 0,
         "SEC.CURRENT.BALANCE": 13.261512958411487,
         "SEC.SANCTIONED.AMOUNT": 0,
         "SEC.DISBURSED.AMOUNT": 0,
         "PRIMARY.INSTAL.AMT": 0,
         "SEC.INSTAL.AMT": 0,
         "NEW.ACCTS.IN.LAST.SIX.MONTHS": 0,
         "DELINQUENT.ACCTS.IN.LAST.SIX.MONTHS": 0,
         "AVERAGE.ACCT.AGE": 0,
         "CREDIT.HISTORY.LENGTH": 0,
         "NO.OF_INQUIRIES": 0,
         "loan_default": 0,
         "Salaried": 1,
         "Self_employed": 0,
         "Unknown_employ": 0,
         "DisbursalMonth_8": 1,
         "DisbursalMonth_9": 1,
         "DisbursalMonth_10": 1,
         "Downpayment": 8.96482339168508,
         "_deepnote_index_column": 0
        },
        {
         "ltv": 4.307168381129456,
         "Age": 35,
         "MobileNo_Avl_Flag": 1,
         "Aadhar_flag": 1,
         "PAN_flag": 0,
         "VoterID_flag": 0,
         "Driving_flag": 0,
         "Passport_flag": 0,
         "PERFORM_CNS.SCORE.DESCRIPTION": 3,
         "PRI.NO.OF.ACCTS": 0.6931471805599453,
         "PRI.ACTIVE.ACCTS": 0.6931471805599453,
         "PRI.OVERDUE.ACCTS": 0.6931471805599453,
         "PRI.CURRENT.BALANCE": 15.718497846510694,
         "PRI.SANCTIONED.AMOUNT": 10.823790225800138,
         "PRI.DISBURSED.AMOUNT": 10.823790225800138,
         "SEC.NO.OF.ACCTS": 0,
         "SEC.ACTIVE.ACCTS": 0,
         "SEC.OVERDUE.ACCTS": 0,
         "SEC.CURRENT.BALANCE": 13.261512958411487,
         "SEC.SANCTIONED.AMOUNT": 0,
         "SEC.DISBURSED.AMOUNT": 0,
         "PRIMARY.INSTAL.AMT": 7.596894438144544,
         "SEC.INSTAL.AMT": 0,
         "NEW.ACCTS.IN.LAST.SIX.MONTHS": 0,
         "DELINQUENT.ACCTS.IN.LAST.SIX.MONTHS": 0.6931471805599453,
         "AVERAGE.ACCT.AGE": 3.1780538303479458,
         "CREDIT.HISTORY.LENGTH": 3.1780538303479458,
         "NO.OF_INQUIRIES": 0,
         "loan_default": 1,
         "Salaried": 0,
         "Self_employed": 1,
         "Unknown_employ": 0,
         "DisbursalMonth_8": 0,
         "DisbursalMonth_9": 0,
         "DisbursalMonth_10": 0,
         "Downpayment": 9.820431977398803,
         "_deepnote_index_column": 1
        },
        {
         "ltv": 4.50678528406669,
         "Age": 35,
         "MobileNo_Avl_Flag": 1,
         "Aadhar_flag": 1,
         "PAN_flag": 0,
         "VoterID_flag": 0,
         "Driving_flag": 0,
         "Passport_flag": 0,
         "PERFORM_CNS.SCORE.DESCRIPTION": 0,
         "PRI.NO.OF.ACCTS": 0,
         "PRI.ACTIVE.ACCTS": 0,
         "PRI.OVERDUE.ACCTS": 0,
         "PRI.CURRENT.BALANCE": 15.714373572890311,
         "PRI.SANCTIONED.AMOUNT": 0,
         "PRI.DISBURSED.AMOUNT": 0,
         "SEC.NO.OF.ACCTS": 0,
         "SEC.ACTIVE.ACCTS": 0,
         "SEC.OVERDUE.ACCTS": 0,
         "SEC.CURRENT.BALANCE": 13.261512958411487,
         "SEC.SANCTIONED.AMOUNT": 0,
         "SEC.DISBURSED.AMOUNT": 0,
         "PRIMARY.INSTAL.AMT": 0,
         "SEC.INSTAL.AMT": 0,
         "NEW.ACCTS.IN.LAST.SIX.MONTHS": 0,
         "DELINQUENT.ACCTS.IN.LAST.SIX.MONTHS": 0,
         "AVERAGE.ACCT.AGE": 0,
         "CREDIT.HISTORY.LENGTH": 0,
         "NO.OF_INQUIRIES": 0,
         "loan_default": 0,
         "Salaried": 0,
         "Self_employed": 1,
         "Unknown_employ": 0,
         "DisbursalMonth_8": 1,
         "DisbursalMonth_9": 1,
         "DisbursalMonth_10": 1,
         "Downpayment": 8.997518369733845,
         "_deepnote_index_column": 2
        },
        {
         "ltv": 4.494015136621929,
         "Age": 27,
         "MobileNo_Avl_Flag": 1,
         "Aadhar_flag": 1,
         "PAN_flag": 0,
         "VoterID_flag": 0,
         "Driving_flag": 0,
         "Passport_flag": 0,
         "PERFORM_CNS.SCORE.DESCRIPTION": 1,
         "PRI.NO.OF.ACCTS": 1.3862943611198906,
         "PRI.ACTIVE.ACCTS": 0,
         "PRI.OVERDUE.ACCTS": 0,
         "PRI.CURRENT.BALANCE": 15.714373572890311,
         "PRI.SANCTIONED.AMOUNT": 0,
         "PRI.DISBURSED.AMOUNT": 0,
         "SEC.NO.OF.ACCTS": 0,
         "SEC.ACTIVE.ACCTS": 0,
         "SEC.OVERDUE.ACCTS": 0,
         "SEC.CURRENT.BALANCE": 13.261512958411487,
         "SEC.SANCTIONED.AMOUNT": 0,
         "SEC.DISBURSED.AMOUNT": 0,
         "PRIMARY.INSTAL.AMT": 3.4657359027997265,
         "SEC.INSTAL.AMT": 0,
         "NEW.ACCTS.IN.LAST.SIX.MONTHS": 0,
         "DELINQUENT.ACCTS.IN.LAST.SIX.MONTHS": 0,
         "AVERAGE.ACCT.AGE": 2.1972245773362196,
         "CREDIT.HISTORY.LENGTH": 2.772588722239781,
         "NO.OF_INQUIRIES": 0.6931471805599453,
         "loan_default": 1,
         "Salaried": 0,
         "Self_employed": 1,
         "Unknown_employ": 0,
         "DisbursalMonth_8": 0,
         "DisbursalMonth_9": 0,
         "DisbursalMonth_10": 0,
         "Downpayment": 9.059633754551479,
         "_deepnote_index_column": 3
        },
        {
         "ltv": 4.493008819099761,
         "Age": 43,
         "MobileNo_Avl_Flag": 1,
         "Aadhar_flag": 1,
         "PAN_flag": 0,
         "VoterID_flag": 0,
         "Driving_flag": 0,
         "Passport_flag": 0,
         "PERFORM_CNS.SCORE.DESCRIPTION": 0,
         "PRI.NO.OF.ACCTS": 0,
         "PRI.ACTIVE.ACCTS": 0,
         "PRI.OVERDUE.ACCTS": 0,
         "PRI.CURRENT.BALANCE": 15.714373572890311,
         "PRI.SANCTIONED.AMOUNT": 0,
         "PRI.DISBURSED.AMOUNT": 0,
         "SEC.NO.OF.ACCTS": 0,
         "SEC.ACTIVE.ACCTS": 0,
         "SEC.OVERDUE.ACCTS": 0,
         "SEC.CURRENT.BALANCE": 13.261512958411487,
         "SEC.SANCTIONED.AMOUNT": 0,
         "SEC.DISBURSED.AMOUNT": 0,
         "PRIMARY.INSTAL.AMT": 0,
         "SEC.INSTAL.AMT": 0,
         "NEW.ACCTS.IN.LAST.SIX.MONTHS": 0,
         "DELINQUENT.ACCTS.IN.LAST.SIX.MONTHS": 0,
         "AVERAGE.ACCT.AGE": 0,
         "CREDIT.HISTORY.LENGTH": 0,
         "NO.OF_INQUIRIES": 0.6931471805599453,
         "loan_default": 1,
         "Salaried": 0,
         "Self_employed": 1,
         "Unknown_employ": 0,
         "DisbursalMonth_8": 0,
         "DisbursalMonth_9": 0,
         "DisbursalMonth_10": 0,
         "Downpayment": 8.977525200965243,
         "_deepnote_index_column": 4
        },
        {
         "ltv": 4.507116245512703,
         "Age": 30,
         "MobileNo_Avl_Flag": 1,
         "Aadhar_flag": 1,
         "PAN_flag": 0,
         "VoterID_flag": 0,
         "Driving_flag": 0,
         "Passport_flag": 0,
         "PERFORM_CNS.SCORE.DESCRIPTION": 5,
         "PRI.NO.OF.ACCTS": 1.0986122886681096,
         "PRI.ACTIVE.ACCTS": 0,
         "PRI.OVERDUE.ACCTS": 0,
         "PRI.CURRENT.BALANCE": 15.714373572890311,
         "PRI.SANCTIONED.AMOUNT": 0,
         "PRI.DISBURSED.AMOUNT": 0,
         "SEC.NO.OF.ACCTS": 0,
         "SEC.ACTIVE.ACCTS": 0,
         "SEC.OVERDUE.ACCTS": 0,
         "SEC.CURRENT.BALANCE": 13.261512958411487,
         "SEC.SANCTIONED.AMOUNT": 0,
         "SEC.DISBURSED.AMOUNT": 0,
         "PRIMARY.INSTAL.AMT": 7.206377291472252,
         "SEC.INSTAL.AMT": 0,
         "NEW.ACCTS.IN.LAST.SIX.MONTHS": 0,
         "DELINQUENT.ACCTS.IN.LAST.SIX.MONTHS": 0,
         "AVERAGE.ACCT.AGE": 3.091042453358316,
         "CREDIT.HISTORY.LENGTH": 3.2188758248682006,
         "NO.OF_INQUIRIES": 0,
         "loan_default": 0,
         "Salaried": 0,
         "Self_employed": 1,
         "Unknown_employ": 0,
         "DisbursalMonth_8": 0,
         "DisbursalMonth_9": 0,
         "DisbursalMonth_10": 0,
         "Downpayment": 8.90761234131913,
         "_deepnote_index_column": 5
        },
        {
         "ltv": 4.349245145149502,
         "Age": 32,
         "MobileNo_Avl_Flag": 1,
         "Aadhar_flag": 1,
         "PAN_flag": 0,
         "VoterID_flag": 0,
         "Driving_flag": 0,
         "Passport_flag": 0,
         "PERFORM_CNS.SCORE.DESCRIPTION": 0,
         "PRI.NO.OF.ACCTS": 0,
         "PRI.ACTIVE.ACCTS": 0,
         "PRI.OVERDUE.ACCTS": 0,
         "PRI.CURRENT.BALANCE": 15.714373572890311,
         "PRI.SANCTIONED.AMOUNT": 0,
         "PRI.DISBURSED.AMOUNT": 0,
         "SEC.NO.OF.ACCTS": 0,
         "SEC.ACTIVE.ACCTS": 0,
         "SEC.OVERDUE.ACCTS": 0,
         "SEC.CURRENT.BALANCE": 13.261512958411487,
         "SEC.SANCTIONED.AMOUNT": 0,
         "SEC.DISBURSED.AMOUNT": 0,
         "PRIMARY.INSTAL.AMT": 0,
         "SEC.INSTAL.AMT": 0,
         "NEW.ACCTS.IN.LAST.SIX.MONTHS": 0,
         "DELINQUENT.ACCTS.IN.LAST.SIX.MONTHS": 0,
         "AVERAGE.ACCT.AGE": 0,
         "CREDIT.HISTORY.LENGTH": 0,
         "NO.OF_INQUIRIES": 0,
         "loan_default": 0,
         "Salaried": 1,
         "Self_employed": 0,
         "Unknown_employ": 0,
         "DisbursalMonth_8": 0,
         "DisbursalMonth_9": 0,
         "DisbursalMonth_10": 0,
         "Downpayment": 9.625887815425859,
         "_deepnote_index_column": 6
        },
        {
         "ltv": 4.2889514553941215,
         "Age": 31,
         "MobileNo_Avl_Flag": 1,
         "Aadhar_flag": 1,
         "PAN_flag": 0,
         "VoterID_flag": 0,
         "Driving_flag": 0,
         "Passport_flag": 0,
         "PERFORM_CNS.SCORE.DESCRIPTION": 0,
         "PRI.NO.OF.ACCTS": 0.6931471805599453,
         "PRI.ACTIVE.ACCTS": 0.6931471805599453,
         "PRI.OVERDUE.ACCTS": 0,
         "PRI.CURRENT.BALANCE": 15.725227269896006,
         "PRI.SANCTIONED.AMOUNT": 11.218567827096358,
         "PRI.DISBURSED.AMOUNT": 11.218567827096358,
         "SEC.NO.OF.ACCTS": 0,
         "SEC.ACTIVE.ACCTS": 0,
         "SEC.OVERDUE.ACCTS": 0,
         "SEC.CURRENT.BALANCE": 13.261512958411487,
         "SEC.SANCTIONED.AMOUNT": 0,
         "SEC.DISBURSED.AMOUNT": 0,
         "PRIMARY.INSTAL.AMT": 0,
         "SEC.INSTAL.AMT": 0,
         "NEW.ACCTS.IN.LAST.SIX.MONTHS": 0,
         "DELINQUENT.ACCTS.IN.LAST.SIX.MONTHS": 0,
         "AVERAGE.ACCT.AGE": 1.0986122886681096,
         "CREDIT.HISTORY.LENGTH": 1.0986122886681096,
         "NO.OF_INQUIRIES": 0,
         "loan_default": 0,
         "Salaried": 1,
         "Self_employed": 0,
         "Unknown_employ": 0,
         "DisbursalMonth_8": 0,
         "DisbursalMonth_9": 0,
         "DisbursalMonth_10": 0,
         "Downpayment": 9.798515850169505,
         "_deepnote_index_column": 7
        },
        {
         "ltv": 4.506012614454873,
         "Age": 29,
         "MobileNo_Avl_Flag": 1,
         "Aadhar_flag": 1,
         "PAN_flag": 0,
         "VoterID_flag": 0,
         "Driving_flag": 0,
         "Passport_flag": 0,
         "PERFORM_CNS.SCORE.DESCRIPTION": 5,
         "PRI.NO.OF.ACCTS": 0.6931471805599453,
         "PRI.ACTIVE.ACCTS": 0.6931471805599453,
         "PRI.OVERDUE.ACCTS": 0,
         "PRI.CURRENT.BALANCE": 15.714367433581764,
         "PRI.SANCTIONED.AMOUNT": 12.808706871180313,
         "PRI.DISBURSED.AMOUNT": 12.808706871180313,
         "SEC.NO.OF.ACCTS": 0,
         "SEC.ACTIVE.ACCTS": 0,
         "SEC.OVERDUE.ACCTS": 0,
         "SEC.CURRENT.BALANCE": 13.261512958411487,
         "SEC.SANCTIONED.AMOUNT": 0,
         "SEC.DISBURSED.AMOUNT": 0,
         "PRIMARY.INSTAL.AMT": 0,
         "SEC.INSTAL.AMT": 0,
         "NEW.ACCTS.IN.LAST.SIX.MONTHS": 0,
         "DELINQUENT.ACCTS.IN.LAST.SIX.MONTHS": 0,
         "AVERAGE.ACCT.AGE": 4.04305126783455,
         "CREDIT.HISTORY.LENGTH": 4.04305126783455,
         "NO.OF_INQUIRIES": 0.6931471805599453,
         "loan_default": 0,
         "Salaried": 0,
         "Self_employed": 1,
         "Unknown_employ": 0,
         "DisbursalMonth_8": 0,
         "DisbursalMonth_9": 0,
         "DisbursalMonth_10": 0,
         "Downpayment": 9.019300924562506,
         "_deepnote_index_column": 8
        },
        {
         "ltv": 4.476768471183568,
         "Age": 52,
         "MobileNo_Avl_Flag": 1,
         "Aadhar_flag": 0,
         "PAN_flag": 0,
         "VoterID_flag": 1,
         "Driving_flag": 0,
         "Passport_flag": 0,
         "PERFORM_CNS.SCORE.DESCRIPTION": 5,
         "PRI.NO.OF.ACCTS": 0.6931471805599453,
         "PRI.ACTIVE.ACCTS": 0,
         "PRI.OVERDUE.ACCTS": 0,
         "PRI.CURRENT.BALANCE": 15.714373572890311,
         "PRI.SANCTIONED.AMOUNT": 0,
         "PRI.DISBURSED.AMOUNT": 0,
         "SEC.NO.OF.ACCTS": 0,
         "SEC.ACTIVE.ACCTS": 0,
         "SEC.OVERDUE.ACCTS": 0,
         "SEC.CURRENT.BALANCE": 13.261512958411487,
         "SEC.SANCTIONED.AMOUNT": 0,
         "SEC.DISBURSED.AMOUNT": 0,
         "PRIMARY.INSTAL.AMT": 7.866722285136729,
         "SEC.INSTAL.AMT": 0,
         "NEW.ACCTS.IN.LAST.SIX.MONTHS": 0,
         "DELINQUENT.ACCTS.IN.LAST.SIX.MONTHS": 0,
         "AVERAGE.ACCT.AGE": 2.995732273553991,
         "CREDIT.HISTORY.LENGTH": 2.995732273553991,
         "NO.OF_INQUIRIES": 0,
         "loan_default": 0,
         "Salaried": 1,
         "Self_employed": 0,
         "Unknown_employ": 0,
         "DisbursalMonth_8": 0,
         "DisbursalMonth_9": 0,
         "DisbursalMonth_10": 0,
         "Downpayment": 9.070848393157585,
         "_deepnote_index_column": 9
        },
        {
         "ltv": 4.508989627514122,
         "Age": 42,
         "MobileNo_Avl_Flag": 1,
         "Aadhar_flag": 1,
         "PAN_flag": 0,
         "VoterID_flag": 0,
         "Driving_flag": 0,
         "Passport_flag": 0,
         "PERFORM_CNS.SCORE.DESCRIPTION": 1,
         "PRI.NO.OF.ACCTS": 0.6931471805599453,
         "PRI.ACTIVE.ACCTS": 0,
         "PRI.OVERDUE.ACCTS": 0,
         "PRI.CURRENT.BALANCE": 15.714373572890311,
         "PRI.SANCTIONED.AMOUNT": 0,
         "PRI.DISBURSED.AMOUNT": 0,
         "SEC.NO.OF.ACCTS": 0,
         "SEC.ACTIVE.ACCTS": 0,
         "SEC.OVERDUE.ACCTS": 0,
         "SEC.CURRENT.BALANCE": 13.261512958411487,
         "SEC.SANCTIONED.AMOUNT": 0,
         "SEC.DISBURSED.AMOUNT": 0,
         "PRIMARY.INSTAL.AMT": 7.7279755421055585,
         "SEC.INSTAL.AMT": 0,
         "NEW.ACCTS.IN.LAST.SIX.MONTHS": 0,
         "DELINQUENT.ACCTS.IN.LAST.SIX.MONTHS": 0,
         "AVERAGE.ACCT.AGE": 2.0794415416798357,
         "CREDIT.HISTORY.LENGTH": 2.0794415416798357,
         "NO.OF_INQUIRIES": 0,
         "loan_default": 1,
         "Salaried": 0,
         "Self_employed": 1,
         "Unknown_employ": 0,
         "DisbursalMonth_8": 0,
         "DisbursalMonth_9": 0,
         "DisbursalMonth_10": 0,
         "Downpayment": 8.981304494957135,
         "_deepnote_index_column": 10
        },
        {
         "ltv": 4.50236196600641,
         "Age": 36,
         "MobileNo_Avl_Flag": 1,
         "Aadhar_flag": 1,
         "PAN_flag": 0,
         "VoterID_flag": 0,
         "Driving_flag": 0,
         "Passport_flag": 0,
         "PERFORM_CNS.SCORE.DESCRIPTION": 5,
         "PRI.NO.OF.ACCTS": 1.3862943611198906,
         "PRI.ACTIVE.ACCTS": 1.0986122886681096,
         "PRI.OVERDUE.ACCTS": 0,
         "PRI.CURRENT.BALANCE": 15.714474791178267,
         "PRI.SANCTIONED.AMOUNT": 10.495570530609053,
         "PRI.DISBURSED.AMOUNT": 10.059422354156888,
         "SEC.NO.OF.ACCTS": 0,
         "SEC.ACTIVE.ACCTS": 0,
         "SEC.OVERDUE.ACCTS": 0,
         "SEC.CURRENT.BALANCE": 13.261512958411487,
         "SEC.SANCTIONED.AMOUNT": 0,
         "SEC.DISBURSED.AMOUNT": 0,
         "PRIMARY.INSTAL.AMT": 0,
         "SEC.INSTAL.AMT": 0,
         "NEW.ACCTS.IN.LAST.SIX.MONTHS": 0,
         "DELINQUENT.ACCTS.IN.LAST.SIX.MONTHS": 0,
         "AVERAGE.ACCT.AGE": 3.258096538021482,
         "CREDIT.HISTORY.LENGTH": 3.332204510175204,
         "NO.OF_INQUIRIES": 0.6931471805599453,
         "loan_default": 0,
         "Salaried": 1,
         "Self_employed": 0,
         "Unknown_employ": 0,
         "DisbursalMonth_8": 0,
         "DisbursalMonth_9": 0,
         "DisbursalMonth_10": 0,
         "Downpayment": 9.150802659259986,
         "_deepnote_index_column": 11
        },
        {
         "ltv": 4.507336825639328,
         "Age": 46,
         "MobileNo_Avl_Flag": 1,
         "Aadhar_flag": 0,
         "PAN_flag": 0,
         "VoterID_flag": 1,
         "Driving_flag": 0,
         "Passport_flag": 0,
         "PERFORM_CNS.SCORE.DESCRIPTION": 1,
         "PRI.NO.OF.ACCTS": 2.0794415416798357,
         "PRI.ACTIVE.ACCTS": 1.0986122886681096,
         "PRI.OVERDUE.ACCTS": 0.6931471805599453,
         "PRI.CURRENT.BALANCE": 15.714373572890311,
         "PRI.SANCTIONED.AMOUNT": 11.154835234271214,
         "PRI.DISBURSED.AMOUNT": 11.154835234271214,
         "SEC.NO.OF.ACCTS": 0,
         "SEC.ACTIVE.ACCTS": 0,
         "SEC.OVERDUE.ACCTS": 0,
         "SEC.CURRENT.BALANCE": 13.261512958411487,
         "SEC.SANCTIONED.AMOUNT": 0,
         "SEC.DISBURSED.AMOUNT": 0,
         "PRIMARY.INSTAL.AMT": 8.101980731853192,
         "SEC.INSTAL.AMT": 0,
         "NEW.ACCTS.IN.LAST.SIX.MONTHS": 0,
         "DELINQUENT.ACCTS.IN.LAST.SIX.MONTHS": 0,
         "AVERAGE.ACCT.AGE": 2.772588722239781,
         "CREDIT.HISTORY.LENGTH": 3.5263605246161616,
         "NO.OF_INQUIRIES": 0,
         "loan_default": 1,
         "Salaried": 1,
         "Self_employed": 0,
         "Unknown_employ": 0,
         "DisbursalMonth_8": 1,
         "DisbursalMonth_9": 1,
         "DisbursalMonth_10": 1,
         "Downpayment": 8.993799971795545,
         "_deepnote_index_column": 12
        }
       ],
       "rows_bottom": [
        {
         "ltv": 4.3031186995690085,
         "Age": 32,
         "MobileNo_Avl_Flag": 1,
         "Aadhar_flag": 1,
         "PAN_flag": 0,
         "VoterID_flag": 0,
         "Driving_flag": 0,
         "Passport_flag": 0,
         "PERFORM_CNS.SCORE.DESCRIPTION": 5,
         "PRI.NO.OF.ACCTS": 1.6094379124341003,
         "PRI.ACTIVE.ACCTS": 1.0986122886681096,
         "PRI.OVERDUE.ACCTS": 0,
         "PRI.CURRENT.BALANCE": 15.87165212625645,
         "PRI.SANCTIONED.AMOUNT": 14.346203512815462,
         "PRI.DISBURSED.AMOUNT": 14.346203512815462,
         "SEC.NO.OF.ACCTS": 0,
         "SEC.ACTIVE.ACCTS": 0,
         "SEC.OVERDUE.ACCTS": 0,
         "SEC.CURRENT.BALANCE": 13.261512958411487,
         "SEC.SANCTIONED.AMOUNT": 0,
         "SEC.DISBURSED.AMOUNT": 0,
         "PRIMARY.INSTAL.AMT": 9.463508636396089,
         "SEC.INSTAL.AMT": 0,
         "NEW.ACCTS.IN.LAST.SIX.MONTHS": 0,
         "DELINQUENT.ACCTS.IN.LAST.SIX.MONTHS": 0,
         "AVERAGE.ACCT.AGE": 3.6109179126442243,
         "CREDIT.HISTORY.LENGTH": 4.59511985013459,
         "NO.OF_INQUIRIES": 0,
         "loan_default": 0,
         "Salaried": 0,
         "Self_employed": 1,
         "Unknown_employ": 0,
         "DisbursalMonth_8": 0,
         "DisbursalMonth_9": 0,
         "DisbursalMonth_10": 0,
         "Downpayment": 9.766579035268668,
         "_deepnote_index_column": 233140
        },
        {
         "ltv": 4.209457369322605,
         "Age": 25,
         "MobileNo_Avl_Flag": 1,
         "Aadhar_flag": 0,
         "PAN_flag": 0,
         "VoterID_flag": 1,
         "Driving_flag": 0,
         "Passport_flag": 0,
         "PERFORM_CNS.SCORE.DESCRIPTION": 5,
         "PRI.NO.OF.ACCTS": 0.6931471805599453,
         "PRI.ACTIVE.ACCTS": 0,
         "PRI.OVERDUE.ACCTS": 0,
         "PRI.CURRENT.BALANCE": 15.714373572890311,
         "PRI.SANCTIONED.AMOUNT": 0,
         "PRI.DISBURSED.AMOUNT": 0,
         "SEC.NO.OF.ACCTS": 0,
         "SEC.ACTIVE.ACCTS": 0,
         "SEC.OVERDUE.ACCTS": 0,
         "SEC.CURRENT.BALANCE": 13.261512958411487,
         "SEC.SANCTIONED.AMOUNT": 0,
         "SEC.DISBURSED.AMOUNT": 0,
         "PRIMARY.INSTAL.AMT": 7.618251097876695,
         "SEC.INSTAL.AMT": 0,
         "NEW.ACCTS.IN.LAST.SIX.MONTHS": 0,
         "DELINQUENT.ACCTS.IN.LAST.SIX.MONTHS": 0,
         "AVERAGE.ACCT.AGE": 1.9459101490553132,
         "CREDIT.HISTORY.LENGTH": 1.9459101490553132,
         "NO.OF_INQUIRIES": 0,
         "loan_default": 0,
         "Salaried": 1,
         "Self_employed": 0,
         "Unknown_employ": 0,
         "DisbursalMonth_8": 0,
         "DisbursalMonth_9": 0,
         "DisbursalMonth_10": 0,
         "Downpayment": 9.693075115575647,
         "_deepnote_index_column": 233141
        },
        {
         "ltv": 4.451785879088734,
         "Age": 27,
         "MobileNo_Avl_Flag": 1,
         "Aadhar_flag": 1,
         "PAN_flag": 0,
         "VoterID_flag": 0,
         "Driving_flag": 0,
         "Passport_flag": 0,
         "PERFORM_CNS.SCORE.DESCRIPTION": 5,
         "PRI.NO.OF.ACCTS": 1.3862943611198906,
         "PRI.ACTIVE.ACCTS": 0.6931471805599453,
         "PRI.OVERDUE.ACCTS": 0,
         "PRI.CURRENT.BALANCE": 15.715469957893193,
         "PRI.SANCTIONED.AMOUNT": 9.3048320350689,
         "PRI.DISBURSED.AMOUNT": 9.3048320350689,
         "SEC.NO.OF.ACCTS": 0,
         "SEC.ACTIVE.ACCTS": 0,
         "SEC.OVERDUE.ACCTS": 0,
         "SEC.CURRENT.BALANCE": 13.261512958411487,
         "SEC.SANCTIONED.AMOUNT": 0,
         "SEC.DISBURSED.AMOUNT": 0,
         "PRIMARY.INSTAL.AMT": 8.448057452581375,
         "SEC.INSTAL.AMT": 0,
         "NEW.ACCTS.IN.LAST.SIX.MONTHS": 0.6931471805599453,
         "DELINQUENT.ACCTS.IN.LAST.SIX.MONTHS": 0,
         "AVERAGE.ACCT.AGE": 1.791759469228055,
         "CREDIT.HISTORY.LENGTH": 2.1972245773362196,
         "NO.OF_INQUIRIES": 0,
         "loan_default": 0,
         "Salaried": 0,
         "Self_employed": 1,
         "Unknown_employ": 0,
         "DisbursalMonth_8": 0,
         "DisbursalMonth_9": 0,
         "DisbursalMonth_10": 0,
         "Downpayment": 9.391744841707654,
         "_deepnote_index_column": 233142
        },
        {
         "ltv": 4.250065437218876,
         "Age": 54,
         "MobileNo_Avl_Flag": 1,
         "Aadhar_flag": 1,
         "PAN_flag": 0,
         "VoterID_flag": 0,
         "Driving_flag": 0,
         "Passport_flag": 0,
         "PERFORM_CNS.SCORE.DESCRIPTION": 5,
         "PRI.NO.OF.ACCTS": 1.9459101490553132,
         "PRI.ACTIVE.ACCTS": 1.6094379124341003,
         "PRI.OVERDUE.ACCTS": 0,
         "PRI.CURRENT.BALANCE": 15.89139252185741,
         "PRI.SANCTIONED.AMOUNT": 14.355455275663793,
         "PRI.DISBURSED.AMOUNT": 14.337817221638458,
         "SEC.NO.OF.ACCTS": 0,
         "SEC.ACTIVE.ACCTS": 0,
         "SEC.OVERDUE.ACCTS": 0,
         "SEC.CURRENT.BALANCE": 13.261512958411487,
         "SEC.SANCTIONED.AMOUNT": 0,
         "SEC.DISBURSED.AMOUNT": 0,
         "PRIMARY.INSTAL.AMT": 9.441690159837492,
         "SEC.INSTAL.AMT": 0,
         "NEW.ACCTS.IN.LAST.SIX.MONTHS": 0.6931471805599453,
         "DELINQUENT.ACCTS.IN.LAST.SIX.MONTHS": 0,
         "AVERAGE.ACCT.AGE": 2.995732273553991,
         "CREDIT.HISTORY.LENGTH": 3.6109179126442243,
         "NO.OF_INQUIRIES": 0,
         "loan_default": 0,
         "Salaried": 0,
         "Self_employed": 1,
         "Unknown_employ": 0,
         "DisbursalMonth_8": 0,
         "DisbursalMonth_9": 0,
         "DisbursalMonth_10": 0,
         "Downpayment": 10.257519005529442,
         "_deepnote_index_column": 233143
        },
        {
         "ltv": 4.4312928759767996,
         "Age": 57,
         "MobileNo_Avl_Flag": 1,
         "Aadhar_flag": 1,
         "PAN_flag": 0,
         "VoterID_flag": 0,
         "Driving_flag": 0,
         "Passport_flag": 0,
         "PERFORM_CNS.SCORE.DESCRIPTION": 0,
         "PRI.NO.OF.ACCTS": 0,
         "PRI.ACTIVE.ACCTS": 0,
         "PRI.OVERDUE.ACCTS": 0,
         "PRI.CURRENT.BALANCE": 15.714373572890311,
         "PRI.SANCTIONED.AMOUNT": 0,
         "PRI.DISBURSED.AMOUNT": 0,
         "SEC.NO.OF.ACCTS": 0,
         "SEC.ACTIVE.ACCTS": 0,
         "SEC.OVERDUE.ACCTS": 0,
         "SEC.CURRENT.BALANCE": 13.261512958411487,
         "SEC.SANCTIONED.AMOUNT": 0,
         "SEC.DISBURSED.AMOUNT": 0,
         "PRIMARY.INSTAL.AMT": 0,
         "SEC.INSTAL.AMT": 0,
         "NEW.ACCTS.IN.LAST.SIX.MONTHS": 0,
         "DELINQUENT.ACCTS.IN.LAST.SIX.MONTHS": 0,
         "AVERAGE.ACCT.AGE": 0,
         "CREDIT.HISTORY.LENGTH": 0,
         "NO.OF_INQUIRIES": 0,
         "loan_default": 0,
         "Salaried": 1,
         "Self_employed": 0,
         "Unknown_employ": 0,
         "DisbursalMonth_8": 0,
         "DisbursalMonth_9": 0,
         "DisbursalMonth_10": 0,
         "Downpayment": 9.468310380442437,
         "_deepnote_index_column": 233144
        },
        {
         "ltv": 4.34575157880917,
         "Age": 35,
         "MobileNo_Avl_Flag": 1,
         "Aadhar_flag": 1,
         "PAN_flag": 0,
         "VoterID_flag": 0,
         "Driving_flag": 0,
         "Passport_flag": 0,
         "PERFORM_CNS.SCORE.DESCRIPTION": 4,
         "PRI.NO.OF.ACCTS": 2.0794415416798357,
         "PRI.ACTIVE.ACCTS": 1.6094379124341003,
         "PRI.OVERDUE.ACCTS": 0,
         "PRI.CURRENT.BALANCE": 15.716327849380828,
         "PRI.SANCTIONED.AMOUNT": 11.357790968020238,
         "PRI.DISBURSED.AMOUNT": 11.292615395552012,
         "SEC.NO.OF.ACCTS": 0,
         "SEC.ACTIVE.ACCTS": 0,
         "SEC.OVERDUE.ACCTS": 0,
         "SEC.CURRENT.BALANCE": 13.261512958411487,
         "SEC.SANCTIONED.AMOUNT": 0,
         "SEC.DISBURSED.AMOUNT": 0,
         "PRIMARY.INSTAL.AMT": 7.422373700986824,
         "SEC.INSTAL.AMT": 0,
         "NEW.ACCTS.IN.LAST.SIX.MONTHS": 1.0986122886681096,
         "DELINQUENT.ACCTS.IN.LAST.SIX.MONTHS": 0,
         "AVERAGE.ACCT.AGE": 2.302585092994046,
         "CREDIT.HISTORY.LENGTH": 3.4339872044851463,
         "NO.OF_INQUIRIES": 0.6931471805599453,
         "loan_default": 0,
         "Salaried": 0,
         "Self_employed": 1,
         "Unknown_employ": 0,
         "DisbursalMonth_8": 0,
         "DisbursalMonth_9": 0,
         "DisbursalMonth_10": 0,
         "Downpayment": 9.750977193313803,
         "_deepnote_index_column": 233145
        },
        {
         "ltv": 4.325191697921343,
         "Age": 38,
         "MobileNo_Avl_Flag": 1,
         "Aadhar_flag": 1,
         "PAN_flag": 0,
         "VoterID_flag": 0,
         "Driving_flag": 0,
         "Passport_flag": 0,
         "PERFORM_CNS.SCORE.DESCRIPTION": 5,
         "PRI.NO.OF.ACCTS": 1.0986122886681096,
         "PRI.ACTIVE.ACCTS": 1.0986122886681096,
         "PRI.OVERDUE.ACCTS": 0,
         "PRI.CURRENT.BALANCE": 15.715421344936754,
         "PRI.SANCTIONED.AMOUNT": 9.605081516721372,
         "PRI.DISBURSED.AMOUNT": 9.605081516721372,
         "SEC.NO.OF.ACCTS": 0,
         "SEC.ACTIVE.ACCTS": 0,
         "SEC.OVERDUE.ACCTS": 0,
         "SEC.CURRENT.BALANCE": 13.261512958411487,
         "SEC.SANCTIONED.AMOUNT": 0,
         "SEC.DISBURSED.AMOUNT": 0,
         "PRIMARY.INSTAL.AMT": 0,
         "SEC.INSTAL.AMT": 0,
         "NEW.ACCTS.IN.LAST.SIX.MONTHS": 1.0986122886681096,
         "DELINQUENT.ACCTS.IN.LAST.SIX.MONTHS": 0,
         "AVERAGE.ACCT.AGE": 1.3862943611198906,
         "CREDIT.HISTORY.LENGTH": 1.3862943611198906,
         "NO.OF_INQUIRIES": 0,
         "loan_default": 0,
         "Salaried": 0,
         "Self_employed": 1,
         "Unknown_employ": 0,
         "DisbursalMonth_8": 0,
         "DisbursalMonth_9": 0,
         "DisbursalMonth_10": 0,
         "Downpayment": 9.583764265872883,
         "_deepnote_index_column": 233146
        },
        {
         "ltv": 4.258869811047899,
         "Age": 31,
         "MobileNo_Avl_Flag": 1,
         "Aadhar_flag": 1,
         "PAN_flag": 0,
         "VoterID_flag": 0,
         "Driving_flag": 0,
         "Passport_flag": 0,
         "PERFORM_CNS.SCORE.DESCRIPTION": 5,
         "PRI.NO.OF.ACCTS": 1.6094379124341003,
         "PRI.ACTIVE.ACCTS": 1.6094379124341003,
         "PRI.OVERDUE.ACCTS": 0,
         "PRI.CURRENT.BALANCE": 15.744088366052171,
         "PRI.SANCTIONED.AMOUNT": 12.530418077353351,
         "PRI.DISBURSED.AMOUNT": 12.37993351140626,
         "SEC.NO.OF.ACCTS": 0,
         "SEC.ACTIVE.ACCTS": 0,
         "SEC.OVERDUE.ACCTS": 0,
         "SEC.CURRENT.BALANCE": 13.261512958411487,
         "SEC.SANCTIONED.AMOUNT": 0,
         "SEC.DISBURSED.AMOUNT": 0,
         "PRIMARY.INSTAL.AMT": 0,
         "SEC.INSTAL.AMT": 0,
         "NEW.ACCTS.IN.LAST.SIX.MONTHS": 0.6931471805599453,
         "DELINQUENT.ACCTS.IN.LAST.SIX.MONTHS": 0,
         "AVERAGE.ACCT.AGE": 2.302585092994046,
         "CREDIT.HISTORY.LENGTH": 2.5649493574615367,
         "NO.OF_INQUIRIES": 0,
         "loan_default": 0,
         "Salaried": 1,
         "Self_employed": 0,
         "Unknown_employ": 0,
         "DisbursalMonth_8": 0,
         "DisbursalMonth_9": 0,
         "DisbursalMonth_10": 0,
         "Downpayment": 10.397665367329228,
         "_deepnote_index_column": 233147
        },
        {
         "ltv": 4.3031186995690085,
         "Age": 27,
         "MobileNo_Avl_Flag": 1,
         "Aadhar_flag": 1,
         "PAN_flag": 0,
         "VoterID_flag": 0,
         "Driving_flag": 0,
         "Passport_flag": 0,
         "PERFORM_CNS.SCORE.DESCRIPTION": 0,
         "PRI.NO.OF.ACCTS": 0,
         "PRI.ACTIVE.ACCTS": 0,
         "PRI.OVERDUE.ACCTS": 0,
         "PRI.CURRENT.BALANCE": 15.714373572890311,
         "PRI.SANCTIONED.AMOUNT": 0,
         "PRI.DISBURSED.AMOUNT": 0,
         "SEC.NO.OF.ACCTS": 0,
         "SEC.ACTIVE.ACCTS": 0,
         "SEC.OVERDUE.ACCTS": 0,
         "SEC.CURRENT.BALANCE": 13.261512958411487,
         "SEC.SANCTIONED.AMOUNT": 0,
         "SEC.DISBURSED.AMOUNT": 0,
         "PRIMARY.INSTAL.AMT": 0,
         "SEC.INSTAL.AMT": 0,
         "NEW.ACCTS.IN.LAST.SIX.MONTHS": 0,
         "DELINQUENT.ACCTS.IN.LAST.SIX.MONTHS": 0,
         "AVERAGE.ACCT.AGE": 0,
         "CREDIT.HISTORY.LENGTH": 0,
         "NO.OF_INQUIRIES": 0,
         "loan_default": 0,
         "Salaried": 1,
         "Self_employed": 0,
         "Unknown_employ": 0,
         "DisbursalMonth_8": 0,
         "DisbursalMonth_9": 0,
         "DisbursalMonth_10": 0,
         "Downpayment": 9.766579035268668,
         "_deepnote_index_column": 233148
        },
        {
         "ltv": 4.12260802749496,
         "Age": 32,
         "MobileNo_Avl_Flag": 1,
         "Aadhar_flag": 0,
         "PAN_flag": 0,
         "VoterID_flag": 1,
         "Driving_flag": 0,
         "Passport_flag": 0,
         "PERFORM_CNS.SCORE.DESCRIPTION": 5,
         "PRI.NO.OF.ACCTS": 1.6094379124341003,
         "PRI.ACTIVE.ACCTS": 1.3862943611198906,
         "PRI.OVERDUE.ACCTS": 0,
         "PRI.CURRENT.BALANCE": 15.77119280416829,
         "PRI.SANCTIONED.AMOUNT": 12.938762602759994,
         "PRI.DISBURSED.AMOUNT": 12.938762602759994,
         "SEC.NO.OF.ACCTS": 0,
         "SEC.ACTIVE.ACCTS": 0,
         "SEC.OVERDUE.ACCTS": 0,
         "SEC.CURRENT.BALANCE": 13.261512958411487,
         "SEC.SANCTIONED.AMOUNT": 0,
         "SEC.DISBURSED.AMOUNT": 0,
         "PRIMARY.INSTAL.AMT": 8.315077007294104,
         "SEC.INSTAL.AMT": 0,
         "NEW.ACCTS.IN.LAST.SIX.MONTHS": 0,
         "DELINQUENT.ACCTS.IN.LAST.SIX.MONTHS": 0,
         "AVERAGE.ACCT.AGE": 3.091042453358316,
         "CREDIT.HISTORY.LENGTH": 3.6888794541139363,
         "NO.OF_INQUIRIES": 0,
         "loan_default": 0,
         "Salaried": 1,
         "Self_employed": 0,
         "Unknown_employ": 0,
         "DisbursalMonth_8": 0,
         "DisbursalMonth_9": 0,
         "DisbursalMonth_10": 0,
         "Downpayment": 10.650009609487778,
         "_deepnote_index_column": 233149
        },
        {
         "ltv": 4.330075229041782,
         "Age": 32,
         "MobileNo_Avl_Flag": 1,
         "Aadhar_flag": 0,
         "PAN_flag": 0,
         "VoterID_flag": 1,
         "Driving_flag": 0,
         "Passport_flag": 0,
         "PERFORM_CNS.SCORE.DESCRIPTION": 5,
         "PRI.NO.OF.ACCTS": 0.6931471805599453,
         "PRI.ACTIVE.ACCTS": 0,
         "PRI.OVERDUE.ACCTS": 0,
         "PRI.CURRENT.BALANCE": 15.714373572890311,
         "PRI.SANCTIONED.AMOUNT": 0,
         "PRI.DISBURSED.AMOUNT": 0,
         "SEC.NO.OF.ACCTS": 0,
         "SEC.ACTIVE.ACCTS": 0,
         "SEC.OVERDUE.ACCTS": 0,
         "SEC.CURRENT.BALANCE": 13.261512958411487,
         "SEC.SANCTIONED.AMOUNT": 0,
         "SEC.DISBURSED.AMOUNT": 0,
         "PRIMARY.INSTAL.AMT": 7.356279876550748,
         "SEC.INSTAL.AMT": 0,
         "NEW.ACCTS.IN.LAST.SIX.MONTHS": 0,
         "DELINQUENT.ACCTS.IN.LAST.SIX.MONTHS": 0,
         "AVERAGE.ACCT.AGE": 1.9459101490553132,
         "CREDIT.HISTORY.LENGTH": 1.9459101490553132,
         "NO.OF_INQUIRIES": 0,
         "loan_default": 0,
         "Salaried": 0,
         "Self_employed": 1,
         "Unknown_employ": 0,
         "DisbursalMonth_8": 0,
         "DisbursalMonth_9": 0,
         "DisbursalMonth_10": 0,
         "Downpayment": 10.201738576337144,
         "_deepnote_index_column": 233150
        },
        {
         "ltv": 3.900962058068721,
         "Age": 44,
         "MobileNo_Avl_Flag": 1,
         "Aadhar_flag": 1,
         "PAN_flag": 0,
         "VoterID_flag": 0,
         "Driving_flag": 0,
         "Passport_flag": 0,
         "PERFORM_CNS.SCORE.DESCRIPTION": 0,
         "PRI.NO.OF.ACCTS": 0,
         "PRI.ACTIVE.ACCTS": 0,
         "PRI.OVERDUE.ACCTS": 0,
         "PRI.CURRENT.BALANCE": 15.714373572890311,
         "PRI.SANCTIONED.AMOUNT": 0,
         "PRI.DISBURSED.AMOUNT": 0,
         "SEC.NO.OF.ACCTS": 0,
         "SEC.ACTIVE.ACCTS": 0,
         "SEC.OVERDUE.ACCTS": 0,
         "SEC.CURRENT.BALANCE": 13.261512958411487,
         "SEC.SANCTIONED.AMOUNT": 0,
         "SEC.DISBURSED.AMOUNT": 0,
         "PRIMARY.INSTAL.AMT": 0,
         "SEC.INSTAL.AMT": 0,
         "NEW.ACCTS.IN.LAST.SIX.MONTHS": 0,
         "DELINQUENT.ACCTS.IN.LAST.SIX.MONTHS": 0,
         "AVERAGE.ACCT.AGE": 0,
         "CREDIT.HISTORY.LENGTH": 0,
         "NO.OF_INQUIRIES": 0,
         "loan_default": 0,
         "Salaried": 1,
         "Self_employed": 0,
         "Unknown_employ": 0,
         "DisbursalMonth_8": 0,
         "DisbursalMonth_9": 0,
         "DisbursalMonth_10": 0,
         "Downpayment": 10.538184308498979,
         "_deepnote_index_column": 233151
        },
        {
         "ltv": 3.914021008090819,
         "Age": 27,
         "MobileNo_Avl_Flag": 1,
         "Aadhar_flag": 1,
         "PAN_flag": 0,
         "VoterID_flag": 0,
         "Driving_flag": 0,
         "Passport_flag": 0,
         "PERFORM_CNS.SCORE.DESCRIPTION": 0,
         "PRI.NO.OF.ACCTS": 0,
         "PRI.ACTIVE.ACCTS": 0,
         "PRI.OVERDUE.ACCTS": 0,
         "PRI.CURRENT.BALANCE": 15.714373572890311,
         "PRI.SANCTIONED.AMOUNT": 0,
         "PRI.DISBURSED.AMOUNT": 0,
         "SEC.NO.OF.ACCTS": 0,
         "SEC.ACTIVE.ACCTS": 0,
         "SEC.OVERDUE.ACCTS": 0,
         "SEC.CURRENT.BALANCE": 13.261512958411487,
         "SEC.SANCTIONED.AMOUNT": 0,
         "SEC.DISBURSED.AMOUNT": 0,
         "PRIMARY.INSTAL.AMT": 0,
         "SEC.INSTAL.AMT": 0,
         "NEW.ACCTS.IN.LAST.SIX.MONTHS": 0,
         "DELINQUENT.ACCTS.IN.LAST.SIX.MONTHS": 0,
         "AVERAGE.ACCT.AGE": 0,
         "CREDIT.HISTORY.LENGTH": 0,
         "NO.OF_INQUIRIES": 0,
         "loan_default": 0,
         "Salaried": 1,
         "Self_employed": 0,
         "Unknown_employ": 0,
         "DisbursalMonth_8": 0,
         "DisbursalMonth_9": 0,
         "DisbursalMonth_10": 0,
         "Downpayment": 10.57203461622784,
         "_deepnote_index_column": 233152
        },
        {
         "ltv": 4.216709676695751,
         "Age": 37,
         "MobileNo_Avl_Flag": 1,
         "Aadhar_flag": 1,
         "PAN_flag": 0,
         "VoterID_flag": 0,
         "Driving_flag": 0,
         "Passport_flag": 0,
         "PERFORM_CNS.SCORE.DESCRIPTION": 0,
         "PRI.NO.OF.ACCTS": 0,
         "PRI.ACTIVE.ACCTS": 0,
         "PRI.OVERDUE.ACCTS": 0,
         "PRI.CURRENT.BALANCE": 15.714373572890311,
         "PRI.SANCTIONED.AMOUNT": 0,
         "PRI.DISBURSED.AMOUNT": 0,
         "SEC.NO.OF.ACCTS": 0,
         "SEC.ACTIVE.ACCTS": 0,
         "SEC.OVERDUE.ACCTS": 0,
         "SEC.CURRENT.BALANCE": 13.261512958411487,
         "SEC.SANCTIONED.AMOUNT": 0,
         "SEC.DISBURSED.AMOUNT": 0,
         "PRIMARY.INSTAL.AMT": 0,
         "SEC.INSTAL.AMT": 0,
         "NEW.ACCTS.IN.LAST.SIX.MONTHS": 0,
         "DELINQUENT.ACCTS.IN.LAST.SIX.MONTHS": 0,
         "AVERAGE.ACCT.AGE": 0,
         "CREDIT.HISTORY.LENGTH": 0,
         "NO.OF_INQUIRIES": 0,
         "loan_default": 0,
         "Salaried": 1,
         "Self_employed": 0,
         "Unknown_employ": 0,
         "DisbursalMonth_8": 0,
         "DisbursalMonth_9": 0,
         "DisbursalMonth_10": 0,
         "Downpayment": 10.603088860335872,
         "_deepnote_index_column": 233153
        }
       ]
      },
      "text/plain": "             ltv  Age  MobileNo_Avl_Flag  Aadhar_flag  PAN_flag  VoterID_flag  \\\n0       4.505902   37                  1            1         0             0   \n1       4.307168   35                  1            1         0             0   \n2       4.506785   35                  1            1         0             0   \n3       4.494015   27                  1            1         0             0   \n4       4.493009   43                  1            1         0             0   \n...          ...  ...                ...          ...       ...           ...   \n233149  4.122608   32                  1            0         0             1   \n233150  4.330075   32                  1            0         0             1   \n233151  3.900962   44                  1            1         0             0   \n233152  3.914021   27                  1            1         0             0   \n233153  4.216710   37                  1            1         0             0   \n\n        Driving_flag  Passport_flag  PERFORM_CNS.SCORE.DESCRIPTION  \\\n0                  0              0                              0   \n1                  0              0                              3   \n2                  0              0                              0   \n3                  0              0                              1   \n4                  0              0                              0   \n...              ...            ...                            ...   \n233149             0              0                              5   \n233150             0              0                              5   \n233151             0              0                              0   \n233152             0              0                              0   \n233153             0              0                              0   \n\n        PRI.NO.OF.ACCTS  ...  CREDIT.HISTORY.LENGTH  NO.OF_INQUIRIES  \\\n0              0.000000  ...               0.000000         0.000000   \n1              0.693147  ...               3.178054         0.000000   \n2              0.000000  ...               0.000000         0.000000   \n3              1.386294  ...               2.772589         0.693147   \n4              0.000000  ...               0.000000         0.693147   \n...                 ...  ...                    ...              ...   \n233149         1.609438  ...               3.688879         0.000000   \n233150         0.693147  ...               1.945910         0.000000   \n233151         0.000000  ...               0.000000         0.000000   \n233152         0.000000  ...               0.000000         0.000000   \n233153         0.000000  ...               0.000000         0.000000   \n\n        loan_default  Salaried  Self_employed  Unknown_employ  \\\n0                  0       1.0            0.0             0.0   \n1                  1       0.0            1.0             0.0   \n2                  0       0.0            1.0             0.0   \n3                  1       0.0            1.0             0.0   \n4                  1       0.0            1.0             0.0   \n...              ...       ...            ...             ...   \n233149             0       1.0            0.0             0.0   \n233150             0       0.0            1.0             0.0   \n233151             0       1.0            0.0             0.0   \n233152             0       1.0            0.0             0.0   \n233153             0       1.0            0.0             0.0   \n\n        DisbursalMonth_8  DisbursalMonth_9  DisbursalMonth_10  Downpayment  \n0                      1                 1                  1     8.964823  \n1                      0                 0                  0     9.820432  \n2                      1                 1                  1     8.997518  \n3                      0                 0                  0     9.059634  \n4                      0                 0                  0     8.977525  \n...                  ...               ...                ...          ...  \n233149                 0                 0                  0    10.650010  \n233150                 0                 0                  0    10.201739  \n233151                 0                 0                  0    10.538184  \n233152                 0                 0                  0    10.572035  \n233153                 0                 0                  0    10.603089  \n\n[233146 rows x 36 columns]",
      "text/html": "<div>\n<style scoped>\n    .dataframe tbody tr th:only-of-type {\n        vertical-align: middle;\n    }\n\n    .dataframe tbody tr th {\n        vertical-align: top;\n    }\n\n    .dataframe thead th {\n        text-align: right;\n    }\n</style>\n<table border=\"1\" class=\"dataframe\">\n  <thead>\n    <tr style=\"text-align: right;\">\n      <th></th>\n      <th>ltv</th>\n      <th>Age</th>\n      <th>MobileNo_Avl_Flag</th>\n      <th>Aadhar_flag</th>\n      <th>PAN_flag</th>\n      <th>VoterID_flag</th>\n      <th>Driving_flag</th>\n      <th>Passport_flag</th>\n      <th>PERFORM_CNS.SCORE.DESCRIPTION</th>\n      <th>PRI.NO.OF.ACCTS</th>\n      <th>...</th>\n      <th>CREDIT.HISTORY.LENGTH</th>\n      <th>NO.OF_INQUIRIES</th>\n      <th>loan_default</th>\n      <th>Salaried</th>\n      <th>Self_employed</th>\n      <th>Unknown_employ</th>\n      <th>DisbursalMonth_8</th>\n      <th>DisbursalMonth_9</th>\n      <th>DisbursalMonth_10</th>\n      <th>Downpayment</th>\n    </tr>\n  </thead>\n  <tbody>\n    <tr>\n      <th>0</th>\n      <td>4.505902</td>\n      <td>37</td>\n      <td>1</td>\n      <td>1</td>\n      <td>0</td>\n      <td>0</td>\n      <td>0</td>\n      <td>0</td>\n      <td>0</td>\n      <td>0.000000</td>\n      <td>...</td>\n      <td>0.000000</td>\n      <td>0.000000</td>\n      <td>0</td>\n      <td>1.0</td>\n      <td>0.0</td>\n      <td>0.0</td>\n      <td>1</td>\n      <td>1</td>\n      <td>1</td>\n      <td>8.964823</td>\n    </tr>\n    <tr>\n      <th>1</th>\n      <td>4.307168</td>\n      <td>35</td>\n      <td>1</td>\n      <td>1</td>\n      <td>0</td>\n      <td>0</td>\n      <td>0</td>\n      <td>0</td>\n      <td>3</td>\n      <td>0.693147</td>\n      <td>...</td>\n      <td>3.178054</td>\n      <td>0.000000</td>\n      <td>1</td>\n      <td>0.0</td>\n      <td>1.0</td>\n      <td>0.0</td>\n      <td>0</td>\n      <td>0</td>\n      <td>0</td>\n      <td>9.820432</td>\n    </tr>\n    <tr>\n      <th>2</th>\n      <td>4.506785</td>\n      <td>35</td>\n      <td>1</td>\n      <td>1</td>\n      <td>0</td>\n      <td>0</td>\n      <td>0</td>\n      <td>0</td>\n      <td>0</td>\n      <td>0.000000</td>\n      <td>...</td>\n      <td>0.000000</td>\n      <td>0.000000</td>\n      <td>0</td>\n      <td>0.0</td>\n      <td>1.0</td>\n      <td>0.0</td>\n      <td>1</td>\n      <td>1</td>\n      <td>1</td>\n      <td>8.997518</td>\n    </tr>\n    <tr>\n      <th>3</th>\n      <td>4.494015</td>\n      <td>27</td>\n      <td>1</td>\n      <td>1</td>\n      <td>0</td>\n      <td>0</td>\n      <td>0</td>\n      <td>0</td>\n      <td>1</td>\n      <td>1.386294</td>\n      <td>...</td>\n      <td>2.772589</td>\n      <td>0.693147</td>\n      <td>1</td>\n      <td>0.0</td>\n      <td>1.0</td>\n      <td>0.0</td>\n      <td>0</td>\n      <td>0</td>\n      <td>0</td>\n      <td>9.059634</td>\n    </tr>\n    <tr>\n      <th>4</th>\n      <td>4.493009</td>\n      <td>43</td>\n      <td>1</td>\n      <td>1</td>\n      <td>0</td>\n      <td>0</td>\n      <td>0</td>\n      <td>0</td>\n      <td>0</td>\n      <td>0.000000</td>\n      <td>...</td>\n      <td>0.000000</td>\n      <td>0.693147</td>\n      <td>1</td>\n      <td>0.0</td>\n      <td>1.0</td>\n      <td>0.0</td>\n      <td>0</td>\n      <td>0</td>\n      <td>0</td>\n      <td>8.977525</td>\n    </tr>\n    <tr>\n      <th>...</th>\n      <td>...</td>\n      <td>...</td>\n      <td>...</td>\n      <td>...</td>\n      <td>...</td>\n      <td>...</td>\n      <td>...</td>\n      <td>...</td>\n      <td>...</td>\n      <td>...</td>\n      <td>...</td>\n      <td>...</td>\n      <td>...</td>\n      <td>...</td>\n      <td>...</td>\n      <td>...</td>\n      <td>...</td>\n      <td>...</td>\n      <td>...</td>\n      <td>...</td>\n      <td>...</td>\n    </tr>\n    <tr>\n      <th>233149</th>\n      <td>4.122608</td>\n      <td>32</td>\n      <td>1</td>\n      <td>0</td>\n      <td>0</td>\n      <td>1</td>\n      <td>0</td>\n      <td>0</td>\n      <td>5</td>\n      <td>1.609438</td>\n      <td>...</td>\n      <td>3.688879</td>\n      <td>0.000000</td>\n      <td>0</td>\n      <td>1.0</td>\n      <td>0.0</td>\n      <td>0.0</td>\n      <td>0</td>\n      <td>0</td>\n      <td>0</td>\n      <td>10.650010</td>\n    </tr>\n    <tr>\n      <th>233150</th>\n      <td>4.330075</td>\n      <td>32</td>\n      <td>1</td>\n      <td>0</td>\n      <td>0</td>\n      <td>1</td>\n      <td>0</td>\n      <td>0</td>\n      <td>5</td>\n      <td>0.693147</td>\n      <td>...</td>\n      <td>1.945910</td>\n      <td>0.000000</td>\n      <td>0</td>\n      <td>0.0</td>\n      <td>1.0</td>\n      <td>0.0</td>\n      <td>0</td>\n      <td>0</td>\n      <td>0</td>\n      <td>10.201739</td>\n    </tr>\n    <tr>\n      <th>233151</th>\n      <td>3.900962</td>\n      <td>44</td>\n      <td>1</td>\n      <td>1</td>\n      <td>0</td>\n      <td>0</td>\n      <td>0</td>\n      <td>0</td>\n      <td>0</td>\n      <td>0.000000</td>\n      <td>...</td>\n      <td>0.000000</td>\n      <td>0.000000</td>\n      <td>0</td>\n      <td>1.0</td>\n      <td>0.0</td>\n      <td>0.0</td>\n      <td>0</td>\n      <td>0</td>\n      <td>0</td>\n      <td>10.538184</td>\n    </tr>\n    <tr>\n      <th>233152</th>\n      <td>3.914021</td>\n      <td>27</td>\n      <td>1</td>\n      <td>1</td>\n      <td>0</td>\n      <td>0</td>\n      <td>0</td>\n      <td>0</td>\n      <td>0</td>\n      <td>0.000000</td>\n      <td>...</td>\n      <td>0.000000</td>\n      <td>0.000000</td>\n      <td>0</td>\n      <td>1.0</td>\n      <td>0.0</td>\n      <td>0.0</td>\n      <td>0</td>\n      <td>0</td>\n      <td>0</td>\n      <td>10.572035</td>\n    </tr>\n    <tr>\n      <th>233153</th>\n      <td>4.216710</td>\n      <td>37</td>\n      <td>1</td>\n      <td>1</td>\n      <td>0</td>\n      <td>0</td>\n      <td>0</td>\n      <td>0</td>\n      <td>0</td>\n      <td>0.000000</td>\n      <td>...</td>\n      <td>0.000000</td>\n      <td>0.000000</td>\n      <td>0</td>\n      <td>1.0</td>\n      <td>0.0</td>\n      <td>0.0</td>\n      <td>0</td>\n      <td>0</td>\n      <td>0</td>\n      <td>10.603089</td>\n    </tr>\n  </tbody>\n</table>\n<p>233146 rows × 36 columns</p>\n</div>"
     },
     "metadata": {}
    }
   ]
  },
  {
   "cell_type": "code",
   "metadata": {
    "tags": [],
    "cell_id": "00006-ee315617-ee94-44e4-ad84-1a565c619212",
    "deepnote_to_be_reexecuted": true,
    "source_hash": "2e6bebb",
    "execution_start": 1622292037168,
    "execution_millis": 72,
    "deepnote_cell_type": "code"
   },
   "source": "# X = train.drop('loan_default',1) \n# y = train.loan_default\n# X_train, X_vali, y_train, y_vali = train_test_split(X, y, test_size=0.3,train_size=0.7,random_state=0)\n# def fit_LR(data):\n#     lr=LogisticRegression(class_weight='balanced')\n#     #return np.mean(cross_val_score(lr, data, y_train, cv=3,scoring=\"f1_weighted\"))\n#     return np.mean(cross_val_score(lr, data, y_train, cv=3))",
   "execution_count": null,
   "outputs": []
  },
  {
   "cell_type": "code",
   "metadata": {
    "tags": [],
    "cell_id": "00006-3a95e7a9-902d-4df1-80d3-14f6e93fef65",
    "deepnote_to_be_reexecuted": true,
    "source_hash": "cb23f2de",
    "execution_start": 1622292037244,
    "execution_millis": 343844,
    "deepnote_cell_type": "code"
   },
   "source": "\n#  mi_cols=['AVERAGE.ACCT.AGE', 'NEW.ACCTS.IN.LAST.SIX.MONTHS', 'PRI.ACTIVE.ACCTS',\n#        'CREDIT.HISTORY.LENGTH', 'Salaried', 'Aadhar_flag',\n#        'DELINQUENT.ACCTS.IN.LAST.SIX.MONTHS', 'Self_employed',\n#        'PRI.NO.OF.ACCTS', 'Downpayment', 'PRI.OVERDUE.ACCTS', 'VoterID_flag',\n#        'NO.OF_INQUIRIES', 'PERFORM_CNS.SCORE.DESCRIPTION', 'ltv'] # first round pick according to the full model\n# # mi_cols=['ltv', 'Age', 'MobileNo_Avl_Flag', 'Aadhar_flag', 'PAN_flag',\n# #        'VoterID_flag', 'Driving_flag', 'Passport_flag', 'PERFORM_CNS.SCORE',\n# #        'PERFORM_CNS.SCORE.DESCRIPTION', 'PRI.NO.OF.ACCTS', 'PRI.ACTIVE.ACCTS',\n# #        'PRI.OVERDUE.ACCTS', 'PRI.CURRENT.BALANCE', 'PRI.SANCTIONED.AMOUNT',\n# #        'PRI.DISBURSED.AMOUNT', 'SEC.NO.OF.ACCTS', 'SEC.ACTIVE.ACCTS',\n# #        'SEC.OVERDUE.ACCTS', 'SEC.CURRENT.BALANCE', 'SEC.SANCTIONED.AMOUNT',\n# #        'SEC.DISBURSED.AMOUNT', 'PRIMARY.INSTAL.AMT', 'SEC.INSTAL.AMT',\n# #        'NEW.ACCTS.IN.LAST.SIX.MONTHS', 'DELINQUENT.ACCTS.IN.LAST.SIX.MONTHS',\n# #        'AVERAGE.ACCT.AGE', 'CREDIT.HISTORY.LENGTH', 'NO.OF_INQUIRIES',\n# #        'loan_default', 'Salaried', 'Self_employed', 'Unknown_employ',\n# #        'DisbursalMonth_8', 'DisbursalMonth_9', 'DisbursalMonth_10',\n# #        'Downpayment']\n# mi_cols=np.array(mi_cols)\n# cor_cols=['AVERAGE.ACCT.AGE', 'NEW.ACCTS.IN.LAST.SIX.MONTHS', 'PRI.ACTIVE.ACCTS',\n#        'CREDIT.HISTORY.LENGTH', 'Salaried', 'Aadhar_flag',\n#        'DELINQUENT.ACCTS.IN.LAST.SIX.MONTHS', 'Self_employed',\n#        'PRI.NO.OF.ACCTS', 'Downpayment', 'PRI.OVERDUE.ACCTS', 'VoterID_flag',\n#        'NO.OF_INQUIRIES', 'PERFORM_CNS.SCORE.DESCRIPTION', 'ltv']\n\n# selected=[]\n# global_select=[]\n# global_acc=0.0\n# last_acc=0.0#fit(train[selected].to_numpy())\n# best_acc=0.0\n# best_col=\"\"\n# total=count=len(cor_cols)\n# miss=0\n# while((count>0)):\n#     for i in range(len(cor_cols)):\n#         current=cor_cols[i]\n#         if(current in selected):\n#             continue\n#         cols=np.append(selected,current)\n#         data=X_train[cols].to_numpy() #####\n#         acc=fit_LR(data)\n#         if(acc>best_acc):\n#             best_acc=acc\n#             best_col=current\n#     if(best_acc>last_acc):\n#         last_acc=best_acc\n#         global_acc=best_acc\n#         selected=np.append(selected,best_col)\n#         f=np.where(mi_cols==current)\n#         if(f[0].size>0):\n#             mi_cols=np.delete(mi_cols,f[0][0])\n#         miss=0\n#         global_select=selected\n#         print(\"iter:\"+str(total-count))\n#         print(\"found:\"+str(selected)+\" \"+str(last_acc))\n#     else:\n#         selected=np.append(selected,mi_cols[0])\n#         mi_cols=np.delete(mi_cols,0)\n#         data=X_train[selected].to_numpy()\n#         acc=fit_LR(data)\n#         print(\"iter:\"+str(total-count))\n#         print(\"miss:\"+str(selected)+\" \"+str(acc))\n#         last_acc=acc\n#         best_acc=acc\n#         if(acc>global_acc):\n#             global_acc=acc\n#             global_select=selected\n#         miss+=1\n#         print('miss',miss)\n#     count-=1\n        \n#     if(miss> 10):\n#         break",
   "execution_count": null,
   "outputs": [
    {
     "name": "stdout",
     "text": "iter:0\nfound:['ltv'] 0.5495821739780515\niter:1\nfound:['ltv' 'PERFORM_CNS.SCORE.DESCRIPTION'] 0.564924043390433\niter:2\nfound:['ltv' 'PERFORM_CNS.SCORE.DESCRIPTION'\n 'DELINQUENT.ACCTS.IN.LAST.SIX.MONTHS'] 0.5691017651719354\niter:3\nfound:['ltv' 'PERFORM_CNS.SCORE.DESCRIPTION'\n 'DELINQUENT.ACCTS.IN.LAST.SIX.MONTHS' 'Salaried'] 0.57164227513323\niter:4\nfound:['ltv' 'PERFORM_CNS.SCORE.DESCRIPTION'\n 'DELINQUENT.ACCTS.IN.LAST.SIX.MONTHS' 'Salaried' 'Downpayment'] 0.5744650371534936\niter:5\nfound:['ltv' 'PERFORM_CNS.SCORE.DESCRIPTION'\n 'DELINQUENT.ACCTS.IN.LAST.SIX.MONTHS' 'Salaried' 'Downpayment'\n 'NO.OF_INQUIRIES'] 0.5766244836184032\n/shared-libs/python3.7/py/lib/python3.7/site-packages/sklearn/linear_model/_logistic.py:765: ConvergenceWarning: lbfgs failed to converge (status=1):\nSTOP: TOTAL NO. of ITERATIONS REACHED LIMIT.\n\nIncrease the number of iterations (max_iter) or scale the data as shown in:\n    https://scikit-learn.org/stable/modules/preprocessing.html\nPlease also refer to the documentation for alternative solver options:\n    https://scikit-learn.org/stable/modules/linear_model.html#logistic-regression\n  extra_warning_msg=_LOGISTIC_SOLVER_CONVERGENCE_MSG)\niter:6\nfound:['ltv' 'PERFORM_CNS.SCORE.DESCRIPTION'\n 'DELINQUENT.ACCTS.IN.LAST.SIX.MONTHS' 'Salaried' 'Downpayment'\n 'NO.OF_INQUIRIES' 'VoterID_flag'] 0.5790238684466137\n/shared-libs/python3.7/py/lib/python3.7/site-packages/sklearn/linear_model/_logistic.py:765: ConvergenceWarning: lbfgs failed to converge (status=1):\nSTOP: TOTAL NO. of ITERATIONS REACHED LIMIT.\n\nIncrease the number of iterations (max_iter) or scale the data as shown in:\n    https://scikit-learn.org/stable/modules/preprocessing.html\nPlease also refer to the documentation for alternative solver options:\n    https://scikit-learn.org/stable/modules/linear_model.html#logistic-regression\n  extra_warning_msg=_LOGISTIC_SOLVER_CONVERGENCE_MSG)\n/shared-libs/python3.7/py/lib/python3.7/site-packages/sklearn/linear_model/_logistic.py:765: ConvergenceWarning: lbfgs failed to converge (status=1):\nSTOP: TOTAL NO. of ITERATIONS REACHED LIMIT.\n\nIncrease the number of iterations (max_iter) or scale the data as shown in:\n    https://scikit-learn.org/stable/modules/preprocessing.html\nPlease also refer to the documentation for alternative solver options:\n    https://scikit-learn.org/stable/modules/linear_model.html#logistic-regression\n  extra_warning_msg=_LOGISTIC_SOLVER_CONVERGENCE_MSG)\n/shared-libs/python3.7/py/lib/python3.7/site-packages/sklearn/linear_model/_logistic.py:765: ConvergenceWarning: lbfgs failed to converge (status=1):\nSTOP: TOTAL NO. of ITERATIONS REACHED LIMIT.\n\nIncrease the number of iterations (max_iter) or scale the data as shown in:\n    https://scikit-learn.org/stable/modules/preprocessing.html\nPlease also refer to the documentation for alternative solver options:\n    https://scikit-learn.org/stable/modules/linear_model.html#logistic-regression\n  extra_warning_msg=_LOGISTIC_SOLVER_CONVERGENCE_MSG)\n/shared-libs/python3.7/py/lib/python3.7/site-packages/sklearn/linear_model/_logistic.py:765: ConvergenceWarning: lbfgs failed to converge (status=1):\nSTOP: TOTAL NO. of ITERATIONS REACHED LIMIT.\n\nIncrease the number of iterations (max_iter) or scale the data as shown in:\n    https://scikit-learn.org/stable/modules/preprocessing.html\nPlease also refer to the documentation for alternative solver options:\n    https://scikit-learn.org/stable/modules/linear_model.html#logistic-regression\n  extra_warning_msg=_LOGISTIC_SOLVER_CONVERGENCE_MSG)\niter:7\nfound:['ltv' 'PERFORM_CNS.SCORE.DESCRIPTION'\n 'DELINQUENT.ACCTS.IN.LAST.SIX.MONTHS' 'Salaried' 'Downpayment'\n 'NO.OF_INQUIRIES' 'VoterID_flag' 'PRI.OVERDUE.ACCTS'] 0.5806187331055298\n/shared-libs/python3.7/py/lib/python3.7/site-packages/sklearn/linear_model/_logistic.py:765: ConvergenceWarning: lbfgs failed to converge (status=1):\nSTOP: TOTAL NO. of ITERATIONS REACHED LIMIT.\n\nIncrease the number of iterations (max_iter) or scale the data as shown in:\n    https://scikit-learn.org/stable/modules/preprocessing.html\nPlease also refer to the documentation for alternative solver options:\n    https://scikit-learn.org/stable/modules/linear_model.html#logistic-regression\n  extra_warning_msg=_LOGISTIC_SOLVER_CONVERGENCE_MSG)\n/shared-libs/python3.7/py/lib/python3.7/site-packages/sklearn/linear_model/_logistic.py:765: ConvergenceWarning: lbfgs failed to converge (status=1):\nSTOP: TOTAL NO. of ITERATIONS REACHED LIMIT.\n\nIncrease the number of iterations (max_iter) or scale the data as shown in:\n    https://scikit-learn.org/stable/modules/preprocessing.html\nPlease also refer to the documentation for alternative solver options:\n    https://scikit-learn.org/stable/modules/linear_model.html#logistic-regression\n  extra_warning_msg=_LOGISTIC_SOLVER_CONVERGENCE_MSG)\n/shared-libs/python3.7/py/lib/python3.7/site-packages/sklearn/linear_model/_logistic.py:765: ConvergenceWarning: lbfgs failed to converge (status=1):\nSTOP: TOTAL NO. of ITERATIONS REACHED LIMIT.\n\nIncrease the number of iterations (max_iter) or scale the data as shown in:\n    https://scikit-learn.org/stable/modules/preprocessing.html\nPlease also refer to the documentation for alternative solver options:\n    https://scikit-learn.org/stable/modules/linear_model.html#logistic-regression\n  extra_warning_msg=_LOGISTIC_SOLVER_CONVERGENCE_MSG)\n/shared-libs/python3.7/py/lib/python3.7/site-packages/sklearn/linear_model/_logistic.py:765: ConvergenceWarning: lbfgs failed to converge (status=1):\nSTOP: TOTAL NO. of ITERATIONS REACHED LIMIT.\n\nIncrease the number of iterations (max_iter) or scale the data as shown in:\n    https://scikit-learn.org/stable/modules/preprocessing.html\nPlease also refer to the documentation for alternative solver options:\n    https://scikit-learn.org/stable/modules/linear_model.html#logistic-regression\n  extra_warning_msg=_LOGISTIC_SOLVER_CONVERGENCE_MSG)\n/shared-libs/python3.7/py/lib/python3.7/site-packages/sklearn/linear_model/_logistic.py:765: ConvergenceWarning: lbfgs failed to converge (status=1):\nSTOP: TOTAL NO. of ITERATIONS REACHED LIMIT.\n\nIncrease the number of iterations (max_iter) or scale the data as shown in:\n    https://scikit-learn.org/stable/modules/preprocessing.html\nPlease also refer to the documentation for alternative solver options:\n    https://scikit-learn.org/stable/modules/linear_model.html#logistic-regression\n  extra_warning_msg=_LOGISTIC_SOLVER_CONVERGENCE_MSG)\n/shared-libs/python3.7/py/lib/python3.7/site-packages/sklearn/linear_model/_logistic.py:765: ConvergenceWarning: lbfgs failed to converge (status=1):\nSTOP: TOTAL NO. of ITERATIONS REACHED LIMIT.\n\nIncrease the number of iterations (max_iter) or scale the data as shown in:\n    https://scikit-learn.org/stable/modules/preprocessing.html\nPlease also refer to the documentation for alternative solver options:\n    https://scikit-learn.org/stable/modules/linear_model.html#logistic-regression\n  extra_warning_msg=_LOGISTIC_SOLVER_CONVERGENCE_MSG)\n/shared-libs/python3.7/py/lib/python3.7/site-packages/sklearn/linear_model/_logistic.py:765: ConvergenceWarning: lbfgs failed to converge (status=1):\nSTOP: TOTAL NO. of ITERATIONS REACHED LIMIT.\n\nIncrease the number of iterations (max_iter) or scale the data as shown in:\n    https://scikit-learn.org/stable/modules/preprocessing.html\nPlease also refer to the documentation for alternative solver options:\n    https://scikit-learn.org/stable/modules/linear_model.html#logistic-regression\n  extra_warning_msg=_LOGISTIC_SOLVER_CONVERGENCE_MSG)\n/shared-libs/python3.7/py/lib/python3.7/site-packages/sklearn/linear_model/_logistic.py:765: ConvergenceWarning: lbfgs failed to converge (status=1):\nSTOP: TOTAL NO. of ITERATIONS REACHED LIMIT.\n\nIncrease the number of iterations (max_iter) or scale the data as shown in:\n    https://scikit-learn.org/stable/modules/preprocessing.html\nPlease also refer to the documentation for alternative solver options:\n    https://scikit-learn.org/stable/modules/linear_model.html#logistic-regression\n  extra_warning_msg=_LOGISTIC_SOLVER_CONVERGENCE_MSG)\n/shared-libs/python3.7/py/lib/python3.7/site-packages/sklearn/linear_model/_logistic.py:765: ConvergenceWarning: lbfgs failed to converge (status=1):\nSTOP: TOTAL NO. of ITERATIONS REACHED LIMIT.\n\nIncrease the number of iterations (max_iter) or scale the data as shown in:\n    https://scikit-learn.org/stable/modules/preprocessing.html\nPlease also refer to the documentation for alternative solver options:\n    https://scikit-learn.org/stable/modules/linear_model.html#logistic-regression\n  extra_warning_msg=_LOGISTIC_SOLVER_CONVERGENCE_MSG)\n/shared-libs/python3.7/py/lib/python3.7/site-packages/sklearn/linear_model/_logistic.py:765: ConvergenceWarning: lbfgs failed to converge (status=1):\nSTOP: TOTAL NO. of ITERATIONS REACHED LIMIT.\n\nIncrease the number of iterations (max_iter) or scale the data as shown in:\n    https://scikit-learn.org/stable/modules/preprocessing.html\nPlease also refer to the documentation for alternative solver options:\n    https://scikit-learn.org/stable/modules/linear_model.html#logistic-regression\n  extra_warning_msg=_LOGISTIC_SOLVER_CONVERGENCE_MSG)\n/shared-libs/python3.7/py/lib/python3.7/site-packages/sklearn/linear_model/_logistic.py:765: ConvergenceWarning: lbfgs failed to converge (status=1):\nSTOP: TOTAL NO. of ITERATIONS REACHED LIMIT.\n\nIncrease the number of iterations (max_iter) or scale the data as shown in:\n    https://scikit-learn.org/stable/modules/preprocessing.html\nPlease also refer to the documentation for alternative solver options:\n    https://scikit-learn.org/stable/modules/linear_model.html#logistic-regression\n  extra_warning_msg=_LOGISTIC_SOLVER_CONVERGENCE_MSG)\n/shared-libs/python3.7/py/lib/python3.7/site-packages/sklearn/linear_model/_logistic.py:765: ConvergenceWarning: lbfgs failed to converge (status=1):\nSTOP: TOTAL NO. of ITERATIONS REACHED LIMIT.\n\nIncrease the number of iterations (max_iter) or scale the data as shown in:\n    https://scikit-learn.org/stable/modules/preprocessing.html\nPlease also refer to the documentation for alternative solver options:\n    https://scikit-learn.org/stable/modules/linear_model.html#logistic-regression\n  extra_warning_msg=_LOGISTIC_SOLVER_CONVERGENCE_MSG)\n/shared-libs/python3.7/py/lib/python3.7/site-packages/sklearn/linear_model/_logistic.py:765: ConvergenceWarning: lbfgs failed to converge (status=1):\nSTOP: TOTAL NO. of ITERATIONS REACHED LIMIT.\n\nIncrease the number of iterations (max_iter) or scale the data as shown in:\n    https://scikit-learn.org/stable/modules/preprocessing.html\nPlease also refer to the documentation for alternative solver options:\n    https://scikit-learn.org/stable/modules/linear_model.html#logistic-regression\n  extra_warning_msg=_LOGISTIC_SOLVER_CONVERGENCE_MSG)\n/shared-libs/python3.7/py/lib/python3.7/site-packages/sklearn/linear_model/_logistic.py:765: ConvergenceWarning: lbfgs failed to converge (status=1):\nSTOP: TOTAL NO. of ITERATIONS REACHED LIMIT.\n\nIncrease the number of iterations (max_iter) or scale the data as shown in:\n    https://scikit-learn.org/stable/modules/preprocessing.html\nPlease also refer to the documentation for alternative solver options:\n    https://scikit-learn.org/stable/modules/linear_model.html#logistic-regression\n  extra_warning_msg=_LOGISTIC_SOLVER_CONVERGENCE_MSG)\n/shared-libs/python3.7/py/lib/python3.7/site-packages/sklearn/linear_model/_logistic.py:765: ConvergenceWarning: lbfgs failed to converge (status=1):\nSTOP: TOTAL NO. of ITERATIONS REACHED LIMIT.\n\nIncrease the number of iterations (max_iter) or scale the data as shown in:\n    https://scikit-learn.org/stable/modules/preprocessing.html\nPlease also refer to the documentation for alternative solver options:\n    https://scikit-learn.org/stable/modules/linear_model.html#logistic-regression\n  extra_warning_msg=_LOGISTIC_SOLVER_CONVERGENCE_MSG)\niter:8\nfound:['ltv' 'PERFORM_CNS.SCORE.DESCRIPTION'\n 'DELINQUENT.ACCTS.IN.LAST.SIX.MONTHS' 'Salaried' 'Downpayment'\n 'NO.OF_INQUIRIES' 'VoterID_flag' 'PRI.OVERDUE.ACCTS' 'PRI.NO.OF.ACCTS'] 0.5823264976318726\n/shared-libs/python3.7/py/lib/python3.7/site-packages/sklearn/linear_model/_logistic.py:765: ConvergenceWarning: lbfgs failed to converge (status=1):\nSTOP: TOTAL NO. of ITERATIONS REACHED LIMIT.\n\nIncrease the number of iterations (max_iter) or scale the data as shown in:\n    https://scikit-learn.org/stable/modules/preprocessing.html\nPlease also refer to the documentation for alternative solver options:\n    https://scikit-learn.org/stable/modules/linear_model.html#logistic-regression\n  extra_warning_msg=_LOGISTIC_SOLVER_CONVERGENCE_MSG)\n/shared-libs/python3.7/py/lib/python3.7/site-packages/sklearn/linear_model/_logistic.py:765: ConvergenceWarning: lbfgs failed to converge (status=1):\nSTOP: TOTAL NO. of ITERATIONS REACHED LIMIT.\n\nIncrease the number of iterations (max_iter) or scale the data as shown in:\n    https://scikit-learn.org/stable/modules/preprocessing.html\nPlease also refer to the documentation for alternative solver options:\n    https://scikit-learn.org/stable/modules/linear_model.html#logistic-regression\n  extra_warning_msg=_LOGISTIC_SOLVER_CONVERGENCE_MSG)\n/shared-libs/python3.7/py/lib/python3.7/site-packages/sklearn/linear_model/_logistic.py:765: ConvergenceWarning: lbfgs failed to converge (status=1):\nSTOP: TOTAL NO. of ITERATIONS REACHED LIMIT.\n\nIncrease the number of iterations (max_iter) or scale the data as shown in:\n    https://scikit-learn.org/stable/modules/preprocessing.html\nPlease also refer to the documentation for alternative solver options:\n    https://scikit-learn.org/stable/modules/linear_model.html#logistic-regression\n  extra_warning_msg=_LOGISTIC_SOLVER_CONVERGENCE_MSG)\n/shared-libs/python3.7/py/lib/python3.7/site-packages/sklearn/linear_model/_logistic.py:765: ConvergenceWarning: lbfgs failed to converge (status=1):\nSTOP: TOTAL NO. of ITERATIONS REACHED LIMIT.\n\nIncrease the number of iterations (max_iter) or scale the data as shown in:\n    https://scikit-learn.org/stable/modules/preprocessing.html\nPlease also refer to the documentation for alternative solver options:\n    https://scikit-learn.org/stable/modules/linear_model.html#logistic-regression\n  extra_warning_msg=_LOGISTIC_SOLVER_CONVERGENCE_MSG)\n/shared-libs/python3.7/py/lib/python3.7/site-packages/sklearn/linear_model/_logistic.py:765: ConvergenceWarning: lbfgs failed to converge (status=1):\nSTOP: TOTAL NO. of ITERATIONS REACHED LIMIT.\n\nIncrease the number of iterations (max_iter) or scale the data as shown in:\n    https://scikit-learn.org/stable/modules/preprocessing.html\nPlease also refer to the documentation for alternative solver options:\n    https://scikit-learn.org/stable/modules/linear_model.html#logistic-regression\n  extra_warning_msg=_LOGISTIC_SOLVER_CONVERGENCE_MSG)\n/shared-libs/python3.7/py/lib/python3.7/site-packages/sklearn/linear_model/_logistic.py:765: ConvergenceWarning: lbfgs failed to converge (status=1):\nSTOP: TOTAL NO. of ITERATIONS REACHED LIMIT.\n\nIncrease the number of iterations (max_iter) or scale the data as shown in:\n    https://scikit-learn.org/stable/modules/preprocessing.html\nPlease also refer to the documentation for alternative solver options:\n    https://scikit-learn.org/stable/modules/linear_model.html#logistic-regression\n  extra_warning_msg=_LOGISTIC_SOLVER_CONVERGENCE_MSG)\n/shared-libs/python3.7/py/lib/python3.7/site-packages/sklearn/linear_model/_logistic.py:765: ConvergenceWarning: lbfgs failed to converge (status=1):\nSTOP: TOTAL NO. of ITERATIONS REACHED LIMIT.\n\nIncrease the number of iterations (max_iter) or scale the data as shown in:\n    https://scikit-learn.org/stable/modules/preprocessing.html\nPlease also refer to the documentation for alternative solver options:\n    https://scikit-learn.org/stable/modules/linear_model.html#logistic-regression\n  extra_warning_msg=_LOGISTIC_SOLVER_CONVERGENCE_MSG)\n/shared-libs/python3.7/py/lib/python3.7/site-packages/sklearn/linear_model/_logistic.py:765: ConvergenceWarning: lbfgs failed to converge (status=1):\nSTOP: TOTAL NO. of ITERATIONS REACHED LIMIT.\n\nIncrease the number of iterations (max_iter) or scale the data as shown in:\n    https://scikit-learn.org/stable/modules/preprocessing.html\nPlease also refer to the documentation for alternative solver options:\n    https://scikit-learn.org/stable/modules/linear_model.html#logistic-regression\n  extra_warning_msg=_LOGISTIC_SOLVER_CONVERGENCE_MSG)\n/shared-libs/python3.7/py/lib/python3.7/site-packages/sklearn/linear_model/_logistic.py:765: ConvergenceWarning: lbfgs failed to converge (status=1):\nSTOP: TOTAL NO. of ITERATIONS REACHED LIMIT.\n\nIncrease the number of iterations (max_iter) or scale the data as shown in:\n    https://scikit-learn.org/stable/modules/preprocessing.html\nPlease also refer to the documentation for alternative solver options:\n    https://scikit-learn.org/stable/modules/linear_model.html#logistic-regression\n  extra_warning_msg=_LOGISTIC_SOLVER_CONVERGENCE_MSG)\n/shared-libs/python3.7/py/lib/python3.7/site-packages/sklearn/linear_model/_logistic.py:765: ConvergenceWarning: lbfgs failed to converge (status=1):\nSTOP: TOTAL NO. of ITERATIONS REACHED LIMIT.\n\nIncrease the number of iterations (max_iter) or scale the data as shown in:\n    https://scikit-learn.org/stable/modules/preprocessing.html\nPlease also refer to the documentation for alternative solver options:\n    https://scikit-learn.org/stable/modules/linear_model.html#logistic-regression\n  extra_warning_msg=_LOGISTIC_SOLVER_CONVERGENCE_MSG)\n/shared-libs/python3.7/py/lib/python3.7/site-packages/sklearn/linear_model/_logistic.py:765: ConvergenceWarning: lbfgs failed to converge (status=1):\nSTOP: TOTAL NO. of ITERATIONS REACHED LIMIT.\n\nIncrease the number of iterations (max_iter) or scale the data as shown in:\n    https://scikit-learn.org/stable/modules/preprocessing.html\nPlease also refer to the documentation for alternative solver options:\n    https://scikit-learn.org/stable/modules/linear_model.html#logistic-regression\n  extra_warning_msg=_LOGISTIC_SOLVER_CONVERGENCE_MSG)\n/shared-libs/python3.7/py/lib/python3.7/site-packages/sklearn/linear_model/_logistic.py:765: ConvergenceWarning: lbfgs failed to converge (status=1):\nSTOP: TOTAL NO. of ITERATIONS REACHED LIMIT.\n\nIncrease the number of iterations (max_iter) or scale the data as shown in:\n    https://scikit-learn.org/stable/modules/preprocessing.html\nPlease also refer to the documentation for alternative solver options:\n    https://scikit-learn.org/stable/modules/linear_model.html#logistic-regression\n  extra_warning_msg=_LOGISTIC_SOLVER_CONVERGENCE_MSG)\n/shared-libs/python3.7/py/lib/python3.7/site-packages/sklearn/linear_model/_logistic.py:765: ConvergenceWarning: lbfgs failed to converge (status=1):\nSTOP: TOTAL NO. of ITERATIONS REACHED LIMIT.\n\nIncrease the number of iterations (max_iter) or scale the data as shown in:\n    https://scikit-learn.org/stable/modules/preprocessing.html\nPlease also refer to the documentation for alternative solver options:\n    https://scikit-learn.org/stable/modules/linear_model.html#logistic-regression\n  extra_warning_msg=_LOGISTIC_SOLVER_CONVERGENCE_MSG)\n/shared-libs/python3.7/py/lib/python3.7/site-packages/sklearn/linear_model/_logistic.py:765: ConvergenceWarning: lbfgs failed to converge (status=1):\nSTOP: TOTAL NO. of ITERATIONS REACHED LIMIT.\n\nIncrease the number of iterations (max_iter) or scale the data as shown in:\n    https://scikit-learn.org/stable/modules/preprocessing.html\nPlease also refer to the documentation for alternative solver options:\n    https://scikit-learn.org/stable/modules/linear_model.html#logistic-regression\n  extra_warning_msg=_LOGISTIC_SOLVER_CONVERGENCE_MSG)\n/shared-libs/python3.7/py/lib/python3.7/site-packages/sklearn/linear_model/_logistic.py:765: ConvergenceWarning: lbfgs failed to converge (status=1):\nSTOP: TOTAL NO. of ITERATIONS REACHED LIMIT.\n\nIncrease the number of iterations (max_iter) or scale the data as shown in:\n    https://scikit-learn.org/stable/modules/preprocessing.html\nPlease also refer to the documentation for alternative solver options:\n    https://scikit-learn.org/stable/modules/linear_model.html#logistic-regression\n  extra_warning_msg=_LOGISTIC_SOLVER_CONVERGENCE_MSG)\n/shared-libs/python3.7/py/lib/python3.7/site-packages/sklearn/linear_model/_logistic.py:765: ConvergenceWarning: lbfgs failed to converge (status=1):\nSTOP: TOTAL NO. of ITERATIONS REACHED LIMIT.\n\nIncrease the number of iterations (max_iter) or scale the data as shown in:\n    https://scikit-learn.org/stable/modules/preprocessing.html\nPlease also refer to the documentation for alternative solver options:\n    https://scikit-learn.org/stable/modules/linear_model.html#logistic-regression\n  extra_warning_msg=_LOGISTIC_SOLVER_CONVERGENCE_MSG)\n/shared-libs/python3.7/py/lib/python3.7/site-packages/sklearn/linear_model/_logistic.py:765: ConvergenceWarning: lbfgs failed to converge (status=1):\nSTOP: TOTAL NO. of ITERATIONS REACHED LIMIT.\n\nIncrease the number of iterations (max_iter) or scale the data as shown in:\n    https://scikit-learn.org/stable/modules/preprocessing.html\nPlease also refer to the documentation for alternative solver options:\n    https://scikit-learn.org/stable/modules/linear_model.html#logistic-regression\n  extra_warning_msg=_LOGISTIC_SOLVER_CONVERGENCE_MSG)\niter:9\nmiss:['ltv' 'PERFORM_CNS.SCORE.DESCRIPTION'\n 'DELINQUENT.ACCTS.IN.LAST.SIX.MONTHS' 'Salaried' 'Downpayment'\n 'NO.OF_INQUIRIES' 'VoterID_flag' 'PRI.OVERDUE.ACCTS' 'PRI.NO.OF.ACCTS'\n 'AVERAGE.ACCT.AGE'] 0.5821430211542937\nmiss 1\n/shared-libs/python3.7/py/lib/python3.7/site-packages/sklearn/linear_model/_logistic.py:765: ConvergenceWarning: lbfgs failed to converge (status=1):\nSTOP: TOTAL NO. of ITERATIONS REACHED LIMIT.\n\nIncrease the number of iterations (max_iter) or scale the data as shown in:\n    https://scikit-learn.org/stable/modules/preprocessing.html\nPlease also refer to the documentation for alternative solver options:\n    https://scikit-learn.org/stable/modules/linear_model.html#logistic-regression\n  extra_warning_msg=_LOGISTIC_SOLVER_CONVERGENCE_MSG)\n/shared-libs/python3.7/py/lib/python3.7/site-packages/sklearn/linear_model/_logistic.py:765: ConvergenceWarning: lbfgs failed to converge (status=1):\nSTOP: TOTAL NO. of ITERATIONS REACHED LIMIT.\n\nIncrease the number of iterations (max_iter) or scale the data as shown in:\n    https://scikit-learn.org/stable/modules/preprocessing.html\nPlease also refer to the documentation for alternative solver options:\n    https://scikit-learn.org/stable/modules/linear_model.html#logistic-regression\n  extra_warning_msg=_LOGISTIC_SOLVER_CONVERGENCE_MSG)\n/shared-libs/python3.7/py/lib/python3.7/site-packages/sklearn/linear_model/_logistic.py:765: ConvergenceWarning: lbfgs failed to converge (status=1):\nSTOP: TOTAL NO. of ITERATIONS REACHED LIMIT.\n\nIncrease the number of iterations (max_iter) or scale the data as shown in:\n    https://scikit-learn.org/stable/modules/preprocessing.html\nPlease also refer to the documentation for alternative solver options:\n    https://scikit-learn.org/stable/modules/linear_model.html#logistic-regression\n  extra_warning_msg=_LOGISTIC_SOLVER_CONVERGENCE_MSG)\n/shared-libs/python3.7/py/lib/python3.7/site-packages/sklearn/linear_model/_logistic.py:765: ConvergenceWarning: lbfgs failed to converge (status=1):\nSTOP: TOTAL NO. of ITERATIONS REACHED LIMIT.\n\nIncrease the number of iterations (max_iter) or scale the data as shown in:\n    https://scikit-learn.org/stable/modules/preprocessing.html\nPlease also refer to the documentation for alternative solver options:\n    https://scikit-learn.org/stable/modules/linear_model.html#logistic-regression\n  extra_warning_msg=_LOGISTIC_SOLVER_CONVERGENCE_MSG)\n/shared-libs/python3.7/py/lib/python3.7/site-packages/sklearn/linear_model/_logistic.py:765: ConvergenceWarning: lbfgs failed to converge (status=1):\nSTOP: TOTAL NO. of ITERATIONS REACHED LIMIT.\n\nIncrease the number of iterations (max_iter) or scale the data as shown in:\n    https://scikit-learn.org/stable/modules/preprocessing.html\nPlease also refer to the documentation for alternative solver options:\n    https://scikit-learn.org/stable/modules/linear_model.html#logistic-regression\n  extra_warning_msg=_LOGISTIC_SOLVER_CONVERGENCE_MSG)\n/shared-libs/python3.7/py/lib/python3.7/site-packages/sklearn/linear_model/_logistic.py:765: ConvergenceWarning: lbfgs failed to converge (status=1):\nSTOP: TOTAL NO. of ITERATIONS REACHED LIMIT.\n\nIncrease the number of iterations (max_iter) or scale the data as shown in:\n    https://scikit-learn.org/stable/modules/preprocessing.html\nPlease also refer to the documentation for alternative solver options:\n    https://scikit-learn.org/stable/modules/linear_model.html#logistic-regression\n  extra_warning_msg=_LOGISTIC_SOLVER_CONVERGENCE_MSG)\n/shared-libs/python3.7/py/lib/python3.7/site-packages/sklearn/linear_model/_logistic.py:765: ConvergenceWarning: lbfgs failed to converge (status=1):\nSTOP: TOTAL NO. of ITERATIONS REACHED LIMIT.\n\nIncrease the number of iterations (max_iter) or scale the data as shown in:\n    https://scikit-learn.org/stable/modules/preprocessing.html\nPlease also refer to the documentation for alternative solver options:\n    https://scikit-learn.org/stable/modules/linear_model.html#logistic-regression\n  extra_warning_msg=_LOGISTIC_SOLVER_CONVERGENCE_MSG)\n/shared-libs/python3.7/py/lib/python3.7/site-packages/sklearn/linear_model/_logistic.py:765: ConvergenceWarning: lbfgs failed to converge (status=1):\nSTOP: TOTAL NO. of ITERATIONS REACHED LIMIT.\n\nIncrease the number of iterations (max_iter) or scale the data as shown in:\n    https://scikit-learn.org/stable/modules/preprocessing.html\nPlease also refer to the documentation for alternative solver options:\n    https://scikit-learn.org/stable/modules/linear_model.html#logistic-regression\n  extra_warning_msg=_LOGISTIC_SOLVER_CONVERGENCE_MSG)\n/shared-libs/python3.7/py/lib/python3.7/site-packages/sklearn/linear_model/_logistic.py:765: ConvergenceWarning: lbfgs failed to converge (status=1):\nSTOP: TOTAL NO. of ITERATIONS REACHED LIMIT.\n\nIncrease the number of iterations (max_iter) or scale the data as shown in:\n    https://scikit-learn.org/stable/modules/preprocessing.html\nPlease also refer to the documentation for alternative solver options:\n    https://scikit-learn.org/stable/modules/linear_model.html#logistic-regression\n  extra_warning_msg=_LOGISTIC_SOLVER_CONVERGENCE_MSG)\n/shared-libs/python3.7/py/lib/python3.7/site-packages/sklearn/linear_model/_logistic.py:765: ConvergenceWarning: lbfgs failed to converge (status=1):\nSTOP: TOTAL NO. of ITERATIONS REACHED LIMIT.\n\nIncrease the number of iterations (max_iter) or scale the data as shown in:\n    https://scikit-learn.org/stable/modules/preprocessing.html\nPlease also refer to the documentation for alternative solver options:\n    https://scikit-learn.org/stable/modules/linear_model.html#logistic-regression\n  extra_warning_msg=_LOGISTIC_SOLVER_CONVERGENCE_MSG)\n/shared-libs/python3.7/py/lib/python3.7/site-packages/sklearn/linear_model/_logistic.py:765: ConvergenceWarning: lbfgs failed to converge (status=1):\nSTOP: TOTAL NO. of ITERATIONS REACHED LIMIT.\n\nIncrease the number of iterations (max_iter) or scale the data as shown in:\n    https://scikit-learn.org/stable/modules/preprocessing.html\nPlease also refer to the documentation for alternative solver options:\n    https://scikit-learn.org/stable/modules/linear_model.html#logistic-regression\n  extra_warning_msg=_LOGISTIC_SOLVER_CONVERGENCE_MSG)\n/shared-libs/python3.7/py/lib/python3.7/site-packages/sklearn/linear_model/_logistic.py:765: ConvergenceWarning: lbfgs failed to converge (status=1):\nSTOP: TOTAL NO. of ITERATIONS REACHED LIMIT.\n\nIncrease the number of iterations (max_iter) or scale the data as shown in:\n    https://scikit-learn.org/stable/modules/preprocessing.html\nPlease also refer to the documentation for alternative solver options:\n    https://scikit-learn.org/stable/modules/linear_model.html#logistic-regression\n  extra_warning_msg=_LOGISTIC_SOLVER_CONVERGENCE_MSG)\n/shared-libs/python3.7/py/lib/python3.7/site-packages/sklearn/linear_model/_logistic.py:765: ConvergenceWarning: lbfgs failed to converge (status=1):\nSTOP: TOTAL NO. of ITERATIONS REACHED LIMIT.\n\nIncrease the number of iterations (max_iter) or scale the data as shown in:\n    https://scikit-learn.org/stable/modules/preprocessing.html\nPlease also refer to the documentation for alternative solver options:\n    https://scikit-learn.org/stable/modules/linear_model.html#logistic-regression\n  extra_warning_msg=_LOGISTIC_SOLVER_CONVERGENCE_MSG)\n/shared-libs/python3.7/py/lib/python3.7/site-packages/sklearn/linear_model/_logistic.py:765: ConvergenceWarning: lbfgs failed to converge (status=1):\nSTOP: TOTAL NO. of ITERATIONS REACHED LIMIT.\n\nIncrease the number of iterations (max_iter) or scale the data as shown in:\n    https://scikit-learn.org/stable/modules/preprocessing.html\nPlease also refer to the documentation for alternative solver options:\n    https://scikit-learn.org/stable/modules/linear_model.html#logistic-regression\n  extra_warning_msg=_LOGISTIC_SOLVER_CONVERGENCE_MSG)\niter:10\nfound:['ltv' 'PERFORM_CNS.SCORE.DESCRIPTION'\n 'DELINQUENT.ACCTS.IN.LAST.SIX.MONTHS' 'Salaried' 'Downpayment'\n 'NO.OF_INQUIRIES' 'VoterID_flag' 'PRI.OVERDUE.ACCTS' 'PRI.NO.OF.ACCTS'\n 'AVERAGE.ACCT.AGE' 'NEW.ACCTS.IN.LAST.SIX.MONTHS'] 0.5821994597335991\n/shared-libs/python3.7/py/lib/python3.7/site-packages/sklearn/linear_model/_logistic.py:765: ConvergenceWarning: lbfgs failed to converge (status=1):\nSTOP: TOTAL NO. of ITERATIONS REACHED LIMIT.\n\nIncrease the number of iterations (max_iter) or scale the data as shown in:\n    https://scikit-learn.org/stable/modules/preprocessing.html\nPlease also refer to the documentation for alternative solver options:\n    https://scikit-learn.org/stable/modules/linear_model.html#logistic-regression\n  extra_warning_msg=_LOGISTIC_SOLVER_CONVERGENCE_MSG)\n/shared-libs/python3.7/py/lib/python3.7/site-packages/sklearn/linear_model/_logistic.py:765: ConvergenceWarning: lbfgs failed to converge (status=1):\nSTOP: TOTAL NO. of ITERATIONS REACHED LIMIT.\n\nIncrease the number of iterations (max_iter) or scale the data as shown in:\n    https://scikit-learn.org/stable/modules/preprocessing.html\nPlease also refer to the documentation for alternative solver options:\n    https://scikit-learn.org/stable/modules/linear_model.html#logistic-regression\n  extra_warning_msg=_LOGISTIC_SOLVER_CONVERGENCE_MSG)\n/shared-libs/python3.7/py/lib/python3.7/site-packages/sklearn/linear_model/_logistic.py:765: ConvergenceWarning: lbfgs failed to converge (status=1):\nSTOP: TOTAL NO. of ITERATIONS REACHED LIMIT.\n\nIncrease the number of iterations (max_iter) or scale the data as shown in:\n    https://scikit-learn.org/stable/modules/preprocessing.html\nPlease also refer to the documentation for alternative solver options:\n    https://scikit-learn.org/stable/modules/linear_model.html#logistic-regression\n  extra_warning_msg=_LOGISTIC_SOLVER_CONVERGENCE_MSG)\n/shared-libs/python3.7/py/lib/python3.7/site-packages/sklearn/linear_model/_logistic.py:765: ConvergenceWarning: lbfgs failed to converge (status=1):\nSTOP: TOTAL NO. of ITERATIONS REACHED LIMIT.\n\nIncrease the number of iterations (max_iter) or scale the data as shown in:\n    https://scikit-learn.org/stable/modules/preprocessing.html\nPlease also refer to the documentation for alternative solver options:\n    https://scikit-learn.org/stable/modules/linear_model.html#logistic-regression\n  extra_warning_msg=_LOGISTIC_SOLVER_CONVERGENCE_MSG)\n/shared-libs/python3.7/py/lib/python3.7/site-packages/sklearn/linear_model/_logistic.py:765: ConvergenceWarning: lbfgs failed to converge (status=1):\nSTOP: TOTAL NO. of ITERATIONS REACHED LIMIT.\n\nIncrease the number of iterations (max_iter) or scale the data as shown in:\n    https://scikit-learn.org/stable/modules/preprocessing.html\nPlease also refer to the documentation for alternative solver options:\n    https://scikit-learn.org/stable/modules/linear_model.html#logistic-regression\n  extra_warning_msg=_LOGISTIC_SOLVER_CONVERGENCE_MSG)\n/shared-libs/python3.7/py/lib/python3.7/site-packages/sklearn/linear_model/_logistic.py:765: ConvergenceWarning: lbfgs failed to converge (status=1):\nSTOP: TOTAL NO. of ITERATIONS REACHED LIMIT.\n\nIncrease the number of iterations (max_iter) or scale the data as shown in:\n    https://scikit-learn.org/stable/modules/preprocessing.html\nPlease also refer to the documentation for alternative solver options:\n    https://scikit-learn.org/stable/modules/linear_model.html#logistic-regression\n  extra_warning_msg=_LOGISTIC_SOLVER_CONVERGENCE_MSG)\n/shared-libs/python3.7/py/lib/python3.7/site-packages/sklearn/linear_model/_logistic.py:765: ConvergenceWarning: lbfgs failed to converge (status=1):\nSTOP: TOTAL NO. of ITERATIONS REACHED LIMIT.\n\nIncrease the number of iterations (max_iter) or scale the data as shown in:\n    https://scikit-learn.org/stable/modules/preprocessing.html\nPlease also refer to the documentation for alternative solver options:\n    https://scikit-learn.org/stable/modules/linear_model.html#logistic-regression\n  extra_warning_msg=_LOGISTIC_SOLVER_CONVERGENCE_MSG)\n/shared-libs/python3.7/py/lib/python3.7/site-packages/sklearn/linear_model/_logistic.py:765: ConvergenceWarning: lbfgs failed to converge (status=1):\nSTOP: TOTAL NO. of ITERATIONS REACHED LIMIT.\n\nIncrease the number of iterations (max_iter) or scale the data as shown in:\n    https://scikit-learn.org/stable/modules/preprocessing.html\nPlease also refer to the documentation for alternative solver options:\n    https://scikit-learn.org/stable/modules/linear_model.html#logistic-regression\n  extra_warning_msg=_LOGISTIC_SOLVER_CONVERGENCE_MSG)\n/shared-libs/python3.7/py/lib/python3.7/site-packages/sklearn/linear_model/_logistic.py:765: ConvergenceWarning: lbfgs failed to converge (status=1):\nSTOP: TOTAL NO. of ITERATIONS REACHED LIMIT.\n\nIncrease the number of iterations (max_iter) or scale the data as shown in:\n    https://scikit-learn.org/stable/modules/preprocessing.html\nPlease also refer to the documentation for alternative solver options:\n    https://scikit-learn.org/stable/modules/linear_model.html#logistic-regression\n  extra_warning_msg=_LOGISTIC_SOLVER_CONVERGENCE_MSG)\n/shared-libs/python3.7/py/lib/python3.7/site-packages/sklearn/linear_model/_logistic.py:765: ConvergenceWarning: lbfgs failed to converge (status=1):\nSTOP: TOTAL NO. of ITERATIONS REACHED LIMIT.\n\nIncrease the number of iterations (max_iter) or scale the data as shown in:\n    https://scikit-learn.org/stable/modules/preprocessing.html\nPlease also refer to the documentation for alternative solver options:\n    https://scikit-learn.org/stable/modules/linear_model.html#logistic-regression\n  extra_warning_msg=_LOGISTIC_SOLVER_CONVERGENCE_MSG)\n/shared-libs/python3.7/py/lib/python3.7/site-packages/sklearn/linear_model/_logistic.py:765: ConvergenceWarning: lbfgs failed to converge (status=1):\nSTOP: TOTAL NO. of ITERATIONS REACHED LIMIT.\n\nIncrease the number of iterations (max_iter) or scale the data as shown in:\n    https://scikit-learn.org/stable/modules/preprocessing.html\nPlease also refer to the documentation for alternative solver options:\n    https://scikit-learn.org/stable/modules/linear_model.html#logistic-regression\n  extra_warning_msg=_LOGISTIC_SOLVER_CONVERGENCE_MSG)\n/shared-libs/python3.7/py/lib/python3.7/site-packages/sklearn/linear_model/_logistic.py:765: ConvergenceWarning: lbfgs failed to converge (status=1):\nSTOP: TOTAL NO. of ITERATIONS REACHED LIMIT.\n\nIncrease the number of iterations (max_iter) or scale the data as shown in:\n    https://scikit-learn.org/stable/modules/preprocessing.html\nPlease also refer to the documentation for alternative solver options:\n    https://scikit-learn.org/stable/modules/linear_model.html#logistic-regression\n  extra_warning_msg=_LOGISTIC_SOLVER_CONVERGENCE_MSG)\niter:11\nfound:['ltv' 'PERFORM_CNS.SCORE.DESCRIPTION'\n 'DELINQUENT.ACCTS.IN.LAST.SIX.MONTHS' 'Salaried' 'Downpayment'\n 'NO.OF_INQUIRIES' 'VoterID_flag' 'PRI.OVERDUE.ACCTS' 'PRI.NO.OF.ACCTS'\n 'AVERAGE.ACCT.AGE' 'NEW.ACCTS.IN.LAST.SIX.MONTHS' 'PRI.ACTIVE.ACCTS'] 0.5824676544377793\n/shared-libs/python3.7/py/lib/python3.7/site-packages/sklearn/linear_model/_logistic.py:765: ConvergenceWarning: lbfgs failed to converge (status=1):\nSTOP: TOTAL NO. of ITERATIONS REACHED LIMIT.\n\nIncrease the number of iterations (max_iter) or scale the data as shown in:\n    https://scikit-learn.org/stable/modules/preprocessing.html\nPlease also refer to the documentation for alternative solver options:\n    https://scikit-learn.org/stable/modules/linear_model.html#logistic-regression\n  extra_warning_msg=_LOGISTIC_SOLVER_CONVERGENCE_MSG)\n/shared-libs/python3.7/py/lib/python3.7/site-packages/sklearn/linear_model/_logistic.py:765: ConvergenceWarning: lbfgs failed to converge (status=1):\nSTOP: TOTAL NO. of ITERATIONS REACHED LIMIT.\n\nIncrease the number of iterations (max_iter) or scale the data as shown in:\n    https://scikit-learn.org/stable/modules/preprocessing.html\nPlease also refer to the documentation for alternative solver options:\n    https://scikit-learn.org/stable/modules/linear_model.html#logistic-regression\n  extra_warning_msg=_LOGISTIC_SOLVER_CONVERGENCE_MSG)\n/shared-libs/python3.7/py/lib/python3.7/site-packages/sklearn/linear_model/_logistic.py:765: ConvergenceWarning: lbfgs failed to converge (status=1):\nSTOP: TOTAL NO. of ITERATIONS REACHED LIMIT.\n\nIncrease the number of iterations (max_iter) or scale the data as shown in:\n    https://scikit-learn.org/stable/modules/preprocessing.html\nPlease also refer to the documentation for alternative solver options:\n    https://scikit-learn.org/stable/modules/linear_model.html#logistic-regression\n  extra_warning_msg=_LOGISTIC_SOLVER_CONVERGENCE_MSG)\n/shared-libs/python3.7/py/lib/python3.7/site-packages/sklearn/linear_model/_logistic.py:765: ConvergenceWarning: lbfgs failed to converge (status=1):\nSTOP: TOTAL NO. of ITERATIONS REACHED LIMIT.\n\nIncrease the number of iterations (max_iter) or scale the data as shown in:\n    https://scikit-learn.org/stable/modules/preprocessing.html\nPlease also refer to the documentation for alternative solver options:\n    https://scikit-learn.org/stable/modules/linear_model.html#logistic-regression\n  extra_warning_msg=_LOGISTIC_SOLVER_CONVERGENCE_MSG)\n/shared-libs/python3.7/py/lib/python3.7/site-packages/sklearn/linear_model/_logistic.py:765: ConvergenceWarning: lbfgs failed to converge (status=1):\nSTOP: TOTAL NO. of ITERATIONS REACHED LIMIT.\n\nIncrease the number of iterations (max_iter) or scale the data as shown in:\n    https://scikit-learn.org/stable/modules/preprocessing.html\nPlease also refer to the documentation for alternative solver options:\n    https://scikit-learn.org/stable/modules/linear_model.html#logistic-regression\n  extra_warning_msg=_LOGISTIC_SOLVER_CONVERGENCE_MSG)\n/shared-libs/python3.7/py/lib/python3.7/site-packages/sklearn/linear_model/_logistic.py:765: ConvergenceWarning: lbfgs failed to converge (status=1):\nSTOP: TOTAL NO. of ITERATIONS REACHED LIMIT.\n\nIncrease the number of iterations (max_iter) or scale the data as shown in:\n    https://scikit-learn.org/stable/modules/preprocessing.html\nPlease also refer to the documentation for alternative solver options:\n    https://scikit-learn.org/stable/modules/linear_model.html#logistic-regression\n  extra_warning_msg=_LOGISTIC_SOLVER_CONVERGENCE_MSG)\n/shared-libs/python3.7/py/lib/python3.7/site-packages/sklearn/linear_model/_logistic.py:765: ConvergenceWarning: lbfgs failed to converge (status=1):\nSTOP: TOTAL NO. of ITERATIONS REACHED LIMIT.\n\nIncrease the number of iterations (max_iter) or scale the data as shown in:\n    https://scikit-learn.org/stable/modules/preprocessing.html\nPlease also refer to the documentation for alternative solver options:\n    https://scikit-learn.org/stable/modules/linear_model.html#logistic-regression\n  extra_warning_msg=_LOGISTIC_SOLVER_CONVERGENCE_MSG)\n/shared-libs/python3.7/py/lib/python3.7/site-packages/sklearn/linear_model/_logistic.py:765: ConvergenceWarning: lbfgs failed to converge (status=1):\nSTOP: TOTAL NO. of ITERATIONS REACHED LIMIT.\n\nIncrease the number of iterations (max_iter) or scale the data as shown in:\n    https://scikit-learn.org/stable/modules/preprocessing.html\nPlease also refer to the documentation for alternative solver options:\n    https://scikit-learn.org/stable/modules/linear_model.html#logistic-regression\n  extra_warning_msg=_LOGISTIC_SOLVER_CONVERGENCE_MSG)\n/shared-libs/python3.7/py/lib/python3.7/site-packages/sklearn/linear_model/_logistic.py:765: ConvergenceWarning: lbfgs failed to converge (status=1):\nSTOP: TOTAL NO. of ITERATIONS REACHED LIMIT.\n\nIncrease the number of iterations (max_iter) or scale the data as shown in:\n    https://scikit-learn.org/stable/modules/preprocessing.html\nPlease also refer to the documentation for alternative solver options:\n    https://scikit-learn.org/stable/modules/linear_model.html#logistic-regression\n  extra_warning_msg=_LOGISTIC_SOLVER_CONVERGENCE_MSG)\n/shared-libs/python3.7/py/lib/python3.7/site-packages/sklearn/linear_model/_logistic.py:765: ConvergenceWarning: lbfgs failed to converge (status=1):\nSTOP: TOTAL NO. of ITERATIONS REACHED LIMIT.\n\nIncrease the number of iterations (max_iter) or scale the data as shown in:\n    https://scikit-learn.org/stable/modules/preprocessing.html\nPlease also refer to the documentation for alternative solver options:\n    https://scikit-learn.org/stable/modules/linear_model.html#logistic-regression\n  extra_warning_msg=_LOGISTIC_SOLVER_CONVERGENCE_MSG)\n/shared-libs/python3.7/py/lib/python3.7/site-packages/sklearn/linear_model/_logistic.py:765: ConvergenceWarning: lbfgs failed to converge (status=1):\nSTOP: TOTAL NO. of ITERATIONS REACHED LIMIT.\n\nIncrease the number of iterations (max_iter) or scale the data as shown in:\n    https://scikit-learn.org/stable/modules/preprocessing.html\nPlease also refer to the documentation for alternative solver options:\n    https://scikit-learn.org/stable/modules/linear_model.html#logistic-regression\n  extra_warning_msg=_LOGISTIC_SOLVER_CONVERGENCE_MSG)\n/shared-libs/python3.7/py/lib/python3.7/site-packages/sklearn/linear_model/_logistic.py:765: ConvergenceWarning: lbfgs failed to converge (status=1):\nSTOP: TOTAL NO. of ITERATIONS REACHED LIMIT.\n\nIncrease the number of iterations (max_iter) or scale the data as shown in:\n    https://scikit-learn.org/stable/modules/preprocessing.html\nPlease also refer to the documentation for alternative solver options:\n    https://scikit-learn.org/stable/modules/linear_model.html#logistic-regression\n  extra_warning_msg=_LOGISTIC_SOLVER_CONVERGENCE_MSG)\niter:12\nmiss:['ltv' 'PERFORM_CNS.SCORE.DESCRIPTION'\n 'DELINQUENT.ACCTS.IN.LAST.SIX.MONTHS' 'Salaried' 'Downpayment'\n 'NO.OF_INQUIRIES' 'VoterID_flag' 'PRI.OVERDUE.ACCTS' 'PRI.NO.OF.ACCTS'\n 'AVERAGE.ACCT.AGE' 'NEW.ACCTS.IN.LAST.SIX.MONTHS' 'PRI.ACTIVE.ACCTS'\n 'NEW.ACCTS.IN.LAST.SIX.MONTHS'] 0.5820160053672359\nmiss 1\n/shared-libs/python3.7/py/lib/python3.7/site-packages/sklearn/linear_model/_logistic.py:765: ConvergenceWarning: lbfgs failed to converge (status=1):\nSTOP: TOTAL NO. of ITERATIONS REACHED LIMIT.\n\nIncrease the number of iterations (max_iter) or scale the data as shown in:\n    https://scikit-learn.org/stable/modules/preprocessing.html\nPlease also refer to the documentation for alternative solver options:\n    https://scikit-learn.org/stable/modules/linear_model.html#logistic-regression\n  extra_warning_msg=_LOGISTIC_SOLVER_CONVERGENCE_MSG)\n/shared-libs/python3.7/py/lib/python3.7/site-packages/sklearn/linear_model/_logistic.py:765: ConvergenceWarning: lbfgs failed to converge (status=1):\nSTOP: TOTAL NO. of ITERATIONS REACHED LIMIT.\n\nIncrease the number of iterations (max_iter) or scale the data as shown in:\n    https://scikit-learn.org/stable/modules/preprocessing.html\nPlease also refer to the documentation for alternative solver options:\n    https://scikit-learn.org/stable/modules/linear_model.html#logistic-regression\n  extra_warning_msg=_LOGISTIC_SOLVER_CONVERGENCE_MSG)\n/shared-libs/python3.7/py/lib/python3.7/site-packages/sklearn/linear_model/_logistic.py:765: ConvergenceWarning: lbfgs failed to converge (status=1):\nSTOP: TOTAL NO. of ITERATIONS REACHED LIMIT.\n\nIncrease the number of iterations (max_iter) or scale the data as shown in:\n    https://scikit-learn.org/stable/modules/preprocessing.html\nPlease also refer to the documentation for alternative solver options:\n    https://scikit-learn.org/stable/modules/linear_model.html#logistic-regression\n  extra_warning_msg=_LOGISTIC_SOLVER_CONVERGENCE_MSG)\n/shared-libs/python3.7/py/lib/python3.7/site-packages/sklearn/linear_model/_logistic.py:765: ConvergenceWarning: lbfgs failed to converge (status=1):\nSTOP: TOTAL NO. of ITERATIONS REACHED LIMIT.\n\nIncrease the number of iterations (max_iter) or scale the data as shown in:\n    https://scikit-learn.org/stable/modules/preprocessing.html\nPlease also refer to the documentation for alternative solver options:\n    https://scikit-learn.org/stable/modules/linear_model.html#logistic-regression\n  extra_warning_msg=_LOGISTIC_SOLVER_CONVERGENCE_MSG)\n/shared-libs/python3.7/py/lib/python3.7/site-packages/sklearn/linear_model/_logistic.py:765: ConvergenceWarning: lbfgs failed to converge (status=1):\nSTOP: TOTAL NO. of ITERATIONS REACHED LIMIT.\n\nIncrease the number of iterations (max_iter) or scale the data as shown in:\n    https://scikit-learn.org/stable/modules/preprocessing.html\nPlease also refer to the documentation for alternative solver options:\n    https://scikit-learn.org/stable/modules/linear_model.html#logistic-regression\n  extra_warning_msg=_LOGISTIC_SOLVER_CONVERGENCE_MSG)\n/shared-libs/python3.7/py/lib/python3.7/site-packages/sklearn/linear_model/_logistic.py:765: ConvergenceWarning: lbfgs failed to converge (status=1):\nSTOP: TOTAL NO. of ITERATIONS REACHED LIMIT.\n\nIncrease the number of iterations (max_iter) or scale the data as shown in:\n    https://scikit-learn.org/stable/modules/preprocessing.html\nPlease also refer to the documentation for alternative solver options:\n    https://scikit-learn.org/stable/modules/linear_model.html#logistic-regression\n  extra_warning_msg=_LOGISTIC_SOLVER_CONVERGENCE_MSG)\n/shared-libs/python3.7/py/lib/python3.7/site-packages/sklearn/linear_model/_logistic.py:765: ConvergenceWarning: lbfgs failed to converge (status=1):\nSTOP: TOTAL NO. of ITERATIONS REACHED LIMIT.\n\nIncrease the number of iterations (max_iter) or scale the data as shown in:\n    https://scikit-learn.org/stable/modules/preprocessing.html\nPlease also refer to the documentation for alternative solver options:\n    https://scikit-learn.org/stable/modules/linear_model.html#logistic-regression\n  extra_warning_msg=_LOGISTIC_SOLVER_CONVERGENCE_MSG)\n/shared-libs/python3.7/py/lib/python3.7/site-packages/sklearn/linear_model/_logistic.py:765: ConvergenceWarning: lbfgs failed to converge (status=1):\nSTOP: TOTAL NO. of ITERATIONS REACHED LIMIT.\n\nIncrease the number of iterations (max_iter) or scale the data as shown in:\n    https://scikit-learn.org/stable/modules/preprocessing.html\nPlease also refer to the documentation for alternative solver options:\n    https://scikit-learn.org/stable/modules/linear_model.html#logistic-regression\n  extra_warning_msg=_LOGISTIC_SOLVER_CONVERGENCE_MSG)\n/shared-libs/python3.7/py/lib/python3.7/site-packages/sklearn/linear_model/_logistic.py:765: ConvergenceWarning: lbfgs failed to converge (status=1):\nSTOP: TOTAL NO. of ITERATIONS REACHED LIMIT.\n\nIncrease the number of iterations (max_iter) or scale the data as shown in:\n    https://scikit-learn.org/stable/modules/preprocessing.html\nPlease also refer to the documentation for alternative solver options:\n    https://scikit-learn.org/stable/modules/linear_model.html#logistic-regression\n  extra_warning_msg=_LOGISTIC_SOLVER_CONVERGENCE_MSG)\n/shared-libs/python3.7/py/lib/python3.7/site-packages/sklearn/linear_model/_logistic.py:765: ConvergenceWarning: lbfgs failed to converge (status=1):\nSTOP: TOTAL NO. of ITERATIONS REACHED LIMIT.\n\nIncrease the number of iterations (max_iter) or scale the data as shown in:\n    https://scikit-learn.org/stable/modules/preprocessing.html\nPlease also refer to the documentation for alternative solver options:\n    https://scikit-learn.org/stable/modules/linear_model.html#logistic-regression\n  extra_warning_msg=_LOGISTIC_SOLVER_CONVERGENCE_MSG)\n/shared-libs/python3.7/py/lib/python3.7/site-packages/sklearn/linear_model/_logistic.py:765: ConvergenceWarning: lbfgs failed to converge (status=1):\nSTOP: TOTAL NO. of ITERATIONS REACHED LIMIT.\n\nIncrease the number of iterations (max_iter) or scale the data as shown in:\n    https://scikit-learn.org/stable/modules/preprocessing.html\nPlease also refer to the documentation for alternative solver options:\n    https://scikit-learn.org/stable/modules/linear_model.html#logistic-regression\n  extra_warning_msg=_LOGISTIC_SOLVER_CONVERGENCE_MSG)\n/shared-libs/python3.7/py/lib/python3.7/site-packages/sklearn/linear_model/_logistic.py:765: ConvergenceWarning: lbfgs failed to converge (status=1):\nSTOP: TOTAL NO. of ITERATIONS REACHED LIMIT.\n\nIncrease the number of iterations (max_iter) or scale the data as shown in:\n    https://scikit-learn.org/stable/modules/preprocessing.html\nPlease also refer to the documentation for alternative solver options:\n    https://scikit-learn.org/stable/modules/linear_model.html#logistic-regression\n  extra_warning_msg=_LOGISTIC_SOLVER_CONVERGENCE_MSG)\niter:13\nmiss:['ltv' 'PERFORM_CNS.SCORE.DESCRIPTION'\n 'DELINQUENT.ACCTS.IN.LAST.SIX.MONTHS' 'Salaried' 'Downpayment'\n 'NO.OF_INQUIRIES' 'VoterID_flag' 'PRI.OVERDUE.ACCTS' 'PRI.NO.OF.ACCTS'\n 'AVERAGE.ACCT.AGE' 'NEW.ACCTS.IN.LAST.SIX.MONTHS' 'PRI.ACTIVE.ACCTS'\n 'NEW.ACCTS.IN.LAST.SIX.MONTHS' 'PRI.ACTIVE.ACCTS'] 0.5824253144476922\nmiss 2\n/shared-libs/python3.7/py/lib/python3.7/site-packages/sklearn/linear_model/_logistic.py:765: ConvergenceWarning: lbfgs failed to converge (status=1):\nSTOP: TOTAL NO. of ITERATIONS REACHED LIMIT.\n\nIncrease the number of iterations (max_iter) or scale the data as shown in:\n    https://scikit-learn.org/stable/modules/preprocessing.html\nPlease also refer to the documentation for alternative solver options:\n    https://scikit-learn.org/stable/modules/linear_model.html#logistic-regression\n  extra_warning_msg=_LOGISTIC_SOLVER_CONVERGENCE_MSG)\n/shared-libs/python3.7/py/lib/python3.7/site-packages/sklearn/linear_model/_logistic.py:765: ConvergenceWarning: lbfgs failed to converge (status=1):\nSTOP: TOTAL NO. of ITERATIONS REACHED LIMIT.\n\nIncrease the number of iterations (max_iter) or scale the data as shown in:\n    https://scikit-learn.org/stable/modules/preprocessing.html\nPlease also refer to the documentation for alternative solver options:\n    https://scikit-learn.org/stable/modules/linear_model.html#logistic-regression\n  extra_warning_msg=_LOGISTIC_SOLVER_CONVERGENCE_MSG)\n/shared-libs/python3.7/py/lib/python3.7/site-packages/sklearn/linear_model/_logistic.py:765: ConvergenceWarning: lbfgs failed to converge (status=1):\nSTOP: TOTAL NO. of ITERATIONS REACHED LIMIT.\n\nIncrease the number of iterations (max_iter) or scale the data as shown in:\n    https://scikit-learn.org/stable/modules/preprocessing.html\nPlease also refer to the documentation for alternative solver options:\n    https://scikit-learn.org/stable/modules/linear_model.html#logistic-regression\n  extra_warning_msg=_LOGISTIC_SOLVER_CONVERGENCE_MSG)\n/shared-libs/python3.7/py/lib/python3.7/site-packages/sklearn/linear_model/_logistic.py:765: ConvergenceWarning: lbfgs failed to converge (status=1):\nSTOP: TOTAL NO. of ITERATIONS REACHED LIMIT.\n\nIncrease the number of iterations (max_iter) or scale the data as shown in:\n    https://scikit-learn.org/stable/modules/preprocessing.html\nPlease also refer to the documentation for alternative solver options:\n    https://scikit-learn.org/stable/modules/linear_model.html#logistic-regression\n  extra_warning_msg=_LOGISTIC_SOLVER_CONVERGENCE_MSG)\n/shared-libs/python3.7/py/lib/python3.7/site-packages/sklearn/linear_model/_logistic.py:765: ConvergenceWarning: lbfgs failed to converge (status=1):\nSTOP: TOTAL NO. of ITERATIONS REACHED LIMIT.\n\nIncrease the number of iterations (max_iter) or scale the data as shown in:\n    https://scikit-learn.org/stable/modules/preprocessing.html\nPlease also refer to the documentation for alternative solver options:\n    https://scikit-learn.org/stable/modules/linear_model.html#logistic-regression\n  extra_warning_msg=_LOGISTIC_SOLVER_CONVERGENCE_MSG)\n/shared-libs/python3.7/py/lib/python3.7/site-packages/sklearn/linear_model/_logistic.py:765: ConvergenceWarning: lbfgs failed to converge (status=1):\nSTOP: TOTAL NO. of ITERATIONS REACHED LIMIT.\n\nIncrease the number of iterations (max_iter) or scale the data as shown in:\n    https://scikit-learn.org/stable/modules/preprocessing.html\nPlease also refer to the documentation for alternative solver options:\n    https://scikit-learn.org/stable/modules/linear_model.html#logistic-regression\n  extra_warning_msg=_LOGISTIC_SOLVER_CONVERGENCE_MSG)\n/shared-libs/python3.7/py/lib/python3.7/site-packages/sklearn/linear_model/_logistic.py:765: ConvergenceWarning: lbfgs failed to converge (status=1):\nSTOP: TOTAL NO. of ITERATIONS REACHED LIMIT.\n\nIncrease the number of iterations (max_iter) or scale the data as shown in:\n    https://scikit-learn.org/stable/modules/preprocessing.html\nPlease also refer to the documentation for alternative solver options:\n    https://scikit-learn.org/stable/modules/linear_model.html#logistic-regression\n  extra_warning_msg=_LOGISTIC_SOLVER_CONVERGENCE_MSG)\n/shared-libs/python3.7/py/lib/python3.7/site-packages/sklearn/linear_model/_logistic.py:765: ConvergenceWarning: lbfgs failed to converge (status=1):\nSTOP: TOTAL NO. of ITERATIONS REACHED LIMIT.\n\nIncrease the number of iterations (max_iter) or scale the data as shown in:\n    https://scikit-learn.org/stable/modules/preprocessing.html\nPlease also refer to the documentation for alternative solver options:\n    https://scikit-learn.org/stable/modules/linear_model.html#logistic-regression\n  extra_warning_msg=_LOGISTIC_SOLVER_CONVERGENCE_MSG)\n/shared-libs/python3.7/py/lib/python3.7/site-packages/sklearn/linear_model/_logistic.py:765: ConvergenceWarning: lbfgs failed to converge (status=1):\nSTOP: TOTAL NO. of ITERATIONS REACHED LIMIT.\n\nIncrease the number of iterations (max_iter) or scale the data as shown in:\n    https://scikit-learn.org/stable/modules/preprocessing.html\nPlease also refer to the documentation for alternative solver options:\n    https://scikit-learn.org/stable/modules/linear_model.html#logistic-regression\n  extra_warning_msg=_LOGISTIC_SOLVER_CONVERGENCE_MSG)\n/shared-libs/python3.7/py/lib/python3.7/site-packages/sklearn/linear_model/_logistic.py:765: ConvergenceWarning: lbfgs failed to converge (status=1):\nSTOP: TOTAL NO. of ITERATIONS REACHED LIMIT.\n\nIncrease the number of iterations (max_iter) or scale the data as shown in:\n    https://scikit-learn.org/stable/modules/preprocessing.html\nPlease also refer to the documentation for alternative solver options:\n    https://scikit-learn.org/stable/modules/linear_model.html#logistic-regression\n  extra_warning_msg=_LOGISTIC_SOLVER_CONVERGENCE_MSG)\n/shared-libs/python3.7/py/lib/python3.7/site-packages/sklearn/linear_model/_logistic.py:765: ConvergenceWarning: lbfgs failed to converge (status=1):\nSTOP: TOTAL NO. of ITERATIONS REACHED LIMIT.\n\nIncrease the number of iterations (max_iter) or scale the data as shown in:\n    https://scikit-learn.org/stable/modules/preprocessing.html\nPlease also refer to the documentation for alternative solver options:\n    https://scikit-learn.org/stable/modules/linear_model.html#logistic-regression\n  extra_warning_msg=_LOGISTIC_SOLVER_CONVERGENCE_MSG)\niter:14\nmiss:['ltv' 'PERFORM_CNS.SCORE.DESCRIPTION'\n 'DELINQUENT.ACCTS.IN.LAST.SIX.MONTHS' 'Salaried' 'Downpayment'\n 'NO.OF_INQUIRIES' 'VoterID_flag' 'PRI.OVERDUE.ACCTS' 'PRI.NO.OF.ACCTS'\n 'AVERAGE.ACCT.AGE' 'NEW.ACCTS.IN.LAST.SIX.MONTHS' 'PRI.ACTIVE.ACCTS'\n 'NEW.ACCTS.IN.LAST.SIX.MONTHS' 'PRI.ACTIVE.ACCTS' 'CREDIT.HISTORY.LENGTH'] 0.5800259798179174\nmiss 3\n/shared-libs/python3.7/py/lib/python3.7/site-packages/sklearn/linear_model/_logistic.py:765: ConvergenceWarning: lbfgs failed to converge (status=1):\nSTOP: TOTAL NO. of ITERATIONS REACHED LIMIT.\n\nIncrease the number of iterations (max_iter) or scale the data as shown in:\n    https://scikit-learn.org/stable/modules/preprocessing.html\nPlease also refer to the documentation for alternative solver options:\n    https://scikit-learn.org/stable/modules/linear_model.html#logistic-regression\n  extra_warning_msg=_LOGISTIC_SOLVER_CONVERGENCE_MSG)\n",
     "output_type": "stream"
    }
   ]
  },
  {
   "cell_type": "code",
   "metadata": {
    "tags": [],
    "cell_id": "00004-5a7abc64-a8d9-4ff3-b03b-a35d3b62e197",
    "deepnote_to_be_reexecuted": false,
    "source_hash": "83cea3d8",
    "execution_start": 1622401516554,
    "execution_millis": 49,
    "deepnote_cell_type": "code"
   },
   "source": "X = train.drop('loan_default',1) \n# X=train[['MobileNo_Avl_Flag',\n#  'ltv',\n#  'PERFORM_CNS.SCORE.DESCRIPTION',\n#  'VoterID_flag',\n#  'PRI.OVERDUE.ACCTS',\n#  'NO.OF_INQUIRIES',\n#  'PRI.NO.OF.ACCTS',\n#  'Age',\n#  'Self_employed',\n#  'PRI.CURRENT.BALANCE',\n#  'PRIMARY.INSTAL.AMT',\n#  'DELINQUENT.ACCTS.IN.LAST.SIX.MONTHS',\n#  'Downpayment',\n#  'PRI.ACTIVE.ACCTS',\n#  'PRI.DISBURSED.AMOUNT',\n#  'SEC.CURRENT.BALANCE',\n#  'AVERAGE.ACCT.AGE',\n#  'CREDIT.HISTORY.LENGTH',\n#  'PRI.SANCTIONED.AMOUNT',\n#  'Aadhar_flag',\n#  'Driving_flag',\n#  'Passport_flag',\n#  'PAN_flag']]\n# X = train[['ltv','PERFORM_CNS.SCORE.DESCRIPTION',\n#  'DELINQUENT.ACCTS.IN.LAST.SIX.MONTHS', 'Salaried', 'Downpayment',\n#  'NO.OF_INQUIRIES', 'VoterID_flag', 'PRI.OVERDUE.ACCTS', 'PRI.NO.OF.ACCTS',\n#  'AVERAGE.ACCT.AGE', 'NEW.ACCTS.IN.LAST.SIX.MONTHS', 'PRI.ACTIVE.ACCTS',\n#  'NEW.ACCTS.IN.LAST.SIX.MONTHS', 'PRI.ACTIVE.ACCTS', 'CREDIT.HISTORY.LENGTH']]\ny = train.loan_default\nX_train, X_vali, y_train, y_vali = train_test_split(X, y, test_size=0.3,train_size=0.7,random_state=0)",
   "execution_count": null,
   "outputs": []
  },
  {
   "cell_type": "code",
   "metadata": {
    "tags": [],
    "cell_id": "00011-0cc22c6a-a0ba-4fb0-a0e3-cc752f3a4feb",
    "deepnote_to_be_reexecuted": false,
    "source_hash": "442baab5",
    "execution_start": 1622401519114,
    "execution_millis": 29495,
    "deepnote_cell_type": "code"
   },
   "source": "os = SMOTE(random_state=0) #   We are using SMOTE as the function for oversampling\nos_data_train,os_data_test= os.fit_resample(X_train,y_train.ravel())\n# os_data_train = pd.DataFrame(data=os_data_train,columns = [col for col in X_train.columns])\n# os_data_test= pd.DataFrame(data=os_data_test,columns=[\"loan_default\"])",
   "execution_count": null,
   "outputs": []
  },
  {
   "cell_type": "code",
   "metadata": {
    "tags": [],
    "cell_id": "00012-5f8fee85-d7b1-47d5-877d-d1bb2d7cf1b0",
    "deepnote_to_be_reexecuted": false,
    "source_hash": "aa4cc837",
    "execution_start": 1622401989243,
    "execution_millis": 13428,
    "deepnote_cell_type": "code"
   },
   "source": "lr=LogisticRegression(class_weight='balanced').fit(os_data_train,os_data_test)\ny_vali_pred=lr.predict(X_vali)\nconfusion = metrics.confusion_matrix(y_vali, y_vali_pred)\nprint('----confusion matrix----')\nprint(confusion)\nprint('Accuracy_Score:', metrics.accuracy_score(y_vali, y_vali_pred))\n# print('Sensitivity or Recall:', metrics.recall_score(y_vali, y_vali_pred))\nprint(classification_report(y_vali, y_vali_pred))",
   "execution_count": null,
   "outputs": [
    {
     "name": "stderr",
     "text": "/shared-libs/python3.7/py/lib/python3.7/site-packages/sklearn/linear_model/_logistic.py:765: ConvergenceWarning: lbfgs failed to converge (status=1):\nSTOP: TOTAL NO. of ITERATIONS REACHED LIMIT.\n\nIncrease the number of iterations (max_iter) or scale the data as shown in:\n    https://scikit-learn.org/stable/modules/preprocessing.html\nPlease also refer to the documentation for alternative solver options:\n    https://scikit-learn.org/stable/modules/linear_model.html#logistic-regression\n  extra_warning_msg=_LOGISTIC_SOLVER_CONVERGENCE_MSG)\n----confusion matrix----\n[[29346 25631]\n [ 5715  9252]]\nAccuracy_Score: 0.5518414731785428\n              precision    recall  f1-score   support\n\n           0       0.84      0.53      0.65     54977\n           1       0.27      0.62      0.37     14967\n\n    accuracy                           0.55     69944\n   macro avg       0.55      0.58      0.51     69944\nweighted avg       0.71      0.55      0.59     69944\n\n",
     "output_type": "stream"
    }
   ]
  },
  {
   "cell_type": "code",
   "metadata": {
    "tags": [],
    "cell_id": "00005-d1b68459-e8c8-41af-a85c-eb5aa9fdf5ea",
    "deepnote_to_be_reexecuted": false,
    "source_hash": "63093255",
    "execution_start": 1622402028570,
    "execution_millis": 7387,
    "deepnote_cell_type": "code"
   },
   "source": "lr=LogisticRegression(class_weight='balanced').fit(X_train,y_train)\ny_vali_pred=lr.predict(X_vali)\nconfusion = metrics.confusion_matrix(y_vali, y_vali_pred)\nprint('----confusion matrix----')\nprint(confusion)\nprint('Accuracy_Score:', metrics.accuracy_score(y_vali, y_vali_pred))\n# print('Sensitivity or Recall:', metrics.recall_score(y_vali, y_vali_pred))\nprint(classification_report(y_vali, y_vali_pred))\n",
   "execution_count": null,
   "outputs": [
    {
     "name": "stderr",
     "text": "/shared-libs/python3.7/py/lib/python3.7/site-packages/sklearn/linear_model/_logistic.py:765: ConvergenceWarning: lbfgs failed to converge (status=1):\nSTOP: TOTAL NO. of ITERATIONS REACHED LIMIT.\n\nIncrease the number of iterations (max_iter) or scale the data as shown in:\n    https://scikit-learn.org/stable/modules/preprocessing.html\nPlease also refer to the documentation for alternative solver options:\n    https://scikit-learn.org/stable/modules/linear_model.html#logistic-regression\n  extra_warning_msg=_LOGISTIC_SOLVER_CONVERGENCE_MSG)\n----confusion matrix----\n[[29283 25694]\n [ 5493  9474]]\nAccuracy_Score: 0.5541147203477067\n              precision    recall  f1-score   support\n\n           0       0.84      0.53      0.65     54977\n           1       0.27      0.63      0.38     14967\n\n    accuracy                           0.55     69944\n   macro avg       0.56      0.58      0.52     69944\nweighted avg       0.72      0.55      0.59     69944\n\n",
     "output_type": "stream"
    }
   ]
  },
  {
   "cell_type": "code",
   "metadata": {
    "tags": [],
    "cell_id": "00006-3377f095-69bc-4ec8-a3a8-0182545f57c8",
    "deepnote_to_be_reexecuted": true,
    "source_hash": "274d7534",
    "execution_start": 1622322512686,
    "execution_millis": 6,
    "deepnote_cell_type": "code"
   },
   "source": "# get importance\nimportance = lr.coef_[0] # LR feature importance\n# summarize feature importance\nfor i, v in enumerate(importance):\n        print('Feature: {}, Score:{}'.format (i, v))",
   "execution_count": null,
   "outputs": [
    {
     "name": "stdout",
     "text": "Feature: 0, Score:0.011107369388343613\nFeature: 1, Score:1.1596181568684492\nFeature: 2, Score:-0.03462352555779366\nFeature: 3, Score:0.20405661554221646\nFeature: 4, Score:0.6741743010687916\nFeature: 5, Score:0.26543166433979276\nFeature: 6, Score:-0.047355497938950095\nFeature: 7, Score:-0.011039854731400376\nFeature: 8, Score:0.1630643002321085\nFeature: 9, Score:-0.26627653134218726\nFeature: 10, Score:0.012570367827500921\nFeature: 11, Score:0.4483772155589209\nFeature: 12, Score:-0.0955747458731183\nFeature: 13, Score:-0.24495020296986642\nFeature: 14, Score:0.010286086839209502\nFeature: 15, Score:0.039540761641486906\nFeature: 16, Score:0.2156070219949304\nFeature: 17, Score:-0.23673512822648354\nFeature: 18, Score:0.0011051432469229069\nFeature: 19, Score:-0.11967735083790917\nFeature: 20, Score:-0.15404475456751232\nFeature: 21, Score:-0.0658039993660597\nFeature: 22, Score:-0.0587505935801105\n",
     "output_type": "stream"
    }
   ]
  },
  {
   "cell_type": "code",
   "metadata": {
    "tags": [],
    "cell_id": "00008-b728b4c3-b7f9-43ec-bc77-735b3256848d",
    "deepnote_to_be_reexecuted": true,
    "source_hash": "991e78b6",
    "execution_start": 1622322515239,
    "execution_millis": 295,
    "deepnote_cell_type": "code"
   },
   "source": "sortLR= np.abs(importance).argsort()\nplt.figure(figsize=(4,6))\nplt.barh(X.columns[sortLR], importance[sortLR])\nplt.xlabel('Feature importance')\nplt.ylabel('Features')\n#plt.savefig('LR_importance.png',dpi=150,bbox_inches='tight')",
   "execution_count": null,
   "outputs": [
    {
     "output_type": "execute_result",
     "execution_count": 53,
     "data": {
      "text/plain": "Text(0, 0.5, 'Features')"
     },
     "metadata": {}
    },
    {
     "data": {
      "text/plain": "<Figure size 288x432 with 1 Axes>",
      "image/png": "[encoded data removed]"
     },
     "metadata": {
      "needs_background": "light",
      "image/png": {
       "width": 464,
       "height": 371
      }
     },
     "output_type": "display_data"
    }
   ]
  },
  {
   "cell_type": "code",
   "metadata": {
    "tags": [],
    "cell_id": "00015-ba858c3d-7a6f-4e96-8d10-7147e2a8a7ad",
    "deepnote_to_be_reexecuted": true,
    "source_hash": "ccf4e44d",
    "execution_start": 1622292385840,
    "execution_millis": 9,
    "deepnote_cell_type": "code"
   },
   "source": "X.columns[sortLR][-15:]",
   "execution_count": null,
   "outputs": [
    {
     "output_type": "execute_result",
     "execution_count": 16,
     "data": {
      "text/plain": "Index(['NEW.ACCTS.IN.LAST.SIX.MONTHS', 'AVERAGE.ACCT.AGE',\n       'PRI.DISBURSED.AMOUNT', 'CREDIT.HISTORY.LENGTH', 'PRI.ACTIVE.ACCTS',\n       'Aadhar_flag', 'Self_employed', 'DELINQUENT.ACCTS.IN.LAST.SIX.MONTHS',\n       'VoterID_flag', 'PRI.NO.OF.ACCTS', 'PRI.OVERDUE.ACCTS', 'Downpayment',\n       'NO.OF_INQUIRIES', 'PERFORM_CNS.SCORE.DESCRIPTION', 'ltv'],\n      dtype='object')"
     },
     "metadata": {}
    }
   ]
  },
  {
   "cell_type": "code",
   "metadata": {
    "tags": [],
    "cell_id": "00016-d189432a-6371-4014-af04-31c9627de2a2",
    "deepnote_to_be_reexecuted": true,
    "source_hash": "5a54eb10",
    "execution_start": 1622292385845,
    "execution_millis": 6142,
    "deepnote_cell_type": "code"
   },
   "source": "!pip install statsmodels==0.12.2",
   "execution_count": null,
   "outputs": [
    {
     "name": "stdout",
     "text": "Collecting statsmodels==0.12.2\n  Downloading statsmodels-0.12.2-cp37-cp37m-manylinux1_x86_64.whl (9.5 MB)\n\u001b[K     |████████████████████████████████| 9.5 MB 30.8 MB/s \n\u001b[?25hCollecting patsy>=0.5\n  Downloading patsy-0.5.1-py2.py3-none-any.whl (231 kB)\n\u001b[K     |████████████████████████████████| 231 kB 81.4 MB/s \n\u001b[?25hRequirement already satisfied: pandas>=0.21 in /shared-libs/python3.7/py/lib/python3.7/site-packages (from statsmodels==0.12.2) (1.2.4)\nRequirement already satisfied: numpy>=1.15 in /shared-libs/python3.7/py/lib/python3.7/site-packages (from statsmodels==0.12.2) (1.19.5)\nRequirement already satisfied: scipy>=1.1 in /shared-libs/python3.7/py/lib/python3.7/site-packages (from statsmodels==0.12.2) (1.6.3)\nRequirement already satisfied: pytz>=2017.3 in /shared-libs/python3.7/py/lib/python3.7/site-packages (from pandas>=0.21->statsmodels==0.12.2) (2021.1)\nRequirement already satisfied: python-dateutil>=2.7.3 in /shared-libs/python3.7/py-core/lib/python3.7/site-packages (from pandas>=0.21->statsmodels==0.12.2) (2.8.1)\nRequirement already satisfied: six in /shared-libs/python3.7/py-core/lib/python3.7/site-packages (from patsy>=0.5->statsmodels==0.12.2) (1.16.0)\nInstalling collected packages: patsy, statsmodels\nSuccessfully installed patsy-0.5.1 statsmodels-0.12.2\n",
     "output_type": "stream"
    }
   ]
  },
  {
   "cell_type": "code",
   "metadata": {
    "tags": [],
    "cell_id": "00016-02174212-6261-4cc2-b193-b838e0c324b5",
    "deepnote_to_be_reexecuted": true,
    "source_hash": "f9fcc79f",
    "execution_start": 1622322290695,
    "execution_millis": 42,
    "deepnote_cell_type": "code"
   },
   "source": "from sklearn.datasets import load_boston\nimport statsmodels.api as sm\n\n\n\nX = train.drop('loan_default',1) \ny = train.loan_default\nX_train, X_vali, y_train, y_vali = train_test_split(X, y, test_size=0.3,train_size=0.7,random_state=0)",
   "execution_count": null,
   "outputs": []
  },
  {
   "cell_type": "code",
   "metadata": {
    "tags": [],
    "cell_id": "00019-8d659c92-4d30-471b-8400-d2f71463ebe0",
    "deepnote_to_be_reexecuted": true,
    "source_hash": "32ca2338",
    "execution_start": 1622322287559,
    "execution_millis": 3,
    "deepnote_cell_type": "code"
   },
   "source": "def forward_regression(X, y,\n                       threshold_in,\n                       verbose=False):\n    initial_list = []\n    included = list(initial_list)\n    while True:\n        changed=False\n        excluded = list(set(X.columns)-set(included))\n        new_pval = pd.Series(index=excluded)\n        for new_column in excluded:\n            model = sm.OLS(y, sm.add_constant(pd.DataFrame(X[included+[new_column]]))).fit()\n            new_pval[new_column] = model.pvalues[new_column]\n        best_pval = new_pval.min()\n        if best_pval < threshold_in:\n            best_feature = new_pval.idxmin()\n            included.append(best_feature)\n            changed=True\n            if verbose:\n                print('Add  {:30} with p-value {:.6}'.format(best_feature, best_pval))\n\n        if not changed:\n            break\n\n    return included",
   "execution_count": null,
   "outputs": []
  },
  {
   "cell_type": "code",
   "metadata": {
    "tags": [],
    "cell_id": "00019-0ae3db9e-16fb-40fd-be5e-87d94333301a",
    "deepnote_to_be_reexecuted": true,
    "source_hash": "b2696ff6",
    "execution_start": 1622292392328,
    "execution_millis": 95,
    "deepnote_cell_type": "code"
   },
   "source": "X",
   "execution_count": null,
   "outputs": [
    {
     "output_type": "execute_result",
     "execution_count": 20,
     "data": {
      "application/vnd.deepnote.dataframe.v2+json": {
       "row_count": 101218,
       "column_count": 36,
       "columns": [
        {
         "name": "ltv",
         "dtype": "float64"
        },
        {
         "name": "Age",
         "dtype": "int64"
        },
        {
         "name": "MobileNo_Avl_Flag",
         "dtype": "int64"
        },
        {
         "name": "Aadhar_flag",
         "dtype": "int64"
        },
        {
         "name": "PAN_flag",
         "dtype": "int64"
        },
        {
         "name": "VoterID_flag",
         "dtype": "int64"
        },
        {
         "name": "Driving_flag",
         "dtype": "int64"
        },
        {
         "name": "Passport_flag",
         "dtype": "int64"
        },
        {
         "name": "PERFORM_CNS.SCORE",
         "dtype": "int64"
        },
        {
         "name": "PERFORM_CNS.SCORE.DESCRIPTION",
         "dtype": "int64"
        },
        {
         "name": "PRI.NO.OF.ACCTS",
         "dtype": "float64"
        },
        {
         "name": "PRI.ACTIVE.ACCTS",
         "dtype": "float64"
        },
        {
         "name": "PRI.OVERDUE.ACCTS",
         "dtype": "float64"
        },
        {
         "name": "PRI.CURRENT.BALANCE",
         "dtype": "float64"
        },
        {
         "name": "PRI.SANCTIONED.AMOUNT",
         "dtype": "float64"
        },
        {
         "name": "PRI.DISBURSED.AMOUNT",
         "dtype": "float64"
        },
        {
         "name": "SEC.NO.OF.ACCTS",
         "dtype": "float64"
        },
        {
         "name": "SEC.ACTIVE.ACCTS",
         "dtype": "float64"
        },
        {
         "name": "SEC.OVERDUE.ACCTS",
         "dtype": "float64"
        },
        {
         "name": "SEC.CURRENT.BALANCE",
         "dtype": "float64"
        },
        {
         "name": "SEC.SANCTIONED.AMOUNT",
         "dtype": "float64"
        },
        {
         "name": "SEC.DISBURSED.AMOUNT",
         "dtype": "float64"
        },
        {
         "name": "PRIMARY.INSTAL.AMT",
         "dtype": "float64"
        },
        {
         "name": "SEC.INSTAL.AMT",
         "dtype": "float64"
        },
        {
         "name": "NEW.ACCTS.IN.LAST.SIX.MONTHS",
         "dtype": "float64"
        },
        {
         "name": "DELINQUENT.ACCTS.IN.LAST.SIX.MONTHS",
         "dtype": "float64"
        },
        {
         "name": "AVERAGE.ACCT.AGE",
         "dtype": "float64"
        },
        {
         "name": "CREDIT.HISTORY.LENGTH",
         "dtype": "float64"
        },
        {
         "name": "NO.OF_INQUIRIES",
         "dtype": "float64"
        },
        {
         "name": "Salaried",
         "dtype": "float64"
        },
        {
         "name": "Self_employed",
         "dtype": "float64"
        },
        {
         "name": "Unknown_employ",
         "dtype": "float64"
        },
        {
         "name": "DisbursalMonth_8",
         "dtype": "int64"
        },
        {
         "name": "DisbursalMonth_9",
         "dtype": "int64"
        },
        {
         "name": "DisbursalMonth_10",
         "dtype": "int64"
        },
        {
         "name": "Downpayment",
         "dtype": "float64"
        },
        {
         "name": "_deepnote_index_column",
         "dtype": "int64"
        }
       ],
       "rows_top": [
        {
         "ltv": 4.41267707387264,
         "Age": 51,
         "MobileNo_Avl_Flag": 1,
         "Aadhar_flag": 1,
         "PAN_flag": 0,
         "VoterID_flag": 0,
         "Driving_flag": 0,
         "Passport_flag": 0,
         "PERFORM_CNS.SCORE": 738,
         "PERFORM_CNS.SCORE.DESCRIPTION": 5,
         "PRI.NO.OF.ACCTS": 3.1354942159291497,
         "PRI.ACTIVE.ACCTS": 1.791759469228055,
         "PRI.OVERDUE.ACCTS": 0,
         "PRI.CURRENT.BALANCE": 11.172053564004328,
         "PRI.SANCTIONED.AMOUNT": 12.111355289970827,
         "PRI.DISBURSED.AMOUNT": 12.111355289970827,
         "SEC.NO.OF.ACCTS": 0.6931471805599453,
         "SEC.ACTIVE.ACCTS": 0.6931471805599453,
         "SEC.OVERDUE.ACCTS": 0,
         "SEC.CURRENT.BALANCE": 10.544051132937742,
         "SEC.SANCTIONED.AMOUNT": 11.561725152903833,
         "SEC.DISBURSED.AMOUNT": 11.561725152903833,
         "PRIMARY.INSTAL.AMT": 10.464045753403807,
         "SEC.INSTAL.AMT": 0,
         "NEW.ACCTS.IN.LAST.SIX.MONTHS": 0.6931471805599453,
         "DELINQUENT.ACCTS.IN.LAST.SIX.MONTHS": 0,
         "AVERAGE.ACCT.AGE": 2.3978952727983707,
         "CREDIT.HISTORY.LENGTH": 3.1780538303479458,
         "NO.OF_INQUIRIES": 0.6931471805599453,
         "Salaried": 1,
         "Self_employed": 0,
         "Unknown_employ": 0,
         "DisbursalMonth_8": 0,
         "DisbursalMonth_9": 0,
         "DisbursalMonth_10": 0,
         "Downpayment": 9.579487217410236,
         "_deepnote_index_column": 80195
        },
        {
         "ltv": 4.448633328167864,
         "Age": 58,
         "MobileNo_Avl_Flag": 1,
         "Aadhar_flag": 1,
         "PAN_flag": 0,
         "VoterID_flag": 0,
         "Driving_flag": 0,
         "Passport_flag": 0,
         "PERFORM_CNS.SCORE": 0,
         "PERFORM_CNS.SCORE.DESCRIPTION": 0,
         "PRI.NO.OF.ACCTS": 0,
         "PRI.ACTIVE.ACCTS": 0,
         "PRI.OVERDUE.ACCTS": 0,
         "PRI.CURRENT.BALANCE": 0,
         "PRI.SANCTIONED.AMOUNT": 0,
         "PRI.DISBURSED.AMOUNT": 0,
         "SEC.NO.OF.ACCTS": 0,
         "SEC.ACTIVE.ACCTS": 0,
         "SEC.OVERDUE.ACCTS": 0,
         "SEC.CURRENT.BALANCE": 0,
         "SEC.SANCTIONED.AMOUNT": 0,
         "SEC.DISBURSED.AMOUNT": 0,
         "PRIMARY.INSTAL.AMT": 0,
         "SEC.INSTAL.AMT": 0,
         "NEW.ACCTS.IN.LAST.SIX.MONTHS": 0,
         "DELINQUENT.ACCTS.IN.LAST.SIX.MONTHS": 0,
         "AVERAGE.ACCT.AGE": 0,
         "CREDIT.HISTORY.LENGTH": 0,
         "NO.OF_INQUIRIES": 0,
         "Salaried": 0,
         "Self_employed": 1,
         "Unknown_employ": 0,
         "DisbursalMonth_8": 0,
         "DisbursalMonth_9": 0,
         "DisbursalMonth_10": 0,
         "Downpayment": 9.280798835624744,
         "_deepnote_index_column": 96173
        },
        {
         "ltv": 4.510089979737821,
         "Age": 32,
         "MobileNo_Avl_Flag": 1,
         "Aadhar_flag": 1,
         "PAN_flag": 0,
         "VoterID_flag": 0,
         "Driving_flag": 0,
         "Passport_flag": 0,
         "PERFORM_CNS.SCORE": 300,
         "PERFORM_CNS.SCORE.DESCRIPTION": 1,
         "PRI.NO.OF.ACCTS": 2.70805020110221,
         "PRI.ACTIVE.ACCTS": 1.3862943611198906,
         "PRI.OVERDUE.ACCTS": 0.6931471805599453,
         "PRI.CURRENT.BALANCE": 10.891056542410913,
         "PRI.SANCTIONED.AMOUNT": 10.993866036277135,
         "PRI.DISBURSED.AMOUNT": 10.993866036277135,
         "SEC.NO.OF.ACCTS": 0,
         "SEC.ACTIVE.ACCTS": 0,
         "SEC.OVERDUE.ACCTS": 0,
         "SEC.CURRENT.BALANCE": 0,
         "SEC.SANCTIONED.AMOUNT": 0,
         "SEC.DISBURSED.AMOUNT": 0,
         "PRIMARY.INSTAL.AMT": 10.547654550874356,
         "SEC.INSTAL.AMT": 0,
         "NEW.ACCTS.IN.LAST.SIX.MONTHS": 1.0986122886681096,
         "DELINQUENT.ACCTS.IN.LAST.SIX.MONTHS": 0,
         "AVERAGE.ACCT.AGE": 2.639057329615259,
         "CREDIT.HISTORY.LENGTH": 3.258096538021482,
         "NO.OF_INQUIRIES": 1.0986122886681096,
         "Salaried": 1,
         "Self_employed": 0,
         "Unknown_employ": 0,
         "DisbursalMonth_8": 0,
         "DisbursalMonth_9": 0,
         "DisbursalMonth_10": 0,
         "Downpayment": 9.032767522204432,
         "_deepnote_index_column": 4376
        },
        {
         "ltv": 4.237723145067448,
         "Age": 42,
         "MobileNo_Avl_Flag": 1,
         "Aadhar_flag": 1,
         "PAN_flag": 0,
         "VoterID_flag": 0,
         "Driving_flag": 0,
         "Passport_flag": 0,
         "PERFORM_CNS.SCORE": 0,
         "PERFORM_CNS.SCORE.DESCRIPTION": 0,
         "PRI.NO.OF.ACCTS": 0,
         "PRI.ACTIVE.ACCTS": 0,
         "PRI.OVERDUE.ACCTS": 0,
         "PRI.CURRENT.BALANCE": 0,
         "PRI.SANCTIONED.AMOUNT": 0,
         "PRI.DISBURSED.AMOUNT": 0,
         "SEC.NO.OF.ACCTS": 0,
         "SEC.ACTIVE.ACCTS": 0,
         "SEC.OVERDUE.ACCTS": 0,
         "SEC.CURRENT.BALANCE": 0,
         "SEC.SANCTIONED.AMOUNT": 0,
         "SEC.DISBURSED.AMOUNT": 0,
         "PRIMARY.INSTAL.AMT": 0,
         "SEC.INSTAL.AMT": 0,
         "NEW.ACCTS.IN.LAST.SIX.MONTHS": 0,
         "DELINQUENT.ACCTS.IN.LAST.SIX.MONTHS": 0,
         "AVERAGE.ACCT.AGE": 0,
         "CREDIT.HISTORY.LENGTH": 0,
         "NO.OF_INQUIRIES": 0,
         "Salaried": 0,
         "Self_employed": 1,
         "Unknown_employ": 0,
         "DisbursalMonth_8": 0,
         "DisbursalMonth_9": 0,
         "DisbursalMonth_10": 0,
         "Downpayment": 10.417029483796346,
         "_deepnote_index_column": 9191
        },
        {
         "ltv": 4.227709274289524,
         "Age": 21,
         "MobileNo_Avl_Flag": 1,
         "Aadhar_flag": 1,
         "PAN_flag": 0,
         "VoterID_flag": 0,
         "Driving_flag": 0,
         "Passport_flag": 0,
         "PERFORM_CNS.SCORE": 0,
         "PERFORM_CNS.SCORE.DESCRIPTION": 0,
         "PRI.NO.OF.ACCTS": 0,
         "PRI.ACTIVE.ACCTS": 0,
         "PRI.OVERDUE.ACCTS": 0,
         "PRI.CURRENT.BALANCE": 0,
         "PRI.SANCTIONED.AMOUNT": 0,
         "PRI.DISBURSED.AMOUNT": 0,
         "SEC.NO.OF.ACCTS": 0,
         "SEC.ACTIVE.ACCTS": 0,
         "SEC.OVERDUE.ACCTS": 0,
         "SEC.CURRENT.BALANCE": 0,
         "SEC.SANCTIONED.AMOUNT": 0,
         "SEC.DISBURSED.AMOUNT": 0,
         "PRIMARY.INSTAL.AMT": 0,
         "SEC.INSTAL.AMT": 0,
         "NEW.ACCTS.IN.LAST.SIX.MONTHS": 0,
         "DELINQUENT.ACCTS.IN.LAST.SIX.MONTHS": 0,
         "AVERAGE.ACCT.AGE": 0,
         "CREDIT.HISTORY.LENGTH": 0,
         "NO.OF_INQUIRIES": 0,
         "Salaried": 0,
         "Self_employed": 0,
         "Unknown_employ": 1,
         "DisbursalMonth_8": 0,
         "DisbursalMonth_9": 0,
         "DisbursalMonth_10": 0,
         "Downpayment": 10.114679972730583,
         "_deepnote_index_column": 18205
        },
        {
         "ltv": 4.102643365036796,
         "Age": 36,
         "MobileNo_Avl_Flag": 1,
         "Aadhar_flag": 0,
         "PAN_flag": 1,
         "VoterID_flag": 1,
         "Driving_flag": 0,
         "Passport_flag": 0,
         "PERFORM_CNS.SCORE": 0,
         "PERFORM_CNS.SCORE.DESCRIPTION": 0,
         "PRI.NO.OF.ACCTS": 0,
         "PRI.ACTIVE.ACCTS": 0,
         "PRI.OVERDUE.ACCTS": 0,
         "PRI.CURRENT.BALANCE": 0,
         "PRI.SANCTIONED.AMOUNT": 0,
         "PRI.DISBURSED.AMOUNT": 0,
         "SEC.NO.OF.ACCTS": 0,
         "SEC.ACTIVE.ACCTS": 0,
         "SEC.OVERDUE.ACCTS": 0,
         "SEC.CURRENT.BALANCE": 0,
         "SEC.SANCTIONED.AMOUNT": 0,
         "SEC.DISBURSED.AMOUNT": 0,
         "PRIMARY.INSTAL.AMT": 0,
         "SEC.INSTAL.AMT": 0,
         "NEW.ACCTS.IN.LAST.SIX.MONTHS": 0,
         "DELINQUENT.ACCTS.IN.LAST.SIX.MONTHS": 0,
         "AVERAGE.ACCT.AGE": 0,
         "CREDIT.HISTORY.LENGTH": 0,
         "NO.OF_INQUIRIES": 0,
         "Salaried": 0,
         "Self_employed": 1,
         "Unknown_employ": 0,
         "DisbursalMonth_8": 0,
         "DisbursalMonth_9": 0,
         "DisbursalMonth_10": 0,
         "Downpayment": 10.426913458277857,
         "_deepnote_index_column": 10247
        },
        {
         "ltv": 4.45295097301058,
         "Age": 49,
         "MobileNo_Avl_Flag": 1,
         "Aadhar_flag": 1,
         "PAN_flag": 0,
         "VoterID_flag": 0,
         "Driving_flag": 0,
         "Passport_flag": 0,
         "PERFORM_CNS.SCORE": 0,
         "PERFORM_CNS.SCORE.DESCRIPTION": 0,
         "PRI.NO.OF.ACCTS": 0,
         "PRI.ACTIVE.ACCTS": 0,
         "PRI.OVERDUE.ACCTS": 0,
         "PRI.CURRENT.BALANCE": 0,
         "PRI.SANCTIONED.AMOUNT": 0,
         "PRI.DISBURSED.AMOUNT": 0,
         "SEC.NO.OF.ACCTS": 0,
         "SEC.ACTIVE.ACCTS": 0,
         "SEC.OVERDUE.ACCTS": 0,
         "SEC.CURRENT.BALANCE": 0,
         "SEC.SANCTIONED.AMOUNT": 0,
         "SEC.DISBURSED.AMOUNT": 0,
         "PRIMARY.INSTAL.AMT": 0,
         "SEC.INSTAL.AMT": 0,
         "NEW.ACCTS.IN.LAST.SIX.MONTHS": 0,
         "DELINQUENT.ACCTS.IN.LAST.SIX.MONTHS": 0,
         "AVERAGE.ACCT.AGE": 0,
         "CREDIT.HISTORY.LENGTH": 0,
         "NO.OF_INQUIRIES": 0,
         "Salaried": 0,
         "Self_employed": 1,
         "Unknown_employ": 0,
         "DisbursalMonth_8": 0,
         "DisbursalMonth_9": 0,
         "DisbursalMonth_10": 0,
         "Downpayment": 9.566895308714338,
         "_deepnote_index_column": 14620
        },
        {
         "ltv": 4.216562194946349,
         "Age": 45,
         "MobileNo_Avl_Flag": 1,
         "Aadhar_flag": 1,
         "PAN_flag": 0,
         "VoterID_flag": 0,
         "Driving_flag": 0,
         "Passport_flag": 0,
         "PERFORM_CNS.SCORE": 0,
         "PERFORM_CNS.SCORE.DESCRIPTION": 0,
         "PRI.NO.OF.ACCTS": 0,
         "PRI.ACTIVE.ACCTS": 0,
         "PRI.OVERDUE.ACCTS": 0,
         "PRI.CURRENT.BALANCE": 0,
         "PRI.SANCTIONED.AMOUNT": 0,
         "PRI.DISBURSED.AMOUNT": 0,
         "SEC.NO.OF.ACCTS": 0,
         "SEC.ACTIVE.ACCTS": 0,
         "SEC.OVERDUE.ACCTS": 0,
         "SEC.CURRENT.BALANCE": 0,
         "SEC.SANCTIONED.AMOUNT": 0,
         "SEC.DISBURSED.AMOUNT": 0,
         "PRIMARY.INSTAL.AMT": 0,
         "SEC.INSTAL.AMT": 0,
         "NEW.ACCTS.IN.LAST.SIX.MONTHS": 0,
         "DELINQUENT.ACCTS.IN.LAST.SIX.MONTHS": 0,
         "AVERAGE.ACCT.AGE": 0,
         "CREDIT.HISTORY.LENGTH": 0,
         "NO.OF_INQUIRIES": 0,
         "Salaried": 0,
         "Self_employed": 1,
         "Unknown_employ": 0,
         "DisbursalMonth_8": 0,
         "DisbursalMonth_9": 0,
         "DisbursalMonth_10": 0,
         "Downpayment": 10.327479965258176,
         "_deepnote_index_column": 84315
        },
        {
         "ltv": 4.180522258463153,
         "Age": 52,
         "MobileNo_Avl_Flag": 1,
         "Aadhar_flag": 1,
         "PAN_flag": 0,
         "VoterID_flag": 0,
         "Driving_flag": 0,
         "Passport_flag": 0,
         "PERFORM_CNS.SCORE": 0,
         "PERFORM_CNS.SCORE.DESCRIPTION": 0,
         "PRI.NO.OF.ACCTS": 0,
         "PRI.ACTIVE.ACCTS": 0,
         "PRI.OVERDUE.ACCTS": 0,
         "PRI.CURRENT.BALANCE": 0,
         "PRI.SANCTIONED.AMOUNT": 0,
         "PRI.DISBURSED.AMOUNT": 0,
         "SEC.NO.OF.ACCTS": 0,
         "SEC.ACTIVE.ACCTS": 0,
         "SEC.OVERDUE.ACCTS": 0,
         "SEC.CURRENT.BALANCE": 0,
         "SEC.SANCTIONED.AMOUNT": 0,
         "SEC.DISBURSED.AMOUNT": 0,
         "PRIMARY.INSTAL.AMT": 0,
         "SEC.INSTAL.AMT": 0,
         "NEW.ACCTS.IN.LAST.SIX.MONTHS": 0,
         "DELINQUENT.ACCTS.IN.LAST.SIX.MONTHS": 0,
         "AVERAGE.ACCT.AGE": 0,
         "CREDIT.HISTORY.LENGTH": 0,
         "NO.OF_INQUIRIES": 0,
         "Salaried": 0,
         "Self_employed": 1,
         "Unknown_employ": 0,
         "DisbursalMonth_8": 0,
         "DisbursalMonth_9": 0,
         "DisbursalMonth_10": 0,
         "Downpayment": 10.004282662571022,
         "_deepnote_index_column": 49623
        },
        {
         "ltv": 4.495801648932726,
         "Age": 34,
         "MobileNo_Avl_Flag": 1,
         "Aadhar_flag": 1,
         "PAN_flag": 0,
         "VoterID_flag": 0,
         "Driving_flag": 0,
         "Passport_flag": 0,
         "PERFORM_CNS.SCORE": 0,
         "PERFORM_CNS.SCORE.DESCRIPTION": 0,
         "PRI.NO.OF.ACCTS": 0,
         "PRI.ACTIVE.ACCTS": 0,
         "PRI.OVERDUE.ACCTS": 0,
         "PRI.CURRENT.BALANCE": 0,
         "PRI.SANCTIONED.AMOUNT": 0,
         "PRI.DISBURSED.AMOUNT": 0,
         "SEC.NO.OF.ACCTS": 0,
         "SEC.ACTIVE.ACCTS": 0,
         "SEC.OVERDUE.ACCTS": 0,
         "SEC.CURRENT.BALANCE": 0,
         "SEC.SANCTIONED.AMOUNT": 0,
         "SEC.DISBURSED.AMOUNT": 0,
         "PRIMARY.INSTAL.AMT": 0,
         "SEC.INSTAL.AMT": 0,
         "NEW.ACCTS.IN.LAST.SIX.MONTHS": 0,
         "DELINQUENT.ACCTS.IN.LAST.SIX.MONTHS": 0,
         "AVERAGE.ACCT.AGE": 0,
         "CREDIT.HISTORY.LENGTH": 0,
         "NO.OF_INQUIRIES": 0,
         "Salaried": 0,
         "Self_employed": 1,
         "Unknown_employ": 0,
         "DisbursalMonth_8": 0,
         "DisbursalMonth_9": 0,
         "DisbursalMonth_10": 0,
         "Downpayment": 9.341982481027898,
         "_deepnote_index_column": 83763
        },
        {
         "ltv": 4.502694394398855,
         "Age": 45,
         "MobileNo_Avl_Flag": 1,
         "Aadhar_flag": 0,
         "PAN_flag": 0,
         "VoterID_flag": 1,
         "Driving_flag": 0,
         "Passport_flag": 0,
         "PERFORM_CNS.SCORE": 0,
         "PERFORM_CNS.SCORE.DESCRIPTION": 0,
         "PRI.NO.OF.ACCTS": 0,
         "PRI.ACTIVE.ACCTS": 0,
         "PRI.OVERDUE.ACCTS": 0,
         "PRI.CURRENT.BALANCE": 0,
         "PRI.SANCTIONED.AMOUNT": 0,
         "PRI.DISBURSED.AMOUNT": 0,
         "SEC.NO.OF.ACCTS": 0,
         "SEC.ACTIVE.ACCTS": 0,
         "SEC.OVERDUE.ACCTS": 0,
         "SEC.CURRENT.BALANCE": 0,
         "SEC.SANCTIONED.AMOUNT": 0,
         "SEC.DISBURSED.AMOUNT": 0,
         "PRIMARY.INSTAL.AMT": 0,
         "SEC.INSTAL.AMT": 0,
         "NEW.ACCTS.IN.LAST.SIX.MONTHS": 0,
         "DELINQUENT.ACCTS.IN.LAST.SIX.MONTHS": 0,
         "AVERAGE.ACCT.AGE": 0,
         "CREDIT.HISTORY.LENGTH": 0,
         "NO.OF_INQUIRIES": 0,
         "Salaried": 0,
         "Self_employed": 1,
         "Unknown_employ": 0,
         "DisbursalMonth_8": 0,
         "DisbursalMonth_9": 0,
         "DisbursalMonth_10": 0,
         "Downpayment": 8.712266432135355,
         "_deepnote_index_column": 43651
        },
        {
         "ltv": 3.663305202994506,
         "Age": 29,
         "MobileNo_Avl_Flag": 1,
         "Aadhar_flag": 1,
         "PAN_flag": 0,
         "VoterID_flag": 0,
         "Driving_flag": 0,
         "Passport_flag": 0,
         "PERFORM_CNS.SCORE": 0,
         "PERFORM_CNS.SCORE.DESCRIPTION": 0,
         "PRI.NO.OF.ACCTS": 0,
         "PRI.ACTIVE.ACCTS": 0,
         "PRI.OVERDUE.ACCTS": 0,
         "PRI.CURRENT.BALANCE": 0,
         "PRI.SANCTIONED.AMOUNT": 0,
         "PRI.DISBURSED.AMOUNT": 0,
         "SEC.NO.OF.ACCTS": 0,
         "SEC.ACTIVE.ACCTS": 0,
         "SEC.OVERDUE.ACCTS": 0,
         "SEC.CURRENT.BALANCE": 0,
         "SEC.SANCTIONED.AMOUNT": 0,
         "SEC.DISBURSED.AMOUNT": 0,
         "PRIMARY.INSTAL.AMT": 0,
         "SEC.INSTAL.AMT": 0,
         "NEW.ACCTS.IN.LAST.SIX.MONTHS": 0,
         "DELINQUENT.ACCTS.IN.LAST.SIX.MONTHS": 0,
         "AVERAGE.ACCT.AGE": 0,
         "CREDIT.HISTORY.LENGTH": 0,
         "NO.OF_INQUIRIES": 0.6931471805599453,
         "Salaried": 0,
         "Self_employed": 1,
         "Unknown_employ": 0,
         "DisbursalMonth_8": 0,
         "DisbursalMonth_9": 0,
         "DisbursalMonth_10": 0,
         "Downpayment": 11.67209780086521,
         "_deepnote_index_column": 62453
        },
        {
         "ltv": 4.451552697322492,
         "Age": 23,
         "MobileNo_Avl_Flag": 1,
         "Aadhar_flag": 1,
         "PAN_flag": 0,
         "VoterID_flag": 0,
         "Driving_flag": 0,
         "Passport_flag": 0,
         "PERFORM_CNS.SCORE": 0,
         "PERFORM_CNS.SCORE.DESCRIPTION": 0,
         "PRI.NO.OF.ACCTS": 0,
         "PRI.ACTIVE.ACCTS": 0,
         "PRI.OVERDUE.ACCTS": 0,
         "PRI.CURRENT.BALANCE": 0,
         "PRI.SANCTIONED.AMOUNT": 0,
         "PRI.DISBURSED.AMOUNT": 0,
         "SEC.NO.OF.ACCTS": 0,
         "SEC.ACTIVE.ACCTS": 0,
         "SEC.OVERDUE.ACCTS": 0,
         "SEC.CURRENT.BALANCE": 0,
         "SEC.SANCTIONED.AMOUNT": 0,
         "SEC.DISBURSED.AMOUNT": 0,
         "PRIMARY.INSTAL.AMT": 0,
         "SEC.INSTAL.AMT": 0,
         "NEW.ACCTS.IN.LAST.SIX.MONTHS": 0,
         "DELINQUENT.ACCTS.IN.LAST.SIX.MONTHS": 0,
         "AVERAGE.ACCT.AGE": 0,
         "CREDIT.HISTORY.LENGTH": 0,
         "NO.OF_INQUIRIES": 0,
         "Salaried": 1,
         "Self_employed": 0,
         "Unknown_employ": 0,
         "DisbursalMonth_8": 0,
         "DisbursalMonth_9": 0,
         "DisbursalMonth_10": 0,
         "Downpayment": 9.35772535888924,
         "_deepnote_index_column": 11209
        }
       ],
       "rows_bottom": [
        {
         "ltv": 4.387138546560058,
         "Age": 35,
         "MobileNo_Avl_Flag": 1,
         "Aadhar_flag": 0,
         "PAN_flag": 0,
         "VoterID_flag": 1,
         "Driving_flag": 0,
         "Passport_flag": 0,
         "PERFORM_CNS.SCORE": 0,
         "PERFORM_CNS.SCORE.DESCRIPTION": 0,
         "PRI.NO.OF.ACCTS": 0,
         "PRI.ACTIVE.ACCTS": 0,
         "PRI.OVERDUE.ACCTS": 0,
         "PRI.CURRENT.BALANCE": 0,
         "PRI.SANCTIONED.AMOUNT": 0,
         "PRI.DISBURSED.AMOUNT": 0,
         "SEC.NO.OF.ACCTS": 0,
         "SEC.ACTIVE.ACCTS": 0,
         "SEC.OVERDUE.ACCTS": 0,
         "SEC.CURRENT.BALANCE": 0,
         "SEC.SANCTIONED.AMOUNT": 0,
         "SEC.DISBURSED.AMOUNT": 0,
         "PRIMARY.INSTAL.AMT": 0,
         "SEC.INSTAL.AMT": 0,
         "NEW.ACCTS.IN.LAST.SIX.MONTHS": 0,
         "DELINQUENT.ACCTS.IN.LAST.SIX.MONTHS": 0,
         "AVERAGE.ACCT.AGE": 0,
         "CREDIT.HISTORY.LENGTH": 0,
         "NO.OF_INQUIRIES": 0,
         "Salaried": 0,
         "Self_employed": 1,
         "Unknown_employ": 0,
         "DisbursalMonth_8": 0,
         "DisbursalMonth_9": 0,
         "DisbursalMonth_10": 0,
         "Downpayment": 9.448096635658239,
         "_deepnote_index_column": 20132
        },
        {
         "ltv": 4.4135253017332525,
         "Age": 35,
         "MobileNo_Avl_Flag": 1,
         "Aadhar_flag": 1,
         "PAN_flag": 0,
         "VoterID_flag": 0,
         "Driving_flag": 0,
         "Passport_flag": 0,
         "PERFORM_CNS.SCORE": 654,
         "PERFORM_CNS.SCORE.DESCRIPTION": 4,
         "PRI.NO.OF.ACCTS": 0.6931471805599453,
         "PRI.ACTIVE.ACCTS": 0.6931471805599453,
         "PRI.OVERDUE.ACCTS": 0,
         "PRI.CURRENT.BALANCE": 11.454692356205449,
         "PRI.SANCTIONED.AMOUNT": 11.918397239722838,
         "PRI.DISBURSED.AMOUNT": 11.918397239722838,
         "SEC.NO.OF.ACCTS": 0,
         "SEC.ACTIVE.ACCTS": 0,
         "SEC.OVERDUE.ACCTS": 0,
         "SEC.CURRENT.BALANCE": 0,
         "SEC.SANCTIONED.AMOUNT": 0,
         "SEC.DISBURSED.AMOUNT": 0,
         "PRIMARY.INSTAL.AMT": 0,
         "SEC.INSTAL.AMT": 0,
         "NEW.ACCTS.IN.LAST.SIX.MONTHS": 0,
         "DELINQUENT.ACCTS.IN.LAST.SIX.MONTHS": 0.6931471805599453,
         "AVERAGE.ACCT.AGE": 3.367295829986474,
         "CREDIT.HISTORY.LENGTH": 3.367295829986474,
         "NO.OF_INQUIRIES": 0,
         "Salaried": 1,
         "Self_employed": 0,
         "Unknown_employ": 0,
         "DisbursalMonth_8": 0,
         "DisbursalMonth_9": 0,
         "DisbursalMonth_10": 0,
         "Downpayment": 9.43914785291483,
         "_deepnote_index_column": 23441
        },
        {
         "ltv": 4.1734637666747,
         "Age": 43,
         "MobileNo_Avl_Flag": 1,
         "Aadhar_flag": 1,
         "PAN_flag": 0,
         "VoterID_flag": 0,
         "Driving_flag": 0,
         "Passport_flag": 0,
         "PERFORM_CNS.SCORE": 721,
         "PERFORM_CNS.SCORE.DESCRIPTION": 5,
         "PRI.NO.OF.ACCTS": 1.791759469228055,
         "PRI.ACTIVE.ACCTS": 1.3862943611198906,
         "PRI.OVERDUE.ACCTS": 0,
         "PRI.CURRENT.BALANCE": 13.811207312269438,
         "PRI.SANCTIONED.AMOUNT": 13.807015577574683,
         "PRI.DISBURSED.AMOUNT": 13.807015577574683,
         "SEC.NO.OF.ACCTS": 0,
         "SEC.ACTIVE.ACCTS": 0,
         "SEC.OVERDUE.ACCTS": 0,
         "SEC.CURRENT.BALANCE": 0,
         "SEC.SANCTIONED.AMOUNT": 0,
         "SEC.DISBURSED.AMOUNT": 0,
         "PRIMARY.INSTAL.AMT": 0,
         "SEC.INSTAL.AMT": 0,
         "NEW.ACCTS.IN.LAST.SIX.MONTHS": 1.0986122886681096,
         "DELINQUENT.ACCTS.IN.LAST.SIX.MONTHS": 0,
         "AVERAGE.ACCT.AGE": 2.833213344056216,
         "CREDIT.HISTORY.LENGTH": 3.828641396489095,
         "NO.OF_INQUIRIES": 0,
         "Salaried": 1,
         "Self_employed": 0,
         "Unknown_employ": 0,
         "DisbursalMonth_8": 0,
         "DisbursalMonth_9": 0,
         "DisbursalMonth_10": 0,
         "Downpayment": 10.388749184170845,
         "_deepnote_index_column": 73865
        },
        {
         "ltv": 4.392842927107731,
         "Age": 26,
         "MobileNo_Avl_Flag": 1,
         "Aadhar_flag": 1,
         "PAN_flag": 0,
         "VoterID_flag": 0,
         "Driving_flag": 0,
         "Passport_flag": 0,
         "PERFORM_CNS.SCORE": 0,
         "PERFORM_CNS.SCORE.DESCRIPTION": 0,
         "PRI.NO.OF.ACCTS": 0,
         "PRI.ACTIVE.ACCTS": 0,
         "PRI.OVERDUE.ACCTS": 0,
         "PRI.CURRENT.BALANCE": 0,
         "PRI.SANCTIONED.AMOUNT": 0,
         "PRI.DISBURSED.AMOUNT": 0,
         "SEC.NO.OF.ACCTS": 0,
         "SEC.ACTIVE.ACCTS": 0,
         "SEC.OVERDUE.ACCTS": 0,
         "SEC.CURRENT.BALANCE": 0,
         "SEC.SANCTIONED.AMOUNT": 0,
         "SEC.DISBURSED.AMOUNT": 0,
         "PRIMARY.INSTAL.AMT": 0,
         "SEC.INSTAL.AMT": 0,
         "NEW.ACCTS.IN.LAST.SIX.MONTHS": 0,
         "DELINQUENT.ACCTS.IN.LAST.SIX.MONTHS": 0,
         "AVERAGE.ACCT.AGE": 0,
         "CREDIT.HISTORY.LENGTH": 0,
         "NO.OF_INQUIRIES": 0,
         "Salaried": 1,
         "Self_employed": 0,
         "Unknown_employ": 0,
         "DisbursalMonth_8": 0,
         "DisbursalMonth_9": 0,
         "DisbursalMonth_10": 0,
         "Downpayment": 9.889337916931686,
         "_deepnote_index_column": 29836
        },
        {
         "ltv": 4.287441192184014,
         "Age": 30,
         "MobileNo_Avl_Flag": 1,
         "Aadhar_flag": 1,
         "PAN_flag": 0,
         "VoterID_flag": 0,
         "Driving_flag": 0,
         "Passport_flag": 0,
         "PERFORM_CNS.SCORE": 0,
         "PERFORM_CNS.SCORE.DESCRIPTION": 0,
         "PRI.NO.OF.ACCTS": 0,
         "PRI.ACTIVE.ACCTS": 0,
         "PRI.OVERDUE.ACCTS": 0,
         "PRI.CURRENT.BALANCE": 0,
         "PRI.SANCTIONED.AMOUNT": 0,
         "PRI.DISBURSED.AMOUNT": 0,
         "SEC.NO.OF.ACCTS": 0,
         "SEC.ACTIVE.ACCTS": 0,
         "SEC.OVERDUE.ACCTS": 0,
         "SEC.CURRENT.BALANCE": 0,
         "SEC.SANCTIONED.AMOUNT": 0,
         "SEC.DISBURSED.AMOUNT": 0,
         "PRIMARY.INSTAL.AMT": 0,
         "SEC.INSTAL.AMT": 0,
         "NEW.ACCTS.IN.LAST.SIX.MONTHS": 0,
         "DELINQUENT.ACCTS.IN.LAST.SIX.MONTHS": 0,
         "AVERAGE.ACCT.AGE": 0,
         "CREDIT.HISTORY.LENGTH": 0,
         "NO.OF_INQUIRIES": 0,
         "Salaried": 0,
         "Self_employed": 1,
         "Unknown_employ": 0,
         "DisbursalMonth_8": 0,
         "DisbursalMonth_9": 0,
         "DisbursalMonth_10": 0,
         "Downpayment": 10.22419329143509,
         "_deepnote_index_column": 61658
        },
        {
         "ltv": 4.290870315632018,
         "Age": 26,
         "MobileNo_Avl_Flag": 1,
         "Aadhar_flag": 1,
         "PAN_flag": 0,
         "VoterID_flag": 0,
         "Driving_flag": 0,
         "Passport_flag": 0,
         "PERFORM_CNS.SCORE": 300,
         "PERFORM_CNS.SCORE.DESCRIPTION": 1,
         "PRI.NO.OF.ACCTS": 2.4849066497880004,
         "PRI.ACTIVE.ACCTS": 2.3978952727983707,
         "PRI.OVERDUE.ACCTS": 1.0986122886681096,
         "PRI.CURRENT.BALANCE": 15.086148246115426,
         "PRI.SANCTIONED.AMOUNT": 15.081784977167416,
         "PRI.DISBURSED.AMOUNT": 15.081784977167416,
         "SEC.NO.OF.ACCTS": 0,
         "SEC.ACTIVE.ACCTS": 0,
         "SEC.OVERDUE.ACCTS": 0,
         "SEC.CURRENT.BALANCE": 0,
         "SEC.SANCTIONED.AMOUNT": 0,
         "SEC.DISBURSED.AMOUNT": 0,
         "PRIMARY.INSTAL.AMT": 12.85479238140542,
         "SEC.INSTAL.AMT": 0,
         "NEW.ACCTS.IN.LAST.SIX.MONTHS": 1.6094379124341003,
         "DELINQUENT.ACCTS.IN.LAST.SIX.MONTHS": 0.6931471805599453,
         "AVERAGE.ACCT.AGE": 2.1972245773362196,
         "CREDIT.HISTORY.LENGTH": 3.332204510175204,
         "NO.OF_INQUIRIES": 0,
         "Salaried": 0,
         "Self_employed": 1,
         "Unknown_employ": 0,
         "DisbursalMonth_8": 0,
         "DisbursalMonth_9": 0,
         "DisbursalMonth_10": 0,
         "Downpayment": 10.25439087265161,
         "_deepnote_index_column": 45005
        },
        {
         "ltv": 4.471524501118173,
         "Age": 46,
         "MobileNo_Avl_Flag": 1,
         "Aadhar_flag": 1,
         "PAN_flag": 0,
         "VoterID_flag": 0,
         "Driving_flag": 0,
         "Passport_flag": 0,
         "PERFORM_CNS.SCORE": 0,
         "PERFORM_CNS.SCORE.DESCRIPTION": 0,
         "PRI.NO.OF.ACCTS": 0,
         "PRI.ACTIVE.ACCTS": 0,
         "PRI.OVERDUE.ACCTS": 0,
         "PRI.CURRENT.BALANCE": 0,
         "PRI.SANCTIONED.AMOUNT": 0,
         "PRI.DISBURSED.AMOUNT": 0,
         "SEC.NO.OF.ACCTS": 0,
         "SEC.ACTIVE.ACCTS": 0,
         "SEC.OVERDUE.ACCTS": 0,
         "SEC.CURRENT.BALANCE": 0,
         "SEC.SANCTIONED.AMOUNT": 0,
         "SEC.DISBURSED.AMOUNT": 0,
         "PRIMARY.INSTAL.AMT": 0,
         "SEC.INSTAL.AMT": 0,
         "NEW.ACCTS.IN.LAST.SIX.MONTHS": 0,
         "DELINQUENT.ACCTS.IN.LAST.SIX.MONTHS": 0,
         "AVERAGE.ACCT.AGE": 0,
         "CREDIT.HISTORY.LENGTH": 0,
         "NO.OF_INQUIRIES": 0,
         "Salaried": 1,
         "Self_employed": 0,
         "Unknown_employ": 0,
         "DisbursalMonth_8": 0,
         "DisbursalMonth_9": 0,
         "DisbursalMonth_10": 0,
         "Downpayment": 9.310547632393208,
         "_deepnote_index_column": 31572
        },
        {
         "ltv": 4.27332721775054,
         "Age": 31,
         "MobileNo_Avl_Flag": 1,
         "Aadhar_flag": 0,
         "PAN_flag": 0,
         "VoterID_flag": 1,
         "Driving_flag": 0,
         "Passport_flag": 0,
         "PERFORM_CNS.SCORE": 631,
         "PERFORM_CNS.SCORE.DESCRIPTION": 4,
         "PRI.NO.OF.ACCTS": 0.6931471805599453,
         "PRI.ACTIVE.ACCTS": 0.6931471805599453,
         "PRI.OVERDUE.ACCTS": 0,
         "PRI.CURRENT.BALANCE": 12.3519333439324,
         "PRI.SANCTIONED.AMOUNT": 12.899222326086994,
         "PRI.DISBURSED.AMOUNT": 12.899222326086994,
         "SEC.NO.OF.ACCTS": 0,
         "SEC.ACTIVE.ACCTS": 0,
         "SEC.OVERDUE.ACCTS": 0,
         "SEC.CURRENT.BALANCE": 0,
         "SEC.SANCTIONED.AMOUNT": 0,
         "SEC.DISBURSED.AMOUNT": 0,
         "PRIMARY.INSTAL.AMT": 9.165343006045447,
         "SEC.INSTAL.AMT": 0,
         "NEW.ACCTS.IN.LAST.SIX.MONTHS": 0,
         "DELINQUENT.ACCTS.IN.LAST.SIX.MONTHS": 0.6931471805599453,
         "AVERAGE.ACCT.AGE": 3.4339872044851463,
         "CREDIT.HISTORY.LENGTH": 3.4339872044851463,
         "NO.OF_INQUIRIES": 0,
         "Salaried": 1,
         "Self_employed": 0,
         "Unknown_employ": 0,
         "DisbursalMonth_8": 0,
         "DisbursalMonth_9": 0,
         "DisbursalMonth_10": 0,
         "Downpayment": 10.101354320665545,
         "_deepnote_index_column": 21610
        },
        {
         "ltv": 4.453300236649965,
         "Age": 25,
         "MobileNo_Avl_Flag": 1,
         "Aadhar_flag": 1,
         "PAN_flag": 0,
         "VoterID_flag": 0,
         "Driving_flag": 0,
         "Passport_flag": 0,
         "PERFORM_CNS.SCORE": 0,
         "PERFORM_CNS.SCORE.DESCRIPTION": 0,
         "PRI.NO.OF.ACCTS": 0,
         "PRI.ACTIVE.ACCTS": 0,
         "PRI.OVERDUE.ACCTS": 0,
         "PRI.CURRENT.BALANCE": 0,
         "PRI.SANCTIONED.AMOUNT": 0,
         "PRI.DISBURSED.AMOUNT": 0,
         "SEC.NO.OF.ACCTS": 0,
         "SEC.ACTIVE.ACCTS": 0,
         "SEC.OVERDUE.ACCTS": 0,
         "SEC.CURRENT.BALANCE": 0,
         "SEC.SANCTIONED.AMOUNT": 0,
         "SEC.DISBURSED.AMOUNT": 0,
         "PRIMARY.INSTAL.AMT": 0,
         "SEC.INSTAL.AMT": 0,
         "NEW.ACCTS.IN.LAST.SIX.MONTHS": 0,
         "DELINQUENT.ACCTS.IN.LAST.SIX.MONTHS": 0,
         "AVERAGE.ACCT.AGE": 0,
         "CREDIT.HISTORY.LENGTH": 0,
         "NO.OF_INQUIRIES": 0,
         "Salaried": 1,
         "Self_employed": 0,
         "Unknown_employ": 0,
         "DisbursalMonth_8": 0,
         "DisbursalMonth_9": 0,
         "DisbursalMonth_10": 0,
         "Downpayment": 9.40137386937216,
         "_deepnote_index_column": 48272
        },
        {
         "ltv": 4.330601752681694,
         "Age": 33,
         "MobileNo_Avl_Flag": 1,
         "Aadhar_flag": 1,
         "PAN_flag": 0,
         "VoterID_flag": 0,
         "Driving_flag": 0,
         "Passport_flag": 0,
         "PERFORM_CNS.SCORE": 0,
         "PERFORM_CNS.SCORE.DESCRIPTION": 0,
         "PRI.NO.OF.ACCTS": 0,
         "PRI.ACTIVE.ACCTS": 0,
         "PRI.OVERDUE.ACCTS": 0,
         "PRI.CURRENT.BALANCE": 0,
         "PRI.SANCTIONED.AMOUNT": 0,
         "PRI.DISBURSED.AMOUNT": 0,
         "SEC.NO.OF.ACCTS": 0,
         "SEC.ACTIVE.ACCTS": 0,
         "SEC.OVERDUE.ACCTS": 0,
         "SEC.CURRENT.BALANCE": 0,
         "SEC.SANCTIONED.AMOUNT": 0,
         "SEC.DISBURSED.AMOUNT": 0,
         "PRIMARY.INSTAL.AMT": 0,
         "SEC.INSTAL.AMT": 0,
         "NEW.ACCTS.IN.LAST.SIX.MONTHS": 0,
         "DELINQUENT.ACCTS.IN.LAST.SIX.MONTHS": 0,
         "AVERAGE.ACCT.AGE": 0,
         "CREDIT.HISTORY.LENGTH": 0,
         "NO.OF_INQUIRIES": 0,
         "Salaried": 0,
         "Self_employed": 1,
         "Unknown_employ": 0,
         "DisbursalMonth_8": 0,
         "DisbursalMonth_9": 0,
         "DisbursalMonth_10": 0,
         "Downpayment": 9.890959401958858,
         "_deepnote_index_column": 7536
        },
        {
         "ltv": 4.388505600771591,
         "Age": 36,
         "MobileNo_Avl_Flag": 1,
         "Aadhar_flag": 1,
         "PAN_flag": 0,
         "VoterID_flag": 0,
         "Driving_flag": 0,
         "Passport_flag": 0,
         "PERFORM_CNS.SCORE": 763,
         "PERFORM_CNS.SCORE.DESCRIPTION": 5,
         "PRI.NO.OF.ACCTS": 0.6931471805599453,
         "PRI.ACTIVE.ACCTS": 0.6931471805599453,
         "PRI.OVERDUE.ACCTS": 0,
         "PRI.CURRENT.BALANCE": 0,
         "PRI.SANCTIONED.AMOUNT": 10.48849257447637,
         "PRI.DISBURSED.AMOUNT": 10.48849257447637,
         "SEC.NO.OF.ACCTS": 0.6931471805599453,
         "SEC.ACTIVE.ACCTS": 0.6931471805599453,
         "SEC.OVERDUE.ACCTS": 0,
         "SEC.CURRENT.BALANCE": 11.097425172408931,
         "SEC.SANCTIONED.AMOUNT": 11.097425172408931,
         "SEC.DISBURSED.AMOUNT": 11.097425172408931,
         "PRIMARY.INSTAL.AMT": 0,
         "SEC.INSTAL.AMT": 0,
         "NEW.ACCTS.IN.LAST.SIX.MONTHS": 0.6931471805599453,
         "DELINQUENT.ACCTS.IN.LAST.SIX.MONTHS": 0,
         "AVERAGE.ACCT.AGE": 2.70805020110221,
         "CREDIT.HISTORY.LENGTH": 3.367295829986474,
         "NO.OF_INQUIRIES": 0,
         "Salaried": 1,
         "Self_employed": 0,
         "Unknown_employ": 0,
         "DisbursalMonth_8": 0,
         "DisbursalMonth_9": 0,
         "DisbursalMonth_10": 0,
         "Downpayment": 9.831937843696052,
         "_deepnote_index_column": 24320
        },
        {
         "ltv": 4.505239347363042,
         "Age": 33,
         "MobileNo_Avl_Flag": 1,
         "Aadhar_flag": 1,
         "PAN_flag": 0,
         "VoterID_flag": 0,
         "Driving_flag": 0,
         "Passport_flag": 0,
         "PERFORM_CNS.SCORE": 0,
         "PERFORM_CNS.SCORE.DESCRIPTION": 0,
         "PRI.NO.OF.ACCTS": 0,
         "PRI.ACTIVE.ACCTS": 0,
         "PRI.OVERDUE.ACCTS": 0,
         "PRI.CURRENT.BALANCE": 0,
         "PRI.SANCTIONED.AMOUNT": 0,
         "PRI.DISBURSED.AMOUNT": 0,
         "SEC.NO.OF.ACCTS": 0,
         "SEC.ACTIVE.ACCTS": 0,
         "SEC.OVERDUE.ACCTS": 0,
         "SEC.CURRENT.BALANCE": 0,
         "SEC.SANCTIONED.AMOUNT": 0,
         "SEC.DISBURSED.AMOUNT": 0,
         "PRIMARY.INSTAL.AMT": 0,
         "SEC.INSTAL.AMT": 0,
         "NEW.ACCTS.IN.LAST.SIX.MONTHS": 0,
         "DELINQUENT.ACCTS.IN.LAST.SIX.MONTHS": 0,
         "AVERAGE.ACCT.AGE": 0,
         "CREDIT.HISTORY.LENGTH": 0,
         "NO.OF_INQUIRIES": 0,
         "Salaried": 1,
         "Self_employed": 0,
         "Unknown_employ": 0,
         "DisbursalMonth_8": 1,
         "DisbursalMonth_9": 1,
         "DisbursalMonth_10": 1,
         "Downpayment": 9.197457746145169,
         "_deepnote_index_column": 32458
        },
        {
         "ltv": 4.437816056315923,
         "Age": 40,
         "MobileNo_Avl_Flag": 1,
         "Aadhar_flag": 1,
         "PAN_flag": 0,
         "VoterID_flag": 0,
         "Driving_flag": 0,
         "Passport_flag": 0,
         "PERFORM_CNS.SCORE": 300,
         "PERFORM_CNS.SCORE.DESCRIPTION": 1,
         "PRI.NO.OF.ACCTS": 0.6931471805599453,
         "PRI.ACTIVE.ACCTS": 0,
         "PRI.OVERDUE.ACCTS": 0.6931471805599453,
         "PRI.CURRENT.BALANCE": 0,
         "PRI.SANCTIONED.AMOUNT": 0,
         "PRI.DISBURSED.AMOUNT": 0,
         "SEC.NO.OF.ACCTS": 0,
         "SEC.ACTIVE.ACCTS": 0,
         "SEC.OVERDUE.ACCTS": 0,
         "SEC.CURRENT.BALANCE": 0,
         "SEC.SANCTIONED.AMOUNT": 0,
         "SEC.DISBURSED.AMOUNT": 0,
         "PRIMARY.INSTAL.AMT": 7.629489916393995,
         "SEC.INSTAL.AMT": 0,
         "NEW.ACCTS.IN.LAST.SIX.MONTHS": 0,
         "DELINQUENT.ACCTS.IN.LAST.SIX.MONTHS": 0,
         "AVERAGE.ACCT.AGE": 0,
         "CREDIT.HISTORY.LENGTH": 0,
         "NO.OF_INQUIRIES": 0,
         "Salaried": 0,
         "Self_employed": 1,
         "Unknown_employ": 0,
         "DisbursalMonth_8": 0,
         "DisbursalMonth_9": 0,
         "DisbursalMonth_10": 0,
         "Downpayment": 9.490015474026047,
         "_deepnote_index_column": 42614
        },
        {
         "ltv": 4.306090068583941,
         "Age": 24,
         "MobileNo_Avl_Flag": 1,
         "Aadhar_flag": 1,
         "PAN_flag": 0,
         "VoterID_flag": 0,
         "Driving_flag": 0,
         "Passport_flag": 0,
         "PERFORM_CNS.SCORE": 0,
         "PERFORM_CNS.SCORE.DESCRIPTION": 0,
         "PRI.NO.OF.ACCTS": 0,
         "PRI.ACTIVE.ACCTS": 0,
         "PRI.OVERDUE.ACCTS": 0,
         "PRI.CURRENT.BALANCE": 0,
         "PRI.SANCTIONED.AMOUNT": 0,
         "PRI.DISBURSED.AMOUNT": 0,
         "SEC.NO.OF.ACCTS": 0,
         "SEC.ACTIVE.ACCTS": 0,
         "SEC.OVERDUE.ACCTS": 0,
         "SEC.CURRENT.BALANCE": 0,
         "SEC.SANCTIONED.AMOUNT": 0,
         "SEC.DISBURSED.AMOUNT": 0,
         "PRIMARY.INSTAL.AMT": 0,
         "SEC.INSTAL.AMT": 0,
         "NEW.ACCTS.IN.LAST.SIX.MONTHS": 0,
         "DELINQUENT.ACCTS.IN.LAST.SIX.MONTHS": 0,
         "AVERAGE.ACCT.AGE": 0,
         "CREDIT.HISTORY.LENGTH": 0,
         "NO.OF_INQUIRIES": 0,
         "Salaried": 0,
         "Self_employed": 1,
         "Unknown_employ": 0,
         "DisbursalMonth_8": 1,
         "DisbursalMonth_9": 1,
         "DisbursalMonth_10": 1,
         "Downpayment": 10.246296810613222,
         "_deepnote_index_column": 4820
        }
       ]
      },
      "text/plain": "            ltv  Age  MobileNo_Avl_Flag  Aadhar_flag  PAN_flag  VoterID_flag  \\\n80195  4.412677   51                  1            1         0             0   \n96173  4.448633   58                  1            1         0             0   \n4376   4.510090   32                  1            1         0             0   \n9191   4.237723   42                  1            1         0             0   \n18205  4.227709   21                  1            1         0             0   \n...         ...  ...                ...          ...       ...           ...   \n7536   4.330602   33                  1            1         0             0   \n24320  4.388506   36                  1            1         0             0   \n32458  4.505239   33                  1            1         0             0   \n42614  4.437816   40                  1            1         0             0   \n4820   4.306090   24                  1            1         0             0   \n\n       Driving_flag  Passport_flag  PERFORM_CNS.SCORE  \\\n80195             0              0                738   \n96173             0              0                  0   \n4376              0              0                300   \n9191              0              0                  0   \n18205             0              0                  0   \n...             ...            ...                ...   \n7536              0              0                  0   \n24320             0              0                763   \n32458             0              0                  0   \n42614             0              0                300   \n4820              0              0                  0   \n\n       PERFORM_CNS.SCORE.DESCRIPTION  ...  AVERAGE.ACCT.AGE  \\\n80195                              5  ...          2.397895   \n96173                              0  ...          0.000000   \n4376                               1  ...          2.639057   \n9191                               0  ...          0.000000   \n18205                              0  ...          0.000000   \n...                              ...  ...               ...   \n7536                               0  ...          0.000000   \n24320                              5  ...          2.708050   \n32458                              0  ...          0.000000   \n42614                              1  ...          0.000000   \n4820                               0  ...          0.000000   \n\n       CREDIT.HISTORY.LENGTH  NO.OF_INQUIRIES  Salaried  Self_employed  \\\n80195               3.178054         0.693147       1.0            0.0   \n96173               0.000000         0.000000       0.0            1.0   \n4376                3.258097         1.098612       1.0            0.0   \n9191                0.000000         0.000000       0.0            1.0   \n18205               0.000000         0.000000       0.0            0.0   \n...                      ...              ...       ...            ...   \n7536                0.000000         0.000000       0.0            1.0   \n24320               3.367296         0.000000       1.0            0.0   \n32458               0.000000         0.000000       1.0            0.0   \n42614               0.000000         0.000000       0.0            1.0   \n4820                0.000000         0.000000       0.0            1.0   \n\n       Unknown_employ  DisbursalMonth_8  DisbursalMonth_9  DisbursalMonth_10  \\\n80195             0.0                 0                 0                  0   \n96173             0.0                 0                 0                  0   \n4376              0.0                 0                 0                  0   \n9191              0.0                 0                 0                  0   \n18205             1.0                 0                 0                  0   \n...               ...               ...               ...                ...   \n7536              0.0                 0                 0                  0   \n24320             0.0                 0                 0                  0   \n32458             0.0                 1                 1                  1   \n42614             0.0                 0                 0                  0   \n4820              0.0                 1                 1                  1   \n\n       Downpayment  \n80195     9.579487  \n96173     9.280799  \n4376      9.032768  \n9191     10.417029  \n18205    10.114680  \n...            ...  \n7536      9.890959  \n24320     9.831938  \n32458     9.197458  \n42614     9.490015  \n4820     10.246297  \n\n[101218 rows x 36 columns]",
      "text/html": "<div>\n<style scoped>\n    .dataframe tbody tr th:only-of-type {\n        vertical-align: middle;\n    }\n\n    .dataframe tbody tr th {\n        vertical-align: top;\n    }\n\n    .dataframe thead th {\n        text-align: right;\n    }\n</style>\n<table border=\"1\" class=\"dataframe\">\n  <thead>\n    <tr style=\"text-align: right;\">\n      <th></th>\n      <th>ltv</th>\n      <th>Age</th>\n      <th>MobileNo_Avl_Flag</th>\n      <th>Aadhar_flag</th>\n      <th>PAN_flag</th>\n      <th>VoterID_flag</th>\n      <th>Driving_flag</th>\n      <th>Passport_flag</th>\n      <th>PERFORM_CNS.SCORE</th>\n      <th>PERFORM_CNS.SCORE.DESCRIPTION</th>\n      <th>...</th>\n      <th>AVERAGE.ACCT.AGE</th>\n      <th>CREDIT.HISTORY.LENGTH</th>\n      <th>NO.OF_INQUIRIES</th>\n      <th>Salaried</th>\n      <th>Self_employed</th>\n      <th>Unknown_employ</th>\n      <th>DisbursalMonth_8</th>\n      <th>DisbursalMonth_9</th>\n      <th>DisbursalMonth_10</th>\n      <th>Downpayment</th>\n    </tr>\n  </thead>\n  <tbody>\n    <tr>\n      <th>80195</th>\n      <td>4.412677</td>\n      <td>51</td>\n      <td>1</td>\n      <td>1</td>\n      <td>0</td>\n      <td>0</td>\n      <td>0</td>\n      <td>0</td>\n      <td>738</td>\n      <td>5</td>\n      <td>...</td>\n      <td>2.397895</td>\n      <td>3.178054</td>\n      <td>0.693147</td>\n      <td>1.0</td>\n      <td>0.0</td>\n      <td>0.0</td>\n      <td>0</td>\n      <td>0</td>\n      <td>0</td>\n      <td>9.579487</td>\n    </tr>\n    <tr>\n      <th>96173</th>\n      <td>4.448633</td>\n      <td>58</td>\n      <td>1</td>\n      <td>1</td>\n      <td>0</td>\n      <td>0</td>\n      <td>0</td>\n      <td>0</td>\n      <td>0</td>\n      <td>0</td>\n      <td>...</td>\n      <td>0.000000</td>\n      <td>0.000000</td>\n      <td>0.000000</td>\n      <td>0.0</td>\n      <td>1.0</td>\n      <td>0.0</td>\n      <td>0</td>\n      <td>0</td>\n      <td>0</td>\n      <td>9.280799</td>\n    </tr>\n    <tr>\n      <th>4376</th>\n      <td>4.510090</td>\n      <td>32</td>\n      <td>1</td>\n      <td>1</td>\n      <td>0</td>\n      <td>0</td>\n      <td>0</td>\n      <td>0</td>\n      <td>300</td>\n      <td>1</td>\n      <td>...</td>\n      <td>2.639057</td>\n      <td>3.258097</td>\n      <td>1.098612</td>\n      <td>1.0</td>\n      <td>0.0</td>\n      <td>0.0</td>\n      <td>0</td>\n      <td>0</td>\n      <td>0</td>\n      <td>9.032768</td>\n    </tr>\n    <tr>\n      <th>9191</th>\n      <td>4.237723</td>\n      <td>42</td>\n      <td>1</td>\n      <td>1</td>\n      <td>0</td>\n      <td>0</td>\n      <td>0</td>\n      <td>0</td>\n      <td>0</td>\n      <td>0</td>\n      <td>...</td>\n      <td>0.000000</td>\n      <td>0.000000</td>\n      <td>0.000000</td>\n      <td>0.0</td>\n      <td>1.0</td>\n      <td>0.0</td>\n      <td>0</td>\n      <td>0</td>\n      <td>0</td>\n      <td>10.417029</td>\n    </tr>\n    <tr>\n      <th>18205</th>\n      <td>4.227709</td>\n      <td>21</td>\n      <td>1</td>\n      <td>1</td>\n      <td>0</td>\n      <td>0</td>\n      <td>0</td>\n      <td>0</td>\n      <td>0</td>\n      <td>0</td>\n      <td>...</td>\n      <td>0.000000</td>\n      <td>0.000000</td>\n      <td>0.000000</td>\n      <td>0.0</td>\n      <td>0.0</td>\n      <td>1.0</td>\n      <td>0</td>\n      <td>0</td>\n      <td>0</td>\n      <td>10.114680</td>\n    </tr>\n    <tr>\n      <th>...</th>\n      <td>...</td>\n      <td>...</td>\n      <td>...</td>\n      <td>...</td>\n      <td>...</td>\n      <td>...</td>\n      <td>...</td>\n      <td>...</td>\n      <td>...</td>\n      <td>...</td>\n      <td>...</td>\n      <td>...</td>\n      <td>...</td>\n      <td>...</td>\n      <td>...</td>\n      <td>...</td>\n      <td>...</td>\n      <td>...</td>\n      <td>...</td>\n      <td>...</td>\n      <td>...</td>\n    </tr>\n    <tr>\n      <th>7536</th>\n      <td>4.330602</td>\n      <td>33</td>\n      <td>1</td>\n      <td>1</td>\n      <td>0</td>\n      <td>0</td>\n      <td>0</td>\n      <td>0</td>\n      <td>0</td>\n      <td>0</td>\n      <td>...</td>\n      <td>0.000000</td>\n      <td>0.000000</td>\n      <td>0.000000</td>\n      <td>0.0</td>\n      <td>1.0</td>\n      <td>0.0</td>\n      <td>0</td>\n      <td>0</td>\n      <td>0</td>\n      <td>9.890959</td>\n    </tr>\n    <tr>\n      <th>24320</th>\n      <td>4.388506</td>\n      <td>36</td>\n      <td>1</td>\n      <td>1</td>\n      <td>0</td>\n      <td>0</td>\n      <td>0</td>\n      <td>0</td>\n      <td>763</td>\n      <td>5</td>\n      <td>...</td>\n      <td>2.708050</td>\n      <td>3.367296</td>\n      <td>0.000000</td>\n      <td>1.0</td>\n      <td>0.0</td>\n      <td>0.0</td>\n      <td>0</td>\n      <td>0</td>\n      <td>0</td>\n      <td>9.831938</td>\n    </tr>\n    <tr>\n      <th>32458</th>\n      <td>4.505239</td>\n      <td>33</td>\n      <td>1</td>\n      <td>1</td>\n      <td>0</td>\n      <td>0</td>\n      <td>0</td>\n      <td>0</td>\n      <td>0</td>\n      <td>0</td>\n      <td>...</td>\n      <td>0.000000</td>\n      <td>0.000000</td>\n      <td>0.000000</td>\n      <td>1.0</td>\n      <td>0.0</td>\n      <td>0.0</td>\n      <td>1</td>\n      <td>1</td>\n      <td>1</td>\n      <td>9.197458</td>\n    </tr>\n    <tr>\n      <th>42614</th>\n      <td>4.437816</td>\n      <td>40</td>\n      <td>1</td>\n      <td>1</td>\n      <td>0</td>\n      <td>0</td>\n      <td>0</td>\n      <td>0</td>\n      <td>300</td>\n      <td>1</td>\n      <td>...</td>\n      <td>0.000000</td>\n      <td>0.000000</td>\n      <td>0.000000</td>\n      <td>0.0</td>\n      <td>1.0</td>\n      <td>0.0</td>\n      <td>0</td>\n      <td>0</td>\n      <td>0</td>\n      <td>9.490015</td>\n    </tr>\n    <tr>\n      <th>4820</th>\n      <td>4.306090</td>\n      <td>24</td>\n      <td>1</td>\n      <td>1</td>\n      <td>0</td>\n      <td>0</td>\n      <td>0</td>\n      <td>0</td>\n      <td>0</td>\n      <td>0</td>\n      <td>...</td>\n      <td>0.000000</td>\n      <td>0.000000</td>\n      <td>0.000000</td>\n      <td>0.0</td>\n      <td>1.0</td>\n      <td>0.0</td>\n      <td>1</td>\n      <td>1</td>\n      <td>1</td>\n      <td>10.246297</td>\n    </tr>\n  </tbody>\n</table>\n<p>101218 rows × 36 columns</p>\n</div>"
     },
     "metadata": {}
    }
   ]
  },
  {
   "cell_type": "code",
   "metadata": {
    "tags": [],
    "cell_id": "00019-5e819ff3-0068-4849-a99f-d626af88f549",
    "deepnote_to_be_reexecuted": true,
    "source_hash": "d60673c7",
    "execution_start": 1622322304161,
    "execution_millis": 79024,
    "deepnote_cell_type": "code"
   },
   "source": "result= forward_regression(X_train, y_train, 0.2, True)\n\n#print('resulting features:')\nprint(result)",
   "execution_count": null,
   "outputs": [
    {
     "name": "stderr",
     "text": "/shared-libs/python3.7/py-core/lib/python3.7/site-packages/ipykernel_launcher.py:9: DeprecationWarning: The default dtype for empty Series will be 'object' instead of 'float64' in a future version. Specify a dtype explicitly to silence this warning.\n  if __name__ == '__main__':\nAdd  MobileNo_Avl_Flag              with p-value 0.0\n/shared-libs/python3.7/py-core/lib/python3.7/site-packages/ipykernel_launcher.py:9: DeprecationWarning: The default dtype for empty Series will be 'object' instead of 'float64' in a future version. Specify a dtype explicitly to silence this warning.\n  if __name__ == '__main__':\nAdd  ltv                            with p-value 1.99427e-222\n/shared-libs/python3.7/py-core/lib/python3.7/site-packages/ipykernel_launcher.py:9: DeprecationWarning: The default dtype for empty Series will be 'object' instead of 'float64' in a future version. Specify a dtype explicitly to silence this warning.\n  if __name__ == '__main__':\nAdd  PERFORM_CNS.SCORE.DESCRIPTION  with p-value 2.43197e-127\n/shared-libs/python3.7/py-core/lib/python3.7/site-packages/ipykernel_launcher.py:9: DeprecationWarning: The default dtype for empty Series will be 'object' instead of 'float64' in a future version. Specify a dtype explicitly to silence this warning.\n  if __name__ == '__main__':\nAdd  VoterID_flag                   with p-value 2.29426e-56\n/shared-libs/python3.7/py-core/lib/python3.7/site-packages/ipykernel_launcher.py:9: DeprecationWarning: The default dtype for empty Series will be 'object' instead of 'float64' in a future version. Specify a dtype explicitly to silence this warning.\n  if __name__ == '__main__':\nAdd  PRI.OVERDUE.ACCTS              with p-value 2.12403e-56\n/shared-libs/python3.7/py-core/lib/python3.7/site-packages/ipykernel_launcher.py:9: DeprecationWarning: The default dtype for empty Series will be 'object' instead of 'float64' in a future version. Specify a dtype explicitly to silence this warning.\n  if __name__ == '__main__':\nAdd  NO.OF_INQUIRIES                with p-value 2.46649e-45\n/shared-libs/python3.7/py-core/lib/python3.7/site-packages/ipykernel_launcher.py:9: DeprecationWarning: The default dtype for empty Series will be 'object' instead of 'float64' in a future version. Specify a dtype explicitly to silence this warning.\n  if __name__ == '__main__':\nAdd  PRI.NO.OF.ACCTS                with p-value 2.14341e-47\n/shared-libs/python3.7/py-core/lib/python3.7/site-packages/ipykernel_launcher.py:9: DeprecationWarning: The default dtype for empty Series will be 'object' instead of 'float64' in a future version. Specify a dtype explicitly to silence this warning.\n  if __name__ == '__main__':\nAdd  Age                            with p-value 2.69367e-28\n/shared-libs/python3.7/py-core/lib/python3.7/site-packages/ipykernel_launcher.py:9: DeprecationWarning: The default dtype for empty Series will be 'object' instead of 'float64' in a future version. Specify a dtype explicitly to silence this warning.\n  if __name__ == '__main__':\nAdd  Self_employed                  with p-value 2.69241e-32\n/shared-libs/python3.7/py-core/lib/python3.7/site-packages/ipykernel_launcher.py:9: DeprecationWarning: The default dtype for empty Series will be 'object' instead of 'float64' in a future version. Specify a dtype explicitly to silence this warning.\n  if __name__ == '__main__':\nAdd  PRI.CURRENT.BALANCE            with p-value 9.22261e-21\n/shared-libs/python3.7/py-core/lib/python3.7/site-packages/ipykernel_launcher.py:9: DeprecationWarning: The default dtype for empty Series will be 'object' instead of 'float64' in a future version. Specify a dtype explicitly to silence this warning.\n  if __name__ == '__main__':\nAdd  PRIMARY.INSTAL.AMT             with p-value 1.48308e-21\n/shared-libs/python3.7/py-core/lib/python3.7/site-packages/ipykernel_launcher.py:9: DeprecationWarning: The default dtype for empty Series will be 'object' instead of 'float64' in a future version. Specify a dtype explicitly to silence this warning.\n  if __name__ == '__main__':\nAdd  DELINQUENT.ACCTS.IN.LAST.SIX.MONTHS with p-value 3.25123e-19\n/shared-libs/python3.7/py-core/lib/python3.7/site-packages/ipykernel_launcher.py:9: DeprecationWarning: The default dtype for empty Series will be 'object' instead of 'float64' in a future version. Specify a dtype explicitly to silence this warning.\n  if __name__ == '__main__':\nAdd  Downpayment                    with p-value 1.80984e-05\n/shared-libs/python3.7/py-core/lib/python3.7/site-packages/ipykernel_launcher.py:9: DeprecationWarning: The default dtype for empty Series will be 'object' instead of 'float64' in a future version. Specify a dtype explicitly to silence this warning.\n  if __name__ == '__main__':\nAdd  PRI.ACTIVE.ACCTS               with p-value 0.000140291\n/shared-libs/python3.7/py-core/lib/python3.7/site-packages/ipykernel_launcher.py:9: DeprecationWarning: The default dtype for empty Series will be 'object' instead of 'float64' in a future version. Specify a dtype explicitly to silence this warning.\n  if __name__ == '__main__':\nAdd  PRI.DISBURSED.AMOUNT           with p-value 9.48484e-05\n/shared-libs/python3.7/py-core/lib/python3.7/site-packages/ipykernel_launcher.py:9: DeprecationWarning: The default dtype for empty Series will be 'object' instead of 'float64' in a future version. Specify a dtype explicitly to silence this warning.\n  if __name__ == '__main__':\nAdd  SEC.CURRENT.BALANCE            with p-value 0.0489205\n/shared-libs/python3.7/py-core/lib/python3.7/site-packages/ipykernel_launcher.py:9: DeprecationWarning: The default dtype for empty Series will be 'object' instead of 'float64' in a future version. Specify a dtype explicitly to silence this warning.\n  if __name__ == '__main__':\nAdd  AVERAGE.ACCT.AGE               with p-value 0.0563465\n/shared-libs/python3.7/py-core/lib/python3.7/site-packages/ipykernel_launcher.py:9: DeprecationWarning: The default dtype for empty Series will be 'object' instead of 'float64' in a future version. Specify a dtype explicitly to silence this warning.\n  if __name__ == '__main__':\nAdd  CREDIT.HISTORY.LENGTH          with p-value 1.2479e-05\n/shared-libs/python3.7/py-core/lib/python3.7/site-packages/ipykernel_launcher.py:9: DeprecationWarning: The default dtype for empty Series will be 'object' instead of 'float64' in a future version. Specify a dtype explicitly to silence this warning.\n  if __name__ == '__main__':\nAdd  PRI.SANCTIONED.AMOUNT          with p-value 0.0628771\n/shared-libs/python3.7/py-core/lib/python3.7/site-packages/ipykernel_launcher.py:9: DeprecationWarning: The default dtype for empty Series will be 'object' instead of 'float64' in a future version. Specify a dtype explicitly to silence this warning.\n  if __name__ == '__main__':\nAdd  Aadhar_flag                    with p-value 0.0917842\n/shared-libs/python3.7/py-core/lib/python3.7/site-packages/ipykernel_launcher.py:9: DeprecationWarning: The default dtype for empty Series will be 'object' instead of 'float64' in a future version. Specify a dtype explicitly to silence this warning.\n  if __name__ == '__main__':\nAdd  Driving_flag                   with p-value 0.0275143\n/shared-libs/python3.7/py-core/lib/python3.7/site-packages/ipykernel_launcher.py:9: DeprecationWarning: The default dtype for empty Series will be 'object' instead of 'float64' in a future version. Specify a dtype explicitly to silence this warning.\n  if __name__ == '__main__':\nAdd  Passport_flag                  with p-value 0.0175588\n/shared-libs/python3.7/py-core/lib/python3.7/site-packages/ipykernel_launcher.py:9: DeprecationWarning: The default dtype for empty Series will be 'object' instead of 'float64' in a future version. Specify a dtype explicitly to silence this warning.\n  if __name__ == '__main__':\nAdd  PAN_flag                       with p-value 0.0620301\n/shared-libs/python3.7/py-core/lib/python3.7/site-packages/ipykernel_launcher.py:9: DeprecationWarning: The default dtype for empty Series will be 'object' instead of 'float64' in a future version. Specify a dtype explicitly to silence this warning.\n  if __name__ == '__main__':\n['MobileNo_Avl_Flag', 'ltv', 'PERFORM_CNS.SCORE.DESCRIPTION', 'VoterID_flag', 'PRI.OVERDUE.ACCTS', 'NO.OF_INQUIRIES', 'PRI.NO.OF.ACCTS', 'Age', 'Self_employed', 'PRI.CURRENT.BALANCE', 'PRIMARY.INSTAL.AMT', 'DELINQUENT.ACCTS.IN.LAST.SIX.MONTHS', 'Downpayment', 'PRI.ACTIVE.ACCTS', 'PRI.DISBURSED.AMOUNT', 'SEC.CURRENT.BALANCE', 'AVERAGE.ACCT.AGE', 'CREDIT.HISTORY.LENGTH', 'PRI.SANCTIONED.AMOUNT', 'Aadhar_flag', 'Driving_flag', 'Passport_flag', 'PAN_flag']\n",
     "output_type": "stream"
    }
   ]
  },
  {
   "cell_type": "code",
   "metadata": {
    "tags": [],
    "cell_id": "00020-337a3128-c6f4-4d86-9493-2281ae4c47c0",
    "deepnote_to_be_reexecuted": true,
    "source_hash": "bae0e1b5",
    "execution_start": 1622322430160,
    "execution_millis": 12,
    "deepnote_cell_type": "code"
   },
   "source": "result",
   "execution_count": null,
   "outputs": [
    {
     "output_type": "execute_result",
     "execution_count": 48,
     "data": {
      "text/plain": "['MobileNo_Avl_Flag',\n 'ltv',\n 'PERFORM_CNS.SCORE.DESCRIPTION',\n 'VoterID_flag',\n 'PRI.OVERDUE.ACCTS',\n 'NO.OF_INQUIRIES',\n 'PRI.NO.OF.ACCTS',\n 'Age',\n 'Self_employed',\n 'PRI.CURRENT.BALANCE',\n 'PRIMARY.INSTAL.AMT',\n 'DELINQUENT.ACCTS.IN.LAST.SIX.MONTHS',\n 'Downpayment',\n 'PRI.ACTIVE.ACCTS',\n 'PRI.DISBURSED.AMOUNT',\n 'SEC.CURRENT.BALANCE',\n 'AVERAGE.ACCT.AGE',\n 'CREDIT.HISTORY.LENGTH',\n 'PRI.SANCTIONED.AMOUNT',\n 'Aadhar_flag',\n 'Driving_flag',\n 'Passport_flag',\n 'PAN_flag']"
     },
     "metadata": {}
    }
   ]
  },
  {
   "cell_type": "code",
   "metadata": {
    "tags": [],
    "cell_id": "00021-1f0fde71-fa8a-416e-a59a-9dfa816cff0f",
    "deepnote_to_be_reexecuted": true,
    "source_hash": "b623e53d",
    "deepnote_cell_type": "code"
   },
   "source": "",
   "execution_count": null,
   "outputs": []
  },
  {
   "cell_type": "markdown",
   "source": "<a style='text-decoration:none;line-height:16px;display:flex;color:#5B5B62;padding:10px;justify-content:end;' href='https://deepnote.com?utm_source=created-in-deepnote-cell&projectId=85463a1c-f246-4a97-953d-d1ccc73b61e9' target=\"_blank\">\n<img alt='Created in deepnote.com' style='display:inline;max-height:16px;margin:0px;margin-right:7.5px;' src='data:image/svg+xml;base64,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' > </img>\nCreated in <span style='font-weight:600;margin-left:4px;'>Deepnote</span></a>",
   "metadata": {
    "tags": [],
    "created_in_deepnote_cell": true,
    "deepnote_cell_type": "markdown"
   }
  }
 ],
 "nbformat": 4,
 "nbformat_minor": 2,
 "metadata": {
  "orig_nbformat": 2,
  "deepnote": {
   "is_reactive": false
  },
  "deepnote_notebook_id": "74dae381-97b9-4b81-a923-badcfdf4729a",
  "deepnote_execution_queue": []
 }
}